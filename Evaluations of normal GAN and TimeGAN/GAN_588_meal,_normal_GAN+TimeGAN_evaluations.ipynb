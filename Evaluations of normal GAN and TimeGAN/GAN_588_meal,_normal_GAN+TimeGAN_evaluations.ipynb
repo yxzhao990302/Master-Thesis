{
  "cells": [
    {
      "cell_type": "code",
      "execution_count": null,
      "id": "6a1cd663-ce3a-4fa6-b032-274843aa106c",
      "metadata": {
        "id": "6a1cd663-ce3a-4fa6-b032-274843aa106c"
      },
      "outputs": [],
      "source": [
        "# train a generative adversarial network on a one-dimensional function\n",
        "import pandas as pd\n",
        "from numpy import hstack\n",
        "import numpy as np\n",
        "from datetime import datetime\n",
        "from numpy import zeros\n",
        "from numpy import ones\n",
        "import random\n",
        "from numpy.random import rand\n",
        "from numpy.random import randn\n",
        "from keras.models import Sequential\n",
        "from keras import Input\n",
        "from keras.layers import Dense, Conv1D, LeakyReLU, Reshape, UpSampling1D\n",
        "from keras.optimizers import Adam\n",
        "from matplotlib import pyplot\n",
        "import matplotlib.pyplot as plt \n",
        "from tqdm import tqdm\n",
        "from tensorflow import keras\n",
        "from keras.models import save_model, load_model\n",
        "from statistics import mean, variance, pstdev\n",
        "from sklearn.preprocessing import MinMaxScaler\n",
        "from statistics import mean, variance, pstdev\n",
        "from scipy.spatial import distance\n",
        "from scipy.stats import wilcoxon\n",
        "from collections import defaultdict\n",
        "from PIL import Image\n",
        "import seaborn as sns\n",
        "from sklearn import svm, metrics\n",
        "from dtaidistance import dtw"
      ]
    },
    {
      "cell_type": "code",
      "source": [
        "! pip install dtaidistance"
      ],
      "metadata": {
        "colab": {
          "base_uri": "https://localhost:8080/"
        },
        "id": "tgaGa6y8HDFr",
        "outputId": "c0d95400-a67c-46e5-a955-21d6a121bc30"
      },
      "id": "tgaGa6y8HDFr",
      "execution_count": null,
      "outputs": [
        {
          "output_type": "stream",
          "name": "stdout",
          "text": [
            "Looking in indexes: https://pypi.org/simple, https://us-python.pkg.dev/colab-wheels/public/simple/\n",
            "Collecting dtaidistance\n",
            "  Downloading dtaidistance-2.3.10-cp310-cp310-manylinux_2_17_x86_64.manylinux2014_x86_64.whl (2.4 MB)\n",
            "\u001b[2K     \u001b[90m━━━━━━━━━━━━━━━━━━━━━━━━━━━━━━━━━━━━━━━━\u001b[0m \u001b[32m2.4/2.4 MB\u001b[0m \u001b[31m25.1 MB/s\u001b[0m eta \u001b[36m0:00:00\u001b[0m\n",
            "\u001b[?25hRequirement already satisfied: numpy in /usr/local/lib/python3.10/dist-packages (from dtaidistance) (1.22.4)\n",
            "Installing collected packages: dtaidistance\n",
            "Successfully installed dtaidistance-2.3.10\n"
          ]
        }
      ]
    },
    {
      "cell_type": "code",
      "source": [
        "from google.colab import drive\n",
        "\n",
        "drive.mount('/content/drive')"
      ],
      "metadata": {
        "colab": {
          "base_uri": "https://localhost:8080/"
        },
        "id": "J-wRkyVB-ZTu",
        "outputId": "8aeaf3d7-cb1d-4bcf-ff80-5779f73151a7"
      },
      "id": "J-wRkyVB-ZTu",
      "execution_count": null,
      "outputs": [
        {
          "output_type": "stream",
          "name": "stdout",
          "text": [
            "Mounted at /content/drive\n"
          ]
        }
      ]
    },
    {
      "cell_type": "code",
      "execution_count": null,
      "id": "b857585e-6da2-4ba6-ae42-7619672cf9e7",
      "metadata": {
        "id": "b857585e-6da2-4ba6-ae42-7619672cf9e7"
      },
      "outputs": [],
      "source": [
        "LENGTH_INPUT = 288\n",
        "latent_dim = 500"
      ]
    },
    {
      "cell_type": "markdown",
      "id": "88ea179b-736e-409f-a40d-84b3910af564",
      "metadata": {
        "id": "88ea179b-736e-409f-a40d-84b3910af564"
      },
      "source": [
        "# Prepare training data"
      ]
    },
    {
      "cell_type": "code",
      "execution_count": null,
      "id": "aa56387d-d5d5-4dba-8e90-c8e8086e73a2",
      "metadata": {
        "id": "aa56387d-d5d5-4dba-8e90-c8e8086e73a2"
      },
      "outputs": [],
      "source": [
        "df_588 =  pd.read_csv('/content/drive/MyDrive/Thesis/processed data/588.csv')"
      ]
    },
    {
      "cell_type": "code",
      "execution_count": null,
      "id": "98e176ab-1bed-4e88-8775-288291f4f545",
      "metadata": {
        "id": "98e176ab-1bed-4e88-8775-288291f4f545"
      },
      "outputs": [],
      "source": [
        "df_588['time'] = pd.to_datetime(df_588['time'], dayfirst=True)"
      ]
    },
    {
      "cell_type": "code",
      "execution_count": null,
      "id": "e3d1c33b-21a3-4e2e-8b22-8dee1b477e14",
      "metadata": {
        "id": "e3d1c33b-21a3-4e2e-8b22-8dee1b477e14"
      },
      "outputs": [],
      "source": [
        "df_588['date'] = df_588['time'].apply(lambda x: x.date())\n",
        "dates = df_588['date'].unique()\n",
        "meal_588 = []\n",
        "for date in dates:\n",
        "    meal_588.append(df_588[df_588['date'] == date]['meal_value'].values)"
      ]
    },
    {
      "cell_type": "code",
      "source": [
        "scaler = MinMaxScaler().fit(meal_588)\n",
        "meal_588 = scaler.transform(meal_588)"
      ],
      "metadata": {
        "id": "JqHy8TStAN9u"
      },
      "id": "JqHy8TStAN9u",
      "execution_count": null,
      "outputs": []
    },
    {
      "cell_type": "code",
      "execution_count": null,
      "id": "4b49b5ca-8628-41f6-8a57-6c0cd025831b",
      "metadata": {
        "id": "4b49b5ca-8628-41f6-8a57-6c0cd025831b"
      },
      "outputs": [],
      "source": [
        "meal_588 = np.array(meal_588)\n",
        "y = ones((55, 1))"
      ]
    },
    {
      "cell_type": "code",
      "source": [
        "meal_588.shape"
      ],
      "metadata": {
        "colab": {
          "base_uri": "https://localhost:8080/"
        },
        "id": "0gV-rRzJ4A6A",
        "outputId": "02bb493b-f343-4a45-c3e9-de7327b922c2"
      },
      "id": "0gV-rRzJ4A6A",
      "execution_count": null,
      "outputs": [
        {
          "output_type": "execute_result",
          "data": {
            "text/plain": [
              "(55, 288)"
            ]
          },
          "metadata": {},
          "execution_count": 9
        }
      ]
    },
    {
      "cell_type": "markdown",
      "id": "c0bf7b7b-097e-4379-bc3c-76bd04d57b25",
      "metadata": {
        "id": "c0bf7b7b-097e-4379-bc3c-76bd04d57b25"
      },
      "source": [
        "# Model Architecture"
      ]
    },
    {
      "cell_type": "code",
      "execution_count": null,
      "id": "a9e75e84-1cd4-43f1-aca8-b6e6f6022304",
      "metadata": {
        "id": "a9e75e84-1cd4-43f1-aca8-b6e6f6022304"
      },
      "outputs": [],
      "source": [
        "# define the standalone discriminator model\n",
        "def define_discriminator():\n",
        "    model = Sequential()\n",
        "    \n",
        "    # Dense layer\n",
        "    model.add(Dense(1, input_shape=(288,1)))\n",
        "    model.add(LeakyReLU())\n",
        "    \n",
        "    # Convolutional layer with LeakyReLU activation\n",
        "    model.add(Conv1D(32, kernel_size=4, strides=2, padding='same'))\n",
        "    model.add(LeakyReLU())\n",
        "\n",
        "    # Convolutional layer with LeakyReLU activation\n",
        "    model.add(Conv1D(32, kernel_size=2, strides=2, padding='same'))\n",
        "    model.add(LeakyReLU())\n",
        "    \n",
        "    # Reshape layer\n",
        "    model.add(Reshape((2304,)))\n",
        "    \n",
        "    # Dense layer\n",
        "    model.add(Dense(1, activation='sigmoid'))\n",
        "\n",
        "    opt = Adam(learning_rate=0.0001)\n",
        "    # compile model\n",
        "    model.compile(loss='binary_crossentropy', optimizer=opt, metrics=['accuracy'])\n",
        "    return model"
      ]
    },
    {
      "cell_type": "code",
      "execution_count": null,
      "id": "099c6ec7-5225-4957-bdfc-e5032cd688fd",
      "metadata": {
        "id": "099c6ec7-5225-4957-bdfc-e5032cd688fd"
      },
      "outputs": [],
      "source": [
        "# define the standalone generator model\n",
        "def define_generator():\n",
        "    model = Sequential()\n",
        "    \n",
        "    # Dense layer\n",
        "    model.add(Dense(3600, input_shape=(latent_dim,)))\n",
        "    model.add(LeakyReLU())\n",
        "    \n",
        "    # Reshape layer\n",
        "    model.add(Reshape((72, 50)))\n",
        "    \n",
        "    # Upsampling layer\n",
        "    model.add(UpSampling1D(size=4))\n",
        "    \n",
        "    # Convolutional layer\n",
        "    model.add(Conv1D(filters=32, kernel_size=2, strides=2, padding='same'))\n",
        "    \n",
        "    # Upsampling layer\n",
        "    model.add(UpSampling1D(size=4))\n",
        "    \n",
        "    # Convolutional layer + leaky relu layer\n",
        "    model.add(Conv1D(filters=32, kernel_size=2, strides=2, padding='same'))\n",
        "    model.add(LeakyReLU())\n",
        "    \n",
        "    # Convolutional layer\n",
        "    model.add(Conv1D(filters=1, kernel_size=1, padding='same'))\n",
        "    \n",
        "    model.compile(optimizer='adam')\n",
        "\n",
        "    return model"
      ]
    },
    {
      "cell_type": "code",
      "execution_count": null,
      "id": "953d1808-87ed-407a-8b83-de4d5691df1c",
      "metadata": {
        "id": "953d1808-87ed-407a-8b83-de4d5691df1c"
      },
      "outputs": [],
      "source": [
        "# define the combined generator and discriminator model, for updating the generator\n",
        "def define_gan(generator, discriminator):\n",
        "    # make weights in the discriminator not trainable\n",
        "    discriminator.trainable = False\n",
        "    # connect them\n",
        "    model = Sequential()\n",
        "    model.add(generator)\n",
        "    model.add(discriminator)\n",
        "    opt = Adam(learning_rate=0.0001)\n",
        "    model.compile(loss='binary_crossentropy', optimizer=opt)\n",
        "    return model"
      ]
    },
    {
      "cell_type": "code",
      "execution_count": null,
      "id": "1fcfbcc5-28a1-4324-8fcd-0624f54ef54e",
      "metadata": {
        "id": "1fcfbcc5-28a1-4324-8fcd-0624f54ef54e"
      },
      "outputs": [],
      "source": [
        "# generate points in latent space as input for the generator\n",
        "def generate_latent_points(n):\n",
        "    # generate points in the latent space from the normal distribution\n",
        "    x_input = np.random.normal(size = latent_dim * n)\n",
        "    # reshape into a batch of inputs for the network\n",
        "    x_input = x_input.reshape(n, latent_dim)\n",
        "\n",
        "    return x_input"
      ]
    },
    {
      "cell_type": "code",
      "execution_count": null,
      "id": "7108a5fc-2e71-4530-b6e6-8769f4f165bb",
      "metadata": {
        "id": "7108a5fc-2e71-4530-b6e6-8769f4f165bb"
      },
      "outputs": [],
      "source": [
        "# use the generator to generate n fake examples, with class labels\n",
        "def generate_fake_samples(generator, n):\n",
        "    # generate points in latent space\n",
        "    x_input = generate_latent_points(n)\n",
        "    # predict outputs\n",
        "    X = generator.predict(x_input, verbose=0)\n",
        "    # create class labels\n",
        "    y = zeros((n, 1))\n",
        "\n",
        "    return X, y"
      ]
    },
    {
      "cell_type": "code",
      "execution_count": null,
      "id": "a92cef4f-9d76-4681-b7ca-c19bd10a302c",
      "metadata": {
        "id": "a92cef4f-9d76-4681-b7ca-c19bd10a302c"
      },
      "outputs": [],
      "source": [
        "# train the generator and discriminator\n",
        "def train(g_model, d_model, gan_model, latent_dim, n_epochs=10000, n_batch=55, n_eval=100):\n",
        "    d_loss_list = []\n",
        "    g_loss_list = []\n",
        "    # determine half the size of one batch, for updating the discriminator\n",
        "    half_batch = int(n_batch / 2)+1\n",
        "    \n",
        "    # manually enumerate epochs\n",
        "    for i in tqdm(range(n_epochs)):\n",
        "        \n",
        "        # prepare real samples\n",
        "        rand_index = random.sample(range(0,55), 28)\n",
        "        x_real, y_real = meal_588[rand_index], y[rand_index]\n",
        "        # prepare fake examples\n",
        "        x_fake, y_fake = generate_fake_samples(g_model, half_batch)\n",
        "        \n",
        "        # update discriminator\n",
        "        d_loss_real = d_model.train_on_batch(x_real, y_real)\n",
        "        d_loss_fake = d_model.train_on_batch(x_fake, y_fake)\n",
        "        # average of d_loss_real and d_loss_fake\n",
        "        d_loss = 0.5 * np.add(d_loss_real, d_loss_fake)\n",
        "        d_loss_list.append(d_loss)\n",
        "        #print(d_loss[0])\n",
        "\n",
        "        # prepare points in latent space as input for the generator\n",
        "        #for _ in range(4):\n",
        "        x_gan = generate_latent_points(n_batch)\n",
        "        # create inverted labels for the fake samples\n",
        "        y_gan = ones((n_batch, 1))\n",
        "        # update the generator via the discriminator's error\n",
        "        g_loss = gan_model.train_on_batch(x_gan, y_gan)\n",
        "        g_loss_list.append(g_loss)\n",
        "        \n",
        "       \n",
        "        # evaluate the model every n_eval epochs\n",
        "        if (i+1) % n_eval == 0:\n",
        "            generator.save_weights('/content/drive/MyDrive/Thesis/model/normal_gan/588_meal_0.0005/generator_weights_%d.h5' %(i+1))\n",
        "            print (\"%d [D loss: %f, acc.: %.2f%%] [G loss: %f]\" % (i, d_loss[0], 100*d_loss[1], g_loss))"
      ]
    },
    {
      "cell_type": "code",
      "execution_count": null,
      "id": "ce93ac09-c4d5-41bd-bf88-f89573ab09b6",
      "metadata": {
        "colab": {
          "base_uri": "https://localhost:8080/"
        },
        "id": "ce93ac09-c4d5-41bd-bf88-f89573ab09b6",
        "outputId": "a6995ebe-54f0-4728-c6af-0e75602d929b"
      },
      "outputs": [
        {
          "output_type": "stream",
          "name": "stdout",
          "text": [
            "Model: \"sequential\"\n",
            "_________________________________________________________________\n",
            " Layer (type)                Output Shape              Param #   \n",
            "=================================================================\n",
            " dense (Dense)               (None, 288, 1)            2         \n",
            "                                                                 \n",
            " leaky_re_lu (LeakyReLU)     (None, 288, 1)            0         \n",
            "                                                                 \n",
            " conv1d (Conv1D)             (None, 144, 32)           160       \n",
            "                                                                 \n",
            " leaky_re_lu_1 (LeakyReLU)   (None, 144, 32)           0         \n",
            "                                                                 \n",
            " conv1d_1 (Conv1D)           (None, 72, 32)            2080      \n",
            "                                                                 \n",
            " leaky_re_lu_2 (LeakyReLU)   (None, 72, 32)            0         \n",
            "                                                                 \n",
            " reshape (Reshape)           (None, 2304)              0         \n",
            "                                                                 \n",
            " dense_1 (Dense)             (None, 1)                 2305      \n",
            "                                                                 \n",
            "=================================================================\n",
            "Total params: 4,547\n",
            "Trainable params: 4,547\n",
            "Non-trainable params: 0\n",
            "_________________________________________________________________\n"
          ]
        }
      ],
      "source": [
        "discriminator = define_discriminator()\n",
        "discriminator.summary()"
      ]
    },
    {
      "cell_type": "code",
      "execution_count": null,
      "id": "aa724642-eb06-4e82-8660-14c835a5f8dc",
      "metadata": {
        "id": "aa724642-eb06-4e82-8660-14c835a5f8dc",
        "outputId": "9ce00aef-c938-41ea-ed8e-26c32abd8e03",
        "colab": {
          "base_uri": "https://localhost:8080/"
        }
      },
      "outputs": [
        {
          "output_type": "stream",
          "name": "stdout",
          "text": [
            "Model: \"sequential_1\"\n",
            "_________________________________________________________________\n",
            " Layer (type)                Output Shape              Param #   \n",
            "=================================================================\n",
            " dense_2 (Dense)             (None, 3600)              1803600   \n",
            "                                                                 \n",
            " leaky_re_lu_3 (LeakyReLU)   (None, 3600)              0         \n",
            "                                                                 \n",
            " reshape_1 (Reshape)         (None, 72, 50)            0         \n",
            "                                                                 \n",
            " up_sampling1d (UpSampling1D  (None, 288, 50)          0         \n",
            " )                                                               \n",
            "                                                                 \n",
            " conv1d_2 (Conv1D)           (None, 144, 32)           3232      \n",
            "                                                                 \n",
            " up_sampling1d_1 (UpSampling  (None, 576, 32)          0         \n",
            " 1D)                                                             \n",
            "                                                                 \n",
            " conv1d_3 (Conv1D)           (None, 288, 32)           2080      \n",
            "                                                                 \n",
            " leaky_re_lu_4 (LeakyReLU)   (None, 288, 32)           0         \n",
            "                                                                 \n",
            " conv1d_4 (Conv1D)           (None, 288, 1)            33        \n",
            "                                                                 \n",
            "=================================================================\n",
            "Total params: 1,808,945\n",
            "Trainable params: 1,808,945\n",
            "Non-trainable params: 0\n",
            "_________________________________________________________________\n"
          ]
        }
      ],
      "source": [
        "generator = define_generator()\n",
        "generator.summary()"
      ]
    },
    {
      "cell_type": "code",
      "execution_count": null,
      "id": "8c239002-60c4-4b63-8dae-793783b71777",
      "metadata": {
        "id": "8c239002-60c4-4b63-8dae-793783b71777",
        "outputId": "2d20ebe3-0b0d-4a9c-95d2-ea6561e0d5f0",
        "colab": {
          "base_uri": "https://localhost:8080/"
        }
      },
      "outputs": [
        {
          "output_type": "stream",
          "name": "stderr",
          "text": [
            "  1%|          | 101/10000 [00:13<38:34,  4.28it/s]"
          ]
        },
        {
          "output_type": "stream",
          "name": "stdout",
          "text": [
            "99 [D loss: 0.649132, acc.: 91.07%] [G loss: 0.776009]\n"
          ]
        },
        {
          "output_type": "stream",
          "name": "stderr",
          "text": [
            "  2%|▏         | 201/10000 [00:23<29:47,  5.48it/s]"
          ]
        },
        {
          "output_type": "stream",
          "name": "stdout",
          "text": [
            "199 [D loss: 0.627750, acc.: 100.00%] [G loss: 0.763779]\n"
          ]
        },
        {
          "output_type": "stream",
          "name": "stderr",
          "text": [
            "  3%|▎         | 302/10000 [00:33<27:22,  5.91it/s]"
          ]
        },
        {
          "output_type": "stream",
          "name": "stdout",
          "text": [
            "299 [D loss: 0.613097, acc.: 100.00%] [G loss: 0.763349]\n"
          ]
        },
        {
          "output_type": "stream",
          "name": "stderr",
          "text": [
            "  4%|▍         | 400/10000 [00:44<27:28,  5.83it/s]"
          ]
        },
        {
          "output_type": "stream",
          "name": "stdout",
          "text": [
            "399 [D loss: 0.598414, acc.: 100.00%] [G loss: 0.747901]\n"
          ]
        },
        {
          "output_type": "stream",
          "name": "stderr",
          "text": [
            "  5%|▌         | 501/10000 [00:55<27:04,  5.85it/s]"
          ]
        },
        {
          "output_type": "stream",
          "name": "stdout",
          "text": [
            "499 [D loss: 0.588439, acc.: 100.00%] [G loss: 0.730969]\n"
          ]
        },
        {
          "output_type": "stream",
          "name": "stderr",
          "text": [
            "  6%|▌         | 601/10000 [01:04<37:49,  4.14it/s]"
          ]
        },
        {
          "output_type": "stream",
          "name": "stdout",
          "text": [
            "599 [D loss: 0.579554, acc.: 82.14%] [G loss: 0.719898]\n"
          ]
        },
        {
          "output_type": "stream",
          "name": "stderr",
          "text": [
            "  7%|▋         | 701/10000 [01:14<28:45,  5.39it/s]"
          ]
        },
        {
          "output_type": "stream",
          "name": "stdout",
          "text": [
            "699 [D loss: 0.556831, acc.: 98.21%] [G loss: 0.821313]\n"
          ]
        },
        {
          "output_type": "stream",
          "name": "stderr",
          "text": [
            "  8%|▊         | 802/10000 [01:25<22:55,  6.69it/s]"
          ]
        },
        {
          "output_type": "stream",
          "name": "stdout",
          "text": [
            "799 [D loss: 0.515640, acc.: 100.00%] [G loss: 0.882006]\n"
          ]
        },
        {
          "output_type": "stream",
          "name": "stderr",
          "text": [
            "  9%|▉         | 901/10000 [01:37<34:15,  4.43it/s]"
          ]
        },
        {
          "output_type": "stream",
          "name": "stdout",
          "text": [
            "899 [D loss: 0.488751, acc.: 100.00%] [G loss: 0.865979]\n"
          ]
        },
        {
          "output_type": "stream",
          "name": "stderr",
          "text": [
            " 10%|█         | 1001/10000 [01:48<28:42,  5.22it/s]"
          ]
        },
        {
          "output_type": "stream",
          "name": "stdout",
          "text": [
            "999 [D loss: 0.420614, acc.: 100.00%] [G loss: 0.981048]\n"
          ]
        },
        {
          "output_type": "stream",
          "name": "stderr",
          "text": [
            " 11%|█         | 1101/10000 [01:58<39:14,  3.78it/s]"
          ]
        },
        {
          "output_type": "stream",
          "name": "stdout",
          "text": [
            "1099 [D loss: 0.394263, acc.: 98.21%] [G loss: 1.071319]\n"
          ]
        },
        {
          "output_type": "stream",
          "name": "stderr",
          "text": [
            " 12%|█▏        | 1201/10000 [02:08<27:58,  5.24it/s]"
          ]
        },
        {
          "output_type": "stream",
          "name": "stdout",
          "text": [
            "1199 [D loss: 0.299998, acc.: 100.00%] [G loss: 1.407572]\n"
          ]
        },
        {
          "output_type": "stream",
          "name": "stderr",
          "text": [
            " 13%|█▎        | 1301/10000 [02:19<26:30,  5.47it/s]"
          ]
        },
        {
          "output_type": "stream",
          "name": "stdout",
          "text": [
            "1299 [D loss: 0.284916, acc.: 100.00%] [G loss: 1.350196]\n"
          ]
        },
        {
          "output_type": "stream",
          "name": "stderr",
          "text": [
            " 14%|█▍        | 1402/10000 [02:29<21:19,  6.72it/s]"
          ]
        },
        {
          "output_type": "stream",
          "name": "stdout",
          "text": [
            "1399 [D loss: 0.246112, acc.: 100.00%] [G loss: 1.464426]\n"
          ]
        },
        {
          "output_type": "stream",
          "name": "stderr",
          "text": [
            " 15%|█▌        | 1502/10000 [02:40<29:21,  4.82it/s]"
          ]
        },
        {
          "output_type": "stream",
          "name": "stdout",
          "text": [
            "1499 [D loss: 0.193122, acc.: 100.00%] [G loss: 1.697802]\n"
          ]
        },
        {
          "output_type": "stream",
          "name": "stderr",
          "text": [
            " 16%|█▌        | 1602/10000 [02:49<21:00,  6.66it/s]"
          ]
        },
        {
          "output_type": "stream",
          "name": "stdout",
          "text": [
            "1599 [D loss: 0.165968, acc.: 100.00%] [G loss: 1.780186]\n"
          ]
        },
        {
          "output_type": "stream",
          "name": "stderr",
          "text": [
            " 17%|█▋        | 1701/10000 [02:59<23:53,  5.79it/s]"
          ]
        },
        {
          "output_type": "stream",
          "name": "stdout",
          "text": [
            "1699 [D loss: 0.163629, acc.: 100.00%] [G loss: 2.112105]\n"
          ]
        },
        {
          "output_type": "stream",
          "name": "stderr",
          "text": [
            " 18%|█▊        | 1802/10000 [03:10<21:30,  6.35it/s]"
          ]
        },
        {
          "output_type": "stream",
          "name": "stdout",
          "text": [
            "1799 [D loss: 0.112715, acc.: 100.00%] [G loss: 2.274850]\n"
          ]
        },
        {
          "output_type": "stream",
          "name": "stderr",
          "text": [
            " 19%|█▉        | 1901/10000 [03:23<27:05,  4.98it/s]"
          ]
        },
        {
          "output_type": "stream",
          "name": "stdout",
          "text": [
            "1899 [D loss: 0.113846, acc.: 100.00%] [G loss: 2.220710]\n"
          ]
        },
        {
          "output_type": "stream",
          "name": "stderr",
          "text": [
            " 20%|██        | 2002/10000 [03:34<25:09,  5.30it/s]"
          ]
        },
        {
          "output_type": "stream",
          "name": "stdout",
          "text": [
            "1999 [D loss: 0.091311, acc.: 100.00%] [G loss: 2.391658]\n"
          ]
        },
        {
          "output_type": "stream",
          "name": "stderr",
          "text": [
            " 21%|██        | 2101/10000 [03:43<23:06,  5.70it/s]"
          ]
        },
        {
          "output_type": "stream",
          "name": "stdout",
          "text": [
            "2099 [D loss: 0.067419, acc.: 100.00%] [G loss: 2.656467]\n"
          ]
        },
        {
          "output_type": "stream",
          "name": "stderr",
          "text": [
            " 22%|██▏       | 2201/10000 [03:54<12:22, 10.51it/s]"
          ]
        },
        {
          "output_type": "stream",
          "name": "stdout",
          "text": [
            "2199 [D loss: 0.050851, acc.: 100.00%] [G loss: 2.890532]\n"
          ]
        },
        {
          "output_type": "stream",
          "name": "stderr",
          "text": [
            " 23%|██▎       | 2302/10000 [04:05<19:42,  6.51it/s]"
          ]
        },
        {
          "output_type": "stream",
          "name": "stdout",
          "text": [
            "2299 [D loss: 0.047314, acc.: 100.00%] [G loss: 3.086319]\n"
          ]
        },
        {
          "output_type": "stream",
          "name": "stderr",
          "text": [
            " 24%|██▍       | 2402/10000 [04:16<22:32,  5.62it/s]"
          ]
        },
        {
          "output_type": "stream",
          "name": "stdout",
          "text": [
            "2399 [D loss: 0.042417, acc.: 100.00%] [G loss: 3.538447]\n"
          ]
        },
        {
          "output_type": "stream",
          "name": "stderr",
          "text": [
            " 25%|██▌       | 2501/10000 [04:25<23:17,  5.36it/s]"
          ]
        },
        {
          "output_type": "stream",
          "name": "stdout",
          "text": [
            "2499 [D loss: 0.031774, acc.: 100.00%] [G loss: 3.791343]\n"
          ]
        },
        {
          "output_type": "stream",
          "name": "stderr",
          "text": [
            " 26%|██▌       | 2601/10000 [04:36<26:41,  4.62it/s]"
          ]
        },
        {
          "output_type": "stream",
          "name": "stdout",
          "text": [
            "2599 [D loss: 0.031763, acc.: 100.00%] [G loss: 3.458320]\n"
          ]
        },
        {
          "output_type": "stream",
          "name": "stderr",
          "text": [
            " 27%|██▋       | 2701/10000 [04:46<22:16,  5.46it/s]"
          ]
        },
        {
          "output_type": "stream",
          "name": "stdout",
          "text": [
            "2699 [D loss: 0.031037, acc.: 100.00%] [G loss: 3.624371]\n"
          ]
        },
        {
          "output_type": "stream",
          "name": "stderr",
          "text": [
            " 28%|██▊       | 2801/10000 [04:57<23:27,  5.11it/s]"
          ]
        },
        {
          "output_type": "stream",
          "name": "stdout",
          "text": [
            "2799 [D loss: 0.021072, acc.: 100.00%] [G loss: 3.895294]\n"
          ]
        },
        {
          "output_type": "stream",
          "name": "stderr",
          "text": [
            " 29%|██▉       | 2901/10000 [05:09<22:49,  5.18it/s]"
          ]
        },
        {
          "output_type": "stream",
          "name": "stdout",
          "text": [
            "2899 [D loss: 0.017910, acc.: 100.00%] [G loss: 4.038572]\n"
          ]
        },
        {
          "output_type": "stream",
          "name": "stderr",
          "text": [
            " 30%|███       | 3001/10000 [05:19<27:04,  4.31it/s]"
          ]
        },
        {
          "output_type": "stream",
          "name": "stdout",
          "text": [
            "2999 [D loss: 0.014140, acc.: 100.00%] [G loss: 4.243942]\n"
          ]
        },
        {
          "output_type": "stream",
          "name": "stderr",
          "text": [
            " 31%|███       | 3101/10000 [05:29<21:21,  5.38it/s]"
          ]
        },
        {
          "output_type": "stream",
          "name": "stdout",
          "text": [
            "3099 [D loss: 0.013387, acc.: 100.00%] [G loss: 4.349516]\n"
          ]
        },
        {
          "output_type": "stream",
          "name": "stderr",
          "text": [
            " 32%|███▏      | 3201/10000 [05:39<10:45, 10.54it/s]"
          ]
        },
        {
          "output_type": "stream",
          "name": "stdout",
          "text": [
            "3199 [D loss: 0.010591, acc.: 100.00%] [G loss: 4.454426]\n"
          ]
        },
        {
          "output_type": "stream",
          "name": "stderr",
          "text": [
            " 33%|███▎      | 3301/10000 [05:49<20:31,  5.44it/s]"
          ]
        },
        {
          "output_type": "stream",
          "name": "stdout",
          "text": [
            "3299 [D loss: 0.008857, acc.: 100.00%] [G loss: 4.587350]\n"
          ]
        },
        {
          "output_type": "stream",
          "name": "stderr",
          "text": [
            " 34%|███▍      | 3401/10000 [05:59<25:42,  4.28it/s]"
          ]
        },
        {
          "output_type": "stream",
          "name": "stdout",
          "text": [
            "3399 [D loss: 0.008147, acc.: 100.00%] [G loss: 4.722978]\n"
          ]
        },
        {
          "output_type": "stream",
          "name": "stderr",
          "text": [
            " 35%|███▌      | 3501/10000 [06:09<20:26,  5.30it/s]"
          ]
        },
        {
          "output_type": "stream",
          "name": "stdout",
          "text": [
            "3499 [D loss: 0.007130, acc.: 100.00%] [G loss: 4.976566]\n"
          ]
        },
        {
          "output_type": "stream",
          "name": "stderr",
          "text": [
            " 36%|███▌      | 3601/10000 [06:20<20:12,  5.28it/s]"
          ]
        },
        {
          "output_type": "stream",
          "name": "stdout",
          "text": [
            "3599 [D loss: 0.006150, acc.: 100.00%] [G loss: 5.004748]\n"
          ]
        },
        {
          "output_type": "stream",
          "name": "stderr",
          "text": [
            " 37%|███▋      | 3702/10000 [06:30<15:38,  6.71it/s]"
          ]
        },
        {
          "output_type": "stream",
          "name": "stdout",
          "text": [
            "3699 [D loss: 0.004861, acc.: 100.00%] [G loss: 5.190018]\n"
          ]
        },
        {
          "output_type": "stream",
          "name": "stderr",
          "text": [
            " 38%|███▊      | 3801/10000 [06:41<29:44,  3.47it/s]"
          ]
        },
        {
          "output_type": "stream",
          "name": "stdout",
          "text": [
            "3799 [D loss: 0.004342, acc.: 100.00%] [G loss: 5.339556]\n"
          ]
        },
        {
          "output_type": "stream",
          "name": "stderr",
          "text": [
            " 39%|███▉      | 3901/10000 [06:52<26:25,  3.85it/s]"
          ]
        },
        {
          "output_type": "stream",
          "name": "stdout",
          "text": [
            "3899 [D loss: 0.004283, acc.: 100.00%] [G loss: 5.528025]\n"
          ]
        },
        {
          "output_type": "stream",
          "name": "stderr",
          "text": [
            " 40%|████      | 4001/10000 [07:02<17:12,  5.81it/s]"
          ]
        },
        {
          "output_type": "stream",
          "name": "stdout",
          "text": [
            "3999 [D loss: 0.003199, acc.: 100.00%] [G loss: 5.662971]\n"
          ]
        },
        {
          "output_type": "stream",
          "name": "stderr",
          "text": [
            " 41%|████      | 4102/10000 [07:13<14:47,  6.64it/s]"
          ]
        },
        {
          "output_type": "stream",
          "name": "stdout",
          "text": [
            "4099 [D loss: 0.003129, acc.: 100.00%] [G loss: 5.755964]\n"
          ]
        },
        {
          "output_type": "stream",
          "name": "stderr",
          "text": [
            " 42%|████▏     | 4201/10000 [07:24<17:47,  5.43it/s]"
          ]
        },
        {
          "output_type": "stream",
          "name": "stdout",
          "text": [
            "4199 [D loss: 0.003313, acc.: 100.00%] [G loss: 5.808710]\n"
          ]
        },
        {
          "output_type": "stream",
          "name": "stderr",
          "text": [
            " 43%|████▎     | 4302/10000 [07:36<20:45,  4.58it/s]"
          ]
        },
        {
          "output_type": "stream",
          "name": "stdout",
          "text": [
            "4299 [D loss: 0.003003, acc.: 100.00%] [G loss: 6.018493]\n"
          ]
        },
        {
          "output_type": "stream",
          "name": "stderr",
          "text": [
            " 44%|████▍     | 4401/10000 [07:46<16:13,  5.75it/s]"
          ]
        },
        {
          "output_type": "stream",
          "name": "stdout",
          "text": [
            "4399 [D loss: 0.002190, acc.: 100.00%] [G loss: 6.157256]\n"
          ]
        },
        {
          "output_type": "stream",
          "name": "stderr",
          "text": [
            " 45%|████▌     | 4501/10000 [07:57<18:11,  5.04it/s]"
          ]
        },
        {
          "output_type": "stream",
          "name": "stdout",
          "text": [
            "4499 [D loss: 0.001818, acc.: 100.00%] [G loss: 6.389044]\n"
          ]
        },
        {
          "output_type": "stream",
          "name": "stderr",
          "text": [
            " 46%|████▌     | 4602/10000 [08:09<13:52,  6.49it/s]"
          ]
        },
        {
          "output_type": "stream",
          "name": "stdout",
          "text": [
            "4599 [D loss: 0.001493, acc.: 100.00%] [G loss: 6.340373]\n"
          ]
        },
        {
          "output_type": "stream",
          "name": "stderr",
          "text": [
            " 47%|████▋     | 4702/10000 [08:20<15:06,  5.84it/s]"
          ]
        },
        {
          "output_type": "stream",
          "name": "stdout",
          "text": [
            "4699 [D loss: 0.001591, acc.: 100.00%] [G loss: 6.471057]\n"
          ]
        },
        {
          "output_type": "stream",
          "name": "stderr",
          "text": [
            " 48%|████▊     | 4801/10000 [08:31<25:42,  3.37it/s]"
          ]
        },
        {
          "output_type": "stream",
          "name": "stdout",
          "text": [
            "4799 [D loss: 0.001084, acc.: 100.00%] [G loss: 6.703439]\n"
          ]
        },
        {
          "output_type": "stream",
          "name": "stderr",
          "text": [
            " 49%|████▉     | 4901/10000 [08:41<14:50,  5.73it/s]"
          ]
        },
        {
          "output_type": "stream",
          "name": "stdout",
          "text": [
            "4899 [D loss: 0.001042, acc.: 100.00%] [G loss: 6.774207]\n"
          ]
        },
        {
          "output_type": "stream",
          "name": "stderr",
          "text": [
            " 50%|█████     | 5001/10000 [08:52<15:09,  5.50it/s]"
          ]
        },
        {
          "output_type": "stream",
          "name": "stdout",
          "text": [
            "4999 [D loss: 0.000825, acc.: 100.00%] [G loss: 7.030818]\n"
          ]
        },
        {
          "output_type": "stream",
          "name": "stderr",
          "text": [
            " 51%|█████     | 5102/10000 [09:03<12:54,  6.33it/s]"
          ]
        },
        {
          "output_type": "stream",
          "name": "stdout",
          "text": [
            "5099 [D loss: 0.000753, acc.: 100.00%] [G loss: 7.067760]\n"
          ]
        },
        {
          "output_type": "stream",
          "name": "stderr",
          "text": [
            " 52%|█████▏    | 5202/10000 [09:13<07:42, 10.37it/s]"
          ]
        },
        {
          "output_type": "stream",
          "name": "stdout",
          "text": [
            "5199 [D loss: 0.000701, acc.: 100.00%] [G loss: 7.199734]\n"
          ]
        },
        {
          "output_type": "stream",
          "name": "stderr",
          "text": [
            " 53%|█████▎    | 5301/10000 [09:23<17:21,  4.51it/s]"
          ]
        },
        {
          "output_type": "stream",
          "name": "stdout",
          "text": [
            "5299 [D loss: 0.000543, acc.: 100.00%] [G loss: 7.280462]\n"
          ]
        },
        {
          "output_type": "stream",
          "name": "stderr",
          "text": [
            " 54%|█████▍    | 5402/10000 [09:33<11:41,  6.55it/s]"
          ]
        },
        {
          "output_type": "stream",
          "name": "stdout",
          "text": [
            "5399 [D loss: 0.000556, acc.: 100.00%] [G loss: 7.435758]\n"
          ]
        },
        {
          "output_type": "stream",
          "name": "stderr",
          "text": [
            " 55%|█████▌    | 5501/10000 [09:44<12:57,  5.79it/s]"
          ]
        },
        {
          "output_type": "stream",
          "name": "stdout",
          "text": [
            "5499 [D loss: 0.000474, acc.: 100.00%] [G loss: 7.611731]\n"
          ]
        },
        {
          "output_type": "stream",
          "name": "stderr",
          "text": [
            " 56%|█████▌    | 5602/10000 [09:55<11:37,  6.30it/s]"
          ]
        },
        {
          "output_type": "stream",
          "name": "stdout",
          "text": [
            "5599 [D loss: 0.000382, acc.: 100.00%] [G loss: 7.700274]\n"
          ]
        },
        {
          "output_type": "stream",
          "name": "stderr",
          "text": [
            " 57%|█████▋    | 5702/10000 [10:05<15:32,  4.61it/s]"
          ]
        },
        {
          "output_type": "stream",
          "name": "stdout",
          "text": [
            "5699 [D loss: 0.000424, acc.: 100.00%] [G loss: 7.742917]\n"
          ]
        },
        {
          "output_type": "stream",
          "name": "stderr",
          "text": [
            " 58%|█████▊    | 5801/10000 [10:16<18:28,  3.79it/s]"
          ]
        },
        {
          "output_type": "stream",
          "name": "stdout",
          "text": [
            "5799 [D loss: 0.000350, acc.: 100.00%] [G loss: 7.740370]\n"
          ]
        },
        {
          "output_type": "stream",
          "name": "stderr",
          "text": [
            " 59%|█████▉    | 5902/10000 [10:27<10:51,  6.29it/s]"
          ]
        },
        {
          "output_type": "stream",
          "name": "stdout",
          "text": [
            "5899 [D loss: 0.000419, acc.: 100.00%] [G loss: 7.984623]\n"
          ]
        },
        {
          "output_type": "stream",
          "name": "stderr",
          "text": [
            " 60%|██████    | 6001/10000 [10:38<11:05,  6.00it/s]"
          ]
        },
        {
          "output_type": "stream",
          "name": "stdout",
          "text": [
            "5999 [D loss: 0.000319, acc.: 100.00%] [G loss: 8.113978]\n"
          ]
        },
        {
          "output_type": "stream",
          "name": "stderr",
          "text": [
            " 61%|██████    | 6101/10000 [10:48<11:48,  5.51it/s]"
          ]
        },
        {
          "output_type": "stream",
          "name": "stdout",
          "text": [
            "6099 [D loss: 0.000247, acc.: 100.00%] [G loss: 8.544721]\n"
          ]
        },
        {
          "output_type": "stream",
          "name": "stderr",
          "text": [
            " 62%|██████▏   | 6200/10000 [10:59<12:50,  4.93it/s]"
          ]
        },
        {
          "output_type": "stream",
          "name": "stdout",
          "text": [
            "6199 [D loss: 0.000233, acc.: 100.00%] [G loss: 8.625798]\n"
          ]
        },
        {
          "output_type": "stream",
          "name": "stderr",
          "text": [
            " 63%|██████▎   | 6301/10000 [11:09<11:08,  5.53it/s]"
          ]
        },
        {
          "output_type": "stream",
          "name": "stdout",
          "text": [
            "6299 [D loss: 0.000239, acc.: 100.00%] [G loss: 8.954489]\n"
          ]
        },
        {
          "output_type": "stream",
          "name": "stderr",
          "text": [
            " 64%|██████▍   | 6401/10000 [11:19<10:53,  5.51it/s]"
          ]
        },
        {
          "output_type": "stream",
          "name": "stdout",
          "text": [
            "6399 [D loss: 0.000163, acc.: 100.00%] [G loss: 8.950255]\n"
          ]
        },
        {
          "output_type": "stream",
          "name": "stderr",
          "text": [
            " 65%|██████▌   | 6501/10000 [11:30<09:52,  5.91it/s]"
          ]
        },
        {
          "output_type": "stream",
          "name": "stdout",
          "text": [
            "6499 [D loss: 0.000138, acc.: 100.00%] [G loss: 8.968006]\n"
          ]
        },
        {
          "output_type": "stream",
          "name": "stderr",
          "text": [
            " 66%|██████▌   | 6601/10000 [11:40<10:42,  5.29it/s]"
          ]
        },
        {
          "output_type": "stream",
          "name": "stdout",
          "text": [
            "6599 [D loss: 0.000132, acc.: 100.00%] [G loss: 8.969980]\n"
          ]
        },
        {
          "output_type": "stream",
          "name": "stderr",
          "text": [
            " 67%|██████▋   | 6702/10000 [11:52<10:07,  5.42it/s]"
          ]
        },
        {
          "output_type": "stream",
          "name": "stdout",
          "text": [
            "6699 [D loss: 0.000119, acc.: 100.00%] [G loss: 8.925816]\n"
          ]
        },
        {
          "output_type": "stream",
          "name": "stderr",
          "text": [
            " 68%|██████▊   | 6801/10000 [12:03<14:16,  3.73it/s]"
          ]
        },
        {
          "output_type": "stream",
          "name": "stdout",
          "text": [
            "6799 [D loss: 0.000101, acc.: 100.00%] [G loss: 9.040625]\n"
          ]
        },
        {
          "output_type": "stream",
          "name": "stderr",
          "text": [
            " 69%|██████▉   | 6902/10000 [12:14<07:42,  6.70it/s]"
          ]
        },
        {
          "output_type": "stream",
          "name": "stdout",
          "text": [
            "6899 [D loss: 0.000071, acc.: 100.00%] [G loss: 9.237035]\n"
          ]
        },
        {
          "output_type": "stream",
          "name": "stderr",
          "text": [
            " 70%|███████   | 7001/10000 [12:26<09:18,  5.37it/s]"
          ]
        },
        {
          "output_type": "stream",
          "name": "stdout",
          "text": [
            "6999 [D loss: 0.000083, acc.: 100.00%] [G loss: 9.425774]\n"
          ]
        },
        {
          "output_type": "stream",
          "name": "stderr",
          "text": [
            " 71%|███████   | 7101/10000 [12:37<08:09,  5.93it/s]"
          ]
        },
        {
          "output_type": "stream",
          "name": "stdout",
          "text": [
            "7099 [D loss: 0.000064, acc.: 100.00%] [G loss: 9.665400]\n"
          ]
        },
        {
          "output_type": "stream",
          "name": "stderr",
          "text": [
            " 72%|███████▏  | 7201/10000 [12:47<04:39, 10.01it/s]"
          ]
        },
        {
          "output_type": "stream",
          "name": "stdout",
          "text": [
            "7199 [D loss: 0.000048, acc.: 100.00%] [G loss: 9.743553]\n"
          ]
        },
        {
          "output_type": "stream",
          "name": "stderr",
          "text": [
            " 73%|███████▎  | 7301/10000 [12:58<14:20,  3.14it/s]"
          ]
        },
        {
          "output_type": "stream",
          "name": "stdout",
          "text": [
            "7299 [D loss: 0.000051, acc.: 100.00%] [G loss: 9.863912]\n"
          ]
        },
        {
          "output_type": "stream",
          "name": "stderr",
          "text": [
            " 74%|███████▍  | 7401/10000 [13:08<07:09,  6.05it/s]"
          ]
        },
        {
          "output_type": "stream",
          "name": "stdout",
          "text": [
            "7399 [D loss: 0.000044, acc.: 100.00%] [G loss: 9.958076]\n"
          ]
        },
        {
          "output_type": "stream",
          "name": "stderr",
          "text": [
            " 75%|███████▌  | 7502/10000 [13:18<06:11,  6.72it/s]"
          ]
        },
        {
          "output_type": "stream",
          "name": "stdout",
          "text": [
            "7499 [D loss: 0.000044, acc.: 100.00%] [G loss: 10.150402]\n"
          ]
        },
        {
          "output_type": "stream",
          "name": "stderr",
          "text": [
            " 76%|███████▌  | 7601/10000 [13:29<07:13,  5.53it/s]"
          ]
        },
        {
          "output_type": "stream",
          "name": "stdout",
          "text": [
            "7599 [D loss: 0.000035, acc.: 100.00%] [G loss: 10.269396]\n"
          ]
        },
        {
          "output_type": "stream",
          "name": "stderr",
          "text": [
            " 77%|███████▋  | 7701/10000 [13:39<09:50,  3.89it/s]"
          ]
        },
        {
          "output_type": "stream",
          "name": "stdout",
          "text": [
            "7699 [D loss: 0.000025, acc.: 100.00%] [G loss: 10.432422]\n"
          ]
        },
        {
          "output_type": "stream",
          "name": "stderr",
          "text": [
            " 78%|███████▊  | 7801/10000 [13:50<09:33,  3.83it/s]"
          ]
        },
        {
          "output_type": "stream",
          "name": "stdout",
          "text": [
            "7799 [D loss: 0.000026, acc.: 100.00%] [G loss: 10.559873]\n"
          ]
        },
        {
          "output_type": "stream",
          "name": "stderr",
          "text": [
            " 79%|███████▉  | 7901/10000 [14:01<06:25,  5.45it/s]"
          ]
        },
        {
          "output_type": "stream",
          "name": "stdout",
          "text": [
            "7899 [D loss: 0.000025, acc.: 100.00%] [G loss: 10.689842]\n"
          ]
        },
        {
          "output_type": "stream",
          "name": "stderr",
          "text": [
            " 80%|████████  | 8002/10000 [14:12<05:07,  6.51it/s]"
          ]
        },
        {
          "output_type": "stream",
          "name": "stdout",
          "text": [
            "7999 [D loss: 0.000025, acc.: 100.00%] [G loss: 10.708283]\n"
          ]
        },
        {
          "output_type": "stream",
          "name": "stderr",
          "text": [
            " 81%|████████  | 8101/10000 [14:22<05:14,  6.03it/s]"
          ]
        },
        {
          "output_type": "stream",
          "name": "stdout",
          "text": [
            "8099 [D loss: 0.000019, acc.: 100.00%] [G loss: 10.775214]\n"
          ]
        },
        {
          "output_type": "stream",
          "name": "stderr",
          "text": [
            " 82%|████████▏ | 8202/10000 [14:33<05:36,  5.34it/s]"
          ]
        },
        {
          "output_type": "stream",
          "name": "stdout",
          "text": [
            "8199 [D loss: 0.000019, acc.: 100.00%] [G loss: 10.825242]\n"
          ]
        },
        {
          "output_type": "stream",
          "name": "stderr",
          "text": [
            " 83%|████████▎ | 8301/10000 [14:42<05:46,  4.91it/s]"
          ]
        },
        {
          "output_type": "stream",
          "name": "stdout",
          "text": [
            "8299 [D loss: 0.000017, acc.: 100.00%] [G loss: 10.947158]\n"
          ]
        },
        {
          "output_type": "stream",
          "name": "stderr",
          "text": [
            " 84%|████████▍ | 8402/10000 [14:53<04:06,  6.49it/s]"
          ]
        },
        {
          "output_type": "stream",
          "name": "stdout",
          "text": [
            "8399 [D loss: 0.000015, acc.: 100.00%] [G loss: 11.095061]\n"
          ]
        },
        {
          "output_type": "stream",
          "name": "stderr",
          "text": [
            " 85%|████████▌ | 8502/10000 [15:04<03:48,  6.55it/s]"
          ]
        },
        {
          "output_type": "stream",
          "name": "stdout",
          "text": [
            "8499 [D loss: 0.000012, acc.: 100.00%] [G loss: 11.187045]\n"
          ]
        },
        {
          "output_type": "stream",
          "name": "stderr",
          "text": [
            " 86%|████████▌ | 8601/10000 [15:14<04:21,  5.34it/s]"
          ]
        },
        {
          "output_type": "stream",
          "name": "stdout",
          "text": [
            "8599 [D loss: 0.000010, acc.: 100.00%] [G loss: 11.313614]\n"
          ]
        },
        {
          "output_type": "stream",
          "name": "stderr",
          "text": [
            " 87%|████████▋ | 8701/10000 [15:24<05:38,  3.83it/s]"
          ]
        },
        {
          "output_type": "stream",
          "name": "stdout",
          "text": [
            "8699 [D loss: 0.000011, acc.: 100.00%] [G loss: 11.440974]\n"
          ]
        },
        {
          "output_type": "stream",
          "name": "stderr",
          "text": [
            " 88%|████████▊ | 8801/10000 [15:36<03:51,  5.18it/s]"
          ]
        },
        {
          "output_type": "stream",
          "name": "stdout",
          "text": [
            "8799 [D loss: 0.000009, acc.: 100.00%] [G loss: 11.553939]\n"
          ]
        },
        {
          "output_type": "stream",
          "name": "stderr",
          "text": [
            " 89%|████████▉ | 8901/10000 [15:47<03:13,  5.67it/s]"
          ]
        },
        {
          "output_type": "stream",
          "name": "stdout",
          "text": [
            "8899 [D loss: 0.000011, acc.: 100.00%] [G loss: 11.756430]\n"
          ]
        },
        {
          "output_type": "stream",
          "name": "stderr",
          "text": [
            " 90%|█████████ | 9002/10000 [15:59<02:52,  5.78it/s]"
          ]
        },
        {
          "output_type": "stream",
          "name": "stdout",
          "text": [
            "8999 [D loss: 0.000012, acc.: 100.00%] [G loss: 11.858848]\n"
          ]
        },
        {
          "output_type": "stream",
          "name": "stderr",
          "text": [
            " 91%|█████████ | 9101/10000 [16:09<02:39,  5.64it/s]"
          ]
        },
        {
          "output_type": "stream",
          "name": "stdout",
          "text": [
            "9099 [D loss: 0.000007, acc.: 100.00%] [G loss: 12.008206]\n"
          ]
        },
        {
          "output_type": "stream",
          "name": "stderr",
          "text": [
            " 92%|█████████▏| 9201/10000 [16:20<02:41,  4.96it/s]"
          ]
        },
        {
          "output_type": "stream",
          "name": "stdout",
          "text": [
            "9199 [D loss: 0.000006, acc.: 100.00%] [G loss: 11.983155]\n"
          ]
        },
        {
          "output_type": "stream",
          "name": "stderr",
          "text": [
            " 93%|█████████▎| 9300/10000 [16:31<04:44,  2.46it/s]"
          ]
        },
        {
          "output_type": "stream",
          "name": "stdout",
          "text": [
            "9299 [D loss: 0.000007, acc.: 100.00%] [G loss: 12.204700]\n"
          ]
        },
        {
          "output_type": "stream",
          "name": "stderr",
          "text": [
            " 94%|█████████▍| 9402/10000 [16:42<01:28,  6.76it/s]"
          ]
        },
        {
          "output_type": "stream",
          "name": "stdout",
          "text": [
            "9399 [D loss: 0.000009, acc.: 100.00%] [G loss: 12.359411]\n"
          ]
        },
        {
          "output_type": "stream",
          "name": "stderr",
          "text": [
            " 95%|█████████▌| 9501/10000 [16:52<01:28,  5.64it/s]"
          ]
        },
        {
          "output_type": "stream",
          "name": "stdout",
          "text": [
            "9499 [D loss: 0.000006, acc.: 100.00%] [G loss: 12.460680]\n"
          ]
        },
        {
          "output_type": "stream",
          "name": "stderr",
          "text": [
            " 96%|█████████▌| 9601/10000 [17:03<01:13,  5.42it/s]"
          ]
        },
        {
          "output_type": "stream",
          "name": "stdout",
          "text": [
            "9599 [D loss: 0.000008, acc.: 100.00%] [G loss: 12.630490]\n"
          ]
        },
        {
          "output_type": "stream",
          "name": "stderr",
          "text": [
            " 97%|█████████▋| 9701/10000 [17:14<01:22,  3.62it/s]"
          ]
        },
        {
          "output_type": "stream",
          "name": "stdout",
          "text": [
            "9699 [D loss: 0.000004, acc.: 100.00%] [G loss: 12.574969]\n"
          ]
        },
        {
          "output_type": "stream",
          "name": "stderr",
          "text": [
            " 98%|█████████▊| 9801/10000 [17:26<00:53,  3.70it/s]"
          ]
        },
        {
          "output_type": "stream",
          "name": "stdout",
          "text": [
            "9799 [D loss: 0.000003, acc.: 100.00%] [G loss: 12.678329]\n"
          ]
        },
        {
          "output_type": "stream",
          "name": "stderr",
          "text": [
            " 99%|█████████▉| 9901/10000 [17:36<00:16,  5.92it/s]"
          ]
        },
        {
          "output_type": "stream",
          "name": "stdout",
          "text": [
            "9899 [D loss: 0.000003, acc.: 100.00%] [G loss: 12.757603]\n"
          ]
        },
        {
          "output_type": "stream",
          "name": "stderr",
          "text": [
            "100%|██████████| 10000/10000 [17:46<00:00,  9.37it/s]"
          ]
        },
        {
          "output_type": "stream",
          "name": "stdout",
          "text": [
            "9999 [D loss: 0.000003, acc.: 100.00%] [G loss: 12.885084]\n"
          ]
        },
        {
          "output_type": "stream",
          "name": "stderr",
          "text": [
            "\n"
          ]
        }
      ],
      "source": [
        "# create the gan\n",
        "gan_model = define_gan(generator, discriminator)\n",
        "# train model\n",
        "train(generator, discriminator, gan_model, latent_dim)"
      ]
    },
    {
      "cell_type": "markdown",
      "source": [
        "# Evaluation"
      ],
      "metadata": {
        "id": "V1n0vGcDZZkD"
      },
      "id": "V1n0vGcDZZkD"
    },
    {
      "cell_type": "code",
      "source": [
        "synth_norm_list = []\n",
        "for i in tqdm(range(1, 101)):\n",
        "  generator.load_weights('/content/drive/MyDrive/Thesis/model/normal_gan/588_meal_0.0005/generator_weights_' + str(i*100) + '.h5')\n",
        "\n",
        "  synth, _ = generate_fake_samples(generator, 55)\n",
        "  synth = synth.reshape(55,288)\n",
        "\n",
        "  synth_norm_list.append(synth)"
      ],
      "metadata": {
        "colab": {
          "base_uri": "https://localhost:8080/"
        },
        "id": "DZcTslcTZn4P",
        "outputId": "8ccf928a-09a4-4aa7-b2ff-6b8ad80756f1"
      },
      "id": "DZcTslcTZn4P",
      "execution_count": null,
      "outputs": [
        {
          "output_type": "stream",
          "name": "stderr",
          "text": [
            "100%|██████████| 100/100 [01:52<00:00,  1.13s/it]\n"
          ]
        }
      ]
    },
    {
      "cell_type": "code",
      "source": [
        "# save normalized synthetic data\n",
        "np.save(\"/content/drive/MyDrive/Thesis/best model/normgan_meal/588_normalized.npy\",synth_norm_list)"
      ],
      "metadata": {
        "id": "6H_jVunPctUG"
      },
      "id": "6H_jVunPctUG",
      "execution_count": null,
      "outputs": []
    },
    {
      "cell_type": "code",
      "source": [
        "for i in range(len(synth_norm_list)):\n",
        "  synth_norm_list[i] = scaler.inverse_transform(synth_norm_list[i])"
      ],
      "metadata": {
        "id": "Nqm0o6-QpwOc"
      },
      "id": "Nqm0o6-QpwOc",
      "execution_count": null,
      "outputs": []
    },
    {
      "cell_type": "code",
      "source": [
        "# save unnormalized synthetic data\n",
        "np.save(\"/content/drive/MyDrive/Thesis/best model/normgan_meal/588_unnormalized.npy\",synth_norm_list)"
      ],
      "metadata": {
        "id": "HzvryA5Mp5-q"
      },
      "id": "HzvryA5Mp5-q",
      "execution_count": null,
      "outputs": []
    },
    {
      "cell_type": "markdown",
      "source": [
        "Visualizations of normal GAN and TimeGAN"
      ],
      "metadata": {
        "id": "kLCiNV1jpNQ-"
      },
      "id": "kLCiNV1jpNQ-"
    },
    {
      "cell_type": "code",
      "source": [
        "synth_normgan_nonnorm = np.load(\"/content/drive/MyDrive/Thesis/best model/normgan_meal/588_unnormalized.npy\")\n",
        "synth_normgan_norm = np.load(\"/content/drive/MyDrive/Thesis/best model/normgan_meal/588_normalized.npy\")\n",
        "synth_timegan_nonnorm = np.load(\"/content/drive/MyDrive/Thesis/best model/timegan_588_128/synthetic_data_nonorm.npy\")\n",
        "synth_timegan_norm = np.load(\"/content/drive/MyDrive/Thesis/best model/timegan_588_128/synthetic_data.npy\")\n",
        "real_ori = scaler.inverse_transform(meal_588)"
      ],
      "metadata": {
        "id": "BeINFdJepdZT"
      },
      "id": "BeINFdJepdZT",
      "execution_count": null,
      "outputs": []
    },
    {
      "cell_type": "code",
      "source": [
        "# DTW\n",
        "dtw_normgan = []\n",
        "dtw_timegan = []\n",
        "for i in range(len(meal_588)):\n",
        "  dtw_normgan.append(dtw.distance(synth_normgan_norm[90][i], meal_588[i]))\n",
        "  dtw_timegan.append(dtw.distance([synth_timegan_norm[20][0][j][:,1] for j in range(55)][i], meal_588[i]))"
      ],
      "metadata": {
        "id": "rY875WpwG9Gn"
      },
      "id": "rY875WpwG9Gn",
      "execution_count": null,
      "outputs": []
    },
    {
      "cell_type": "code",
      "source": [
        "print('Normal DTW distance: {}'.format(mean(dtw_normgan)))\n",
        "print('TimeGAN DTW distance: {}'.format(mean(dtw_timegan)))"
      ],
      "metadata": {
        "colab": {
          "base_uri": "https://localhost:8080/"
        },
        "id": "TcqH4bAYHxGc",
        "outputId": "0208a2c0-38a6-4987-c309-b50934ca00cb"
      },
      "id": "TcqH4bAYHxGc",
      "execution_count": null,
      "outputs": [
        {
          "output_type": "stream",
          "name": "stdout",
          "text": [
            "Normal DTW distance: 1.80365755838074\n",
            "TimeGAN DTW distance: 1.8471691474915748\n"
          ]
        }
      ]
    },
    {
      "cell_type": "code",
      "source": [
        "def seqAverage(ts, n, feature_window_size):\n",
        "\n",
        "    sub_ts_list = []\n",
        "\n",
        "    for i in range(0, n - n % feature_window_size, feature_window_size):\n",
        "        sub_ts = ts[i: i + feature_window_size]\n",
        "        sub_ts_list.append(sub_ts.mean())\n",
        "    \n",
        "    return pd.DataFrame(sub_ts_list)"
      ],
      "metadata": {
        "id": "iXy4OjL4m5br"
      },
      "id": "iXy4OjL4m5br",
      "execution_count": null,
      "outputs": []
    },
    {
      "cell_type": "code",
      "source": [
        "# discretize y values\n",
        "def discretize(ts, bins=None, global_min=None, global_max=None):\n",
        "    ts = seqAverage(ts, 288, 6)\n",
        "\n",
        "    if np.isscalar(bins):\n",
        "        num_bins = bins\n",
        "\n",
        "        min_value = ts.min()[0]\n",
        "        #print(min_value)\n",
        "        max_value = ts.max()[0]\n",
        "        #print(max_value)\n",
        "        if min_value == max_value:\n",
        "            min_value = global_min\n",
        "            max_value = global_max\n",
        "        step = (max_value - min_value) / num_bins\n",
        "        ts_bins = np.arange(min_value, max_value, step)\n",
        "    else:\n",
        "        ts_bins = bins\n",
        "\n",
        "    inds = np.digitize(ts, ts_bins)\n",
        "    binned_ts = tuple(str(i - 1) for i in inds)\n",
        "    return binned_ts"
      ],
      "metadata": {
        "id": "8sNMUhaBXwuv"
      },
      "id": "8sNMUhaBXwuv",
      "execution_count": null,
      "outputs": []
    },
    {
      "cell_type": "code",
      "source": [
        "def get_bitmap(chunk, level_size=2):\n",
        "    \"\"\"\n",
        "\n",
        "    :param str chunk: symbol sequence representation of a univariate time series\n",
        "    :param int level_size: desired level of recursion of the bitmap\n",
        "    :return : bitmap representation of `chunk`\n",
        "    \"\"\"\n",
        "    bitmap = defaultdict(int)\n",
        "    n = len(chunk)\n",
        "\n",
        "    for i in range(n):\n",
        "        if i <= n - level_size:\n",
        "            feat = chunk[i: i + level_size]\n",
        "            bitmap[feat] += 1  # frequency count\n",
        "    max_freq = max(bitmap.values())\n",
        "    for feat in bitmap.keys():\n",
        "        #print(bitmap[feat])\n",
        "        #print(max_freq)\n",
        "        bitmap[feat] = bitmap[feat] / max_freq\n",
        "    return bitmap"
      ],
      "metadata": {
        "id": "oL-miJt4msv6"
      },
      "id": "oL-miJt4msv6",
      "execution_count": null,
      "outputs": []
    },
    {
      "cell_type": "code",
      "execution_count": null,
      "id": "532c3949-37f8-42e1-970c-f7815805800c",
      "metadata": {
        "id": "532c3949-37f8-42e1-970c-f7815805800c"
      },
      "outputs": [],
      "source": [
        "def imageList(bitmap):\n",
        "  final_list = [[0 for i in range(4)] for j in range(4)]\n",
        "  for key, value in bitmap.items():\n",
        "      num1 = int(key[0][1])\n",
        "      num2 = int(key[1][1])\n",
        "      \n",
        "      if num1 == 0:\n",
        "          if num2 == 0:\n",
        "              final_list[0][0] = value\n",
        "          elif num2 == 1:\n",
        "              final_list[0][1] = value\n",
        "          elif num2 == 2:\n",
        "              final_list[1][0] = value\n",
        "          elif num2 == 3:\n",
        "              final_list[1][1] = value\n",
        "      elif num1 == 1:\n",
        "          if num2 == 0:\n",
        "              final_list[0][2] = value\n",
        "          elif num2 == 1:\n",
        "              final_list[0][3] = value\n",
        "          elif num2 == 2:\n",
        "              final_list[1][2] = value\n",
        "          elif num2 == 3:\n",
        "              final_list[1][3] = value\n",
        "      elif num1 == 2:\n",
        "          if num2 == 0:\n",
        "              final_list[2][0] = value\n",
        "          elif num2 == 1:\n",
        "              final_list[2][1] = value\n",
        "          elif num2 == 2:\n",
        "              final_list[3][0] = value\n",
        "          elif num2 == 3:\n",
        "              final_list[3][1] = value\n",
        "      elif num1 == 3:\n",
        "          if num2 == 0:\n",
        "              final_list[2][2] = value\n",
        "          elif num2 == 1:\n",
        "              final_list[2][3] = value\n",
        "          elif num2 == 2:\n",
        "              final_list[3][2] = value\n",
        "          elif num2 == 3:\n",
        "              final_list[3][3] = value\n",
        "  \n",
        "  return final_list"
      ]
    },
    {
      "cell_type": "code",
      "source": [
        "def showImage(final_list):\n",
        "  plt.imshow(final_list, cmap='jet', interpolation='nearest')\n",
        "  plt.colorbar()\n",
        "  plt.axis('off')\n",
        "  plt.show()"
      ],
      "metadata": {
        "id": "_Y6hBDmt9H7Y"
      },
      "id": "_Y6hBDmt9H7Y",
      "execution_count": null,
      "outputs": []
    },
    {
      "cell_type": "code",
      "source": [
        "# average value of original data from all days\n",
        "total_ori = []\n",
        "list_mean_ori = 0\n",
        "for i in range(55):\n",
        "  bitmap_ori = get_bitmap(discretize(pd.DataFrame(meal_588[i]), 4))\n",
        "  total_ori.append(imageList(bitmap_ori))\n",
        "\n",
        "for i in range(len(total_ori)):\n",
        "  list_mean_ori = list_mean_ori + np.array(total_ori[i])\n",
        "  list_mean_ori = list_mean_ori/len(total_ori)"
      ],
      "metadata": {
        "id": "ETthB2ZmvwPB"
      },
      "id": "ETthB2ZmvwPB",
      "execution_count": null,
      "outputs": []
    },
    {
      "cell_type": "code",
      "source": [
        "# average value of TimeGAN synthetic data from all days\n",
        "total_timegan = []\n",
        "list_mean_timegan = 0\n",
        "for i in range(55):\n",
        "  bitmap_timegan = get_bitmap(discretize(pd.DataFrame(synth_timegan_norm[20][0][i][:,1]), 4))\n",
        "  total_timegan.append(imageList(bitmap_timegan))\n",
        "\n",
        "for i in range(len(total_timegan)):\n",
        "  list_mean_timegan = list_mean_timegan + np.array(total_timegan[i])\n",
        "  list_mean_timegan = list_mean_timegan/len(total_timegan)"
      ],
      "metadata": {
        "id": "Ja8U4y0JzFEo"
      },
      "id": "Ja8U4y0JzFEo",
      "execution_count": null,
      "outputs": []
    },
    {
      "cell_type": "code",
      "source": [
        "# average value of normal GAN synthetic data from all days\n",
        "total_normgan = []\n",
        "list_mean_normgan = 0\n",
        "for i in range(55):\n",
        "  bitmap_normgan = get_bitmap(discretize(pd.DataFrame(synth_normgan_norm[90][i]), 4))\n",
        "  total_normgan.append(imageList(bitmap_normgan))\n",
        "\n",
        "for i in range(len(total_normgan)):\n",
        "  list_mean_normgan = list_mean_normgan + np.array(total_normgan[i])\n",
        "  list_mean_normgan = list_mean_normgan/len(total_normgan)"
      ],
      "metadata": {
        "id": "zhWR_S0Hzn3Y"
      },
      "id": "zhWR_S0Hzn3Y",
      "execution_count": null,
      "outputs": []
    },
    {
      "cell_type": "code",
      "source": [
        "showImage(list_mean_ori)"
      ],
      "metadata": {
        "colab": {
          "base_uri": "https://localhost:8080/",
          "height": 415
        },
        "id": "9eMYJw5P0PW4",
        "outputId": "4e400949-3627-4151-c676-e9d8eeed6c74"
      },
      "id": "9eMYJw5P0PW4",
      "execution_count": null,
      "outputs": [
        {
          "output_type": "display_data",
          "data": {
            "text/plain": [
              "<Figure size 640x480 with 2 Axes>"
            ],
            "image/png": "[encoded data removed]"
          },
          "metadata": {}
        }
      ]
    },
    {
      "cell_type": "code",
      "source": [
        "showImage(list_mean_timegan)"
      ],
      "metadata": {
        "colab": {
          "base_uri": "https://localhost:8080/",
          "height": 415
        },
        "id": "CtYskPOI0HOv",
        "outputId": "b56e9f97-ab70-40e2-d196-c6492b080097"
      },
      "id": "CtYskPOI0HOv",
      "execution_count": null,
      "outputs": [
        {
          "output_type": "display_data",
          "data": {
            "text/plain": [
              "<Figure size 640x480 with 2 Axes>"
            ],
            "image/png": "[encoded data removed]"
          },
          "metadata": {}
        }
      ]
    },
    {
      "cell_type": "code",
      "source": [
        "showImage(list_mean_normgan)"
      ],
      "metadata": {
        "colab": {
          "base_uri": "https://localhost:8080/",
          "height": 415
        },
        "id": "BJszV4lS0CTB",
        "outputId": "3f40fe30-8621-4ecf-ec5a-de23b57b2283"
      },
      "id": "BJszV4lS0CTB",
      "execution_count": null,
      "outputs": [
        {
          "output_type": "display_data",
          "data": {
            "text/plain": [
              "<Figure size 640x480 with 2 Axes>"
            ],
            "image/png": "[encoded data removed]"
          },
          "metadata": {}
        }
      ]
    },
    {
      "cell_type": "code",
      "source": [
        "bitmap_timegan =  get_bitmap(discretize(pd.DataFrame(synth_timegan_nonnorm[20][0][15][:,1]), 4))\n",
        "bitmap_normgan =  get_bitmap(discretize(pd.DataFrame(synth_normgan_nonnorm[90][15]), 4))\n",
        "bitmap_ori = get_bitmap(discretize(pd.DataFrame(meal_588[15]), 4))\n",
        "image_list_timegan = imageList(bitmap_timegan)\n",
        "image_list_normgan = imageList(bitmap_normgan)\n",
        "image_list_ori = imageList(bitmap_ori)"
      ],
      "metadata": {
        "id": "P-XR-9AAm1N6"
      },
      "id": "P-XR-9AAm1N6",
      "execution_count": null,
      "outputs": []
    },
    {
      "cell_type": "code",
      "source": [
        "showImage(image_list_ori)"
      ],
      "metadata": {
        "id": "aXTEJF1Cnnky"
      },
      "id": "aXTEJF1Cnnky",
      "execution_count": null,
      "outputs": []
    },
    {
      "cell_type": "code",
      "source": [
        "showImage(image_list_normgan)"
      ],
      "metadata": {
        "id": "lUsvgZ6bnrbY"
      },
      "id": "lUsvgZ6bnrbY",
      "execution_count": null,
      "outputs": []
    },
    {
      "cell_type": "code",
      "source": [
        "showImage(image_list_timegan)"
      ],
      "metadata": {
        "id": "UG_4xOwOrKHN"
      },
      "id": "UG_4xOwOrKHN",
      "execution_count": null,
      "outputs": []
    },
    {
      "cell_type": "code",
      "source": [
        "cols = 'meal event (Patient 588)'\n",
        "\n",
        "df = pd.DataFrame({'Real': real_ori[30], 'Synthetic_normGAN': synth_normgan_nonnorm[90][30], 'Synthetic_TimeGAN': synth_timegan_nonnorm[20][0][30][:, 1]})\n",
        "df.plot(title = cols,\n",
        "        secondary_y='Synthetic data', style=['-'])"
      ],
      "metadata": {
        "colab": {
          "base_uri": "https://localhost:8080/",
          "height": 470
        },
        "id": "9XBT5O5Or0NW",
        "outputId": "51b7917c-65d8-4b08-f869-2fef4b3fea2f"
      },
      "id": "9XBT5O5Or0NW",
      "execution_count": null,
      "outputs": [
        {
          "output_type": "execute_result",
          "data": {
            "text/plain": [
              "<Axes: title={'center': 'meal event (Patient 588)'}>"
            ]
          },
          "metadata": {},
          "execution_count": 262
        },
        {
          "output_type": "display_data",
          "data": {
            "text/plain": [
              "<Figure size 640x480 with 1 Axes>"
            ],
            "image/png": "[encoded data removed]"
          },
          "metadata": {}
        }
      ]
    },
    {
      "cell_type": "code",
      "source": [],
      "metadata": {
        "id": "D0iZTz9ooccy"
      },
      "id": "D0iZTz9ooccy",
      "execution_count": null,
      "outputs": []
    },
    {
      "cell_type": "markdown",
      "source": [
        "SVM"
      ],
      "metadata": {
        "id": "1mHd-Viv6MHH"
      },
      "id": "1mHd-Viv6MHH"
    },
    {
      "cell_type": "code",
      "source": [
        "synth_normgan_nonnorm = np.load(\"/content/drive/MyDrive/Thesis/best model/normgan_meal/588_unnormalized.npy\")\n",
        "synth_normgan_norm = np.load(\"/content/drive/MyDrive/Thesis/best model/normgan_meal/588_normalized.npy\")\n",
        "synth_timegan_nonnorm = np.load(\"/content/drive/MyDrive/Thesis/best model/timegan_588_128/synthetic_data_nonorm.npy\")\n",
        "synth_timegan_norm = np.load(\"/content/drive/MyDrive/Thesis/best model/timegan_588_128/synthetic_data.npy\")"
      ],
      "metadata": {
        "id": "k2tdi0uj6OLU"
      },
      "id": "k2tdi0uj6OLU",
      "execution_count": null,
      "outputs": []
    },
    {
      "cell_type": "code",
      "source": [
        "def getSVM(lamda, times):\n",
        "  # value < 0.01 -> 0\n",
        "  for i in range(len(meal_588)):\n",
        "    for j in range(len(meal_588[0])):\n",
        "      if abs(synth_timegan_norm[20][0][i][j,1]) < lamda:\n",
        "        synth_timegan_norm[20][0][i][j,1] = 0\n",
        "      if abs(synth_normgan_norm[90][i][j]) < lamda:\n",
        "        synth_normgan_norm[90][i][j] = 0\n",
        "\n",
        "  x_real_norm = meal_588.tolist()\n",
        "  y_real_norm = my_list = [1]*55\n",
        "  x_real_time = meal_588.tolist()\n",
        "  y_real_time = my_list = [1]*55\n",
        "\n",
        "  x_timegan = [synth_timegan_norm[20][0][i][:,1].tolist() for i in range(55)]\n",
        "  y_timegan = [0]*55\n",
        "  x_normgan = synth_normgan_norm[90]\n",
        "  y_normgan = [0]*55\n",
        "\n",
        "\n",
        "  x_real_norm.extend(x_normgan)\n",
        "  y_real_norm.extend(y_normgan)\n",
        "  x_real_time.extend(x_timegan)\n",
        "  y_real_time.extend(y_timegan)\n",
        "\n",
        "  accuracy_norm = []\n",
        "  accuracy_time = []\n",
        "  for i in range(times):\n",
        "    numbers = list(range(110))\n",
        "    num_selected_70 = random.sample(numbers, int(0.7*len(numbers)))\n",
        "    num_selected_30 = list(set(numbers) - set(num_selected_70))\n",
        "\n",
        "    training_x_norm = [x_real_norm[num_selected_70[i]] for i in range(len(num_selected_70))]\n",
        "    test_x_norm = [x_real_norm[num_selected_30[i]] for i in range(len(num_selected_30))]\n",
        "    training_y_norm = [y_real_norm[num_selected_70[i]] for i in range(len(num_selected_70))]\n",
        "    test_y_norm = [y_real_norm[num_selected_30[i]] for i in range(len(num_selected_30))]\n",
        "\n",
        "\n",
        "    training_x_time = [x_real_time[num_selected_70[i]] for i in range(len(num_selected_70))]\n",
        "    test_x_time = [x_real_time[num_selected_30[i]] for i in range(len(num_selected_30))]\n",
        "    training_y_time = [y_real_time[num_selected_70[i]] for i in range(len(num_selected_70))]\n",
        "    test_y_time = [y_real_time[num_selected_30[i]] for i in range(len(num_selected_30))]\n",
        "\n",
        "    \n",
        "    classifier_norm = svm.SVC()\n",
        "    classifier_time = svm.SVC()\n",
        "\n",
        "    # Train the classifier on the training data\n",
        "    classifier_norm.fit(training_x_norm, training_y_norm)\n",
        "    classifier_time.fit(training_x_time, training_y_time)\n",
        "\n",
        "    # Predict the labels of the test data\n",
        "    y_pred_norm = classifier_norm.predict(test_x_norm)\n",
        "    y_pred_time = classifier_time.predict(test_x_time)\n",
        "\n",
        "    # Calculate the accuracy and F1 score of the classifier\n",
        "    accuracy_norm.append(metrics.accuracy_score(test_y_norm, y_pred_norm))\n",
        "    accuracy_time.append(metrics.accuracy_score(test_y_time, y_pred_time))\n",
        "\n",
        "  return accuracy_norm, accuracy_time"
      ],
      "metadata": {
        "id": "vD4YuSExGsbW"
      },
      "id": "vD4YuSExGsbW",
      "execution_count": null,
      "outputs": []
    },
    {
      "cell_type": "code",
      "source": [
        "acc_norm_0, acc_time_0 = getSVM(0, 10)\n",
        "acc_norm_1e2, acc_time_1e2 = getSVM(0.01, 10)\n",
        "acc_norm_2, acc_time_2 = getSVM(0.02, 10)\n",
        "acc_norm_5, acc_time_5 = getSVM(0.05, 10)\n",
        "acc_norm_1, acc_time_1 = getSVM(0.1, 10)"
      ],
      "metadata": {
        "id": "uHYXq3fO7MJy"
      },
      "id": "uHYXq3fO7MJy",
      "execution_count": null,
      "outputs": []
    },
    {
      "cell_type": "code",
      "source": [
        "\n",
        "λ = [0,0.01,0.02,0.05,0.1,0,0.01,0.02,0.05,0.1]\n",
        "model_type = ['normGAN','normGAN','normGAN','normGAN','normGAN','TimeGAN','TimeGAN','TimeGAN','TimeGAN','TimeGAN']\n",
        "acc = [mean(acc_norm_0), mean(acc_norm_1e2), mean(acc_norm_2), mean(acc_norm_5), mean(acc_norm_1), mean(acc_time_0), mean(acc_time_1e2), mean(acc_time_2), mean(acc_time_5), mean(acc_time_1)]\n",
        "df_svm = pd.DataFrame(list(zip(λ, model_type, acc)), columns = ['λ', 'model', 'acc'])\n",
        "\n",
        "ax = sns.barplot(x=\"model\", y=\"acc\", hue=\"λ\", data=df_svm, width=0.5)\n",
        "\n",
        "ax.set_ylim([0.9, 1])\n",
        "ax.set_yticks([0.9, 0.92, 0.94, 0.96, 0.98, 1.0])\n",
        "ax.set_xlabel(\"Model type\")\n",
        "ax.set_ylabel(\"Accuracy\")\n",
        "plt.show()"
      ],
      "metadata": {
        "id": "SES8bdnq8GfT",
        "colab": {
          "base_uri": "https://localhost:8080/",
          "height": 455
        },
        "outputId": "b1af70c7-ea39-46a3-c3a9-0e032b3d7a66"
      },
      "id": "SES8bdnq8GfT",
      "execution_count": null,
      "outputs": [
        {
          "output_type": "display_data",
          "data": {
            "text/plain": [
              "<Figure size 640x480 with 1 Axes>"
            ],
            "image/png": "[encoded data removed]"
          },
          "metadata": {}
        }
      ]
    },
    {
      "cell_type": "code",
      "source": [],
      "metadata": {
        "id": "FQfKk6LcIk9X"
      },
      "id": "FQfKk6LcIk9X",
      "execution_count": null,
      "outputs": []
    }
  ],
  "metadata": {
    "kernelspec": {
      "display_name": "Python 3 (ipykernel)",
      "language": "python",
      "name": "python3"
    },
    "language_info": {
      "codemirror_mode": {
        "name": "ipython",
        "version": 3
      },
      "file_extension": ".py",
      "mimetype": "text/x-python",
      "name": "python",
      "nbconvert_exporter": "python",
      "pygments_lexer": "ipython3",
      "version": "3.9.13"
    },
    "colab": {
      "provenance": [],
      "machine_shape": "hm",
      "gpuClass": "premium"
    },
    "gpuClass": "premium"
  },
  "nbformat": 4,
  "nbformat_minor": 5
}