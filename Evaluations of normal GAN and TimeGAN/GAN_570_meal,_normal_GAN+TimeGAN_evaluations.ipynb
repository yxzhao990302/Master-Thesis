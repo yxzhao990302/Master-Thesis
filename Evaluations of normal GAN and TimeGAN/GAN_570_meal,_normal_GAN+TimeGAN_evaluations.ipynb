{
  "cells": [
    {
      "cell_type": "code",
      "execution_count": null,
      "id": "6a1cd663-ce3a-4fa6-b032-274843aa106c",
      "metadata": {
        "id": "6a1cd663-ce3a-4fa6-b032-274843aa106c"
      },
      "outputs": [],
      "source": [
        "# train a generative adversarial network on a one-dimensional function\n",
        "import pandas as pd\n",
        "from numpy import hstack\n",
        "import numpy as np\n",
        "from datetime import datetime\n",
        "from numpy import zeros\n",
        "from numpy import ones\n",
        "import random\n",
        "from numpy.random import rand\n",
        "from numpy.random import randn\n",
        "from keras.models import Sequential\n",
        "from keras import Input\n",
        "from keras.layers import Dense, Conv1D, LeakyReLU, Reshape, UpSampling1D\n",
        "from keras.optimizers import Adam\n",
        "from matplotlib import pyplot\n",
        "import matplotlib.pyplot as plt \n",
        "from tqdm import tqdm\n",
        "from tensorflow import keras\n",
        "from keras.models import save_model, load_model\n",
        "from statistics import mean, variance, pstdev\n",
        "from sklearn.preprocessing import MinMaxScaler\n",
        "from statistics import mean, variance, pstdev\n",
        "from scipy.spatial import distance\n",
        "from scipy.stats import wilcoxon\n",
        "from collections import defaultdict\n",
        "from PIL import Image\n",
        "import seaborn as sns\n",
        "from sklearn import svm, metrics"
      ]
    },
    {
      "cell_type": "code",
      "source": [
        "from google.colab import drive\n",
        "\n",
        "drive.mount('/content/drive')"
      ],
      "metadata": {
        "colab": {
          "base_uri": "https://localhost:8080/"
        },
        "id": "J-wRkyVB-ZTu",
        "outputId": "2e6374c5-57cc-486f-b3cf-9a0e83b77f9f"
      },
      "id": "J-wRkyVB-ZTu",
      "execution_count": null,
      "outputs": [
        {
          "output_type": "stream",
          "name": "stdout",
          "text": [
            "Mounted at /content/drive\n"
          ]
        }
      ]
    },
    {
      "cell_type": "code",
      "execution_count": null,
      "id": "b857585e-6da2-4ba6-ae42-7619672cf9e7",
      "metadata": {
        "id": "b857585e-6da2-4ba6-ae42-7619672cf9e7"
      },
      "outputs": [],
      "source": [
        "LENGTH_INPUT = 288\n",
        "latent_dim = 500"
      ]
    },
    {
      "cell_type": "markdown",
      "id": "88ea179b-736e-409f-a40d-84b3910af564",
      "metadata": {
        "id": "88ea179b-736e-409f-a40d-84b3910af564"
      },
      "source": [
        "# Prepare training data"
      ]
    },
    {
      "cell_type": "code",
      "execution_count": null,
      "id": "aa56387d-d5d5-4dba-8e90-c8e8086e73a2",
      "metadata": {
        "id": "aa56387d-d5d5-4dba-8e90-c8e8086e73a2"
      },
      "outputs": [],
      "source": [
        "df_570 =  pd.read_csv('/content/drive/MyDrive/Thesis/processed data/570.csv')"
      ]
    },
    {
      "cell_type": "code",
      "execution_count": null,
      "id": "98e176ab-1bed-4e88-8775-288291f4f545",
      "metadata": {
        "id": "98e176ab-1bed-4e88-8775-288291f4f545"
      },
      "outputs": [],
      "source": [
        "df_570['time'] = pd.to_datetime(df_570['time'], dayfirst=True)"
      ]
    },
    {
      "cell_type": "code",
      "execution_count": null,
      "id": "e3d1c33b-21a3-4e2e-8b22-8dee1b477e14",
      "metadata": {
        "id": "e3d1c33b-21a3-4e2e-8b22-8dee1b477e14"
      },
      "outputs": [],
      "source": [
        "df_570['date'] = df_570['time'].apply(lambda x: x.date())\n",
        "dates = df_570['date'].unique()\n",
        "meal_570 = []\n",
        "for date in dates:\n",
        "    meal_570.append(df_570[df_570['date'] == date]['meal_value'].values)"
      ]
    },
    {
      "cell_type": "code",
      "source": [
        "scaler = MinMaxScaler().fit(meal_570)\n",
        "meal_570 = scaler.transform(meal_570)"
      ],
      "metadata": {
        "id": "JqHy8TStAN9u"
      },
      "id": "JqHy8TStAN9u",
      "execution_count": null,
      "outputs": []
    },
    {
      "cell_type": "code",
      "execution_count": null,
      "id": "4b49b5ca-8628-41f6-8a57-6c0cd025831b",
      "metadata": {
        "id": "4b49b5ca-8628-41f6-8a57-6c0cd025831b"
      },
      "outputs": [],
      "source": [
        "meal_570 = np.array(meal_570)\n",
        "y = ones((50, 1))"
      ]
    },
    {
      "cell_type": "code",
      "source": [
        "meal_570.shape"
      ],
      "metadata": {
        "colab": {
          "base_uri": "https://localhost:8080/"
        },
        "id": "0gV-rRzJ4A6A",
        "outputId": "19e78470-65ea-42a2-a805-35afa7424e9f"
      },
      "id": "0gV-rRzJ4A6A",
      "execution_count": null,
      "outputs": [
        {
          "output_type": "execute_result",
          "data": {
            "text/plain": [
              "(50, 288)"
            ]
          },
          "metadata": {},
          "execution_count": 9
        }
      ]
    },
    {
      "cell_type": "markdown",
      "id": "c0bf7b7b-097e-4379-bc3c-76bd04d57b25",
      "metadata": {
        "id": "c0bf7b7b-097e-4379-bc3c-76bd04d57b25"
      },
      "source": [
        "# Model Architecture"
      ]
    },
    {
      "cell_type": "code",
      "execution_count": null,
      "id": "a9e75e84-1cd4-43f1-aca8-b6e6f6022304",
      "metadata": {
        "id": "a9e75e84-1cd4-43f1-aca8-b6e6f6022304"
      },
      "outputs": [],
      "source": [
        "# define the standalone discriminator model\n",
        "def define_discriminator():\n",
        "    model = Sequential()\n",
        "    \n",
        "    # Dense layer\n",
        "    model.add(Dense(1, input_shape=(288,1)))\n",
        "    model.add(LeakyReLU())\n",
        "    \n",
        "    # Convolutional layer with LeakyReLU activation\n",
        "    model.add(Conv1D(32, kernel_size=4, strides=2, padding='same'))\n",
        "    model.add(LeakyReLU())\n",
        "\n",
        "    # Convolutional layer with LeakyReLU activation\n",
        "    model.add(Conv1D(32, kernel_size=2, strides=2, padding='same'))\n",
        "    model.add(LeakyReLU())\n",
        "    \n",
        "    # Reshape layer\n",
        "    model.add(Reshape((2304,)))\n",
        "    \n",
        "    # Dense layer\n",
        "    model.add(Dense(1, activation='sigmoid'))\n",
        "\n",
        "    opt = Adam(learning_rate=0.0001)\n",
        "    # compile model\n",
        "    model.compile(loss='binary_crossentropy', optimizer=opt, metrics=['accuracy'])\n",
        "    return model"
      ]
    },
    {
      "cell_type": "code",
      "execution_count": null,
      "id": "099c6ec7-5225-4957-bdfc-e5032cd688fd",
      "metadata": {
        "id": "099c6ec7-5225-4957-bdfc-e5032cd688fd"
      },
      "outputs": [],
      "source": [
        "# define the standalone generator model\n",
        "def define_generator():\n",
        "    model = Sequential()\n",
        "    \n",
        "    # Dense layer\n",
        "    model.add(Dense(3600, input_shape=(latent_dim,)))\n",
        "    model.add(LeakyReLU())\n",
        "    \n",
        "    # Reshape layer\n",
        "    model.add(Reshape((72, 50)))\n",
        "    \n",
        "    # Upsampling layer\n",
        "    model.add(UpSampling1D(size=4))\n",
        "    \n",
        "    # Convolutional layer\n",
        "    model.add(Conv1D(filters=32, kernel_size=2, strides=2, padding='same'))\n",
        "    \n",
        "    # Upsampling layer\n",
        "    model.add(UpSampling1D(size=4))\n",
        "    \n",
        "    # Convolutional layer + leaky relu layer\n",
        "    model.add(Conv1D(filters=32, kernel_size=2, strides=2, padding='same'))\n",
        "    model.add(LeakyReLU())\n",
        "    \n",
        "    # Convolutional layer\n",
        "    model.add(Conv1D(filters=1, kernel_size=1, padding='same'))\n",
        "    \n",
        "    model.compile(optimizer='adam')\n",
        "\n",
        "    return model"
      ]
    },
    {
      "cell_type": "code",
      "execution_count": null,
      "id": "953d1808-87ed-407a-8b83-de4d5691df1c",
      "metadata": {
        "id": "953d1808-87ed-407a-8b83-de4d5691df1c"
      },
      "outputs": [],
      "source": [
        "# define the combined generator and discriminator model, for updating the generator\n",
        "def define_gan(generator, discriminator):\n",
        "    # make weights in the discriminator not trainable\n",
        "    discriminator.trainable = False\n",
        "    # connect them\n",
        "    model = Sequential()\n",
        "    model.add(generator)\n",
        "    model.add(discriminator)\n",
        "    opt = Adam(learning_rate=0.0001)\n",
        "    model.compile(loss='binary_crossentropy', optimizer=opt)\n",
        "    return model"
      ]
    },
    {
      "cell_type": "code",
      "execution_count": null,
      "id": "1fcfbcc5-28a1-4324-8fcd-0624f54ef54e",
      "metadata": {
        "id": "1fcfbcc5-28a1-4324-8fcd-0624f54ef54e"
      },
      "outputs": [],
      "source": [
        "# generate points in latent space as input for the generator\n",
        "def generate_latent_points(n):\n",
        "    # generate points in the latent space from the normal distribution\n",
        "    x_input = np.random.normal(size = latent_dim * n)\n",
        "    # reshape into a batch of inputs for the network\n",
        "    x_input = x_input.reshape(n, latent_dim)\n",
        "\n",
        "    return x_input"
      ]
    },
    {
      "cell_type": "code",
      "execution_count": null,
      "id": "7108a5fc-2e71-4530-b6e6-8769f4f165bb",
      "metadata": {
        "id": "7108a5fc-2e71-4530-b6e6-8769f4f165bb"
      },
      "outputs": [],
      "source": [
        "# use the generator to generate n fake examples, with class labels\n",
        "def generate_fake_samples(generator, n):\n",
        "    # generate points in latent space\n",
        "    x_input = generate_latent_points(n)\n",
        "    # predict outputs\n",
        "    X = generator.predict(x_input, verbose=0)\n",
        "    # create class labels\n",
        "    y = zeros((n, 1))\n",
        "\n",
        "    return X, y"
      ]
    },
    {
      "cell_type": "code",
      "execution_count": null,
      "id": "a92cef4f-9d76-4681-b7ca-c19bd10a302c",
      "metadata": {
        "id": "a92cef4f-9d76-4681-b7ca-c19bd10a302c"
      },
      "outputs": [],
      "source": [
        "# train the generator and discriminator\n",
        "def train(g_model, d_model, gan_model, latent_dim, n_epochs=10000, n_batch=50, n_eval=100):\n",
        "    d_loss_list = []\n",
        "    g_loss_list = []\n",
        "    # determine half the size of one batch, for updating the discriminator\n",
        "    half_batch = int(n_batch / 2)+1\n",
        "    \n",
        "    # manually enumerate epochs\n",
        "    for i in tqdm(range(n_epochs)):\n",
        "        \n",
        "        # prepare real samples\n",
        "        rand_index = random.sample(range(0,50), 26)\n",
        "        x_real, y_real = meal_570[rand_index], y[rand_index]\n",
        "        # prepare fake examples\n",
        "        x_fake, y_fake = generate_fake_samples(g_model, half_batch)\n",
        "        \n",
        "        # update discriminator\n",
        "        d_loss_real = d_model.train_on_batch(x_real, y_real)\n",
        "        d_loss_fake = d_model.train_on_batch(x_fake, y_fake)\n",
        "        # average of d_loss_real and d_loss_fake\n",
        "        d_loss = 0.5 * np.add(d_loss_real, d_loss_fake)\n",
        "        d_loss_list.append(d_loss)\n",
        "        #print(d_loss[0])\n",
        "\n",
        "        # prepare points in latent space as input for the generator\n",
        "        #for _ in range(4):\n",
        "        x_gan = generate_latent_points(n_batch)\n",
        "        # create inverted labels for the fake samples\n",
        "        y_gan = ones((n_batch, 1))\n",
        "        # update the generator via the discriminator's error\n",
        "        g_loss = gan_model.train_on_batch(x_gan, y_gan)\n",
        "        g_loss_list.append(g_loss)\n",
        "        \n",
        "       \n",
        "        # evaluate the model every n_eval epochs\n",
        "        if (i+1) % n_eval == 0:\n",
        "            generator.save_weights('/content/drive/MyDrive/Thesis/model/normal_gan/570_meal_0.0005/generator_weights_%d.h5' %(i+1))\n",
        "            print (\"%d [D loss: %f, acc.: %.2f%%] [G loss: %f]\" % (i, d_loss[0], 100*d_loss[1], g_loss))"
      ]
    },
    {
      "cell_type": "code",
      "execution_count": null,
      "id": "ce93ac09-c4d5-41bd-bf88-f89573ab09b6",
      "metadata": {
        "colab": {
          "base_uri": "https://localhost:8080/"
        },
        "id": "ce93ac09-c4d5-41bd-bf88-f89573ab09b6",
        "outputId": "bd509d24-7d0b-4025-8baf-9f3aa1d63f1d"
      },
      "outputs": [
        {
          "output_type": "stream",
          "name": "stdout",
          "text": [
            "Model: \"sequential\"\n",
            "_________________________________________________________________\n",
            " Layer (type)                Output Shape              Param #   \n",
            "=================================================================\n",
            " dense (Dense)               (None, 288, 1)            2         \n",
            "                                                                 \n",
            " leaky_re_lu (LeakyReLU)     (None, 288, 1)            0         \n",
            "                                                                 \n",
            " conv1d (Conv1D)             (None, 144, 32)           160       \n",
            "                                                                 \n",
            " leaky_re_lu_1 (LeakyReLU)   (None, 144, 32)           0         \n",
            "                                                                 \n",
            " conv1d_1 (Conv1D)           (None, 72, 32)            2080      \n",
            "                                                                 \n",
            " leaky_re_lu_2 (LeakyReLU)   (None, 72, 32)            0         \n",
            "                                                                 \n",
            " reshape (Reshape)           (None, 2304)              0         \n",
            "                                                                 \n",
            " dense_1 (Dense)             (None, 1)                 2305      \n",
            "                                                                 \n",
            "=================================================================\n",
            "Total params: 4,547\n",
            "Trainable params: 4,547\n",
            "Non-trainable params: 0\n",
            "_________________________________________________________________\n"
          ]
        }
      ],
      "source": [
        "discriminator = define_discriminator()\n",
        "discriminator.summary()"
      ]
    },
    {
      "cell_type": "code",
      "execution_count": null,
      "id": "aa724642-eb06-4e82-8660-14c835a5f8dc",
      "metadata": {
        "id": "aa724642-eb06-4e82-8660-14c835a5f8dc",
        "outputId": "78cebe12-df1e-465d-f784-9169b3eeba3e",
        "colab": {
          "base_uri": "https://localhost:8080/"
        }
      },
      "outputs": [
        {
          "output_type": "stream",
          "name": "stdout",
          "text": [
            "Model: \"sequential_1\"\n",
            "_________________________________________________________________\n",
            " Layer (type)                Output Shape              Param #   \n",
            "=================================================================\n",
            " dense_2 (Dense)             (None, 3600)              1803600   \n",
            "                                                                 \n",
            " leaky_re_lu_3 (LeakyReLU)   (None, 3600)              0         \n",
            "                                                                 \n",
            " reshape_1 (Reshape)         (None, 72, 50)            0         \n",
            "                                                                 \n",
            " up_sampling1d (UpSampling1D  (None, 288, 50)          0         \n",
            " )                                                               \n",
            "                                                                 \n",
            " conv1d_2 (Conv1D)           (None, 144, 32)           3232      \n",
            "                                                                 \n",
            " up_sampling1d_1 (UpSampling  (None, 576, 32)          0         \n",
            " 1D)                                                             \n",
            "                                                                 \n",
            " conv1d_3 (Conv1D)           (None, 288, 32)           2080      \n",
            "                                                                 \n",
            " leaky_re_lu_4 (LeakyReLU)   (None, 288, 32)           0         \n",
            "                                                                 \n",
            " conv1d_4 (Conv1D)           (None, 288, 1)            33        \n",
            "                                                                 \n",
            "=================================================================\n",
            "Total params: 1,808,945\n",
            "Trainable params: 1,808,945\n",
            "Non-trainable params: 0\n",
            "_________________________________________________________________\n"
          ]
        }
      ],
      "source": [
        "generator = define_generator()\n",
        "generator.summary()"
      ]
    },
    {
      "cell_type": "code",
      "execution_count": null,
      "id": "8c239002-60c4-4b63-8dae-793783b71777",
      "metadata": {
        "id": "8c239002-60c4-4b63-8dae-793783b71777",
        "outputId": "e79b7461-59f6-4867-ab13-d9f9e25ba102",
        "colab": {
          "base_uri": "https://localhost:8080/"
        }
      },
      "outputs": [
        {
          "metadata": {
            "tags": null
          },
          "name": "stderr",
          "output_type": "stream",
          "text": [
            "  1%|          | 101/10000 [00:18<1:08:35,  2.41it/s]"
          ]
        },
        {
          "metadata": {
            "tags": null
          },
          "name": "stdout",
          "output_type": "stream",
          "text": [
            "99 [D loss: 0.628593, acc.: 100.00%] [G loss: 0.808300]\n"
          ]
        },
        {
          "metadata": {
            "tags": null
          },
          "name": "stderr",
          "output_type": "stream",
          "text": [
            "  2%|▏         | 201/10000 [00:30<21:12,  7.70it/s]"
          ]
        },
        {
          "metadata": {
            "tags": null
          },
          "name": "stdout",
          "output_type": "stream",
          "text": [
            "199 [D loss: 0.615685, acc.: 100.00%] [G loss: 0.775172]\n"
          ]
        },
        {
          "metadata": {
            "tags": null
          },
          "name": "stderr",
          "output_type": "stream",
          "text": [
            "  3%|▎         | 301/10000 [00:43<21:19,  7.58it/s]"
          ]
        },
        {
          "metadata": {
            "tags": null
          },
          "name": "stdout",
          "output_type": "stream",
          "text": [
            "299 [D loss: 0.599419, acc.: 100.00%] [G loss: 0.777987]\n"
          ]
        },
        {
          "metadata": {
            "tags": null
          },
          "name": "stderr",
          "output_type": "stream",
          "text": [
            "  4%|▍         | 401/10000 [00:56<21:46,  7.35it/s]"
          ]
        },
        {
          "metadata": {
            "tags": null
          },
          "name": "stdout",
          "output_type": "stream",
          "text": [
            "399 [D loss: 0.600086, acc.: 100.00%] [G loss: 0.763706]\n"
          ]
        },
        {
          "metadata": {
            "tags": null
          },
          "name": "stderr",
          "output_type": "stream",
          "text": [
            "  5%|▌         | 501/10000 [01:09<20:53,  7.58it/s]"
          ]
        },
        {
          "metadata": {
            "tags": null
          },
          "name": "stdout",
          "output_type": "stream",
          "text": [
            "499 [D loss: 0.627472, acc.: 90.38%] [G loss: 0.720074]\n"
          ]
        },
        {
          "metadata": {
            "tags": null
          },
          "name": "stderr",
          "output_type": "stream",
          "text": [
            "  6%|▌         | 601/10000 [01:21<20:50,  7.52it/s]"
          ]
        },
        {
          "metadata": {
            "tags": null
          },
          "name": "stdout",
          "output_type": "stream",
          "text": [
            "599 [D loss: 0.654376, acc.: 69.23%] [G loss: 0.683612]\n"
          ]
        },
        {
          "metadata": {
            "tags": null
          },
          "name": "stderr",
          "output_type": "stream",
          "text": [
            "  7%|▋         | 701/10000 [01:34<20:57,  7.39it/s]"
          ]
        },
        {
          "metadata": {
            "tags": null
          },
          "name": "stdout",
          "output_type": "stream",
          "text": [
            "699 [D loss: 0.670092, acc.: 51.92%] [G loss: 0.672526]\n"
          ]
        },
        {
          "metadata": {
            "tags": null
          },
          "name": "stderr",
          "output_type": "stream",
          "text": [
            "  8%|▊         | 801/10000 [01:47<20:24,  7.51it/s]"
          ]
        },
        {
          "metadata": {
            "tags": null
          },
          "name": "stdout",
          "output_type": "stream",
          "text": [
            "799 [D loss: 0.678972, acc.: 50.00%] [G loss: 0.674458]\n"
          ]
        },
        {
          "metadata": {
            "tags": null
          },
          "name": "stderr",
          "output_type": "stream",
          "text": [
            "  9%|▉         | 901/10000 [02:01<23:01,  6.59it/s]"
          ]
        },
        {
          "metadata": {
            "tags": null
          },
          "name": "stdout",
          "output_type": "stream",
          "text": [
            "899 [D loss: 0.664967, acc.: 78.85%] [G loss: 0.699283]\n"
          ]
        },
        {
          "metadata": {
            "tags": null
          },
          "name": "stderr",
          "output_type": "stream",
          "text": [
            " 10%|█         | 1001/10000 [02:14<20:38,  7.27it/s]"
          ]
        },
        {
          "metadata": {
            "tags": null
          },
          "name": "stdout",
          "output_type": "stream",
          "text": [
            "999 [D loss: 0.650688, acc.: 96.15%] [G loss: 0.731206]\n"
          ]
        },
        {
          "metadata": {
            "tags": null
          },
          "name": "stderr",
          "output_type": "stream",
          "text": [
            " 11%|█         | 1101/10000 [02:27<19:58,  7.43it/s]"
          ]
        },
        {
          "metadata": {
            "tags": null
          },
          "name": "stdout",
          "output_type": "stream",
          "text": [
            "1099 [D loss: 0.636151, acc.: 96.15%] [G loss: 0.707483]\n"
          ]
        },
        {
          "metadata": {
            "tags": null
          },
          "name": "stderr",
          "output_type": "stream",
          "text": [
            " 12%|█▏        | 1201/10000 [02:40<19:27,  7.54it/s]"
          ]
        },
        {
          "metadata": {
            "tags": null
          },
          "name": "stdout",
          "output_type": "stream",
          "text": [
            "1199 [D loss: 0.624824, acc.: 96.15%] [G loss: 0.721224]\n"
          ]
        },
        {
          "metadata": {
            "tags": null
          },
          "name": "stderr",
          "output_type": "stream",
          "text": [
            " 13%|█▎        | 1301/10000 [02:53<20:08,  7.20it/s]"
          ]
        },
        {
          "metadata": {
            "tags": null
          },
          "name": "stdout",
          "output_type": "stream",
          "text": [
            "1299 [D loss: 0.633642, acc.: 80.77%] [G loss: 0.706841]\n"
          ]
        },
        {
          "metadata": {
            "tags": null
          },
          "name": "stderr",
          "output_type": "stream",
          "text": [
            " 14%|█▍        | 1401/10000 [03:05<19:16,  7.43it/s]"
          ]
        },
        {
          "metadata": {
            "tags": null
          },
          "name": "stdout",
          "output_type": "stream",
          "text": [
            "1399 [D loss: 0.665483, acc.: 57.69%] [G loss: 0.658648]\n"
          ]
        },
        {
          "metadata": {
            "tags": null
          },
          "name": "stderr",
          "output_type": "stream",
          "text": [
            " 15%|█▌        | 1501/10000 [03:18<19:03,  7.43it/s]"
          ]
        },
        {
          "metadata": {
            "tags": null
          },
          "name": "stdout",
          "output_type": "stream",
          "text": [
            "1499 [D loss: 0.682830, acc.: 55.77%] [G loss: 0.696441]\n"
          ]
        },
        {
          "metadata": {
            "tags": null
          },
          "name": "stderr",
          "output_type": "stream",
          "text": [
            " 16%|█▌        | 1601/10000 [03:31<18:16,  7.66it/s]"
          ]
        },
        {
          "metadata": {
            "tags": null
          },
          "name": "stdout",
          "output_type": "stream",
          "text": [
            "1599 [D loss: 0.614848, acc.: 88.46%] [G loss: 0.824353]\n"
          ]
        },
        {
          "metadata": {
            "tags": null
          },
          "name": "stderr",
          "output_type": "stream",
          "text": [
            " 17%|█▋        | 1701/10000 [03:44<18:39,  7.41it/s]"
          ]
        },
        {
          "metadata": {
            "tags": null
          },
          "name": "stdout",
          "output_type": "stream",
          "text": [
            "1699 [D loss: 0.573679, acc.: 100.00%] [G loss: 0.847694]\n"
          ]
        },
        {
          "metadata": {
            "tags": null
          },
          "name": "stderr",
          "output_type": "stream",
          "text": [
            " 18%|█▊        | 1801/10000 [03:56<18:17,  7.47it/s]"
          ]
        },
        {
          "metadata": {
            "tags": null
          },
          "name": "stdout",
          "output_type": "stream",
          "text": [
            "1799 [D loss: 0.593870, acc.: 100.00%] [G loss: 0.797420]\n"
          ]
        },
        {
          "metadata": {
            "tags": null
          },
          "name": "stderr",
          "output_type": "stream",
          "text": [
            " 19%|█▉        | 1901/10000 [04:10<19:48,  6.81it/s]"
          ]
        },
        {
          "metadata": {
            "tags": null
          },
          "name": "stdout",
          "output_type": "stream",
          "text": [
            "1899 [D loss: 0.611390, acc.: 100.00%] [G loss: 0.768693]\n"
          ]
        },
        {
          "output_type": "stream",
          "name": "stderr",
          "text": [
            " 20%|██        | 2001/10000 [04:24<17:27,  7.63it/s]"
          ]
        },
        {
          "output_type": "stream",
          "name": "stdout",
          "text": [
            "1999 [D loss: 0.580736, acc.: 100.00%] [G loss: 0.815844]\n"
          ]
        },
        {
          "output_type": "stream",
          "name": "stderr",
          "text": [
            " 21%|██        | 2101/10000 [04:36<17:34,  7.49it/s]"
          ]
        },
        {
          "output_type": "stream",
          "name": "stdout",
          "text": [
            "2099 [D loss: 0.577946, acc.: 100.00%] [G loss: 0.803974]\n"
          ]
        },
        {
          "output_type": "stream",
          "name": "stderr",
          "text": [
            " 22%|██▏       | 2201/10000 [04:49<17:25,  7.46it/s]"
          ]
        },
        {
          "output_type": "stream",
          "name": "stdout",
          "text": [
            "2199 [D loss: 0.542668, acc.: 100.00%] [G loss: 0.816051]\n"
          ]
        },
        {
          "output_type": "stream",
          "name": "stderr",
          "text": [
            " 23%|██▎       | 2301/10000 [05:01<16:52,  7.60it/s]"
          ]
        },
        {
          "output_type": "stream",
          "name": "stdout",
          "text": [
            "2299 [D loss: 0.513056, acc.: 100.00%] [G loss: 0.858807]\n"
          ]
        },
        {
          "output_type": "stream",
          "name": "stderr",
          "text": [
            " 24%|██▍       | 2401/10000 [05:14<17:56,  7.06it/s]"
          ]
        },
        {
          "output_type": "stream",
          "name": "stdout",
          "text": [
            "2399 [D loss: 0.466207, acc.: 100.00%] [G loss: 0.923941]\n"
          ]
        },
        {
          "output_type": "stream",
          "name": "stderr",
          "text": [
            " 25%|██▌       | 2501/10000 [05:27<16:35,  7.53it/s]"
          ]
        },
        {
          "output_type": "stream",
          "name": "stdout",
          "text": [
            "2499 [D loss: 0.461140, acc.: 100.00%] [G loss: 0.926739]\n"
          ]
        },
        {
          "output_type": "stream",
          "name": "stderr",
          "text": [
            " 26%|██▌       | 2601/10000 [05:40<16:23,  7.52it/s]"
          ]
        },
        {
          "output_type": "stream",
          "name": "stdout",
          "text": [
            "2599 [D loss: 0.447696, acc.: 96.15%] [G loss: 1.241085]\n"
          ]
        },
        {
          "output_type": "stream",
          "name": "stderr",
          "text": [
            " 27%|██▋       | 2701/10000 [05:52<16:32,  7.35it/s]"
          ]
        },
        {
          "output_type": "stream",
          "name": "stdout",
          "text": [
            "2699 [D loss: 0.298036, acc.: 100.00%] [G loss: 1.406176]\n"
          ]
        },
        {
          "output_type": "stream",
          "name": "stderr",
          "text": [
            " 28%|██▊       | 2801/10000 [06:05<16:51,  7.12it/s]"
          ]
        },
        {
          "output_type": "stream",
          "name": "stdout",
          "text": [
            "2799 [D loss: 0.416705, acc.: 100.00%] [G loss: 1.049250]\n"
          ]
        },
        {
          "output_type": "stream",
          "name": "stderr",
          "text": [
            " 29%|██▉       | 2901/10000 [06:18<17:59,  6.58it/s]"
          ]
        },
        {
          "output_type": "stream",
          "name": "stdout",
          "text": [
            "2899 [D loss: 0.391925, acc.: 100.00%] [G loss: 1.188126]\n"
          ]
        },
        {
          "output_type": "stream",
          "name": "stderr",
          "text": [
            " 30%|███       | 3001/10000 [06:32<15:46,  7.39it/s]"
          ]
        },
        {
          "output_type": "stream",
          "name": "stdout",
          "text": [
            "2999 [D loss: 0.330064, acc.: 100.00%] [G loss: 1.300411]\n"
          ]
        },
        {
          "output_type": "stream",
          "name": "stderr",
          "text": [
            " 31%|███       | 3101/10000 [06:45<15:23,  7.47it/s]"
          ]
        },
        {
          "output_type": "stream",
          "name": "stdout",
          "text": [
            "3099 [D loss: 0.368033, acc.: 100.00%] [G loss: 1.057441]\n"
          ]
        },
        {
          "output_type": "stream",
          "name": "stderr",
          "text": [
            " 32%|███▏      | 3201/10000 [06:57<14:54,  7.60it/s]"
          ]
        },
        {
          "output_type": "stream",
          "name": "stdout",
          "text": [
            "3199 [D loss: 0.324062, acc.: 100.00%] [G loss: 1.245587]\n"
          ]
        },
        {
          "output_type": "stream",
          "name": "stderr",
          "text": [
            " 33%|███▎      | 3301/10000 [07:10<14:40,  7.61it/s]"
          ]
        },
        {
          "output_type": "stream",
          "name": "stdout",
          "text": [
            "3299 [D loss: 0.278563, acc.: 100.00%] [G loss: 1.391512]\n"
          ]
        },
        {
          "output_type": "stream",
          "name": "stderr",
          "text": [
            " 34%|███▍      | 3401/10000 [07:22<14:20,  7.67it/s]"
          ]
        },
        {
          "output_type": "stream",
          "name": "stdout",
          "text": [
            "3399 [D loss: 0.236281, acc.: 100.00%] [G loss: 1.462544]\n"
          ]
        },
        {
          "output_type": "stream",
          "name": "stderr",
          "text": [
            " 35%|███▌      | 3501/10000 [07:34<14:15,  7.60it/s]"
          ]
        },
        {
          "output_type": "stream",
          "name": "stdout",
          "text": [
            "3499 [D loss: 0.265101, acc.: 100.00%] [G loss: 2.307950]\n"
          ]
        },
        {
          "output_type": "stream",
          "name": "stderr",
          "text": [
            " 36%|███▌      | 3601/10000 [07:47<14:02,  7.60it/s]"
          ]
        },
        {
          "output_type": "stream",
          "name": "stdout",
          "text": [
            "3599 [D loss: 0.091871, acc.: 100.00%] [G loss: 2.912730]\n"
          ]
        },
        {
          "output_type": "stream",
          "name": "stderr",
          "text": [
            " 37%|███▋      | 3701/10000 [07:59<13:30,  7.77it/s]"
          ]
        },
        {
          "output_type": "stream",
          "name": "stdout",
          "text": [
            "3699 [D loss: 0.160633, acc.: 100.00%] [G loss: 2.003172]\n"
          ]
        },
        {
          "output_type": "stream",
          "name": "stderr",
          "text": [
            " 38%|███▊      | 3801/10000 [08:11<13:27,  7.68it/s]"
          ]
        },
        {
          "output_type": "stream",
          "name": "stdout",
          "text": [
            "3799 [D loss: 0.336354, acc.: 100.00%] [G loss: 1.229458]\n"
          ]
        },
        {
          "output_type": "stream",
          "name": "stderr",
          "text": [
            " 39%|███▉      | 3901/10000 [08:25<15:08,  6.71it/s]"
          ]
        },
        {
          "output_type": "stream",
          "name": "stdout",
          "text": [
            "3899 [D loss: 0.281102, acc.: 100.00%] [G loss: 1.242182]\n"
          ]
        },
        {
          "output_type": "stream",
          "name": "stderr",
          "text": [
            " 40%|████      | 4001/10000 [08:39<13:29,  7.41it/s]"
          ]
        },
        {
          "output_type": "stream",
          "name": "stdout",
          "text": [
            "3999 [D loss: 0.224887, acc.: 100.00%] [G loss: 1.463262]\n"
          ]
        },
        {
          "output_type": "stream",
          "name": "stderr",
          "text": [
            " 41%|████      | 4101/10000 [08:51<12:53,  7.63it/s]"
          ]
        },
        {
          "output_type": "stream",
          "name": "stdout",
          "text": [
            "4099 [D loss: 0.224153, acc.: 100.00%] [G loss: 1.470273]\n"
          ]
        },
        {
          "output_type": "stream",
          "name": "stderr",
          "text": [
            " 42%|████▏     | 4201/10000 [09:04<12:24,  7.79it/s]"
          ]
        },
        {
          "output_type": "stream",
          "name": "stdout",
          "text": [
            "4199 [D loss: 0.162294, acc.: 100.00%] [G loss: 1.763471]\n"
          ]
        },
        {
          "output_type": "stream",
          "name": "stderr",
          "text": [
            " 43%|████▎     | 4301/10000 [09:16<11:55,  7.96it/s]"
          ]
        },
        {
          "output_type": "stream",
          "name": "stdout",
          "text": [
            "4299 [D loss: 0.121046, acc.: 100.00%] [G loss: 2.110112]\n"
          ]
        },
        {
          "output_type": "stream",
          "name": "stderr",
          "text": [
            " 44%|████▍     | 4401/10000 [09:28<11:58,  7.80it/s]"
          ]
        },
        {
          "output_type": "stream",
          "name": "stdout",
          "text": [
            "4399 [D loss: 0.117534, acc.: 100.00%] [G loss: 2.170133]\n"
          ]
        },
        {
          "output_type": "stream",
          "name": "stderr",
          "text": [
            " 45%|████▌     | 4501/10000 [09:41<11:50,  7.74it/s]"
          ]
        },
        {
          "output_type": "stream",
          "name": "stdout",
          "text": [
            "4499 [D loss: 0.100743, acc.: 100.00%] [G loss: 2.198636]\n"
          ]
        },
        {
          "output_type": "stream",
          "name": "stderr",
          "text": [
            " 46%|████▌     | 4601/10000 [09:53<12:02,  7.47it/s]"
          ]
        },
        {
          "output_type": "stream",
          "name": "stdout",
          "text": [
            "4599 [D loss: 0.103224, acc.: 100.00%] [G loss: 2.284374]\n"
          ]
        },
        {
          "output_type": "stream",
          "name": "stderr",
          "text": [
            " 47%|████▋     | 4701/10000 [10:05<11:35,  7.62it/s]"
          ]
        },
        {
          "output_type": "stream",
          "name": "stdout",
          "text": [
            "4699 [D loss: 0.232751, acc.: 94.23%] [G loss: 1.812404]\n"
          ]
        },
        {
          "output_type": "stream",
          "name": "stderr",
          "text": [
            " 48%|████▊     | 4801/10000 [10:18<11:31,  7.52it/s]"
          ]
        },
        {
          "output_type": "stream",
          "name": "stdout",
          "text": [
            "4799 [D loss: 0.121139, acc.: 100.00%] [G loss: 3.270549]\n"
          ]
        },
        {
          "output_type": "stream",
          "name": "stderr",
          "text": [
            " 49%|████▉     | 4901/10000 [10:31<16:19,  5.21it/s]"
          ]
        },
        {
          "output_type": "stream",
          "name": "stdout",
          "text": [
            "4899 [D loss: 0.059488, acc.: 100.00%] [G loss: 3.505999]\n"
          ]
        },
        {
          "output_type": "stream",
          "name": "stderr",
          "text": [
            " 50%|█████     | 5001/10000 [10:44<11:51,  7.03it/s]"
          ]
        },
        {
          "output_type": "stream",
          "name": "stdout",
          "text": [
            "4999 [D loss: 0.064676, acc.: 100.00%] [G loss: 3.055075]\n"
          ]
        },
        {
          "output_type": "stream",
          "name": "stderr",
          "text": [
            " 51%|█████     | 5101/10000 [10:57<10:34,  7.72it/s]"
          ]
        },
        {
          "output_type": "stream",
          "name": "stdout",
          "text": [
            "5099 [D loss: 0.113831, acc.: 100.00%] [G loss: 2.202447]\n"
          ]
        },
        {
          "output_type": "stream",
          "name": "stderr",
          "text": [
            " 52%|█████▏    | 5201/10000 [11:10<10:39,  7.50it/s]"
          ]
        },
        {
          "output_type": "stream",
          "name": "stdout",
          "text": [
            "5199 [D loss: 0.121180, acc.: 100.00%] [G loss: 2.174086]\n"
          ]
        },
        {
          "output_type": "stream",
          "name": "stderr",
          "text": [
            " 53%|█████▎    | 5301/10000 [11:22<10:13,  7.65it/s]"
          ]
        },
        {
          "output_type": "stream",
          "name": "stdout",
          "text": [
            "5299 [D loss: 0.055868, acc.: 100.00%] [G loss: 3.573996]\n"
          ]
        },
        {
          "output_type": "stream",
          "name": "stderr",
          "text": [
            " 54%|█████▍    | 5401/10000 [11:34<10:10,  7.54it/s]"
          ]
        },
        {
          "output_type": "stream",
          "name": "stdout",
          "text": [
            "5399 [D loss: 0.077817, acc.: 100.00%] [G loss: 2.389524]\n"
          ]
        },
        {
          "output_type": "stream",
          "name": "stderr",
          "text": [
            " 55%|█████▌    | 5501/10000 [11:47<09:52,  7.60it/s]"
          ]
        },
        {
          "output_type": "stream",
          "name": "stdout",
          "text": [
            "5499 [D loss: 0.073380, acc.: 100.00%] [G loss: 2.550284]\n"
          ]
        },
        {
          "output_type": "stream",
          "name": "stderr",
          "text": [
            " 56%|█████▌    | 5601/10000 [11:59<09:32,  7.69it/s]"
          ]
        },
        {
          "output_type": "stream",
          "name": "stdout",
          "text": [
            "5599 [D loss: 0.049756, acc.: 100.00%] [G loss: 2.954241]\n"
          ]
        },
        {
          "output_type": "stream",
          "name": "stderr",
          "text": [
            " 57%|█████▋    | 5701/10000 [12:11<09:17,  7.72it/s]"
          ]
        },
        {
          "output_type": "stream",
          "name": "stdout",
          "text": [
            "5699 [D loss: 0.032907, acc.: 100.00%] [G loss: 3.986768]\n"
          ]
        },
        {
          "output_type": "stream",
          "name": "stderr",
          "text": [
            " 58%|█████▊    | 5801/10000 [12:24<09:12,  7.60it/s]"
          ]
        },
        {
          "output_type": "stream",
          "name": "stdout",
          "text": [
            "5799 [D loss: 0.035048, acc.: 100.00%] [G loss: 3.572096]\n"
          ]
        },
        {
          "output_type": "stream",
          "name": "stderr",
          "text": [
            " 59%|█████▉    | 5901/10000 [12:38<09:45,  7.00it/s]"
          ]
        },
        {
          "output_type": "stream",
          "name": "stdout",
          "text": [
            "5899 [D loss: 0.028561, acc.: 100.00%] [G loss: 3.443900]\n"
          ]
        },
        {
          "output_type": "stream",
          "name": "stderr",
          "text": [
            " 60%|██████    | 6001/10000 [12:50<08:28,  7.86it/s]"
          ]
        },
        {
          "output_type": "stream",
          "name": "stdout",
          "text": [
            "5999 [D loss: 0.031027, acc.: 100.00%] [G loss: 3.423836]\n"
          ]
        },
        {
          "output_type": "stream",
          "name": "stderr",
          "text": [
            " 61%|██████    | 6101/10000 [13:03<08:35,  7.57it/s]"
          ]
        },
        {
          "output_type": "stream",
          "name": "stdout",
          "text": [
            "6099 [D loss: 0.028155, acc.: 100.00%] [G loss: 3.487739]\n"
          ]
        },
        {
          "output_type": "stream",
          "name": "stderr",
          "text": [
            " 62%|██████▏   | 6201/10000 [13:15<08:24,  7.53it/s]"
          ]
        },
        {
          "output_type": "stream",
          "name": "stdout",
          "text": [
            "6199 [D loss: 0.023350, acc.: 100.00%] [G loss: 3.644950]\n"
          ]
        },
        {
          "output_type": "stream",
          "name": "stderr",
          "text": [
            " 63%|██████▎   | 6301/10000 [13:28<08:11,  7.53it/s]"
          ]
        },
        {
          "output_type": "stream",
          "name": "stdout",
          "text": [
            "6299 [D loss: 0.022241, acc.: 100.00%] [G loss: 4.100610]\n"
          ]
        },
        {
          "output_type": "stream",
          "name": "stderr",
          "text": [
            " 64%|██████▍   | 6401/10000 [13:40<07:58,  7.51it/s]"
          ]
        },
        {
          "output_type": "stream",
          "name": "stdout",
          "text": [
            "6399 [D loss: 0.030116, acc.: 100.00%] [G loss: 3.723094]\n"
          ]
        },
        {
          "output_type": "stream",
          "name": "stderr",
          "text": [
            " 65%|██████▌   | 6501/10000 [13:53<07:46,  7.51it/s]"
          ]
        },
        {
          "output_type": "stream",
          "name": "stdout",
          "text": [
            "6499 [D loss: 0.060224, acc.: 100.00%] [G loss: 3.487942]\n"
          ]
        },
        {
          "output_type": "stream",
          "name": "stderr",
          "text": [
            " 66%|██████▌   | 6601/10000 [14:05<07:24,  7.65it/s]"
          ]
        },
        {
          "output_type": "stream",
          "name": "stdout",
          "text": [
            "6599 [D loss: 0.019885, acc.: 100.00%] [G loss: 4.954903]\n"
          ]
        },
        {
          "output_type": "stream",
          "name": "stderr",
          "text": [
            " 67%|██████▋   | 6701/10000 [14:18<07:09,  7.69it/s]"
          ]
        },
        {
          "output_type": "stream",
          "name": "stdout",
          "text": [
            "6699 [D loss: 0.012032, acc.: 100.00%] [G loss: 5.200112]\n"
          ]
        },
        {
          "output_type": "stream",
          "name": "stderr",
          "text": [
            " 68%|██████▊   | 6801/10000 [14:30<07:02,  7.57it/s]"
          ]
        },
        {
          "output_type": "stream",
          "name": "stdout",
          "text": [
            "6799 [D loss: 0.016317, acc.: 100.00%] [G loss: 4.342483]\n"
          ]
        },
        {
          "output_type": "stream",
          "name": "stderr",
          "text": [
            " 69%|██████▉   | 6901/10000 [14:43<07:34,  6.82it/s]"
          ]
        },
        {
          "output_type": "stream",
          "name": "stdout",
          "text": [
            "6899 [D loss: 0.016317, acc.: 100.00%] [G loss: 4.422587]\n"
          ]
        },
        {
          "output_type": "stream",
          "name": "stderr",
          "text": [
            " 70%|███████   | 7001/10000 [14:57<07:21,  6.80it/s]"
          ]
        },
        {
          "output_type": "stream",
          "name": "stdout",
          "text": [
            "6999 [D loss: 0.022847, acc.: 100.00%] [G loss: 3.770316]\n"
          ]
        },
        {
          "output_type": "stream",
          "name": "stderr",
          "text": [
            " 71%|███████   | 7101/10000 [15:10<06:33,  7.37it/s]"
          ]
        },
        {
          "output_type": "stream",
          "name": "stdout",
          "text": [
            "7099 [D loss: 0.023614, acc.: 100.00%] [G loss: 3.616481]\n"
          ]
        },
        {
          "output_type": "stream",
          "name": "stderr",
          "text": [
            " 72%|███████▏  | 7201/10000 [15:22<06:01,  7.74it/s]"
          ]
        },
        {
          "output_type": "stream",
          "name": "stdout",
          "text": [
            "7199 [D loss: 0.010844, acc.: 100.00%] [G loss: 4.571826]\n"
          ]
        },
        {
          "output_type": "stream",
          "name": "stderr",
          "text": [
            " 73%|███████▎  | 7301/10000 [15:34<05:57,  7.54it/s]"
          ]
        },
        {
          "output_type": "stream",
          "name": "stdout",
          "text": [
            "7299 [D loss: 0.010327, acc.: 100.00%] [G loss: 4.783175]\n"
          ]
        },
        {
          "output_type": "stream",
          "name": "stderr",
          "text": [
            " 74%|███████▍  | 7401/10000 [15:47<05:40,  7.62it/s]"
          ]
        },
        {
          "output_type": "stream",
          "name": "stdout",
          "text": [
            "7399 [D loss: 0.008668, acc.: 100.00%] [G loss: 4.789310]\n"
          ]
        },
        {
          "output_type": "stream",
          "name": "stderr",
          "text": [
            " 75%|███████▌  | 7501/10000 [15:59<05:20,  7.79it/s]"
          ]
        },
        {
          "output_type": "stream",
          "name": "stdout",
          "text": [
            "7499 [D loss: 0.009622, acc.: 100.00%] [G loss: 4.385633]\n"
          ]
        },
        {
          "output_type": "stream",
          "name": "stderr",
          "text": [
            " 76%|███████▌  | 7601/10000 [16:11<05:10,  7.72it/s]"
          ]
        },
        {
          "output_type": "stream",
          "name": "stdout",
          "text": [
            "7599 [D loss: 0.006329, acc.: 100.00%] [G loss: 4.888012]\n"
          ]
        },
        {
          "output_type": "stream",
          "name": "stderr",
          "text": [
            " 77%|███████▋  | 7701/10000 [16:24<04:55,  7.78it/s]"
          ]
        },
        {
          "output_type": "stream",
          "name": "stdout",
          "text": [
            "7699 [D loss: 0.006960, acc.: 100.00%] [G loss: 4.963491]\n"
          ]
        },
        {
          "output_type": "stream",
          "name": "stderr",
          "text": [
            " 78%|███████▊  | 7801/10000 [16:36<04:53,  7.50it/s]"
          ]
        },
        {
          "output_type": "stream",
          "name": "stdout",
          "text": [
            "7799 [D loss: 0.005920, acc.: 100.00%] [G loss: 5.205278]\n"
          ]
        },
        {
          "output_type": "stream",
          "name": "stderr",
          "text": [
            " 79%|███████▉  | 7901/10000 [16:49<05:09,  6.79it/s]"
          ]
        },
        {
          "output_type": "stream",
          "name": "stdout",
          "text": [
            "7899 [D loss: 0.004645, acc.: 100.00%] [G loss: 5.417858]\n"
          ]
        },
        {
          "output_type": "stream",
          "name": "stderr",
          "text": [
            " 80%|████████  | 8001/10000 [17:03<04:40,  7.12it/s]"
          ]
        },
        {
          "output_type": "stream",
          "name": "stdout",
          "text": [
            "7999 [D loss: 0.004726, acc.: 100.00%] [G loss: 5.276373]\n"
          ]
        },
        {
          "output_type": "stream",
          "name": "stderr",
          "text": [
            " 81%|████████  | 8101/10000 [17:15<04:08,  7.64it/s]"
          ]
        },
        {
          "output_type": "stream",
          "name": "stdout",
          "text": [
            "8099 [D loss: 0.003677, acc.: 100.00%] [G loss: 5.592859]\n"
          ]
        },
        {
          "output_type": "stream",
          "name": "stderr",
          "text": [
            " 82%|████████▏ | 8201/10000 [17:28<03:49,  7.84it/s]"
          ]
        },
        {
          "output_type": "stream",
          "name": "stdout",
          "text": [
            "8199 [D loss: 0.003909, acc.: 100.00%] [G loss: 5.541175]\n"
          ]
        },
        {
          "output_type": "stream",
          "name": "stderr",
          "text": [
            " 83%|████████▎ | 8301/10000 [17:40<03:37,  7.83it/s]"
          ]
        },
        {
          "output_type": "stream",
          "name": "stdout",
          "text": [
            "8299 [D loss: 0.003100, acc.: 100.00%] [G loss: 5.842490]\n"
          ]
        },
        {
          "output_type": "stream",
          "name": "stderr",
          "text": [
            " 84%|████████▍ | 8401/10000 [17:52<03:29,  7.62it/s]"
          ]
        },
        {
          "output_type": "stream",
          "name": "stdout",
          "text": [
            "8399 [D loss: 0.003227, acc.: 100.00%] [G loss: 5.921907]\n"
          ]
        },
        {
          "output_type": "stream",
          "name": "stderr",
          "text": [
            " 85%|████████▌ | 8501/10000 [18:05<03:12,  7.78it/s]"
          ]
        },
        {
          "output_type": "stream",
          "name": "stdout",
          "text": [
            "8499 [D loss: 0.002606, acc.: 100.00%] [G loss: 5.944802]\n"
          ]
        },
        {
          "output_type": "stream",
          "name": "stderr",
          "text": [
            " 86%|████████▌ | 8601/10000 [18:17<03:03,  7.64it/s]"
          ]
        },
        {
          "output_type": "stream",
          "name": "stdout",
          "text": [
            "8599 [D loss: 0.002388, acc.: 100.00%] [G loss: 6.270882]\n"
          ]
        },
        {
          "output_type": "stream",
          "name": "stderr",
          "text": [
            " 87%|████████▋ | 8701/10000 [18:29<02:54,  7.44it/s]"
          ]
        },
        {
          "output_type": "stream",
          "name": "stdout",
          "text": [
            "8699 [D loss: 0.002671, acc.: 100.00%] [G loss: 7.334111]\n"
          ]
        },
        {
          "output_type": "stream",
          "name": "stderr",
          "text": [
            " 88%|████████▊ | 8801/10000 [18:42<02:40,  7.46it/s]"
          ]
        },
        {
          "output_type": "stream",
          "name": "stdout",
          "text": [
            "8799 [D loss: 0.002118, acc.: 100.00%] [G loss: 6.384411]\n"
          ]
        },
        {
          "output_type": "stream",
          "name": "stderr",
          "text": [
            " 89%|████████▉ | 8901/10000 [18:54<02:27,  7.48it/s]"
          ]
        },
        {
          "output_type": "stream",
          "name": "stdout",
          "text": [
            "8899 [D loss: 0.002397, acc.: 100.00%] [G loss: 6.835252]\n"
          ]
        },
        {
          "output_type": "stream",
          "name": "stderr",
          "text": [
            " 90%|█████████ | 9001/10000 [19:08<02:25,  6.85it/s]"
          ]
        },
        {
          "output_type": "stream",
          "name": "stdout",
          "text": [
            "8999 [D loss: 0.001715, acc.: 100.00%] [G loss: 6.999449]\n"
          ]
        },
        {
          "output_type": "stream",
          "name": "stderr",
          "text": [
            " 91%|█████████ | 9101/10000 [19:21<01:58,  7.57it/s]"
          ]
        },
        {
          "output_type": "stream",
          "name": "stdout",
          "text": [
            "9099 [D loss: 0.001710, acc.: 100.00%] [G loss: 6.720170]\n"
          ]
        },
        {
          "output_type": "stream",
          "name": "stderr",
          "text": [
            " 92%|█████████▏| 9201/10000 [19:34<01:48,  7.39it/s]"
          ]
        },
        {
          "output_type": "stream",
          "name": "stdout",
          "text": [
            "9199 [D loss: 0.000889, acc.: 100.00%] [G loss: 7.229709]\n"
          ]
        },
        {
          "output_type": "stream",
          "name": "stderr",
          "text": [
            " 93%|█████████▎| 9301/10000 [19:46<01:36,  7.23it/s]"
          ]
        },
        {
          "output_type": "stream",
          "name": "stdout",
          "text": [
            "9299 [D loss: 0.000907, acc.: 100.00%] [G loss: 7.281358]\n"
          ]
        },
        {
          "output_type": "stream",
          "name": "stderr",
          "text": [
            " 94%|█████████▍| 9401/10000 [19:59<01:23,  7.20it/s]"
          ]
        },
        {
          "output_type": "stream",
          "name": "stdout",
          "text": [
            "9399 [D loss: 0.000745, acc.: 100.00%] [G loss: 7.572174]\n"
          ]
        },
        {
          "output_type": "stream",
          "name": "stderr",
          "text": [
            " 95%|█████████▌| 9501/10000 [20:11<01:08,  7.29it/s]"
          ]
        },
        {
          "output_type": "stream",
          "name": "stdout",
          "text": [
            "9499 [D loss: 0.001019, acc.: 100.00%] [G loss: 6.937610]\n"
          ]
        },
        {
          "output_type": "stream",
          "name": "stderr",
          "text": [
            " 96%|█████████▌| 9601/10000 [20:24<00:57,  6.92it/s]"
          ]
        },
        {
          "output_type": "stream",
          "name": "stdout",
          "text": [
            "9599 [D loss: 0.000745, acc.: 100.00%] [G loss: 7.253346]\n"
          ]
        },
        {
          "output_type": "stream",
          "name": "stderr",
          "text": [
            " 97%|█████████▋| 9701/10000 [20:36<00:40,  7.37it/s]"
          ]
        },
        {
          "output_type": "stream",
          "name": "stdout",
          "text": [
            "9699 [D loss: 0.000731, acc.: 100.00%] [G loss: 7.246692]\n"
          ]
        },
        {
          "output_type": "stream",
          "name": "stderr",
          "text": [
            " 98%|█████████▊| 9801/10000 [20:48<00:26,  7.43it/s]"
          ]
        },
        {
          "output_type": "stream",
          "name": "stdout",
          "text": [
            "9799 [D loss: 0.000512, acc.: 100.00%] [G loss: 7.421022]\n"
          ]
        },
        {
          "output_type": "stream",
          "name": "stderr",
          "text": [
            " 99%|█████████▉| 9901/10000 [21:01<00:13,  7.58it/s]"
          ]
        },
        {
          "output_type": "stream",
          "name": "stdout",
          "text": [
            "9899 [D loss: 0.000565, acc.: 100.00%] [G loss: 7.370222]\n"
          ]
        },
        {
          "output_type": "stream",
          "name": "stderr",
          "text": [
            "100%|██████████| 10000/10000 [21:15<00:00,  7.84it/s]"
          ]
        },
        {
          "output_type": "stream",
          "name": "stdout",
          "text": [
            "9999 [D loss: 0.000505, acc.: 100.00%] [G loss: 7.660263]\n"
          ]
        },
        {
          "output_type": "stream",
          "name": "stderr",
          "text": [
            "\n"
          ]
        }
      ],
      "source": [
        "# create the gan\n",
        "gan_model = define_gan(generator, discriminator)\n",
        "# train model\n",
        "train(generator, discriminator, gan_model, latent_dim)"
      ]
    },
    {
      "cell_type": "markdown",
      "source": [
        "# Evaluation"
      ],
      "metadata": {
        "id": "V1n0vGcDZZkD"
      },
      "id": "V1n0vGcDZZkD"
    },
    {
      "cell_type": "code",
      "source": [
        "synth_norm_list = []\n",
        "for i in tqdm(range(1, 101)):\n",
        "  generator.load_weights('/content/drive/MyDrive/Thesis/model/normal_gan/570_meal_0.0005/generator_weights_' + str(i*100) + '.h5')\n",
        "\n",
        "  synth, _ = generate_fake_samples(generator, 50)\n",
        "  synth = synth.reshape(50,288)\n",
        "\n",
        "  synth_norm_list.append(synth)"
      ],
      "metadata": {
        "colab": {
          "base_uri": "https://localhost:8080/"
        },
        "id": "DZcTslcTZn4P",
        "outputId": "ac2df08b-a509-4e23-d029-1b84afd82997"
      },
      "id": "DZcTslcTZn4P",
      "execution_count": null,
      "outputs": [
        {
          "output_type": "stream",
          "name": "stderr",
          "text": [
            "100%|██████████| 100/100 [02:20<00:00,  1.41s/it]\n"
          ]
        }
      ]
    },
    {
      "cell_type": "code",
      "source": [
        "# save normalized synthetic data\n",
        "np.save(\"/content/drive/MyDrive/Thesis/best model/normgan_meal/570_normalized.npy\",synth_norm_list)"
      ],
      "metadata": {
        "id": "6H_jVunPctUG"
      },
      "id": "6H_jVunPctUG",
      "execution_count": null,
      "outputs": []
    },
    {
      "cell_type": "code",
      "source": [
        "for i in range(len(synth_norm_list)):\n",
        "  synth_norm_list[i] = scaler.inverse_transform(synth_norm_list[i])"
      ],
      "metadata": {
        "id": "Nqm0o6-QpwOc"
      },
      "id": "Nqm0o6-QpwOc",
      "execution_count": null,
      "outputs": []
    },
    {
      "cell_type": "code",
      "source": [
        "# save unnormalized synthetic data\n",
        "np.save(\"/content/drive/MyDrive/Thesis/best model/normgan_meal/570_unnormalized.npy\",synth_norm_list)"
      ],
      "metadata": {
        "id": "HzvryA5Mp5-q"
      },
      "id": "HzvryA5Mp5-q",
      "execution_count": null,
      "outputs": []
    },
    {
      "cell_type": "markdown",
      "source": [
        "Visualizations of normal GAN and TimeGAN"
      ],
      "metadata": {
        "id": "kLCiNV1jpNQ-"
      },
      "id": "kLCiNV1jpNQ-"
    },
    {
      "cell_type": "code",
      "source": [
        "synth_normgan_nonnorm = np.load(\"/content/drive/MyDrive/Thesis/best model/normgan_meal/570_unnormalized.npy\")\n",
        "synth_normgan_norm = np.load(\"/content/drive/MyDrive/Thesis/best model/normgan_meal/570_normalized.npy\")\n",
        "synth_timegan_nonnorm = np.load(\"/content/drive/MyDrive/Thesis/best model/timegan_570_128/synthetic_data_nonorm.npy\")\n",
        "synth_timegan_norm = np.load(\"/content/drive/MyDrive/Thesis/best model/timegan_570_128/synthetic_data.npy\")\n",
        "real_ori = scaler.inverse_transform(meal_570)"
      ],
      "metadata": {
        "id": "BeINFdJepdZT"
      },
      "id": "BeINFdJepdZT",
      "execution_count": null,
      "outputs": []
    },
    {
      "cell_type": "code",
      "source": [
        "def seqAverage(ts, n, feature_window_size):\n",
        "\n",
        "    sub_ts_list = []\n",
        "\n",
        "    for i in range(0, n - n % feature_window_size, feature_window_size):\n",
        "        sub_ts = ts[i: i + feature_window_size]\n",
        "        sub_ts_list.append(sub_ts.mean())\n",
        "    \n",
        "    return pd.DataFrame(sub_ts_list)"
      ],
      "metadata": {
        "id": "iXy4OjL4m5br"
      },
      "id": "iXy4OjL4m5br",
      "execution_count": null,
      "outputs": []
    },
    {
      "cell_type": "code",
      "source": [
        "# discretize y values\n",
        "def discretize(ts, bins=None, global_min=None, global_max=None):\n",
        "    ts = seqAverage(ts, 288, 6)\n",
        "\n",
        "    if np.isscalar(bins):\n",
        "        num_bins = bins\n",
        "\n",
        "        min_value = ts.min()[0]\n",
        "        #print(min_value)\n",
        "        max_value = ts.max()[0]\n",
        "        #print(max_value)\n",
        "        if min_value == max_value:\n",
        "            min_value = global_min\n",
        "            max_value = global_max\n",
        "        step = (max_value - min_value) / num_bins\n",
        "        ts_bins = np.arange(min_value, max_value, step)\n",
        "    else:\n",
        "        ts_bins = bins\n",
        "\n",
        "    inds = np.digitize(ts, ts_bins)\n",
        "    binned_ts = tuple(str(i - 1) for i in inds)\n",
        "    return binned_ts"
      ],
      "metadata": {
        "id": "8sNMUhaBXwuv"
      },
      "id": "8sNMUhaBXwuv",
      "execution_count": null,
      "outputs": []
    },
    {
      "cell_type": "code",
      "source": [
        "def get_bitmap(chunk, level_size=2):\n",
        "    \"\"\"\n",
        "\n",
        "    :param str chunk: symbol sequence representation of a univariate time series\n",
        "    :param int level_size: desired level of recursion of the bitmap\n",
        "    :return : bitmap representation of `chunk`\n",
        "    \"\"\"\n",
        "    bitmap = defaultdict(int)\n",
        "    n = len(chunk)\n",
        "\n",
        "    for i in range(n):\n",
        "        if i <= n - level_size:\n",
        "            feat = chunk[i: i + level_size]\n",
        "            bitmap[feat] += 1  # frequency count\n",
        "    max_freq = max(bitmap.values())\n",
        "    for feat in bitmap.keys():\n",
        "        #print(bitmap[feat])\n",
        "        #print(max_freq)\n",
        "        bitmap[feat] = bitmap[feat] / max_freq\n",
        "    return bitmap"
      ],
      "metadata": {
        "id": "oL-miJt4msv6"
      },
      "id": "oL-miJt4msv6",
      "execution_count": null,
      "outputs": []
    },
    {
      "cell_type": "code",
      "execution_count": null,
      "id": "532c3949-37f8-42e1-970c-f7815805800c",
      "metadata": {
        "id": "532c3949-37f8-42e1-970c-f7815805800c"
      },
      "outputs": [],
      "source": [
        "def imageList(bitmap):\n",
        "  final_list = [[0 for i in range(4)] for j in range(4)]\n",
        "  for key, value in bitmap.items():\n",
        "      num1 = int(key[0][1])\n",
        "      num2 = int(key[1][1])\n",
        "      \n",
        "      if num1 == 0:\n",
        "          if num2 == 0:\n",
        "              final_list[0][0] = value\n",
        "          elif num2 == 1:\n",
        "              final_list[0][1] = value\n",
        "          elif num2 == 2:\n",
        "              final_list[1][0] = value\n",
        "          elif num2 == 3:\n",
        "              final_list[1][1] = value\n",
        "      elif num1 == 1:\n",
        "          if num2 == 0:\n",
        "              final_list[0][2] = value\n",
        "          elif num2 == 1:\n",
        "              final_list[0][3] = value\n",
        "          elif num2 == 2:\n",
        "              final_list[1][2] = value\n",
        "          elif num2 == 3:\n",
        "              final_list[1][3] = value\n",
        "      elif num1 == 2:\n",
        "          if num2 == 0:\n",
        "              final_list[2][0] = value\n",
        "          elif num2 == 1:\n",
        "              final_list[2][1] = value\n",
        "          elif num2 == 2:\n",
        "              final_list[3][0] = value\n",
        "          elif num2 == 3:\n",
        "              final_list[3][1] = value\n",
        "      elif num1 == 3:\n",
        "          if num2 == 0:\n",
        "              final_list[2][2] = value\n",
        "          elif num2 == 1:\n",
        "              final_list[2][3] = value\n",
        "          elif num2 == 2:\n",
        "              final_list[3][2] = value\n",
        "          elif num2 == 3:\n",
        "              final_list[3][3] = value\n",
        "  \n",
        "  return final_list"
      ]
    },
    {
      "cell_type": "code",
      "source": [
        "def showImage(final_list):\n",
        "  plt.imshow(final_list, cmap='jet', interpolation='nearest')\n",
        "  plt.colorbar()\n",
        "  plt.axis('off')\n",
        "  plt.show()"
      ],
      "metadata": {
        "id": "_Y6hBDmt9H7Y"
      },
      "id": "_Y6hBDmt9H7Y",
      "execution_count": null,
      "outputs": []
    },
    {
      "cell_type": "code",
      "source": [
        "# average value of original data from all days\n",
        "total_ori = []\n",
        "list_mean_ori = 0\n",
        "for i in range(50):\n",
        "  bitmap_ori = get_bitmap(discretize(pd.DataFrame(meal_570[i]), 4))\n",
        "  total_ori.append(imageList(bitmap_ori))\n",
        "\n",
        "for i in range(len(total_ori)):\n",
        "  list_mean_ori = list_mean_ori + np.array(total_ori[i])\n",
        "  list_mean_ori = list_mean_ori/len(total_ori)"
      ],
      "metadata": {
        "id": "0-d31VQlw0FW"
      },
      "id": "0-d31VQlw0FW",
      "execution_count": null,
      "outputs": []
    },
    {
      "cell_type": "code",
      "source": [
        "# average value of TimeGAN synthetic data from all days\n",
        "total_timegan = []\n",
        "list_mean_timegan = 0\n",
        "for i in range(50):\n",
        "  bitmap_timegan = get_bitmap(discretize(pd.DataFrame(synth_timegan_norm[1][0][i][:,1]), 4))\n",
        "  total_timegan.append(imageList(bitmap_timegan))\n",
        "\n",
        "for i in range(len(total_timegan)):\n",
        "  list_mean_timegan = list_mean_timegan + np.array(total_timegan[i])\n",
        "  list_mean_timegan = list_mean_timegan/len(total_timegan)"
      ],
      "metadata": {
        "id": "Ja8U4y0JzFEo"
      },
      "id": "Ja8U4y0JzFEo",
      "execution_count": null,
      "outputs": []
    },
    {
      "cell_type": "code",
      "source": [
        "# average value of normal GAN synthetic data from all days\n",
        "total_normgan = []\n",
        "list_mean_normgan = 0\n",
        "for i in range(50):\n",
        "  bitmap_normgan = get_bitmap(discretize(pd.DataFrame(synth_normgan_norm[90][i]), 4))\n",
        "  total_normgan.append(imageList(bitmap_normgan))\n",
        "\n",
        "for i in range(len(total_normgan)):\n",
        "  list_mean_normgan = list_mean_normgan + np.array(total_normgan[i])\n",
        "  list_mean_normgan = list_mean_normgan/len(total_normgan)"
      ],
      "metadata": {
        "id": "zhWR_S0Hzn3Y"
      },
      "id": "zhWR_S0Hzn3Y",
      "execution_count": null,
      "outputs": []
    },
    {
      "cell_type": "code",
      "source": [
        "showImage(list_mean_ori)"
      ],
      "metadata": {
        "colab": {
          "base_uri": "https://localhost:8080/",
          "height": 415
        },
        "id": "9eMYJw5P0PW4",
        "outputId": "00ff8974-7c9e-428f-c9ba-b08865367510"
      },
      "id": "9eMYJw5P0PW4",
      "execution_count": null,
      "outputs": [
        {
          "output_type": "display_data",
          "data": {
            "text/plain": [
              "<Figure size 640x480 with 2 Axes>"
            ],
            "image/png": "[encoded data removed]"
          },
          "metadata": {}
        }
      ]
    },
    {
      "cell_type": "code",
      "source": [
        "showImage(list_mean_timegan)"
      ],
      "metadata": {
        "colab": {
          "base_uri": "https://localhost:8080/",
          "height": 406
        },
        "id": "CtYskPOI0HOv",
        "outputId": "516cb41a-9744-46a2-e936-5913b5a42fbb"
      },
      "id": "CtYskPOI0HOv",
      "execution_count": null,
      "outputs": [
        {
          "output_type": "display_data",
          "data": {
            "text/plain": [
              "<Figure size 640x480 with 2 Axes>"
            ],
            "image/png": "[encoded data removed]"
          },
          "metadata": {}
        }
      ]
    },
    {
      "cell_type": "code",
      "source": [
        "showImage(list_mean_normgan)"
      ],
      "metadata": {
        "colab": {
          "base_uri": "https://localhost:8080/",
          "height": 415
        },
        "id": "BJszV4lS0CTB",
        "outputId": "01e65c26-45e9-40ea-f2a2-8ea9920f6389"
      },
      "id": "BJszV4lS0CTB",
      "execution_count": null,
      "outputs": [
        {
          "output_type": "display_data",
          "data": {
            "text/plain": [
              "<Figure size 640x480 with 2 Axes>"
            ],
            "image/png": "[encoded data removed]"
          },
          "metadata": {}
        }
      ]
    },
    {
      "cell_type": "code",
      "source": [],
      "metadata": {
        "id": "gWDKWbomU6d8"
      },
      "id": "gWDKWbomU6d8",
      "execution_count": null,
      "outputs": []
    },
    {
      "cell_type": "code",
      "source": [
        "cols = 'meal event (Patient 570)'\n",
        "\n",
        "df = pd.DataFrame({'Real': real_ori[11], 'Synthetic_normGAN': synth_normgan_nonnorm[90][11], 'Synthetic_TimeGAN': synth_timegan_nonnorm[1][0][11][:, 1]})\n",
        "df.plot(title = cols,\n",
        "        secondary_y='Synthetic data', style=['-'])"
      ],
      "metadata": {
        "colab": {
          "base_uri": "https://localhost:8080/",
          "height": 469
        },
        "id": "9XBT5O5Or0NW",
        "outputId": "c861958f-d70e-4e50-afd9-ca4cf6ef0d0b"
      },
      "id": "9XBT5O5Or0NW",
      "execution_count": null,
      "outputs": [
        {
          "output_type": "execute_result",
          "data": {
            "text/plain": [
              "<Axes: title={'center': 'meal event (Patient 570)'}>"
            ]
          },
          "metadata": {},
          "execution_count": 72
        },
        {
          "output_type": "display_data",
          "data": {
            "text/plain": [
              "<Figure size 640x480 with 1 Axes>"
            ],
            "image/png": "[encoded data removed]"
          },
          "metadata": {}
        }
      ]
    },
    {
      "cell_type": "code",
      "source": [],
      "metadata": {
        "id": "D0iZTz9ooccy"
      },
      "id": "D0iZTz9ooccy",
      "execution_count": null,
      "outputs": []
    },
    {
      "cell_type": "markdown",
      "source": [
        "SVM"
      ],
      "metadata": {
        "id": "1mHd-Viv6MHH"
      },
      "id": "1mHd-Viv6MHH"
    },
    {
      "cell_type": "code",
      "source": [
        "synth_normgan_nonnorm = np.load(\"/content/drive/MyDrive/Thesis/best model/normgan_meal/570_unnormalized.npy\")\n",
        "synth_normgan_norm = np.load(\"/content/drive/MyDrive/Thesis/best model/normgan_meal/570_normalized.npy\")\n",
        "synth_timegan_nonnorm = np.load(\"/content/drive/MyDrive/Thesis/best model/timegan_570_128/synthetic_data_nonorm.npy\")\n",
        "synth_timegan_norm = np.load(\"/content/drive/MyDrive/Thesis/best model/timegan_570_128/synthetic_data.npy\")"
      ],
      "metadata": {
        "id": "k2tdi0uj6OLU"
      },
      "id": "k2tdi0uj6OLU",
      "execution_count": null,
      "outputs": []
    },
    {
      "cell_type": "code",
      "source": [
        "def getSVM(lamda, times):\n",
        "  # value < 0.01 -> 0\n",
        "  for i in range(len(meal_570)):\n",
        "    for j in range(len(meal_570[0])):\n",
        "      if abs(synth_timegan_norm[1][0][i][j,1]) < lamda:\n",
        "        synth_timegan_norm[1][0][i][j,1] = 0\n",
        "      if abs(synth_normgan_norm[90][i][j]) < lamda:\n",
        "        synth_normgan_norm[90][i][j] = 0\n",
        "\n",
        "  x_real_norm = meal_570.tolist()\n",
        "  y_real_norm = my_list = [1]*50\n",
        "  x_real_time = meal_570.tolist()\n",
        "  y_real_time = my_list = [1]*50\n",
        "\n",
        "  x_timegan = [synth_timegan_norm[1][0][i][:,1].tolist() for i in range(50)]\n",
        "  y_timegan = [0]*50\n",
        "  x_normgan = synth_normgan_norm[90]\n",
        "  y_normgan = [0]*50\n",
        "\n",
        "\n",
        "  x_real_norm.extend(x_normgan)\n",
        "  y_real_norm.extend(y_normgan)\n",
        "  x_real_time.extend(x_timegan)\n",
        "  y_real_time.extend(y_timegan)\n",
        "\n",
        "  accuracy_norm = []\n",
        "  accuracy_time = []\n",
        "  for i in range(times):\n",
        "    numbers = list(range(100))\n",
        "    num_selected_70 = random.sample(numbers, int(0.7*len(numbers)))\n",
        "    num_selected_30 = list(set(numbers) - set(num_selected_70))\n",
        "\n",
        "    training_x_norm = [x_real_norm[num_selected_70[i]] for i in range(len(num_selected_70))]\n",
        "    test_x_norm = [x_real_norm[num_selected_30[i]] for i in range(len(num_selected_30))]\n",
        "    training_y_norm = [y_real_norm[num_selected_70[i]] for i in range(len(num_selected_70))]\n",
        "    test_y_norm = [y_real_norm[num_selected_30[i]] for i in range(len(num_selected_30))]\n",
        "\n",
        "\n",
        "    training_x_time = [x_real_time[num_selected_70[i]] for i in range(len(num_selected_70))]\n",
        "    test_x_time = [x_real_time[num_selected_30[i]] for i in range(len(num_selected_30))]\n",
        "    training_y_time = [y_real_time[num_selected_70[i]] for i in range(len(num_selected_70))]\n",
        "    test_y_time = [y_real_time[num_selected_30[i]] for i in range(len(num_selected_30))]\n",
        "\n",
        "    \n",
        "    classifier_norm = svm.SVC()\n",
        "    classifier_time = svm.SVC()\n",
        "\n",
        "    # Train the classifier on the training data\n",
        "    classifier_norm.fit(training_x_norm, training_y_norm)\n",
        "    classifier_time.fit(training_x_time, training_y_time)\n",
        "\n",
        "    # Predict the labels of the test data\n",
        "    y_pred_norm = classifier_norm.predict(test_x_norm)\n",
        "    y_pred_time = classifier_time.predict(test_x_time)\n",
        "\n",
        "    # Calculate the accuracy and F1 score of the classifier\n",
        "    accuracy_norm.append(metrics.accuracy_score(test_y_norm, y_pred_norm))\n",
        "    accuracy_time.append(metrics.accuracy_score(test_y_time, y_pred_time))\n",
        "\n",
        "  return accuracy_norm, accuracy_time"
      ],
      "metadata": {
        "id": "vD4YuSExGsbW"
      },
      "id": "vD4YuSExGsbW",
      "execution_count": null,
      "outputs": []
    },
    {
      "cell_type": "code",
      "source": [
        "acc_norm_0, acc_time_0 = getSVM(0, 10)\n",
        "acc_norm_1e2, acc_time_1e2 = getSVM(0.01, 10)\n",
        "acc_norm_2, acc_time_2 = getSVM(0.02, 10)\n",
        "acc_norm_5, acc_time_5 = getSVM(0.05, 10)\n",
        "acc_norm_1, acc_time_1 = getSVM(0.1, 10)"
      ],
      "metadata": {
        "id": "uHYXq3fO7MJy"
      },
      "id": "uHYXq3fO7MJy",
      "execution_count": null,
      "outputs": []
    },
    {
      "cell_type": "code",
      "source": [
        "import seaborn as sns\n",
        "\n",
        "λ = [0,0.01,0.02,0.05,0.1,0,0.01,0.02,0.05,0.1]\n",
        "model_type = ['normGAN','normGAN','normGAN','normGAN','normGAN','TimeGAN','TimeGAN','TimeGAN','TimeGAN','TimeGAN']\n",
        "acc = [mean(acc_norm_0), mean(acc_norm_1e2), mean(acc_norm_2), mean(acc_norm_5), mean(acc_norm_1), mean(acc_time_0), mean(acc_time_1e2), mean(acc_time_2), mean(acc_time_5), mean(acc_time_1)]\n",
        "df_svm = pd.DataFrame(list(zip(λ, model_type, acc)), columns = ['λ', 'model', 'acc'])\n",
        "\n",
        "ax = sns.barplot(x=\"model\", y=\"acc\", hue=\"λ\", data=df_svm, width=0.5)\n",
        "\n",
        "ax.set_ylim([0.9, 1])\n",
        "ax.set_yticks([0.9, 0.92, 0.94, 0.96, 0.98, 1.0])\n",
        "ax.set_xlabel(\"Model type\")\n",
        "ax.set_ylabel(\"Accuracy\")\n",
        "plt.show()"
      ],
      "metadata": {
        "id": "SES8bdnq8GfT",
        "colab": {
          "base_uri": "https://localhost:8080/",
          "height": 455
        },
        "outputId": "8e36b40a-c081-4b43-c93a-b8d42a262463"
      },
      "id": "SES8bdnq8GfT",
      "execution_count": null,
      "outputs": [
        {
          "output_type": "display_data",
          "data": {
            "text/plain": [
              "<Figure size 640x480 with 1 Axes>"
            ],
            "image/png": "[encoded data removed]"
          },
          "metadata": {}
        }
      ]
    },
    {
      "cell_type": "code",
      "source": [],
      "metadata": {
        "id": "qiwZFpSggVNr"
      },
      "id": "qiwZFpSggVNr",
      "execution_count": null,
      "outputs": []
    }
  ],
  "metadata": {
    "kernelspec": {
      "display_name": "Python 3 (ipykernel)",
      "language": "python",
      "name": "python3"
    },
    "language_info": {
      "codemirror_mode": {
        "name": "ipython",
        "version": 3
      },
      "file_extension": ".py",
      "mimetype": "text/x-python",
      "name": "python",
      "nbconvert_exporter": "python",
      "pygments_lexer": "ipython3",
      "version": "3.9.13"
    },
    "colab": {
      "provenance": [],
      "machine_shape": "hm",
      "gpuClass": "premium"
    },
    "gpuClass": "premium"
  },
  "nbformat": 4,
  "nbformat_minor": 5
}