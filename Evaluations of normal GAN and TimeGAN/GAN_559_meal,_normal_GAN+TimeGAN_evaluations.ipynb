{
  "cells": [
    {
      "cell_type": "code",
      "execution_count": null,
      "id": "6a1cd663-ce3a-4fa6-b032-274843aa106c",
      "metadata": {
        "id": "6a1cd663-ce3a-4fa6-b032-274843aa106c"
      },
      "outputs": [],
      "source": [
        "# train a generative adversarial network on a one-dimensional function\n",
        "import pandas as pd\n",
        "from numpy import hstack\n",
        "import numpy as np\n",
        "from datetime import datetime\n",
        "from numpy import zeros\n",
        "from numpy import ones\n",
        "import random\n",
        "from numpy.random import rand\n",
        "from numpy.random import randn\n",
        "from keras.models import Sequential\n",
        "from keras import Input\n",
        "from keras.layers import Dense, Conv1D, LeakyReLU, Reshape, UpSampling1D\n",
        "from keras.optimizers import Adam\n",
        "from matplotlib import pyplot\n",
        "import matplotlib.pyplot as plt \n",
        "from tqdm import tqdm\n",
        "from tensorflow import keras\n",
        "from keras.models import save_model, load_model\n",
        "from statistics import mean, variance, pstdev\n",
        "from sklearn.preprocessing import MinMaxScaler\n",
        "from statistics import mean, variance, pstdev\n",
        "from scipy.spatial import distance\n",
        "from scipy.stats import wilcoxon\n",
        "from collections import defaultdict\n",
        "from PIL import Image\n",
        "from sklearn import svm, metrics"
      ]
    },
    {
      "cell_type": "code",
      "source": [
        "from google.colab import drive\n",
        "\n",
        "drive.mount('/content/drive')"
      ],
      "metadata": {
        "colab": {
          "base_uri": "https://localhost:8080/"
        },
        "id": "J-wRkyVB-ZTu",
        "outputId": "4c10297a-0024-44ea-c62f-67213f55b52b"
      },
      "id": "J-wRkyVB-ZTu",
      "execution_count": null,
      "outputs": [
        {
          "output_type": "stream",
          "name": "stdout",
          "text": [
            "Mounted at /content/drive\n"
          ]
        }
      ]
    },
    {
      "cell_type": "code",
      "execution_count": null,
      "id": "b857585e-6da2-4ba6-ae42-7619672cf9e7",
      "metadata": {
        "id": "b857585e-6da2-4ba6-ae42-7619672cf9e7"
      },
      "outputs": [],
      "source": [
        "LENGTH_INPUT = 288\n",
        "latent_dim = 500"
      ]
    },
    {
      "cell_type": "markdown",
      "id": "88ea179b-736e-409f-a40d-84b3910af564",
      "metadata": {
        "id": "88ea179b-736e-409f-a40d-84b3910af564"
      },
      "source": [
        "# Prepare training data"
      ]
    },
    {
      "cell_type": "code",
      "execution_count": null,
      "id": "aa56387d-d5d5-4dba-8e90-c8e8086e73a2",
      "metadata": {
        "id": "aa56387d-d5d5-4dba-8e90-c8e8086e73a2"
      },
      "outputs": [],
      "source": [
        "df_559 =  pd.read_csv('/content/drive/MyDrive/Thesis/processed data/559.csv')"
      ]
    },
    {
      "cell_type": "code",
      "execution_count": null,
      "id": "98e176ab-1bed-4e88-8775-288291f4f545",
      "metadata": {
        "id": "98e176ab-1bed-4e88-8775-288291f4f545"
      },
      "outputs": [],
      "source": [
        "df_559['time'] = pd.to_datetime(df_559['time'], dayfirst=True)"
      ]
    },
    {
      "cell_type": "code",
      "execution_count": null,
      "id": "e3d1c33b-21a3-4e2e-8b22-8dee1b477e14",
      "metadata": {
        "id": "e3d1c33b-21a3-4e2e-8b22-8dee1b477e14"
      },
      "outputs": [],
      "source": [
        "df_559['date'] = df_559['time'].apply(lambda x: x.date())\n",
        "dates = df_559['date'].unique()\n",
        "meal_559 = []\n",
        "for date in dates:\n",
        "    meal_559.append(df_559[df_559['date'] == date]['meal_value'].values)"
      ]
    },
    {
      "cell_type": "code",
      "source": [
        "scaler = MinMaxScaler().fit(meal_559)\n",
        "meal_559 = scaler.transform(meal_559)"
      ],
      "metadata": {
        "id": "JqHy8TStAN9u"
      },
      "id": "JqHy8TStAN9u",
      "execution_count": null,
      "outputs": []
    },
    {
      "cell_type": "code",
      "execution_count": null,
      "id": "4b49b5ca-8628-41f6-8a57-6c0cd025831b",
      "metadata": {
        "id": "4b49b5ca-8628-41f6-8a57-6c0cd025831b"
      },
      "outputs": [],
      "source": [
        "meal_559 = np.array(meal_559)\n",
        "y = ones((49, 1))"
      ]
    },
    {
      "cell_type": "code",
      "source": [
        "meal_559.shape"
      ],
      "metadata": {
        "colab": {
          "base_uri": "https://localhost:8080/"
        },
        "id": "0gV-rRzJ4A6A",
        "outputId": "16908af2-80b4-4581-dcff-aaab1e3a116b"
      },
      "id": "0gV-rRzJ4A6A",
      "execution_count": null,
      "outputs": [
        {
          "output_type": "execute_result",
          "data": {
            "text/plain": [
              "(49, 288)"
            ]
          },
          "metadata": {},
          "execution_count": 9
        }
      ]
    },
    {
      "cell_type": "markdown",
      "id": "c0bf7b7b-097e-4379-bc3c-76bd04d57b25",
      "metadata": {
        "id": "c0bf7b7b-097e-4379-bc3c-76bd04d57b25"
      },
      "source": [
        "# Model Architecture"
      ]
    },
    {
      "cell_type": "code",
      "execution_count": null,
      "id": "a9e75e84-1cd4-43f1-aca8-b6e6f6022304",
      "metadata": {
        "id": "a9e75e84-1cd4-43f1-aca8-b6e6f6022304"
      },
      "outputs": [],
      "source": [
        "# define the standalone discriminator model\n",
        "def define_discriminator():\n",
        "    model = Sequential()\n",
        "    \n",
        "    # Dense layer\n",
        "    model.add(Dense(1, input_shape=(288,1)))\n",
        "    model.add(LeakyReLU())\n",
        "    \n",
        "    # Convolutional layer with LeakyReLU activation\n",
        "    model.add(Conv1D(32, kernel_size=4, strides=2, padding='same'))\n",
        "    model.add(LeakyReLU())\n",
        "\n",
        "    # Convolutional layer with LeakyReLU activation\n",
        "    model.add(Conv1D(32, kernel_size=2, strides=2, padding='same'))\n",
        "    model.add(LeakyReLU())\n",
        "    \n",
        "    # Reshape layer\n",
        "    model.add(Reshape((2304,)))\n",
        "    \n",
        "    # Dense layer\n",
        "    model.add(Dense(1, activation='sigmoid'))\n",
        "\n",
        "    opt = Adam(learning_rate=0.0001)\n",
        "    # compile model\n",
        "    model.compile(loss='binary_crossentropy', optimizer=opt, metrics=['accuracy'])\n",
        "    return model"
      ]
    },
    {
      "cell_type": "code",
      "execution_count": null,
      "id": "099c6ec7-5225-4957-bdfc-e5032cd688fd",
      "metadata": {
        "id": "099c6ec7-5225-4957-bdfc-e5032cd688fd"
      },
      "outputs": [],
      "source": [
        "# define the standalone generator model\n",
        "def define_generator():\n",
        "    model = Sequential()\n",
        "    \n",
        "    # Dense layer\n",
        "    model.add(Dense(3600, input_shape=(latent_dim,)))\n",
        "    model.add(LeakyReLU())\n",
        "    \n",
        "    # Reshape layer\n",
        "    model.add(Reshape((72, 50)))\n",
        "    \n",
        "    # Upsampling layer\n",
        "    model.add(UpSampling1D(size=4))\n",
        "    \n",
        "    # Convolutional layer\n",
        "    model.add(Conv1D(filters=32, kernel_size=2, strides=2, padding='same'))\n",
        "    \n",
        "    # Upsampling layer\n",
        "    model.add(UpSampling1D(size=4))\n",
        "    \n",
        "    # Convolutional layer + leaky relu layer\n",
        "    model.add(Conv1D(filters=32, kernel_size=2, strides=2, padding='same'))\n",
        "    model.add(LeakyReLU())\n",
        "    \n",
        "    # Convolutional layer\n",
        "    model.add(Conv1D(filters=1, kernel_size=1, padding='same'))\n",
        "    \n",
        "    model.compile(optimizer='adam')\n",
        "\n",
        "    return model"
      ]
    },
    {
      "cell_type": "code",
      "execution_count": null,
      "id": "953d1808-87ed-407a-8b83-de4d5691df1c",
      "metadata": {
        "id": "953d1808-87ed-407a-8b83-de4d5691df1c"
      },
      "outputs": [],
      "source": [
        "# define the combined generator and discriminator model, for updating the generator\n",
        "def define_gan(generator, discriminator):\n",
        "    # make weights in the discriminator not trainable\n",
        "    discriminator.trainable = False\n",
        "    # connect them\n",
        "    model = Sequential()\n",
        "    model.add(generator)\n",
        "    model.add(discriminator)\n",
        "    opt = Adam(learning_rate=0.0001)\n",
        "    model.compile(loss='binary_crossentropy', optimizer=opt)\n",
        "    return model"
      ]
    },
    {
      "cell_type": "code",
      "execution_count": null,
      "id": "1fcfbcc5-28a1-4324-8fcd-0624f54ef54e",
      "metadata": {
        "id": "1fcfbcc5-28a1-4324-8fcd-0624f54ef54e"
      },
      "outputs": [],
      "source": [
        "# generate points in latent space as input for the generator\n",
        "def generate_latent_points(n):\n",
        "    # generate points in the latent space from the normal distribution\n",
        "    x_input = np.random.normal(size = latent_dim * n)\n",
        "    # reshape into a batch of inputs for the network\n",
        "    x_input = x_input.reshape(n, latent_dim)\n",
        "\n",
        "    return x_input"
      ]
    },
    {
      "cell_type": "code",
      "execution_count": null,
      "id": "7108a5fc-2e71-4530-b6e6-8769f4f165bb",
      "metadata": {
        "id": "7108a5fc-2e71-4530-b6e6-8769f4f165bb"
      },
      "outputs": [],
      "source": [
        "# use the generator to generate n fake examples, with class labels\n",
        "def generate_fake_samples(generator, n):\n",
        "    # generate points in latent space\n",
        "    x_input = generate_latent_points(n)\n",
        "    # predict outputs\n",
        "    X = generator.predict(x_input, verbose=0)\n",
        "    # create class labels\n",
        "    y = zeros((n, 1))\n",
        "\n",
        "    return X, y"
      ]
    },
    {
      "cell_type": "code",
      "execution_count": null,
      "id": "a92cef4f-9d76-4681-b7ca-c19bd10a302c",
      "metadata": {
        "id": "a92cef4f-9d76-4681-b7ca-c19bd10a302c"
      },
      "outputs": [],
      "source": [
        "# train the generator and discriminator\n",
        "def train(g_model, d_model, gan_model, latent_dim, n_epochs=10000, n_batch=49, n_eval=100):\n",
        "    d_loss_list = []\n",
        "    g_loss_list = []\n",
        "    # determine half the size of one batch, for updating the discriminator\n",
        "    half_batch = int(n_batch / 2)+1\n",
        "    \n",
        "    # manually enumerate epochs\n",
        "    for i in tqdm(range(n_epochs)):\n",
        "        \n",
        "        # prepare real samples\n",
        "        rand_index = random.sample(range(0,49), 25)\n",
        "        x_real, y_real = meal_559[rand_index], y[rand_index]\n",
        "        # prepare fake examples\n",
        "        x_fake, y_fake = generate_fake_samples(g_model, half_batch)\n",
        "        \n",
        "        # update discriminator\n",
        "        d_loss_real = d_model.train_on_batch(x_real, y_real)\n",
        "        d_loss_fake = d_model.train_on_batch(x_fake, y_fake)\n",
        "        # average of d_loss_real and d_loss_fake\n",
        "        d_loss = 0.5 * np.add(d_loss_real, d_loss_fake)\n",
        "        d_loss_list.append(d_loss)\n",
        "        #print(d_loss[0])\n",
        "\n",
        "        # prepare points in latent space as input for the generator\n",
        "        #for _ in range(4):\n",
        "        x_gan = generate_latent_points(n_batch)\n",
        "        # create inverted labels for the fake samples\n",
        "        y_gan = ones((n_batch, 1))\n",
        "        # update the generator via the discriminator's error\n",
        "        g_loss = gan_model.train_on_batch(x_gan, y_gan)\n",
        "        g_loss_list.append(g_loss)\n",
        "        \n",
        "       \n",
        "        # evaluate the model every n_eval epochs\n",
        "        if (i+1) % n_eval == 0:\n",
        "            generator.save_weights('/content/drive/MyDrive/Thesis/model/normal_gan/559_meal_0.0005/generator_weights_%d.h5' %(i+1))\n",
        "            print (\"%d [D loss: %f, acc.: %.2f%%] [G loss: %f]\" % (i, d_loss[0], 100*d_loss[1], g_loss))"
      ]
    },
    {
      "cell_type": "code",
      "execution_count": null,
      "id": "ce93ac09-c4d5-41bd-bf88-f89573ab09b6",
      "metadata": {
        "colab": {
          "base_uri": "https://localhost:8080/"
        },
        "id": "ce93ac09-c4d5-41bd-bf88-f89573ab09b6",
        "outputId": "17b3b196-2736-43a1-b2bc-356cb56020e4"
      },
      "outputs": [
        {
          "output_type": "stream",
          "name": "stdout",
          "text": [
            "Model: \"sequential\"\n",
            "_________________________________________________________________\n",
            " Layer (type)                Output Shape              Param #   \n",
            "=================================================================\n",
            " dense (Dense)               (None, 288, 1)            2         \n",
            "                                                                 \n",
            " leaky_re_lu (LeakyReLU)     (None, 288, 1)            0         \n",
            "                                                                 \n",
            " conv1d (Conv1D)             (None, 144, 32)           160       \n",
            "                                                                 \n",
            " leaky_re_lu_1 (LeakyReLU)   (None, 144, 32)           0         \n",
            "                                                                 \n",
            " conv1d_1 (Conv1D)           (None, 72, 32)            2080      \n",
            "                                                                 \n",
            " leaky_re_lu_2 (LeakyReLU)   (None, 72, 32)            0         \n",
            "                                                                 \n",
            " reshape (Reshape)           (None, 2304)              0         \n",
            "                                                                 \n",
            " dense_1 (Dense)             (None, 1)                 2305      \n",
            "                                                                 \n",
            "=================================================================\n",
            "Total params: 4,547\n",
            "Trainable params: 4,547\n",
            "Non-trainable params: 0\n",
            "_________________________________________________________________\n"
          ]
        }
      ],
      "source": [
        "discriminator = define_discriminator()\n",
        "discriminator.summary()"
      ]
    },
    {
      "cell_type": "code",
      "execution_count": null,
      "id": "aa724642-eb06-4e82-8660-14c835a5f8dc",
      "metadata": {
        "id": "aa724642-eb06-4e82-8660-14c835a5f8dc",
        "outputId": "92967966-f255-4c94-bf53-b3ca11cff234",
        "colab": {
          "base_uri": "https://localhost:8080/"
        }
      },
      "outputs": [
        {
          "output_type": "stream",
          "name": "stdout",
          "text": [
            "Model: \"sequential_1\"\n",
            "_________________________________________________________________\n",
            " Layer (type)                Output Shape              Param #   \n",
            "=================================================================\n",
            " dense_2 (Dense)             (None, 3600)              1803600   \n",
            "                                                                 \n",
            " leaky_re_lu_3 (LeakyReLU)   (None, 3600)              0         \n",
            "                                                                 \n",
            " reshape_1 (Reshape)         (None, 72, 50)            0         \n",
            "                                                                 \n",
            " up_sampling1d (UpSampling1D  (None, 288, 50)          0         \n",
            " )                                                               \n",
            "                                                                 \n",
            " conv1d_2 (Conv1D)           (None, 144, 32)           3232      \n",
            "                                                                 \n",
            " up_sampling1d_1 (UpSampling  (None, 576, 32)          0         \n",
            " 1D)                                                             \n",
            "                                                                 \n",
            " conv1d_3 (Conv1D)           (None, 288, 32)           2080      \n",
            "                                                                 \n",
            " leaky_re_lu_4 (LeakyReLU)   (None, 288, 32)           0         \n",
            "                                                                 \n",
            " conv1d_4 (Conv1D)           (None, 288, 1)            33        \n",
            "                                                                 \n",
            "=================================================================\n",
            "Total params: 1,808,945\n",
            "Trainable params: 1,808,945\n",
            "Non-trainable params: 0\n",
            "_________________________________________________________________\n"
          ]
        }
      ],
      "source": [
        "generator = define_generator()\n",
        "generator.summary()"
      ]
    },
    {
      "cell_type": "code",
      "execution_count": null,
      "id": "8c239002-60c4-4b63-8dae-793783b71777",
      "metadata": {
        "id": "8c239002-60c4-4b63-8dae-793783b71777",
        "outputId": "3d26eb10-6a01-453f-a330-d6b2ac770197",
        "colab": {
          "base_uri": "https://localhost:8080/"
        }
      },
      "outputs": [
        {
          "output_type": "stream",
          "name": "stderr",
          "text": [
            "  1%|          | 101/10000 [00:16<36:58,  4.46it/s]"
          ]
        },
        {
          "output_type": "stream",
          "name": "stdout",
          "text": [
            "99 [D loss: 0.685278, acc.: 100.00%] [G loss: 0.708142]\n"
          ]
        },
        {
          "output_type": "stream",
          "name": "stderr",
          "text": [
            "  2%|▏         | 201/10000 [00:28<21:01,  7.77it/s]"
          ]
        },
        {
          "output_type": "stream",
          "name": "stdout",
          "text": [
            "199 [D loss: 0.683459, acc.: 96.00%] [G loss: 0.710929]\n"
          ]
        },
        {
          "output_type": "stream",
          "name": "stderr",
          "text": [
            "  3%|▎         | 301/10000 [00:41<25:01,  6.46it/s]"
          ]
        },
        {
          "output_type": "stream",
          "name": "stdout",
          "text": [
            "299 [D loss: 0.684807, acc.: 94.00%] [G loss: 0.708051]\n"
          ]
        },
        {
          "output_type": "stream",
          "name": "stderr",
          "text": [
            "  4%|▍         | 401/10000 [00:53<22:07,  7.23it/s]"
          ]
        },
        {
          "output_type": "stream",
          "name": "stdout",
          "text": [
            "399 [D loss: 0.688194, acc.: 94.00%] [G loss: 0.700772]\n"
          ]
        },
        {
          "output_type": "stream",
          "name": "stderr",
          "text": [
            "  5%|▌         | 501/10000 [01:05<21:02,  7.52it/s]"
          ]
        },
        {
          "output_type": "stream",
          "name": "stdout",
          "text": [
            "499 [D loss: 0.689149, acc.: 88.00%] [G loss: 0.701776]\n"
          ]
        },
        {
          "output_type": "stream",
          "name": "stderr",
          "text": [
            "  6%|▌         | 601/10000 [01:17<20:42,  7.56it/s]"
          ]
        },
        {
          "output_type": "stream",
          "name": "stdout",
          "text": [
            "599 [D loss: 0.679604, acc.: 88.00%] [G loss: 0.721171]\n"
          ]
        },
        {
          "output_type": "stream",
          "name": "stderr",
          "text": [
            "  7%|▋         | 701/10000 [01:29<19:57,  7.76it/s]"
          ]
        },
        {
          "output_type": "stream",
          "name": "stdout",
          "text": [
            "699 [D loss: 0.688011, acc.: 50.00%] [G loss: 0.713732]\n"
          ]
        },
        {
          "output_type": "stream",
          "name": "stderr",
          "text": [
            "  8%|▊         | 801/10000 [01:41<19:48,  7.74it/s]"
          ]
        },
        {
          "output_type": "stream",
          "name": "stdout",
          "text": [
            "799 [D loss: 0.678696, acc.: 54.00%] [G loss: 0.732283]\n"
          ]
        },
        {
          "output_type": "stream",
          "name": "stderr",
          "text": [
            "  9%|▉         | 901/10000 [01:54<21:49,  6.95it/s]"
          ]
        },
        {
          "output_type": "stream",
          "name": "stdout",
          "text": [
            "899 [D loss: 0.681896, acc.: 62.00%] [G loss: 0.724223]\n"
          ]
        },
        {
          "output_type": "stream",
          "name": "stderr",
          "text": [
            " 10%|█         | 1001/10000 [02:07<19:05,  7.85it/s]"
          ]
        },
        {
          "output_type": "stream",
          "name": "stdout",
          "text": [
            "999 [D loss: 0.688388, acc.: 50.00%] [G loss: 0.718439]\n"
          ]
        },
        {
          "output_type": "stream",
          "name": "stderr",
          "text": [
            " 11%|█         | 1101/10000 [02:19<18:57,  7.82it/s]"
          ]
        },
        {
          "output_type": "stream",
          "name": "stdout",
          "text": [
            "1099 [D loss: 0.693444, acc.: 58.00%] [G loss: 0.699784]\n"
          ]
        },
        {
          "output_type": "stream",
          "name": "stderr",
          "text": [
            " 12%|█▏        | 1201/10000 [02:31<19:13,  7.63it/s]"
          ]
        },
        {
          "output_type": "stream",
          "name": "stdout",
          "text": [
            "1199 [D loss: 0.670483, acc.: 90.00%] [G loss: 0.739282]\n"
          ]
        },
        {
          "output_type": "stream",
          "name": "stderr",
          "text": [
            " 13%|█▎        | 1301/10000 [02:43<18:16,  7.93it/s]"
          ]
        },
        {
          "output_type": "stream",
          "name": "stdout",
          "text": [
            "1299 [D loss: 0.651108, acc.: 96.00%] [G loss: 0.769195]\n"
          ]
        },
        {
          "output_type": "stream",
          "name": "stderr",
          "text": [
            " 14%|█▍        | 1401/10000 [02:55<18:25,  7.78it/s]"
          ]
        },
        {
          "output_type": "stream",
          "name": "stdout",
          "text": [
            "1399 [D loss: 0.665615, acc.: 92.00%] [G loss: 0.749366]\n"
          ]
        },
        {
          "output_type": "stream",
          "name": "stderr",
          "text": [
            " 15%|█▌        | 1501/10000 [03:07<17:55,  7.90it/s]"
          ]
        },
        {
          "output_type": "stream",
          "name": "stdout",
          "text": [
            "1499 [D loss: 0.678829, acc.: 58.00%] [G loss: 0.737377]\n"
          ]
        },
        {
          "output_type": "stream",
          "name": "stderr",
          "text": [
            " 16%|█▌        | 1601/10000 [03:19<17:46,  7.87it/s]"
          ]
        },
        {
          "output_type": "stream",
          "name": "stdout",
          "text": [
            "1599 [D loss: 0.693173, acc.: 54.00%] [G loss: 0.696470]\n"
          ]
        },
        {
          "output_type": "stream",
          "name": "stderr",
          "text": [
            " 17%|█▋        | 1701/10000 [03:31<17:28,  7.91it/s]"
          ]
        },
        {
          "output_type": "stream",
          "name": "stdout",
          "text": [
            "1699 [D loss: 0.684263, acc.: 74.00%] [G loss: 0.722114]\n"
          ]
        },
        {
          "output_type": "stream",
          "name": "stderr",
          "text": [
            " 18%|█▊        | 1801/10000 [03:43<17:11,  7.95it/s]"
          ]
        },
        {
          "output_type": "stream",
          "name": "stdout",
          "text": [
            "1799 [D loss: 0.653819, acc.: 92.00%] [G loss: 0.767192]\n"
          ]
        },
        {
          "output_type": "stream",
          "name": "stderr",
          "text": [
            " 19%|█▉        | 1901/10000 [03:56<18:10,  7.43it/s]"
          ]
        },
        {
          "output_type": "stream",
          "name": "stdout",
          "text": [
            "1899 [D loss: 0.633419, acc.: 98.00%] [G loss: 0.785701]\n"
          ]
        },
        {
          "output_type": "stream",
          "name": "stderr",
          "text": [
            " 20%|██        | 2001/10000 [04:08<16:26,  8.11it/s]"
          ]
        },
        {
          "output_type": "stream",
          "name": "stdout",
          "text": [
            "1999 [D loss: 0.634974, acc.: 100.00%] [G loss: 0.791947]\n"
          ]
        },
        {
          "output_type": "stream",
          "name": "stderr",
          "text": [
            " 21%|██        | 2101/10000 [04:20<16:07,  8.17it/s]"
          ]
        },
        {
          "output_type": "stream",
          "name": "stdout",
          "text": [
            "2099 [D loss: 0.679790, acc.: 82.00%] [G loss: 0.705695]\n"
          ]
        },
        {
          "output_type": "stream",
          "name": "stderr",
          "text": [
            " 22%|██▏       | 2201/10000 [04:32<17:04,  7.61it/s]"
          ]
        },
        {
          "output_type": "stream",
          "name": "stdout",
          "text": [
            "2199 [D loss: 0.672805, acc.: 84.00%] [G loss: 0.721065]\n"
          ]
        },
        {
          "output_type": "stream",
          "name": "stderr",
          "text": [
            " 23%|██▎       | 2301/10000 [04:44<16:01,  8.01it/s]"
          ]
        },
        {
          "output_type": "stream",
          "name": "stdout",
          "text": [
            "2299 [D loss: 0.662867, acc.: 90.00%] [G loss: 0.716410]\n"
          ]
        },
        {
          "output_type": "stream",
          "name": "stderr",
          "text": [
            " 24%|██▍       | 2401/10000 [04:56<15:59,  7.92it/s]"
          ]
        },
        {
          "output_type": "stream",
          "name": "stdout",
          "text": [
            "2399 [D loss: 0.638429, acc.: 98.00%] [G loss: 0.766016]\n"
          ]
        },
        {
          "output_type": "stream",
          "name": "stderr",
          "text": [
            " 25%|██▌       | 2501/10000 [05:08<16:24,  7.62it/s]"
          ]
        },
        {
          "output_type": "stream",
          "name": "stdout",
          "text": [
            "2499 [D loss: 0.606564, acc.: 100.00%] [G loss: 0.813262]\n"
          ]
        },
        {
          "output_type": "stream",
          "name": "stderr",
          "text": [
            " 26%|██▌       | 2601/10000 [05:21<16:36,  7.42it/s]"
          ]
        },
        {
          "output_type": "stream",
          "name": "stdout",
          "text": [
            "2599 [D loss: 0.610394, acc.: 98.00%] [G loss: 0.783957]\n"
          ]
        },
        {
          "output_type": "stream",
          "name": "stderr",
          "text": [
            " 27%|██▋       | 2701/10000 [05:33<16:21,  7.44it/s]"
          ]
        },
        {
          "output_type": "stream",
          "name": "stdout",
          "text": [
            "2699 [D loss: 0.631898, acc.: 98.00%] [G loss: 0.745863]\n"
          ]
        },
        {
          "output_type": "stream",
          "name": "stderr",
          "text": [
            " 28%|██▊       | 2801/10000 [05:46<17:27,  6.87it/s]"
          ]
        },
        {
          "output_type": "stream",
          "name": "stdout",
          "text": [
            "2799 [D loss: 0.624924, acc.: 96.00%] [G loss: 0.737567]\n"
          ]
        },
        {
          "output_type": "stream",
          "name": "stderr",
          "text": [
            " 29%|██▉       | 2901/10000 [05:59<15:26,  7.66it/s]"
          ]
        },
        {
          "output_type": "stream",
          "name": "stdout",
          "text": [
            "2899 [D loss: 0.563858, acc.: 100.00%] [G loss: 0.876764]\n"
          ]
        },
        {
          "output_type": "stream",
          "name": "stderr",
          "text": [
            " 30%|███       | 3001/10000 [06:11<15:04,  7.74it/s]"
          ]
        },
        {
          "output_type": "stream",
          "name": "stdout",
          "text": [
            "2999 [D loss: 0.566343, acc.: 96.00%] [G loss: 0.869912]\n"
          ]
        },
        {
          "output_type": "stream",
          "name": "stderr",
          "text": [
            " 31%|███       | 3101/10000 [06:23<14:44,  7.80it/s]"
          ]
        },
        {
          "output_type": "stream",
          "name": "stdout",
          "text": [
            "3099 [D loss: 0.561497, acc.: 96.00%] [G loss: 0.881786]\n"
          ]
        },
        {
          "output_type": "stream",
          "name": "stderr",
          "text": [
            " 32%|███▏      | 3201/10000 [06:34<14:25,  7.86it/s]"
          ]
        },
        {
          "output_type": "stream",
          "name": "stdout",
          "text": [
            "3199 [D loss: 0.531608, acc.: 100.00%] [G loss: 0.894421]\n"
          ]
        },
        {
          "output_type": "stream",
          "name": "stderr",
          "text": [
            " 33%|███▎      | 3301/10000 [06:46<14:00,  7.97it/s]"
          ]
        },
        {
          "output_type": "stream",
          "name": "stdout",
          "text": [
            "3299 [D loss: 0.564079, acc.: 98.00%] [G loss: 0.835412]\n"
          ]
        },
        {
          "output_type": "stream",
          "name": "stderr",
          "text": [
            " 34%|███▍      | 3401/10000 [06:58<13:54,  7.91it/s]"
          ]
        },
        {
          "output_type": "stream",
          "name": "stdout",
          "text": [
            "3399 [D loss: 0.544018, acc.: 96.00%] [G loss: 0.861297]\n"
          ]
        },
        {
          "output_type": "stream",
          "name": "stderr",
          "text": [
            " 35%|███▌      | 3501/10000 [07:10<13:53,  7.80it/s]"
          ]
        },
        {
          "output_type": "stream",
          "name": "stdout",
          "text": [
            "3499 [D loss: 0.507803, acc.: 100.00%] [G loss: 0.900238]\n"
          ]
        },
        {
          "output_type": "stream",
          "name": "stderr",
          "text": [
            " 36%|███▌      | 3601/10000 [07:22<13:31,  7.89it/s]"
          ]
        },
        {
          "output_type": "stream",
          "name": "stdout",
          "text": [
            "3599 [D loss: 0.478093, acc.: 98.00%] [G loss: 0.962326]\n"
          ]
        },
        {
          "output_type": "stream",
          "name": "stderr",
          "text": [
            " 37%|███▋      | 3701/10000 [07:34<14:08,  7.42it/s]"
          ]
        },
        {
          "output_type": "stream",
          "name": "stdout",
          "text": [
            "3699 [D loss: 0.483233, acc.: 94.00%] [G loss: 0.899935]\n"
          ]
        },
        {
          "output_type": "stream",
          "name": "stderr",
          "text": [
            " 38%|███▊      | 3801/10000 [07:48<14:32,  7.11it/s]"
          ]
        },
        {
          "output_type": "stream",
          "name": "stdout",
          "text": [
            "3799 [D loss: 0.432550, acc.: 94.00%] [G loss: 1.049352]\n"
          ]
        },
        {
          "output_type": "stream",
          "name": "stderr",
          "text": [
            " 39%|███▉      | 3901/10000 [08:00<12:48,  7.94it/s]"
          ]
        },
        {
          "output_type": "stream",
          "name": "stdout",
          "text": [
            "3899 [D loss: 0.425773, acc.: 94.00%] [G loss: 1.120779]\n"
          ]
        },
        {
          "output_type": "stream",
          "name": "stderr",
          "text": [
            " 40%|████      | 4001/10000 [08:12<12:40,  7.89it/s]"
          ]
        },
        {
          "output_type": "stream",
          "name": "stdout",
          "text": [
            "3999 [D loss: 0.440343, acc.: 90.00%] [G loss: 1.096232]\n"
          ]
        },
        {
          "output_type": "stream",
          "name": "stderr",
          "text": [
            " 41%|████      | 4101/10000 [08:24<12:25,  7.91it/s]"
          ]
        },
        {
          "output_type": "stream",
          "name": "stdout",
          "text": [
            "4099 [D loss: 0.419570, acc.: 92.00%] [G loss: 1.083823]\n"
          ]
        },
        {
          "output_type": "stream",
          "name": "stderr",
          "text": [
            " 42%|████▏     | 4201/10000 [08:36<12:55,  7.47it/s]"
          ]
        },
        {
          "output_type": "stream",
          "name": "stdout",
          "text": [
            "4199 [D loss: 0.381684, acc.: 94.00%] [G loss: 1.191194]\n"
          ]
        },
        {
          "output_type": "stream",
          "name": "stderr",
          "text": [
            " 43%|████▎     | 4301/10000 [08:49<12:10,  7.81it/s]"
          ]
        },
        {
          "output_type": "stream",
          "name": "stdout",
          "text": [
            "4299 [D loss: 0.343988, acc.: 96.00%] [G loss: 1.213368]\n"
          ]
        },
        {
          "output_type": "stream",
          "name": "stderr",
          "text": [
            " 44%|████▍     | 4401/10000 [09:01<11:37,  8.02it/s]"
          ]
        },
        {
          "output_type": "stream",
          "name": "stdout",
          "text": [
            "4399 [D loss: 0.346028, acc.: 92.00%] [G loss: 1.339508]\n"
          ]
        },
        {
          "output_type": "stream",
          "name": "stderr",
          "text": [
            " 45%|████▌     | 4501/10000 [09:13<11:29,  7.97it/s]"
          ]
        },
        {
          "output_type": "stream",
          "name": "stdout",
          "text": [
            "4499 [D loss: 0.326588, acc.: 94.00%] [G loss: 1.314105]\n"
          ]
        },
        {
          "output_type": "stream",
          "name": "stderr",
          "text": [
            " 46%|████▌     | 4601/10000 [09:25<11:34,  7.77it/s]"
          ]
        },
        {
          "output_type": "stream",
          "name": "stdout",
          "text": [
            "4599 [D loss: 0.298754, acc.: 94.00%] [G loss: 1.273362]\n"
          ]
        },
        {
          "output_type": "stream",
          "name": "stderr",
          "text": [
            " 47%|████▋     | 4701/10000 [09:38<12:18,  7.18it/s]"
          ]
        },
        {
          "output_type": "stream",
          "name": "stdout",
          "text": [
            "4699 [D loss: 0.278897, acc.: 96.00%] [G loss: 1.411502]\n"
          ]
        },
        {
          "output_type": "stream",
          "name": "stderr",
          "text": [
            " 48%|████▊     | 4801/10000 [09:50<10:38,  8.15it/s]"
          ]
        },
        {
          "output_type": "stream",
          "name": "stdout",
          "text": [
            "4799 [D loss: 0.255962, acc.: 94.00%] [G loss: 1.486693]\n"
          ]
        },
        {
          "output_type": "stream",
          "name": "stderr",
          "text": [
            " 49%|████▉     | 4901/10000 [10:02<10:53,  7.80it/s]"
          ]
        },
        {
          "output_type": "stream",
          "name": "stdout",
          "text": [
            "4899 [D loss: 0.256994, acc.: 94.00%] [G loss: 1.504652]\n"
          ]
        },
        {
          "output_type": "stream",
          "name": "stderr",
          "text": [
            " 50%|█████     | 5001/10000 [10:14<10:36,  7.85it/s]"
          ]
        },
        {
          "output_type": "stream",
          "name": "stdout",
          "text": [
            "4999 [D loss: 0.308878, acc.: 88.00%] [G loss: 1.441738]\n"
          ]
        },
        {
          "output_type": "stream",
          "name": "stderr",
          "text": [
            " 51%|█████     | 5101/10000 [10:26<10:36,  7.69it/s]"
          ]
        },
        {
          "output_type": "stream",
          "name": "stdout",
          "text": [
            "5099 [D loss: 0.302066, acc.: 86.00%] [G loss: 1.945636]\n"
          ]
        },
        {
          "output_type": "stream",
          "name": "stderr",
          "text": [
            " 52%|█████▏    | 5201/10000 [10:38<10:27,  7.64it/s]"
          ]
        },
        {
          "output_type": "stream",
          "name": "stdout",
          "text": [
            "5199 [D loss: 0.182034, acc.: 96.00%] [G loss: 2.098620]\n"
          ]
        },
        {
          "output_type": "stream",
          "name": "stderr",
          "text": [
            " 53%|█████▎    | 5301/10000 [10:50<09:42,  8.06it/s]"
          ]
        },
        {
          "output_type": "stream",
          "name": "stdout",
          "text": [
            "5299 [D loss: 0.252114, acc.: 96.00%] [G loss: 1.494748]\n"
          ]
        },
        {
          "output_type": "stream",
          "name": "stderr",
          "text": [
            " 54%|█████▍    | 5401/10000 [11:02<09:22,  8.18it/s]"
          ]
        },
        {
          "output_type": "stream",
          "name": "stdout",
          "text": [
            "5399 [D loss: 0.242162, acc.: 96.00%] [G loss: 1.529311]\n"
          ]
        },
        {
          "output_type": "stream",
          "name": "stderr",
          "text": [
            " 55%|█████▌    | 5501/10000 [11:13<09:21,  8.01it/s]"
          ]
        },
        {
          "output_type": "stream",
          "name": "stdout",
          "text": [
            "5499 [D loss: 0.239539, acc.: 92.00%] [G loss: 1.627138]\n"
          ]
        },
        {
          "output_type": "stream",
          "name": "stderr",
          "text": [
            " 56%|█████▌    | 5601/10000 [11:25<09:12,  7.96it/s]"
          ]
        },
        {
          "output_type": "stream",
          "name": "stdout",
          "text": [
            "5599 [D loss: 0.231761, acc.: 94.00%] [G loss: 1.699416]\n"
          ]
        },
        {
          "output_type": "stream",
          "name": "stderr",
          "text": [
            " 57%|█████▋    | 5701/10000 [11:39<10:12,  7.02it/s]"
          ]
        },
        {
          "output_type": "stream",
          "name": "stdout",
          "text": [
            "5699 [D loss: 0.164180, acc.: 98.00%] [G loss: 2.022368]\n"
          ]
        },
        {
          "output_type": "stream",
          "name": "stderr",
          "text": [
            " 58%|█████▊    | 5801/10000 [11:51<09:06,  7.68it/s]"
          ]
        },
        {
          "output_type": "stream",
          "name": "stdout",
          "text": [
            "5799 [D loss: 0.178177, acc.: 98.00%] [G loss: 1.931868]\n"
          ]
        },
        {
          "output_type": "stream",
          "name": "stderr",
          "text": [
            " 59%|█████▉    | 5901/10000 [12:03<09:19,  7.32it/s]"
          ]
        },
        {
          "output_type": "stream",
          "name": "stdout",
          "text": [
            "5899 [D loss: 0.161070, acc.: 98.00%] [G loss: 2.045439]\n"
          ]
        },
        {
          "output_type": "stream",
          "name": "stderr",
          "text": [
            " 60%|██████    | 6001/10000 [12:15<08:25,  7.91it/s]"
          ]
        },
        {
          "output_type": "stream",
          "name": "stdout",
          "text": [
            "5999 [D loss: 0.143359, acc.: 98.00%] [G loss: 2.189453]\n"
          ]
        },
        {
          "output_type": "stream",
          "name": "stderr",
          "text": [
            " 61%|██████    | 6101/10000 [12:27<08:07,  8.00it/s]"
          ]
        },
        {
          "output_type": "stream",
          "name": "stdout",
          "text": [
            "6099 [D loss: 0.248572, acc.: 90.00%] [G loss: 1.802850]\n"
          ]
        },
        {
          "output_type": "stream",
          "name": "stderr",
          "text": [
            " 62%|██████▏   | 6201/10000 [12:39<07:55,  8.00it/s]"
          ]
        },
        {
          "output_type": "stream",
          "name": "stdout",
          "text": [
            "6199 [D loss: 0.224447, acc.: 92.00%] [G loss: 2.128751]\n"
          ]
        },
        {
          "output_type": "stream",
          "name": "stderr",
          "text": [
            " 63%|██████▎   | 6301/10000 [12:51<07:49,  7.89it/s]"
          ]
        },
        {
          "output_type": "stream",
          "name": "stdout",
          "text": [
            "6299 [D loss: 0.102014, acc.: 98.00%] [G loss: 2.655752]\n"
          ]
        },
        {
          "output_type": "stream",
          "name": "stderr",
          "text": [
            " 64%|██████▍   | 6401/10000 [13:03<07:23,  8.12it/s]"
          ]
        },
        {
          "output_type": "stream",
          "name": "stdout",
          "text": [
            "6399 [D loss: 0.128767, acc.: 100.00%] [G loss: 2.152599]\n"
          ]
        },
        {
          "output_type": "stream",
          "name": "stderr",
          "text": [
            " 65%|██████▌   | 6501/10000 [13:15<07:14,  8.05it/s]"
          ]
        },
        {
          "output_type": "stream",
          "name": "stdout",
          "text": [
            "6499 [D loss: 0.158230, acc.: 100.00%] [G loss: 1.908094]\n"
          ]
        },
        {
          "output_type": "stream",
          "name": "stderr",
          "text": [
            " 66%|██████▌   | 6601/10000 [13:27<07:42,  7.35it/s]"
          ]
        },
        {
          "output_type": "stream",
          "name": "stdout",
          "text": [
            "6599 [D loss: 0.155634, acc.: 98.00%] [G loss: 2.065328]\n"
          ]
        },
        {
          "output_type": "stream",
          "name": "stderr",
          "text": [
            " 67%|██████▋   | 6701/10000 [13:40<07:03,  7.78it/s]"
          ]
        },
        {
          "output_type": "stream",
          "name": "stdout",
          "text": [
            "6699 [D loss: 0.092145, acc.: 100.00%] [G loss: 2.407714]\n"
          ]
        },
        {
          "output_type": "stream",
          "name": "stderr",
          "text": [
            " 68%|██████▊   | 6801/10000 [13:52<06:42,  7.94it/s]"
          ]
        },
        {
          "output_type": "stream",
          "name": "stdout",
          "text": [
            "6799 [D loss: 0.130608, acc.: 96.00%] [G loss: 2.297747]\n"
          ]
        },
        {
          "output_type": "stream",
          "name": "stderr",
          "text": [
            " 69%|██████▉   | 6901/10000 [14:04<06:42,  7.70it/s]"
          ]
        },
        {
          "output_type": "stream",
          "name": "stdout",
          "text": [
            "6899 [D loss: 0.096997, acc.: 98.00%] [G loss: 2.506892]\n"
          ]
        },
        {
          "output_type": "stream",
          "name": "stderr",
          "text": [
            " 70%|███████   | 7001/10000 [14:16<07:03,  7.08it/s]"
          ]
        },
        {
          "output_type": "stream",
          "name": "stdout",
          "text": [
            "6999 [D loss: 0.092321, acc.: 98.00%] [G loss: 2.549036]\n"
          ]
        },
        {
          "output_type": "stream",
          "name": "stderr",
          "text": [
            " 71%|███████   | 7101/10000 [14:28<06:17,  7.67it/s]"
          ]
        },
        {
          "output_type": "stream",
          "name": "stdout",
          "text": [
            "7099 [D loss: 0.065726, acc.: 100.00%] [G loss: 2.562091]\n"
          ]
        },
        {
          "output_type": "stream",
          "name": "stderr",
          "text": [
            " 72%|███████▏  | 7201/10000 [14:40<05:48,  8.04it/s]"
          ]
        },
        {
          "output_type": "stream",
          "name": "stdout",
          "text": [
            "7199 [D loss: 0.103456, acc.: 98.00%] [G loss: 2.788750]\n"
          ]
        },
        {
          "output_type": "stream",
          "name": "stderr",
          "text": [
            " 73%|███████▎  | 7301/10000 [14:52<05:48,  7.75it/s]"
          ]
        },
        {
          "output_type": "stream",
          "name": "stdout",
          "text": [
            "7299 [D loss: 0.075326, acc.: 98.00%] [G loss: 2.865446]\n"
          ]
        },
        {
          "output_type": "stream",
          "name": "stderr",
          "text": [
            " 74%|███████▍  | 7401/10000 [15:04<05:24,  8.00it/s]"
          ]
        },
        {
          "output_type": "stream",
          "name": "stdout",
          "text": [
            "7399 [D loss: 0.071630, acc.: 100.00%] [G loss: 2.413909]\n"
          ]
        },
        {
          "output_type": "stream",
          "name": "stderr",
          "text": [
            " 75%|███████▌  | 7501/10000 [15:15<05:12,  8.00it/s]"
          ]
        },
        {
          "output_type": "stream",
          "name": "stdout",
          "text": [
            "7499 [D loss: 0.061708, acc.: 100.00%] [G loss: 3.051546]\n"
          ]
        },
        {
          "output_type": "stream",
          "name": "stderr",
          "text": [
            " 76%|███████▌  | 7601/10000 [15:29<05:29,  7.27it/s]"
          ]
        },
        {
          "output_type": "stream",
          "name": "stdout",
          "text": [
            "7599 [D loss: 0.061311, acc.: 98.00%] [G loss: 3.403865]\n"
          ]
        },
        {
          "output_type": "stream",
          "name": "stderr",
          "text": [
            " 77%|███████▋  | 7701/10000 [15:41<04:50,  7.90it/s]"
          ]
        },
        {
          "output_type": "stream",
          "name": "stdout",
          "text": [
            "7699 [D loss: 0.050442, acc.: 100.00%] [G loss: 2.956429]\n"
          ]
        },
        {
          "output_type": "stream",
          "name": "stderr",
          "text": [
            " 78%|███████▊  | 7801/10000 [15:53<04:39,  7.88it/s]"
          ]
        },
        {
          "output_type": "stream",
          "name": "stdout",
          "text": [
            "7799 [D loss: 0.056631, acc.: 100.00%] [G loss: 2.857157]\n"
          ]
        },
        {
          "output_type": "stream",
          "name": "stderr",
          "text": [
            " 79%|███████▉  | 7901/10000 [16:05<04:25,  7.90it/s]"
          ]
        },
        {
          "output_type": "stream",
          "name": "stdout",
          "text": [
            "7899 [D loss: 0.058314, acc.: 100.00%] [G loss: 2.972669]\n"
          ]
        },
        {
          "output_type": "stream",
          "name": "stderr",
          "text": [
            " 80%|████████  | 8001/10000 [16:17<04:10,  7.98it/s]"
          ]
        },
        {
          "output_type": "stream",
          "name": "stdout",
          "text": [
            "7999 [D loss: 0.052284, acc.: 100.00%] [G loss: 2.933845]\n"
          ]
        },
        {
          "output_type": "stream",
          "name": "stderr",
          "text": [
            " 81%|████████  | 8101/10000 [16:29<03:54,  8.11it/s]"
          ]
        },
        {
          "output_type": "stream",
          "name": "stdout",
          "text": [
            "8099 [D loss: 0.030355, acc.: 100.00%] [G loss: 3.210314]\n"
          ]
        },
        {
          "output_type": "stream",
          "name": "stderr",
          "text": [
            " 82%|████████▏ | 8201/10000 [16:40<03:40,  8.18it/s]"
          ]
        },
        {
          "output_type": "stream",
          "name": "stdout",
          "text": [
            "8199 [D loss: 0.025177, acc.: 100.00%] [G loss: 3.510922]\n"
          ]
        },
        {
          "output_type": "stream",
          "name": "stderr",
          "text": [
            " 83%|████████▎ | 8301/10000 [16:52<03:35,  7.90it/s]"
          ]
        },
        {
          "output_type": "stream",
          "name": "stdout",
          "text": [
            "8299 [D loss: 0.029572, acc.: 100.00%] [G loss: 3.364788]\n"
          ]
        },
        {
          "output_type": "stream",
          "name": "stderr",
          "text": [
            " 84%|████████▍ | 8401/10000 [17:04<03:20,  7.99it/s]"
          ]
        },
        {
          "output_type": "stream",
          "name": "stdout",
          "text": [
            "8399 [D loss: 0.039654, acc.: 98.00%] [G loss: 3.379145]\n"
          ]
        },
        {
          "output_type": "stream",
          "name": "stderr",
          "text": [
            " 85%|████████▌ | 8501/10000 [17:17<03:30,  7.11it/s]"
          ]
        },
        {
          "output_type": "stream",
          "name": "stdout",
          "text": [
            "8499 [D loss: 0.042767, acc.: 98.00%] [G loss: 3.481643]\n"
          ]
        },
        {
          "output_type": "stream",
          "name": "stderr",
          "text": [
            " 86%|████████▌ | 8601/10000 [17:30<02:53,  8.06it/s]"
          ]
        },
        {
          "output_type": "stream",
          "name": "stdout",
          "text": [
            "8599 [D loss: 0.028157, acc.: 100.00%] [G loss: 3.785802]\n"
          ]
        },
        {
          "output_type": "stream",
          "name": "stderr",
          "text": [
            " 87%|████████▋ | 8701/10000 [17:42<02:42,  8.01it/s]"
          ]
        },
        {
          "output_type": "stream",
          "name": "stdout",
          "text": [
            "8699 [D loss: 0.035345, acc.: 100.00%] [G loss: 3.854941]\n"
          ]
        },
        {
          "output_type": "stream",
          "name": "stderr",
          "text": [
            " 88%|████████▊ | 8801/10000 [17:54<02:33,  7.79it/s]"
          ]
        },
        {
          "output_type": "stream",
          "name": "stdout",
          "text": [
            "8799 [D loss: 0.015768, acc.: 100.00%] [G loss: 3.936436]\n"
          ]
        },
        {
          "output_type": "stream",
          "name": "stderr",
          "text": [
            " 89%|████████▉ | 8901/10000 [18:05<02:18,  7.92it/s]"
          ]
        },
        {
          "output_type": "stream",
          "name": "stdout",
          "text": [
            "8899 [D loss: 0.019048, acc.: 100.00%] [G loss: 3.816641]\n"
          ]
        },
        {
          "output_type": "stream",
          "name": "stderr",
          "text": [
            " 90%|█████████ | 9001/10000 [18:17<02:08,  7.75it/s]"
          ]
        },
        {
          "output_type": "stream",
          "name": "stdout",
          "text": [
            "8999 [D loss: 0.018946, acc.: 100.00%] [G loss: 3.870919]\n"
          ]
        },
        {
          "output_type": "stream",
          "name": "stderr",
          "text": [
            " 91%|█████████ | 9101/10000 [18:29<01:54,  7.86it/s]"
          ]
        },
        {
          "output_type": "stream",
          "name": "stdout",
          "text": [
            "9099 [D loss: 0.013285, acc.: 100.00%] [G loss: 3.979482]\n"
          ]
        },
        {
          "output_type": "stream",
          "name": "stderr",
          "text": [
            " 92%|█████████▏| 9201/10000 [18:41<01:42,  7.83it/s]"
          ]
        },
        {
          "output_type": "stream",
          "name": "stdout",
          "text": [
            "9199 [D loss: 0.014276, acc.: 100.00%] [G loss: 4.172882]\n"
          ]
        },
        {
          "output_type": "stream",
          "name": "stderr",
          "text": [
            " 93%|█████████▎| 9301/10000 [18:53<01:26,  8.04it/s]"
          ]
        },
        {
          "output_type": "stream",
          "name": "stdout",
          "text": [
            "9299 [D loss: 0.018704, acc.: 100.00%] [G loss: 4.163050]\n"
          ]
        },
        {
          "output_type": "stream",
          "name": "stderr",
          "text": [
            " 94%|█████████▍| 9401/10000 [19:04<01:13,  8.11it/s]"
          ]
        },
        {
          "output_type": "stream",
          "name": "stdout",
          "text": [
            "9399 [D loss: 0.008397, acc.: 100.00%] [G loss: 4.330204]\n"
          ]
        },
        {
          "output_type": "stream",
          "name": "stderr",
          "text": [
            " 95%|█████████▌| 9501/10000 [19:17<01:08,  7.32it/s]"
          ]
        },
        {
          "output_type": "stream",
          "name": "stdout",
          "text": [
            "9499 [D loss: 0.011169, acc.: 100.00%] [G loss: 4.487011]\n"
          ]
        },
        {
          "output_type": "stream",
          "name": "stderr",
          "text": [
            " 96%|█████████▌| 9601/10000 [19:29<00:48,  8.22it/s]"
          ]
        },
        {
          "output_type": "stream",
          "name": "stdout",
          "text": [
            "9599 [D loss: 0.012586, acc.: 100.00%] [G loss: 4.384820]\n"
          ]
        },
        {
          "output_type": "stream",
          "name": "stderr",
          "text": [
            " 97%|█████████▋| 9701/10000 [19:41<00:37,  7.94it/s]"
          ]
        },
        {
          "output_type": "stream",
          "name": "stdout",
          "text": [
            "9699 [D loss: 0.016285, acc.: 100.00%] [G loss: 4.578558]\n"
          ]
        },
        {
          "output_type": "stream",
          "name": "stderr",
          "text": [
            " 98%|█████████▊| 9801/10000 [19:53<00:24,  8.01it/s]"
          ]
        },
        {
          "output_type": "stream",
          "name": "stdout",
          "text": [
            "9799 [D loss: 0.012653, acc.: 100.00%] [G loss: 4.845290]\n"
          ]
        },
        {
          "output_type": "stream",
          "name": "stderr",
          "text": [
            " 99%|█████████▉| 9901/10000 [20:05<00:12,  8.20it/s]"
          ]
        },
        {
          "output_type": "stream",
          "name": "stdout",
          "text": [
            "9899 [D loss: 0.004465, acc.: 100.00%] [G loss: 5.069058]\n"
          ]
        },
        {
          "output_type": "stream",
          "name": "stderr",
          "text": [
            "100%|██████████| 10000/10000 [20:17<00:00,  8.22it/s]"
          ]
        },
        {
          "output_type": "stream",
          "name": "stdout",
          "text": [
            "9999 [D loss: 0.006887, acc.: 100.00%] [G loss: 5.112071]\n"
          ]
        },
        {
          "output_type": "stream",
          "name": "stderr",
          "text": [
            "\n"
          ]
        }
      ],
      "source": [
        "# create the gan\n",
        "gan_model = define_gan(generator, discriminator)\n",
        "# train model\n",
        "train(generator, discriminator, gan_model, latent_dim)"
      ]
    },
    {
      "cell_type": "markdown",
      "source": [
        "# Evaluation"
      ],
      "metadata": {
        "id": "V1n0vGcDZZkD"
      },
      "id": "V1n0vGcDZZkD"
    },
    {
      "cell_type": "code",
      "source": [
        "synth_norm_list = []\n",
        "for i in tqdm(range(1, 101)):\n",
        "  generator.load_weights('/content/drive/MyDrive/Thesis/model/normal_gan/559_meal_0.0005/generator_weights_' + str(i*100) + '.h5')\n",
        "\n",
        "  synth, _ = generate_fake_samples(generator, 49)\n",
        "  synth = synth.reshape(49,288)\n",
        "\n",
        "  synth_norm_list.append(synth)"
      ],
      "metadata": {
        "colab": {
          "base_uri": "https://localhost:8080/"
        },
        "id": "DZcTslcTZn4P",
        "outputId": "b589f9d8-c67b-4c1e-9df4-8a640711ace8"
      },
      "id": "DZcTslcTZn4P",
      "execution_count": null,
      "outputs": [
        {
          "output_type": "stream",
          "name": "stderr",
          "text": [
            "100%|██████████| 100/100 [00:59<00:00,  1.68it/s]\n"
          ]
        }
      ]
    },
    {
      "cell_type": "code",
      "source": [
        "# save normalized synthetic data\n",
        "np.save(\"/content/drive/MyDrive/Thesis/best model/normgan_meal/559_normalized.npy\",synth_norm_list)"
      ],
      "metadata": {
        "id": "6H_jVunPctUG"
      },
      "id": "6H_jVunPctUG",
      "execution_count": null,
      "outputs": []
    },
    {
      "cell_type": "code",
      "source": [
        "for i in range(len(synth_norm_list)):\n",
        "  synth_norm_list[i] = scaler.inverse_transform(synth_norm_list[i])"
      ],
      "metadata": {
        "id": "8sNMUhaBXwuv"
      },
      "id": "8sNMUhaBXwuv",
      "execution_count": null,
      "outputs": []
    },
    {
      "cell_type": "code",
      "source": [
        "# save unnormalized synthetic data\n",
        "np.save(\"/content/drive/MyDrive/Thesis/best model/normgan_meal/559_unnormalized.npy\",synth_norm_list)"
      ],
      "metadata": {
        "id": "TINLfvX2qSIi"
      },
      "id": "TINLfvX2qSIi",
      "execution_count": null,
      "outputs": []
    },
    {
      "cell_type": "markdown",
      "source": [
        "visualizations of normal GAN and TimeGAN"
      ],
      "metadata": {
        "id": "jZKI5NJmyET9"
      },
      "id": "jZKI5NJmyET9"
    },
    {
      "cell_type": "code",
      "source": [
        "synth_normgan_nonnorm = np.load(\"/content/drive/MyDrive/Thesis/best model/normgan_meal/559_unnormalized.npy\")\n",
        "synth_normgan_norm = np.load(\"/content/drive/MyDrive/Thesis/best model/normgan_meal/559_normalized.npy\")\n",
        "synth_timegan_nonnorm = np.load(\"/content/drive/MyDrive/Thesis/best model/timegan_559_128/synthetic_data_nonorm.npy\")\n",
        "synth_timegan_norm = np.load(\"/content/drive/MyDrive/Thesis/best model/timegan_559_128/synthetic_data.npy\")\n",
        "real_ori = scaler.inverse_transform(meal_559)"
      ],
      "metadata": {
        "id": "CD0udmxAhl3q"
      },
      "id": "CD0udmxAhl3q",
      "execution_count": null,
      "outputs": []
    },
    {
      "cell_type": "code",
      "source": [
        "def seqAverage(ts, n, feature_window_size):\n",
        "\n",
        "    sub_ts_list = []\n",
        "\n",
        "    for i in range(0, n - n % feature_window_size, feature_window_size):\n",
        "        sub_ts = ts[i: i + feature_window_size]\n",
        "        sub_ts_list.append(sub_ts.mean())\n",
        "    \n",
        "    return pd.DataFrame(sub_ts_list)"
      ],
      "metadata": {
        "id": "iSmlzrw6K2eY"
      },
      "id": "iSmlzrw6K2eY",
      "execution_count": null,
      "outputs": []
    },
    {
      "cell_type": "code",
      "source": [
        "# discretize y values\n",
        "def discretize(ts, bins=None, global_min=None, global_max=None):\n",
        "    ts = seqAverage(ts, 288, 6)\n",
        "\n",
        "    if np.isscalar(bins):\n",
        "        num_bins = bins\n",
        "\n",
        "        min_value = ts.min()[0]\n",
        "        #print(min_value)\n",
        "        max_value = ts.max()[0]\n",
        "        #print(max_value)\n",
        "        if min_value == max_value:\n",
        "            min_value = global_min\n",
        "            max_value = global_max\n",
        "        step = (max_value - min_value) / num_bins\n",
        "        ts_bins = np.arange(min_value, max_value, step)\n",
        "    else:\n",
        "        ts_bins = bins\n",
        "\n",
        "    inds = np.digitize(ts, ts_bins)\n",
        "    binned_ts = tuple(str(i - 1) for i in inds)\n",
        "    return binned_ts"
      ],
      "metadata": {
        "id": "K4uieg9jLFDh"
      },
      "id": "K4uieg9jLFDh",
      "execution_count": null,
      "outputs": []
    },
    {
      "cell_type": "code",
      "execution_count": null,
      "id": "532c3949-37f8-42e1-970c-f7815805800c",
      "metadata": {
        "id": "532c3949-37f8-42e1-970c-f7815805800c"
      },
      "outputs": [],
      "source": [
        "def get_bitmap(chunk, level_size=2):\n",
        "    \"\"\"\n",
        "\n",
        "    :param str chunk: symbol sequence representation of a univariate time series\n",
        "    :param int level_size: desired level of recursion of the bitmap\n",
        "    :return : bitmap representation of `chunk`\n",
        "    \"\"\"\n",
        "    bitmap = defaultdict(int)\n",
        "    n = len(chunk)\n",
        "\n",
        "    for i in range(n):\n",
        "        if i <= n - level_size:\n",
        "            feat = chunk[i: i + level_size]\n",
        "            bitmap[feat] += 1  # frequency count\n",
        "    max_freq = max(bitmap.values())\n",
        "    for feat in bitmap.keys():\n",
        "        #print(bitmap[feat])\n",
        "        #print(max_freq)\n",
        "        bitmap[feat] = bitmap[feat] / max_freq\n",
        "    return bitmap"
      ]
    },
    {
      "cell_type": "code",
      "source": [
        "def imageList(bitmap):\n",
        "  final_list = [[0 for i in range(4)] for j in range(4)]\n",
        "  for key, value in bitmap.items():\n",
        "      num1 = int(key[0][1])\n",
        "      num2 = int(key[1][1])\n",
        "      \n",
        "      if num1 == 0:\n",
        "          if num2 == 0:\n",
        "              final_list[0][0] = value\n",
        "          elif num2 == 1:\n",
        "              final_list[0][1] = value\n",
        "          elif num2 == 2:\n",
        "              final_list[1][0] = value\n",
        "          elif num2 == 3:\n",
        "              final_list[1][1] = value\n",
        "      elif num1 == 1:\n",
        "          if num2 == 0:\n",
        "              final_list[0][2] = value\n",
        "          elif num2 == 1:\n",
        "              final_list[0][3] = value\n",
        "          elif num2 == 2:\n",
        "              final_list[1][2] = value\n",
        "          elif num2 == 3:\n",
        "              final_list[1][3] = value\n",
        "      elif num1 == 2:\n",
        "          if num2 == 0:\n",
        "              final_list[2][0] = value\n",
        "          elif num2 == 1:\n",
        "              final_list[2][1] = value\n",
        "          elif num2 == 2:\n",
        "              final_list[3][0] = value\n",
        "          elif num2 == 3:\n",
        "              final_list[3][1] = value\n",
        "      elif num1 == 3:\n",
        "          if num2 == 0:\n",
        "              final_list[2][2] = value\n",
        "          elif num2 == 1:\n",
        "              final_list[2][3] = value\n",
        "          elif num2 == 2:\n",
        "              final_list[3][2] = value\n",
        "          elif num2 == 3:\n",
        "              final_list[3][3] = value\n",
        "  \n",
        "  return final_list"
      ],
      "metadata": {
        "id": "_Y6hBDmt9H7Y"
      },
      "id": "_Y6hBDmt9H7Y",
      "execution_count": null,
      "outputs": []
    },
    {
      "cell_type": "code",
      "source": [
        "def showImage(final_list):\n",
        "  plt.imshow(final_list, cmap='jet', interpolation='nearest')\n",
        "  plt.colorbar()\n",
        "  plt.axis('off')\n",
        "  plt.show()"
      ],
      "metadata": {
        "id": "vYgSt7pF9c8o"
      },
      "id": "vYgSt7pF9c8o",
      "execution_count": null,
      "outputs": []
    },
    {
      "cell_type": "code",
      "source": [
        "# average value of original data from all days\n",
        "total_ori = []\n",
        "list_mean_ori = 0\n",
        "for i in range(49):\n",
        "  bitmap_ori = get_bitmap(discretize(pd.DataFrame(meal_559[i]), 4))\n",
        "  total_ori.append(imageList(bitmap_ori))\n",
        "\n",
        "for i in range(len(total_ori)):\n",
        "  list_mean_ori = list_mean_ori + np.array(total_ori[i])\n",
        "  list_mean_ori = list_mean_ori/len(total_ori)"
      ],
      "metadata": {
        "id": "kI2oEigmLoBW"
      },
      "id": "kI2oEigmLoBW",
      "execution_count": null,
      "outputs": []
    },
    {
      "cell_type": "code",
      "source": [
        "# average value of TimeGAN synthetic data from all days\n",
        "total_timegan = []\n",
        "list_mean_timegan = 0\n",
        "for i in range(49):\n",
        "  bitmap_timegan = get_bitmap(discretize(pd.DataFrame(synth_timegan_norm[27][1][i][:,1]), 4))\n",
        "  total_timegan.append(imageList(bitmap_timegan))\n",
        "\n",
        "for i in range(len(total_timegan)):\n",
        "  list_mean_timegan = list_mean_timegan + np.array(total_timegan[i])\n",
        "  list_mean_timegan = list_mean_timegan/len(total_timegan)"
      ],
      "metadata": {
        "id": "sVWaHFNHmK9i"
      },
      "id": "sVWaHFNHmK9i",
      "execution_count": null,
      "outputs": []
    },
    {
      "cell_type": "code",
      "source": [
        "# average value of normal GAN synthetic data from all days\n",
        "total_normgan = []\n",
        "list_mean_normgan = 0\n",
        "for i in range(49):\n",
        "  bitmap_normgan = get_bitmap(discretize(pd.DataFrame(synth_normgan_norm[90][i]), 4))\n",
        "  total_normgan.append(imageList(bitmap_normgan))\n",
        "\n",
        "for i in range(len(total_normgan)):\n",
        "  list_mean_normgan = list_mean_normgan + np.array(total_normgan[i])\n",
        "  list_mean_normgan = list_mean_normgan/len(total_normgan)"
      ],
      "metadata": {
        "id": "otB6i0cXZR8S"
      },
      "id": "otB6i0cXZR8S",
      "execution_count": null,
      "outputs": []
    },
    {
      "cell_type": "code",
      "source": [
        "showImage(list_mean_ori)"
      ],
      "metadata": {
        "colab": {
          "base_uri": "https://localhost:8080/",
          "height": 415
        },
        "id": "KH4TgE9jzK8c",
        "outputId": "cf252106-26b0-479f-fd57-a7a52c1f31db"
      },
      "id": "KH4TgE9jzK8c",
      "execution_count": null,
      "outputs": [
        {
          "output_type": "display_data",
          "data": {
            "text/plain": [
              "<Figure size 640x480 with 2 Axes>"
            ],
            "image/png": "[encoded data removed]"
          },
          "metadata": {}
        }
      ]
    },
    {
      "cell_type": "code",
      "source": [
        "showImage(list_mean_timegan)"
      ],
      "metadata": {
        "colab": {
          "base_uri": "https://localhost:8080/",
          "height": 415
        },
        "id": "UMnM-a8-zOZ4",
        "outputId": "d910cfbf-38dd-4ee2-fc00-40a3e116f607"
      },
      "id": "UMnM-a8-zOZ4",
      "execution_count": null,
      "outputs": [
        {
          "output_type": "display_data",
          "data": {
            "text/plain": [
              "<Figure size 640x480 with 2 Axes>"
            ],
            "image/png": "[encoded data removed]"
          },
          "metadata": {}
        }
      ]
    },
    {
      "cell_type": "code",
      "source": [
        "showImage(list_mean_normgan)"
      ],
      "metadata": {
        "colab": {
          "base_uri": "https://localhost:8080/",
          "height": 415
        },
        "id": "RIw6OdibzOk_",
        "outputId": "bfc4f5dd-729c-498a-e315-bff9298dab08"
      },
      "id": "RIw6OdibzOk_",
      "execution_count": null,
      "outputs": [
        {
          "output_type": "display_data",
          "data": {
            "text/plain": [
              "<Figure size 640x480 with 2 Axes>"
            ],
            "image/png": "[encoded data removed]"
          },
          "metadata": {}
        }
      ]
    },
    {
      "cell_type": "code",
      "source": [
        "cols = 'meal event (Patient 559)'\n",
        "\n",
        "df = pd.DataFrame({'Real': real_ori[43], 'Synthetic_normGAN': synth_normgan_nonnorm[90][43], 'Synthetic_TimeGAN': synth_timegan_nonnorm[27][1][43][:, 1]})\n",
        "df.plot(title = cols,\n",
        "        secondary_y='Synthetic data', style=['-'])"
      ],
      "metadata": {
        "colab": {
          "base_uri": "https://localhost:8080/",
          "height": 469
        },
        "id": "6U9xfdqzzSVF",
        "outputId": "408c2bea-5508-411a-d272-5cb1d69f621c"
      },
      "id": "6U9xfdqzzSVF",
      "execution_count": null,
      "outputs": [
        {
          "output_type": "execute_result",
          "data": {
            "text/plain": [
              "<Axes: title={'center': 'meal event (Patient 559)'}>"
            ]
          },
          "metadata": {},
          "execution_count": 48
        },
        {
          "output_type": "display_data",
          "data": {
            "text/plain": [
              "<Figure size 640x480 with 1 Axes>"
            ],
            "image/png": "[encoded data removed]"
          },
          "metadata": {}
        }
      ]
    },
    {
      "cell_type": "markdown",
      "source": [
        "SVM"
      ],
      "metadata": {
        "id": "lqoYFDoX0bck"
      },
      "id": "lqoYFDoX0bck"
    },
    {
      "cell_type": "code",
      "source": [
        "synth_normgan_nonnorm = np.load(\"/content/drive/MyDrive/Thesis/best model/normgan_meal/559_unnormalized.npy\")\n",
        "synth_normgan_norm = np.load(\"/content/drive/MyDrive/Thesis/best model/normgan_meal/559_normalized.npy\")\n",
        "synth_timegan_nonnorm = np.load(\"/content/drive/MyDrive/Thesis/best model/timegan_559_128/synthetic_data_nonorm.npy\")\n",
        "synth_timegan_norm = np.load(\"/content/drive/MyDrive/Thesis/best model/timegan_559_128/synthetic_data.npy\")"
      ],
      "metadata": {
        "id": "mxFW28Qtzny7"
      },
      "id": "mxFW28Qtzny7",
      "execution_count": null,
      "outputs": []
    },
    {
      "cell_type": "code",
      "source": [
        "def getSVM(lamda, times):\n",
        "  # value < 0.01 -> 0\n",
        "  for i in range(len(meal_559)):\n",
        "    for j in range(len(meal_559[0])):\n",
        "      if abs(synth_timegan_norm[27][1][i][j,1]) < lamda:\n",
        "        synth_timegan_norm[27][1][i][j,1] = 0\n",
        "      if abs(synth_normgan_norm[90][i][j]) < lamda:\n",
        "        synth_normgan_norm[90][i][j] = 0\n",
        "\n",
        "  x_real_norm = meal_559.tolist()\n",
        "  y_real_norm = my_list = [1]*49\n",
        "  x_real_time = meal_559.tolist()\n",
        "  y_real_time = my_list = [1]*49\n",
        "\n",
        "  x_timegan = [synth_timegan_norm[27][1][i][:,1].tolist() for i in range(49)]\n",
        "  y_timegan = [0]*49\n",
        "  x_normgan = synth_normgan_norm[90]\n",
        "  y_normgan = [0]*49\n",
        "\n",
        "\n",
        "  x_real_norm.extend(x_normgan)\n",
        "  y_real_norm.extend(y_normgan)\n",
        "  x_real_time.extend(x_timegan)\n",
        "  y_real_time.extend(y_timegan)\n",
        "\n",
        "  accuracy_norm = []\n",
        "  accuracy_time = []\n",
        "  for i in range(times):\n",
        "    numbers = list(range(98))\n",
        "    num_selected_70 = random.sample(numbers, int(0.7*len(numbers)))\n",
        "    num_selected_30 = list(set(numbers) - set(num_selected_70))\n",
        "\n",
        "    training_x_norm = [x_real_norm[num_selected_70[i]] for i in range(len(num_selected_70))]\n",
        "    test_x_norm = [x_real_norm[num_selected_30[i]] for i in range(len(num_selected_30))]\n",
        "    training_y_norm = [y_real_norm[num_selected_70[i]] for i in range(len(num_selected_70))]\n",
        "    test_y_norm = [y_real_norm[num_selected_30[i]] for i in range(len(num_selected_30))]\n",
        "\n",
        "\n",
        "    training_x_time = [x_real_time[num_selected_70[i]] for i in range(len(num_selected_70))]\n",
        "    test_x_time = [x_real_time[num_selected_30[i]] for i in range(len(num_selected_30))]\n",
        "    training_y_time = [y_real_time[num_selected_70[i]] for i in range(len(num_selected_70))]\n",
        "    test_y_time = [y_real_time[num_selected_30[i]] for i in range(len(num_selected_30))]\n",
        "\n",
        "    \n",
        "    classifier_norm = svm.SVC()\n",
        "    classifier_time = svm.SVC()\n",
        "\n",
        "    # Train the classifier on the training data\n",
        "    classifier_norm.fit(training_x_norm, training_y_norm)\n",
        "    classifier_time.fit(training_x_time, training_y_time)\n",
        "\n",
        "    # Predict the labels of the test data\n",
        "    y_pred_norm = classifier_norm.predict(test_x_norm)\n",
        "    y_pred_time = classifier_time.predict(test_x_time)\n",
        "\n",
        "    # Calculate the accuracy and F1 score of the classifier\n",
        "    accuracy_norm.append(metrics.accuracy_score(test_y_norm, y_pred_norm))\n",
        "    accuracy_time.append(metrics.accuracy_score(test_y_time, y_pred_time))\n",
        "\n",
        "  return accuracy_norm, accuracy_time"
      ],
      "metadata": {
        "id": "HNP_VnbRC8bk"
      },
      "id": "HNP_VnbRC8bk",
      "execution_count": null,
      "outputs": []
    },
    {
      "cell_type": "code",
      "source": [
        "acc_norm_0, acc_time_0 = getSVM(0, 10)\n",
        "acc_norm_1e2, acc_time_1e2 = getSVM(0.01, 10)\n",
        "acc_norm_2, acc_time_2 = getSVM(0.02, 10)\n",
        "acc_norm_5, acc_time_5 = getSVM(0.05, 10)\n",
        "acc_norm_1, acc_time_1 = getSVM(0.1, 10)"
      ],
      "metadata": {
        "id": "2LlfqgoP0hM8"
      },
      "id": "2LlfqgoP0hM8",
      "execution_count": null,
      "outputs": []
    },
    {
      "cell_type": "code",
      "source": [
        "import seaborn as sns\n",
        "\n",
        "λ = [0,0.01,0.02,0.05,0.1,0,0.01,0.02,0.05,0.1]\n",
        "model_type = ['normGAN','normGAN','normGAN','normGAN','normGAN','TimeGAN','TimeGAN','TimeGAN','TimeGAN','TimeGAN']\n",
        "acc = [mean(acc_norm_0), mean(acc_norm_1e2), mean(acc_norm_2), mean(acc_norm_5), mean(acc_norm_1), mean(acc_time_0), mean(acc_time_1e2), mean(acc_time_2), mean(acc_time_5), mean(acc_time_1)]\n",
        "df_svm = pd.DataFrame(list(zip(λ, model_type, acc)), columns = ['λ', 'model', 'acc'])\n",
        "\n",
        "ax = sns.barplot(x=\"model\", y=\"acc\", hue=\"λ\", data=df_svm, width=0.5)\n",
        "\n",
        "ax.set_ylim([0.9, 1])\n",
        "ax.set_yticks([0.9, 0.92, 0.94, 0.96, 0.98, 1.0])\n",
        "ax.set_xlabel(\"Model type\")\n",
        "ax.set_ylabel(\"Accuracy\")\n",
        "plt.show()"
      ],
      "metadata": {
        "colab": {
          "base_uri": "https://localhost:8080/",
          "height": 455
        },
        "id": "c94v39DL00ZR",
        "outputId": "2fcee0f3-f463-4f3e-fbed-bce86b9a076d"
      },
      "id": "c94v39DL00ZR",
      "execution_count": null,
      "outputs": [
        {
          "output_type": "display_data",
          "data": {
            "text/plain": [
              "<Figure size 640x480 with 1 Axes>"
            ],
            "image/png": "[encoded data removed]"
          },
          "metadata": {}
        }
      ]
    },
    {
      "cell_type": "code",
      "source": [],
      "metadata": {
        "id": "ufO3_sdL3tk4"
      },
      "id": "ufO3_sdL3tk4",
      "execution_count": null,
      "outputs": []
    }
  ],
  "metadata": {
    "kernelspec": {
      "display_name": "Python 3 (ipykernel)",
      "language": "python",
      "name": "python3"
    },
    "language_info": {
      "codemirror_mode": {
        "name": "ipython",
        "version": 3
      },
      "file_extension": ".py",
      "mimetype": "text/x-python",
      "name": "python",
      "nbconvert_exporter": "python",
      "pygments_lexer": "ipython3",
      "version": "3.9.13"
    },
    "colab": {
      "provenance": [],
      "machine_shape": "hm",
      "gpuClass": "premium"
    },
    "gpuClass": "premium"
  },
  "nbformat": 4,
  "nbformat_minor": 5
}