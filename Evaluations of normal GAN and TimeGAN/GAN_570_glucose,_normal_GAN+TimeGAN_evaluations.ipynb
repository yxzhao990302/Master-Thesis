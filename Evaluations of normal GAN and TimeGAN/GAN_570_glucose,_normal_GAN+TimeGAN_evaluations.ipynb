{
  "cells": [
    {
      "cell_type": "code",
      "execution_count": null,
      "id": "6a1cd663-ce3a-4fa6-b032-274843aa106c",
      "metadata": {
        "id": "6a1cd663-ce3a-4fa6-b032-274843aa106c"
      },
      "outputs": [],
      "source": [
        "# train a generative adversarial network on a one-dimensional function\n",
        "import pandas as pd\n",
        "from numpy import hstack\n",
        "import numpy as np\n",
        "from datetime import datetime\n",
        "from numpy import zeros\n",
        "from numpy import ones\n",
        "import random\n",
        "from numpy.random import rand\n",
        "from numpy.random import randn\n",
        "from keras.models import Sequential\n",
        "from keras import Input\n",
        "from keras.layers import Dense, Conv1D, LeakyReLU, Reshape, UpSampling1D\n",
        "from keras.optimizers import Adam\n",
        "from matplotlib import pyplot\n",
        "import matplotlib.pyplot as plt \n",
        "from tqdm import tqdm\n",
        "from tensorflow import keras\n",
        "from keras.models import save_model, load_model\n",
        "from statistics import mean, variance, pstdev\n",
        "from sklearn.preprocessing import MinMaxScaler\n",
        "from statistics import mean, variance, pstdev\n",
        "from scipy.spatial import distance\n",
        "from scipy.stats import wilcoxon\n",
        "from dtaidistance import dtw\n",
        "from sklearn.decomposition import PCA\n",
        "from sklearn.manifold import TSNE\n",
        "import matplotlib.gridspec as gridspec\n",
        "import math"
      ]
    },
    {
      "cell_type": "code",
      "source": [
        "!pip install dtaidistance"
      ],
      "metadata": {
        "colab": {
          "base_uri": "https://localhost:8080/"
        },
        "id": "O8t9i1EZrixe",
        "outputId": "4889c341-8430-4b9d-9adc-58fc8b22e532"
      },
      "id": "O8t9i1EZrixe",
      "execution_count": null,
      "outputs": [
        {
          "output_type": "stream",
          "name": "stdout",
          "text": [
            "Looking in indexes: https://pypi.org/simple, https://us-python.pkg.dev/colab-wheels/public/simple/\n",
            "Collecting dtaidistance\n",
            "  Downloading dtaidistance-2.3.10-cp310-cp310-manylinux_2_17_x86_64.manylinux2014_x86_64.whl (2.4 MB)\n",
            "\u001b[2K     \u001b[90m━━━━━━━━━━━━━━━━━━━━━━━━━━━━━━━━━━━━━━━━\u001b[0m \u001b[32m2.4/2.4 MB\u001b[0m \u001b[31m19.1 MB/s\u001b[0m eta \u001b[36m0:00:00\u001b[0m\n",
            "\u001b[?25hRequirement already satisfied: numpy in /usr/local/lib/python3.10/dist-packages (from dtaidistance) (1.22.4)\n",
            "Installing collected packages: dtaidistance\n",
            "Successfully installed dtaidistance-2.3.10\n"
          ]
        }
      ]
    },
    {
      "cell_type": "code",
      "source": [
        "from google.colab import drive\n",
        "\n",
        "drive.mount('/content/drive')"
      ],
      "metadata": {
        "colab": {
          "base_uri": "https://localhost:8080/"
        },
        "id": "J-wRkyVB-ZTu",
        "outputId": "6d2ad061-9201-435e-c824-12ab33370777"
      },
      "id": "J-wRkyVB-ZTu",
      "execution_count": null,
      "outputs": [
        {
          "output_type": "stream",
          "name": "stdout",
          "text": [
            "Mounted at /content/drive\n"
          ]
        }
      ]
    },
    {
      "cell_type": "code",
      "execution_count": null,
      "id": "b857585e-6da2-4ba6-ae42-7619672cf9e7",
      "metadata": {
        "id": "b857585e-6da2-4ba6-ae42-7619672cf9e7"
      },
      "outputs": [],
      "source": [
        "LENGTH_INPUT = 288\n",
        "latent_dim = 500"
      ]
    },
    {
      "cell_type": "markdown",
      "id": "88ea179b-736e-409f-a40d-84b3910af564",
      "metadata": {
        "id": "88ea179b-736e-409f-a40d-84b3910af564"
      },
      "source": [
        "# Prepare training data"
      ]
    },
    {
      "cell_type": "code",
      "execution_count": null,
      "id": "aa56387d-d5d5-4dba-8e90-c8e8086e73a2",
      "metadata": {
        "id": "aa56387d-d5d5-4dba-8e90-c8e8086e73a2"
      },
      "outputs": [],
      "source": [
        "df_570 =  pd.read_csv('/content/drive/MyDrive/Thesis/processed data/570.csv')"
      ]
    },
    {
      "cell_type": "code",
      "execution_count": null,
      "id": "98e176ab-1bed-4e88-8775-288291f4f545",
      "metadata": {
        "id": "98e176ab-1bed-4e88-8775-288291f4f545"
      },
      "outputs": [],
      "source": [
        "df_570['time'] = pd.to_datetime(df_570['time'], dayfirst=True)"
      ]
    },
    {
      "cell_type": "code",
      "execution_count": null,
      "id": "e3d1c33b-21a3-4e2e-8b22-8dee1b477e14",
      "metadata": {
        "id": "e3d1c33b-21a3-4e2e-8b22-8dee1b477e14"
      },
      "outputs": [],
      "source": [
        "df_570['date'] = df_570['time'].apply(lambda x: x.date())\n",
        "dates = df_570['date'].unique()\n",
        "glucose_570 = []\n",
        "for date in dates:\n",
        "  glucose_570.append(df_570[df_570['date'] == date]['glucose_value'].values)"
      ]
    },
    {
      "cell_type": "code",
      "source": [
        "scaler = MinMaxScaler().fit(glucose_570)\n",
        "glucose_570 = scaler.transform(glucose_570)"
      ],
      "metadata": {
        "id": "JqHy8TStAN9u"
      },
      "id": "JqHy8TStAN9u",
      "execution_count": null,
      "outputs": []
    },
    {
      "cell_type": "code",
      "execution_count": null,
      "id": "4b49b5ca-8628-41f6-8a57-6c0cd025831b",
      "metadata": {
        "id": "4b49b5ca-8628-41f6-8a57-6c0cd025831b"
      },
      "outputs": [],
      "source": [
        "glucose_570 = np.array(glucose_570)\n",
        "y = ones((55, 1))"
      ]
    },
    {
      "cell_type": "code",
      "source": [
        "glucose_570.shape"
      ],
      "metadata": {
        "colab": {
          "base_uri": "https://localhost:8080/"
        },
        "id": "kSHiv2guz8zG",
        "outputId": "667dd1d1-8a42-498a-8510-7b2cea65ec69"
      },
      "id": "kSHiv2guz8zG",
      "execution_count": null,
      "outputs": [
        {
          "output_type": "execute_result",
          "data": {
            "text/plain": [
              "(50, 288)"
            ]
          },
          "metadata": {},
          "execution_count": 10
        }
      ]
    },
    {
      "cell_type": "markdown",
      "id": "c0bf7b7b-097e-4379-bc3c-76bd04d57b25",
      "metadata": {
        "id": "c0bf7b7b-097e-4379-bc3c-76bd04d57b25"
      },
      "source": [
        "# Model Architecture"
      ]
    },
    {
      "cell_type": "code",
      "execution_count": null,
      "id": "a9e75e84-1cd4-43f1-aca8-b6e6f6022304",
      "metadata": {
        "id": "a9e75e84-1cd4-43f1-aca8-b6e6f6022304"
      },
      "outputs": [],
      "source": [
        "# define the standalone discriminator model\n",
        "def define_discriminator():\n",
        "    model = Sequential()\n",
        "    \n",
        "    # Dense layer\n",
        "    model.add(Dense(1, input_shape=(288,1)))\n",
        "    model.add(LeakyReLU())\n",
        "    \n",
        "    # Convolutional layer with LeakyReLU activation\n",
        "    model.add(Conv1D(32, kernel_size=4, strides=2, padding='same'))\n",
        "    model.add(LeakyReLU())\n",
        "\n",
        "    # Convolutional layer with LeakyReLU activation\n",
        "    model.add(Conv1D(32, kernel_size=2, strides=2, padding='same'))\n",
        "    model.add(LeakyReLU())\n",
        "    \n",
        "    # Reshape layer\n",
        "    model.add(Reshape((2304,)))\n",
        "    \n",
        "    # Dense layer\n",
        "    model.add(Dense(1, activation='sigmoid'))\n",
        "\n",
        "    opt = Adam(lr=0.0005)\n",
        "    # compile model\n",
        "    model.compile(loss='binary_crossentropy', optimizer=opt, metrics=['accuracy'])\n",
        "    return model"
      ]
    },
    {
      "cell_type": "code",
      "execution_count": null,
      "id": "099c6ec7-5225-4957-bdfc-e5032cd688fd",
      "metadata": {
        "id": "099c6ec7-5225-4957-bdfc-e5032cd688fd"
      },
      "outputs": [],
      "source": [
        "# define the standalone generator model\n",
        "def define_generator():\n",
        "    model = Sequential()\n",
        "    \n",
        "    # Dense layer\n",
        "    model.add(Dense(3600, input_shape=(latent_dim,)))\n",
        "    model.add(LeakyReLU())\n",
        "    \n",
        "    # Reshape layer\n",
        "    model.add(Reshape((72, 50)))\n",
        "    \n",
        "    # Upsampling layer\n",
        "    model.add(UpSampling1D(size=4))\n",
        "    \n",
        "    # Convolutional layer\n",
        "    model.add(Conv1D(filters=32, kernel_size=2, strides=2, padding='same'))\n",
        "    \n",
        "    # Upsampling layer\n",
        "    model.add(UpSampling1D(size=4))\n",
        "    \n",
        "    # Convolutional layer + leaky relu layer\n",
        "    model.add(Conv1D(filters=32, kernel_size=2, strides=2, padding='same'))\n",
        "    model.add(LeakyReLU())\n",
        "    \n",
        "    # Convolutional layer\n",
        "    model.add(Conv1D(filters=1, kernel_size=1, padding='same'))\n",
        "    \n",
        "    model.compile(optimizer='adam')\n",
        "\n",
        "    return model"
      ]
    },
    {
      "cell_type": "code",
      "execution_count": null,
      "id": "953d1808-87ed-407a-8b83-de4d5691df1c",
      "metadata": {
        "id": "953d1808-87ed-407a-8b83-de4d5691df1c"
      },
      "outputs": [],
      "source": [
        "# define the combined generator and discriminator model, for updating the generator\n",
        "def define_gan(generator, discriminator):\n",
        "    # make weights in the discriminator not trainable\n",
        "    discriminator.trainable = False\n",
        "    # connect them\n",
        "    model = Sequential()\n",
        "    model.add(generator)\n",
        "    model.add(discriminator)\n",
        "    opt = Adam(lr=0.0005)\n",
        "    model.compile(loss='binary_crossentropy', optimizer=opt)\n",
        "    return model"
      ]
    },
    {
      "cell_type": "code",
      "execution_count": null,
      "id": "1fcfbcc5-28a1-4324-8fcd-0624f54ef54e",
      "metadata": {
        "id": "1fcfbcc5-28a1-4324-8fcd-0624f54ef54e"
      },
      "outputs": [],
      "source": [
        "# generate points in latent space as input for the generator\n",
        "def generate_latent_points(n):\n",
        "    # generate points in the latent space from the normal distribution\n",
        "    x_input = np.random.normal(size = latent_dim * n)\n",
        "    # reshape into a batch of inputs for the network\n",
        "    x_input = x_input.reshape(n, latent_dim)\n",
        "\n",
        "    return x_input"
      ]
    },
    {
      "cell_type": "code",
      "execution_count": null,
      "id": "7108a5fc-2e71-4530-b6e6-8769f4f165bb",
      "metadata": {
        "id": "7108a5fc-2e71-4530-b6e6-8769f4f165bb"
      },
      "outputs": [],
      "source": [
        "# use the generator to generate n fake examples, with class labels\n",
        "def generate_fake_samples(generator, n):\n",
        "    # generate points in latent space\n",
        "    x_input = generate_latent_points(n)\n",
        "    # predict outputs\n",
        "    X = generator.predict(x_input, verbose=0)\n",
        "    # create class labels\n",
        "    y = zeros((n, 1))\n",
        "\n",
        "    return X, y"
      ]
    },
    {
      "cell_type": "code",
      "execution_count": null,
      "id": "a92cef4f-9d76-4681-b7ca-c19bd10a302c",
      "metadata": {
        "id": "a92cef4f-9d76-4681-b7ca-c19bd10a302c"
      },
      "outputs": [],
      "source": [
        "# train the generator and discriminator\n",
        "def train(g_model, d_model, gan_model, latent_dim, n_epochs=10000, n_batch=50, n_eval=100):\n",
        "    d_loss_list = []\n",
        "    g_loss_list = []\n",
        "    # determine half the size of one batch, for updating the discriminator\n",
        "    half_batch = int(n_batch / 2)\n",
        "    \n",
        "    # manually enumerate epochs\n",
        "    for i in tqdm(range(n_epochs)):\n",
        "        \n",
        "        # prepare real samples\n",
        "        rand_index = random.sample(range(0,50), 25)\n",
        "        x_real, y_real = glucose_570[rand_index], y[rand_index]\n",
        "        # prepare fake examples\n",
        "        x_fake, y_fake = generate_fake_samples(g_model, half_batch)\n",
        "        \n",
        "        # update discriminator\n",
        "        d_loss_real = d_model.train_on_batch(x_real, y_real)\n",
        "        d_loss_fake = d_model.train_on_batch(x_fake, y_fake)\n",
        "        # average of d_loss_real and d_loss_fake\n",
        "        d_loss = 0.5 * np.add(d_loss_real, d_loss_fake)\n",
        "        d_loss_list.append(d_loss)\n",
        "        #print(d_loss[0])\n",
        "\n",
        "        # prepare points in latent space as input for the generator\n",
        "        #for _ in range(4):\n",
        "        x_gan = generate_latent_points(n_batch)\n",
        "        # create inverted labels for the fake samples\n",
        "        y_gan = ones((n_batch, 1))\n",
        "        # update the generator via the discriminator's error\n",
        "        g_loss = gan_model.train_on_batch(x_gan, y_gan)\n",
        "        g_loss_list.append(g_loss)\n",
        "        \n",
        "       \n",
        "        # evaluate the model every n_eval epochs\n",
        "        if (i+1) % n_eval == 0:\n",
        "            generator.save_weights('/content/drive/MyDrive/Thesis/model/normal_gan/570_0.0005/generator_weights_%d.h5' %(i+1))\n",
        "            print (\"%d [D loss: %f, acc.: %.2f%%] [G loss: %f]\" % (i, d_loss[0], 100*d_loss[1], g_loss))"
      ]
    },
    {
      "cell_type": "code",
      "execution_count": null,
      "id": "ce93ac09-c4d5-41bd-bf88-f89573ab09b6",
      "metadata": {
        "colab": {
          "base_uri": "https://localhost:8080/"
        },
        "id": "ce93ac09-c4d5-41bd-bf88-f89573ab09b6",
        "outputId": "5f868851-dc4e-486b-babd-b23fcec43862"
      },
      "outputs": [
        {
          "output_type": "stream",
          "name": "stdout",
          "text": [
            "Model: \"sequential\"\n",
            "_________________________________________________________________\n",
            " Layer (type)                Output Shape              Param #   \n",
            "=================================================================\n",
            " dense (Dense)               (None, 288, 1)            2         \n",
            "                                                                 \n",
            " leaky_re_lu (LeakyReLU)     (None, 288, 1)            0         \n",
            "                                                                 \n",
            " conv1d (Conv1D)             (None, 144, 32)           160       \n",
            "                                                                 \n",
            " leaky_re_lu_1 (LeakyReLU)   (None, 144, 32)           0         \n",
            "                                                                 \n",
            " conv1d_1 (Conv1D)           (None, 72, 32)            2080      \n",
            "                                                                 \n",
            " leaky_re_lu_2 (LeakyReLU)   (None, 72, 32)            0         \n",
            "                                                                 \n",
            " reshape (Reshape)           (None, 2304)              0         \n",
            "                                                                 \n",
            " dense_1 (Dense)             (None, 1)                 2305      \n",
            "                                                                 \n",
            "=================================================================\n",
            "Total params: 4,547\n",
            "Trainable params: 4,547\n",
            "Non-trainable params: 0\n",
            "_________________________________________________________________\n"
          ]
        },
        {
          "output_type": "stream",
          "name": "stderr",
          "text": [
            "/usr/local/lib/python3.10/dist-packages/keras/optimizers/legacy/adam.py:117: UserWarning: The `lr` argument is deprecated, use `learning_rate` instead.\n",
            "  super().__init__(name, **kwargs)\n"
          ]
        }
      ],
      "source": [
        "discriminator = define_discriminator()\n",
        "discriminator.summary()"
      ]
    },
    {
      "cell_type": "code",
      "execution_count": null,
      "id": "aa724642-eb06-4e82-8660-14c835a5f8dc",
      "metadata": {
        "id": "aa724642-eb06-4e82-8660-14c835a5f8dc",
        "outputId": "0aa506a8-6b92-4cf9-8d00-940c2adc5434",
        "colab": {
          "base_uri": "https://localhost:8080/"
        }
      },
      "outputs": [
        {
          "output_type": "stream",
          "name": "stdout",
          "text": [
            "Model: \"sequential_1\"\n",
            "_________________________________________________________________\n",
            " Layer (type)                Output Shape              Param #   \n",
            "=================================================================\n",
            " dense_2 (Dense)             (None, 3600)              1803600   \n",
            "                                                                 \n",
            " leaky_re_lu_3 (LeakyReLU)   (None, 3600)              0         \n",
            "                                                                 \n",
            " reshape_1 (Reshape)         (None, 72, 50)            0         \n",
            "                                                                 \n",
            " up_sampling1d (UpSampling1D  (None, 288, 50)          0         \n",
            " )                                                               \n",
            "                                                                 \n",
            " conv1d_2 (Conv1D)           (None, 144, 32)           3232      \n",
            "                                                                 \n",
            " up_sampling1d_1 (UpSampling  (None, 576, 32)          0         \n",
            " 1D)                                                             \n",
            "                                                                 \n",
            " conv1d_3 (Conv1D)           (None, 288, 32)           2080      \n",
            "                                                                 \n",
            " leaky_re_lu_4 (LeakyReLU)   (None, 288, 32)           0         \n",
            "                                                                 \n",
            " conv1d_4 (Conv1D)           (None, 288, 1)            33        \n",
            "                                                                 \n",
            "=================================================================\n",
            "Total params: 1,808,945\n",
            "Trainable params: 1,808,945\n",
            "Non-trainable params: 0\n",
            "_________________________________________________________________\n"
          ]
        }
      ],
      "source": [
        "generator = define_generator()\n",
        "generator.summary()"
      ]
    },
    {
      "cell_type": "code",
      "execution_count": null,
      "id": "8c239002-60c4-4b63-8dae-793783b71777",
      "metadata": {
        "id": "8c239002-60c4-4b63-8dae-793783b71777",
        "outputId": "4eb61641-94ad-45a2-bb3f-03b355900075",
        "colab": {
          "base_uri": "https://localhost:8080/"
        }
      },
      "outputs": [
        {
          "output_type": "stream",
          "name": "stderr",
          "text": [
            "  1%|          | 101/10000 [00:11<14:42, 11.21it/s]"
          ]
        },
        {
          "output_type": "stream",
          "name": "stdout",
          "text": [
            "99 [D loss: 0.664214, acc.: 50.00%] [G loss: 0.843751]\n"
          ]
        },
        {
          "output_type": "stream",
          "name": "stderr",
          "text": [
            "  2%|▏         | 201/10000 [00:19<14:39, 11.14it/s]"
          ]
        },
        {
          "output_type": "stream",
          "name": "stdout",
          "text": [
            "199 [D loss: 0.693816, acc.: 50.00%] [G loss: 0.800870]\n"
          ]
        },
        {
          "output_type": "stream",
          "name": "stderr",
          "text": [
            "  3%|▎         | 301/10000 [00:28<14:08, 11.44it/s]"
          ]
        },
        {
          "output_type": "stream",
          "name": "stdout",
          "text": [
            "299 [D loss: 0.670259, acc.: 50.00%] [G loss: 0.672834]\n"
          ]
        },
        {
          "output_type": "stream",
          "name": "stderr",
          "text": [
            "  4%|▍         | 401/10000 [00:36<15:39, 10.22it/s]"
          ]
        },
        {
          "output_type": "stream",
          "name": "stdout",
          "text": [
            "399 [D loss: 0.664928, acc.: 44.00%] [G loss: 0.688759]\n"
          ]
        },
        {
          "output_type": "stream",
          "name": "stderr",
          "text": [
            "  5%|▌         | 501/10000 [00:45<13:53, 11.40it/s]"
          ]
        },
        {
          "output_type": "stream",
          "name": "stdout",
          "text": [
            "499 [D loss: 0.674395, acc.: 50.00%] [G loss: 0.835623]\n"
          ]
        },
        {
          "output_type": "stream",
          "name": "stderr",
          "text": [
            "  6%|▌         | 601/10000 [00:53<13:48, 11.35it/s]"
          ]
        },
        {
          "output_type": "stream",
          "name": "stdout",
          "text": [
            "599 [D loss: 0.692380, acc.: 48.00%] [G loss: 0.695361]\n"
          ]
        },
        {
          "output_type": "stream",
          "name": "stderr",
          "text": [
            "  7%|▋         | 701/10000 [01:01<13:43, 11.29it/s]"
          ]
        },
        {
          "output_type": "stream",
          "name": "stdout",
          "text": [
            "699 [D loss: 0.643412, acc.: 82.00%] [G loss: 0.705980]\n"
          ]
        },
        {
          "output_type": "stream",
          "name": "stderr",
          "text": [
            "  8%|▊         | 801/10000 [01:10<14:06, 10.87it/s]"
          ]
        },
        {
          "output_type": "stream",
          "name": "stdout",
          "text": [
            "799 [D loss: 0.525581, acc.: 68.00%] [G loss: 1.269600]\n"
          ]
        },
        {
          "output_type": "stream",
          "name": "stderr",
          "text": [
            "  9%|▉         | 901/10000 [01:18<13:24, 11.31it/s]"
          ]
        },
        {
          "output_type": "stream",
          "name": "stdout",
          "text": [
            "899 [D loss: 0.597276, acc.: 74.00%] [G loss: 0.712714]\n"
          ]
        },
        {
          "output_type": "stream",
          "name": "stderr",
          "text": [
            " 10%|█         | 1001/10000 [01:26<13:02, 11.49it/s]"
          ]
        },
        {
          "output_type": "stream",
          "name": "stdout",
          "text": [
            "999 [D loss: 0.572374, acc.: 82.00%] [G loss: 1.013270]\n"
          ]
        },
        {
          "output_type": "stream",
          "name": "stderr",
          "text": [
            " 11%|█         | 1101/10000 [01:34<13:05, 11.32it/s]"
          ]
        },
        {
          "output_type": "stream",
          "name": "stdout",
          "text": [
            "1099 [D loss: 0.261609, acc.: 100.00%] [G loss: 1.328123]\n"
          ]
        },
        {
          "output_type": "stream",
          "name": "stderr",
          "text": [
            " 12%|█▏        | 1201/10000 [01:42<12:56, 11.34it/s]"
          ]
        },
        {
          "output_type": "stream",
          "name": "stdout",
          "text": [
            "1199 [D loss: 0.466804, acc.: 92.00%] [G loss: 1.068786]\n"
          ]
        },
        {
          "output_type": "stream",
          "name": "stderr",
          "text": [
            " 13%|█▎        | 1301/10000 [01:51<12:34, 11.53it/s]"
          ]
        },
        {
          "output_type": "stream",
          "name": "stdout",
          "text": [
            "1299 [D loss: 0.652748, acc.: 62.00%] [G loss: 1.650515]\n"
          ]
        },
        {
          "output_type": "stream",
          "name": "stderr",
          "text": [
            " 14%|█▍        | 1401/10000 [01:59<13:03, 10.98it/s]"
          ]
        },
        {
          "output_type": "stream",
          "name": "stdout",
          "text": [
            "1399 [D loss: 0.330553, acc.: 92.00%] [G loss: 1.389185]\n"
          ]
        },
        {
          "output_type": "stream",
          "name": "stderr",
          "text": [
            " 15%|█▌        | 1501/10000 [02:08<13:35, 10.43it/s]"
          ]
        },
        {
          "output_type": "stream",
          "name": "stdout",
          "text": [
            "1499 [D loss: 0.210372, acc.: 100.00%] [G loss: 1.667065]\n"
          ]
        },
        {
          "output_type": "stream",
          "name": "stderr",
          "text": [
            " 16%|█▌        | 1601/10000 [02:17<12:17, 11.40it/s]"
          ]
        },
        {
          "output_type": "stream",
          "name": "stdout",
          "text": [
            "1599 [D loss: 0.285476, acc.: 96.00%] [G loss: 1.530462]\n"
          ]
        },
        {
          "output_type": "stream",
          "name": "stderr",
          "text": [
            " 17%|█▋        | 1701/10000 [02:25<12:25, 11.12it/s]"
          ]
        },
        {
          "output_type": "stream",
          "name": "stdout",
          "text": [
            "1699 [D loss: 0.217653, acc.: 100.00%] [G loss: 1.821162]\n"
          ]
        },
        {
          "output_type": "stream",
          "name": "stderr",
          "text": [
            " 18%|█▊        | 1801/10000 [02:34<12:17, 11.12it/s]"
          ]
        },
        {
          "output_type": "stream",
          "name": "stdout",
          "text": [
            "1799 [D loss: 0.247398, acc.: 100.00%] [G loss: 1.691233]\n"
          ]
        },
        {
          "output_type": "stream",
          "name": "stderr",
          "text": [
            " 19%|█▉        | 1901/10000 [02:42<11:59, 11.26it/s]"
          ]
        },
        {
          "output_type": "stream",
          "name": "stdout",
          "text": [
            "1899 [D loss: 0.093281, acc.: 100.00%] [G loss: 2.526442]\n"
          ]
        },
        {
          "output_type": "stream",
          "name": "stderr",
          "text": [
            " 20%|██        | 2001/10000 [02:50<11:44, 11.36it/s]"
          ]
        },
        {
          "output_type": "stream",
          "name": "stdout",
          "text": [
            "1999 [D loss: 0.157876, acc.: 100.00%] [G loss: 2.049712]\n"
          ]
        },
        {
          "output_type": "stream",
          "name": "stderr",
          "text": [
            " 21%|██        | 2101/10000 [02:58<11:56, 11.02it/s]"
          ]
        },
        {
          "output_type": "stream",
          "name": "stdout",
          "text": [
            "2099 [D loss: 0.176025, acc.: 98.00%] [G loss: 2.410062]\n"
          ]
        },
        {
          "output_type": "stream",
          "name": "stderr",
          "text": [
            " 22%|██▏       | 2201/10000 [03:07<11:26, 11.37it/s]"
          ]
        },
        {
          "output_type": "stream",
          "name": "stdout",
          "text": [
            "2199 [D loss: 0.110169, acc.: 100.00%] [G loss: 2.555335]\n"
          ]
        },
        {
          "output_type": "stream",
          "name": "stderr",
          "text": [
            " 23%|██▎       | 2301/10000 [03:15<11:09, 11.51it/s]"
          ]
        },
        {
          "output_type": "stream",
          "name": "stdout",
          "text": [
            "2299 [D loss: 0.103305, acc.: 100.00%] [G loss: 2.440885]\n"
          ]
        },
        {
          "output_type": "stream",
          "name": "stderr",
          "text": [
            " 24%|██▍       | 2401/10000 [03:23<11:15, 11.26it/s]"
          ]
        },
        {
          "output_type": "stream",
          "name": "stdout",
          "text": [
            "2399 [D loss: 0.136182, acc.: 98.00%] [G loss: 2.367356]\n"
          ]
        },
        {
          "output_type": "stream",
          "name": "stderr",
          "text": [
            " 25%|██▌       | 2501/10000 [03:32<12:13, 10.23it/s]"
          ]
        },
        {
          "output_type": "stream",
          "name": "stdout",
          "text": [
            "2499 [D loss: 0.046210, acc.: 100.00%] [G loss: 3.016369]\n"
          ]
        },
        {
          "output_type": "stream",
          "name": "stderr",
          "text": [
            " 26%|██▌       | 2601/10000 [03:41<10:47, 11.43it/s]"
          ]
        },
        {
          "output_type": "stream",
          "name": "stdout",
          "text": [
            "2599 [D loss: 0.064346, acc.: 100.00%] [G loss: 3.081161]\n"
          ]
        },
        {
          "output_type": "stream",
          "name": "stderr",
          "text": [
            " 27%|██▋       | 2701/10000 [03:49<10:52, 11.19it/s]"
          ]
        },
        {
          "output_type": "stream",
          "name": "stdout",
          "text": [
            "2699 [D loss: 0.055878, acc.: 100.00%] [G loss: 3.033542]\n"
          ]
        },
        {
          "output_type": "stream",
          "name": "stderr",
          "text": [
            " 28%|██▊       | 2801/10000 [03:57<10:36, 11.31it/s]"
          ]
        },
        {
          "output_type": "stream",
          "name": "stdout",
          "text": [
            "2799 [D loss: 0.025861, acc.: 100.00%] [G loss: 3.757530]\n"
          ]
        },
        {
          "output_type": "stream",
          "name": "stderr",
          "text": [
            " 29%|██▉       | 2901/10000 [04:06<10:18, 11.47it/s]"
          ]
        },
        {
          "output_type": "stream",
          "name": "stdout",
          "text": [
            "2899 [D loss: 0.025332, acc.: 100.00%] [G loss: 3.651702]\n"
          ]
        },
        {
          "output_type": "stream",
          "name": "stderr",
          "text": [
            " 30%|███       | 3001/10000 [04:14<10:35, 11.02it/s]"
          ]
        },
        {
          "output_type": "stream",
          "name": "stdout",
          "text": [
            "2999 [D loss: 0.025939, acc.: 100.00%] [G loss: 3.949247]\n"
          ]
        },
        {
          "output_type": "stream",
          "name": "stderr",
          "text": [
            " 31%|███       | 3101/10000 [04:22<09:54, 11.61it/s]"
          ]
        },
        {
          "output_type": "stream",
          "name": "stdout",
          "text": [
            "3099 [D loss: 0.022874, acc.: 100.00%] [G loss: 3.802746]\n"
          ]
        },
        {
          "output_type": "stream",
          "name": "stderr",
          "text": [
            " 32%|███▏      | 3201/10000 [04:30<09:58, 11.36it/s]"
          ]
        },
        {
          "output_type": "stream",
          "name": "stdout",
          "text": [
            "3199 [D loss: 0.024719, acc.: 100.00%] [G loss: 3.975033]\n"
          ]
        },
        {
          "output_type": "stream",
          "name": "stderr",
          "text": [
            " 33%|███▎      | 3301/10000 [04:39<09:59, 11.18it/s]"
          ]
        },
        {
          "output_type": "stream",
          "name": "stdout",
          "text": [
            "3299 [D loss: 0.019776, acc.: 100.00%] [G loss: 4.262938]\n"
          ]
        },
        {
          "output_type": "stream",
          "name": "stderr",
          "text": [
            " 34%|███▍      | 3401/10000 [04:47<12:05,  9.09it/s]"
          ]
        },
        {
          "output_type": "stream",
          "name": "stdout",
          "text": [
            "3399 [D loss: 0.014130, acc.: 100.00%] [G loss: 4.305461]\n"
          ]
        },
        {
          "output_type": "stream",
          "name": "stderr",
          "text": [
            " 35%|███▌      | 3501/10000 [04:56<09:50, 11.01it/s]"
          ]
        },
        {
          "output_type": "stream",
          "name": "stdout",
          "text": [
            "3499 [D loss: 0.007414, acc.: 100.00%] [G loss: 4.883879]\n"
          ]
        },
        {
          "output_type": "stream",
          "name": "stderr",
          "text": [
            " 36%|███▌      | 3601/10000 [05:05<09:14, 11.55it/s]"
          ]
        },
        {
          "output_type": "stream",
          "name": "stdout",
          "text": [
            "3599 [D loss: 0.008924, acc.: 100.00%] [G loss: 4.624983]\n"
          ]
        },
        {
          "output_type": "stream",
          "name": "stderr",
          "text": [
            " 37%|███▋      | 3701/10000 [05:13<09:08, 11.49it/s]"
          ]
        },
        {
          "output_type": "stream",
          "name": "stdout",
          "text": [
            "3699 [D loss: 0.011464, acc.: 100.00%] [G loss: 4.819719]\n"
          ]
        },
        {
          "output_type": "stream",
          "name": "stderr",
          "text": [
            " 38%|███▊      | 3801/10000 [05:21<09:09, 11.28it/s]"
          ]
        },
        {
          "output_type": "stream",
          "name": "stdout",
          "text": [
            "3799 [D loss: 0.005300, acc.: 100.00%] [G loss: 5.360602]\n"
          ]
        },
        {
          "output_type": "stream",
          "name": "stderr",
          "text": [
            " 39%|███▉      | 3901/10000 [05:29<08:54, 11.40it/s]"
          ]
        },
        {
          "output_type": "stream",
          "name": "stdout",
          "text": [
            "3899 [D loss: 0.007040, acc.: 100.00%] [G loss: 5.085644]\n"
          ]
        },
        {
          "output_type": "stream",
          "name": "stderr",
          "text": [
            " 40%|████      | 4001/10000 [05:38<08:37, 11.59it/s]"
          ]
        },
        {
          "output_type": "stream",
          "name": "stdout",
          "text": [
            "3999 [D loss: 0.016600, acc.: 100.00%] [G loss: 4.614621]\n"
          ]
        },
        {
          "output_type": "stream",
          "name": "stderr",
          "text": [
            " 41%|████      | 4101/10000 [05:46<08:39, 11.34it/s]"
          ]
        },
        {
          "output_type": "stream",
          "name": "stdout",
          "text": [
            "4099 [D loss: 0.004647, acc.: 100.00%] [G loss: 5.302850]\n"
          ]
        },
        {
          "output_type": "stream",
          "name": "stderr",
          "text": [
            " 42%|████▏     | 4201/10000 [05:54<08:25, 11.46it/s]"
          ]
        },
        {
          "output_type": "stream",
          "name": "stdout",
          "text": [
            "4199 [D loss: 0.004004, acc.: 100.00%] [G loss: 5.475279]\n"
          ]
        },
        {
          "output_type": "stream",
          "name": "stderr",
          "text": [
            " 43%|████▎     | 4301/10000 [06:02<08:24, 11.30it/s]"
          ]
        },
        {
          "output_type": "stream",
          "name": "stdout",
          "text": [
            "4299 [D loss: 0.002924, acc.: 100.00%] [G loss: 6.078537]\n"
          ]
        },
        {
          "output_type": "stream",
          "name": "stderr",
          "text": [
            " 44%|████▍     | 4401/10000 [06:11<08:54, 10.47it/s]"
          ]
        },
        {
          "output_type": "stream",
          "name": "stdout",
          "text": [
            "4399 [D loss: 0.002120, acc.: 100.00%] [G loss: 6.215563]\n"
          ]
        },
        {
          "output_type": "stream",
          "name": "stderr",
          "text": [
            " 45%|████▌     | 4501/10000 [06:20<07:51, 11.66it/s]"
          ]
        },
        {
          "output_type": "stream",
          "name": "stdout",
          "text": [
            "4499 [D loss: 0.003970, acc.: 100.00%] [G loss: 5.730039]\n"
          ]
        },
        {
          "output_type": "stream",
          "name": "stderr",
          "text": [
            " 46%|████▌     | 4601/10000 [06:28<08:05, 11.11it/s]"
          ]
        },
        {
          "output_type": "stream",
          "name": "stdout",
          "text": [
            "4599 [D loss: 0.003316, acc.: 100.00%] [G loss: 5.811892]\n"
          ]
        },
        {
          "output_type": "stream",
          "name": "stderr",
          "text": [
            " 47%|████▋     | 4701/10000 [06:36<07:52, 11.22it/s]"
          ]
        },
        {
          "output_type": "stream",
          "name": "stdout",
          "text": [
            "4699 [D loss: 0.001495, acc.: 100.00%] [G loss: 6.375532]\n"
          ]
        },
        {
          "output_type": "stream",
          "name": "stderr",
          "text": [
            " 48%|████▊     | 4801/10000 [06:45<07:35, 11.41it/s]"
          ]
        },
        {
          "output_type": "stream",
          "name": "stdout",
          "text": [
            "4799 [D loss: 0.002275, acc.: 100.00%] [G loss: 6.226901]\n"
          ]
        },
        {
          "output_type": "stream",
          "name": "stderr",
          "text": [
            " 49%|████▉     | 4901/10000 [06:53<07:34, 11.21it/s]"
          ]
        },
        {
          "output_type": "stream",
          "name": "stdout",
          "text": [
            "4899 [D loss: 0.002011, acc.: 100.00%] [G loss: 6.257594]\n"
          ]
        },
        {
          "output_type": "stream",
          "name": "stderr",
          "text": [
            " 50%|█████     | 5001/10000 [07:01<07:09, 11.64it/s]"
          ]
        },
        {
          "output_type": "stream",
          "name": "stdout",
          "text": [
            "4999 [D loss: 0.001291, acc.: 100.00%] [G loss: 7.144042]\n"
          ]
        },
        {
          "output_type": "stream",
          "name": "stderr",
          "text": [
            " 51%|█████     | 5101/10000 [07:09<07:21, 11.10it/s]"
          ]
        },
        {
          "output_type": "stream",
          "name": "stdout",
          "text": [
            "5099 [D loss: 0.001184, acc.: 100.00%] [G loss: 6.798595]\n"
          ]
        },
        {
          "output_type": "stream",
          "name": "stderr",
          "text": [
            " 52%|█████▏    | 5201/10000 [07:18<07:15, 11.03it/s]"
          ]
        },
        {
          "output_type": "stream",
          "name": "stdout",
          "text": [
            "5199 [D loss: 0.001059, acc.: 100.00%] [G loss: 6.931983]\n"
          ]
        },
        {
          "output_type": "stream",
          "name": "stderr",
          "text": [
            " 53%|█████▎    | 5301/10000 [07:26<07:03, 11.10it/s]"
          ]
        },
        {
          "output_type": "stream",
          "name": "stdout",
          "text": [
            "5299 [D loss: 0.000937, acc.: 100.00%] [G loss: 7.294137]\n"
          ]
        },
        {
          "output_type": "stream",
          "name": "stderr",
          "text": [
            " 54%|█████▍    | 5401/10000 [07:35<07:21, 10.41it/s]"
          ]
        },
        {
          "output_type": "stream",
          "name": "stdout",
          "text": [
            "5399 [D loss: 0.000783, acc.: 100.00%] [G loss: 7.120427]\n"
          ]
        },
        {
          "output_type": "stream",
          "name": "stderr",
          "text": [
            " 55%|█████▌    | 5501/10000 [07:44<06:44, 11.11it/s]"
          ]
        },
        {
          "output_type": "stream",
          "name": "stdout",
          "text": [
            "5499 [D loss: 0.001388, acc.: 100.00%] [G loss: 6.847223]\n"
          ]
        },
        {
          "output_type": "stream",
          "name": "stderr",
          "text": [
            " 56%|█████▌    | 5601/10000 [07:52<06:31, 11.25it/s]"
          ]
        },
        {
          "output_type": "stream",
          "name": "stdout",
          "text": [
            "5599 [D loss: 0.000468, acc.: 100.00%] [G loss: 7.745069]\n"
          ]
        },
        {
          "output_type": "stream",
          "name": "stderr",
          "text": [
            " 57%|█████▋    | 5701/10000 [08:01<06:22, 11.23it/s]"
          ]
        },
        {
          "output_type": "stream",
          "name": "stdout",
          "text": [
            "5699 [D loss: 0.000278, acc.: 100.00%] [G loss: 8.160462]\n"
          ]
        },
        {
          "output_type": "stream",
          "name": "stderr",
          "text": [
            " 58%|█████▊    | 5801/10000 [08:09<06:11, 11.30it/s]"
          ]
        },
        {
          "output_type": "stream",
          "name": "stdout",
          "text": [
            "5799 [D loss: 0.000180, acc.: 100.00%] [G loss: 8.201327]\n"
          ]
        },
        {
          "output_type": "stream",
          "name": "stderr",
          "text": [
            " 59%|█████▉    | 5901/10000 [08:18<06:11, 11.02it/s]"
          ]
        },
        {
          "output_type": "stream",
          "name": "stdout",
          "text": [
            "5899 [D loss: 0.000053, acc.: 100.00%] [G loss: 9.859976]\n"
          ]
        },
        {
          "output_type": "stream",
          "name": "stderr",
          "text": [
            " 60%|██████    | 6001/10000 [08:26<05:53, 11.31it/s]"
          ]
        },
        {
          "output_type": "stream",
          "name": "stdout",
          "text": [
            "5999 [D loss: 0.000031, acc.: 100.00%] [G loss: 10.336038]\n"
          ]
        },
        {
          "output_type": "stream",
          "name": "stderr",
          "text": [
            " 61%|██████    | 6101/10000 [08:35<05:43, 11.35it/s]"
          ]
        },
        {
          "output_type": "stream",
          "name": "stdout",
          "text": [
            "6099 [D loss: 0.000532, acc.: 100.00%] [G loss: 7.690464]\n"
          ]
        },
        {
          "output_type": "stream",
          "name": "stderr",
          "text": [
            " 62%|██████▏   | 6201/10000 [08:43<05:40, 11.15it/s]"
          ]
        },
        {
          "output_type": "stream",
          "name": "stdout",
          "text": [
            "6199 [D loss: 0.000289, acc.: 100.00%] [G loss: 7.966590]\n"
          ]
        },
        {
          "output_type": "stream",
          "name": "stderr",
          "text": [
            " 63%|██████▎   | 6301/10000 [08:51<05:23, 11.45it/s]"
          ]
        },
        {
          "output_type": "stream",
          "name": "stdout",
          "text": [
            "6299 [D loss: 0.000270, acc.: 100.00%] [G loss: 8.256809]\n"
          ]
        },
        {
          "output_type": "stream",
          "name": "stderr",
          "text": [
            " 64%|██████▍   | 6401/10000 [09:00<05:52, 10.22it/s]"
          ]
        },
        {
          "output_type": "stream",
          "name": "stdout",
          "text": [
            "6399 [D loss: 0.000284, acc.: 100.00%] [G loss: 8.174270]\n"
          ]
        },
        {
          "output_type": "stream",
          "name": "stderr",
          "text": [
            " 65%|██████▌   | 6501/10000 [09:09<05:15, 11.11it/s]"
          ]
        },
        {
          "output_type": "stream",
          "name": "stdout",
          "text": [
            "6499 [D loss: 0.000156, acc.: 100.00%] [G loss: 9.111453]\n"
          ]
        },
        {
          "output_type": "stream",
          "name": "stderr",
          "text": [
            " 66%|██████▌   | 6601/10000 [09:17<04:57, 11.43it/s]"
          ]
        },
        {
          "output_type": "stream",
          "name": "stdout",
          "text": [
            "6599 [D loss: 0.000165, acc.: 100.00%] [G loss: 8.795864]\n"
          ]
        },
        {
          "output_type": "stream",
          "name": "stderr",
          "text": [
            " 67%|██████▋   | 6701/10000 [09:25<04:49, 11.38it/s]"
          ]
        },
        {
          "output_type": "stream",
          "name": "stdout",
          "text": [
            "6699 [D loss: 0.000061, acc.: 100.00%] [G loss: 9.402949]\n"
          ]
        },
        {
          "output_type": "stream",
          "name": "stderr",
          "text": [
            " 68%|██████▊   | 6801/10000 [09:34<04:40, 11.39it/s]"
          ]
        },
        {
          "output_type": "stream",
          "name": "stdout",
          "text": [
            "6799 [D loss: 0.000255, acc.: 100.00%] [G loss: 9.434401]\n"
          ]
        },
        {
          "output_type": "stream",
          "name": "stderr",
          "text": [
            " 69%|██████▉   | 6901/10000 [09:42<04:29, 11.49it/s]"
          ]
        },
        {
          "output_type": "stream",
          "name": "stdout",
          "text": [
            "6899 [D loss: 0.000369, acc.: 100.00%] [G loss: 7.557659]\n"
          ]
        },
        {
          "output_type": "stream",
          "name": "stderr",
          "text": [
            " 70%|███████   | 7001/10000 [09:50<04:22, 11.42it/s]"
          ]
        },
        {
          "output_type": "stream",
          "name": "stdout",
          "text": [
            "6999 [D loss: 0.000059, acc.: 100.00%] [G loss: 9.324725]\n"
          ]
        },
        {
          "output_type": "stream",
          "name": "stderr",
          "text": [
            " 71%|███████   | 7101/10000 [09:59<04:17, 11.27it/s]"
          ]
        },
        {
          "output_type": "stream",
          "name": "stdout",
          "text": [
            "7099 [D loss: 0.000049, acc.: 100.00%] [G loss: 9.900917]\n"
          ]
        },
        {
          "output_type": "stream",
          "name": "stderr",
          "text": [
            " 72%|███████▏  | 7201/10000 [10:07<04:07, 11.30it/s]"
          ]
        },
        {
          "output_type": "stream",
          "name": "stdout",
          "text": [
            "7199 [D loss: 0.000041, acc.: 100.00%] [G loss: 10.201155]\n"
          ]
        },
        {
          "output_type": "stream",
          "name": "stderr",
          "text": [
            " 73%|███████▎  | 7301/10000 [10:15<03:58, 11.33it/s]"
          ]
        },
        {
          "output_type": "stream",
          "name": "stdout",
          "text": [
            "7299 [D loss: 0.000026, acc.: 100.00%] [G loss: 10.369870]\n"
          ]
        },
        {
          "output_type": "stream",
          "name": "stderr",
          "text": [
            " 74%|███████▍  | 7401/10000 [10:24<04:09, 10.40it/s]"
          ]
        },
        {
          "output_type": "stream",
          "name": "stdout",
          "text": [
            "7399 [D loss: 0.000031, acc.: 100.00%] [G loss: 10.313125]\n"
          ]
        },
        {
          "output_type": "stream",
          "name": "stderr",
          "text": [
            " 75%|███████▌  | 7501/10000 [10:33<03:47, 10.97it/s]"
          ]
        },
        {
          "output_type": "stream",
          "name": "stdout",
          "text": [
            "7499 [D loss: 0.000033, acc.: 100.00%] [G loss: 10.128751]\n"
          ]
        },
        {
          "output_type": "stream",
          "name": "stderr",
          "text": [
            " 76%|███████▌  | 7601/10000 [10:41<03:32, 11.30it/s]"
          ]
        },
        {
          "output_type": "stream",
          "name": "stdout",
          "text": [
            "7599 [D loss: 0.000390, acc.: 100.00%] [G loss: 8.095144]\n"
          ]
        },
        {
          "output_type": "stream",
          "name": "stderr",
          "text": [
            " 77%|███████▋  | 7701/10000 [10:50<03:23, 11.29it/s]"
          ]
        },
        {
          "output_type": "stream",
          "name": "stdout",
          "text": [
            "7699 [D loss: 0.000162, acc.: 100.00%] [G loss: 9.014977]\n"
          ]
        },
        {
          "output_type": "stream",
          "name": "stderr",
          "text": [
            " 78%|███████▊  | 7801/10000 [10:58<03:14, 11.33it/s]"
          ]
        },
        {
          "output_type": "stream",
          "name": "stdout",
          "text": [
            "7799 [D loss: 0.000070, acc.: 100.00%] [G loss: 8.836948]\n"
          ]
        },
        {
          "output_type": "stream",
          "name": "stderr",
          "text": [
            " 79%|███████▉  | 7901/10000 [11:06<03:00, 11.64it/s]"
          ]
        },
        {
          "output_type": "stream",
          "name": "stdout",
          "text": [
            "7899 [D loss: 0.000142, acc.: 100.00%] [G loss: 8.824638]\n"
          ]
        },
        {
          "output_type": "stream",
          "name": "stderr",
          "text": [
            " 80%|████████  | 8001/10000 [11:14<02:57, 11.23it/s]"
          ]
        },
        {
          "output_type": "stream",
          "name": "stdout",
          "text": [
            "7999 [D loss: 0.000144, acc.: 100.00%] [G loss: 8.954748]\n"
          ]
        },
        {
          "output_type": "stream",
          "name": "stderr",
          "text": [
            " 81%|████████  | 8101/10000 [11:23<02:49, 11.21it/s]"
          ]
        },
        {
          "output_type": "stream",
          "name": "stdout",
          "text": [
            "8099 [D loss: 0.000072, acc.: 100.00%] [G loss: 9.156075]\n"
          ]
        },
        {
          "output_type": "stream",
          "name": "stderr",
          "text": [
            " 82%|████████▏ | 8201/10000 [11:31<02:37, 11.40it/s]"
          ]
        },
        {
          "output_type": "stream",
          "name": "stdout",
          "text": [
            "8199 [D loss: 0.000091, acc.: 100.00%] [G loss: 9.139209]\n"
          ]
        },
        {
          "output_type": "stream",
          "name": "stderr",
          "text": [
            " 83%|████████▎ | 8301/10000 [11:39<02:31, 11.19it/s]"
          ]
        },
        {
          "output_type": "stream",
          "name": "stdout",
          "text": [
            "8299 [D loss: 0.000081, acc.: 100.00%] [G loss: 9.371990]\n"
          ]
        },
        {
          "output_type": "stream",
          "name": "stderr",
          "text": [
            " 84%|████████▍ | 8401/10000 [11:49<02:35, 10.31it/s]"
          ]
        },
        {
          "output_type": "stream",
          "name": "stdout",
          "text": [
            "8399 [D loss: 0.000087, acc.: 100.00%] [G loss: 9.255773]\n"
          ]
        },
        {
          "output_type": "stream",
          "name": "stderr",
          "text": [
            " 85%|████████▌ | 8501/10000 [11:57<02:08, 11.63it/s]"
          ]
        },
        {
          "output_type": "stream",
          "name": "stdout",
          "text": [
            "8499 [D loss: 0.000086, acc.: 100.00%] [G loss: 9.364017]\n"
          ]
        },
        {
          "output_type": "stream",
          "name": "stderr",
          "text": [
            " 86%|████████▌ | 8601/10000 [12:05<02:04, 11.26it/s]"
          ]
        },
        {
          "output_type": "stream",
          "name": "stdout",
          "text": [
            "8599 [D loss: 0.000074, acc.: 100.00%] [G loss: 9.495526]\n"
          ]
        },
        {
          "output_type": "stream",
          "name": "stderr",
          "text": [
            " 87%|████████▋ | 8701/10000 [12:14<01:55, 11.20it/s]"
          ]
        },
        {
          "output_type": "stream",
          "name": "stdout",
          "text": [
            "8699 [D loss: 0.000075, acc.: 100.00%] [G loss: 9.474061]\n"
          ]
        },
        {
          "output_type": "stream",
          "name": "stderr",
          "text": [
            " 88%|████████▊ | 8801/10000 [12:22<01:44, 11.43it/s]"
          ]
        },
        {
          "output_type": "stream",
          "name": "stdout",
          "text": [
            "8799 [D loss: 0.000060, acc.: 100.00%] [G loss: 9.516726]\n"
          ]
        },
        {
          "output_type": "stream",
          "name": "stderr",
          "text": [
            " 89%|████████▉ | 8901/10000 [12:30<01:37, 11.29it/s]"
          ]
        },
        {
          "output_type": "stream",
          "name": "stdout",
          "text": [
            "8899 [D loss: 0.000077, acc.: 100.00%] [G loss: 9.430850]\n"
          ]
        },
        {
          "output_type": "stream",
          "name": "stderr",
          "text": [
            " 90%|█████████ | 9001/10000 [12:39<01:27, 11.42it/s]"
          ]
        },
        {
          "output_type": "stream",
          "name": "stdout",
          "text": [
            "8999 [D loss: 0.000081, acc.: 100.00%] [G loss: 9.366503]\n"
          ]
        },
        {
          "output_type": "stream",
          "name": "stderr",
          "text": [
            " 91%|█████████ | 9101/10000 [12:47<01:18, 11.41it/s]"
          ]
        },
        {
          "output_type": "stream",
          "name": "stdout",
          "text": [
            "9099 [D loss: 0.000053, acc.: 100.00%] [G loss: 9.892783]\n"
          ]
        },
        {
          "output_type": "stream",
          "name": "stderr",
          "text": [
            " 92%|█████████▏| 9201/10000 [12:55<01:10, 11.40it/s]"
          ]
        },
        {
          "output_type": "stream",
          "name": "stdout",
          "text": [
            "9199 [D loss: 0.000028, acc.: 100.00%] [G loss: 10.084336]\n"
          ]
        },
        {
          "output_type": "stream",
          "name": "stderr",
          "text": [
            " 93%|█████████▎| 9301/10000 [13:04<01:02, 11.11it/s]"
          ]
        },
        {
          "output_type": "stream",
          "name": "stdout",
          "text": [
            "9299 [D loss: 0.000024, acc.: 100.00%] [G loss: 10.272444]\n"
          ]
        },
        {
          "output_type": "stream",
          "name": "stderr",
          "text": [
            " 94%|█████████▍| 9401/10000 [13:13<00:58, 10.31it/s]"
          ]
        },
        {
          "output_type": "stream",
          "name": "stdout",
          "text": [
            "9399 [D loss: 0.000026, acc.: 100.00%] [G loss: 10.344868]\n"
          ]
        },
        {
          "output_type": "stream",
          "name": "stderr",
          "text": [
            " 95%|█████████▌| 9501/10000 [13:22<00:44, 11.20it/s]"
          ]
        },
        {
          "output_type": "stream",
          "name": "stdout",
          "text": [
            "9499 [D loss: 0.000075, acc.: 100.00%] [G loss: 9.644105]\n"
          ]
        },
        {
          "output_type": "stream",
          "name": "stderr",
          "text": [
            " 96%|█████████▌| 9601/10000 [13:30<00:35, 11.20it/s]"
          ]
        },
        {
          "output_type": "stream",
          "name": "stdout",
          "text": [
            "9599 [D loss: 0.000055, acc.: 100.00%] [G loss: 9.824514]\n"
          ]
        },
        {
          "output_type": "stream",
          "name": "stderr",
          "text": [
            " 97%|█████████▋| 9701/10000 [13:38<00:26, 11.24it/s]"
          ]
        },
        {
          "output_type": "stream",
          "name": "stdout",
          "text": [
            "9699 [D loss: 0.000050, acc.: 100.00%] [G loss: 10.159305]\n"
          ]
        },
        {
          "output_type": "stream",
          "name": "stderr",
          "text": [
            " 98%|█████████▊| 9801/10000 [13:47<00:17, 11.40it/s]"
          ]
        },
        {
          "output_type": "stream",
          "name": "stdout",
          "text": [
            "9799 [D loss: 0.000030, acc.: 100.00%] [G loss: 10.427960]\n"
          ]
        },
        {
          "output_type": "stream",
          "name": "stderr",
          "text": [
            " 99%|█████████▉| 9901/10000 [13:55<00:08, 11.22it/s]"
          ]
        },
        {
          "output_type": "stream",
          "name": "stdout",
          "text": [
            "9899 [D loss: 0.000030, acc.: 100.00%] [G loss: 10.567654]\n"
          ]
        },
        {
          "output_type": "stream",
          "name": "stderr",
          "text": [
            "100%|██████████| 10000/10000 [14:03<00:00, 11.85it/s]"
          ]
        },
        {
          "output_type": "stream",
          "name": "stdout",
          "text": [
            "9999 [D loss: 0.000030, acc.: 100.00%] [G loss: 10.618230]\n"
          ]
        },
        {
          "output_type": "stream",
          "name": "stderr",
          "text": [
            "\n"
          ]
        }
      ],
      "source": [
        "# create the gan\n",
        "gan_model = define_gan(generator, discriminator)\n",
        "# train model\n",
        "train(generator, discriminator, gan_model, latent_dim)"
      ]
    },
    {
      "cell_type": "markdown",
      "source": [
        "# Evaluation"
      ],
      "metadata": {
        "id": "V1n0vGcDZZkD"
      },
      "id": "V1n0vGcDZZkD"
    },
    {
      "cell_type": "code",
      "source": [
        "mean_list = []\n",
        "std_list = []\n",
        "hyper_list = []\n",
        "tir_list = []\n",
        "l1_list = []\n",
        "l2_list = []\n",
        "for i in tqdm(range(1, 101)):\n",
        "  generator.load_weights('/content/drive/MyDrive/Thesis/model/normal_gan/570_0.0005/generator_weights_' + str(i*100) + '.h5')\n",
        "  for j in range(6):\n",
        "    sub_mean = []\n",
        "    sub_std = []\n",
        "    hyper = []\n",
        "    tir = []\n",
        "    l1 = []\n",
        "    l2 = []\n",
        "\n",
        "    synth, _ = generate_fake_samples(generator, 50)\n",
        "    synth = synth.reshape(50,288)\n",
        "\n",
        "    synth_data = scaler.inverse_transform(synth)\n",
        "\n",
        "    sub_mean.append(mean(synth_data.flatten()))\n",
        "    sub_std.append(pstdev(synth_data.flatten().tolist()))\n",
        "\n",
        "    extracted_hyper = np.extract((synth_data >= 180), synth_data)\n",
        "    hyper.append(extracted_hyper.shape[0] / (288*50))\n",
        "    extracted_tir = np.extract(((synth_data < 180) & (synth_data >= 70)), synth_data)\n",
        "    tir.append(extracted_tir.shape[0] / (288*50))\n",
        "    extracted_l1 = np.extract(((synth_data < 70) & (synth_data >= 54)), synth_data)\n",
        "    l1.append(extracted_l1.shape[0] / (288*50))\n",
        "    extracted_l2 = np.extract((synth_data < 54), synth_data)\n",
        "    l2.append(extracted_l2.shape[0] / (288*50))\n",
        "\n",
        "  mean_list.append(mean(sub_mean))\n",
        "  std_list.append(mean(sub_std))\n",
        "  hyper_list.append(mean(hyper))\n",
        "  tir_list.append(mean(tir))\n",
        "  l1_list.append(mean(l1))\n",
        "  l2_list.append(mean(l2))"
      ],
      "metadata": {
        "id": "DZcTslcTZn4P"
      },
      "id": "DZcTslcTZn4P",
      "execution_count": null,
      "outputs": []
    },
    {
      "cell_type": "code",
      "source": [
        "df_570_result = pd.DataFrame(list(zip(hyper_list, tir_list, l1_list, l2_list, mean_list, std_list)), columns = ['Hyper', 'TIR', 'L1 Hypo', 'L2 Hypo', 'Mean', 'SD'])"
      ],
      "metadata": {
        "id": "6H_jVunPctUG"
      },
      "id": "6H_jVunPctUG",
      "execution_count": null,
      "outputs": []
    },
    {
      "cell_type": "code",
      "source": [
        "df_570_result.to_csv('/content/drive/MyDrive/Thesis/model/normal_gan/570_0.0005/evaluation.csv')"
      ],
      "metadata": {
        "id": "8sNMUhaBXwuv"
      },
      "id": "8sNMUhaBXwuv",
      "execution_count": null,
      "outputs": []
    },
    {
      "cell_type": "code",
      "source": [
        "df_570_result[:50]"
      ],
      "metadata": {
        "colab": {
          "base_uri": "https://localhost:8080/",
          "height": 1000
        },
        "id": "NeorJQpCdRYs",
        "outputId": "7e6ba143-87f1-45cf-caab-5e44be8ba737"
      },
      "id": "NeorJQpCdRYs",
      "execution_count": null,
      "outputs": [
        {
          "output_type": "execute_result",
          "data": {
            "text/plain": [
              "       Hyper       TIR   L1 Hypo   L2 Hypo        Mean          SD\n",
              "0   0.993542  0.006458  0.000000  0.000000  384.961823   95.585831\n",
              "1   0.574931  0.425069  0.000000  0.000000  193.104797   41.977071\n",
              "2   0.139236  0.857847  0.002917  0.000000  139.318710   33.979541\n",
              "3   0.464236  0.535764  0.000000  0.000000  182.275604   34.062188\n",
              "4   0.996875  0.003125  0.000000  0.000000  273.321899   46.540294\n",
              "5   0.333194  0.666806  0.000000  0.000000  170.678757   26.677256\n",
              "6   0.332500  0.667500  0.000000  0.000000  172.512741   22.928104\n",
              "7   1.000000  0.000000  0.000000  0.000000  287.911987   39.706184\n",
              "8   0.073472  0.923194  0.003333  0.000000  138.792923   27.267458\n",
              "9   0.997778  0.002222  0.000000  0.000000  257.888641   38.774019\n",
              "10  0.125556  0.874444  0.000000  0.000000  147.100586   23.396290\n",
              "11  1.000000  0.000000  0.000000  0.000000  229.276550   24.556624\n",
              "12  0.974306  0.025694  0.000000  0.000000  356.630707  102.744664\n",
              "13  0.938958  0.061042  0.000000  0.000000  206.956284   22.304257\n",
              "14  0.040903  0.959097  0.000000  0.000000  131.367004   21.577162\n",
              "15  0.996319  0.003681  0.000000  0.000000  218.226044   25.857378\n",
              "16  0.916806  0.083194  0.000000  0.000000  215.336823   30.803924\n",
              "17  0.041806  0.954792  0.002639  0.000764  129.288116   24.053479\n",
              "18  0.022014  0.976875  0.000833  0.000278  123.682121   24.100798\n",
              "19  0.999722  0.000278  0.000000  0.000000  240.643494   25.433102\n",
              "20  0.996944  0.003056  0.000000  0.000000  272.884216   44.166981\n",
              "21  0.999861  0.000139  0.000000  0.000000  259.114685   28.284412\n",
              "22  0.999722  0.000278  0.000000  0.000000  254.738876   31.782124\n",
              "23  0.059583  0.939792  0.000625  0.000000  136.307678   23.829905\n",
              "24  0.315694  0.684306  0.000000  0.000000  166.984253   22.827629\n",
              "25  0.979444  0.020556  0.000000  0.000000  212.325912   24.984083\n",
              "26  0.999792  0.000208  0.000000  0.000000  217.028381   23.822361\n",
              "27  0.513819  0.485625  0.000278  0.000278  185.732315   39.380487\n",
              "28  0.962292  0.037708  0.000000  0.000000  217.694473   28.413986\n",
              "29  1.000000  0.000000  0.000000  0.000000  243.205627   24.728890\n",
              "30  0.997083  0.002917  0.000000  0.000000  221.707596   24.114755\n",
              "31  1.000000  0.000000  0.000000  0.000000  291.315369   25.748822\n",
              "32  0.998264  0.001736  0.000000  0.000000  247.825790   32.086220\n",
              "33  1.000000  0.000000  0.000000  0.000000  229.304520   24.732781\n",
              "34  1.000000  0.000000  0.000000  0.000000  248.130447   30.995107\n",
              "35  0.991875  0.008125  0.000000  0.000000  251.303268   37.680835\n",
              "36  0.322083  0.621181  0.029097  0.027639  148.245346   45.201679\n",
              "37  0.931667  0.068333  0.000000  0.000000  224.854172   32.246833\n",
              "38  1.000000  0.000000  0.000000  0.000000  274.524078   28.527273\n",
              "39  0.128681  0.775556  0.036042  0.059722  131.521378   46.490444\n",
              "40  0.991528  0.008472  0.000000  0.000000  223.494949   27.570786\n",
              "41  1.000000  0.000000  0.000000  0.000000  259.502930   34.267815\n",
              "42  0.034306  0.888194  0.041736  0.035764  119.742699   35.851396\n",
              "43  0.635625  0.364375  0.000000  0.000000  201.122787   30.026558\n",
              "44  0.999722  0.000278  0.000000  0.000000  281.778229   35.350053\n",
              "45  0.794028  0.205417  0.000139  0.000417  200.646851   24.468507\n",
              "46  0.930903  0.068542  0.000069  0.000486  277.003113   63.618854\n",
              "47  0.954861  0.045139  0.000000  0.000000  246.311890   43.176221\n",
              "48  0.474236  0.508194  0.014097  0.003472  162.169891   52.063901\n",
              "49  0.934167  0.065833  0.000000  0.000000  253.931290   49.858835"
            ],
            "text/html": [
              "\n",
              "  <div id=\"df-5522d9b0-34ac-4ca0-900a-129161154042\">\n",
              "    <div class=\"colab-df-container\">\n",
              "      <div>\n",
              "<style scoped>\n",
              "    .dataframe tbody tr th:only-of-type {\n",
              "        vertical-align: middle;\n",
              "    }\n",
              "\n",
              "    .dataframe tbody tr th {\n",
              "        vertical-align: top;\n",
              "    }\n",
              "\n",
              "    .dataframe thead th {\n",
              "        text-align: right;\n",
              "    }\n",
              "</style>\n",
              "<table border=\"1\" class=\"dataframe\">\n",
              "  <thead>\n",
              "    <tr style=\"text-align: right;\">\n",
              "      <th></th>\n",
              "      <th>Hyper</th>\n",
              "      <th>TIR</th>\n",
              "      <th>L1 Hypo</th>\n",
              "      <th>L2 Hypo</th>\n",
              "      <th>Mean</th>\n",
              "      <th>SD</th>\n",
              "    </tr>\n",
              "  </thead>\n",
              "  <tbody>\n",
              "    <tr>\n",
              "      <th>0</th>\n",
              "      <td>0.993542</td>\n",
              "      <td>0.006458</td>\n",
              "      <td>0.000000</td>\n",
              "      <td>0.000000</td>\n",
              "      <td>384.961823</td>\n",
              "      <td>95.585831</td>\n",
              "    </tr>\n",
              "    <tr>\n",
              "      <th>1</th>\n",
              "      <td>0.574931</td>\n",
              "      <td>0.425069</td>\n",
              "      <td>0.000000</td>\n",
              "      <td>0.000000</td>\n",
              "      <td>193.104797</td>\n",
              "      <td>41.977071</td>\n",
              "    </tr>\n",
              "    <tr>\n",
              "      <th>2</th>\n",
              "      <td>0.139236</td>\n",
              "      <td>0.857847</td>\n",
              "      <td>0.002917</td>\n",
              "      <td>0.000000</td>\n",
              "      <td>139.318710</td>\n",
              "      <td>33.979541</td>\n",
              "    </tr>\n",
              "    <tr>\n",
              "      <th>3</th>\n",
              "      <td>0.464236</td>\n",
              "      <td>0.535764</td>\n",
              "      <td>0.000000</td>\n",
              "      <td>0.000000</td>\n",
              "      <td>182.275604</td>\n",
              "      <td>34.062188</td>\n",
              "    </tr>\n",
              "    <tr>\n",
              "      <th>4</th>\n",
              "      <td>0.996875</td>\n",
              "      <td>0.003125</td>\n",
              "      <td>0.000000</td>\n",
              "      <td>0.000000</td>\n",
              "      <td>273.321899</td>\n",
              "      <td>46.540294</td>\n",
              "    </tr>\n",
              "    <tr>\n",
              "      <th>5</th>\n",
              "      <td>0.333194</td>\n",
              "      <td>0.666806</td>\n",
              "      <td>0.000000</td>\n",
              "      <td>0.000000</td>\n",
              "      <td>170.678757</td>\n",
              "      <td>26.677256</td>\n",
              "    </tr>\n",
              "    <tr>\n",
              "      <th>6</th>\n",
              "      <td>0.332500</td>\n",
              "      <td>0.667500</td>\n",
              "      <td>0.000000</td>\n",
              "      <td>0.000000</td>\n",
              "      <td>172.512741</td>\n",
              "      <td>22.928104</td>\n",
              "    </tr>\n",
              "    <tr>\n",
              "      <th>7</th>\n",
              "      <td>1.000000</td>\n",
              "      <td>0.000000</td>\n",
              "      <td>0.000000</td>\n",
              "      <td>0.000000</td>\n",
              "      <td>287.911987</td>\n",
              "      <td>39.706184</td>\n",
              "    </tr>\n",
              "    <tr>\n",
              "      <th>8</th>\n",
              "      <td>0.073472</td>\n",
              "      <td>0.923194</td>\n",
              "      <td>0.003333</td>\n",
              "      <td>0.000000</td>\n",
              "      <td>138.792923</td>\n",
              "      <td>27.267458</td>\n",
              "    </tr>\n",
              "    <tr>\n",
              "      <th>9</th>\n",
              "      <td>0.997778</td>\n",
              "      <td>0.002222</td>\n",
              "      <td>0.000000</td>\n",
              "      <td>0.000000</td>\n",
              "      <td>257.888641</td>\n",
              "      <td>38.774019</td>\n",
              "    </tr>\n",
              "    <tr>\n",
              "      <th>10</th>\n",
              "      <td>0.125556</td>\n",
              "      <td>0.874444</td>\n",
              "      <td>0.000000</td>\n",
              "      <td>0.000000</td>\n",
              "      <td>147.100586</td>\n",
              "      <td>23.396290</td>\n",
              "    </tr>\n",
              "    <tr>\n",
              "      <th>11</th>\n",
              "      <td>1.000000</td>\n",
              "      <td>0.000000</td>\n",
              "      <td>0.000000</td>\n",
              "      <td>0.000000</td>\n",
              "      <td>229.276550</td>\n",
              "      <td>24.556624</td>\n",
              "    </tr>\n",
              "    <tr>\n",
              "      <th>12</th>\n",
              "      <td>0.974306</td>\n",
              "      <td>0.025694</td>\n",
              "      <td>0.000000</td>\n",
              "      <td>0.000000</td>\n",
              "      <td>356.630707</td>\n",
              "      <td>102.744664</td>\n",
              "    </tr>\n",
              "    <tr>\n",
              "      <th>13</th>\n",
              "      <td>0.938958</td>\n",
              "      <td>0.061042</td>\n",
              "      <td>0.000000</td>\n",
              "      <td>0.000000</td>\n",
              "      <td>206.956284</td>\n",
              "      <td>22.304257</td>\n",
              "    </tr>\n",
              "    <tr>\n",
              "      <th>14</th>\n",
              "      <td>0.040903</td>\n",
              "      <td>0.959097</td>\n",
              "      <td>0.000000</td>\n",
              "      <td>0.000000</td>\n",
              "      <td>131.367004</td>\n",
              "      <td>21.577162</td>\n",
              "    </tr>\n",
              "    <tr>\n",
              "      <th>15</th>\n",
              "      <td>0.996319</td>\n",
              "      <td>0.003681</td>\n",
              "      <td>0.000000</td>\n",
              "      <td>0.000000</td>\n",
              "      <td>218.226044</td>\n",
              "      <td>25.857378</td>\n",
              "    </tr>\n",
              "    <tr>\n",
              "      <th>16</th>\n",
              "      <td>0.916806</td>\n",
              "      <td>0.083194</td>\n",
              "      <td>0.000000</td>\n",
              "      <td>0.000000</td>\n",
              "      <td>215.336823</td>\n",
              "      <td>30.803924</td>\n",
              "    </tr>\n",
              "    <tr>\n",
              "      <th>17</th>\n",
              "      <td>0.041806</td>\n",
              "      <td>0.954792</td>\n",
              "      <td>0.002639</td>\n",
              "      <td>0.000764</td>\n",
              "      <td>129.288116</td>\n",
              "      <td>24.053479</td>\n",
              "    </tr>\n",
              "    <tr>\n",
              "      <th>18</th>\n",
              "      <td>0.022014</td>\n",
              "      <td>0.976875</td>\n",
              "      <td>0.000833</td>\n",
              "      <td>0.000278</td>\n",
              "      <td>123.682121</td>\n",
              "      <td>24.100798</td>\n",
              "    </tr>\n",
              "    <tr>\n",
              "      <th>19</th>\n",
              "      <td>0.999722</td>\n",
              "      <td>0.000278</td>\n",
              "      <td>0.000000</td>\n",
              "      <td>0.000000</td>\n",
              "      <td>240.643494</td>\n",
              "      <td>25.433102</td>\n",
              "    </tr>\n",
              "    <tr>\n",
              "      <th>20</th>\n",
              "      <td>0.996944</td>\n",
              "      <td>0.003056</td>\n",
              "      <td>0.000000</td>\n",
              "      <td>0.000000</td>\n",
              "      <td>272.884216</td>\n",
              "      <td>44.166981</td>\n",
              "    </tr>\n",
              "    <tr>\n",
              "      <th>21</th>\n",
              "      <td>0.999861</td>\n",
              "      <td>0.000139</td>\n",
              "      <td>0.000000</td>\n",
              "      <td>0.000000</td>\n",
              "      <td>259.114685</td>\n",
              "      <td>28.284412</td>\n",
              "    </tr>\n",
              "    <tr>\n",
              "      <th>22</th>\n",
              "      <td>0.999722</td>\n",
              "      <td>0.000278</td>\n",
              "      <td>0.000000</td>\n",
              "      <td>0.000000</td>\n",
              "      <td>254.738876</td>\n",
              "      <td>31.782124</td>\n",
              "    </tr>\n",
              "    <tr>\n",
              "      <th>23</th>\n",
              "      <td>0.059583</td>\n",
              "      <td>0.939792</td>\n",
              "      <td>0.000625</td>\n",
              "      <td>0.000000</td>\n",
              "      <td>136.307678</td>\n",
              "      <td>23.829905</td>\n",
              "    </tr>\n",
              "    <tr>\n",
              "      <th>24</th>\n",
              "      <td>0.315694</td>\n",
              "      <td>0.684306</td>\n",
              "      <td>0.000000</td>\n",
              "      <td>0.000000</td>\n",
              "      <td>166.984253</td>\n",
              "      <td>22.827629</td>\n",
              "    </tr>\n",
              "    <tr>\n",
              "      <th>25</th>\n",
              "      <td>0.979444</td>\n",
              "      <td>0.020556</td>\n",
              "      <td>0.000000</td>\n",
              "      <td>0.000000</td>\n",
              "      <td>212.325912</td>\n",
              "      <td>24.984083</td>\n",
              "    </tr>\n",
              "    <tr>\n",
              "      <th>26</th>\n",
              "      <td>0.999792</td>\n",
              "      <td>0.000208</td>\n",
              "      <td>0.000000</td>\n",
              "      <td>0.000000</td>\n",
              "      <td>217.028381</td>\n",
              "      <td>23.822361</td>\n",
              "    </tr>\n",
              "    <tr>\n",
              "      <th>27</th>\n",
              "      <td>0.513819</td>\n",
              "      <td>0.485625</td>\n",
              "      <td>0.000278</td>\n",
              "      <td>0.000278</td>\n",
              "      <td>185.732315</td>\n",
              "      <td>39.380487</td>\n",
              "    </tr>\n",
              "    <tr>\n",
              "      <th>28</th>\n",
              "      <td>0.962292</td>\n",
              "      <td>0.037708</td>\n",
              "      <td>0.000000</td>\n",
              "      <td>0.000000</td>\n",
              "      <td>217.694473</td>\n",
              "      <td>28.413986</td>\n",
              "    </tr>\n",
              "    <tr>\n",
              "      <th>29</th>\n",
              "      <td>1.000000</td>\n",
              "      <td>0.000000</td>\n",
              "      <td>0.000000</td>\n",
              "      <td>0.000000</td>\n",
              "      <td>243.205627</td>\n",
              "      <td>24.728890</td>\n",
              "    </tr>\n",
              "    <tr>\n",
              "      <th>30</th>\n",
              "      <td>0.997083</td>\n",
              "      <td>0.002917</td>\n",
              "      <td>0.000000</td>\n",
              "      <td>0.000000</td>\n",
              "      <td>221.707596</td>\n",
              "      <td>24.114755</td>\n",
              "    </tr>\n",
              "    <tr>\n",
              "      <th>31</th>\n",
              "      <td>1.000000</td>\n",
              "      <td>0.000000</td>\n",
              "      <td>0.000000</td>\n",
              "      <td>0.000000</td>\n",
              "      <td>291.315369</td>\n",
              "      <td>25.748822</td>\n",
              "    </tr>\n",
              "    <tr>\n",
              "      <th>32</th>\n",
              "      <td>0.998264</td>\n",
              "      <td>0.001736</td>\n",
              "      <td>0.000000</td>\n",
              "      <td>0.000000</td>\n",
              "      <td>247.825790</td>\n",
              "      <td>32.086220</td>\n",
              "    </tr>\n",
              "    <tr>\n",
              "      <th>33</th>\n",
              "      <td>1.000000</td>\n",
              "      <td>0.000000</td>\n",
              "      <td>0.000000</td>\n",
              "      <td>0.000000</td>\n",
              "      <td>229.304520</td>\n",
              "      <td>24.732781</td>\n",
              "    </tr>\n",
              "    <tr>\n",
              "      <th>34</th>\n",
              "      <td>1.000000</td>\n",
              "      <td>0.000000</td>\n",
              "      <td>0.000000</td>\n",
              "      <td>0.000000</td>\n",
              "      <td>248.130447</td>\n",
              "      <td>30.995107</td>\n",
              "    </tr>\n",
              "    <tr>\n",
              "      <th>35</th>\n",
              "      <td>0.991875</td>\n",
              "      <td>0.008125</td>\n",
              "      <td>0.000000</td>\n",
              "      <td>0.000000</td>\n",
              "      <td>251.303268</td>\n",
              "      <td>37.680835</td>\n",
              "    </tr>\n",
              "    <tr>\n",
              "      <th>36</th>\n",
              "      <td>0.322083</td>\n",
              "      <td>0.621181</td>\n",
              "      <td>0.029097</td>\n",
              "      <td>0.027639</td>\n",
              "      <td>148.245346</td>\n",
              "      <td>45.201679</td>\n",
              "    </tr>\n",
              "    <tr>\n",
              "      <th>37</th>\n",
              "      <td>0.931667</td>\n",
              "      <td>0.068333</td>\n",
              "      <td>0.000000</td>\n",
              "      <td>0.000000</td>\n",
              "      <td>224.854172</td>\n",
              "      <td>32.246833</td>\n",
              "    </tr>\n",
              "    <tr>\n",
              "      <th>38</th>\n",
              "      <td>1.000000</td>\n",
              "      <td>0.000000</td>\n",
              "      <td>0.000000</td>\n",
              "      <td>0.000000</td>\n",
              "      <td>274.524078</td>\n",
              "      <td>28.527273</td>\n",
              "    </tr>\n",
              "    <tr>\n",
              "      <th>39</th>\n",
              "      <td>0.128681</td>\n",
              "      <td>0.775556</td>\n",
              "      <td>0.036042</td>\n",
              "      <td>0.059722</td>\n",
              "      <td>131.521378</td>\n",
              "      <td>46.490444</td>\n",
              "    </tr>\n",
              "    <tr>\n",
              "      <th>40</th>\n",
              "      <td>0.991528</td>\n",
              "      <td>0.008472</td>\n",
              "      <td>0.000000</td>\n",
              "      <td>0.000000</td>\n",
              "      <td>223.494949</td>\n",
              "      <td>27.570786</td>\n",
              "    </tr>\n",
              "    <tr>\n",
              "      <th>41</th>\n",
              "      <td>1.000000</td>\n",
              "      <td>0.000000</td>\n",
              "      <td>0.000000</td>\n",
              "      <td>0.000000</td>\n",
              "      <td>259.502930</td>\n",
              "      <td>34.267815</td>\n",
              "    </tr>\n",
              "    <tr>\n",
              "      <th>42</th>\n",
              "      <td>0.034306</td>\n",
              "      <td>0.888194</td>\n",
              "      <td>0.041736</td>\n",
              "      <td>0.035764</td>\n",
              "      <td>119.742699</td>\n",
              "      <td>35.851396</td>\n",
              "    </tr>\n",
              "    <tr>\n",
              "      <th>43</th>\n",
              "      <td>0.635625</td>\n",
              "      <td>0.364375</td>\n",
              "      <td>0.000000</td>\n",
              "      <td>0.000000</td>\n",
              "      <td>201.122787</td>\n",
              "      <td>30.026558</td>\n",
              "    </tr>\n",
              "    <tr>\n",
              "      <th>44</th>\n",
              "      <td>0.999722</td>\n",
              "      <td>0.000278</td>\n",
              "      <td>0.000000</td>\n",
              "      <td>0.000000</td>\n",
              "      <td>281.778229</td>\n",
              "      <td>35.350053</td>\n",
              "    </tr>\n",
              "    <tr>\n",
              "      <th>45</th>\n",
              "      <td>0.794028</td>\n",
              "      <td>0.205417</td>\n",
              "      <td>0.000139</td>\n",
              "      <td>0.000417</td>\n",
              "      <td>200.646851</td>\n",
              "      <td>24.468507</td>\n",
              "    </tr>\n",
              "    <tr>\n",
              "      <th>46</th>\n",
              "      <td>0.930903</td>\n",
              "      <td>0.068542</td>\n",
              "      <td>0.000069</td>\n",
              "      <td>0.000486</td>\n",
              "      <td>277.003113</td>\n",
              "      <td>63.618854</td>\n",
              "    </tr>\n",
              "    <tr>\n",
              "      <th>47</th>\n",
              "      <td>0.954861</td>\n",
              "      <td>0.045139</td>\n",
              "      <td>0.000000</td>\n",
              "      <td>0.000000</td>\n",
              "      <td>246.311890</td>\n",
              "      <td>43.176221</td>\n",
              "    </tr>\n",
              "    <tr>\n",
              "      <th>48</th>\n",
              "      <td>0.474236</td>\n",
              "      <td>0.508194</td>\n",
              "      <td>0.014097</td>\n",
              "      <td>0.003472</td>\n",
              "      <td>162.169891</td>\n",
              "      <td>52.063901</td>\n",
              "    </tr>\n",
              "    <tr>\n",
              "      <th>49</th>\n",
              "      <td>0.934167</td>\n",
              "      <td>0.065833</td>\n",
              "      <td>0.000000</td>\n",
              "      <td>0.000000</td>\n",
              "      <td>253.931290</td>\n",
              "      <td>49.858835</td>\n",
              "    </tr>\n",
              "  </tbody>\n",
              "</table>\n",
              "</div>\n",
              "      <button class=\"colab-df-convert\" onclick=\"convertToInteractive('df-5522d9b0-34ac-4ca0-900a-129161154042')\"\n",
              "              title=\"Convert this dataframe to an interactive table.\"\n",
              "              style=\"display:none;\">\n",
              "        \n",
              "  <svg xmlns=\"http://www.w3.org/2000/svg\" height=\"24px\"viewBox=\"0 0 24 24\"\n",
              "       width=\"24px\">\n",
              "    <path d=\"M0 0h24v24H0V0z\" fill=\"none\"/>\n",
              "    <path d=\"M18.56 5.44l.94 2.06.94-2.06 2.06-.94-2.06-.94-.94-2.06-.94 2.06-2.06.94zm-11 1L8.5 8.5l.94-2.06 2.06-.94-2.06-.94L8.5 2.5l-.94 2.06-2.06.94zm10 10l.94 2.06.94-2.06 2.06-.94-2.06-.94-.94-2.06-.94 2.06-2.06.94z\"/><path d=\"M17.41 7.96l-1.37-1.37c-.4-.4-.92-.59-1.43-.59-.52 0-1.04.2-1.43.59L10.3 9.45l-7.72 7.72c-.78.78-.78 2.05 0 2.83L4 21.41c.39.39.9.59 1.41.59.51 0 1.02-.2 1.41-.59l7.78-7.78 2.81-2.81c.8-.78.8-2.07 0-2.86zM5.41 20L4 18.59l7.72-7.72 1.47 1.35L5.41 20z\"/>\n",
              "  </svg>\n",
              "      </button>\n",
              "      \n",
              "  <style>\n",
              "    .colab-df-container {\n",
              "      display:flex;\n",
              "      flex-wrap:wrap;\n",
              "      gap: 12px;\n",
              "    }\n",
              "\n",
              "    .colab-df-convert {\n",
              "      background-color: #E8F0FE;\n",
              "      border: none;\n",
              "      border-radius: 50%;\n",
              "      cursor: pointer;\n",
              "      display: none;\n",
              "      fill: #1967D2;\n",
              "      height: 32px;\n",
              "      padding: 0 0 0 0;\n",
              "      width: 32px;\n",
              "    }\n",
              "\n",
              "    .colab-df-convert:hover {\n",
              "      background-color: #E2EBFA;\n",
              "      box-shadow: 0px 1px 2px rgba(60, 64, 67, 0.3), 0px 1px 3px 1px rgba(60, 64, 67, 0.15);\n",
              "      fill: #174EA6;\n",
              "    }\n",
              "\n",
              "    [theme=dark] .colab-df-convert {\n",
              "      background-color: #3B4455;\n",
              "      fill: #D2E3FC;\n",
              "    }\n",
              "\n",
              "    [theme=dark] .colab-df-convert:hover {\n",
              "      background-color: #434B5C;\n",
              "      box-shadow: 0px 1px 3px 1px rgba(0, 0, 0, 0.15);\n",
              "      filter: drop-shadow(0px 1px 2px rgba(0, 0, 0, 0.3));\n",
              "      fill: #FFFFFF;\n",
              "    }\n",
              "  </style>\n",
              "\n",
              "      <script>\n",
              "        const buttonEl =\n",
              "          document.querySelector('#df-5522d9b0-34ac-4ca0-900a-129161154042 button.colab-df-convert');\n",
              "        buttonEl.style.display =\n",
              "          google.colab.kernel.accessAllowed ? 'block' : 'none';\n",
              "\n",
              "        async function convertToInteractive(key) {\n",
              "          const element = document.querySelector('#df-5522d9b0-34ac-4ca0-900a-129161154042');\n",
              "          const dataTable =\n",
              "            await google.colab.kernel.invokeFunction('convertToInteractive',\n",
              "                                                     [key], {});\n",
              "          if (!dataTable) return;\n",
              "\n",
              "          const docLinkHtml = 'Like what you see? Visit the ' +\n",
              "            '<a target=\"_blank\" href=https://colab.research.google.com/notebooks/data_table.ipynb>data table notebook</a>'\n",
              "            + ' to learn more about interactive tables.';\n",
              "          element.innerHTML = '';\n",
              "          dataTable['output_type'] = 'display_data';\n",
              "          await google.colab.output.renderOutput(dataTable, element);\n",
              "          const docLink = document.createElement('div');\n",
              "          docLink.innerHTML = docLinkHtml;\n",
              "          element.appendChild(docLink);\n",
              "        }\n",
              "      </script>\n",
              "    </div>\n",
              "  </div>\n",
              "  "
            ]
          },
          "metadata": {},
          "execution_count": 87
        }
      ]
    },
    {
      "cell_type": "markdown",
      "source": [
        "# The comparison between the results of normal GAN and TimeGAN"
      ],
      "metadata": {
        "id": "69kNq-zfrtIn"
      },
      "id": "69kNq-zfrtIn"
    },
    {
      "cell_type": "code",
      "source": [
        "generator.load_weights('/content/drive/MyDrive/Thesis/model/normal_gan/570_0.0005/generator_weights_4400.h5')\n",
        "synth_norm, _ = generate_fake_samples(generator, 50)\n",
        "synth_norm=synth_norm.reshape(50,288)\n",
        "synth_timegan = np.load(\"/content/drive/MyDrive/Thesis/best model/timegan_570_128/synthetic_data_nonorm.npy\")"
      ],
      "metadata": {
        "id": "CD0udmxAhl3q"
      },
      "id": "CD0udmxAhl3q",
      "execution_count": null,
      "outputs": []
    },
    {
      "cell_type": "code",
      "source": [
        "synth_normgan_norm = synth_norm\n",
        "synth_timegan_norm = np.load(\"/content/drive/MyDrive/Thesis/best model/timegan_570_128/synthetic_data.npy\")\n",
        "synth_normgan_nonnorm = scaler.inverse_transform(synth_norm)\n",
        "synth_timegan_nonnorm = synth_timegan\n",
        "real_ori = scaler.inverse_transform(glucose_570)\n",
        "real_norm = glucose_570"
      ],
      "metadata": {
        "id": "UYnrF0r5nLLf"
      },
      "id": "UYnrF0r5nLLf",
      "execution_count": null,
      "outputs": []
    },
    {
      "cell_type": "markdown",
      "source": [
        "SVM"
      ],
      "metadata": {
        "id": "0eTL0GQtEfjv"
      },
      "id": "0eTL0GQtEfjv"
    },
    {
      "cell_type": "code",
      "source": [
        "x = real_ori.tolist()\n",
        "y = my_list = [1]*50\n",
        "x_timegan = [synth_timegan_nonnorm[1][0][i][:,0].tolist() for i in range(50)]\n",
        "x_normgan = synth_normgan_nonnorm\n",
        "y_timegan = [0]*50\n",
        "x.extend(x_normgan)\n",
        "y.extend(y_timegan)"
      ],
      "metadata": {
        "id": "_zHC2R88nPMZ"
      },
      "id": "_zHC2R88nPMZ",
      "execution_count": null,
      "outputs": []
    },
    {
      "cell_type": "code",
      "source": [
        "import random\n",
        "\n",
        "numbers = list(range(100))\n",
        "\n",
        "num_selected_70 = random.sample(numbers, int(0.7*len(numbers)))\n",
        "\n",
        "num_selected_30 = list(set(numbers) - set(num_selected_70))\n",
        "\n",
        "print(\"training index：\", num_selected_70)\n",
        "print(\"test index：\", num_selected_30)"
      ],
      "metadata": {
        "colab": {
          "base_uri": "https://localhost:8080/"
        },
        "id": "LNjSquWWsBYg",
        "outputId": "3eaba3c0-cc42-42c9-afa2-186b62c86a37"
      },
      "id": "LNjSquWWsBYg",
      "execution_count": null,
      "outputs": [
        {
          "output_type": "stream",
          "name": "stdout",
          "text": [
            "training index： [20, 84, 74, 44, 85, 68, 39, 62, 95, 16, 13, 93, 82, 35, 37, 63, 15, 60, 2, 79, 76, 24, 51, 7, 34, 58, 18, 56, 55, 53, 9, 28, 67, 50, 36, 21, 80, 81, 3, 49, 97, 96, 46, 17, 91, 52, 69, 99, 5, 66, 72, 70, 73, 19, 23, 12, 26, 47, 1, 11, 77, 61, 4, 88, 6, 92, 0, 29, 83, 38]\n",
            "test index： [8, 10, 14, 22, 25, 27, 30, 31, 32, 33, 40, 41, 42, 43, 45, 48, 54, 57, 59, 64, 65, 71, 75, 78, 86, 87, 89, 90, 94, 98]\n"
          ]
        }
      ]
    },
    {
      "cell_type": "code",
      "source": [
        "training_x = [x[num_selected_70[i]] for i in range(len(num_selected_70))]\n",
        "test_x = [x[num_selected_30[i]] for i in range(len(num_selected_30))]\n",
        "training_y = [y[num_selected_70[i]] for i in range(len(num_selected_70))]\n",
        "test_y = [y[num_selected_30[i]] for i in range(len(num_selected_30))]"
      ],
      "metadata": {
        "id": "k7YbyqslsFBQ"
      },
      "id": "k7YbyqslsFBQ",
      "execution_count": null,
      "outputs": []
    },
    {
      "cell_type": "code",
      "source": [
        "from sklearn import svm, metrics\n",
        "classifier = svm.SVC()\n",
        "\n",
        "# Train the classifier on the training data\n",
        "classifier.fit(training_x, training_y)\n",
        "\n",
        "# Predict the labels of the test data\n",
        "y_pred = classifier.predict(test_x)\n",
        "\n",
        "# Calculate the accuracy and F1 score of the classifier\n",
        "accuracy = metrics.accuracy_score(test_y, y_pred)\n",
        "f1_score = metrics.f1_score(test_y, y_pred, average='weighted')\n",
        "\n",
        "# Print the results\n",
        "print(\"Accuracy:\", accuracy)\n",
        "print(\"F1 score:\", f1_score)"
      ],
      "metadata": {
        "colab": {
          "base_uri": "https://localhost:8080/"
        },
        "id": "gV-SY93_sJTA",
        "outputId": "9651759b-6995-46c6-d68c-4e094ae25e1d"
      },
      "id": "gV-SY93_sJTA",
      "execution_count": null,
      "outputs": [
        {
          "output_type": "stream",
          "name": "stdout",
          "text": [
            "Accuracy: 0.9666666666666667\n",
            "F1 score: 0.9667037449017427\n"
          ]
        }
      ]
    },
    {
      "cell_type": "markdown",
      "source": [
        "RNN for prediction"
      ],
      "metadata": {
        "id": "Mopi3NOcEop6"
      },
      "id": "Mopi3NOcEop6"
    },
    {
      "cell_type": "code",
      "source": [
        "#Split training and test set\n",
        "n_events = len(real_ori)\n",
        "\n",
        "idx = np.arange(n_events)\n",
        "n_train = int(.8*n_events)\n",
        "train_idx = idx[:n_train]\n",
        "test_idx = idx[n_train:]"
      ],
      "metadata": {
        "id": "_d0C2XeVr5h6"
      },
      "id": "_d0C2XeVr5h6",
      "execution_count": null,
      "outputs": []
    },
    {
      "cell_type": "code",
      "source": [
        "# get training and test data (use past 6h data to predict next 30min)\n",
        "pre_len = 6 # 5*6=30 -> 30min\n",
        "train_len = 72 #12*6 -> 6h\n",
        "\n",
        "train_real_x = []\n",
        "train_real_y = []\n",
        "train_syn_norm_x = []\n",
        "train_syn_norm_y = []\n",
        "train_syn_time_x = []\n",
        "train_syn_time_y = []\n",
        "\n",
        "for i in range(len(train_idx)):\n",
        "  for j in range(288-(pre_len+train_len)+1):\n",
        "    train_real_x.append(glucose_570[train_idx[i], j:(j+train_len)])\n",
        "    train_real_y.append(glucose_570[train_idx[i], (j+train_len):(j+train_len+pre_len)])\n",
        "\n",
        "    train_syn_norm_x.append(synth_normgan_norm[train_idx[i], j:(j+train_len)])\n",
        "    train_syn_norm_y.append(synth_normgan_norm[train_idx[i], (j+train_len):(j+train_len+pre_len)])\n",
        "\n",
        "    train_syn_time_x.append(np.array([synth_timegan_norm[1][0][n][:,0] for n in range(50)])[train_idx[i], j:(j+train_len)])\n",
        "    train_syn_time_y.append(np.array([synth_timegan_norm[1][0][n][:,0] for n in range(50)])[train_idx[i], (j+train_len):(j+train_len+pre_len)])\n",
        "\n",
        "test_real_x = []\n",
        "test_real_y = []\n",
        "test_syn_norm_x = []\n",
        "test_syn_norm_y = []\n",
        "test_syn_time_x = []\n",
        "test_syn_time_y = []\n",
        "\n",
        "for i in range(len(test_idx)):\n",
        "  for j in range(288-(pre_len+train_len)+1):\n",
        "    test_real_x.append(glucose_570[test_idx[i], j:(j+train_len)])\n",
        "    test_real_y.append(glucose_570[test_idx[i], (j+train_len):(j+train_len+pre_len)])\n",
        "\n",
        "    test_syn_norm_x.append(synth_normgan_norm[test_idx[i], j:(j+train_len)])\n",
        "    test_syn_norm_y.append(synth_normgan_norm[test_idx[i], (j+train_len):(j+train_len+pre_len)])\n",
        "\n",
        "    test_syn_time_x.append(np.array([synth_timegan_norm[1][0][n][:,0] for n in range(50)])[test_idx[i], j:(j+train_len)])\n",
        "    test_syn_time_y.append(np.array([synth_timegan_norm[1][0][n][:,0] for n in range(50)])[test_idx[i], (j+train_len):(j+train_len+pre_len)])\n",
        "\n",
        "train_real_x = np.array(train_real_x)\n",
        "train_real_y = np.array(train_real_y)\n",
        "train_syn_norm_x = np.array(train_syn_norm_x)\n",
        "train_syn_norm_y = np.array(train_syn_norm_y)\n",
        "train_syn_time_x = np.array(train_syn_time_x)\n",
        "train_syn_time_y = np.array(train_syn_time_y)\n",
        "\n",
        "\n",
        "test_real_x = np.array(test_real_x)\n",
        "test_real_y = np.array(test_real_y)\n",
        "test_syn_norm_x = np.array(test_syn_norm_x)\n",
        "test_syn_norm_y = np.array(test_syn_norm_y)\n",
        "test_syn_time_x = np.array(test_syn_time_x)\n",
        "test_syn_time_y = np.array(test_syn_time_y)"
      ],
      "metadata": {
        "id": "N3dAdYlkEttT"
      },
      "id": "N3dAdYlkEttT",
      "execution_count": null,
      "outputs": []
    },
    {
      "cell_type": "code",
      "source": [
        "from tensorflow.keras import Input, Sequential\n",
        "from tensorflow.keras.callbacks import EarlyStopping\n",
        "from tensorflow.keras.layers import GRU, Dense\n",
        "from tensorflow.keras.optimizers import Adam\n",
        "from tensorflow.keras.losses import MeanAbsoluteError\n",
        "import tensorflow as tf\n",
        "from sklearn.metrics import r2_score, mean_absolute_error, mean_squared_log_error\n",
        "\n",
        "tf.random.set_seed(7)\n",
        "#First implement a simple RNN model for prediction\n",
        "def RNN_regression(units):\n",
        "    opt = Adam(name='AdamOpt')\n",
        "    loss = MeanAbsoluteError(name='MAE')\n",
        "    model = Sequential()\n",
        "    model.add(GRU(units=units, input_shape=(72,1),\n",
        "                  name=f'RNN_1'))\n",
        "    model.add(Dense(units=6,\n",
        "                    activation='sigmoid',\n",
        "                    name='OUT'))\n",
        "    model.compile(optimizer=opt, loss=loss)\n",
        "    return model"
      ],
      "metadata": {
        "id": "-XpFncU-FK5o"
      },
      "id": "-XpFncU-FK5o",
      "execution_count": null,
      "outputs": []
    },
    {
      "cell_type": "code",
      "source": [
        "#Training the model with the real train data\n",
        "ts_real = RNN_regression(72)\n",
        "early_stopping = EarlyStopping(monitor='val_loss', patience=5)\n",
        "\n",
        "real_train = ts_real.fit(x=train_real_x,\n",
        "                          y=train_real_y,\n",
        "                          validation_data=(test_real_x, test_real_y),\n",
        "                          epochs=200,\n",
        "                          batch_size=128,\n",
        "                          callbacks=[early_stopping])"
      ],
      "metadata": {
        "colab": {
          "base_uri": "https://localhost:8080/"
        },
        "id": "l2jL7fKVFMKE",
        "outputId": "f845cace-288a-4715-e9ef-9e160319b196"
      },
      "id": "l2jL7fKVFMKE",
      "execution_count": null,
      "outputs": [
        {
          "output_type": "stream",
          "name": "stdout",
          "text": [
            "Epoch 1/200\n",
            "66/66 [==============================] - 4s 12ms/step - loss: 0.1382 - val_loss: 0.0880\n",
            "Epoch 2/200\n",
            "66/66 [==============================] - 0s 5ms/step - loss: 0.0739 - val_loss: 0.0704\n",
            "Epoch 3/200\n",
            "66/66 [==============================] - 0s 5ms/step - loss: 0.0660 - val_loss: 0.0664\n",
            "Epoch 4/200\n",
            "66/66 [==============================] - 0s 5ms/step - loss: 0.0630 - val_loss: 0.0624\n",
            "Epoch 5/200\n",
            "66/66 [==============================] - 0s 5ms/step - loss: 0.0607 - val_loss: 0.0604\n",
            "Epoch 6/200\n",
            "66/66 [==============================] - 0s 5ms/step - loss: 0.0593 - val_loss: 0.0581\n",
            "Epoch 7/200\n",
            "66/66 [==============================] - 0s 5ms/step - loss: 0.0580 - val_loss: 0.0564\n",
            "Epoch 8/200\n",
            "66/66 [==============================] - 0s 5ms/step - loss: 0.0574 - val_loss: 0.0555\n",
            "Epoch 9/200\n",
            "66/66 [==============================] - 0s 5ms/step - loss: 0.0565 - val_loss: 0.0553\n",
            "Epoch 10/200\n",
            "66/66 [==============================] - 0s 5ms/step - loss: 0.0561 - val_loss: 0.0548\n",
            "Epoch 11/200\n",
            "66/66 [==============================] - 0s 5ms/step - loss: 0.0553 - val_loss: 0.0544\n",
            "Epoch 12/200\n",
            "66/66 [==============================] - 0s 5ms/step - loss: 0.0547 - val_loss: 0.0546\n",
            "Epoch 13/200\n",
            "66/66 [==============================] - 0s 5ms/step - loss: 0.0545 - val_loss: 0.0528\n",
            "Epoch 14/200\n",
            "66/66 [==============================] - 0s 5ms/step - loss: 0.0539 - val_loss: 0.0526\n",
            "Epoch 15/200\n",
            "66/66 [==============================] - 0s 5ms/step - loss: 0.0538 - val_loss: 0.0525\n",
            "Epoch 16/200\n",
            "66/66 [==============================] - 0s 5ms/step - loss: 0.0534 - val_loss: 0.0514\n",
            "Epoch 17/200\n",
            "66/66 [==============================] - 0s 5ms/step - loss: 0.0531 - val_loss: 0.0515\n",
            "Epoch 18/200\n",
            "66/66 [==============================] - 0s 5ms/step - loss: 0.0529 - val_loss: 0.0525\n",
            "Epoch 19/200\n",
            "66/66 [==============================] - 0s 6ms/step - loss: 0.0525 - val_loss: 0.0508\n",
            "Epoch 20/200\n",
            "66/66 [==============================] - 0s 5ms/step - loss: 0.0524 - val_loss: 0.0505\n",
            "Epoch 21/200\n",
            "66/66 [==============================] - 0s 5ms/step - loss: 0.0519 - val_loss: 0.0501\n",
            "Epoch 22/200\n",
            "66/66 [==============================] - 0s 5ms/step - loss: 0.0517 - val_loss: 0.0500\n",
            "Epoch 23/200\n",
            "66/66 [==============================] - 0s 6ms/step - loss: 0.0515 - val_loss: 0.0504\n",
            "Epoch 24/200\n",
            "66/66 [==============================] - 0s 5ms/step - loss: 0.0512 - val_loss: 0.0495\n",
            "Epoch 25/200\n",
            "66/66 [==============================] - 0s 5ms/step - loss: 0.0511 - val_loss: 0.0495\n",
            "Epoch 26/200\n",
            "66/66 [==============================] - 0s 5ms/step - loss: 0.0508 - val_loss: 0.0500\n",
            "Epoch 27/200\n",
            "66/66 [==============================] - 0s 5ms/step - loss: 0.0509 - val_loss: 0.0495\n",
            "Epoch 28/200\n",
            "66/66 [==============================] - 0s 5ms/step - loss: 0.0504 - val_loss: 0.0484\n",
            "Epoch 29/200\n",
            "66/66 [==============================] - 0s 5ms/step - loss: 0.0501 - val_loss: 0.0487\n",
            "Epoch 30/200\n",
            "66/66 [==============================] - 0s 5ms/step - loss: 0.0500 - val_loss: 0.0484\n",
            "Epoch 31/200\n",
            "66/66 [==============================] - 0s 5ms/step - loss: 0.0497 - val_loss: 0.0478\n",
            "Epoch 32/200\n",
            "66/66 [==============================] - 0s 5ms/step - loss: 0.0493 - val_loss: 0.0476\n",
            "Epoch 33/200\n",
            "66/66 [==============================] - 0s 5ms/step - loss: 0.0496 - val_loss: 0.0478\n",
            "Epoch 34/200\n",
            "66/66 [==============================] - 0s 5ms/step - loss: 0.0493 - val_loss: 0.0481\n",
            "Epoch 35/200\n",
            "66/66 [==============================] - 0s 5ms/step - loss: 0.0490 - val_loss: 0.0478\n",
            "Epoch 36/200\n",
            "66/66 [==============================] - 0s 5ms/step - loss: 0.0490 - val_loss: 0.0477\n",
            "Epoch 37/200\n",
            "66/66 [==============================] - 0s 5ms/step - loss: 0.0488 - val_loss: 0.0478\n"
          ]
        }
      ]
    },
    {
      "cell_type": "code",
      "source": [
        "# TRTR results\n",
        "real_predictions = ts_real.predict(test_real_x)\n",
        "r2_real = r2_score(test_real_y, real_predictions)\n",
        "mae_real = mean_absolute_error(test_real_y, real_predictions)\n",
        "mrle_real = mean_squared_log_error(test_real_y, real_predictions)\n",
        "print(r2_real)\n",
        "print(mae_real)\n",
        "print(mrle_real)"
      ],
      "metadata": {
        "colab": {
          "base_uri": "https://localhost:8080/"
        },
        "id": "yV1tb1nsFOV8",
        "outputId": "dc3ae759-58d1-4b59-a2b3-e786fe714d52"
      },
      "id": "yV1tb1nsFOV8",
      "execution_count": null,
      "outputs": [
        {
          "output_type": "stream",
          "name": "stdout",
          "text": [
            "66/66 [==============================] - 0s 2ms/step\n",
            "0.9336035612340665\n",
            "0.04778909215424617\n",
            "0.0018759708231817216\n"
          ]
        }
      ]
    },
    {
      "cell_type": "code",
      "source": [
        "#Training the model with the synthetic data from normal GAN\n",
        "ts_norm_syn = RNN_regression(72)\n",
        "early_stopping = EarlyStopping(monitor='val_loss', patience=5)\n",
        "\n",
        "norm_syn_train = ts_norm_syn.fit(x=train_syn_norm_x,\n",
        "                          y=train_syn_norm_y,\n",
        "                          validation_data=(test_real_x, test_real_y),\n",
        "                          epochs=200,\n",
        "                          batch_size=128,\n",
        "                          callbacks=[early_stopping])"
      ],
      "metadata": {
        "colab": {
          "base_uri": "https://localhost:8080/"
        },
        "id": "yHqXDroAFRUP",
        "outputId": "bbac5560-c875-4109-8139-465a2471b04f"
      },
      "id": "yHqXDroAFRUP",
      "execution_count": null,
      "outputs": [
        {
          "output_type": "stream",
          "name": "stdout",
          "text": [
            "Epoch 1/200\n",
            "66/66 [==============================] - 3s 11ms/step - loss: 0.0509 - val_loss: 0.1503\n",
            "Epoch 2/200\n",
            "66/66 [==============================] - 0s 5ms/step - loss: 0.0356 - val_loss: 0.1123\n",
            "Epoch 3/200\n",
            "66/66 [==============================] - 0s 5ms/step - loss: 0.0317 - val_loss: 0.0946\n",
            "Epoch 4/200\n",
            "66/66 [==============================] - 0s 5ms/step - loss: 0.0306 - val_loss: 0.0893\n",
            "Epoch 5/200\n",
            "66/66 [==============================] - 0s 5ms/step - loss: 0.0302 - val_loss: 0.0849\n",
            "Epoch 6/200\n",
            "66/66 [==============================] - 0s 5ms/step - loss: 0.0298 - val_loss: 0.0867\n",
            "Epoch 7/200\n",
            "66/66 [==============================] - 0s 5ms/step - loss: 0.0287 - val_loss: 0.0814\n",
            "Epoch 8/200\n",
            "66/66 [==============================] - 0s 5ms/step - loss: 0.0282 - val_loss: 0.0834\n",
            "Epoch 9/200\n",
            "66/66 [==============================] - 0s 5ms/step - loss: 0.0276 - val_loss: 0.0791\n",
            "Epoch 10/200\n",
            "66/66 [==============================] - 0s 5ms/step - loss: 0.0271 - val_loss: 0.0777\n",
            "Epoch 11/200\n",
            "66/66 [==============================] - 0s 5ms/step - loss: 0.0270 - val_loss: 0.0790\n",
            "Epoch 12/200\n",
            "66/66 [==============================] - 0s 5ms/step - loss: 0.0271 - val_loss: 0.0821\n",
            "Epoch 13/200\n",
            "66/66 [==============================] - 0s 5ms/step - loss: 0.0267 - val_loss: 0.0790\n",
            "Epoch 14/200\n",
            "66/66 [==============================] - 0s 5ms/step - loss: 0.0262 - val_loss: 0.0764\n",
            "Epoch 15/200\n",
            "66/66 [==============================] - 0s 5ms/step - loss: 0.0261 - val_loss: 0.0767\n",
            "Epoch 16/200\n",
            "66/66 [==============================] - 0s 5ms/step - loss: 0.0262 - val_loss: 0.0727\n",
            "Epoch 17/200\n",
            "66/66 [==============================] - 0s 5ms/step - loss: 0.0258 - val_loss: 0.0717\n",
            "Epoch 18/200\n",
            "66/66 [==============================] - 0s 5ms/step - loss: 0.0258 - val_loss: 0.0717\n",
            "Epoch 19/200\n",
            "66/66 [==============================] - 0s 5ms/step - loss: 0.0255 - val_loss: 0.0751\n",
            "Epoch 20/200\n",
            "66/66 [==============================] - 0s 5ms/step - loss: 0.0249 - val_loss: 0.0937\n",
            "Epoch 21/200\n",
            "66/66 [==============================] - 0s 5ms/step - loss: 0.0246 - val_loss: 0.1048\n",
            "Epoch 22/200\n",
            "66/66 [==============================] - 0s 6ms/step - loss: 0.0238 - val_loss: 0.1018\n"
          ]
        }
      ]
    },
    {
      "cell_type": "code",
      "source": [
        "# TSTR results from normal GAN\n",
        "syn_norm_predictions = ts_norm_syn.predict(test_real_x)\n",
        "r2_syn_norm = r2_score(test_real_y, syn_norm_predictions)\n",
        "mae_syn_norm = mean_absolute_error(test_real_y, syn_norm_predictions)\n",
        "mrle_syn_norm = mean_squared_log_error(test_real_y, syn_norm_predictions)\n",
        "print(r2_syn_norm)\n",
        "print(mae_syn_norm)\n",
        "print(mrle_syn_norm)"
      ],
      "metadata": {
        "colab": {
          "base_uri": "https://localhost:8080/"
        },
        "id": "_rx0oje9FUD1",
        "outputId": "dc87617e-2fc4-4e60-b852-b786e4ea4e5b"
      },
      "id": "_rx0oje9FUD1",
      "execution_count": null,
      "outputs": [
        {
          "output_type": "stream",
          "name": "stdout",
          "text": [
            "66/66 [==============================] - 0s 2ms/step\n",
            "0.7568746990087076\n",
            "0.10175453726249378\n",
            "0.006437683502665333\n"
          ]
        }
      ]
    },
    {
      "cell_type": "code",
      "source": [
        "#Training the model with the synthetic data from TimeGAN\n",
        "ts_time_syn = RNN_regression(72)\n",
        "early_stopping = EarlyStopping(monitor='val_loss', patience=5)\n",
        "\n",
        "time_syn_train = ts_time_syn.fit(x=train_syn_time_x,\n",
        "                          y=train_syn_time_y,\n",
        "                          validation_data=(test_real_x, test_real_y),\n",
        "                          epochs=200,\n",
        "                          batch_size=128,\n",
        "                          callbacks=[early_stopping])"
      ],
      "metadata": {
        "colab": {
          "base_uri": "https://localhost:8080/"
        },
        "id": "e1lJ3KyNFWW8",
        "outputId": "90323cf9-942a-4d33-98ba-93b5320c94eb"
      },
      "id": "e1lJ3KyNFWW8",
      "execution_count": null,
      "outputs": [
        {
          "output_type": "stream",
          "name": "stdout",
          "text": [
            "Epoch 1/200\n",
            "66/66 [==============================] - 2s 11ms/step - loss: 0.1161 - val_loss: 0.1028\n",
            "Epoch 2/200\n",
            "66/66 [==============================] - 0s 6ms/step - loss: 0.0536 - val_loss: 0.0754\n",
            "Epoch 3/200\n",
            "66/66 [==============================] - 0s 6ms/step - loss: 0.0425 - val_loss: 0.0702\n",
            "Epoch 4/200\n",
            "66/66 [==============================] - 0s 5ms/step - loss: 0.0387 - val_loss: 0.0653\n",
            "Epoch 5/200\n",
            "66/66 [==============================] - 0s 5ms/step - loss: 0.0363 - val_loss: 0.0630\n",
            "Epoch 6/200\n",
            "66/66 [==============================] - 0s 6ms/step - loss: 0.0347 - val_loss: 0.0630\n",
            "Epoch 7/200\n",
            "66/66 [==============================] - 0s 5ms/step - loss: 0.0332 - val_loss: 0.0609\n",
            "Epoch 8/200\n",
            "66/66 [==============================] - 0s 5ms/step - loss: 0.0327 - val_loss: 0.0591\n",
            "Epoch 9/200\n",
            "66/66 [==============================] - 0s 5ms/step - loss: 0.0318 - val_loss: 0.0609\n",
            "Epoch 10/200\n",
            "66/66 [==============================] - 0s 5ms/step - loss: 0.0315 - val_loss: 0.0584\n",
            "Epoch 11/200\n",
            "66/66 [==============================] - 0s 5ms/step - loss: 0.0307 - val_loss: 0.0587\n",
            "Epoch 12/200\n",
            "66/66 [==============================] - 0s 5ms/step - loss: 0.0304 - val_loss: 0.0577\n",
            "Epoch 13/200\n",
            "66/66 [==============================] - 0s 5ms/step - loss: 0.0307 - val_loss: 0.0580\n",
            "Epoch 14/200\n",
            "66/66 [==============================] - 0s 5ms/step - loss: 0.0302 - val_loss: 0.0591\n",
            "Epoch 15/200\n",
            "66/66 [==============================] - 0s 5ms/step - loss: 0.0298 - val_loss: 0.0574\n",
            "Epoch 16/200\n",
            "66/66 [==============================] - 0s 5ms/step - loss: 0.0297 - val_loss: 0.0569\n",
            "Epoch 17/200\n",
            "66/66 [==============================] - 0s 5ms/step - loss: 0.0293 - val_loss: 0.0591\n",
            "Epoch 18/200\n",
            "66/66 [==============================] - 0s 5ms/step - loss: 0.0293 - val_loss: 0.0570\n",
            "Epoch 19/200\n",
            "66/66 [==============================] - 0s 5ms/step - loss: 0.0292 - val_loss: 0.0559\n",
            "Epoch 20/200\n",
            "66/66 [==============================] - 0s 5ms/step - loss: 0.0292 - val_loss: 0.0562\n",
            "Epoch 21/200\n",
            "66/66 [==============================] - 0s 5ms/step - loss: 0.0287 - val_loss: 0.0559\n",
            "Epoch 22/200\n",
            "66/66 [==============================] - 0s 5ms/step - loss: 0.0286 - val_loss: 0.0565\n",
            "Epoch 23/200\n",
            "66/66 [==============================] - 0s 5ms/step - loss: 0.0286 - val_loss: 0.0545\n",
            "Epoch 24/200\n",
            "66/66 [==============================] - 0s 5ms/step - loss: 0.0284 - val_loss: 0.0555\n",
            "Epoch 25/200\n",
            "66/66 [==============================] - 0s 5ms/step - loss: 0.0282 - val_loss: 0.0558\n",
            "Epoch 26/200\n",
            "66/66 [==============================] - 0s 5ms/step - loss: 0.0283 - val_loss: 0.0552\n",
            "Epoch 27/200\n",
            "66/66 [==============================] - 0s 5ms/step - loss: 0.0281 - val_loss: 0.0557\n",
            "Epoch 28/200\n",
            "66/66 [==============================] - 0s 5ms/step - loss: 0.0278 - val_loss: 0.0554\n"
          ]
        }
      ]
    },
    {
      "cell_type": "code",
      "source": [
        "# TSTR results from TimeGAN\n",
        "syn_time_predictions = ts_time_syn.predict(test_real_x)\n",
        "r2_syn_time = r2_score(test_real_y, syn_time_predictions)\n",
        "mae_syn_time = mean_absolute_error(test_real_y, syn_time_predictions)\n",
        "mrle_syn_time = mean_squared_log_error(test_real_y, syn_time_predictions)\n",
        "print(r2_syn_time)\n",
        "print(mae_syn_time)\n",
        "print(mrle_syn_time)"
      ],
      "metadata": {
        "colab": {
          "base_uri": "https://localhost:8080/"
        },
        "id": "BrkSythqFYeB",
        "outputId": "35bd5ef9-41a8-4c1d-bbcb-dd7c2ff6c6ff"
      },
      "id": "BrkSythqFYeB",
      "execution_count": null,
      "outputs": [
        {
          "output_type": "stream",
          "name": "stdout",
          "text": [
            "66/66 [==============================] - 0s 2ms/step\n",
            "0.9149112592326802\n",
            "0.05539854084710799\n",
            "0.0024061247179697665\n"
          ]
        }
      ]
    },
    {
      "cell_type": "markdown",
      "source": [
        "visualization of synthetic and real data"
      ],
      "metadata": {
        "id": "URWEimhlFcOy"
      },
      "id": "URWEimhlFcOy"
    },
    {
      "cell_type": "code",
      "source": [
        "cols = 'blood glucose (Patient 570)'\n",
        "\n",
        "df = pd.DataFrame({'Real': real_ori[40], 'Synthetic_normGAN': synth_normgan_nonnorm[40], 'Synthetic_TimeGAN': synth_timegan_nonnorm[1][0][40][:, 0]})\n",
        "df.plot(title = cols,\n",
        "        secondary_y='Synthetic data', style=['-'])"
      ],
      "metadata": {
        "colab": {
          "base_uri": "https://localhost:8080/",
          "height": 470
        },
        "id": "VNvsVI7z1bk5",
        "outputId": "acbe2158-e68e-4305-ced1-71e8e923f283"
      },
      "id": "VNvsVI7z1bk5",
      "execution_count": null,
      "outputs": [
        {
          "output_type": "execute_result",
          "data": {
            "text/plain": [
              "<Axes: title={'center': 'blood glucose (Patient 570)'}>"
            ]
          },
          "metadata": {},
          "execution_count": 66
        },
        {
          "output_type": "display_data",
          "data": {
            "text/plain": [
              "<Figure size 640x480 with 1 Axes>"
            ],
            "image/png": "[encoded data removed]"
          },
          "metadata": {}
        }
      ]
    },
    {
      "cell_type": "code",
      "source": [
        "cols = 'blood glucose (Patient 570)'\n",
        "\n",
        "df = pd.DataFrame({'Real': real_ori[0], 'Synthetic_normGAN': synth_normgan_nonnorm[0], 'Synthetic_TimeGAN': synth_timegan_nonnorm[1][0][0][:, 0]})\n",
        "df.plot(title = cols,\n",
        "        secondary_y='Synthetic data', style=['-'])"
      ],
      "metadata": {
        "colab": {
          "base_uri": "https://localhost:8080/",
          "height": 470
        },
        "id": "Jd77K2QJc74V",
        "outputId": "24388774-1ae0-4e19-e4ce-f5ebddce70bb"
      },
      "id": "Jd77K2QJc74V",
      "execution_count": null,
      "outputs": [
        {
          "output_type": "execute_result",
          "data": {
            "text/plain": [
              "<Axes: title={'center': 'blood glucose (Patient 570)'}>"
            ]
          },
          "metadata": {},
          "execution_count": 67
        },
        {
          "output_type": "display_data",
          "data": {
            "text/plain": [
              "<Figure size 640x480 with 1 Axes>"
            ],
            "image/png": "[encoded data removed]"
          },
          "metadata": {}
        }
      ]
    },
    {
      "cell_type": "code",
      "source": [
        "cols = 'blood glucose (Patient 570)'\n",
        "\n",
        "df = pd.DataFrame({'Real': real_ori[20], 'Synthetic_normGAN': synth_normgan_nonnorm[20], 'Synthetic_TimeGAN': synth_timegan_nonnorm[1][0][20][:, 0]})\n",
        "df.plot(title = cols,\n",
        "        secondary_y='Synthetic data', style=['-'])"
      ],
      "metadata": {
        "colab": {
          "base_uri": "https://localhost:8080/",
          "height": 470
        },
        "id": "Aikfmzc4sTbQ",
        "outputId": "fa0a9fd8-f372-4585-961c-86a02ec3b9f9"
      },
      "id": "Aikfmzc4sTbQ",
      "execution_count": null,
      "outputs": [
        {
          "output_type": "execute_result",
          "data": {
            "text/plain": [
              "<Axes: title={'center': 'blood glucose (Patient 570)'}>"
            ]
          },
          "metadata": {},
          "execution_count": 68
        },
        {
          "output_type": "display_data",
          "data": {
            "text/plain": [
              "<Figure size 640x480 with 1 Axes>"
            ],
            "image/png": "[encoded data removed]"
          },
          "metadata": {}
        }
      ]
    },
    {
      "cell_type": "markdown",
      "source": [
        "JS distance and DTW"
      ],
      "metadata": {
        "id": "isLd90wBGPI-"
      },
      "id": "isLd90wBGPI-"
    },
    {
      "cell_type": "code",
      "source": [
        "# Wilcoxon test\n",
        "res_normgan = wilcoxon(synth_normgan_nonnorm, real_ori, alternative = 'two-sided', zero_method='wilcox')\n",
        "res_timegan = wilcoxon([synth_timegan_nonnorm[1][0][i][:,0] for i in range(50)], real_ori, alternative = 'two-sided', zero_method='wilcox')\n",
        "print('Normal GAN Wiloxon test: {}'.format(mean(res_normgan.pvalue.flatten())))\n",
        "print('TimeGAN Wiloxon test: {}'.format(mean(res_timegan.pvalue.flatten())))\n",
        "\n",
        "# JS distance\n",
        "dis_normgan = distance.jensenshannon(synth_normgan_nonnorm, real_ori, axis=1)\n",
        "dis_timegan = distance.jensenshannon([synth_timegan_nonnorm[1][0][i][:,0] for i in range(50)], real_ori, axis=1)\n",
        "print('Normal JS distance: {}'.format(mean(dis_normgan.flatten())))\n",
        "print('TimeGAN JS distance: {}'.format(mean(dis_timegan.flatten())))\n",
        "\n",
        "# Eculidean distance\n",
        "e_dis_norm = [math.dist(synth_normgan_norm[i], glucose_570[i]) for i in range(len(real_ori))]\n",
        "e_dis_time = [math.dist([synth_timegan_norm[1][0][j][:,0] for j in range(50)][i], glucose_570[i]) for i in range(len(real_ori))]\n",
        "print('Normal Eculidean distance: {}'.format(mean(e_dis_norm)))\n",
        "print('TimeGAN Eculidean distance: {}'.format(mean(e_dis_time)))"
      ],
      "metadata": {
        "colab": {
          "base_uri": "https://localhost:8080/"
        },
        "id": "rwquiETo49lI",
        "outputId": "420a32a9-ae76-4630-a79d-b6c1097731a1"
      },
      "id": "rwquiETo49lI",
      "execution_count": null,
      "outputs": [
        {
          "output_type": "stream",
          "name": "stdout",
          "text": [
            "Normal GAN Wiloxon test: 0.3929891746498884\n",
            "TimeGAN Wiloxon test: 0.45145297953646724\n",
            "Normal JS distance: 0.087711130389829\n",
            "TimeGAN JS distance: 0.12861794982021746\n",
            "Normal Eculidean distance: 4.067918540015169\n",
            "TimeGAN Eculidean distance: 4.816474827312334\n"
          ]
        }
      ]
    },
    {
      "cell_type": "code",
      "source": [
        "# DTW\n",
        "dtw_normgan = []\n",
        "dtw_timegan = []\n",
        "for i in range(len(real_ori)):\n",
        "  dtw_normgan.append(dtw.distance(synth_normgan_norm[i], glucose_570[i]))\n",
        "  dtw_timegan.append(dtw.distance([synth_timegan_norm[1][0][i][:,0] for i in range(50)][i], glucose_570[i]))"
      ],
      "metadata": {
        "id": "2QQchuHE5NsO"
      },
      "id": "2QQchuHE5NsO",
      "execution_count": null,
      "outputs": []
    },
    {
      "cell_type": "code",
      "source": [
        "print('Normal DTW distance: {}'.format(mean(dtw_normgan)))\n",
        "print('TimeGAN DTW distance: {}'.format(mean(dtw_timegan)))"
      ],
      "metadata": {
        "colab": {
          "base_uri": "https://localhost:8080/"
        },
        "id": "AnMLXvsyswcz",
        "outputId": "f28f0358-532e-4754-ca87-b169109b8772"
      },
      "id": "AnMLXvsyswcz",
      "execution_count": null,
      "outputs": [
        {
          "output_type": "stream",
          "name": "stdout",
          "text": [
            "Normal DTW distance: 3.1013780926250756\n",
            "TimeGAN DTW distance: 2.886384504729506\n"
          ]
        }
      ]
    },
    {
      "cell_type": "code",
      "source": [
        "df = pd.DataFrame({'Synthetic_normGAN': dtw_normgan, 'Synthetic_TimeGAN': dtw_timegan})\n",
        "df.plot(title = 'The DTW distance', secondary_y='Data index', style=['-'])"
      ],
      "metadata": {
        "colab": {
          "base_uri": "https://localhost:8080/",
          "height": 470
        },
        "id": "w8OuXAS7sybS",
        "outputId": "a973a67a-31e6-48fb-e855-c9aec52a5134"
      },
      "id": "w8OuXAS7sybS",
      "execution_count": null,
      "outputs": [
        {
          "output_type": "execute_result",
          "data": {
            "text/plain": [
              "<Axes: title={'center': 'The DTW distance'}>"
            ]
          },
          "metadata": {},
          "execution_count": 29
        },
        {
          "output_type": "display_data",
          "data": {
            "text/plain": [
              "<Figure size 640x480 with 1 Axes>"
            ],
            "image/png": "[encoded data removed]"
          },
          "metadata": {}
        }
      ]
    },
    {
      "cell_type": "markdown",
      "source": [
        "visualization of PCA and t-SNE"
      ],
      "metadata": {
        "id": "0HZMKTf8GSyL"
      },
      "id": "0HZMKTf8GSyL"
    },
    {
      "cell_type": "code",
      "source": [
        "sample_size = 50\n",
        "idx = np.random.permutation(len(real_ori))[:sample_size]\n",
        "\n",
        "real_sample = np.asarray(real_ori)[idx]\n",
        "\n",
        "synthetic_sample_norm = np.asarray(synth_normgan_nonnorm)[idx]\n",
        "\n",
        "synth_data_reduced = real_sample.reshape(-1, 288)\n",
        "patient_data_reduced_norm = np.asarray(synthetic_sample_norm).reshape(-1,288)\n",
        "\n",
        "n_components = 2\n",
        "pca = PCA(n_components=n_components)\n",
        "tsne = TSNE(n_components=n_components, n_iter=300)\n",
        "\n",
        "#The fit of the methods must be done only using the real sequential data\n",
        "pca.fit(synth_data_reduced)\n",
        "\n",
        "pca_real = pd.DataFrame(pca.transform(synth_data_reduced))\n",
        "pca_synth_norm = pd.DataFrame(pca.transform(patient_data_reduced_norm))\n",
        "\n",
        "data_reduced = np.concatenate((synth_data_reduced, patient_data_reduced_norm), axis=0)\n",
        "tsne_results = pd.DataFrame(tsne.fit_transform(data_reduced))"
      ],
      "metadata": {
        "id": "_5h8So3js0a6"
      },
      "id": "_5h8So3js0a6",
      "execution_count": null,
      "outputs": []
    },
    {
      "cell_type": "code",
      "source": [
        "fig = plt.figure(constrained_layout=True, figsize=(15,8))\n",
        "spec = gridspec.GridSpec(ncols=2, nrows=1, figure=fig)\n",
        "\n",
        "#TSNE scatter plot\n",
        "ax = fig.add_subplot(spec[0,0])\n",
        "ax.set_title('PCA results',\n",
        "             fontsize=20,\n",
        "             pad=10)\n",
        "\n",
        "#PCA scatter plot\n",
        "plt.scatter(pca_real.iloc[:, 0].values, pca_real.iloc[:,1].values,\n",
        "            c='black', alpha=0.2, label='Original')\n",
        "plt.scatter(pca_synth_norm.iloc[:,0], pca_synth_norm.iloc[:,1],\n",
        "            c='red', alpha=0.2, label='Synthetic_normGAN')\n",
        "\n",
        "ax.legend()\n",
        "\n",
        "ax2 = fig.add_subplot(spec[0,1])\n",
        "ax2.set_title('TSNE results',\n",
        "              fontsize=20)\n",
        "\n",
        "plt.scatter(tsne_results.iloc[:sample_size, 0].values, tsne_results.iloc[:sample_size,1].values,\n",
        "            c='black', alpha=0.2, label='Original')\n",
        "plt.scatter(tsne_results.iloc[sample_size:,0], tsne_results.iloc[sample_size:,1],\n",
        "            c='red', alpha=0.2, label='Synthetic_norm')\n",
        "\n",
        "ax2.legend()\n"
      ],
      "metadata": {
        "colab": {
          "base_uri": "https://localhost:8080/",
          "height": 733
        },
        "id": "W78OCLGotSOr",
        "outputId": "8f89211d-4892-4ab1-bb16-540016387d4b"
      },
      "id": "W78OCLGotSOr",
      "execution_count": null,
      "outputs": [
        {
          "output_type": "execute_result",
          "data": {
            "text/plain": [
              "<matplotlib.legend.Legend at 0x7f0938359060>"
            ]
          },
          "metadata": {},
          "execution_count": 74
        },
        {
          "output_type": "display_data",
          "data": {
            "text/plain": [
              "<Figure size 1500x800 with 2 Axes>"
            ],
            "image/png": "[encoded data removed]"
          },
          "metadata": {}
        }
      ]
    },
    {
      "cell_type": "code",
      "source": [
        "sample_size = 50\n",
        "idx = np.random.permutation(len(real_ori))[:sample_size]\n",
        "\n",
        "real_sample = np.asarray(real_ori)[idx]\n",
        "\n",
        "synthetic_sample_timegan = np.asarray([synth_timegan_nonnorm[1][0][i][:,0] for i in range(50)])[idx]\n",
        "\n",
        "synth_data_reduced = real_sample.reshape(-1, 288)\n",
        "patient_data_reduced_timegan = np.asarray(synthetic_sample_timegan).reshape(-1,288)\n",
        "\n",
        "n_components = 2\n",
        "pca = PCA(n_components=n_components)\n",
        "tsne = TSNE(n_components=n_components, n_iter=300)\n",
        "\n",
        "#The fit of the methods must be done only using the real sequential data\n",
        "pca.fit(synth_data_reduced)\n",
        "\n",
        "pca_real = pd.DataFrame(pca.transform(synth_data_reduced))\n",
        "pca_synth_timegan = pd.DataFrame(pca.transform(patient_data_reduced_timegan))\n",
        "\n",
        "data_reduced = np.concatenate((synth_data_reduced, patient_data_reduced_timegan), axis=0)\n",
        "tsne_results = pd.DataFrame(tsne.fit_transform(data_reduced))"
      ],
      "metadata": {
        "id": "2W84TJkKttit"
      },
      "id": "2W84TJkKttit",
      "execution_count": null,
      "outputs": []
    },
    {
      "cell_type": "code",
      "source": [
        "fig = plt.figure(constrained_layout=True, figsize=(15,8))\n",
        "spec = gridspec.GridSpec(ncols=2, nrows=1, figure=fig)\n",
        "\n",
        "#TSNE scatter plot\n",
        "ax = fig.add_subplot(spec[0,0])\n",
        "ax.set_title('PCA results',\n",
        "             fontsize=20)\n",
        "\n",
        "#PCA scatter plot\n",
        "plt.scatter(pca_real.iloc[:, 0].values, pca_real.iloc[:,1].values,\n",
        "            c='black', alpha=0.2, label='Original')\n",
        "plt.scatter(pca_synth_timegan.iloc[:,0], pca_synth_timegan.iloc[:,1],\n",
        "            c='red', alpha=0.2, label='Synthetic_timeGAN')\n",
        "\n",
        "ax.legend()\n",
        "\n",
        "ax2 = fig.add_subplot(spec[0,1])\n",
        "ax2.set_title('TSNE results',\n",
        "              fontsize=20)\n",
        "\n",
        "plt.scatter(tsne_results.iloc[:sample_size, 0].values, tsne_results.iloc[:sample_size,1].values,\n",
        "            c='black', alpha=0.2, label='Original')\n",
        "plt.scatter(tsne_results.iloc[sample_size:,0], tsne_results.iloc[sample_size:,1],\n",
        "            c='red', alpha=0.2, label='Synthetic')\n",
        "\n",
        "ax2.legend()"
      ],
      "metadata": {
        "colab": {
          "base_uri": "https://localhost:8080/",
          "height": 733
        },
        "id": "JVlrs6K9tNdm",
        "outputId": "269ed6ca-b39b-45df-a03f-c68770841ec8"
      },
      "id": "JVlrs6K9tNdm",
      "execution_count": null,
      "outputs": [
        {
          "output_type": "execute_result",
          "data": {
            "text/plain": [
              "<matplotlib.legend.Legend at 0x7f0938126260>"
            ]
          },
          "metadata": {},
          "execution_count": 76
        },
        {
          "output_type": "display_data",
          "data": {
            "text/plain": [
              "<Figure size 1500x800 with 2 Axes>"
            ],
            "image/png": "[encoded data removed]"
          },
          "metadata": {}
        }
      ]
    },
    {
      "cell_type": "code",
      "source": [],
      "metadata": {
        "id": "Iiq2fbCUtxGt"
      },
      "id": "Iiq2fbCUtxGt",
      "execution_count": null,
      "outputs": []
    }
  ],
  "metadata": {
    "kernelspec": {
      "display_name": "Python 3 (ipykernel)",
      "language": "python",
      "name": "python3"
    },
    "language_info": {
      "codemirror_mode": {
        "name": "ipython",
        "version": 3
      },
      "file_extension": ".py",
      "mimetype": "text/x-python",
      "name": "python",
      "nbconvert_exporter": "python",
      "pygments_lexer": "ipython3",
      "version": "3.9.13"
    },
    "colab": {
      "provenance": [],
      "machine_shape": "hm",
      "gpuType": "A100",
      "gpuClass": "premium"
    },
    "gpuClass": "premium",
    "accelerator": "GPU"
  },
  "nbformat": 4,
  "nbformat_minor": 5
}