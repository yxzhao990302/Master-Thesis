{
  "cells": [
    {
      "cell_type": "code",
      "execution_count": null,
      "id": "6a1cd663-ce3a-4fa6-b032-274843aa106c",
      "metadata": {
        "id": "6a1cd663-ce3a-4fa6-b032-274843aa106c"
      },
      "outputs": [],
      "source": [
        "# train a generative adversarial network on a one-dimensional function\n",
        "import pandas as pd\n",
        "from numpy import hstack\n",
        "import numpy as np\n",
        "from datetime import datetime\n",
        "from numpy import zeros\n",
        "from numpy import ones\n",
        "import random\n",
        "from numpy.random import rand\n",
        "from numpy.random import randn\n",
        "from keras.models import Sequential\n",
        "from keras import Input\n",
        "from keras.layers import Dense, Conv1D, LeakyReLU, Reshape, UpSampling1D\n",
        "from keras.optimizers import Adam\n",
        "from matplotlib import pyplot\n",
        "import matplotlib.pyplot as plt \n",
        "from tqdm import tqdm\n",
        "from tensorflow import keras\n",
        "from keras.models import save_model, load_model\n",
        "from statistics import mean, variance, pstdev\n",
        "from sklearn.preprocessing import MinMaxScaler\n",
        "from statistics import mean, variance, pstdev\n",
        "from scipy.spatial import distance\n",
        "from scipy.stats import wilcoxon\n",
        "from dtaidistance import dtw\n",
        "from sklearn.decomposition import PCA\n",
        "from sklearn.manifold import TSNE\n",
        "import matplotlib.gridspec as gridspec\n",
        "import math"
      ]
    },
    {
      "cell_type": "code",
      "source": [
        "!pip install dtaidistance"
      ],
      "metadata": {
        "colab": {
          "base_uri": "https://localhost:8080/"
        },
        "id": "4PyMAb_NoD_D",
        "outputId": "909c6222-5b74-4812-8fe4-46efb95e0949"
      },
      "id": "4PyMAb_NoD_D",
      "execution_count": null,
      "outputs": [
        {
          "output_type": "stream",
          "name": "stdout",
          "text": [
            "Looking in indexes: https://pypi.org/simple, https://us-python.pkg.dev/colab-wheels/public/simple/\n",
            "Collecting dtaidistance\n",
            "  Downloading dtaidistance-2.3.10-cp310-cp310-manylinux_2_17_x86_64.manylinux2014_x86_64.whl (2.4 MB)\n",
            "\u001b[2K     \u001b[90m━━━━━━━━━━━━━━━━━━━━━━━━━━━━━━━━━━━━━━━━\u001b[0m \u001b[32m2.4/2.4 MB\u001b[0m \u001b[31m28.0 MB/s\u001b[0m eta \u001b[36m0:00:00\u001b[0m\n",
            "\u001b[?25hRequirement already satisfied: numpy in /usr/local/lib/python3.10/dist-packages (from dtaidistance) (1.22.4)\n",
            "Installing collected packages: dtaidistance\n",
            "Successfully installed dtaidistance-2.3.10\n"
          ]
        }
      ]
    },
    {
      "cell_type": "code",
      "source": [
        "from google.colab import drive\n",
        "\n",
        "drive.mount('/content/drive')"
      ],
      "metadata": {
        "colab": {
          "base_uri": "https://localhost:8080/"
        },
        "id": "J-wRkyVB-ZTu",
        "outputId": "ae15685c-ce26-4d45-fd81-fec3579f815d"
      },
      "id": "J-wRkyVB-ZTu",
      "execution_count": null,
      "outputs": [
        {
          "output_type": "stream",
          "name": "stdout",
          "text": [
            "Mounted at /content/drive\n"
          ]
        }
      ]
    },
    {
      "cell_type": "code",
      "execution_count": null,
      "id": "b857585e-6da2-4ba6-ae42-7619672cf9e7",
      "metadata": {
        "id": "b857585e-6da2-4ba6-ae42-7619672cf9e7"
      },
      "outputs": [],
      "source": [
        "LENGTH_INPUT = 288\n",
        "latent_dim = 500"
      ]
    },
    {
      "cell_type": "markdown",
      "id": "88ea179b-736e-409f-a40d-84b3910af564",
      "metadata": {
        "id": "88ea179b-736e-409f-a40d-84b3910af564"
      },
      "source": [
        "# Prepare training data\n",
        "1. blood glucose (? regularization)\n",
        "2. meal (regularization)"
      ]
    },
    {
      "cell_type": "code",
      "execution_count": null,
      "id": "aa56387d-d5d5-4dba-8e90-c8e8086e73a2",
      "metadata": {
        "id": "aa56387d-d5d5-4dba-8e90-c8e8086e73a2"
      },
      "outputs": [],
      "source": [
        "df_563 =  pd.read_csv('/content/drive/MyDrive/Thesis/processed data/563.csv')"
      ]
    },
    {
      "cell_type": "code",
      "execution_count": null,
      "id": "98e176ab-1bed-4e88-8775-288291f4f545",
      "metadata": {
        "id": "98e176ab-1bed-4e88-8775-288291f4f545"
      },
      "outputs": [],
      "source": [
        "df_563['time'] = pd.to_datetime(df_563['time'], dayfirst=True)"
      ]
    },
    {
      "cell_type": "code",
      "execution_count": null,
      "id": "e3d1c33b-21a3-4e2e-8b22-8dee1b477e14",
      "metadata": {
        "id": "e3d1c33b-21a3-4e2e-8b22-8dee1b477e14"
      },
      "outputs": [],
      "source": [
        "df_563['date'] = df_563['time'].apply(lambda x: x.date())\n",
        "dates = df_563['date'].unique()\n",
        "glucose_563 = []\n",
        "for date in dates:\n",
        "    glucose_563.append(df_563[df_563['date'] == date]['glucose_value'].values)"
      ]
    },
    {
      "cell_type": "code",
      "source": [
        "scaler = MinMaxScaler().fit(glucose_563)\n",
        "glucose_563 = scaler.transform(glucose_563)"
      ],
      "metadata": {
        "id": "JqHy8TStAN9u"
      },
      "id": "JqHy8TStAN9u",
      "execution_count": null,
      "outputs": []
    },
    {
      "cell_type": "code",
      "execution_count": null,
      "id": "4b49b5ca-8628-41f6-8a57-6c0cd025831b",
      "metadata": {
        "id": "4b49b5ca-8628-41f6-8a57-6c0cd025831b"
      },
      "outputs": [],
      "source": [
        "glucose_563 = np.array(glucose_563)\n",
        "y = ones((54, 1))"
      ]
    },
    {
      "cell_type": "code",
      "source": [
        "glucose_563.shape"
      ],
      "metadata": {
        "colab": {
          "base_uri": "https://localhost:8080/"
        },
        "id": "sS1DXKIWsgST",
        "outputId": "72643585-94f0-4540-ac7e-aa6bb91253a5"
      },
      "id": "sS1DXKIWsgST",
      "execution_count": null,
      "outputs": [
        {
          "output_type": "execute_result",
          "data": {
            "text/plain": [
              "(54, 288)"
            ]
          },
          "metadata": {},
          "execution_count": 10
        }
      ]
    },
    {
      "cell_type": "markdown",
      "id": "c0bf7b7b-097e-4379-bc3c-76bd04d57b25",
      "metadata": {
        "id": "c0bf7b7b-097e-4379-bc3c-76bd04d57b25"
      },
      "source": [
        "# Model Architecture"
      ]
    },
    {
      "cell_type": "code",
      "execution_count": null,
      "id": "a9e75e84-1cd4-43f1-aca8-b6e6f6022304",
      "metadata": {
        "id": "a9e75e84-1cd4-43f1-aca8-b6e6f6022304"
      },
      "outputs": [],
      "source": [
        "# define the standalone discriminator model\n",
        "def define_discriminator():\n",
        "    model = Sequential()\n",
        "    \n",
        "    # Dense layer\n",
        "    model.add(Dense(1, input_shape=(288,1)))\n",
        "    model.add(LeakyReLU())\n",
        "    \n",
        "    # Convolutional layer with LeakyReLU activation\n",
        "    model.add(Conv1D(32, kernel_size=4, strides=2, padding='same'))\n",
        "    model.add(LeakyReLU())\n",
        "\n",
        "    # Convolutional layer with LeakyReLU activation\n",
        "    model.add(Conv1D(32, kernel_size=2, strides=2, padding='same'))\n",
        "    model.add(LeakyReLU())\n",
        "    \n",
        "    # Reshape layer\n",
        "    model.add(Reshape((2304,)))\n",
        "    \n",
        "    # Dense layer\n",
        "    model.add(Dense(1, activation='sigmoid'))\n",
        "\n",
        "    opt = Adam(lr=0.0005)\n",
        "    # compile model\n",
        "    model.compile(loss='binary_crossentropy', optimizer=opt, metrics=['accuracy'])\n",
        "    return model"
      ]
    },
    {
      "cell_type": "code",
      "execution_count": null,
      "id": "099c6ec7-5225-4957-bdfc-e5032cd688fd",
      "metadata": {
        "id": "099c6ec7-5225-4957-bdfc-e5032cd688fd"
      },
      "outputs": [],
      "source": [
        "# define the standalone generator model\n",
        "def define_generator():\n",
        "    model = Sequential()\n",
        "    \n",
        "    # Dense layer\n",
        "    model.add(Dense(3600, input_shape=(latent_dim,)))\n",
        "    model.add(LeakyReLU())\n",
        "    \n",
        "    # Reshape layer\n",
        "    model.add(Reshape((72, 50)))\n",
        "    \n",
        "    # Upsampling layer\n",
        "    model.add(UpSampling1D(size=4))\n",
        "    \n",
        "    # Convolutional layer\n",
        "    model.add(Conv1D(filters=32, kernel_size=2, strides=2, padding='same'))\n",
        "    \n",
        "    # Upsampling layer\n",
        "    model.add(UpSampling1D(size=4))\n",
        "    \n",
        "    # Convolutional layer + leaky relu layer\n",
        "    model.add(Conv1D(filters=32, kernel_size=2, strides=2, padding='same'))\n",
        "    model.add(LeakyReLU())\n",
        "    \n",
        "    # Convolutional layer\n",
        "    model.add(Conv1D(filters=1, kernel_size=1, padding='same'))\n",
        "    \n",
        "    model.compile(optimizer='adam')\n",
        "\n",
        "    return model"
      ]
    },
    {
      "cell_type": "code",
      "execution_count": null,
      "id": "953d1808-87ed-407a-8b83-de4d5691df1c",
      "metadata": {
        "id": "953d1808-87ed-407a-8b83-de4d5691df1c"
      },
      "outputs": [],
      "source": [
        "# define the combined generator and discriminator model, for updating the generator\n",
        "def define_gan(generator, discriminator):\n",
        "    # make weights in the discriminator not trainable\n",
        "    discriminator.trainable = False\n",
        "    # connect them\n",
        "    model = Sequential()\n",
        "    model.add(generator)\n",
        "    model.add(discriminator)\n",
        "    opt = Adam(lr=0.0005)\n",
        "    model.compile(loss='binary_crossentropy', optimizer=opt)\n",
        "    return model"
      ]
    },
    {
      "cell_type": "code",
      "execution_count": null,
      "id": "1fcfbcc5-28a1-4324-8fcd-0624f54ef54e",
      "metadata": {
        "id": "1fcfbcc5-28a1-4324-8fcd-0624f54ef54e"
      },
      "outputs": [],
      "source": [
        "# generate points in latent space as input for the generator\n",
        "def generate_latent_points(n):\n",
        "    # generate points in the latent space from the normal distribution\n",
        "    x_input = np.random.normal(size = latent_dim * n)\n",
        "    # reshape into a batch of inputs for the network\n",
        "    x_input = x_input.reshape(n, latent_dim)\n",
        "\n",
        "    return x_input"
      ]
    },
    {
      "cell_type": "code",
      "execution_count": null,
      "id": "7108a5fc-2e71-4530-b6e6-8769f4f165bb",
      "metadata": {
        "id": "7108a5fc-2e71-4530-b6e6-8769f4f165bb"
      },
      "outputs": [],
      "source": [
        "# use the generator to generate n fake examples, with class labels\n",
        "def generate_fake_samples(generator, n):\n",
        "    # generate points in latent space\n",
        "    x_input = generate_latent_points(n)\n",
        "    # predict outputs\n",
        "    X = generator.predict(x_input, verbose=0)\n",
        "    # create class labels\n",
        "    y = zeros((n, 1))\n",
        "\n",
        "    return X, y"
      ]
    },
    {
      "cell_type": "code",
      "execution_count": null,
      "id": "a92cef4f-9d76-4681-b7ca-c19bd10a302c",
      "metadata": {
        "id": "a92cef4f-9d76-4681-b7ca-c19bd10a302c"
      },
      "outputs": [],
      "source": [
        "# train the generator and discriminator\n",
        "def train(g_model, d_model, gan_model, latent_dim, n_epochs=10000, n_batch=54, n_eval=100):\n",
        "    d_loss_list = []\n",
        "    g_loss_list = []\n",
        "    # determine half the size of one batch, for updating the discriminator\n",
        "    half_batch = int(n_batch / 2)\n",
        "    \n",
        "    # manually enumerate epochs\n",
        "    for i in tqdm(range(n_epochs)):\n",
        "        \n",
        "        # prepare real samples\n",
        "        rand_index = random.sample(range(0,54), 27)\n",
        "        x_real, y_real = glucose_563[rand_index], y[rand_index]\n",
        "        # prepare fake examples\n",
        "        x_fake, y_fake = generate_fake_samples(g_model, half_batch)\n",
        "        \n",
        "        # update discriminator\n",
        "        d_loss_real = d_model.train_on_batch(x_real, y_real)\n",
        "        d_loss_fake = d_model.train_on_batch(x_fake, y_fake)\n",
        "        # average of d_loss_real and d_loss_fake\n",
        "        d_loss = 0.5 * np.add(d_loss_real, d_loss_fake)\n",
        "        d_loss_list.append(d_loss)\n",
        "        #print(d_loss[0])\n",
        "\n",
        "        # prepare points in latent space as input for the generator\n",
        "        #for _ in range(4):\n",
        "        x_gan = generate_latent_points(n_batch)\n",
        "        # create inverted labels for the fake samples\n",
        "        y_gan = ones((n_batch, 1))\n",
        "        # update the generator via the discriminator's error\n",
        "        g_loss = gan_model.train_on_batch(x_gan, y_gan)\n",
        "        g_loss_list.append(g_loss)\n",
        "        \n",
        "       \n",
        "        # evaluate the model every n_eval epochs\n",
        "        if (i+1) % n_eval == 0:\n",
        "            generator.save_weights('/content/drive/MyDrive/Thesis/model/normal_gan/563_0.0005/generator_weights_%d.h5' %(i+1))\n",
        "            print (\"%d [D loss: %f, acc.: %.2f%%] [G loss: %f]\" % (i, d_loss[0], 100*d_loss[1], g_loss))"
      ]
    },
    {
      "cell_type": "code",
      "execution_count": null,
      "id": "ce93ac09-c4d5-41bd-bf88-f89573ab09b6",
      "metadata": {
        "colab": {
          "base_uri": "https://localhost:8080/"
        },
        "id": "ce93ac09-c4d5-41bd-bf88-f89573ab09b6",
        "outputId": "58d08515-8983-48ea-d595-01555c00b163"
      },
      "outputs": [
        {
          "output_type": "stream",
          "name": "stdout",
          "text": [
            "Model: \"sequential\"\n",
            "_________________________________________________________________\n",
            " Layer (type)                Output Shape              Param #   \n",
            "=================================================================\n",
            " dense (Dense)               (None, 288, 1)            2         \n",
            "                                                                 \n",
            " leaky_re_lu (LeakyReLU)     (None, 288, 1)            0         \n",
            "                                                                 \n",
            " conv1d (Conv1D)             (None, 144, 32)           160       \n",
            "                                                                 \n",
            " leaky_re_lu_1 (LeakyReLU)   (None, 144, 32)           0         \n",
            "                                                                 \n",
            " conv1d_1 (Conv1D)           (None, 72, 32)            2080      \n",
            "                                                                 \n",
            " leaky_re_lu_2 (LeakyReLU)   (None, 72, 32)            0         \n",
            "                                                                 \n",
            " reshape (Reshape)           (None, 2304)              0         \n",
            "                                                                 \n",
            " dense_1 (Dense)             (None, 1)                 2305      \n",
            "                                                                 \n",
            "=================================================================\n",
            "Total params: 4,547\n",
            "Trainable params: 4,547\n",
            "Non-trainable params: 0\n",
            "_________________________________________________________________\n"
          ]
        },
        {
          "output_type": "stream",
          "name": "stderr",
          "text": [
            "/usr/local/lib/python3.10/dist-packages/keras/optimizers/legacy/adam.py:117: UserWarning: The `lr` argument is deprecated, use `learning_rate` instead.\n",
            "  super().__init__(name, **kwargs)\n"
          ]
        }
      ],
      "source": [
        "discriminator = define_discriminator()\n",
        "discriminator.summary()"
      ]
    },
    {
      "cell_type": "code",
      "execution_count": null,
      "id": "aa724642-eb06-4e82-8660-14c835a5f8dc",
      "metadata": {
        "id": "aa724642-eb06-4e82-8660-14c835a5f8dc",
        "outputId": "90277a63-ab3f-49e7-f682-cc601c7b0a07",
        "colab": {
          "base_uri": "https://localhost:8080/"
        }
      },
      "outputs": [
        {
          "output_type": "stream",
          "name": "stdout",
          "text": [
            "Model: \"sequential_1\"\n",
            "_________________________________________________________________\n",
            " Layer (type)                Output Shape              Param #   \n",
            "=================================================================\n",
            " dense_2 (Dense)             (None, 3600)              1803600   \n",
            "                                                                 \n",
            " leaky_re_lu_3 (LeakyReLU)   (None, 3600)              0         \n",
            "                                                                 \n",
            " reshape_1 (Reshape)         (None, 72, 50)            0         \n",
            "                                                                 \n",
            " up_sampling1d (UpSampling1D  (None, 288, 50)          0         \n",
            " )                                                               \n",
            "                                                                 \n",
            " conv1d_2 (Conv1D)           (None, 144, 32)           3232      \n",
            "                                                                 \n",
            " up_sampling1d_1 (UpSampling  (None, 576, 32)          0         \n",
            " 1D)                                                             \n",
            "                                                                 \n",
            " conv1d_3 (Conv1D)           (None, 288, 32)           2080      \n",
            "                                                                 \n",
            " leaky_re_lu_4 (LeakyReLU)   (None, 288, 32)           0         \n",
            "                                                                 \n",
            " conv1d_4 (Conv1D)           (None, 288, 1)            33        \n",
            "                                                                 \n",
            "=================================================================\n",
            "Total params: 1,808,945\n",
            "Trainable params: 1,808,945\n",
            "Non-trainable params: 0\n",
            "_________________________________________________________________\n"
          ]
        }
      ],
      "source": [
        "generator = define_generator()\n",
        "generator.summary()"
      ]
    },
    {
      "cell_type": "code",
      "execution_count": null,
      "id": "8c239002-60c4-4b63-8dae-793783b71777",
      "metadata": {
        "id": "8c239002-60c4-4b63-8dae-793783b71777",
        "outputId": "a733fb7a-7fa1-41af-a24d-2487642a5af0",
        "colab": {
          "base_uri": "https://localhost:8080/"
        }
      },
      "outputs": [
        {
          "output_type": "stream",
          "name": "stderr",
          "text": [
            "  1%|          | 101/10000 [00:11<14:57, 11.03it/s]"
          ]
        },
        {
          "output_type": "stream",
          "name": "stdout",
          "text": [
            "99 [D loss: 0.701483, acc.: 48.15%] [G loss: 0.593203]\n"
          ]
        },
        {
          "output_type": "stream",
          "name": "stderr",
          "text": [
            "  2%|▏         | 201/10000 [00:20<14:13, 11.48it/s]"
          ]
        },
        {
          "output_type": "stream",
          "name": "stdout",
          "text": [
            "199 [D loss: 0.707347, acc.: 33.33%] [G loss: 0.653108]\n"
          ]
        },
        {
          "output_type": "stream",
          "name": "stderr",
          "text": [
            "  3%|▎         | 301/10000 [00:28<14:24, 11.22it/s]"
          ]
        },
        {
          "output_type": "stream",
          "name": "stdout",
          "text": [
            "299 [D loss: 0.721602, acc.: 20.37%] [G loss: 0.662434]\n"
          ]
        },
        {
          "output_type": "stream",
          "name": "stderr",
          "text": [
            "  4%|▍         | 401/10000 [00:37<14:24, 11.11it/s]"
          ]
        },
        {
          "output_type": "stream",
          "name": "stdout",
          "text": [
            "399 [D loss: 0.704134, acc.: 46.30%] [G loss: 0.598143]\n"
          ]
        },
        {
          "output_type": "stream",
          "name": "stderr",
          "text": [
            "  5%|▌         | 501/10000 [00:45<14:34, 10.86it/s]"
          ]
        },
        {
          "output_type": "stream",
          "name": "stdout",
          "text": [
            "499 [D loss: 0.665535, acc.: 51.85%] [G loss: 0.674761]\n"
          ]
        },
        {
          "output_type": "stream",
          "name": "stderr",
          "text": [
            "  6%|▌         | 601/10000 [00:54<14:01, 11.17it/s]"
          ]
        },
        {
          "output_type": "stream",
          "name": "stdout",
          "text": [
            "599 [D loss: 0.676358, acc.: 50.00%] [G loss: 0.661089]\n"
          ]
        },
        {
          "output_type": "stream",
          "name": "stderr",
          "text": [
            "  7%|▋         | 701/10000 [01:02<13:49, 11.22it/s]"
          ]
        },
        {
          "output_type": "stream",
          "name": "stdout",
          "text": [
            "699 [D loss: 0.723804, acc.: 46.30%] [G loss: 0.695517]\n"
          ]
        },
        {
          "output_type": "stream",
          "name": "stderr",
          "text": [
            "  8%|▊         | 802/10000 [01:11<16:56,  9.05it/s]"
          ]
        },
        {
          "output_type": "stream",
          "name": "stdout",
          "text": [
            "799 [D loss: 0.674815, acc.: 50.00%] [G loss: 0.950239]\n"
          ]
        },
        {
          "output_type": "stream",
          "name": "stderr",
          "text": [
            "  9%|▉         | 902/10000 [01:20<13:11, 11.50it/s]"
          ]
        },
        {
          "output_type": "stream",
          "name": "stdout",
          "text": [
            "899 [D loss: 0.669509, acc.: 51.85%] [G loss: 0.668591]\n"
          ]
        },
        {
          "output_type": "stream",
          "name": "stderr",
          "text": [
            " 10%|█         | 1002/10000 [01:28<13:00, 11.52it/s]"
          ]
        },
        {
          "output_type": "stream",
          "name": "stdout",
          "text": [
            "999 [D loss: 0.638559, acc.: 50.00%] [G loss: 0.684448]\n"
          ]
        },
        {
          "output_type": "stream",
          "name": "stderr",
          "text": [
            " 11%|█         | 1102/10000 [01:37<12:59, 11.42it/s]"
          ]
        },
        {
          "output_type": "stream",
          "name": "stdout",
          "text": [
            "1099 [D loss: 0.609779, acc.: 88.89%] [G loss: 0.702676]\n"
          ]
        },
        {
          "output_type": "stream",
          "name": "stderr",
          "text": [
            " 12%|█▏        | 1202/10000 [01:45<12:41, 11.55it/s]"
          ]
        },
        {
          "output_type": "stream",
          "name": "stdout",
          "text": [
            "1199 [D loss: 0.626873, acc.: 77.78%] [G loss: 0.698123]\n"
          ]
        },
        {
          "output_type": "stream",
          "name": "stderr",
          "text": [
            " 13%|█▎        | 1302/10000 [01:54<12:35, 11.51it/s]"
          ]
        },
        {
          "output_type": "stream",
          "name": "stdout",
          "text": [
            "1299 [D loss: 0.583547, acc.: 100.00%] [G loss: 0.751763]\n"
          ]
        },
        {
          "output_type": "stream",
          "name": "stderr",
          "text": [
            " 14%|█▍        | 1402/10000 [02:02<12:33, 11.42it/s]"
          ]
        },
        {
          "output_type": "stream",
          "name": "stdout",
          "text": [
            "1399 [D loss: 0.430352, acc.: 100.00%] [G loss: 0.931997]\n"
          ]
        },
        {
          "output_type": "stream",
          "name": "stderr",
          "text": [
            " 15%|█▌        | 1502/10000 [02:10<12:23, 11.43it/s]"
          ]
        },
        {
          "output_type": "stream",
          "name": "stdout",
          "text": [
            "1499 [D loss: 0.458968, acc.: 100.00%] [G loss: 0.979678]\n"
          ]
        },
        {
          "output_type": "stream",
          "name": "stderr",
          "text": [
            " 16%|█▌        | 1602/10000 [02:19<12:23, 11.30it/s]"
          ]
        },
        {
          "output_type": "stream",
          "name": "stdout",
          "text": [
            "1599 [D loss: 0.401603, acc.: 92.59%] [G loss: 1.107722]\n"
          ]
        },
        {
          "output_type": "stream",
          "name": "stderr",
          "text": [
            " 17%|█▋        | 1702/10000 [02:27<12:16, 11.26it/s]"
          ]
        },
        {
          "output_type": "stream",
          "name": "stdout",
          "text": [
            "1699 [D loss: 0.394982, acc.: 88.89%] [G loss: 1.779734]\n"
          ]
        },
        {
          "output_type": "stream",
          "name": "stderr",
          "text": [
            " 18%|█▊        | 1802/10000 [02:36<13:20, 10.24it/s]"
          ]
        },
        {
          "output_type": "stream",
          "name": "stdout",
          "text": [
            "1799 [D loss: 0.224388, acc.: 100.00%] [G loss: 2.115504]\n"
          ]
        },
        {
          "output_type": "stream",
          "name": "stderr",
          "text": [
            " 19%|█▉        | 1902/10000 [02:45<11:46, 11.46it/s]"
          ]
        },
        {
          "output_type": "stream",
          "name": "stdout",
          "text": [
            "1899 [D loss: 0.223674, acc.: 100.00%] [G loss: 1.638842]\n"
          ]
        },
        {
          "output_type": "stream",
          "name": "stderr",
          "text": [
            " 20%|██        | 2002/10000 [02:54<11:35, 11.50it/s]"
          ]
        },
        {
          "output_type": "stream",
          "name": "stdout",
          "text": [
            "1999 [D loss: 0.190701, acc.: 100.00%] [G loss: 1.937400]\n"
          ]
        },
        {
          "output_type": "stream",
          "name": "stderr",
          "text": [
            " 21%|██        | 2102/10000 [03:02<11:43, 11.23it/s]"
          ]
        },
        {
          "output_type": "stream",
          "name": "stdout",
          "text": [
            "2099 [D loss: 0.124291, acc.: 100.00%] [G loss: 2.208921]\n"
          ]
        },
        {
          "output_type": "stream",
          "name": "stderr",
          "text": [
            " 22%|██▏       | 2202/10000 [03:10<11:32, 11.26it/s]"
          ]
        },
        {
          "output_type": "stream",
          "name": "stdout",
          "text": [
            "2199 [D loss: 0.040649, acc.: 100.00%] [G loss: 4.283709]\n"
          ]
        },
        {
          "output_type": "stream",
          "name": "stderr",
          "text": [
            " 23%|██▎       | 2302/10000 [03:19<11:10, 11.49it/s]"
          ]
        },
        {
          "output_type": "stream",
          "name": "stdout",
          "text": [
            "2299 [D loss: 0.042455, acc.: 100.00%] [G loss: 3.133487]\n"
          ]
        },
        {
          "output_type": "stream",
          "name": "stderr",
          "text": [
            " 24%|██▍       | 2402/10000 [03:27<11:21, 11.15it/s]"
          ]
        },
        {
          "output_type": "stream",
          "name": "stdout",
          "text": [
            "2399 [D loss: 0.063658, acc.: 100.00%] [G loss: 2.771539]\n"
          ]
        },
        {
          "output_type": "stream",
          "name": "stderr",
          "text": [
            " 25%|██▌       | 2502/10000 [03:36<10:52, 11.49it/s]"
          ]
        },
        {
          "output_type": "stream",
          "name": "stdout",
          "text": [
            "2499 [D loss: 0.039119, acc.: 100.00%] [G loss: 3.265739]\n"
          ]
        },
        {
          "output_type": "stream",
          "name": "stderr",
          "text": [
            " 26%|██▌       | 2602/10000 [03:44<10:41, 11.53it/s]"
          ]
        },
        {
          "output_type": "stream",
          "name": "stdout",
          "text": [
            "2599 [D loss: 0.048250, acc.: 100.00%] [G loss: 3.288877]\n"
          ]
        },
        {
          "output_type": "stream",
          "name": "stderr",
          "text": [
            " 27%|██▋       | 2702/10000 [03:52<10:44, 11.33it/s]"
          ]
        },
        {
          "output_type": "stream",
          "name": "stdout",
          "text": [
            "2699 [D loss: 0.019261, acc.: 100.00%] [G loss: 3.872692]\n"
          ]
        },
        {
          "output_type": "stream",
          "name": "stderr",
          "text": [
            " 28%|██▊       | 2802/10000 [04:02<11:43, 10.23it/s]"
          ]
        },
        {
          "output_type": "stream",
          "name": "stdout",
          "text": [
            "2799 [D loss: 0.015841, acc.: 100.00%] [G loss: 4.048687]\n"
          ]
        },
        {
          "output_type": "stream",
          "name": "stderr",
          "text": [
            " 29%|██▉       | 2902/10000 [04:11<10:25, 11.35it/s]"
          ]
        },
        {
          "output_type": "stream",
          "name": "stdout",
          "text": [
            "2899 [D loss: 0.011867, acc.: 100.00%] [G loss: 4.470225]\n"
          ]
        },
        {
          "output_type": "stream",
          "name": "stderr",
          "text": [
            " 30%|███       | 3002/10000 [04:19<10:05, 11.56it/s]"
          ]
        },
        {
          "output_type": "stream",
          "name": "stdout",
          "text": [
            "2999 [D loss: 0.012370, acc.: 100.00%] [G loss: 4.431808]\n"
          ]
        },
        {
          "output_type": "stream",
          "name": "stderr",
          "text": [
            " 31%|███       | 3102/10000 [04:28<10:22, 11.09it/s]"
          ]
        },
        {
          "output_type": "stream",
          "name": "stdout",
          "text": [
            "3099 [D loss: 0.014964, acc.: 100.00%] [G loss: 4.191198]\n"
          ]
        },
        {
          "output_type": "stream",
          "name": "stderr",
          "text": [
            " 32%|███▏      | 3202/10000 [04:36<09:59, 11.34it/s]"
          ]
        },
        {
          "output_type": "stream",
          "name": "stdout",
          "text": [
            "3199 [D loss: 0.008528, acc.: 100.00%] [G loss: 4.828700]\n"
          ]
        },
        {
          "output_type": "stream",
          "name": "stderr",
          "text": [
            " 33%|███▎      | 3302/10000 [04:44<09:51, 11.32it/s]"
          ]
        },
        {
          "output_type": "stream",
          "name": "stdout",
          "text": [
            "3299 [D loss: 0.006081, acc.: 100.00%] [G loss: 5.149426]\n"
          ]
        },
        {
          "output_type": "stream",
          "name": "stderr",
          "text": [
            " 34%|███▍      | 3402/10000 [04:53<09:57, 11.04it/s]"
          ]
        },
        {
          "output_type": "stream",
          "name": "stdout",
          "text": [
            "3399 [D loss: 0.003965, acc.: 100.00%] [G loss: 5.531225]\n"
          ]
        },
        {
          "output_type": "stream",
          "name": "stderr",
          "text": [
            " 35%|███▌      | 3502/10000 [05:01<09:29, 11.42it/s]"
          ]
        },
        {
          "output_type": "stream",
          "name": "stdout",
          "text": [
            "3499 [D loss: 0.012160, acc.: 100.00%] [G loss: 4.725009]\n"
          ]
        },
        {
          "output_type": "stream",
          "name": "stderr",
          "text": [
            " 36%|███▌      | 3602/10000 [05:10<09:16, 11.50it/s]"
          ]
        },
        {
          "output_type": "stream",
          "name": "stdout",
          "text": [
            "3599 [D loss: 0.008300, acc.: 100.00%] [G loss: 5.490953]\n"
          ]
        },
        {
          "output_type": "stream",
          "name": "stderr",
          "text": [
            " 37%|███▋      | 3702/10000 [05:18<09:09, 11.47it/s]"
          ]
        },
        {
          "output_type": "stream",
          "name": "stdout",
          "text": [
            "3699 [D loss: 0.002293, acc.: 100.00%] [G loss: 5.816428]\n"
          ]
        },
        {
          "output_type": "stream",
          "name": "stderr",
          "text": [
            " 38%|███▊      | 3801/10000 [05:28<10:35,  9.75it/s]"
          ]
        },
        {
          "output_type": "stream",
          "name": "stdout",
          "text": [
            "3799 [D loss: 0.002483, acc.: 100.00%] [G loss: 5.923426]\n"
          ]
        },
        {
          "output_type": "stream",
          "name": "stderr",
          "text": [
            " 39%|███▉      | 3901/10000 [05:36<09:00, 11.29it/s]"
          ]
        },
        {
          "output_type": "stream",
          "name": "stdout",
          "text": [
            "3899 [D loss: 0.002383, acc.: 100.00%] [G loss: 6.201426]\n"
          ]
        },
        {
          "output_type": "stream",
          "name": "stderr",
          "text": [
            " 40%|████      | 4001/10000 [05:45<08:59, 11.11it/s]"
          ]
        },
        {
          "output_type": "stream",
          "name": "stdout",
          "text": [
            "3999 [D loss: 0.001557, acc.: 100.00%] [G loss: 6.488349]\n"
          ]
        },
        {
          "output_type": "stream",
          "name": "stderr",
          "text": [
            " 41%|████      | 4101/10000 [05:53<08:50, 11.13it/s]"
          ]
        },
        {
          "output_type": "stream",
          "name": "stdout",
          "text": [
            "4099 [D loss: 0.001029, acc.: 100.00%] [G loss: 6.814049]\n"
          ]
        },
        {
          "output_type": "stream",
          "name": "stderr",
          "text": [
            " 42%|████▏     | 4201/10000 [06:02<08:40, 11.13it/s]"
          ]
        },
        {
          "output_type": "stream",
          "name": "stdout",
          "text": [
            "4199 [D loss: 0.001331, acc.: 100.00%] [G loss: 6.704808]\n"
          ]
        },
        {
          "output_type": "stream",
          "name": "stderr",
          "text": [
            " 43%|████▎     | 4301/10000 [06:10<08:36, 11.03it/s]"
          ]
        },
        {
          "output_type": "stream",
          "name": "stdout",
          "text": [
            "4299 [D loss: 0.001528, acc.: 100.00%] [G loss: 6.098129]\n"
          ]
        },
        {
          "output_type": "stream",
          "name": "stderr",
          "text": [
            " 44%|████▍     | 4401/10000 [06:19<08:30, 10.97it/s]"
          ]
        },
        {
          "output_type": "stream",
          "name": "stdout",
          "text": [
            "4399 [D loss: 0.000819, acc.: 100.00%] [G loss: 7.119753]\n"
          ]
        },
        {
          "output_type": "stream",
          "name": "stderr",
          "text": [
            " 45%|████▌     | 4501/10000 [06:27<08:18, 11.04it/s]"
          ]
        },
        {
          "output_type": "stream",
          "name": "stdout",
          "text": [
            "4499 [D loss: 0.000744, acc.: 100.00%] [G loss: 7.420352]\n"
          ]
        },
        {
          "output_type": "stream",
          "name": "stderr",
          "text": [
            " 46%|████▌     | 4601/10000 [06:35<07:55, 11.35it/s]"
          ]
        },
        {
          "output_type": "stream",
          "name": "stdout",
          "text": [
            "4599 [D loss: 0.000539, acc.: 100.00%] [G loss: 7.281827]\n"
          ]
        },
        {
          "output_type": "stream",
          "name": "stderr",
          "text": [
            " 47%|████▋     | 4702/10000 [06:44<08:48, 10.03it/s]"
          ]
        },
        {
          "output_type": "stream",
          "name": "stdout",
          "text": [
            "4699 [D loss: 0.000503, acc.: 100.00%] [G loss: 7.449553]\n"
          ]
        },
        {
          "output_type": "stream",
          "name": "stderr",
          "text": [
            " 48%|████▊     | 4802/10000 [06:54<07:48, 11.10it/s]"
          ]
        },
        {
          "output_type": "stream",
          "name": "stdout",
          "text": [
            "4799 [D loss: 0.000546, acc.: 100.00%] [G loss: 7.803391]\n"
          ]
        },
        {
          "output_type": "stream",
          "name": "stderr",
          "text": [
            " 49%|████▉     | 4902/10000 [07:02<07:31, 11.30it/s]"
          ]
        },
        {
          "output_type": "stream",
          "name": "stdout",
          "text": [
            "4899 [D loss: 0.000482, acc.: 100.00%] [G loss: 7.770850]\n"
          ]
        },
        {
          "output_type": "stream",
          "name": "stderr",
          "text": [
            " 50%|█████     | 5002/10000 [07:10<07:19, 11.38it/s]"
          ]
        },
        {
          "output_type": "stream",
          "name": "stdout",
          "text": [
            "4999 [D loss: 0.000337, acc.: 100.00%] [G loss: 8.065155]\n"
          ]
        },
        {
          "output_type": "stream",
          "name": "stderr",
          "text": [
            " 51%|█████     | 5102/10000 [07:19<07:16, 11.21it/s]"
          ]
        },
        {
          "output_type": "stream",
          "name": "stdout",
          "text": [
            "5099 [D loss: 0.000345, acc.: 100.00%] [G loss: 8.135056]\n"
          ]
        },
        {
          "output_type": "stream",
          "name": "stderr",
          "text": [
            " 52%|█████▏    | 5202/10000 [07:27<06:56, 11.53it/s]"
          ]
        },
        {
          "output_type": "stream",
          "name": "stdout",
          "text": [
            "5199 [D loss: 0.000537, acc.: 100.00%] [G loss: 7.073665]\n"
          ]
        },
        {
          "output_type": "stream",
          "name": "stderr",
          "text": [
            " 53%|█████▎    | 5302/10000 [07:36<06:50, 11.44it/s]"
          ]
        },
        {
          "output_type": "stream",
          "name": "stdout",
          "text": [
            "5299 [D loss: 0.000277, acc.: 100.00%] [G loss: 8.453259]\n"
          ]
        },
        {
          "output_type": "stream",
          "name": "stderr",
          "text": [
            " 54%|█████▍    | 5402/10000 [07:44<06:47, 11.29it/s]"
          ]
        },
        {
          "output_type": "stream",
          "name": "stdout",
          "text": [
            "5399 [D loss: 0.000242, acc.: 100.00%] [G loss: 8.601368]\n"
          ]
        },
        {
          "output_type": "stream",
          "name": "stderr",
          "text": [
            " 55%|█████▌    | 5502/10000 [07:53<06:35, 11.38it/s]"
          ]
        },
        {
          "output_type": "stream",
          "name": "stdout",
          "text": [
            "5499 [D loss: 0.000251, acc.: 100.00%] [G loss: 8.542594]\n"
          ]
        },
        {
          "output_type": "stream",
          "name": "stderr",
          "text": [
            " 56%|█████▌    | 5602/10000 [08:01<06:35, 11.13it/s]"
          ]
        },
        {
          "output_type": "stream",
          "name": "stdout",
          "text": [
            "5599 [D loss: 0.000187, acc.: 100.00%] [G loss: 8.424431]\n"
          ]
        },
        {
          "output_type": "stream",
          "name": "stderr",
          "text": [
            " 57%|█████▋    | 5701/10000 [08:10<07:07, 10.05it/s]"
          ]
        },
        {
          "output_type": "stream",
          "name": "stdout",
          "text": [
            "5699 [D loss: 0.000123, acc.: 100.00%] [G loss: 8.836919]\n"
          ]
        },
        {
          "output_type": "stream",
          "name": "stderr",
          "text": [
            " 58%|█████▊    | 5801/10000 [08:19<06:14, 11.21it/s]"
          ]
        },
        {
          "output_type": "stream",
          "name": "stdout",
          "text": [
            "5799 [D loss: 0.000084, acc.: 100.00%] [G loss: 9.144342]\n"
          ]
        },
        {
          "output_type": "stream",
          "name": "stderr",
          "text": [
            " 59%|█████▉    | 5901/10000 [08:27<06:09, 11.08it/s]"
          ]
        },
        {
          "output_type": "stream",
          "name": "stdout",
          "text": [
            "5899 [D loss: 0.000181, acc.: 100.00%] [G loss: 8.876025]\n"
          ]
        },
        {
          "output_type": "stream",
          "name": "stderr",
          "text": [
            " 60%|██████    | 6001/10000 [08:36<05:58, 11.14it/s]"
          ]
        },
        {
          "output_type": "stream",
          "name": "stdout",
          "text": [
            "5999 [D loss: 0.000097, acc.: 100.00%] [G loss: 9.031508]\n"
          ]
        },
        {
          "output_type": "stream",
          "name": "stderr",
          "text": [
            " 61%|██████    | 6101/10000 [08:44<05:56, 10.94it/s]"
          ]
        },
        {
          "output_type": "stream",
          "name": "stdout",
          "text": [
            "6099 [D loss: 0.000101, acc.: 100.00%] [G loss: 9.449299]\n"
          ]
        },
        {
          "output_type": "stream",
          "name": "stderr",
          "text": [
            " 62%|██████▏   | 6201/10000 [08:53<05:34, 11.35it/s]"
          ]
        },
        {
          "output_type": "stream",
          "name": "stdout",
          "text": [
            "6199 [D loss: 0.000068, acc.: 100.00%] [G loss: 9.755230]\n"
          ]
        },
        {
          "output_type": "stream",
          "name": "stderr",
          "text": [
            " 63%|██████▎   | 6301/10000 [09:01<05:33, 11.11it/s]"
          ]
        },
        {
          "output_type": "stream",
          "name": "stdout",
          "text": [
            "6299 [D loss: 0.000223, acc.: 100.00%] [G loss: 8.865010]\n"
          ]
        },
        {
          "output_type": "stream",
          "name": "stderr",
          "text": [
            " 64%|██████▍   | 6401/10000 [09:10<05:23, 11.14it/s]"
          ]
        },
        {
          "output_type": "stream",
          "name": "stdout",
          "text": [
            "6399 [D loss: 0.000085, acc.: 100.00%] [G loss: 9.587366]\n"
          ]
        },
        {
          "output_type": "stream",
          "name": "stderr",
          "text": [
            " 65%|██████▌   | 6501/10000 [09:18<05:16, 11.06it/s]"
          ]
        },
        {
          "output_type": "stream",
          "name": "stdout",
          "text": [
            "6499 [D loss: 0.000044, acc.: 100.00%] [G loss: 9.842463]\n"
          ]
        },
        {
          "output_type": "stream",
          "name": "stderr",
          "text": [
            " 66%|██████▌   | 6601/10000 [09:26<05:05, 11.11it/s]"
          ]
        },
        {
          "output_type": "stream",
          "name": "stdout",
          "text": [
            "6599 [D loss: 0.000056, acc.: 100.00%] [G loss: 10.138422]\n"
          ]
        },
        {
          "output_type": "stream",
          "name": "stderr",
          "text": [
            " 67%|██████▋   | 6701/10000 [09:36<05:29, 10.01it/s]"
          ]
        },
        {
          "output_type": "stream",
          "name": "stdout",
          "text": [
            "6699 [D loss: 0.000043, acc.: 100.00%] [G loss: 10.137901]\n"
          ]
        },
        {
          "output_type": "stream",
          "name": "stderr",
          "text": [
            " 68%|██████▊   | 6801/10000 [09:44<04:46, 11.18it/s]"
          ]
        },
        {
          "output_type": "stream",
          "name": "stdout",
          "text": [
            "6799 [D loss: 0.000053, acc.: 100.00%] [G loss: 9.944033]\n"
          ]
        },
        {
          "output_type": "stream",
          "name": "stderr",
          "text": [
            " 69%|██████▉   | 6901/10000 [09:53<04:31, 11.40it/s]"
          ]
        },
        {
          "output_type": "stream",
          "name": "stdout",
          "text": [
            "6899 [D loss: 0.000042, acc.: 100.00%] [G loss: 10.421760]\n"
          ]
        },
        {
          "output_type": "stream",
          "name": "stderr",
          "text": [
            " 70%|███████   | 7001/10000 [10:01<04:30, 11.09it/s]"
          ]
        },
        {
          "output_type": "stream",
          "name": "stdout",
          "text": [
            "6999 [D loss: 0.000021, acc.: 100.00%] [G loss: 10.584563]\n"
          ]
        },
        {
          "output_type": "stream",
          "name": "stderr",
          "text": [
            " 71%|███████   | 7101/10000 [10:10<04:16, 11.31it/s]"
          ]
        },
        {
          "output_type": "stream",
          "name": "stdout",
          "text": [
            "7099 [D loss: 0.000018, acc.: 100.00%] [G loss: 10.608618]\n"
          ]
        },
        {
          "output_type": "stream",
          "name": "stderr",
          "text": [
            " 72%|███████▏  | 7201/10000 [10:18<04:07, 11.30it/s]"
          ]
        },
        {
          "output_type": "stream",
          "name": "stdout",
          "text": [
            "7199 [D loss: 0.000022, acc.: 100.00%] [G loss: 10.624557]\n"
          ]
        },
        {
          "output_type": "stream",
          "name": "stderr",
          "text": [
            " 73%|███████▎  | 7301/10000 [10:27<04:01, 11.18it/s]"
          ]
        },
        {
          "output_type": "stream",
          "name": "stdout",
          "text": [
            "7299 [D loss: 0.000020, acc.: 100.00%] [G loss: 10.928341]\n"
          ]
        },
        {
          "output_type": "stream",
          "name": "stderr",
          "text": [
            " 74%|███████▍  | 7401/10000 [10:35<03:50, 11.26it/s]"
          ]
        },
        {
          "output_type": "stream",
          "name": "stdout",
          "text": [
            "7399 [D loss: 0.000011, acc.: 100.00%] [G loss: 11.126013]\n"
          ]
        },
        {
          "output_type": "stream",
          "name": "stderr",
          "text": [
            " 75%|███████▌  | 7501/10000 [10:43<03:42, 11.21it/s]"
          ]
        },
        {
          "output_type": "stream",
          "name": "stdout",
          "text": [
            "7499 [D loss: 0.000012, acc.: 100.00%] [G loss: 10.969064]\n"
          ]
        },
        {
          "output_type": "stream",
          "name": "stderr",
          "text": [
            " 76%|███████▌  | 7601/10000 [10:52<03:32, 11.31it/s]"
          ]
        },
        {
          "output_type": "stream",
          "name": "stdout",
          "text": [
            "7599 [D loss: 0.000014, acc.: 100.00%] [G loss: 11.069320]\n"
          ]
        },
        {
          "output_type": "stream",
          "name": "stderr",
          "text": [
            " 77%|███████▋  | 7701/10000 [11:01<03:54,  9.81it/s]"
          ]
        },
        {
          "output_type": "stream",
          "name": "stdout",
          "text": [
            "7699 [D loss: 0.000010, acc.: 100.00%] [G loss: 11.400117]\n"
          ]
        },
        {
          "output_type": "stream",
          "name": "stderr",
          "text": [
            " 78%|███████▊  | 7801/10000 [11:10<03:14, 11.29it/s]"
          ]
        },
        {
          "output_type": "stream",
          "name": "stdout",
          "text": [
            "7799 [D loss: 0.000008, acc.: 100.00%] [G loss: 11.596462]\n"
          ]
        },
        {
          "output_type": "stream",
          "name": "stderr",
          "text": [
            " 79%|███████▉  | 7901/10000 [11:18<03:07, 11.20it/s]"
          ]
        },
        {
          "output_type": "stream",
          "name": "stdout",
          "text": [
            "7899 [D loss: 0.000008, acc.: 100.00%] [G loss: 11.529329]\n"
          ]
        },
        {
          "output_type": "stream",
          "name": "stderr",
          "text": [
            " 80%|████████  | 8001/10000 [11:27<02:59, 11.12it/s]"
          ]
        },
        {
          "output_type": "stream",
          "name": "stdout",
          "text": [
            "7999 [D loss: 0.000013, acc.: 100.00%] [G loss: 11.596424]\n"
          ]
        },
        {
          "output_type": "stream",
          "name": "stderr",
          "text": [
            " 81%|████████  | 8101/10000 [11:35<02:46, 11.37it/s]"
          ]
        },
        {
          "output_type": "stream",
          "name": "stdout",
          "text": [
            "8099 [D loss: 0.000007, acc.: 100.00%] [G loss: 11.877708]\n"
          ]
        },
        {
          "output_type": "stream",
          "name": "stderr",
          "text": [
            " 82%|████████▏ | 8201/10000 [11:44<02:43, 10.99it/s]"
          ]
        },
        {
          "output_type": "stream",
          "name": "stdout",
          "text": [
            "8199 [D loss: 0.000007, acc.: 100.00%] [G loss: 12.046979]\n"
          ]
        },
        {
          "output_type": "stream",
          "name": "stderr",
          "text": [
            " 83%|████████▎ | 8301/10000 [11:52<02:30, 11.32it/s]"
          ]
        },
        {
          "output_type": "stream",
          "name": "stdout",
          "text": [
            "8299 [D loss: 0.000007, acc.: 100.00%] [G loss: 12.019588]\n"
          ]
        },
        {
          "output_type": "stream",
          "name": "stderr",
          "text": [
            " 84%|████████▍ | 8401/10000 [12:01<02:23, 11.17it/s]"
          ]
        },
        {
          "output_type": "stream",
          "name": "stdout",
          "text": [
            "8399 [D loss: 0.000005, acc.: 100.00%] [G loss: 12.018543]\n"
          ]
        },
        {
          "output_type": "stream",
          "name": "stderr",
          "text": [
            " 85%|████████▌ | 8501/10000 [12:09<02:16, 11.02it/s]"
          ]
        },
        {
          "output_type": "stream",
          "name": "stdout",
          "text": [
            "8499 [D loss: 0.000005, acc.: 100.00%] [G loss: 12.313664]\n"
          ]
        },
        {
          "output_type": "stream",
          "name": "stderr",
          "text": [
            " 86%|████████▌ | 8601/10000 [12:17<02:04, 11.25it/s]"
          ]
        },
        {
          "output_type": "stream",
          "name": "stdout",
          "text": [
            "8599 [D loss: 0.000003, acc.: 100.00%] [G loss: 12.428813]\n"
          ]
        },
        {
          "output_type": "stream",
          "name": "stderr",
          "text": [
            " 87%|████████▋ | 8701/10000 [12:27<02:05, 10.39it/s]"
          ]
        },
        {
          "output_type": "stream",
          "name": "stdout",
          "text": [
            "8699 [D loss: 0.000004, acc.: 100.00%] [G loss: 12.489477]\n"
          ]
        },
        {
          "output_type": "stream",
          "name": "stderr",
          "text": [
            " 88%|████████▊ | 8801/10000 [12:35<01:47, 11.20it/s]"
          ]
        },
        {
          "output_type": "stream",
          "name": "stdout",
          "text": [
            "8799 [D loss: 0.000003, acc.: 100.00%] [G loss: 12.332959]\n"
          ]
        },
        {
          "output_type": "stream",
          "name": "stderr",
          "text": [
            " 89%|████████▉ | 8901/10000 [12:44<01:39, 11.03it/s]"
          ]
        },
        {
          "output_type": "stream",
          "name": "stdout",
          "text": [
            "8899 [D loss: 0.000003, acc.: 100.00%] [G loss: 12.779471]\n"
          ]
        },
        {
          "output_type": "stream",
          "name": "stderr",
          "text": [
            " 90%|█████████ | 9001/10000 [12:52<01:29, 11.12it/s]"
          ]
        },
        {
          "output_type": "stream",
          "name": "stdout",
          "text": [
            "8999 [D loss: 0.000003, acc.: 100.00%] [G loss: 12.825392]\n"
          ]
        },
        {
          "output_type": "stream",
          "name": "stderr",
          "text": [
            " 91%|█████████ | 9101/10000 [13:01<01:19, 11.33it/s]"
          ]
        },
        {
          "output_type": "stream",
          "name": "stdout",
          "text": [
            "9099 [D loss: 0.000002, acc.: 100.00%] [G loss: 12.995358]\n"
          ]
        },
        {
          "output_type": "stream",
          "name": "stderr",
          "text": [
            " 92%|█████████▏| 9201/10000 [13:09<01:11, 11.25it/s]"
          ]
        },
        {
          "output_type": "stream",
          "name": "stdout",
          "text": [
            "9199 [D loss: 0.000003, acc.: 100.00%] [G loss: 12.831830]\n"
          ]
        },
        {
          "output_type": "stream",
          "name": "stderr",
          "text": [
            " 93%|█████████▎| 9301/10000 [13:18<01:02, 11.10it/s]"
          ]
        },
        {
          "output_type": "stream",
          "name": "stdout",
          "text": [
            "9299 [D loss: 0.000002, acc.: 100.00%] [G loss: 13.146496]\n"
          ]
        },
        {
          "output_type": "stream",
          "name": "stderr",
          "text": [
            " 94%|█████████▍| 9401/10000 [13:26<00:54, 10.90it/s]"
          ]
        },
        {
          "output_type": "stream",
          "name": "stdout",
          "text": [
            "9399 [D loss: 0.000001, acc.: 100.00%] [G loss: 13.351859]\n"
          ]
        },
        {
          "output_type": "stream",
          "name": "stderr",
          "text": [
            " 95%|█████████▌| 9501/10000 [13:35<00:44, 11.26it/s]"
          ]
        },
        {
          "output_type": "stream",
          "name": "stdout",
          "text": [
            "9499 [D loss: 0.000001, acc.: 100.00%] [G loss: 13.424323]\n"
          ]
        },
        {
          "output_type": "stream",
          "name": "stderr",
          "text": [
            " 96%|█████████▌| 9601/10000 [13:43<00:40,  9.90it/s]"
          ]
        },
        {
          "output_type": "stream",
          "name": "stdout",
          "text": [
            "9599 [D loss: 0.000002, acc.: 100.00%] [G loss: 13.358748]\n"
          ]
        },
        {
          "output_type": "stream",
          "name": "stderr",
          "text": [
            " 97%|█████████▋| 9701/10000 [13:53<00:27, 10.92it/s]"
          ]
        },
        {
          "output_type": "stream",
          "name": "stdout",
          "text": [
            "9699 [D loss: 0.000001, acc.: 100.00%] [G loss: 13.692812]\n"
          ]
        },
        {
          "output_type": "stream",
          "name": "stderr",
          "text": [
            " 98%|█████████▊| 9801/10000 [14:01<00:17, 11.36it/s]"
          ]
        },
        {
          "output_type": "stream",
          "name": "stdout",
          "text": [
            "9799 [D loss: 0.000001, acc.: 100.00%] [G loss: 13.853579]\n"
          ]
        },
        {
          "output_type": "stream",
          "name": "stderr",
          "text": [
            " 99%|█████████▉| 9901/10000 [14:09<00:08, 11.14it/s]"
          ]
        },
        {
          "output_type": "stream",
          "name": "stdout",
          "text": [
            "9899 [D loss: 0.000001, acc.: 100.00%] [G loss: 13.767336]\n"
          ]
        },
        {
          "output_type": "stream",
          "name": "stderr",
          "text": [
            "100%|██████████| 10000/10000 [14:18<00:00, 11.65it/s]"
          ]
        },
        {
          "output_type": "stream",
          "name": "stdout",
          "text": [
            "9999 [D loss: 0.000002, acc.: 100.00%] [G loss: 13.357605]\n"
          ]
        },
        {
          "output_type": "stream",
          "name": "stderr",
          "text": [
            "\n"
          ]
        }
      ],
      "source": [
        "# create the gan\n",
        "gan_model = define_gan(generator, discriminator)\n",
        "# train model\n",
        "train(generator, discriminator, gan_model, latent_dim)"
      ]
    },
    {
      "cell_type": "markdown",
      "source": [
        "# Evaluation"
      ],
      "metadata": {
        "id": "V1n0vGcDZZkD"
      },
      "id": "V1n0vGcDZZkD"
    },
    {
      "cell_type": "code",
      "source": [
        "mean_list = []\n",
        "std_list = []\n",
        "hyper_list = []\n",
        "tir_list = []\n",
        "l1_list = []\n",
        "l2_list = []\n",
        "for i in tqdm(range(1, 101)):\n",
        "  generator.load_weights('/content/drive/MyDrive/Thesis/model/normal_gan/563_0.0005/generator_weights_' + str(i*100) + '.h5')\n",
        "  for j in range(6):\n",
        "    sub_mean = []\n",
        "    sub_std = []\n",
        "    hyper = []\n",
        "    tir = []\n",
        "    l1 = []\n",
        "    l2 = []\n",
        "\n",
        "    synth, _ = generate_fake_samples(generator, 54)\n",
        "    synth = synth.reshape(54,288)\n",
        "\n",
        "    synth_data = scaler.inverse_transform(synth)\n",
        "\n",
        "    sub_mean.append(mean(synth_data.flatten()))\n",
        "    sub_std.append(pstdev(synth_data.flatten().tolist()))\n",
        "\n",
        "    extracted_hyper = np.extract((synth_data >= 180), synth_data)\n",
        "    hyper.append(extracted_hyper.shape[0] / (288*54))\n",
        "    extracted_tir = np.extract(((synth_data < 180) & (synth_data >= 70)), synth_data)\n",
        "    tir.append(extracted_tir.shape[0] / (288*54))\n",
        "    extracted_l1 = np.extract(((synth_data < 70) & (synth_data >= 54)), synth_data)\n",
        "    l1.append(extracted_l1.shape[0] / (288*54))\n",
        "    extracted_l2 = np.extract((synth_data < 54), synth_data)\n",
        "    l2.append(extracted_l2.shape[0] / (288*54))\n",
        "\n",
        "  mean_list.append(mean(sub_mean))\n",
        "  std_list.append(mean(sub_std))\n",
        "  hyper_list.append(mean(hyper))\n",
        "  tir_list.append(mean(tir))\n",
        "  l1_list.append(mean(l1))\n",
        "  l2_list.append(mean(l2))"
      ],
      "metadata": {
        "colab": {
          "base_uri": "https://localhost:8080/"
        },
        "id": "DZcTslcTZn4P",
        "outputId": "65597edd-6033-4940-9228-03264dafc6b4"
      },
      "id": "DZcTslcTZn4P",
      "execution_count": null,
      "outputs": [
        {
          "output_type": "stream",
          "name": "stderr",
          "text": [
            "100%|██████████| 100/100 [03:02<00:00,  1.83s/it]\n"
          ]
        }
      ]
    },
    {
      "cell_type": "code",
      "source": [
        "df_563_result = pd.DataFrame(list(zip(hyper_list, tir_list, l1_list, l2_list, mean_list, std_list)), columns = ['Hyper', 'TIR', 'L1 Hypo', 'L2 Hypo', 'Mean', 'SD'])"
      ],
      "metadata": {
        "id": "6H_jVunPctUG"
      },
      "id": "6H_jVunPctUG",
      "execution_count": null,
      "outputs": []
    },
    {
      "cell_type": "code",
      "source": [
        "df_563_result.to_csv('/content/drive/MyDrive/Thesis/model/normal_gan/563_0.0005/evaluation.csv')"
      ],
      "metadata": {
        "id": "8sNMUhaBXwuv"
      },
      "id": "8sNMUhaBXwuv",
      "execution_count": null,
      "outputs": []
    },
    {
      "cell_type": "code",
      "source": [
        "df_563_result = pd.read_csv('/content/drive/MyDrive/Thesis/model/normal_gan/563_0.0005/evaluation.csv')"
      ],
      "metadata": {
        "id": "TINLfvX2qSIi"
      },
      "id": "TINLfvX2qSIi",
      "execution_count": null,
      "outputs": []
    },
    {
      "cell_type": "code",
      "source": [
        "df_563_result[50:]"
      ],
      "metadata": {
        "colab": {
          "base_uri": "https://localhost:8080/",
          "height": 1000
        },
        "id": "NeorJQpCdRYs",
        "outputId": "ba5d553b-0d1a-439f-e28a-5a9d45430ffe"
      },
      "id": "NeorJQpCdRYs",
      "execution_count": null,
      "outputs": [
        {
          "output_type": "execute_result",
          "data": {
            "text/plain": [
              "    Unnamed: 0     Hyper       TIR   L1 Hypo   L2 Hypo        Mean         SD\n",
              "50          50  0.572531  0.427469  0.000000  0.000000  189.802170  38.928350\n",
              "51          51  0.000000  0.751157  0.193158  0.055684   82.653770  18.269956\n",
              "52          52  0.731481  0.268519  0.000000  0.000000  212.146360  55.699352\n",
              "53          53  0.583269  0.416731  0.000000  0.000000  188.961290  39.628098\n",
              "54          54  0.128858  0.870628  0.000514  0.000000  148.998890  29.870115\n",
              "55          55  0.306584  0.677919  0.015432  0.000064  159.295170  42.435381\n",
              "56          56  0.763567  0.236433  0.000000  0.000000  208.099580  42.640190\n",
              "57          57  0.767361  0.232639  0.000000  0.000000  202.821380  35.948801\n",
              "58          58  0.000000  0.924833  0.070409  0.004758   95.660780  17.540777\n",
              "59          59  0.484568  0.510738  0.004694  0.000000  177.158690  49.293574\n",
              "60          60  0.729038  0.270962  0.000000  0.000000  204.336650  42.024461\n",
              "61          61  0.707755  0.292245  0.000000  0.000000  196.888280  34.074744\n",
              "62          62  0.000000  0.805234  0.133295  0.061471   95.357330  27.839823\n",
              "63          63  0.340021  0.641461  0.018261  0.000257  161.667720  44.332335\n",
              "64          64  0.848380  0.151620  0.000000  0.000000  217.689440  40.139585\n",
              "65          65  0.901042  0.098958  0.000000  0.000000  214.136340  34.063169\n",
              "66          66  0.000000  0.890175  0.052083  0.057742   97.129270  22.309580\n",
              "67          67  0.736690  0.263310  0.000000  0.000000  208.252700  51.107223\n",
              "68          68  0.863233  0.136767  0.000000  0.000000  213.578000  36.233287\n",
              "69          69  0.763696  0.236304  0.000000  0.000000  201.179700  32.809427\n",
              "70          70  0.000129  0.897762  0.047325  0.054784  103.946510  25.835569\n",
              "71          71  0.729617  0.270383  0.000000  0.000000  207.134800  42.965685\n",
              "72          72  0.860468  0.139532  0.000000  0.000000  211.268890  34.151257\n",
              "73          73  0.400592  0.599408  0.000000  0.000000  181.474180  28.473268\n",
              "74          74  0.000193  0.904707  0.057099  0.038002  108.350136  26.827314\n",
              "75          75  0.674640  0.325360  0.000000  0.000000  200.502010  39.435757\n",
              "76          76  0.848573  0.151427  0.000000  0.000000  213.016330  35.482465\n",
              "77          77  0.420075  0.579925  0.000000  0.000000  182.388630  27.907632\n",
              "78          78  0.001865  0.912551  0.069959  0.015625  110.118590  27.604198\n",
              "79          79  0.663902  0.336098  0.000000  0.000000  201.719500  39.586683\n",
              "80          80  0.788837  0.211163  0.000000  0.000000  209.095350  36.106614\n",
              "81          81  0.378408  0.621592  0.000000  0.000000  178.740340  28.400797\n",
              "82          82  0.005401  0.908179  0.070216  0.016204  110.487940  29.171918\n",
              "83          83  0.726916  0.273084  0.000000  0.000000  206.853180  38.476587\n",
              "84          84  0.766139  0.233861  0.000000  0.000000  210.000690  36.675282\n",
              "85          85  0.491770  0.508230  0.000000  0.000000  185.445760  29.775251\n",
              "86          86  0.003472  0.880980  0.082690  0.032858  106.357320  29.445381\n",
              "87          87  0.679012  0.320988  0.000000  0.000000  201.438780  36.988586\n",
              "88          88  0.670460  0.329540  0.000000  0.000000  200.932790  34.393720\n",
              "89          89  0.526106  0.473894  0.000000  0.000000  188.977110  32.680470\n",
              "90          90  0.003665  0.887731  0.075167  0.033436  107.111400  29.761298\n",
              "91          91  0.728074  0.271926  0.000000  0.000000  208.136570  39.786581\n",
              "92          92  0.760481  0.239519  0.000000  0.000000  208.321260  35.540438\n",
              "93          93  0.482575  0.517425  0.000000  0.000000  185.930070  29.437199\n",
              "94          94  0.000836  0.888760  0.077096  0.033308  106.180520  28.860019\n",
              "95          95  0.661587  0.338413  0.000000  0.000000  199.352100  35.578552\n",
              "96          96  0.704154  0.295846  0.000000  0.000000  205.076050  36.964949\n",
              "97          97  0.483732  0.516268  0.000000  0.000000  186.859400  31.873895\n",
              "98          98  0.001093  0.872621  0.091692  0.034594  106.672230  30.856755\n",
              "99          99  0.726466  0.273534  0.000000  0.000000  212.591960  47.478560"
            ],
            "text/html": [
              "\n",
              "  <div id=\"df-b519eeb3-dac1-4378-8f6b-cab45b18cdb8\">\n",
              "    <div class=\"colab-df-container\">\n",
              "      <div>\n",
              "<style scoped>\n",
              "    .dataframe tbody tr th:only-of-type {\n",
              "        vertical-align: middle;\n",
              "    }\n",
              "\n",
              "    .dataframe tbody tr th {\n",
              "        vertical-align: top;\n",
              "    }\n",
              "\n",
              "    .dataframe thead th {\n",
              "        text-align: right;\n",
              "    }\n",
              "</style>\n",
              "<table border=\"1\" class=\"dataframe\">\n",
              "  <thead>\n",
              "    <tr style=\"text-align: right;\">\n",
              "      <th></th>\n",
              "      <th>Unnamed: 0</th>\n",
              "      <th>Hyper</th>\n",
              "      <th>TIR</th>\n",
              "      <th>L1 Hypo</th>\n",
              "      <th>L2 Hypo</th>\n",
              "      <th>Mean</th>\n",
              "      <th>SD</th>\n",
              "    </tr>\n",
              "  </thead>\n",
              "  <tbody>\n",
              "    <tr>\n",
              "      <th>50</th>\n",
              "      <td>50</td>\n",
              "      <td>0.572531</td>\n",
              "      <td>0.427469</td>\n",
              "      <td>0.000000</td>\n",
              "      <td>0.000000</td>\n",
              "      <td>189.802170</td>\n",
              "      <td>38.928350</td>\n",
              "    </tr>\n",
              "    <tr>\n",
              "      <th>51</th>\n",
              "      <td>51</td>\n",
              "      <td>0.000000</td>\n",
              "      <td>0.751157</td>\n",
              "      <td>0.193158</td>\n",
              "      <td>0.055684</td>\n",
              "      <td>82.653770</td>\n",
              "      <td>18.269956</td>\n",
              "    </tr>\n",
              "    <tr>\n",
              "      <th>52</th>\n",
              "      <td>52</td>\n",
              "      <td>0.731481</td>\n",
              "      <td>0.268519</td>\n",
              "      <td>0.000000</td>\n",
              "      <td>0.000000</td>\n",
              "      <td>212.146360</td>\n",
              "      <td>55.699352</td>\n",
              "    </tr>\n",
              "    <tr>\n",
              "      <th>53</th>\n",
              "      <td>53</td>\n",
              "      <td>0.583269</td>\n",
              "      <td>0.416731</td>\n",
              "      <td>0.000000</td>\n",
              "      <td>0.000000</td>\n",
              "      <td>188.961290</td>\n",
              "      <td>39.628098</td>\n",
              "    </tr>\n",
              "    <tr>\n",
              "      <th>54</th>\n",
              "      <td>54</td>\n",
              "      <td>0.128858</td>\n",
              "      <td>0.870628</td>\n",
              "      <td>0.000514</td>\n",
              "      <td>0.000000</td>\n",
              "      <td>148.998890</td>\n",
              "      <td>29.870115</td>\n",
              "    </tr>\n",
              "    <tr>\n",
              "      <th>55</th>\n",
              "      <td>55</td>\n",
              "      <td>0.306584</td>\n",
              "      <td>0.677919</td>\n",
              "      <td>0.015432</td>\n",
              "      <td>0.000064</td>\n",
              "      <td>159.295170</td>\n",
              "      <td>42.435381</td>\n",
              "    </tr>\n",
              "    <tr>\n",
              "      <th>56</th>\n",
              "      <td>56</td>\n",
              "      <td>0.763567</td>\n",
              "      <td>0.236433</td>\n",
              "      <td>0.000000</td>\n",
              "      <td>0.000000</td>\n",
              "      <td>208.099580</td>\n",
              "      <td>42.640190</td>\n",
              "    </tr>\n",
              "    <tr>\n",
              "      <th>57</th>\n",
              "      <td>57</td>\n",
              "      <td>0.767361</td>\n",
              "      <td>0.232639</td>\n",
              "      <td>0.000000</td>\n",
              "      <td>0.000000</td>\n",
              "      <td>202.821380</td>\n",
              "      <td>35.948801</td>\n",
              "    </tr>\n",
              "    <tr>\n",
              "      <th>58</th>\n",
              "      <td>58</td>\n",
              "      <td>0.000000</td>\n",
              "      <td>0.924833</td>\n",
              "      <td>0.070409</td>\n",
              "      <td>0.004758</td>\n",
              "      <td>95.660780</td>\n",
              "      <td>17.540777</td>\n",
              "    </tr>\n",
              "    <tr>\n",
              "      <th>59</th>\n",
              "      <td>59</td>\n",
              "      <td>0.484568</td>\n",
              "      <td>0.510738</td>\n",
              "      <td>0.004694</td>\n",
              "      <td>0.000000</td>\n",
              "      <td>177.158690</td>\n",
              "      <td>49.293574</td>\n",
              "    </tr>\n",
              "    <tr>\n",
              "      <th>60</th>\n",
              "      <td>60</td>\n",
              "      <td>0.729038</td>\n",
              "      <td>0.270962</td>\n",
              "      <td>0.000000</td>\n",
              "      <td>0.000000</td>\n",
              "      <td>204.336650</td>\n",
              "      <td>42.024461</td>\n",
              "    </tr>\n",
              "    <tr>\n",
              "      <th>61</th>\n",
              "      <td>61</td>\n",
              "      <td>0.707755</td>\n",
              "      <td>0.292245</td>\n",
              "      <td>0.000000</td>\n",
              "      <td>0.000000</td>\n",
              "      <td>196.888280</td>\n",
              "      <td>34.074744</td>\n",
              "    </tr>\n",
              "    <tr>\n",
              "      <th>62</th>\n",
              "      <td>62</td>\n",
              "      <td>0.000000</td>\n",
              "      <td>0.805234</td>\n",
              "      <td>0.133295</td>\n",
              "      <td>0.061471</td>\n",
              "      <td>95.357330</td>\n",
              "      <td>27.839823</td>\n",
              "    </tr>\n",
              "    <tr>\n",
              "      <th>63</th>\n",
              "      <td>63</td>\n",
              "      <td>0.340021</td>\n",
              "      <td>0.641461</td>\n",
              "      <td>0.018261</td>\n",
              "      <td>0.000257</td>\n",
              "      <td>161.667720</td>\n",
              "      <td>44.332335</td>\n",
              "    </tr>\n",
              "    <tr>\n",
              "      <th>64</th>\n",
              "      <td>64</td>\n",
              "      <td>0.848380</td>\n",
              "      <td>0.151620</td>\n",
              "      <td>0.000000</td>\n",
              "      <td>0.000000</td>\n",
              "      <td>217.689440</td>\n",
              "      <td>40.139585</td>\n",
              "    </tr>\n",
              "    <tr>\n",
              "      <th>65</th>\n",
              "      <td>65</td>\n",
              "      <td>0.901042</td>\n",
              "      <td>0.098958</td>\n",
              "      <td>0.000000</td>\n",
              "      <td>0.000000</td>\n",
              "      <td>214.136340</td>\n",
              "      <td>34.063169</td>\n",
              "    </tr>\n",
              "    <tr>\n",
              "      <th>66</th>\n",
              "      <td>66</td>\n",
              "      <td>0.000000</td>\n",
              "      <td>0.890175</td>\n",
              "      <td>0.052083</td>\n",
              "      <td>0.057742</td>\n",
              "      <td>97.129270</td>\n",
              "      <td>22.309580</td>\n",
              "    </tr>\n",
              "    <tr>\n",
              "      <th>67</th>\n",
              "      <td>67</td>\n",
              "      <td>0.736690</td>\n",
              "      <td>0.263310</td>\n",
              "      <td>0.000000</td>\n",
              "      <td>0.000000</td>\n",
              "      <td>208.252700</td>\n",
              "      <td>51.107223</td>\n",
              "    </tr>\n",
              "    <tr>\n",
              "      <th>68</th>\n",
              "      <td>68</td>\n",
              "      <td>0.863233</td>\n",
              "      <td>0.136767</td>\n",
              "      <td>0.000000</td>\n",
              "      <td>0.000000</td>\n",
              "      <td>213.578000</td>\n",
              "      <td>36.233287</td>\n",
              "    </tr>\n",
              "    <tr>\n",
              "      <th>69</th>\n",
              "      <td>69</td>\n",
              "      <td>0.763696</td>\n",
              "      <td>0.236304</td>\n",
              "      <td>0.000000</td>\n",
              "      <td>0.000000</td>\n",
              "      <td>201.179700</td>\n",
              "      <td>32.809427</td>\n",
              "    </tr>\n",
              "    <tr>\n",
              "      <th>70</th>\n",
              "      <td>70</td>\n",
              "      <td>0.000129</td>\n",
              "      <td>0.897762</td>\n",
              "      <td>0.047325</td>\n",
              "      <td>0.054784</td>\n",
              "      <td>103.946510</td>\n",
              "      <td>25.835569</td>\n",
              "    </tr>\n",
              "    <tr>\n",
              "      <th>71</th>\n",
              "      <td>71</td>\n",
              "      <td>0.729617</td>\n",
              "      <td>0.270383</td>\n",
              "      <td>0.000000</td>\n",
              "      <td>0.000000</td>\n",
              "      <td>207.134800</td>\n",
              "      <td>42.965685</td>\n",
              "    </tr>\n",
              "    <tr>\n",
              "      <th>72</th>\n",
              "      <td>72</td>\n",
              "      <td>0.860468</td>\n",
              "      <td>0.139532</td>\n",
              "      <td>0.000000</td>\n",
              "      <td>0.000000</td>\n",
              "      <td>211.268890</td>\n",
              "      <td>34.151257</td>\n",
              "    </tr>\n",
              "    <tr>\n",
              "      <th>73</th>\n",
              "      <td>73</td>\n",
              "      <td>0.400592</td>\n",
              "      <td>0.599408</td>\n",
              "      <td>0.000000</td>\n",
              "      <td>0.000000</td>\n",
              "      <td>181.474180</td>\n",
              "      <td>28.473268</td>\n",
              "    </tr>\n",
              "    <tr>\n",
              "      <th>74</th>\n",
              "      <td>74</td>\n",
              "      <td>0.000193</td>\n",
              "      <td>0.904707</td>\n",
              "      <td>0.057099</td>\n",
              "      <td>0.038002</td>\n",
              "      <td>108.350136</td>\n",
              "      <td>26.827314</td>\n",
              "    </tr>\n",
              "    <tr>\n",
              "      <th>75</th>\n",
              "      <td>75</td>\n",
              "      <td>0.674640</td>\n",
              "      <td>0.325360</td>\n",
              "      <td>0.000000</td>\n",
              "      <td>0.000000</td>\n",
              "      <td>200.502010</td>\n",
              "      <td>39.435757</td>\n",
              "    </tr>\n",
              "    <tr>\n",
              "      <th>76</th>\n",
              "      <td>76</td>\n",
              "      <td>0.848573</td>\n",
              "      <td>0.151427</td>\n",
              "      <td>0.000000</td>\n",
              "      <td>0.000000</td>\n",
              "      <td>213.016330</td>\n",
              "      <td>35.482465</td>\n",
              "    </tr>\n",
              "    <tr>\n",
              "      <th>77</th>\n",
              "      <td>77</td>\n",
              "      <td>0.420075</td>\n",
              "      <td>0.579925</td>\n",
              "      <td>0.000000</td>\n",
              "      <td>0.000000</td>\n",
              "      <td>182.388630</td>\n",
              "      <td>27.907632</td>\n",
              "    </tr>\n",
              "    <tr>\n",
              "      <th>78</th>\n",
              "      <td>78</td>\n",
              "      <td>0.001865</td>\n",
              "      <td>0.912551</td>\n",
              "      <td>0.069959</td>\n",
              "      <td>0.015625</td>\n",
              "      <td>110.118590</td>\n",
              "      <td>27.604198</td>\n",
              "    </tr>\n",
              "    <tr>\n",
              "      <th>79</th>\n",
              "      <td>79</td>\n",
              "      <td>0.663902</td>\n",
              "      <td>0.336098</td>\n",
              "      <td>0.000000</td>\n",
              "      <td>0.000000</td>\n",
              "      <td>201.719500</td>\n",
              "      <td>39.586683</td>\n",
              "    </tr>\n",
              "    <tr>\n",
              "      <th>80</th>\n",
              "      <td>80</td>\n",
              "      <td>0.788837</td>\n",
              "      <td>0.211163</td>\n",
              "      <td>0.000000</td>\n",
              "      <td>0.000000</td>\n",
              "      <td>209.095350</td>\n",
              "      <td>36.106614</td>\n",
              "    </tr>\n",
              "    <tr>\n",
              "      <th>81</th>\n",
              "      <td>81</td>\n",
              "      <td>0.378408</td>\n",
              "      <td>0.621592</td>\n",
              "      <td>0.000000</td>\n",
              "      <td>0.000000</td>\n",
              "      <td>178.740340</td>\n",
              "      <td>28.400797</td>\n",
              "    </tr>\n",
              "    <tr>\n",
              "      <th>82</th>\n",
              "      <td>82</td>\n",
              "      <td>0.005401</td>\n",
              "      <td>0.908179</td>\n",
              "      <td>0.070216</td>\n",
              "      <td>0.016204</td>\n",
              "      <td>110.487940</td>\n",
              "      <td>29.171918</td>\n",
              "    </tr>\n",
              "    <tr>\n",
              "      <th>83</th>\n",
              "      <td>83</td>\n",
              "      <td>0.726916</td>\n",
              "      <td>0.273084</td>\n",
              "      <td>0.000000</td>\n",
              "      <td>0.000000</td>\n",
              "      <td>206.853180</td>\n",
              "      <td>38.476587</td>\n",
              "    </tr>\n",
              "    <tr>\n",
              "      <th>84</th>\n",
              "      <td>84</td>\n",
              "      <td>0.766139</td>\n",
              "      <td>0.233861</td>\n",
              "      <td>0.000000</td>\n",
              "      <td>0.000000</td>\n",
              "      <td>210.000690</td>\n",
              "      <td>36.675282</td>\n",
              "    </tr>\n",
              "    <tr>\n",
              "      <th>85</th>\n",
              "      <td>85</td>\n",
              "      <td>0.491770</td>\n",
              "      <td>0.508230</td>\n",
              "      <td>0.000000</td>\n",
              "      <td>0.000000</td>\n",
              "      <td>185.445760</td>\n",
              "      <td>29.775251</td>\n",
              "    </tr>\n",
              "    <tr>\n",
              "      <th>86</th>\n",
              "      <td>86</td>\n",
              "      <td>0.003472</td>\n",
              "      <td>0.880980</td>\n",
              "      <td>0.082690</td>\n",
              "      <td>0.032858</td>\n",
              "      <td>106.357320</td>\n",
              "      <td>29.445381</td>\n",
              "    </tr>\n",
              "    <tr>\n",
              "      <th>87</th>\n",
              "      <td>87</td>\n",
              "      <td>0.679012</td>\n",
              "      <td>0.320988</td>\n",
              "      <td>0.000000</td>\n",
              "      <td>0.000000</td>\n",
              "      <td>201.438780</td>\n",
              "      <td>36.988586</td>\n",
              "    </tr>\n",
              "    <tr>\n",
              "      <th>88</th>\n",
              "      <td>88</td>\n",
              "      <td>0.670460</td>\n",
              "      <td>0.329540</td>\n",
              "      <td>0.000000</td>\n",
              "      <td>0.000000</td>\n",
              "      <td>200.932790</td>\n",
              "      <td>34.393720</td>\n",
              "    </tr>\n",
              "    <tr>\n",
              "      <th>89</th>\n",
              "      <td>89</td>\n",
              "      <td>0.526106</td>\n",
              "      <td>0.473894</td>\n",
              "      <td>0.000000</td>\n",
              "      <td>0.000000</td>\n",
              "      <td>188.977110</td>\n",
              "      <td>32.680470</td>\n",
              "    </tr>\n",
              "    <tr>\n",
              "      <th>90</th>\n",
              "      <td>90</td>\n",
              "      <td>0.003665</td>\n",
              "      <td>0.887731</td>\n",
              "      <td>0.075167</td>\n",
              "      <td>0.033436</td>\n",
              "      <td>107.111400</td>\n",
              "      <td>29.761298</td>\n",
              "    </tr>\n",
              "    <tr>\n",
              "      <th>91</th>\n",
              "      <td>91</td>\n",
              "      <td>0.728074</td>\n",
              "      <td>0.271926</td>\n",
              "      <td>0.000000</td>\n",
              "      <td>0.000000</td>\n",
              "      <td>208.136570</td>\n",
              "      <td>39.786581</td>\n",
              "    </tr>\n",
              "    <tr>\n",
              "      <th>92</th>\n",
              "      <td>92</td>\n",
              "      <td>0.760481</td>\n",
              "      <td>0.239519</td>\n",
              "      <td>0.000000</td>\n",
              "      <td>0.000000</td>\n",
              "      <td>208.321260</td>\n",
              "      <td>35.540438</td>\n",
              "    </tr>\n",
              "    <tr>\n",
              "      <th>93</th>\n",
              "      <td>93</td>\n",
              "      <td>0.482575</td>\n",
              "      <td>0.517425</td>\n",
              "      <td>0.000000</td>\n",
              "      <td>0.000000</td>\n",
              "      <td>185.930070</td>\n",
              "      <td>29.437199</td>\n",
              "    </tr>\n",
              "    <tr>\n",
              "      <th>94</th>\n",
              "      <td>94</td>\n",
              "      <td>0.000836</td>\n",
              "      <td>0.888760</td>\n",
              "      <td>0.077096</td>\n",
              "      <td>0.033308</td>\n",
              "      <td>106.180520</td>\n",
              "      <td>28.860019</td>\n",
              "    </tr>\n",
              "    <tr>\n",
              "      <th>95</th>\n",
              "      <td>95</td>\n",
              "      <td>0.661587</td>\n",
              "      <td>0.338413</td>\n",
              "      <td>0.000000</td>\n",
              "      <td>0.000000</td>\n",
              "      <td>199.352100</td>\n",
              "      <td>35.578552</td>\n",
              "    </tr>\n",
              "    <tr>\n",
              "      <th>96</th>\n",
              "      <td>96</td>\n",
              "      <td>0.704154</td>\n",
              "      <td>0.295846</td>\n",
              "      <td>0.000000</td>\n",
              "      <td>0.000000</td>\n",
              "      <td>205.076050</td>\n",
              "      <td>36.964949</td>\n",
              "    </tr>\n",
              "    <tr>\n",
              "      <th>97</th>\n",
              "      <td>97</td>\n",
              "      <td>0.483732</td>\n",
              "      <td>0.516268</td>\n",
              "      <td>0.000000</td>\n",
              "      <td>0.000000</td>\n",
              "      <td>186.859400</td>\n",
              "      <td>31.873895</td>\n",
              "    </tr>\n",
              "    <tr>\n",
              "      <th>98</th>\n",
              "      <td>98</td>\n",
              "      <td>0.001093</td>\n",
              "      <td>0.872621</td>\n",
              "      <td>0.091692</td>\n",
              "      <td>0.034594</td>\n",
              "      <td>106.672230</td>\n",
              "      <td>30.856755</td>\n",
              "    </tr>\n",
              "    <tr>\n",
              "      <th>99</th>\n",
              "      <td>99</td>\n",
              "      <td>0.726466</td>\n",
              "      <td>0.273534</td>\n",
              "      <td>0.000000</td>\n",
              "      <td>0.000000</td>\n",
              "      <td>212.591960</td>\n",
              "      <td>47.478560</td>\n",
              "    </tr>\n",
              "  </tbody>\n",
              "</table>\n",
              "</div>\n",
              "      <button class=\"colab-df-convert\" onclick=\"convertToInteractive('df-b519eeb3-dac1-4378-8f6b-cab45b18cdb8')\"\n",
              "              title=\"Convert this dataframe to an interactive table.\"\n",
              "              style=\"display:none;\">\n",
              "        \n",
              "  <svg xmlns=\"http://www.w3.org/2000/svg\" height=\"24px\"viewBox=\"0 0 24 24\"\n",
              "       width=\"24px\">\n",
              "    <path d=\"M0 0h24v24H0V0z\" fill=\"none\"/>\n",
              "    <path d=\"M18.56 5.44l.94 2.06.94-2.06 2.06-.94-2.06-.94-.94-2.06-.94 2.06-2.06.94zm-11 1L8.5 8.5l.94-2.06 2.06-.94-2.06-.94L8.5 2.5l-.94 2.06-2.06.94zm10 10l.94 2.06.94-2.06 2.06-.94-2.06-.94-.94-2.06-.94 2.06-2.06.94z\"/><path d=\"M17.41 7.96l-1.37-1.37c-.4-.4-.92-.59-1.43-.59-.52 0-1.04.2-1.43.59L10.3 9.45l-7.72 7.72c-.78.78-.78 2.05 0 2.83L4 21.41c.39.39.9.59 1.41.59.51 0 1.02-.2 1.41-.59l7.78-7.78 2.81-2.81c.8-.78.8-2.07 0-2.86zM5.41 20L4 18.59l7.72-7.72 1.47 1.35L5.41 20z\"/>\n",
              "  </svg>\n",
              "      </button>\n",
              "      \n",
              "  <style>\n",
              "    .colab-df-container {\n",
              "      display:flex;\n",
              "      flex-wrap:wrap;\n",
              "      gap: 12px;\n",
              "    }\n",
              "\n",
              "    .colab-df-convert {\n",
              "      background-color: #E8F0FE;\n",
              "      border: none;\n",
              "      border-radius: 50%;\n",
              "      cursor: pointer;\n",
              "      display: none;\n",
              "      fill: #1967D2;\n",
              "      height: 32px;\n",
              "      padding: 0 0 0 0;\n",
              "      width: 32px;\n",
              "    }\n",
              "\n",
              "    .colab-df-convert:hover {\n",
              "      background-color: #E2EBFA;\n",
              "      box-shadow: 0px 1px 2px rgba(60, 64, 67, 0.3), 0px 1px 3px 1px rgba(60, 64, 67, 0.15);\n",
              "      fill: #174EA6;\n",
              "    }\n",
              "\n",
              "    [theme=dark] .colab-df-convert {\n",
              "      background-color: #3B4455;\n",
              "      fill: #D2E3FC;\n",
              "    }\n",
              "\n",
              "    [theme=dark] .colab-df-convert:hover {\n",
              "      background-color: #434B5C;\n",
              "      box-shadow: 0px 1px 3px 1px rgba(0, 0, 0, 0.15);\n",
              "      filter: drop-shadow(0px 1px 2px rgba(0, 0, 0, 0.3));\n",
              "      fill: #FFFFFF;\n",
              "    }\n",
              "  </style>\n",
              "\n",
              "      <script>\n",
              "        const buttonEl =\n",
              "          document.querySelector('#df-b519eeb3-dac1-4378-8f6b-cab45b18cdb8 button.colab-df-convert');\n",
              "        buttonEl.style.display =\n",
              "          google.colab.kernel.accessAllowed ? 'block' : 'none';\n",
              "\n",
              "        async function convertToInteractive(key) {\n",
              "          const element = document.querySelector('#df-b519eeb3-dac1-4378-8f6b-cab45b18cdb8');\n",
              "          const dataTable =\n",
              "            await google.colab.kernel.invokeFunction('convertToInteractive',\n",
              "                                                     [key], {});\n",
              "          if (!dataTable) return;\n",
              "\n",
              "          const docLinkHtml = 'Like what you see? Visit the ' +\n",
              "            '<a target=\"_blank\" href=https://colab.research.google.com/notebooks/data_table.ipynb>data table notebook</a>'\n",
              "            + ' to learn more about interactive tables.';\n",
              "          element.innerHTML = '';\n",
              "          dataTable['output_type'] = 'display_data';\n",
              "          await google.colab.output.renderOutput(dataTable, element);\n",
              "          const docLink = document.createElement('div');\n",
              "          docLink.innerHTML = docLinkHtml;\n",
              "          element.appendChild(docLink);\n",
              "        }\n",
              "      </script>\n",
              "    </div>\n",
              "  </div>\n",
              "  "
            ]
          },
          "metadata": {},
          "execution_count": 102
        }
      ]
    },
    {
      "cell_type": "markdown",
      "source": [
        "# The comparison between the results of normal GAN and TimeGAN"
      ],
      "metadata": {
        "id": "GeZKeMqzocED"
      },
      "id": "GeZKeMqzocED"
    },
    {
      "cell_type": "code",
      "source": [
        "generator.load_weights('/content/drive/MyDrive/Thesis/model/normal_gan/563_0.0005/generator_weights_3900.h5')\n",
        "synth_norm, _ = generate_fake_samples(generator, 54)\n",
        "synth_norm=synth_norm.reshape(54,288)\n",
        "synth_timegan = np.load(\"/content/drive/MyDrive/Thesis/best model/timegan_563_128/synthetic_data_nonorm.npy\")"
      ],
      "metadata": {
        "id": "CD0udmxAhl3q"
      },
      "id": "CD0udmxAhl3q",
      "execution_count": null,
      "outputs": []
    },
    {
      "cell_type": "code",
      "source": [
        "synth_normgan_norm = synth_norm\n",
        "synth_timegan_norm = np.load(\"/content/drive/MyDrive/Thesis/best model/timegan_563_128/synthetic_data.npy\")\n",
        "synth_normgan_nonnorm = scaler.inverse_transform(synth_norm)\n",
        "synth_timegan_nonnorm = synth_timegan\n",
        "real_ori = scaler.inverse_transform(glucose_563)\n",
        "real_norm = glucose_563"
      ],
      "metadata": {
        "id": "venrla7pkZnU"
      },
      "id": "venrla7pkZnU",
      "execution_count": null,
      "outputs": []
    },
    {
      "cell_type": "markdown",
      "source": [
        "SVM"
      ],
      "metadata": {
        "id": "McfGi3mkRUUI"
      },
      "id": "McfGi3mkRUUI"
    },
    {
      "cell_type": "code",
      "source": [
        "x = real_ori.tolist()\n",
        "y = my_list = [1]*54\n",
        "x_timegan = [synth_timegan_nonnorm[9][2][i][:,0].tolist() for i in range(54)]\n",
        "x_normgan = synth_normgan_nonnorm\n",
        "y_timegan = [0]*54\n",
        "x.extend(x_normgan)\n",
        "y.extend(y_timegan)"
      ],
      "metadata": {
        "id": "3Ol49sKUkfAu"
      },
      "id": "3Ol49sKUkfAu",
      "execution_count": null,
      "outputs": []
    },
    {
      "cell_type": "code",
      "source": [
        "import random\n",
        "\n",
        "numbers = list(range(108))\n",
        "\n",
        "num_selected_70 = random.sample(numbers, int(0.7*len(numbers)))\n",
        "\n",
        "num_selected_30 = list(set(numbers) - set(num_selected_70))\n",
        "\n",
        "print(\"training index：\", num_selected_70)\n",
        "print(\"test index：\", num_selected_30)"
      ],
      "metadata": {
        "colab": {
          "base_uri": "https://localhost:8080/"
        },
        "id": "tEaU17VmkrdF",
        "outputId": "f4e46dbb-a56e-4859-a426-2d8e5dd24902"
      },
      "id": "tEaU17VmkrdF",
      "execution_count": null,
      "outputs": [
        {
          "output_type": "stream",
          "name": "stdout",
          "text": [
            "training index： [21, 91, 63, 62, 69, 95, 57, 2, 71, 81, 38, 1, 85, 33, 59, 73, 90, 20, 51, 96, 7, 28, 37, 36, 92, 25, 44, 29, 64, 13, 75, 46, 77, 24, 53, 26, 60, 35, 40, 45, 99, 8, 10, 12, 17, 102, 107, 14, 86, 0, 65, 103, 61, 74, 11, 15, 79, 76, 100, 47, 52, 9, 22, 80, 101, 49, 3, 4, 6, 56, 84, 31, 54, 43, 55]\n",
            "test index： [5, 16, 18, 19, 23, 27, 30, 32, 34, 39, 41, 42, 48, 50, 58, 66, 67, 68, 70, 72, 78, 82, 83, 87, 88, 89, 93, 94, 97, 98, 104, 105, 106]\n"
          ]
        }
      ]
    },
    {
      "cell_type": "code",
      "source": [
        "training_x = [x[num_selected_70[i]] for i in range(len(num_selected_70))]\n",
        "test_x = [x[num_selected_30[i]] for i in range(len(num_selected_30))]\n",
        "training_y = [y[num_selected_70[i]] for i in range(len(num_selected_70))]\n",
        "test_y = [y[num_selected_30[i]] for i in range(len(num_selected_30))]"
      ],
      "metadata": {
        "id": "WKNlaBGlkwAp"
      },
      "id": "WKNlaBGlkwAp",
      "execution_count": null,
      "outputs": []
    },
    {
      "cell_type": "code",
      "source": [
        "from sklearn import svm, metrics\n",
        "classifier = svm.SVC()\n",
        "\n",
        "# Train the classifier on the training data\n",
        "classifier.fit(training_x, training_y)\n",
        "\n",
        "# Predict the labels of the test data\n",
        "y_pred = classifier.predict(test_x)\n",
        "\n",
        "# Calculate the accuracy and F1 score of the classifier\n",
        "accuracy = metrics.accuracy_score(test_y, y_pred)\n",
        "f1_score = metrics.f1_score(test_y, y_pred, average='weighted')\n",
        "\n",
        "# Print the results\n",
        "print(\"Accuracy:\", accuracy)\n",
        "print(\"F1 score:\", f1_score)"
      ],
      "metadata": {
        "colab": {
          "base_uri": "https://localhost:8080/"
        },
        "id": "WTZsv7F1ky60",
        "outputId": "ad47ccf4-5123-41dd-b0fb-425dee3e7233"
      },
      "id": "WTZsv7F1ky60",
      "execution_count": null,
      "outputs": [
        {
          "output_type": "stream",
          "name": "stdout",
          "text": [
            "Accuracy: 0.9393939393939394\n",
            "F1 score: 0.9385780885780886\n"
          ]
        }
      ]
    },
    {
      "cell_type": "markdown",
      "source": [
        "RNN prediction"
      ],
      "metadata": {
        "id": "Ked3gEPTRZAf"
      },
      "id": "Ked3gEPTRZAf"
    },
    {
      "cell_type": "code",
      "source": [
        "#Split training and test set\n",
        "n_events = len(real_ori)\n",
        "\n",
        "idx = np.arange(n_events)\n",
        "n_train = int(.8*n_events)\n",
        "train_idx = idx[:n_train]\n",
        "test_idx = idx[n_train:]"
      ],
      "metadata": {
        "id": "Zp9-63oeRc3s"
      },
      "id": "Zp9-63oeRc3s",
      "execution_count": null,
      "outputs": []
    },
    {
      "cell_type": "code",
      "source": [
        "# get training and test data (use past 6h data to predict next 30min)\n",
        "pre_len = 6 # 5*6=30 -> 30min\n",
        "train_len = 72 #12*6 -> 6h\n",
        "\n",
        "train_real_x = []\n",
        "train_real_y = []\n",
        "train_syn_norm_x = []\n",
        "train_syn_norm_y = []\n",
        "train_syn_time_x = []\n",
        "train_syn_time_y = []\n",
        "\n",
        "for i in range(len(train_idx)):\n",
        "  for j in range(288-(pre_len+train_len)+1):\n",
        "    train_real_x.append(glucose_563[train_idx[i], j:(j+train_len)])\n",
        "    train_real_y.append(glucose_563[train_idx[i], (j+train_len):(j+train_len+pre_len)])\n",
        "\n",
        "    train_syn_norm_x.append(synth_normgan_norm[train_idx[i], j:(j+train_len)])\n",
        "    train_syn_norm_y.append(synth_normgan_norm[train_idx[i], (j+train_len):(j+train_len+pre_len)])\n",
        "\n",
        "    train_syn_time_x.append(np.array([synth_timegan_norm[9][2][n][:,0] for n in range(54)])[train_idx[i], j:(j+train_len)])\n",
        "    train_syn_time_y.append(np.array([synth_timegan_norm[9][2][n][:,0] for n in range(54)])[train_idx[i], (j+train_len):(j+train_len+pre_len)])\n",
        "\n",
        "test_real_x = []\n",
        "test_real_y = []\n",
        "test_syn_norm_x = []\n",
        "test_syn_norm_y = []\n",
        "test_syn_time_x = []\n",
        "test_syn_time_y = []\n",
        "\n",
        "for i in range(len(test_idx)):\n",
        "  for j in range(288-(pre_len+train_len)+1):\n",
        "    test_real_x.append(glucose_563[test_idx[i], j:(j+train_len)])\n",
        "    test_real_y.append(glucose_563[test_idx[i], (j+train_len):(j+train_len+pre_len)])\n",
        "\n",
        "    test_syn_norm_x.append(synth_normgan_norm[test_idx[i], j:(j+train_len)])\n",
        "    test_syn_norm_y.append(synth_normgan_norm[test_idx[i], (j+train_len):(j+train_len+pre_len)])\n",
        "\n",
        "    test_syn_time_x.append(np.array([synth_timegan_norm[9][2][n][:,0] for n in range(54)])[test_idx[i], j:(j+train_len)])\n",
        "    test_syn_time_y.append(np.array([synth_timegan_norm[9][2][n][:,0] for n in range(54)])[test_idx[i], (j+train_len):(j+train_len+pre_len)])\n",
        "\n",
        "train_real_x = np.array(train_real_x)\n",
        "train_real_y = np.array(train_real_y)\n",
        "train_syn_norm_x = np.array(train_syn_norm_x)\n",
        "train_syn_norm_y = np.array(train_syn_norm_y)\n",
        "train_syn_time_x = np.array(train_syn_time_x)\n",
        "train_syn_time_y = np.array(train_syn_time_y)\n",
        "\n",
        "\n",
        "test_real_x = np.array(test_real_x)\n",
        "test_real_y = np.array(test_real_y)\n",
        "test_syn_norm_x = np.array(test_syn_norm_x)\n",
        "test_syn_norm_y = np.array(test_syn_norm_y)\n",
        "test_syn_time_x = np.array(test_syn_time_x)\n",
        "test_syn_time_y = np.array(test_syn_time_y)"
      ],
      "metadata": {
        "id": "C0xqGjnbRgON"
      },
      "id": "C0xqGjnbRgON",
      "execution_count": null,
      "outputs": []
    },
    {
      "cell_type": "code",
      "source": [
        "from tensorflow.keras import Input, Sequential\n",
        "from tensorflow.keras.callbacks import EarlyStopping\n",
        "from tensorflow.keras.layers import GRU, Dense\n",
        "from tensorflow.keras.optimizers import Adam\n",
        "from tensorflow.keras.losses import MeanAbsoluteError\n",
        "import tensorflow as tf\n",
        "from sklearn.metrics import r2_score, mean_absolute_error, mean_squared_log_error\n",
        "\n",
        "tf.random.set_seed(7)\n",
        "#First implement a simple RNN model for prediction\n",
        "def RNN_regression(units):\n",
        "    opt = Adam(name='AdamOpt')\n",
        "    loss = MeanAbsoluteError(name='MAE')\n",
        "    model = Sequential()\n",
        "    model.add(GRU(units=units, input_shape=(72,1),\n",
        "                  name=f'RNN_1'))\n",
        "    model.add(Dense(units=6,\n",
        "                    activation='sigmoid',\n",
        "                    name='OUT'))\n",
        "    model.compile(optimizer=opt, loss=loss)\n",
        "    return model"
      ],
      "metadata": {
        "id": "CoTPgQM-SLjf"
      },
      "id": "CoTPgQM-SLjf",
      "execution_count": null,
      "outputs": []
    },
    {
      "cell_type": "code",
      "source": [
        "#Training the model with the real train data\n",
        "ts_real = RNN_regression(72)\n",
        "early_stopping = EarlyStopping(monitor='val_loss', patience=5)\n",
        "\n",
        "real_train = ts_real.fit(x=train_real_x,\n",
        "                          y=train_real_y,\n",
        "                          validation_data=(test_real_x, test_real_y),\n",
        "                          epochs=200,\n",
        "                          batch_size=128,\n",
        "                          callbacks=[early_stopping])"
      ],
      "metadata": {
        "colab": {
          "base_uri": "https://localhost:8080/"
        },
        "id": "TDUR1ZHUSMoo",
        "outputId": "2c4b1b44-0efc-4c15-8c25-6eab044fedeb"
      },
      "id": "TDUR1ZHUSMoo",
      "execution_count": null,
      "outputs": [
        {
          "output_type": "stream",
          "name": "stdout",
          "text": [
            "Epoch 1/200\n",
            "71/71 [==============================] - 4s 12ms/step - loss: 0.1695 - val_loss: 0.1215\n",
            "Epoch 2/200\n",
            "71/71 [==============================] - 0s 6ms/step - loss: 0.0869 - val_loss: 0.0833\n",
            "Epoch 3/200\n",
            "71/71 [==============================] - 0s 6ms/step - loss: 0.0702 - val_loss: 0.0790\n",
            "Epoch 4/200\n",
            "71/71 [==============================] - 0s 5ms/step - loss: 0.0633 - val_loss: 0.0699\n",
            "Epoch 5/200\n",
            "71/71 [==============================] - 0s 5ms/step - loss: 0.0602 - val_loss: 0.0648\n",
            "Epoch 6/200\n",
            "71/71 [==============================] - 0s 5ms/step - loss: 0.0585 - val_loss: 0.0664\n",
            "Epoch 7/200\n",
            "71/71 [==============================] - 0s 5ms/step - loss: 0.0567 - val_loss: 0.0643\n",
            "Epoch 8/200\n",
            "71/71 [==============================] - 0s 5ms/step - loss: 0.0556 - val_loss: 0.0616\n",
            "Epoch 9/200\n",
            "71/71 [==============================] - 0s 6ms/step - loss: 0.0560 - val_loss: 0.0613\n",
            "Epoch 10/200\n",
            "71/71 [==============================] - 0s 6ms/step - loss: 0.0540 - val_loss: 0.0621\n",
            "Epoch 11/200\n",
            "71/71 [==============================] - 0s 6ms/step - loss: 0.0530 - val_loss: 0.0597\n",
            "Epoch 12/200\n",
            "71/71 [==============================] - 0s 6ms/step - loss: 0.0532 - val_loss: 0.0596\n",
            "Epoch 13/200\n",
            "71/71 [==============================] - 0s 5ms/step - loss: 0.0526 - val_loss: 0.0590\n",
            "Epoch 14/200\n",
            "71/71 [==============================] - 0s 5ms/step - loss: 0.0518 - val_loss: 0.0610\n",
            "Epoch 15/200\n",
            "71/71 [==============================] - 0s 5ms/step - loss: 0.0514 - val_loss: 0.0587\n",
            "Epoch 16/200\n",
            "71/71 [==============================] - 0s 5ms/step - loss: 0.0510 - val_loss: 0.0576\n",
            "Epoch 17/200\n",
            "71/71 [==============================] - 0s 5ms/step - loss: 0.0502 - val_loss: 0.0576\n",
            "Epoch 18/200\n",
            "71/71 [==============================] - 0s 5ms/step - loss: 0.0498 - val_loss: 0.0574\n",
            "Epoch 19/200\n",
            "71/71 [==============================] - 0s 5ms/step - loss: 0.0495 - val_loss: 0.0566\n",
            "Epoch 20/200\n",
            "71/71 [==============================] - 0s 5ms/step - loss: 0.0493 - val_loss: 0.0564\n",
            "Epoch 21/200\n",
            "71/71 [==============================] - 0s 5ms/step - loss: 0.0488 - val_loss: 0.0564\n",
            "Epoch 22/200\n",
            "71/71 [==============================] - 0s 5ms/step - loss: 0.0486 - val_loss: 0.0561\n",
            "Epoch 23/200\n",
            "71/71 [==============================] - 0s 5ms/step - loss: 0.0483 - val_loss: 0.0560\n",
            "Epoch 24/200\n",
            "71/71 [==============================] - 0s 5ms/step - loss: 0.0479 - val_loss: 0.0570\n",
            "Epoch 25/200\n",
            "71/71 [==============================] - 0s 5ms/step - loss: 0.0478 - val_loss: 0.0560\n",
            "Epoch 26/200\n",
            "71/71 [==============================] - 0s 5ms/step - loss: 0.0478 - val_loss: 0.0572\n",
            "Epoch 27/200\n",
            "71/71 [==============================] - 0s 5ms/step - loss: 0.0475 - val_loss: 0.0550\n",
            "Epoch 28/200\n",
            "71/71 [==============================] - 0s 5ms/step - loss: 0.0470 - val_loss: 0.0544\n",
            "Epoch 29/200\n",
            "71/71 [==============================] - 0s 5ms/step - loss: 0.0474 - val_loss: 0.0547\n",
            "Epoch 30/200\n",
            "71/71 [==============================] - 0s 5ms/step - loss: 0.0470 - val_loss: 0.0553\n",
            "Epoch 31/200\n",
            "71/71 [==============================] - 0s 5ms/step - loss: 0.0465 - val_loss: 0.0545\n",
            "Epoch 32/200\n",
            "71/71 [==============================] - 0s 5ms/step - loss: 0.0465 - val_loss: 0.0542\n",
            "Epoch 33/200\n",
            "71/71 [==============================] - 0s 5ms/step - loss: 0.0465 - val_loss: 0.0547\n",
            "Epoch 34/200\n",
            "71/71 [==============================] - 0s 5ms/step - loss: 0.0461 - val_loss: 0.0541\n",
            "Epoch 35/200\n",
            "71/71 [==============================] - 0s 5ms/step - loss: 0.0462 - val_loss: 0.0547\n",
            "Epoch 36/200\n",
            "71/71 [==============================] - 0s 5ms/step - loss: 0.0460 - val_loss: 0.0544\n",
            "Epoch 37/200\n",
            "71/71 [==============================] - 0s 5ms/step - loss: 0.0457 - val_loss: 0.0543\n",
            "Epoch 38/200\n",
            "71/71 [==============================] - 0s 5ms/step - loss: 0.0457 - val_loss: 0.0534\n",
            "Epoch 39/200\n",
            "71/71 [==============================] - 0s 5ms/step - loss: 0.0456 - val_loss: 0.0540\n",
            "Epoch 40/200\n",
            "71/71 [==============================] - 0s 5ms/step - loss: 0.0458 - val_loss: 0.0552\n",
            "Epoch 41/200\n",
            "71/71 [==============================] - 0s 5ms/step - loss: 0.0456 - val_loss: 0.0539\n",
            "Epoch 42/200\n",
            "71/71 [==============================] - 0s 6ms/step - loss: 0.0453 - val_loss: 0.0535\n",
            "Epoch 43/200\n",
            "71/71 [==============================] - 0s 5ms/step - loss: 0.0454 - val_loss: 0.0539\n"
          ]
        }
      ]
    },
    {
      "cell_type": "code",
      "source": [
        "# TRTR results\n",
        "real_predictions = ts_real.predict(test_real_x)\n",
        "r2_real = r2_score(test_real_y, real_predictions)\n",
        "mae_real = mean_absolute_error(test_real_y, real_predictions)\n",
        "mrle_real = mean_squared_log_error(test_real_y, real_predictions)\n",
        "print(r2_real)\n",
        "print(mae_real)\n",
        "print(mrle_real)"
      ],
      "metadata": {
        "colab": {
          "base_uri": "https://localhost:8080/"
        },
        "id": "V09hWE_VSOg3",
        "outputId": "a554defa-186a-44a1-ac80-dafd0f200358"
      },
      "id": "V09hWE_VSOg3",
      "execution_count": null,
      "outputs": [
        {
          "output_type": "stream",
          "name": "stdout",
          "text": [
            "73/73 [==============================] - 0s 2ms/step\n",
            "0.8816364512974673\n",
            "0.05388680382197345\n",
            "0.0031146060802814974\n"
          ]
        }
      ]
    },
    {
      "cell_type": "code",
      "source": [
        "#Training the model with the synthetic data from normal GAN\n",
        "ts_norm_syn = RNN_regression(72)\n",
        "early_stopping = EarlyStopping(monitor='val_loss', patience=5)\n",
        "\n",
        "norm_syn_train = ts_norm_syn.fit(x=train_syn_norm_x,\n",
        "                          y=train_syn_norm_y,\n",
        "                          validation_data=(test_real_x, test_real_y),\n",
        "                          epochs=200,\n",
        "                          batch_size=128,\n",
        "                          callbacks=[early_stopping])"
      ],
      "metadata": {
        "colab": {
          "base_uri": "https://localhost:8080/"
        },
        "id": "az9_DI6mT60Z",
        "outputId": "0b51316c-e1ff-41d5-d5c9-77a37c641198"
      },
      "id": "az9_DI6mT60Z",
      "execution_count": null,
      "outputs": [
        {
          "output_type": "stream",
          "name": "stdout",
          "text": [
            "Epoch 1/200\n",
            "71/71 [==============================] - 3s 11ms/step - loss: 0.1415 - val_loss: 0.1143\n",
            "Epoch 2/200\n",
            "71/71 [==============================] - 0s 5ms/step - loss: 0.0681 - val_loss: 0.0839\n",
            "Epoch 3/200\n",
            "71/71 [==============================] - 0s 5ms/step - loss: 0.0573 - val_loss: 0.0746\n",
            "Epoch 4/200\n",
            "71/71 [==============================] - 0s 6ms/step - loss: 0.0526 - val_loss: 0.0703\n",
            "Epoch 5/200\n",
            "71/71 [==============================] - 0s 6ms/step - loss: 0.0498 - val_loss: 0.0679\n",
            "Epoch 6/200\n",
            "71/71 [==============================] - 0s 6ms/step - loss: 0.0489 - val_loss: 0.0664\n",
            "Epoch 7/200\n",
            "71/71 [==============================] - 0s 6ms/step - loss: 0.0476 - val_loss: 0.0648\n",
            "Epoch 8/200\n",
            "71/71 [==============================] - 0s 6ms/step - loss: 0.0470 - val_loss: 0.0640\n",
            "Epoch 9/200\n",
            "71/71 [==============================] - 0s 6ms/step - loss: 0.0465 - val_loss: 0.0634\n",
            "Epoch 10/200\n",
            "71/71 [==============================] - 0s 5ms/step - loss: 0.0456 - val_loss: 0.0639\n",
            "Epoch 11/200\n",
            "71/71 [==============================] - 0s 5ms/step - loss: 0.0453 - val_loss: 0.0622\n",
            "Epoch 12/200\n",
            "71/71 [==============================] - 0s 5ms/step - loss: 0.0448 - val_loss: 0.0617\n",
            "Epoch 13/200\n",
            "71/71 [==============================] - 0s 5ms/step - loss: 0.0445 - val_loss: 0.0615\n",
            "Epoch 14/200\n",
            "71/71 [==============================] - 0s 5ms/step - loss: 0.0442 - val_loss: 0.0619\n",
            "Epoch 15/200\n",
            "71/71 [==============================] - 0s 5ms/step - loss: 0.0436 - val_loss: 0.0608\n",
            "Epoch 16/200\n",
            "71/71 [==============================] - 0s 5ms/step - loss: 0.0433 - val_loss: 0.0606\n",
            "Epoch 17/200\n",
            "71/71 [==============================] - 0s 5ms/step - loss: 0.0429 - val_loss: 0.0614\n",
            "Epoch 18/200\n",
            "71/71 [==============================] - 0s 5ms/step - loss: 0.0427 - val_loss: 0.0595\n",
            "Epoch 19/200\n",
            "71/71 [==============================] - 0s 5ms/step - loss: 0.0423 - val_loss: 0.0598\n",
            "Epoch 20/200\n",
            "71/71 [==============================] - 0s 5ms/step - loss: 0.0423 - val_loss: 0.0589\n",
            "Epoch 21/200\n",
            "71/71 [==============================] - 0s 5ms/step - loss: 0.0418 - val_loss: 0.0596\n",
            "Epoch 22/200\n",
            "71/71 [==============================] - 0s 5ms/step - loss: 0.0416 - val_loss: 0.0586\n",
            "Epoch 23/200\n",
            "71/71 [==============================] - 0s 5ms/step - loss: 0.0416 - val_loss: 0.0583\n",
            "Epoch 24/200\n",
            "71/71 [==============================] - 0s 5ms/step - loss: 0.0415 - val_loss: 0.0584\n",
            "Epoch 25/200\n",
            "71/71 [==============================] - 0s 5ms/step - loss: 0.0415 - val_loss: 0.0592\n",
            "Epoch 26/200\n",
            "71/71 [==============================] - 0s 5ms/step - loss: 0.0411 - val_loss: 0.0585\n",
            "Epoch 27/200\n",
            "71/71 [==============================] - 0s 5ms/step - loss: 0.0410 - val_loss: 0.0583\n",
            "Epoch 28/200\n",
            "71/71 [==============================] - 0s 5ms/step - loss: 0.0410 - val_loss: 0.0587\n"
          ]
        }
      ]
    },
    {
      "cell_type": "code",
      "source": [
        "# TSTR results from normal GAN\n",
        "syn_norm_predictions = ts_norm_syn.predict(test_real_x)\n",
        "r2_syn_norm = r2_score(test_real_y, syn_norm_predictions)\n",
        "mae_syn_norm = mean_absolute_error(test_real_y, syn_norm_predictions)\n",
        "mrle_syn_norm = mean_squared_log_error(test_real_y, syn_norm_predictions)\n",
        "print(r2_syn_norm)\n",
        "print(mae_syn_norm)\n",
        "print(mrle_syn_norm)"
      ],
      "metadata": {
        "colab": {
          "base_uri": "https://localhost:8080/"
        },
        "id": "A8wdjs9sSQiE",
        "outputId": "cc268539-7c96-44f8-d0c4-68318334d872"
      },
      "id": "A8wdjs9sSQiE",
      "execution_count": null,
      "outputs": [
        {
          "output_type": "stream",
          "name": "stdout",
          "text": [
            "73/73 [==============================] - 0s 2ms/step\n",
            "0.8772114754802439\n",
            "0.05868066617200405\n",
            "0.0031185087998677513\n"
          ]
        }
      ]
    },
    {
      "cell_type": "code",
      "source": [
        "#Training the model with the synthetic data from TimeGAN\n",
        "ts_time_syn = RNN_regression(72)\n",
        "early_stopping = EarlyStopping(monitor='val_loss', patience=5)\n",
        "\n",
        "time_syn_train = ts_time_syn.fit(x=train_syn_time_x,\n",
        "                          y=train_syn_time_y,\n",
        "                          validation_data=(test_real_x, test_real_y),\n",
        "                          epochs=200,\n",
        "                          batch_size=128,\n",
        "                          callbacks=[early_stopping])"
      ],
      "metadata": {
        "colab": {
          "base_uri": "https://localhost:8080/"
        },
        "id": "1QT1RlBTSSm8",
        "outputId": "aac853d6-80d7-48c6-f86a-fd9f9e4dce90"
      },
      "id": "1QT1RlBTSSm8",
      "execution_count": null,
      "outputs": [
        {
          "output_type": "stream",
          "name": "stdout",
          "text": [
            "Epoch 1/200\n",
            "71/71 [==============================] - 3s 11ms/step - loss: 0.1149 - val_loss: 0.2249\n",
            "Epoch 2/200\n",
            "71/71 [==============================] - 0s 6ms/step - loss: 0.0864 - val_loss: 0.1273\n",
            "Epoch 3/200\n",
            "71/71 [==============================] - 0s 5ms/step - loss: 0.0564 - val_loss: 0.0897\n",
            "Epoch 4/200\n",
            "71/71 [==============================] - 0s 6ms/step - loss: 0.0381 - val_loss: 0.0778\n",
            "Epoch 5/200\n",
            "71/71 [==============================] - 0s 6ms/step - loss: 0.0343 - val_loss: 0.0745\n",
            "Epoch 6/200\n",
            "71/71 [==============================] - 0s 6ms/step - loss: 0.0315 - val_loss: 0.0746\n",
            "Epoch 7/200\n",
            "71/71 [==============================] - 0s 6ms/step - loss: 0.0306 - val_loss: 0.0753\n",
            "Epoch 8/200\n",
            "71/71 [==============================] - 0s 6ms/step - loss: 0.0289 - val_loss: 0.0745\n",
            "Epoch 9/200\n",
            "71/71 [==============================] - 0s 5ms/step - loss: 0.0281 - val_loss: 0.0724\n",
            "Epoch 10/200\n",
            "71/71 [==============================] - 0s 6ms/step - loss: 0.0277 - val_loss: 0.0731\n",
            "Epoch 11/200\n",
            "71/71 [==============================] - 0s 5ms/step - loss: 0.0275 - val_loss: 0.0730\n",
            "Epoch 12/200\n",
            "71/71 [==============================] - 0s 5ms/step - loss: 0.0268 - val_loss: 0.0721\n",
            "Epoch 13/200\n",
            "71/71 [==============================] - 0s 5ms/step - loss: 0.0261 - val_loss: 0.0712\n",
            "Epoch 14/200\n",
            "71/71 [==============================] - 0s 5ms/step - loss: 0.0259 - val_loss: 0.0705\n",
            "Epoch 15/200\n",
            "71/71 [==============================] - 0s 5ms/step - loss: 0.0256 - val_loss: 0.0702\n",
            "Epoch 16/200\n",
            "71/71 [==============================] - 0s 6ms/step - loss: 0.0250 - val_loss: 0.0685\n",
            "Epoch 17/200\n",
            "71/71 [==============================] - 0s 5ms/step - loss: 0.0247 - val_loss: 0.0681\n",
            "Epoch 18/200\n",
            "71/71 [==============================] - 0s 6ms/step - loss: 0.0244 - val_loss: 0.0671\n",
            "Epoch 19/200\n",
            "71/71 [==============================] - 0s 6ms/step - loss: 0.0239 - val_loss: 0.0648\n",
            "Epoch 20/200\n",
            "71/71 [==============================] - 0s 6ms/step - loss: 0.0233 - val_loss: 0.0643\n",
            "Epoch 21/200\n",
            "71/71 [==============================] - 0s 6ms/step - loss: 0.0230 - val_loss: 0.0644\n",
            "Epoch 22/200\n",
            "71/71 [==============================] - 0s 6ms/step - loss: 0.0227 - val_loss: 0.0645\n",
            "Epoch 23/200\n",
            "71/71 [==============================] - 0s 5ms/step - loss: 0.0224 - val_loss: 0.0634\n",
            "Epoch 24/200\n",
            "71/71 [==============================] - 0s 5ms/step - loss: 0.0222 - val_loss: 0.0630\n",
            "Epoch 25/200\n",
            "71/71 [==============================] - 0s 5ms/step - loss: 0.0215 - val_loss: 0.0634\n",
            "Epoch 26/200\n",
            "71/71 [==============================] - 0s 5ms/step - loss: 0.0217 - val_loss: 0.0627\n",
            "Epoch 27/200\n",
            "71/71 [==============================] - 0s 5ms/step - loss: 0.0213 - val_loss: 0.0620\n",
            "Epoch 28/200\n",
            "71/71 [==============================] - 0s 5ms/step - loss: 0.0212 - val_loss: 0.0621\n",
            "Epoch 29/200\n",
            "71/71 [==============================] - 0s 5ms/step - loss: 0.0212 - val_loss: 0.0632\n",
            "Epoch 30/200\n",
            "71/71 [==============================] - 0s 5ms/step - loss: 0.0208 - val_loss: 0.0641\n",
            "Epoch 31/200\n",
            "71/71 [==============================] - 0s 5ms/step - loss: 0.0210 - val_loss: 0.0646\n",
            "Epoch 32/200\n",
            "71/71 [==============================] - 0s 5ms/step - loss: 0.0206 - val_loss: 0.0623\n"
          ]
        }
      ]
    },
    {
      "cell_type": "code",
      "source": [
        "# TSTR results from TimeGAN\n",
        "syn_time_predictions = ts_time_syn.predict(test_real_x)\n",
        "r2_syn_time = r2_score(test_real_y, syn_time_predictions)\n",
        "mae_syn_time = mean_absolute_error(test_real_y, syn_time_predictions)\n",
        "mrle_syn_time = mean_squared_log_error(test_real_y, syn_time_predictions)\n",
        "print(r2_syn_time)\n",
        "print(mae_syn_time)\n",
        "print(mrle_syn_time)"
      ],
      "metadata": {
        "colab": {
          "base_uri": "https://localhost:8080/"
        },
        "id": "D9I-fLdiSUjA",
        "outputId": "289f2a08-ea70-4f66-8f19-b8a362f173ed"
      },
      "id": "D9I-fLdiSUjA",
      "execution_count": null,
      "outputs": [
        {
          "output_type": "stream",
          "name": "stdout",
          "text": [
            "73/73 [==============================] - 0s 2ms/step\n",
            "0.8622189346451679\n",
            "0.062262109326099935\n",
            "0.003567506087049755\n"
          ]
        }
      ]
    },
    {
      "cell_type": "markdown",
      "source": [
        "visualization of real and synthetic data"
      ],
      "metadata": {
        "id": "hmPmkfi-SYD_"
      },
      "id": "hmPmkfi-SYD_"
    },
    {
      "cell_type": "code",
      "execution_count": null,
      "id": "532c3949-37f8-42e1-970c-f7815805800c",
      "metadata": {
        "id": "532c3949-37f8-42e1-970c-f7815805800c",
        "colab": {
          "base_uri": "https://localhost:8080/",
          "height": 470
        },
        "outputId": "6f475576-4101-44da-a4c6-acf639f3f700"
      },
      "outputs": [
        {
          "output_type": "execute_result",
          "data": {
            "text/plain": [
              "<Axes: title={'center': 'blood glucose (Patient 563)'}>"
            ]
          },
          "metadata": {},
          "execution_count": 34
        },
        {
          "output_type": "display_data",
          "data": {
            "text/plain": [
              "<Figure size 640x480 with 1 Axes>"
            ],
            "image/png": "[encoded data removed]"
          },
          "metadata": {}
        }
      ],
      "source": [
        "cols = 'blood glucose (Patient 563)'\n",
        "\n",
        "df = pd.DataFrame({'Real': real_ori[23], 'Synthetic_normGAN': synth_normgan_nonnorm[23], 'Synthetic_TimeGAN': synth_timegan_nonnorm[9][2][23][:, 0]})\n",
        "df.plot(title = cols,\n",
        "        secondary_y='Synthetic data', style=['-'])"
      ]
    },
    {
      "cell_type": "code",
      "source": [
        "cols = 'blood glucose (Patient 563)'\n",
        "\n",
        "df = pd.DataFrame({'Real': real_ori[2], 'Synthetic_normGAN': synth_normgan_nonnorm[2], 'Synthetic_TimeGAN': synth_timegan_nonnorm[9][2][2][:, 0]})\n",
        "df.plot(title = cols,\n",
        "        secondary_y='Synthetic data', style=['-'])"
      ],
      "metadata": {
        "colab": {
          "base_uri": "https://localhost:8080/",
          "height": 470
        },
        "id": "qpK45fCEp66J",
        "outputId": "b5864105-aaa0-4210-9bf2-008cd593608c"
      },
      "id": "qpK45fCEp66J",
      "execution_count": null,
      "outputs": [
        {
          "output_type": "execute_result",
          "data": {
            "text/plain": [
              "<Axes: title={'center': 'blood glucose (Patient 563)'}>"
            ]
          },
          "metadata": {},
          "execution_count": 35
        },
        {
          "output_type": "display_data",
          "data": {
            "text/plain": [
              "<Figure size 640x480 with 1 Axes>"
            ],
            "image/png": "[encoded data removed]"
          },
          "metadata": {}
        }
      ]
    },
    {
      "cell_type": "code",
      "source": [
        "cols = 'blood glucose (Patient 563)'\n",
        "\n",
        "df = pd.DataFrame({'Real': real_ori[7], 'Synthetic_normGAN': synth_normgan_nonnorm[7], 'Synthetic_TimeGAN': synth_timegan_nonnorm[9][2][7][:, 0]})\n",
        "df.plot(title = cols,\n",
        "        secondary_y='Synthetic data', style=['-'])"
      ],
      "metadata": {
        "colab": {
          "base_uri": "https://localhost:8080/",
          "height": 470
        },
        "id": "ADJ3CbBmqFPe",
        "outputId": "a15c8ef7-756e-4072-9fbc-5be00dd216d5"
      },
      "id": "ADJ3CbBmqFPe",
      "execution_count": null,
      "outputs": [
        {
          "output_type": "execute_result",
          "data": {
            "text/plain": [
              "<Axes: title={'center': 'blood glucose (Patient 563)'}>"
            ]
          },
          "metadata": {},
          "execution_count": 36
        },
        {
          "output_type": "display_data",
          "data": {
            "text/plain": [
              "<Figure size 640x480 with 1 Axes>"
            ],
            "image/png": "[encoded data removed]"
          },
          "metadata": {}
        }
      ]
    },
    {
      "cell_type": "markdown",
      "source": [
        "JS distance and DTW"
      ],
      "metadata": {
        "id": "fHHIgMxPS3_6"
      },
      "id": "fHHIgMxPS3_6"
    },
    {
      "cell_type": "code",
      "source": [
        "# Wilcoxon test\n",
        "res_normgan = wilcoxon(synth_normgan_nonnorm, real_ori, alternative = 'two-sided', zero_method='wilcox')\n",
        "res_timegan = wilcoxon([synth_timegan_nonnorm[9][2][i][:,0] for i in range(54)], real_ori, alternative = 'two-sided', zero_method='wilcox')\n",
        "print('Normal GAN Wiloxon test: {}'.format(mean(res_normgan.pvalue.flatten())))\n",
        "print('TimeGAN Wiloxon test: {}'.format(mean(res_timegan.pvalue.flatten())))\n",
        "\n",
        "# JS distance\n",
        "dis_normgan = distance.jensenshannon(synth_normgan_nonnorm, real_ori, axis=1)\n",
        "dis_timegan = distance.jensenshannon([synth_timegan_nonnorm[9][2][i][:,0] for i in range(54)], real_ori, axis=1)\n",
        "print('Normal JS distance: {}'.format(mean(dis_normgan.flatten())))\n",
        "print('TimeGAN JS distance: {}'.format(mean(dis_timegan.flatten())))\n",
        "\n",
        "# Eculidean distance\n",
        "e_dis_norm = [math.dist(synth_normgan_norm[i], glucose_563[i]) for i in range(len(real_ori))]\n",
        "e_dis_time = [math.dist([synth_timegan_norm[9][2][j][:,0] for j in range(54)][i], glucose_563[i]) for i in range(len(real_ori))]\n",
        "print('Normal Eculidean distance: {}'.format(mean(e_dis_norm)))\n",
        "print('TimeGAN Eculidean distance: {}'.format(mean(e_dis_time)))"
      ],
      "metadata": {
        "id": "kI2oEigmLoBW",
        "colab": {
          "base_uri": "https://localhost:8080/"
        },
        "outputId": "51e4f36e-e276-41d8-e44e-ccbdf9dc1bc2"
      },
      "id": "kI2oEigmLoBW",
      "execution_count": null,
      "outputs": [
        {
          "output_type": "stream",
          "name": "stdout",
          "text": [
            "Normal GAN Wiloxon test: 0.23209271431387252\n",
            "TimeGAN Wiloxon test: 0.47439402513980317\n",
            "Normal JS distance: 0.1186096193638124\n",
            "TimeGAN JS distance: 0.12706814685885096\n",
            "Normal Eculidean distance: 4.602099269042131\n",
            "TimeGAN Eculidean distance: 4.447727408855317\n"
          ]
        }
      ]
    },
    {
      "cell_type": "code",
      "source": [
        "# DTW\n",
        "dtw_normgan = []\n",
        "dtw_timegan = []\n",
        "for i in range(len(real_ori)):\n",
        "  dtw_normgan.append(dtw.distance(synth_normgan_norm[i], glucose_563[i]))\n",
        "  dtw_timegan.append(dtw.distance([synth_timegan_norm[9][2][i][:,0] for i in range(54)][i], glucose_563[i]))"
      ],
      "metadata": {
        "id": "sVWaHFNHmK9i"
      },
      "id": "sVWaHFNHmK9i",
      "execution_count": null,
      "outputs": []
    },
    {
      "cell_type": "code",
      "source": [
        "print('Normal DTW distance: {}'.format(mean(dtw_normgan)))\n",
        "print('TimeGAN DTW distance: {}'.format(mean(dtw_timegan)))"
      ],
      "metadata": {
        "id": "otB6i0cXZR8S",
        "colab": {
          "base_uri": "https://localhost:8080/"
        },
        "outputId": "8ca7739d-8834-4faf-fd3f-93b2a3475148"
      },
      "id": "otB6i0cXZR8S",
      "execution_count": null,
      "outputs": [
        {
          "output_type": "stream",
          "name": "stdout",
          "text": [
            "Normal DTW distance: 2.5622625626764326\n",
            "TimeGAN DTW distance: 2.9090127540232813\n"
          ]
        }
      ]
    },
    {
      "cell_type": "code",
      "source": [
        "df = pd.DataFrame({'Synthetic_normGAN': dtw_normgan, 'Synthetic_TimeGAN': dtw_timegan})\n",
        "df.plot(title = 'The DTW distance', secondary_y='Data index', style=['-'])"
      ],
      "metadata": {
        "colab": {
          "base_uri": "https://localhost:8080/",
          "height": 470
        },
        "id": "gTvlUpM4qsJa",
        "outputId": "484eff3e-c96b-4c60-8c37-4796ffae82bb"
      },
      "id": "gTvlUpM4qsJa",
      "execution_count": null,
      "outputs": [
        {
          "output_type": "execute_result",
          "data": {
            "text/plain": [
              "<Axes: title={'center': 'The DTW distance'}>"
            ]
          },
          "metadata": {},
          "execution_count": 38
        },
        {
          "output_type": "display_data",
          "data": {
            "text/plain": [
              "<Figure size 640x480 with 1 Axes>"
            ],
            "image/png": "[encoded data removed]"
          },
          "metadata": {}
        }
      ]
    },
    {
      "cell_type": "markdown",
      "source": [
        "visualization of PCA and t-SNE"
      ],
      "metadata": {
        "id": "TsAeCYtpS7xa"
      },
      "id": "TsAeCYtpS7xa"
    },
    {
      "cell_type": "code",
      "source": [
        "sample_size = 54\n",
        "idx = np.random.permutation(len(real_ori))[:sample_size]\n",
        "\n",
        "real_sample = np.asarray(real_ori)[idx]\n",
        "\n",
        "synthetic_sample_norm = np.asarray(synth_normgan_nonnorm)[idx]\n",
        "\n",
        "synth_data_reduced = real_sample.reshape(-1, 288)\n",
        "patient_data_reduced_norm = np.asarray(synthetic_sample_norm).reshape(-1,288)\n",
        "\n",
        "n_components = 2\n",
        "pca = PCA(n_components=n_components)\n",
        "tsne = TSNE(n_components=n_components, n_iter=300)\n",
        "\n",
        "#The fit of the methods must be done only using the real sequential data\n",
        "pca.fit(synth_data_reduced)\n",
        "\n",
        "pca_real = pd.DataFrame(pca.transform(synth_data_reduced))\n",
        "pca_synth_norm = pd.DataFrame(pca.transform(patient_data_reduced_norm))\n",
        "\n",
        "data_reduced = np.concatenate((synth_data_reduced, patient_data_reduced_norm), axis=0)\n",
        "tsne_results = pd.DataFrame(tsne.fit_transform(data_reduced))"
      ],
      "metadata": {
        "id": "P2P6aYvcqwux"
      },
      "id": "P2P6aYvcqwux",
      "execution_count": null,
      "outputs": []
    },
    {
      "cell_type": "code",
      "source": [
        "fig = plt.figure(constrained_layout=True, figsize=(15,8))\n",
        "spec = gridspec.GridSpec(ncols=2, nrows=1, figure=fig)\n",
        "\n",
        "#TSNE scatter plot\n",
        "ax = fig.add_subplot(spec[0,0])\n",
        "ax.set_title('PCA results',\n",
        "             fontsize=20,\n",
        "             pad=10)\n",
        "\n",
        "#PCA scatter plot\n",
        "plt.scatter(pca_real.iloc[:, 0].values, pca_real.iloc[:,1].values,\n",
        "            c='black', alpha=0.2, label='Original')\n",
        "plt.scatter(pca_synth_norm.iloc[:,0], pca_synth_norm.iloc[:,1],\n",
        "            c='red', alpha=0.2, label='Synthetic_normGAN')\n",
        "\n",
        "ax.legend()\n",
        "\n",
        "ax2 = fig.add_subplot(spec[0,1])\n",
        "ax2.set_title('TSNE results',\n",
        "              fontsize=20)\n",
        "\n",
        "plt.scatter(tsne_results.iloc[:sample_size, 0].values, tsne_results.iloc[:sample_size,1].values,\n",
        "            c='black', alpha=0.2, label='Original')\n",
        "plt.scatter(tsne_results.iloc[sample_size:,0], tsne_results.iloc[sample_size:,1],\n",
        "            c='red', alpha=0.2, label='Synthetic_norm')\n",
        "\n",
        "ax2.legend()"
      ],
      "metadata": {
        "colab": {
          "base_uri": "https://localhost:8080/",
          "height": 733
        },
        "id": "tRUv0Y_YrAsO",
        "outputId": "b327a260-2943-4b8d-b325-1036768c475c"
      },
      "id": "tRUv0Y_YrAsO",
      "execution_count": null,
      "outputs": [
        {
          "output_type": "execute_result",
          "data": {
            "text/plain": [
              "<matplotlib.legend.Legend at 0x7efd493b6770>"
            ]
          },
          "metadata": {},
          "execution_count": 41
        },
        {
          "output_type": "display_data",
          "data": {
            "text/plain": [
              "<Figure size 1500x800 with 2 Axes>"
            ],
            "image/png": "[encoded data removed]"
          },
          "metadata": {}
        }
      ]
    },
    {
      "cell_type": "code",
      "source": [
        "sample_size = 54\n",
        "idx = np.random.permutation(len(real_ori))[:sample_size]\n",
        "\n",
        "real_sample = np.asarray(real_ori)[idx]\n",
        "\n",
        "synthetic_sample_timegan = np.asarray([synth_timegan_nonnorm[9][2][i][:,0] for i in range(54)])[idx]\n",
        "\n",
        "synth_data_reduced = real_sample.reshape(-1, 288)\n",
        "patient_data_reduced_timegan = np.asarray(synthetic_sample_timegan).reshape(-1,288)\n",
        "\n",
        "n_components = 2\n",
        "pca = PCA(n_components=n_components)\n",
        "tsne = TSNE(n_components=n_components, n_iter=300)\n",
        "\n",
        "#The fit of the methods must be done only using the real sequential data\n",
        "pca.fit(synth_data_reduced)\n",
        "\n",
        "pca_real = pd.DataFrame(pca.transform(synth_data_reduced))\n",
        "pca_synth_timegan = pd.DataFrame(pca.transform(patient_data_reduced_timegan))\n",
        "\n",
        "data_reduced = np.concatenate((synth_data_reduced, patient_data_reduced_timegan), axis=0)\n",
        "tsne_results = pd.DataFrame(tsne.fit_transform(data_reduced))"
      ],
      "metadata": {
        "id": "VNOfmlBbq4T2"
      },
      "id": "VNOfmlBbq4T2",
      "execution_count": null,
      "outputs": []
    },
    {
      "cell_type": "code",
      "source": [
        "fig = plt.figure(constrained_layout=True, figsize=(15,8))\n",
        "spec = gridspec.GridSpec(ncols=2, nrows=1, figure=fig)\n",
        "\n",
        "#TSNE scatter plot\n",
        "ax = fig.add_subplot(spec[0,0])\n",
        "ax.set_title('PCA results',\n",
        "             fontsize=20)\n",
        "\n",
        "#PCA scatter plot\n",
        "plt.scatter(pca_real.iloc[:, 0].values, pca_real.iloc[:,1].values,\n",
        "            c='black', alpha=0.2, label='Original')\n",
        "plt.scatter(pca_synth_timegan.iloc[:,0], pca_synth_timegan.iloc[:,1],\n",
        "            c='red', alpha=0.2, label='Synthetic_timeGAN')\n",
        "\n",
        "ax.legend()\n",
        "\n",
        "ax2 = fig.add_subplot(spec[0,1])\n",
        "ax2.set_title('TSNE results',\n",
        "              fontsize=20)\n",
        "\n",
        "plt.scatter(tsne_results.iloc[:sample_size, 0].values, tsne_results.iloc[:sample_size,1].values,\n",
        "            c='black', alpha=0.2, label='Original')\n",
        "plt.scatter(tsne_results.iloc[sample_size:,0], tsne_results.iloc[sample_size:,1],\n",
        "            c='red', alpha=0.2, label='Synthetic')\n",
        "\n",
        "ax2.legend()"
      ],
      "metadata": {
        "colab": {
          "base_uri": "https://localhost:8080/",
          "height": 733
        },
        "id": "fzHIuUR4rHlY",
        "outputId": "d8bc69fb-b088-453d-a43c-eacba6266347"
      },
      "id": "fzHIuUR4rHlY",
      "execution_count": null,
      "outputs": [
        {
          "output_type": "execute_result",
          "data": {
            "text/plain": [
              "<matplotlib.legend.Legend at 0x7efd49193a60>"
            ]
          },
          "metadata": {},
          "execution_count": 43
        },
        {
          "output_type": "display_data",
          "data": {
            "text/plain": [
              "<Figure size 1500x800 with 2 Axes>"
            ],
            "image/png": "[encoded data removed]"
          },
          "metadata": {}
        }
      ]
    },
    {
      "cell_type": "code",
      "source": [],
      "metadata": {
        "id": "39Bq80sGrJaO"
      },
      "id": "39Bq80sGrJaO",
      "execution_count": null,
      "outputs": []
    }
  ],
  "metadata": {
    "kernelspec": {
      "display_name": "Python 3 (ipykernel)",
      "language": "python",
      "name": "python3"
    },
    "language_info": {
      "codemirror_mode": {
        "name": "ipython",
        "version": 3
      },
      "file_extension": ".py",
      "mimetype": "text/x-python",
      "name": "python",
      "nbconvert_exporter": "python",
      "pygments_lexer": "ipython3",
      "version": "3.9.13"
    },
    "colab": {
      "provenance": [],
      "machine_shape": "hm",
      "gpuType": "A100",
      "gpuClass": "premium"
    },
    "gpuClass": "premium",
    "accelerator": "GPU"
  },
  "nbformat": 4,
  "nbformat_minor": 5
}