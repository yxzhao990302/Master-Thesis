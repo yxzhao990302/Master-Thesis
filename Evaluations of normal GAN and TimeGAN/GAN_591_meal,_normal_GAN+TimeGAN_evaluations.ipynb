{
  "cells": [
    {
      "cell_type": "code",
      "execution_count": null,
      "id": "6a1cd663-ce3a-4fa6-b032-274843aa106c",
      "metadata": {
        "id": "6a1cd663-ce3a-4fa6-b032-274843aa106c"
      },
      "outputs": [],
      "source": [
        "# train a generative adversarial network on a one-dimensional function\n",
        "import pandas as pd\n",
        "from numpy import hstack\n",
        "import numpy as np\n",
        "from datetime import datetime\n",
        "from numpy import zeros\n",
        "from numpy import ones\n",
        "import random\n",
        "from numpy.random import rand\n",
        "from numpy.random import randn\n",
        "from keras.models import Sequential\n",
        "from keras import Input\n",
        "from keras.layers import Dense, Conv1D, LeakyReLU, Reshape, UpSampling1D\n",
        "from keras.optimizers import Adam\n",
        "from matplotlib import pyplot\n",
        "import matplotlib.pyplot as plt \n",
        "from tqdm import tqdm\n",
        "from tensorflow import keras\n",
        "from keras.models import save_model, load_model\n",
        "from statistics import mean, variance, pstdev\n",
        "from sklearn.preprocessing import MinMaxScaler\n",
        "from statistics import mean, variance, pstdev\n",
        "from scipy.spatial import distance\n",
        "from scipy.stats import wilcoxon\n",
        "from collections import defaultdict\n",
        "from PIL import Image\n",
        "import seaborn as sns\n",
        "from sklearn import svm, metrics"
      ]
    },
    {
      "cell_type": "code",
      "source": [
        "from google.colab import drive\n",
        "\n",
        "drive.mount('/content/drive')"
      ],
      "metadata": {
        "colab": {
          "base_uri": "https://localhost:8080/"
        },
        "id": "J-wRkyVB-ZTu",
        "outputId": "238ea380-30b7-4634-834a-9d270a7e2678"
      },
      "id": "J-wRkyVB-ZTu",
      "execution_count": null,
      "outputs": [
        {
          "output_type": "stream",
          "name": "stdout",
          "text": [
            "Mounted at /content/drive\n"
          ]
        }
      ]
    },
    {
      "cell_type": "code",
      "execution_count": null,
      "id": "b857585e-6da2-4ba6-ae42-7619672cf9e7",
      "metadata": {
        "id": "b857585e-6da2-4ba6-ae42-7619672cf9e7"
      },
      "outputs": [],
      "source": [
        "LENGTH_INPUT = 288\n",
        "latent_dim = 500"
      ]
    },
    {
      "cell_type": "markdown",
      "id": "88ea179b-736e-409f-a40d-84b3910af564",
      "metadata": {
        "id": "88ea179b-736e-409f-a40d-84b3910af564"
      },
      "source": [
        "# Prepare training data"
      ]
    },
    {
      "cell_type": "code",
      "execution_count": null,
      "id": "aa56387d-d5d5-4dba-8e90-c8e8086e73a2",
      "metadata": {
        "id": "aa56387d-d5d5-4dba-8e90-c8e8086e73a2"
      },
      "outputs": [],
      "source": [
        "df_591 =  pd.read_csv('/content/drive/MyDrive/Thesis/processed data/591.csv')"
      ]
    },
    {
      "cell_type": "code",
      "execution_count": null,
      "id": "98e176ab-1bed-4e88-8775-288291f4f545",
      "metadata": {
        "id": "98e176ab-1bed-4e88-8775-288291f4f545"
      },
      "outputs": [],
      "source": [
        "df_591['time'] = pd.to_datetime(df_591['time'], dayfirst=True)"
      ]
    },
    {
      "cell_type": "code",
      "execution_count": null,
      "id": "e3d1c33b-21a3-4e2e-8b22-8dee1b477e14",
      "metadata": {
        "id": "e3d1c33b-21a3-4e2e-8b22-8dee1b477e14"
      },
      "outputs": [],
      "source": [
        "df_591['date'] = df_591['time'].apply(lambda x: x.date())\n",
        "dates = df_591['date'].unique()\n",
        "meal_591 = []\n",
        "for date in dates:\n",
        "    meal_591.append(df_591[df_591['date'] == date]['meal_value'].values)"
      ]
    },
    {
      "cell_type": "code",
      "source": [
        "scaler = MinMaxScaler().fit(meal_591)\n",
        "meal_591 = scaler.transform(meal_591)"
      ],
      "metadata": {
        "id": "JqHy8TStAN9u"
      },
      "id": "JqHy8TStAN9u",
      "execution_count": null,
      "outputs": []
    },
    {
      "cell_type": "code",
      "execution_count": null,
      "id": "4b49b5ca-8628-41f6-8a57-6c0cd025831b",
      "metadata": {
        "id": "4b49b5ca-8628-41f6-8a57-6c0cd025831b"
      },
      "outputs": [],
      "source": [
        "meal_591 = np.array(meal_591)\n",
        "y = ones((49, 1))"
      ]
    },
    {
      "cell_type": "code",
      "source": [
        "meal_591.shape"
      ],
      "metadata": {
        "colab": {
          "base_uri": "https://localhost:8080/"
        },
        "id": "0gV-rRzJ4A6A",
        "outputId": "fba34c8a-7c51-47a4-cfa6-e497ed6c8844"
      },
      "id": "0gV-rRzJ4A6A",
      "execution_count": null,
      "outputs": [
        {
          "output_type": "execute_result",
          "data": {
            "text/plain": [
              "(49, 288)"
            ]
          },
          "metadata": {},
          "execution_count": 9
        }
      ]
    },
    {
      "cell_type": "markdown",
      "id": "c0bf7b7b-097e-4379-bc3c-76bd04d57b25",
      "metadata": {
        "id": "c0bf7b7b-097e-4379-bc3c-76bd04d57b25"
      },
      "source": [
        "# Model Architecture"
      ]
    },
    {
      "cell_type": "code",
      "execution_count": null,
      "id": "a9e75e84-1cd4-43f1-aca8-b6e6f6022304",
      "metadata": {
        "id": "a9e75e84-1cd4-43f1-aca8-b6e6f6022304"
      },
      "outputs": [],
      "source": [
        "# define the standalone discriminator model\n",
        "def define_discriminator():\n",
        "    model = Sequential()\n",
        "    \n",
        "    # Dense layer\n",
        "    model.add(Dense(1, input_shape=(288,1)))\n",
        "    model.add(LeakyReLU())\n",
        "    \n",
        "    # Convolutional layer with LeakyReLU activation\n",
        "    model.add(Conv1D(32, kernel_size=4, strides=2, padding='same'))\n",
        "    model.add(LeakyReLU())\n",
        "\n",
        "    # Convolutional layer with LeakyReLU activation\n",
        "    model.add(Conv1D(32, kernel_size=2, strides=2, padding='same'))\n",
        "    model.add(LeakyReLU())\n",
        "    \n",
        "    # Reshape layer\n",
        "    model.add(Reshape((2304,)))\n",
        "    \n",
        "    # Dense layer\n",
        "    model.add(Dense(1, activation='sigmoid'))\n",
        "\n",
        "    opt = Adam(learning_rate=0.0001)\n",
        "    # compile model\n",
        "    model.compile(loss='binary_crossentropy', optimizer=opt, metrics=['accuracy'])\n",
        "    return model"
      ]
    },
    {
      "cell_type": "code",
      "execution_count": null,
      "id": "099c6ec7-5225-4957-bdfc-e5032cd688fd",
      "metadata": {
        "id": "099c6ec7-5225-4957-bdfc-e5032cd688fd"
      },
      "outputs": [],
      "source": [
        "# define the standalone generator model\n",
        "def define_generator():\n",
        "    model = Sequential()\n",
        "    \n",
        "    # Dense layer\n",
        "    model.add(Dense(3600, input_shape=(latent_dim,)))\n",
        "    model.add(LeakyReLU())\n",
        "    \n",
        "    # Reshape layer\n",
        "    model.add(Reshape((72, 50)))\n",
        "    \n",
        "    # Upsampling layer\n",
        "    model.add(UpSampling1D(size=4))\n",
        "    \n",
        "    # Convolutional layer\n",
        "    model.add(Conv1D(filters=32, kernel_size=2, strides=2, padding='same'))\n",
        "    \n",
        "    # Upsampling layer\n",
        "    model.add(UpSampling1D(size=4))\n",
        "    \n",
        "    # Convolutional layer + leaky relu layer\n",
        "    model.add(Conv1D(filters=32, kernel_size=2, strides=2, padding='same'))\n",
        "    model.add(LeakyReLU())\n",
        "    \n",
        "    # Convolutional layer\n",
        "    model.add(Conv1D(filters=1, kernel_size=1, padding='same'))\n",
        "    \n",
        "    model.compile(optimizer='adam')\n",
        "\n",
        "    return model"
      ]
    },
    {
      "cell_type": "code",
      "execution_count": null,
      "id": "953d1808-87ed-407a-8b83-de4d5691df1c",
      "metadata": {
        "id": "953d1808-87ed-407a-8b83-de4d5691df1c"
      },
      "outputs": [],
      "source": [
        "# define the combined generator and discriminator model, for updating the generator\n",
        "def define_gan(generator, discriminator):\n",
        "    # make weights in the discriminator not trainable\n",
        "    discriminator.trainable = False\n",
        "    # connect them\n",
        "    model = Sequential()\n",
        "    model.add(generator)\n",
        "    model.add(discriminator)\n",
        "    opt = Adam(learning_rate=0.0001)\n",
        "    model.compile(loss='binary_crossentropy', optimizer=opt)\n",
        "    return model"
      ]
    },
    {
      "cell_type": "code",
      "execution_count": null,
      "id": "1fcfbcc5-28a1-4324-8fcd-0624f54ef54e",
      "metadata": {
        "id": "1fcfbcc5-28a1-4324-8fcd-0624f54ef54e"
      },
      "outputs": [],
      "source": [
        "# generate points in latent space as input for the generator\n",
        "def generate_latent_points(n):\n",
        "    # generate points in the latent space from the normal distribution\n",
        "    x_input = np.random.normal(size = latent_dim * n)\n",
        "    # reshape into a batch of inputs for the network\n",
        "    x_input = x_input.reshape(n, latent_dim)\n",
        "\n",
        "    return x_input"
      ]
    },
    {
      "cell_type": "code",
      "execution_count": null,
      "id": "7108a5fc-2e71-4530-b6e6-8769f4f165bb",
      "metadata": {
        "id": "7108a5fc-2e71-4530-b6e6-8769f4f165bb"
      },
      "outputs": [],
      "source": [
        "# use the generator to generate n fake examples, with class labels\n",
        "def generate_fake_samples(generator, n):\n",
        "    # generate points in latent space\n",
        "    x_input = generate_latent_points(n)\n",
        "    # predict outputs\n",
        "    X = generator.predict(x_input, verbose=0)\n",
        "    # create class labels\n",
        "    y = zeros((n, 1))\n",
        "\n",
        "    return X, y"
      ]
    },
    {
      "cell_type": "code",
      "execution_count": null,
      "id": "a92cef4f-9d76-4681-b7ca-c19bd10a302c",
      "metadata": {
        "id": "a92cef4f-9d76-4681-b7ca-c19bd10a302c"
      },
      "outputs": [],
      "source": [
        "# train the generator and discriminator\n",
        "def train(g_model, d_model, gan_model, latent_dim, n_epochs=10000, n_batch=49, n_eval=100):\n",
        "    d_loss_list = []\n",
        "    g_loss_list = []\n",
        "    # determine half the size of one batch, for updating the discriminator\n",
        "    half_batch = int(n_batch / 2)+1\n",
        "    \n",
        "    # manually enumerate epochs\n",
        "    for i in tqdm(range(n_epochs)):\n",
        "        \n",
        "        # prepare real samples\n",
        "        rand_index = random.sample(range(0,49), 25)\n",
        "        x_real, y_real = meal_591[rand_index], y[rand_index]\n",
        "        # prepare fake examples\n",
        "        x_fake, y_fake = generate_fake_samples(g_model, half_batch)\n",
        "        \n",
        "        # update discriminator\n",
        "        d_loss_real = d_model.train_on_batch(x_real, y_real)\n",
        "        d_loss_fake = d_model.train_on_batch(x_fake, y_fake)\n",
        "        # average of d_loss_real and d_loss_fake\n",
        "        d_loss = 0.5 * np.add(d_loss_real, d_loss_fake)\n",
        "        d_loss_list.append(d_loss)\n",
        "        #print(d_loss[0])\n",
        "\n",
        "        # prepare points in latent space as input for the generator\n",
        "        #for _ in range(4):\n",
        "        x_gan = generate_latent_points(n_batch)\n",
        "        # create inverted labels for the fake samples\n",
        "        y_gan = ones((n_batch, 1))\n",
        "        # update the generator via the discriminator's error\n",
        "        g_loss = gan_model.train_on_batch(x_gan, y_gan)\n",
        "        g_loss_list.append(g_loss)\n",
        "        \n",
        "       \n",
        "        # evaluate the model every n_eval epochs\n",
        "        if (i+1) % n_eval == 0:\n",
        "            generator.save_weights('/content/drive/MyDrive/Thesis/model/normal_gan/591_meal_0.0005/generator_weights_%d.h5' %(i+1))\n",
        "            print (\"%d [D loss: %f, acc.: %.2f%%] [G loss: %f]\" % (i, d_loss[0], 100*d_loss[1], g_loss))"
      ]
    },
    {
      "cell_type": "code",
      "execution_count": null,
      "id": "ce93ac09-c4d5-41bd-bf88-f89573ab09b6",
      "metadata": {
        "colab": {
          "base_uri": "https://localhost:8080/"
        },
        "id": "ce93ac09-c4d5-41bd-bf88-f89573ab09b6",
        "outputId": "17af9fae-9928-4030-931a-aabf6c6c81fd"
      },
      "outputs": [
        {
          "output_type": "stream",
          "name": "stdout",
          "text": [
            "Model: \"sequential\"\n",
            "_________________________________________________________________\n",
            " Layer (type)                Output Shape              Param #   \n",
            "=================================================================\n",
            " dense (Dense)               (None, 288, 1)            2         \n",
            "                                                                 \n",
            " leaky_re_lu (LeakyReLU)     (None, 288, 1)            0         \n",
            "                                                                 \n",
            " conv1d (Conv1D)             (None, 144, 32)           160       \n",
            "                                                                 \n",
            " leaky_re_lu_1 (LeakyReLU)   (None, 144, 32)           0         \n",
            "                                                                 \n",
            " conv1d_1 (Conv1D)           (None, 72, 32)            2080      \n",
            "                                                                 \n",
            " leaky_re_lu_2 (LeakyReLU)   (None, 72, 32)            0         \n",
            "                                                                 \n",
            " reshape (Reshape)           (None, 2304)              0         \n",
            "                                                                 \n",
            " dense_1 (Dense)             (None, 1)                 2305      \n",
            "                                                                 \n",
            "=================================================================\n",
            "Total params: 4,547\n",
            "Trainable params: 4,547\n",
            "Non-trainable params: 0\n",
            "_________________________________________________________________\n"
          ]
        }
      ],
      "source": [
        "discriminator = define_discriminator()\n",
        "discriminator.summary()"
      ]
    },
    {
      "cell_type": "code",
      "execution_count": null,
      "id": "aa724642-eb06-4e82-8660-14c835a5f8dc",
      "metadata": {
        "id": "aa724642-eb06-4e82-8660-14c835a5f8dc",
        "outputId": "dfb0755f-752a-40ce-c0bc-9d62608d1713",
        "colab": {
          "base_uri": "https://localhost:8080/"
        }
      },
      "outputs": [
        {
          "output_type": "stream",
          "name": "stdout",
          "text": [
            "Model: \"sequential_1\"\n",
            "_________________________________________________________________\n",
            " Layer (type)                Output Shape              Param #   \n",
            "=================================================================\n",
            " dense_2 (Dense)             (None, 3600)              1803600   \n",
            "                                                                 \n",
            " leaky_re_lu_3 (LeakyReLU)   (None, 3600)              0         \n",
            "                                                                 \n",
            " reshape_1 (Reshape)         (None, 72, 50)            0         \n",
            "                                                                 \n",
            " up_sampling1d (UpSampling1D  (None, 288, 50)          0         \n",
            " )                                                               \n",
            "                                                                 \n",
            " conv1d_2 (Conv1D)           (None, 144, 32)           3232      \n",
            "                                                                 \n",
            " up_sampling1d_1 (UpSampling  (None, 576, 32)          0         \n",
            " 1D)                                                             \n",
            "                                                                 \n",
            " conv1d_3 (Conv1D)           (None, 288, 32)           2080      \n",
            "                                                                 \n",
            " leaky_re_lu_4 (LeakyReLU)   (None, 288, 32)           0         \n",
            "                                                                 \n",
            " conv1d_4 (Conv1D)           (None, 288, 1)            33        \n",
            "                                                                 \n",
            "=================================================================\n",
            "Total params: 1,808,945\n",
            "Trainable params: 1,808,945\n",
            "Non-trainable params: 0\n",
            "_________________________________________________________________\n"
          ]
        }
      ],
      "source": [
        "generator = define_generator()\n",
        "generator.summary()"
      ]
    },
    {
      "cell_type": "code",
      "execution_count": null,
      "id": "8c239002-60c4-4b63-8dae-793783b71777",
      "metadata": {
        "id": "8c239002-60c4-4b63-8dae-793783b71777",
        "outputId": "fa12312b-d0df-453f-e3eb-f64fc8c1cafd",
        "colab": {
          "base_uri": "https://localhost:8080/"
        }
      },
      "outputs": [
        {
          "output_type": "stream",
          "name": "stderr",
          "text": [
            "  1%|          | 101/10000 [00:17<1:16:53,  2.15it/s]"
          ]
        },
        {
          "output_type": "stream",
          "name": "stdout",
          "text": [
            "99 [D loss: 0.667535, acc.: 100.00%] [G loss: 0.728910]\n"
          ]
        },
        {
          "output_type": "stream",
          "name": "stderr",
          "text": [
            "  2%|▏         | 201/10000 [00:28<20:22,  8.01it/s]"
          ]
        },
        {
          "output_type": "stream",
          "name": "stdout",
          "text": [
            "199 [D loss: 0.663606, acc.: 100.00%] [G loss: 0.721923]\n"
          ]
        },
        {
          "output_type": "stream",
          "name": "stderr",
          "text": [
            "  3%|▎         | 301/10000 [00:39<19:21,  8.35it/s]"
          ]
        },
        {
          "output_type": "stream",
          "name": "stdout",
          "text": [
            "299 [D loss: 0.667670, acc.: 100.00%] [G loss: 0.710593]\n"
          ]
        },
        {
          "output_type": "stream",
          "name": "stderr",
          "text": [
            "  4%|▍         | 401/10000 [00:51<19:35,  8.17it/s]"
          ]
        },
        {
          "output_type": "stream",
          "name": "stdout",
          "text": [
            "399 [D loss: 0.688004, acc.: 50.00%] [G loss: 0.675887]\n"
          ]
        },
        {
          "output_type": "stream",
          "name": "stderr",
          "text": [
            "  5%|▌         | 501/10000 [01:02<18:55,  8.37it/s]"
          ]
        },
        {
          "output_type": "stream",
          "name": "stdout",
          "text": [
            "499 [D loss: 0.693058, acc.: 50.00%] [G loss: 0.675574]\n"
          ]
        },
        {
          "output_type": "stream",
          "name": "stderr",
          "text": [
            "  6%|▌         | 601/10000 [01:14<19:00,  8.24it/s]"
          ]
        },
        {
          "output_type": "stream",
          "name": "stdout",
          "text": [
            "599 [D loss: 0.690007, acc.: 50.00%] [G loss: 0.686763]\n"
          ]
        },
        {
          "output_type": "stream",
          "name": "stderr",
          "text": [
            "  7%|▋         | 701/10000 [01:25<18:57,  8.17it/s]"
          ]
        },
        {
          "output_type": "stream",
          "name": "stdout",
          "text": [
            "699 [D loss: 0.691044, acc.: 50.00%] [G loss: 0.687349]\n"
          ]
        },
        {
          "output_type": "stream",
          "name": "stderr",
          "text": [
            "  8%|▊         | 801/10000 [01:37<18:08,  8.45it/s]"
          ]
        },
        {
          "output_type": "stream",
          "name": "stdout",
          "text": [
            "799 [D loss: 0.684971, acc.: 94.00%] [G loss: 0.700676]\n"
          ]
        },
        {
          "output_type": "stream",
          "name": "stderr",
          "text": [
            "  9%|▉         | 901/10000 [01:48<18:19,  8.27it/s]"
          ]
        },
        {
          "output_type": "stream",
          "name": "stdout",
          "text": [
            "899 [D loss: 0.690007, acc.: 46.00%] [G loss: 0.689318]\n"
          ]
        },
        {
          "output_type": "stream",
          "name": "stderr",
          "text": [
            " 10%|█         | 1001/10000 [02:01<20:06,  7.46it/s]"
          ]
        },
        {
          "output_type": "stream",
          "name": "stdout",
          "text": [
            "999 [D loss: 0.686885, acc.: 84.00%] [G loss: 0.695253]\n"
          ]
        },
        {
          "output_type": "stream",
          "name": "stderr",
          "text": [
            " 11%|█         | 1101/10000 [02:13<17:55,  8.27it/s]"
          ]
        },
        {
          "output_type": "stream",
          "name": "stdout",
          "text": [
            "1099 [D loss: 0.679269, acc.: 100.00%] [G loss: 0.703189]\n"
          ]
        },
        {
          "output_type": "stream",
          "name": "stderr",
          "text": [
            " 12%|█▏        | 1201/10000 [02:24<17:51,  8.21it/s]"
          ]
        },
        {
          "output_type": "stream",
          "name": "stdout",
          "text": [
            "1199 [D loss: 0.679834, acc.: 88.00%] [G loss: 0.693325]\n"
          ]
        },
        {
          "output_type": "stream",
          "name": "stderr",
          "text": [
            " 13%|█▎        | 1301/10000 [02:36<18:43,  7.74it/s]"
          ]
        },
        {
          "output_type": "stream",
          "name": "stdout",
          "text": [
            "1299 [D loss: 0.675505, acc.: 74.00%] [G loss: 0.687906]\n"
          ]
        },
        {
          "output_type": "stream",
          "name": "stderr",
          "text": [
            " 14%|█▍        | 1401/10000 [02:48<17:53,  8.01it/s]"
          ]
        },
        {
          "output_type": "stream",
          "name": "stdout",
          "text": [
            "1399 [D loss: 0.683227, acc.: 54.00%] [G loss: 0.679205]\n"
          ]
        },
        {
          "output_type": "stream",
          "name": "stderr",
          "text": [
            " 15%|█▌        | 1501/10000 [02:59<17:20,  8.17it/s]"
          ]
        },
        {
          "output_type": "stream",
          "name": "stdout",
          "text": [
            "1499 [D loss: 0.700754, acc.: 48.00%] [G loss: 0.669462]\n"
          ]
        },
        {
          "output_type": "stream",
          "name": "stderr",
          "text": [
            " 16%|█▌        | 1601/10000 [03:11<17:05,  8.19it/s]"
          ]
        },
        {
          "output_type": "stream",
          "name": "stdout",
          "text": [
            "1599 [D loss: 0.661974, acc.: 98.00%] [G loss: 0.723456]\n"
          ]
        },
        {
          "output_type": "stream",
          "name": "stderr",
          "text": [
            " 17%|█▋        | 1701/10000 [03:22<16:31,  8.37it/s]"
          ]
        },
        {
          "output_type": "stream",
          "name": "stdout",
          "text": [
            "1699 [D loss: 0.645873, acc.: 94.00%] [G loss: 0.726337]\n"
          ]
        },
        {
          "output_type": "stream",
          "name": "stderr",
          "text": [
            " 18%|█▊        | 1801/10000 [03:34<16:18,  8.38it/s]"
          ]
        },
        {
          "output_type": "stream",
          "name": "stdout",
          "text": [
            "1799 [D loss: 0.660631, acc.: 74.00%] [G loss: 0.704873]\n"
          ]
        },
        {
          "output_type": "stream",
          "name": "stderr",
          "text": [
            " 19%|█▉        | 1901/10000 [03:45<16:20,  8.26it/s]"
          ]
        },
        {
          "output_type": "stream",
          "name": "stdout",
          "text": [
            "1899 [D loss: 0.655254, acc.: 96.00%] [G loss: 0.730737]\n"
          ]
        },
        {
          "output_type": "stream",
          "name": "stderr",
          "text": [
            " 20%|██        | 2001/10000 [03:58<16:40,  8.00it/s]"
          ]
        },
        {
          "output_type": "stream",
          "name": "stdout",
          "text": [
            "1999 [D loss: 0.654540, acc.: 96.00%] [G loss: 0.719591]\n"
          ]
        },
        {
          "output_type": "stream",
          "name": "stderr",
          "text": [
            " 21%|██        | 2101/10000 [04:09<15:50,  8.31it/s]"
          ]
        },
        {
          "output_type": "stream",
          "name": "stdout",
          "text": [
            "2099 [D loss: 0.637238, acc.: 98.00%] [G loss: 0.742531]\n"
          ]
        },
        {
          "output_type": "stream",
          "name": "stderr",
          "text": [
            " 22%|██▏       | 2201/10000 [04:21<15:53,  8.18it/s]"
          ]
        },
        {
          "output_type": "stream",
          "name": "stdout",
          "text": [
            "2199 [D loss: 0.627765, acc.: 100.00%] [G loss: 0.746842]\n"
          ]
        },
        {
          "output_type": "stream",
          "name": "stderr",
          "text": [
            " 23%|██▎       | 2301/10000 [04:33<15:56,  8.05it/s]"
          ]
        },
        {
          "output_type": "stream",
          "name": "stdout",
          "text": [
            "2299 [D loss: 0.534072, acc.: 100.00%] [G loss: 0.975121]\n"
          ]
        },
        {
          "output_type": "stream",
          "name": "stderr",
          "text": [
            " 24%|██▍       | 2401/10000 [04:44<15:41,  8.07it/s]"
          ]
        },
        {
          "output_type": "stream",
          "name": "stdout",
          "text": [
            "2399 [D loss: 0.615935, acc.: 92.00%] [G loss: 0.699705]\n"
          ]
        },
        {
          "output_type": "stream",
          "name": "stderr",
          "text": [
            " 25%|██▌       | 2501/10000 [04:56<15:17,  8.17it/s]"
          ]
        },
        {
          "output_type": "stream",
          "name": "stdout",
          "text": [
            "2499 [D loss: 0.575413, acc.: 100.00%] [G loss: 0.794333]\n"
          ]
        },
        {
          "output_type": "stream",
          "name": "stderr",
          "text": [
            " 26%|██▌       | 2601/10000 [05:07<15:50,  7.78it/s]"
          ]
        },
        {
          "output_type": "stream",
          "name": "stdout",
          "text": [
            "2599 [D loss: 0.529089, acc.: 100.00%] [G loss: 0.841069]\n"
          ]
        },
        {
          "output_type": "stream",
          "name": "stderr",
          "text": [
            " 27%|██▋       | 2701/10000 [05:18<15:14,  7.98it/s]"
          ]
        },
        {
          "output_type": "stream",
          "name": "stdout",
          "text": [
            "2699 [D loss: 0.729301, acc.: 50.00%] [G loss: 0.526171]\n"
          ]
        },
        {
          "output_type": "stream",
          "name": "stderr",
          "text": [
            " 28%|██▊       | 2801/10000 [05:30<15:07,  7.94it/s]"
          ]
        },
        {
          "output_type": "stream",
          "name": "stdout",
          "text": [
            "2799 [D loss: 0.276101, acc.: 100.00%] [G loss: 1.842410]\n"
          ]
        },
        {
          "output_type": "stream",
          "name": "stderr",
          "text": [
            " 29%|██▉       | 2901/10000 [05:42<17:08,  6.90it/s]"
          ]
        },
        {
          "output_type": "stream",
          "name": "stdout",
          "text": [
            "2899 [D loss: 0.579734, acc.: 98.00%] [G loss: 0.772411]\n"
          ]
        },
        {
          "output_type": "stream",
          "name": "stderr",
          "text": [
            " 30%|███       | 3001/10000 [05:54<13:41,  8.52it/s]"
          ]
        },
        {
          "output_type": "stream",
          "name": "stdout",
          "text": [
            "2999 [D loss: 0.571158, acc.: 96.00%] [G loss: 0.847560]\n"
          ]
        },
        {
          "output_type": "stream",
          "name": "stderr",
          "text": [
            " 31%|███       | 3101/10000 [06:06<14:05,  8.16it/s]"
          ]
        },
        {
          "output_type": "stream",
          "name": "stdout",
          "text": [
            "3099 [D loss: 0.522627, acc.: 98.00%] [G loss: 0.912412]\n"
          ]
        },
        {
          "output_type": "stream",
          "name": "stderr",
          "text": [
            " 32%|███▏      | 3201/10000 [06:17<13:38,  8.31it/s]"
          ]
        },
        {
          "output_type": "stream",
          "name": "stdout",
          "text": [
            "3199 [D loss: 0.488435, acc.: 100.00%] [G loss: 0.996983]\n"
          ]
        },
        {
          "output_type": "stream",
          "name": "stderr",
          "text": [
            " 33%|███▎      | 3301/10000 [06:28<13:21,  8.36it/s]"
          ]
        },
        {
          "output_type": "stream",
          "name": "stdout",
          "text": [
            "3299 [D loss: 0.483154, acc.: 100.00%] [G loss: 0.961664]\n"
          ]
        },
        {
          "output_type": "stream",
          "name": "stderr",
          "text": [
            " 34%|███▍      | 3401/10000 [06:40<13:32,  8.12it/s]"
          ]
        },
        {
          "output_type": "stream",
          "name": "stdout",
          "text": [
            "3399 [D loss: 0.468019, acc.: 98.00%] [G loss: 1.003271]\n"
          ]
        },
        {
          "output_type": "stream",
          "name": "stderr",
          "text": [
            " 35%|███▌      | 3501/10000 [06:51<13:22,  8.10it/s]"
          ]
        },
        {
          "output_type": "stream",
          "name": "stdout",
          "text": [
            "3499 [D loss: 0.409614, acc.: 100.00%] [G loss: 1.043396]\n"
          ]
        },
        {
          "output_type": "stream",
          "name": "stderr",
          "text": [
            " 36%|███▌      | 3601/10000 [07:03<13:02,  8.18it/s]"
          ]
        },
        {
          "output_type": "stream",
          "name": "stdout",
          "text": [
            "3599 [D loss: 0.406353, acc.: 98.00%] [G loss: 1.174599]\n"
          ]
        },
        {
          "output_type": "stream",
          "name": "stderr",
          "text": [
            " 37%|███▋      | 3701/10000 [07:14<13:23,  7.84it/s]"
          ]
        },
        {
          "output_type": "stream",
          "name": "stdout",
          "text": [
            "3699 [D loss: 0.198224, acc.: 100.00%] [G loss: 2.004967]\n"
          ]
        },
        {
          "output_type": "stream",
          "name": "stderr",
          "text": [
            " 38%|███▊      | 3801/10000 [07:26<14:28,  7.14it/s]"
          ]
        },
        {
          "output_type": "stream",
          "name": "stdout",
          "text": [
            "3799 [D loss: 0.449112, acc.: 100.00%] [G loss: 0.864329]\n"
          ]
        },
        {
          "output_type": "stream",
          "name": "stderr",
          "text": [
            " 39%|███▉      | 3901/10000 [07:39<12:48,  7.94it/s]"
          ]
        },
        {
          "output_type": "stream",
          "name": "stdout",
          "text": [
            "3899 [D loss: 0.427150, acc.: 100.00%] [G loss: 1.058785]\n"
          ]
        },
        {
          "output_type": "stream",
          "name": "stderr",
          "text": [
            " 40%|████      | 4001/10000 [07:50<12:19,  8.12it/s]"
          ]
        },
        {
          "output_type": "stream",
          "name": "stdout",
          "text": [
            "3999 [D loss: 0.386368, acc.: 98.00%] [G loss: 1.164536]\n"
          ]
        },
        {
          "output_type": "stream",
          "name": "stderr",
          "text": [
            " 41%|████      | 4101/10000 [08:02<11:45,  8.36it/s]"
          ]
        },
        {
          "output_type": "stream",
          "name": "stdout",
          "text": [
            "4099 [D loss: 0.326858, acc.: 100.00%] [G loss: 1.257603]\n"
          ]
        },
        {
          "output_type": "stream",
          "name": "stderr",
          "text": [
            " 42%|████▏     | 4201/10000 [08:13<11:37,  8.31it/s]"
          ]
        },
        {
          "output_type": "stream",
          "name": "stdout",
          "text": [
            "4199 [D loss: 0.295213, acc.: 98.00%] [G loss: 1.370754]\n"
          ]
        },
        {
          "output_type": "stream",
          "name": "stderr",
          "text": [
            " 43%|████▎     | 4301/10000 [08:24<11:28,  8.28it/s]"
          ]
        },
        {
          "output_type": "stream",
          "name": "stdout",
          "text": [
            "4299 [D loss: 0.301553, acc.: 100.00%] [G loss: 1.408965]\n"
          ]
        },
        {
          "output_type": "stream",
          "name": "stderr",
          "text": [
            " 44%|████▍     | 4401/10000 [08:36<11:16,  8.28it/s]"
          ]
        },
        {
          "output_type": "stream",
          "name": "stdout",
          "text": [
            "4399 [D loss: 0.124998, acc.: 100.00%] [G loss: 2.770646]\n"
          ]
        },
        {
          "output_type": "stream",
          "name": "stderr",
          "text": [
            " 45%|████▌     | 4501/10000 [08:47<10:55,  8.39it/s]"
          ]
        },
        {
          "output_type": "stream",
          "name": "stdout",
          "text": [
            "4499 [D loss: 0.048378, acc.: 100.00%] [G loss: 3.418344]\n"
          ]
        },
        {
          "output_type": "stream",
          "name": "stderr",
          "text": [
            " 46%|████▌     | 4601/10000 [08:59<10:46,  8.35it/s]"
          ]
        },
        {
          "output_type": "stream",
          "name": "stdout",
          "text": [
            "4599 [D loss: 0.289598, acc.: 98.00%] [G loss: 1.534168]\n"
          ]
        },
        {
          "output_type": "stream",
          "name": "stderr",
          "text": [
            " 47%|████▋     | 4701/10000 [09:10<10:38,  8.30it/s]"
          ]
        },
        {
          "output_type": "stream",
          "name": "stdout",
          "text": [
            "4699 [D loss: 0.289027, acc.: 98.00%] [G loss: 1.398229]\n"
          ]
        },
        {
          "output_type": "stream",
          "name": "stderr",
          "text": [
            " 48%|████▊     | 4801/10000 [09:23<11:10,  7.75it/s]"
          ]
        },
        {
          "output_type": "stream",
          "name": "stdout",
          "text": [
            "4799 [D loss: 0.247073, acc.: 96.00%] [G loss: 1.615503]\n"
          ]
        },
        {
          "output_type": "stream",
          "name": "stderr",
          "text": [
            " 49%|████▉     | 4901/10000 [09:35<10:26,  8.14it/s]"
          ]
        },
        {
          "output_type": "stream",
          "name": "stdout",
          "text": [
            "4899 [D loss: 0.209869, acc.: 98.00%] [G loss: 1.823589]\n"
          ]
        },
        {
          "output_type": "stream",
          "name": "stderr",
          "text": [
            " 50%|█████     | 5001/10000 [09:46<10:30,  7.92it/s]"
          ]
        },
        {
          "output_type": "stream",
          "name": "stdout",
          "text": [
            "4999 [D loss: 0.185334, acc.: 100.00%] [G loss: 1.835822]\n"
          ]
        },
        {
          "output_type": "stream",
          "name": "stderr",
          "text": [
            " 51%|█████     | 5101/10000 [09:57<10:19,  7.91it/s]"
          ]
        },
        {
          "output_type": "stream",
          "name": "stdout",
          "text": [
            "5099 [D loss: 0.151439, acc.: 100.00%] [G loss: 1.941839]\n"
          ]
        },
        {
          "output_type": "stream",
          "name": "stderr",
          "text": [
            " 52%|█████▏    | 5201/10000 [10:09<09:44,  8.21it/s]"
          ]
        },
        {
          "output_type": "stream",
          "name": "stdout",
          "text": [
            "5199 [D loss: 0.117710, acc.: 100.00%] [G loss: 2.131762]\n"
          ]
        },
        {
          "output_type": "stream",
          "name": "stderr",
          "text": [
            " 53%|█████▎    | 5301/10000 [10:20<09:26,  8.29it/s]"
          ]
        },
        {
          "output_type": "stream",
          "name": "stdout",
          "text": [
            "5299 [D loss: 0.076956, acc.: 100.00%] [G loss: 3.879740]\n"
          ]
        },
        {
          "output_type": "stream",
          "name": "stderr",
          "text": [
            " 54%|█████▍    | 5401/10000 [10:32<09:47,  7.83it/s]"
          ]
        },
        {
          "output_type": "stream",
          "name": "stdout",
          "text": [
            "5399 [D loss: 0.018676, acc.: 100.00%] [G loss: 4.588500]\n"
          ]
        },
        {
          "output_type": "stream",
          "name": "stderr",
          "text": [
            " 55%|█████▌    | 5501/10000 [10:43<09:18,  8.05it/s]"
          ]
        },
        {
          "output_type": "stream",
          "name": "stdout",
          "text": [
            "5499 [D loss: 0.172429, acc.: 100.00%] [G loss: 1.792093]\n"
          ]
        },
        {
          "output_type": "stream",
          "name": "stderr",
          "text": [
            " 56%|█████▌    | 5601/10000 [10:55<08:47,  8.34it/s]"
          ]
        },
        {
          "output_type": "stream",
          "name": "stdout",
          "text": [
            "5599 [D loss: 0.185675, acc.: 98.00%] [G loss: 1.938986]\n"
          ]
        },
        {
          "output_type": "stream",
          "name": "stderr",
          "text": [
            " 57%|█████▋    | 5701/10000 [11:07<10:13,  7.01it/s]"
          ]
        },
        {
          "output_type": "stream",
          "name": "stdout",
          "text": [
            "5699 [D loss: 0.177264, acc.: 98.00%] [G loss: 1.876434]\n"
          ]
        },
        {
          "output_type": "stream",
          "name": "stderr",
          "text": [
            " 58%|█████▊    | 5801/10000 [11:19<08:41,  8.04it/s]"
          ]
        },
        {
          "output_type": "stream",
          "name": "stdout",
          "text": [
            "5799 [D loss: 0.120804, acc.: 100.00%] [G loss: 2.023794]\n"
          ]
        },
        {
          "output_type": "stream",
          "name": "stderr",
          "text": [
            " 59%|█████▉    | 5901/10000 [11:31<08:12,  8.32it/s]"
          ]
        },
        {
          "output_type": "stream",
          "name": "stdout",
          "text": [
            "5899 [D loss: 0.099164, acc.: 100.00%] [G loss: 2.340706]\n"
          ]
        },
        {
          "output_type": "stream",
          "name": "stderr",
          "text": [
            " 60%|██████    | 6001/10000 [11:42<07:54,  8.42it/s]"
          ]
        },
        {
          "output_type": "stream",
          "name": "stdout",
          "text": [
            "5999 [D loss: 0.097095, acc.: 100.00%] [G loss: 2.436320]\n"
          ]
        },
        {
          "output_type": "stream",
          "name": "stderr",
          "text": [
            " 61%|██████    | 6101/10000 [11:54<07:53,  8.24it/s]"
          ]
        },
        {
          "output_type": "stream",
          "name": "stdout",
          "text": [
            "6099 [D loss: 0.089652, acc.: 100.00%] [G loss: 2.642850]\n"
          ]
        },
        {
          "output_type": "stream",
          "name": "stderr",
          "text": [
            " 62%|██████▏   | 6201/10000 [12:05<07:54,  8.00it/s]"
          ]
        },
        {
          "output_type": "stream",
          "name": "stdout",
          "text": [
            "6199 [D loss: 0.043073, acc.: 100.00%] [G loss: 3.884743]\n"
          ]
        },
        {
          "output_type": "stream",
          "name": "stderr",
          "text": [
            " 63%|██████▎   | 6301/10000 [12:16<07:56,  7.77it/s]"
          ]
        },
        {
          "output_type": "stream",
          "name": "stdout",
          "text": [
            "6299 [D loss: 0.015047, acc.: 100.00%] [G loss: 5.096924]\n"
          ]
        },
        {
          "output_type": "stream",
          "name": "stderr",
          "text": [
            " 64%|██████▍   | 6401/10000 [12:28<07:11,  8.33it/s]"
          ]
        },
        {
          "output_type": "stream",
          "name": "stdout",
          "text": [
            "6399 [D loss: 0.018895, acc.: 100.00%] [G loss: 3.754782]\n"
          ]
        },
        {
          "output_type": "stream",
          "name": "stderr",
          "text": [
            " 65%|██████▌   | 6501/10000 [12:39<06:59,  8.34it/s]"
          ]
        },
        {
          "output_type": "stream",
          "name": "stdout",
          "text": [
            "6499 [D loss: 0.094277, acc.: 100.00%] [G loss: 2.318355]\n"
          ]
        },
        {
          "output_type": "stream",
          "name": "stderr",
          "text": [
            " 66%|██████▌   | 6601/10000 [12:51<06:45,  8.38it/s]"
          ]
        },
        {
          "output_type": "stream",
          "name": "stdout",
          "text": [
            "6599 [D loss: 0.087905, acc.: 100.00%] [G loss: 2.470567]\n"
          ]
        },
        {
          "output_type": "stream",
          "name": "stderr",
          "text": [
            " 67%|██████▋   | 6701/10000 [13:03<07:21,  7.47it/s]"
          ]
        },
        {
          "output_type": "stream",
          "name": "stdout",
          "text": [
            "6699 [D loss: 0.084474, acc.: 100.00%] [G loss: 2.619726]\n"
          ]
        },
        {
          "output_type": "stream",
          "name": "stderr",
          "text": [
            " 68%|██████▊   | 6801/10000 [13:15<06:30,  8.19it/s]"
          ]
        },
        {
          "output_type": "stream",
          "name": "stdout",
          "text": [
            "6799 [D loss: 0.071757, acc.: 100.00%] [G loss: 2.810510]\n"
          ]
        },
        {
          "output_type": "stream",
          "name": "stderr",
          "text": [
            " 69%|██████▉   | 6901/10000 [13:27<06:14,  8.29it/s]"
          ]
        },
        {
          "output_type": "stream",
          "name": "stdout",
          "text": [
            "6899 [D loss: 0.069680, acc.: 100.00%] [G loss: 2.993136]\n"
          ]
        },
        {
          "output_type": "stream",
          "name": "stderr",
          "text": [
            " 70%|███████   | 7001/10000 [13:38<06:06,  8.18it/s]"
          ]
        },
        {
          "output_type": "stream",
          "name": "stdout",
          "text": [
            "6999 [D loss: 0.042872, acc.: 100.00%] [G loss: 3.063794]\n"
          ]
        },
        {
          "output_type": "stream",
          "name": "stderr",
          "text": [
            " 71%|███████   | 7101/10000 [13:49<05:48,  8.32it/s]"
          ]
        },
        {
          "output_type": "stream",
          "name": "stdout",
          "text": [
            "7099 [D loss: 0.052289, acc.: 100.00%] [G loss: 3.177672]\n"
          ]
        },
        {
          "output_type": "stream",
          "name": "stderr",
          "text": [
            " 72%|███████▏  | 7201/10000 [14:01<05:40,  8.22it/s]"
          ]
        },
        {
          "output_type": "stream",
          "name": "stdout",
          "text": [
            "7199 [D loss: 0.039037, acc.: 100.00%] [G loss: 3.233906]\n"
          ]
        },
        {
          "output_type": "stream",
          "name": "stderr",
          "text": [
            " 73%|███████▎  | 7301/10000 [14:12<05:28,  8.21it/s]"
          ]
        },
        {
          "output_type": "stream",
          "name": "stdout",
          "text": [
            "7299 [D loss: 0.031470, acc.: 100.00%] [G loss: 3.472179]\n"
          ]
        },
        {
          "output_type": "stream",
          "name": "stderr",
          "text": [
            " 74%|███████▍  | 7401/10000 [14:23<05:26,  7.95it/s]"
          ]
        },
        {
          "output_type": "stream",
          "name": "stdout",
          "text": [
            "7399 [D loss: 0.032818, acc.: 100.00%] [G loss: 3.857921]\n"
          ]
        },
        {
          "output_type": "stream",
          "name": "stderr",
          "text": [
            " 75%|███████▌  | 7501/10000 [14:35<05:12,  8.00it/s]"
          ]
        },
        {
          "output_type": "stream",
          "name": "stdout",
          "text": [
            "7499 [D loss: 0.027748, acc.: 100.00%] [G loss: 3.509751]\n"
          ]
        },
        {
          "output_type": "stream",
          "name": "stderr",
          "text": [
            " 76%|███████▌  | 7601/10000 [14:47<05:45,  6.95it/s]"
          ]
        },
        {
          "output_type": "stream",
          "name": "stdout",
          "text": [
            "7599 [D loss: 0.033360, acc.: 100.00%] [G loss: 3.911923]\n"
          ]
        },
        {
          "output_type": "stream",
          "name": "stderr",
          "text": [
            " 77%|███████▋  | 7701/10000 [14:59<04:46,  8.03it/s]"
          ]
        },
        {
          "output_type": "stream",
          "name": "stdout",
          "text": [
            "7699 [D loss: 0.024718, acc.: 100.00%] [G loss: 3.920067]\n"
          ]
        },
        {
          "output_type": "stream",
          "name": "stderr",
          "text": [
            " 78%|███████▊  | 7801/10000 [15:11<04:24,  8.32it/s]"
          ]
        },
        {
          "output_type": "stream",
          "name": "stdout",
          "text": [
            "7799 [D loss: 0.024150, acc.: 100.00%] [G loss: 3.954276]\n"
          ]
        },
        {
          "output_type": "stream",
          "name": "stderr",
          "text": [
            " 79%|███████▉  | 7901/10000 [15:22<04:08,  8.44it/s]"
          ]
        },
        {
          "output_type": "stream",
          "name": "stdout",
          "text": [
            "7899 [D loss: 0.021736, acc.: 100.00%] [G loss: 3.963770]\n"
          ]
        },
        {
          "output_type": "stream",
          "name": "stderr",
          "text": [
            " 80%|████████  | 8001/10000 [15:34<04:01,  8.28it/s]"
          ]
        },
        {
          "output_type": "stream",
          "name": "stdout",
          "text": [
            "7999 [D loss: 0.014726, acc.: 100.00%] [G loss: 4.213299]\n"
          ]
        },
        {
          "output_type": "stream",
          "name": "stderr",
          "text": [
            " 81%|████████  | 8101/10000 [15:45<03:48,  8.31it/s]"
          ]
        },
        {
          "output_type": "stream",
          "name": "stdout",
          "text": [
            "8099 [D loss: 0.013123, acc.: 100.00%] [G loss: 4.390962]\n"
          ]
        },
        {
          "output_type": "stream",
          "name": "stderr",
          "text": [
            " 82%|████████▏ | 8201/10000 [15:56<03:39,  8.20it/s]"
          ]
        },
        {
          "output_type": "stream",
          "name": "stdout",
          "text": [
            "8199 [D loss: 0.011506, acc.: 100.00%] [G loss: 4.430156]\n"
          ]
        },
        {
          "output_type": "stream",
          "name": "stderr",
          "text": [
            " 83%|████████▎ | 8301/10000 [16:08<03:32,  7.98it/s]"
          ]
        },
        {
          "output_type": "stream",
          "name": "stdout",
          "text": [
            "8299 [D loss: 0.009539, acc.: 100.00%] [G loss: 4.598544]\n"
          ]
        },
        {
          "output_type": "stream",
          "name": "stderr",
          "text": [
            " 84%|████████▍ | 8401/10000 [16:20<03:15,  8.16it/s]"
          ]
        },
        {
          "output_type": "stream",
          "name": "stdout",
          "text": [
            "8399 [D loss: 0.015608, acc.: 100.00%] [G loss: 4.581220]\n"
          ]
        },
        {
          "output_type": "stream",
          "name": "stderr",
          "text": [
            " 85%|████████▌ | 8501/10000 [16:31<03:08,  7.94it/s]"
          ]
        },
        {
          "output_type": "stream",
          "name": "stdout",
          "text": [
            "8499 [D loss: 0.018803, acc.: 100.00%] [G loss: 4.784324]\n"
          ]
        },
        {
          "output_type": "stream",
          "name": "stderr",
          "text": [
            " 86%|████████▌ | 8601/10000 [16:44<03:19,  7.02it/s]"
          ]
        },
        {
          "output_type": "stream",
          "name": "stdout",
          "text": [
            "8599 [D loss: 0.011990, acc.: 100.00%] [G loss: 4.979907]\n"
          ]
        },
        {
          "output_type": "stream",
          "name": "stderr",
          "text": [
            " 87%|████████▋ | 8701/10000 [16:56<02:41,  8.05it/s]"
          ]
        },
        {
          "output_type": "stream",
          "name": "stdout",
          "text": [
            "8699 [D loss: 0.013715, acc.: 100.00%] [G loss: 4.754710]\n"
          ]
        },
        {
          "output_type": "stream",
          "name": "stderr",
          "text": [
            " 88%|████████▊ | 8801/10000 [17:07<02:31,  7.91it/s]"
          ]
        },
        {
          "output_type": "stream",
          "name": "stdout",
          "text": [
            "8799 [D loss: 0.009255, acc.: 100.00%] [G loss: 4.673913]\n"
          ]
        },
        {
          "output_type": "stream",
          "name": "stderr",
          "text": [
            " 89%|████████▉ | 8901/10000 [17:18<02:13,  8.24it/s]"
          ]
        },
        {
          "output_type": "stream",
          "name": "stdout",
          "text": [
            "8899 [D loss: 0.005070, acc.: 100.00%] [G loss: 5.070112]\n"
          ]
        },
        {
          "output_type": "stream",
          "name": "stderr",
          "text": [
            " 90%|█████████ | 9001/10000 [17:30<01:58,  8.42it/s]"
          ]
        },
        {
          "output_type": "stream",
          "name": "stdout",
          "text": [
            "8999 [D loss: 0.006046, acc.: 100.00%] [G loss: 5.313550]\n"
          ]
        },
        {
          "output_type": "stream",
          "name": "stderr",
          "text": [
            " 91%|█████████ | 9101/10000 [17:41<01:47,  8.33it/s]"
          ]
        },
        {
          "output_type": "stream",
          "name": "stdout",
          "text": [
            "9099 [D loss: 0.006036, acc.: 100.00%] [G loss: 5.153294]\n"
          ]
        },
        {
          "output_type": "stream",
          "name": "stderr",
          "text": [
            " 92%|█████████▏| 9201/10000 [17:53<01:36,  8.29it/s]"
          ]
        },
        {
          "output_type": "stream",
          "name": "stdout",
          "text": [
            "9199 [D loss: 0.005843, acc.: 100.00%] [G loss: 5.219004]\n"
          ]
        },
        {
          "output_type": "stream",
          "name": "stderr",
          "text": [
            " 93%|█████████▎| 9301/10000 [18:04<01:23,  8.40it/s]"
          ]
        },
        {
          "output_type": "stream",
          "name": "stdout",
          "text": [
            "9299 [D loss: 0.004947, acc.: 100.00%] [G loss: 5.658822]\n"
          ]
        },
        {
          "output_type": "stream",
          "name": "stderr",
          "text": [
            " 94%|█████████▍| 9401/10000 [18:16<01:11,  8.40it/s]"
          ]
        },
        {
          "output_type": "stream",
          "name": "stdout",
          "text": [
            "9399 [D loss: 0.004113, acc.: 100.00%] [G loss: 5.579445]\n"
          ]
        },
        {
          "output_type": "stream",
          "name": "stderr",
          "text": [
            " 95%|█████████▌| 9500/10000 [18:27<01:03,  7.87it/s]"
          ]
        },
        {
          "output_type": "stream",
          "name": "stdout",
          "text": [
            "9499 [D loss: 0.004952, acc.: 100.00%] [G loss: 5.591416]\n"
          ]
        },
        {
          "output_type": "stream",
          "name": "stderr",
          "text": [
            " 96%|█████████▌| 9601/10000 [18:40<00:50,  7.90it/s]"
          ]
        },
        {
          "output_type": "stream",
          "name": "stdout",
          "text": [
            "9599 [D loss: 0.002959, acc.: 100.00%] [G loss: 5.725499]\n"
          ]
        },
        {
          "output_type": "stream",
          "name": "stderr",
          "text": [
            " 97%|█████████▋| 9701/10000 [18:52<00:35,  8.35it/s]"
          ]
        },
        {
          "output_type": "stream",
          "name": "stdout",
          "text": [
            "9699 [D loss: 0.003254, acc.: 100.00%] [G loss: 5.878184]\n"
          ]
        },
        {
          "output_type": "stream",
          "name": "stderr",
          "text": [
            " 98%|█████████▊| 9801/10000 [19:03<00:24,  8.02it/s]"
          ]
        },
        {
          "output_type": "stream",
          "name": "stdout",
          "text": [
            "9799 [D loss: 0.003465, acc.: 100.00%] [G loss: 6.028880]\n"
          ]
        },
        {
          "output_type": "stream",
          "name": "stderr",
          "text": [
            " 99%|█████████▉| 9901/10000 [19:15<00:12,  7.82it/s]"
          ]
        },
        {
          "output_type": "stream",
          "name": "stdout",
          "text": [
            "9899 [D loss: 0.002215, acc.: 100.00%] [G loss: 6.089159]\n"
          ]
        },
        {
          "output_type": "stream",
          "name": "stderr",
          "text": [
            "100%|██████████| 10000/10000 [19:26<00:00,  8.57it/s]"
          ]
        },
        {
          "output_type": "stream",
          "name": "stdout",
          "text": [
            "9999 [D loss: 0.002616, acc.: 100.00%] [G loss: 6.172937]\n"
          ]
        },
        {
          "output_type": "stream",
          "name": "stderr",
          "text": [
            "\n"
          ]
        }
      ],
      "source": [
        "# create the gan\n",
        "gan_model = define_gan(generator, discriminator)\n",
        "# train model\n",
        "train(generator, discriminator, gan_model, latent_dim)"
      ]
    },
    {
      "cell_type": "markdown",
      "source": [
        "# Evaluation"
      ],
      "metadata": {
        "id": "V1n0vGcDZZkD"
      },
      "id": "V1n0vGcDZZkD"
    },
    {
      "cell_type": "code",
      "source": [
        "synth_norm_list = []\n",
        "for i in tqdm(range(1, 101)):\n",
        "  generator.load_weights('/content/drive/MyDrive/Thesis/model/normal_gan/591_meal_0.0005/generator_weights_' + str(i*100) + '.h5')\n",
        "\n",
        "  synth, _ = generate_fake_samples(generator, 49)\n",
        "  synth = synth.reshape(49,288)\n",
        "\n",
        "  synth_norm_list.append(synth)"
      ],
      "metadata": {
        "colab": {
          "base_uri": "https://localhost:8080/"
        },
        "id": "DZcTslcTZn4P",
        "outputId": "d3e4b3f0-2ee5-407d-c483-0f01fb721153"
      },
      "id": "DZcTslcTZn4P",
      "execution_count": null,
      "outputs": [
        {
          "output_type": "stream",
          "name": "stderr",
          "text": [
            "100%|██████████| 100/100 [02:43<00:00,  1.64s/it]\n"
          ]
        }
      ]
    },
    {
      "cell_type": "code",
      "source": [
        "# save normalized synthetic data\n",
        "np.save(\"/content/drive/MyDrive/Thesis/best model/normgan_meal/591_normalized.npy\",synth_norm_list)"
      ],
      "metadata": {
        "id": "6H_jVunPctUG"
      },
      "id": "6H_jVunPctUG",
      "execution_count": null,
      "outputs": []
    },
    {
      "cell_type": "code",
      "source": [
        "for i in range(len(synth_norm_list)):\n",
        "  synth_norm_list[i] = scaler.inverse_transform(synth_norm_list[i])"
      ],
      "metadata": {
        "id": "Nqm0o6-QpwOc"
      },
      "id": "Nqm0o6-QpwOc",
      "execution_count": null,
      "outputs": []
    },
    {
      "cell_type": "code",
      "source": [
        "# save unnormalized synthetic data\n",
        "np.save(\"/content/drive/MyDrive/Thesis/best model/normgan_meal/591_unnormalized.npy\",synth_norm_list)"
      ],
      "metadata": {
        "id": "HzvryA5Mp5-q"
      },
      "id": "HzvryA5Mp5-q",
      "execution_count": null,
      "outputs": []
    },
    {
      "cell_type": "markdown",
      "source": [
        "Visualizations of normal GAN and TimeGAN"
      ],
      "metadata": {
        "id": "kLCiNV1jpNQ-"
      },
      "id": "kLCiNV1jpNQ-"
    },
    {
      "cell_type": "code",
      "source": [
        "synth_normgan_nonnorm = np.load(\"/content/drive/MyDrive/Thesis/best model/normgan_meal/591_unnormalized.npy\")\n",
        "synth_normgan_norm = np.load(\"/content/drive/MyDrive/Thesis/best model/normgan_meal/591_normalized.npy\")\n",
        "synth_timegan_nonnorm = np.load(\"/content/drive/MyDrive/Thesis/best model/timegan_591_128/synthetic_data_nonorm.npy\")\n",
        "synth_timegan_norm = np.load(\"/content/drive/MyDrive/Thesis/best model/timegan_591_128/synthetic_data.npy\")\n",
        "real_ori = scaler.inverse_transform(meal_591)"
      ],
      "metadata": {
        "id": "BeINFdJepdZT"
      },
      "id": "BeINFdJepdZT",
      "execution_count": null,
      "outputs": []
    },
    {
      "cell_type": "code",
      "source": [
        "def seqAverage(ts, n, feature_window_size):\n",
        "\n",
        "    sub_ts_list = []\n",
        "\n",
        "    for i in range(0, n - n % feature_window_size, feature_window_size):\n",
        "        sub_ts = ts[i: i + feature_window_size]\n",
        "        sub_ts_list.append(sub_ts.mean())\n",
        "    \n",
        "    return pd.DataFrame(sub_ts_list)"
      ],
      "metadata": {
        "id": "iXy4OjL4m5br"
      },
      "id": "iXy4OjL4m5br",
      "execution_count": null,
      "outputs": []
    },
    {
      "cell_type": "code",
      "source": [
        "# discretize y values\n",
        "def discretize(ts, bins=None, global_min=None, global_max=None):\n",
        "    ts = seqAverage(ts, 288, 6)\n",
        "\n",
        "    if np.isscalar(bins):\n",
        "        num_bins = bins\n",
        "\n",
        "        min_value = ts.min()[0]\n",
        "        #print(min_value)\n",
        "        max_value = ts.max()[0]\n",
        "        #print(max_value)\n",
        "        if min_value == max_value:\n",
        "            min_value = global_min\n",
        "            max_value = global_max\n",
        "        step = (max_value - min_value) / num_bins\n",
        "        ts_bins = np.arange(min_value, max_value, step)\n",
        "    else:\n",
        "        ts_bins = bins\n",
        "\n",
        "    inds = np.digitize(ts, ts_bins)\n",
        "    binned_ts = tuple(str(i - 1) for i in inds)\n",
        "    return binned_ts"
      ],
      "metadata": {
        "id": "8sNMUhaBXwuv"
      },
      "id": "8sNMUhaBXwuv",
      "execution_count": null,
      "outputs": []
    },
    {
      "cell_type": "code",
      "source": [
        "def get_bitmap(chunk, level_size=2):\n",
        "    \"\"\"\n",
        "\n",
        "    :param str chunk: symbol sequence representation of a univariate time series\n",
        "    :param int level_size: desired level of recursion of the bitmap\n",
        "    :return : bitmap representation of `chunk`\n",
        "    \"\"\"\n",
        "    bitmap = defaultdict(int)\n",
        "    n = len(chunk)\n",
        "\n",
        "    for i in range(n):\n",
        "        if i <= n - level_size:\n",
        "            feat = chunk[i: i + level_size]\n",
        "            bitmap[feat] += 1  # frequency count\n",
        "    max_freq = max(bitmap.values())\n",
        "    for feat in bitmap.keys():\n",
        "        #print(bitmap[feat])\n",
        "        #print(max_freq)\n",
        "        bitmap[feat] = bitmap[feat] / max_freq\n",
        "    return bitmap"
      ],
      "metadata": {
        "id": "oL-miJt4msv6"
      },
      "id": "oL-miJt4msv6",
      "execution_count": null,
      "outputs": []
    },
    {
      "cell_type": "code",
      "execution_count": null,
      "id": "532c3949-37f8-42e1-970c-f7815805800c",
      "metadata": {
        "id": "532c3949-37f8-42e1-970c-f7815805800c"
      },
      "outputs": [],
      "source": [
        "def imageList(bitmap):\n",
        "  final_list = [[0 for i in range(4)] for j in range(4)]\n",
        "  for key, value in bitmap.items():\n",
        "      num1 = int(key[0][1])\n",
        "      num2 = int(key[1][1])\n",
        "      \n",
        "      if num1 == 0:\n",
        "          if num2 == 0:\n",
        "              final_list[0][0] = value\n",
        "          elif num2 == 1:\n",
        "              final_list[0][1] = value\n",
        "          elif num2 == 2:\n",
        "              final_list[1][0] = value\n",
        "          elif num2 == 3:\n",
        "              final_list[1][1] = value\n",
        "      elif num1 == 1:\n",
        "          if num2 == 0:\n",
        "              final_list[0][2] = value\n",
        "          elif num2 == 1:\n",
        "              final_list[0][3] = value\n",
        "          elif num2 == 2:\n",
        "              final_list[1][2] = value\n",
        "          elif num2 == 3:\n",
        "              final_list[1][3] = value\n",
        "      elif num1 == 2:\n",
        "          if num2 == 0:\n",
        "              final_list[2][0] = value\n",
        "          elif num2 == 1:\n",
        "              final_list[2][1] = value\n",
        "          elif num2 == 2:\n",
        "              final_list[3][0] = value\n",
        "          elif num2 == 3:\n",
        "              final_list[3][1] = value\n",
        "      elif num1 == 3:\n",
        "          if num2 == 0:\n",
        "              final_list[2][2] = value\n",
        "          elif num2 == 1:\n",
        "              final_list[2][3] = value\n",
        "          elif num2 == 2:\n",
        "              final_list[3][2] = value\n",
        "          elif num2 == 3:\n",
        "              final_list[3][3] = value\n",
        "  \n",
        "  return final_list"
      ]
    },
    {
      "cell_type": "code",
      "source": [
        "def showImage(final_list):\n",
        "  plt.imshow(final_list, cmap='jet', interpolation='nearest')\n",
        "  plt.colorbar()\n",
        "  plt.axis('off')\n",
        "  plt.show()"
      ],
      "metadata": {
        "id": "_Y6hBDmt9H7Y"
      },
      "id": "_Y6hBDmt9H7Y",
      "execution_count": null,
      "outputs": []
    },
    {
      "cell_type": "code",
      "source": [
        "# average value of original data from all days\n",
        "total_ori = []\n",
        "list_mean_ori = 0\n",
        "for i in range(49):\n",
        "  bitmap_ori = get_bitmap(discretize(pd.DataFrame(meal_591[i]), 4))\n",
        "  total_ori.append(imageList(bitmap_ori))\n",
        "\n",
        "for i in range(len(total_ori)):\n",
        "  list_mean_ori = list_mean_ori + np.array(total_ori[i])\n",
        "  list_mean_ori = list_mean_ori/len(total_ori)"
      ],
      "metadata": {
        "id": "0-d31VQlw0FW"
      },
      "id": "0-d31VQlw0FW",
      "execution_count": null,
      "outputs": []
    },
    {
      "cell_type": "code",
      "source": [
        "# average value of TimeGAN synthetic data from all days\n",
        "total_timegan = []\n",
        "list_mean_timegan = 0\n",
        "for i in range(49):\n",
        "  bitmap_timegan = get_bitmap(discretize(pd.DataFrame(synth_timegan_norm[7][0][i][:,1]), 4))\n",
        "  total_timegan.append(imageList(bitmap_timegan))\n",
        "\n",
        "for i in range(len(total_timegan)):\n",
        "  list_mean_timegan = list_mean_timegan + np.array(total_timegan[i])\n",
        "  list_mean_timegan = list_mean_timegan/len(total_timegan)"
      ],
      "metadata": {
        "id": "Ja8U4y0JzFEo"
      },
      "id": "Ja8U4y0JzFEo",
      "execution_count": null,
      "outputs": []
    },
    {
      "cell_type": "code",
      "source": [
        "# average value of normal GAN synthetic data from all days\n",
        "total_normgan = []\n",
        "list_mean_normgan = 0\n",
        "for i in range(49):\n",
        "  bitmap_normgan = get_bitmap(discretize(pd.DataFrame(synth_normgan_norm[90][i]), 4))\n",
        "  total_normgan.append(imageList(bitmap_normgan))\n",
        "\n",
        "for i in range(len(total_normgan)):\n",
        "  list_mean_normgan = list_mean_normgan + np.array(total_normgan[i])\n",
        "  list_mean_normgan = list_mean_normgan/len(total_normgan)"
      ],
      "metadata": {
        "id": "zhWR_S0Hzn3Y"
      },
      "id": "zhWR_S0Hzn3Y",
      "execution_count": null,
      "outputs": []
    },
    {
      "cell_type": "code",
      "source": [
        "showImage(list_mean_ori)"
      ],
      "metadata": {
        "colab": {
          "base_uri": "https://localhost:8080/",
          "height": 415
        },
        "id": "9eMYJw5P0PW4",
        "outputId": "fb41bc8c-bb1a-405e-f001-a8e13e56088d"
      },
      "id": "9eMYJw5P0PW4",
      "execution_count": null,
      "outputs": [
        {
          "output_type": "display_data",
          "data": {
            "text/plain": [
              "<Figure size 640x480 with 2 Axes>"
            ],
            "image/png": "[encoded data removed]"
          },
          "metadata": {}
        }
      ]
    },
    {
      "cell_type": "code",
      "source": [
        "showImage(list_mean_timegan)"
      ],
      "metadata": {
        "colab": {
          "base_uri": "https://localhost:8080/",
          "height": 415
        },
        "id": "CtYskPOI0HOv",
        "outputId": "b0c3e45b-2874-482f-dc11-4688cb29c231"
      },
      "id": "CtYskPOI0HOv",
      "execution_count": null,
      "outputs": [
        {
          "output_type": "display_data",
          "data": {
            "text/plain": [
              "<Figure size 640x480 with 2 Axes>"
            ],
            "image/png": "[encoded data removed]"
          },
          "metadata": {}
        }
      ]
    },
    {
      "cell_type": "code",
      "source": [
        "showImage(list_mean_normgan)"
      ],
      "metadata": {
        "colab": {
          "base_uri": "https://localhost:8080/",
          "height": 415
        },
        "id": "BJszV4lS0CTB",
        "outputId": "4fe2f3c9-ce15-45de-ac1e-e2a8c88e5bfd"
      },
      "id": "BJszV4lS0CTB",
      "execution_count": null,
      "outputs": [
        {
          "output_type": "display_data",
          "data": {
            "text/plain": [
              "<Figure size 640x480 with 2 Axes>"
            ],
            "image/png": "[encoded data removed]"
          },
          "metadata": {}
        }
      ]
    },
    {
      "cell_type": "code",
      "source": [
        "cols = 'meal event (Patient 591)'\n",
        "\n",
        "df = pd.DataFrame({'Real': real_ori[35], 'Synthetic_normGAN': synth_normgan_nonnorm[90][35], 'Synthetic_TimeGAN': synth_timegan_nonnorm[7][0][35][:, 1]})\n",
        "df.plot(title = cols,\n",
        "        secondary_y='Synthetic data', style=['-'])"
      ],
      "metadata": {
        "colab": {
          "base_uri": "https://localhost:8080/",
          "height": 470
        },
        "id": "9XBT5O5Or0NW",
        "outputId": "6e6af509-bc75-42b7-f7ce-f65ae7d48d4d"
      },
      "id": "9XBT5O5Or0NW",
      "execution_count": null,
      "outputs": [
        {
          "output_type": "execute_result",
          "data": {
            "text/plain": [
              "<Axes: title={'center': 'meal event (Patient 591)'}>"
            ]
          },
          "metadata": {},
          "execution_count": 40
        },
        {
          "output_type": "display_data",
          "data": {
            "text/plain": [
              "<Figure size 640x480 with 1 Axes>"
            ],
            "image/png": "[encoded data removed]"
          },
          "metadata": {}
        }
      ]
    },
    {
      "cell_type": "code",
      "source": [],
      "metadata": {
        "id": "D0iZTz9ooccy"
      },
      "id": "D0iZTz9ooccy",
      "execution_count": null,
      "outputs": []
    },
    {
      "cell_type": "markdown",
      "source": [
        "SVM"
      ],
      "metadata": {
        "id": "1mHd-Viv6MHH"
      },
      "id": "1mHd-Viv6MHH"
    },
    {
      "cell_type": "code",
      "source": [
        "synth_normgan_nonnorm = np.load(\"/content/drive/MyDrive/Thesis/best model/normgan_meal/591_unnormalized.npy\")\n",
        "synth_normgan_norm = np.load(\"/content/drive/MyDrive/Thesis/best model/normgan_meal/591_normalized.npy\")\n",
        "synth_timegan_nonnorm = np.load(\"/content/drive/MyDrive/Thesis/best model/timegan_591_128/synthetic_data_nonorm.npy\")\n",
        "synth_timegan_norm = np.load(\"/content/drive/MyDrive/Thesis/best model/timegan_591_128/synthetic_data.npy\")"
      ],
      "metadata": {
        "id": "k2tdi0uj6OLU"
      },
      "id": "k2tdi0uj6OLU",
      "execution_count": null,
      "outputs": []
    },
    {
      "cell_type": "code",
      "source": [
        "def getSVM(lamda, times):\n",
        "  # value < 0.01 -> 0\n",
        "  for i in range(len(meal_591)):\n",
        "    for j in range(len(meal_591[0])):\n",
        "      if abs(synth_timegan_norm[7][0][i][j,1]) < lamda:\n",
        "        synth_timegan_norm[7][0][i][j,1] = 0\n",
        "      if abs(synth_normgan_norm[90][i][j]) < lamda:\n",
        "        synth_normgan_norm[90][i][j] = 0\n",
        "\n",
        "  x_real_norm = meal_591.tolist()\n",
        "  y_real_norm = my_list = [1]*49\n",
        "  x_real_time = meal_591.tolist()\n",
        "  y_real_time = my_list = [1]*49\n",
        "\n",
        "  x_timegan = [synth_timegan_norm[7][0][i][:,1].tolist() for i in range(49)]\n",
        "  y_timegan = [0]*49\n",
        "  x_normgan = synth_normgan_norm[90]\n",
        "  y_normgan = [0]*49\n",
        "\n",
        "\n",
        "  x_real_norm.extend(x_normgan)\n",
        "  y_real_norm.extend(y_normgan)\n",
        "  x_real_time.extend(x_timegan)\n",
        "  y_real_time.extend(y_timegan)\n",
        "\n",
        "  accuracy_norm = []\n",
        "  accuracy_time = []\n",
        "  for i in range(times):\n",
        "    numbers = list(range(98))\n",
        "    num_selected_70 = random.sample(numbers, int(0.7*len(numbers)))\n",
        "    num_selected_30 = list(set(numbers) - set(num_selected_70))\n",
        "\n",
        "    training_x_norm = [x_real_norm[num_selected_70[i]] for i in range(len(num_selected_70))]\n",
        "    test_x_norm = [x_real_norm[num_selected_30[i]] for i in range(len(num_selected_30))]\n",
        "    training_y_norm = [y_real_norm[num_selected_70[i]] for i in range(len(num_selected_70))]\n",
        "    test_y_norm = [y_real_norm[num_selected_30[i]] for i in range(len(num_selected_30))]\n",
        "\n",
        "\n",
        "    training_x_time = [x_real_time[num_selected_70[i]] for i in range(len(num_selected_70))]\n",
        "    test_x_time = [x_real_time[num_selected_30[i]] for i in range(len(num_selected_30))]\n",
        "    training_y_time = [y_real_time[num_selected_70[i]] for i in range(len(num_selected_70))]\n",
        "    test_y_time = [y_real_time[num_selected_30[i]] for i in range(len(num_selected_30))]\n",
        "\n",
        "    \n",
        "    classifier_norm = svm.SVC()\n",
        "    classifier_time = svm.SVC()\n",
        "\n",
        "    # Train the classifier on the training data\n",
        "    classifier_norm.fit(training_x_norm, training_y_norm)\n",
        "    classifier_time.fit(training_x_time, training_y_time)\n",
        "\n",
        "    # Predict the labels of the test data\n",
        "    y_pred_norm = classifier_norm.predict(test_x_norm)\n",
        "    y_pred_time = classifier_time.predict(test_x_time)\n",
        "\n",
        "    # Calculate the accuracy and F1 score of the classifier\n",
        "    accuracy_norm.append(metrics.accuracy_score(test_y_norm, y_pred_norm))\n",
        "    accuracy_time.append(metrics.accuracy_score(test_y_time, y_pred_time))\n",
        "\n",
        "  return accuracy_norm, accuracy_time"
      ],
      "metadata": {
        "id": "vD4YuSExGsbW"
      },
      "id": "vD4YuSExGsbW",
      "execution_count": null,
      "outputs": []
    },
    {
      "cell_type": "code",
      "source": [
        "acc_norm_0, acc_time_0 = getSVM(0, 10)\n",
        "acc_norm_1e2, acc_time_1e2 = getSVM(0.01, 10)\n",
        "acc_norm_2, acc_time_2 = getSVM(0.02, 10)\n",
        "acc_norm_5, acc_time_5 = getSVM(0.05, 10)\n",
        "acc_norm_1, acc_time_1 = getSVM(0.1, 10)"
      ],
      "metadata": {
        "id": "Ek-2e-s0Hz8J"
      },
      "id": "Ek-2e-s0Hz8J",
      "execution_count": null,
      "outputs": []
    },
    {
      "cell_type": "code",
      "source": [
        "\n",
        "λ = [0,0.01,0.02,0.05,0.1,0,0.01,0.02,0.05,0.1]\n",
        "model_type = ['normGAN','normGAN','normGAN','normGAN','normGAN','TimeGAN','TimeGAN','TimeGAN','TimeGAN','TimeGAN']\n",
        "acc = [mean(acc_norm_0), mean(acc_norm_1e2), mean(acc_norm_2), mean(acc_norm_5), mean(acc_norm_1), mean(acc_time_0), mean(acc_time_1e2), mean(acc_time_2), mean(acc_time_5), mean(acc_time_1)]\n",
        "df_svm = pd.DataFrame(list(zip(λ, model_type, acc)), columns = ['λ', 'model', 'acc'])\n",
        "\n",
        "ax = sns.barplot(x=\"model\", y=\"acc\", hue=\"λ\", data=df_svm, width=0.5)\n",
        "\n",
        "ax.set_ylim([0.8, 1])\n",
        "#ax.set_yticks([0.9, 0.92, 0.94, 0.96, 0.98, 1.0])\n",
        "ax.set_xlabel(\"Model type\")\n",
        "ax.set_ylabel(\"Accuracy\")\n",
        "plt.show()"
      ],
      "metadata": {
        "id": "uHYXq3fO7MJy",
        "colab": {
          "base_uri": "https://localhost:8080/",
          "height": 455
        },
        "outputId": "7033cc1d-4456-42b0-8715-3a5d9d6100d4"
      },
      "id": "uHYXq3fO7MJy",
      "execution_count": null,
      "outputs": [
        {
          "output_type": "display_data",
          "data": {
            "text/plain": [
              "<Figure size 640x480 with 1 Axes>"
            ],
            "image/png": "[encoded data removed]"
          },
          "metadata": {}
        }
      ]
    },
    {
      "cell_type": "code",
      "source": [],
      "metadata": {
        "id": "58ONRKo9EKqp"
      },
      "id": "58ONRKo9EKqp",
      "execution_count": null,
      "outputs": []
    }
  ],
  "metadata": {
    "kernelspec": {
      "display_name": "Python 3 (ipykernel)",
      "language": "python",
      "name": "python3"
    },
    "language_info": {
      "codemirror_mode": {
        "name": "ipython",
        "version": 3
      },
      "file_extension": ".py",
      "mimetype": "text/x-python",
      "name": "python",
      "nbconvert_exporter": "python",
      "pygments_lexer": "ipython3",
      "version": "3.9.13"
    },
    "colab": {
      "provenance": [],
      "machine_shape": "hm",
      "gpuClass": "premium"
    },
    "gpuClass": "premium"
  },
  "nbformat": 4,
  "nbformat_minor": 5
}