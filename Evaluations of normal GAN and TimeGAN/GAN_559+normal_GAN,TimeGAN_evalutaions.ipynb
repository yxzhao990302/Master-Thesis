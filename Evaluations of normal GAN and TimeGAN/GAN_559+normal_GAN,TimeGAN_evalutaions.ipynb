{
  "cells": [
    {
      "cell_type": "code",
      "execution_count": null,
      "id": "6a1cd663-ce3a-4fa6-b032-274843aa106c",
      "metadata": {
        "id": "6a1cd663-ce3a-4fa6-b032-274843aa106c"
      },
      "outputs": [],
      "source": [
        "# train a generative adversarial network on a one-dimensional function\n",
        "import pandas as pd\n",
        "from numpy import hstack\n",
        "import numpy as np\n",
        "from datetime import datetime\n",
        "from numpy import zeros\n",
        "from numpy import ones\n",
        "import random\n",
        "from numpy.random import rand\n",
        "from numpy.random import randn\n",
        "from keras.models import Sequential\n",
        "from keras import Input\n",
        "from keras.layers import Dense, Conv1D, LeakyReLU, Reshape, UpSampling1D\n",
        "from keras.optimizers import Adam\n",
        "from matplotlib import pyplot\n",
        "import matplotlib.pyplot as plt \n",
        "from tqdm import tqdm\n",
        "from tensorflow import keras\n",
        "from keras.models import save_model, load_model\n",
        "from statistics import mean, variance, pstdev\n",
        "from sklearn.preprocessing import MinMaxScaler\n",
        "from statistics import mean, variance, pstdev\n",
        "from scipy.spatial import distance\n",
        "from scipy.stats import wilcoxon\n",
        "from dtaidistance import dtw\n",
        "from sklearn.decomposition import PCA\n",
        "from sklearn.manifold import TSNE\n",
        "import matplotlib.gridspec as gridspec\n",
        "from keras.utils.vis_utils import plot_model\n",
        "import math"
      ]
    },
    {
      "cell_type": "code",
      "source": [
        "!pip install dtaidistance"
      ],
      "metadata": {
        "colab": {
          "base_uri": "https://localhost:8080/"
        },
        "id": "Z7_-EtTjiaB2",
        "outputId": "d40b1195-de03-48b1-b1c1-530a8b293b82"
      },
      "id": "Z7_-EtTjiaB2",
      "execution_count": null,
      "outputs": [
        {
          "output_type": "stream",
          "name": "stdout",
          "text": [
            "Looking in indexes: https://pypi.org/simple, https://us-python.pkg.dev/colab-wheels/public/simple/\n",
            "Collecting dtaidistance\n",
            "  Downloading dtaidistance-2.3.10-cp310-cp310-manylinux_2_17_x86_64.manylinux2014_x86_64.whl (2.4 MB)\n",
            "\u001b[2K     \u001b[90m━━━━━━━━━━━━━━━━━━━━━━━━━━━━━━━━━━━━━━━━\u001b[0m \u001b[32m2.4/2.4 MB\u001b[0m \u001b[31m19.0 MB/s\u001b[0m eta \u001b[36m0:00:00\u001b[0m\n",
            "\u001b[?25hRequirement already satisfied: numpy in /usr/local/lib/python3.10/dist-packages (from dtaidistance) (1.22.4)\n",
            "Installing collected packages: dtaidistance\n",
            "Successfully installed dtaidistance-2.3.10\n"
          ]
        }
      ]
    },
    {
      "cell_type": "code",
      "source": [
        "from google.colab import drive\n",
        "\n",
        "drive.mount('/content/drive')"
      ],
      "metadata": {
        "colab": {
          "base_uri": "https://localhost:8080/"
        },
        "id": "J-wRkyVB-ZTu",
        "outputId": "b9f3e8f0-23b1-4f87-ff04-069b8dd76549"
      },
      "id": "J-wRkyVB-ZTu",
      "execution_count": null,
      "outputs": [
        {
          "output_type": "stream",
          "name": "stdout",
          "text": [
            "Mounted at /content/drive\n"
          ]
        }
      ]
    },
    {
      "cell_type": "code",
      "execution_count": null,
      "id": "b857585e-6da2-4ba6-ae42-7619672cf9e7",
      "metadata": {
        "id": "b857585e-6da2-4ba6-ae42-7619672cf9e7"
      },
      "outputs": [],
      "source": [
        "LENGTH_INPUT = 288\n",
        "latent_dim = 500"
      ]
    },
    {
      "cell_type": "markdown",
      "id": "88ea179b-736e-409f-a40d-84b3910af564",
      "metadata": {
        "id": "88ea179b-736e-409f-a40d-84b3910af564"
      },
      "source": [
        "# Prepare training data"
      ]
    },
    {
      "cell_type": "code",
      "execution_count": null,
      "id": "aa56387d-d5d5-4dba-8e90-c8e8086e73a2",
      "metadata": {
        "id": "aa56387d-d5d5-4dba-8e90-c8e8086e73a2"
      },
      "outputs": [],
      "source": [
        "df_559 =  pd.read_csv('/content/drive/MyDrive/Thesis/processed data/559.csv')"
      ]
    },
    {
      "cell_type": "code",
      "execution_count": null,
      "id": "98e176ab-1bed-4e88-8775-288291f4f545",
      "metadata": {
        "id": "98e176ab-1bed-4e88-8775-288291f4f545"
      },
      "outputs": [],
      "source": [
        "df_559['time'] = pd.to_datetime(df_559['time'], dayfirst=True)"
      ]
    },
    {
      "cell_type": "code",
      "execution_count": null,
      "id": "e3d1c33b-21a3-4e2e-8b22-8dee1b477e14",
      "metadata": {
        "id": "e3d1c33b-21a3-4e2e-8b22-8dee1b477e14"
      },
      "outputs": [],
      "source": [
        "df_559['date'] = df_559['time'].apply(lambda x: x.date())\n",
        "dates = df_559['date'].unique()\n",
        "glucose_559 = []\n",
        "for date in dates:\n",
        "    glucose_559.append(df_559[df_559['date'] == date]['glucose_value'].values)"
      ]
    },
    {
      "cell_type": "code",
      "source": [
        "scaler = MinMaxScaler().fit(glucose_559)\n",
        "glucose_559 = scaler.transform(glucose_559)"
      ],
      "metadata": {
        "id": "JqHy8TStAN9u"
      },
      "id": "JqHy8TStAN9u",
      "execution_count": null,
      "outputs": []
    },
    {
      "cell_type": "code",
      "execution_count": null,
      "id": "4b49b5ca-8628-41f6-8a57-6c0cd025831b",
      "metadata": {
        "id": "4b49b5ca-8628-41f6-8a57-6c0cd025831b"
      },
      "outputs": [],
      "source": [
        "glucose_559 = np.array(glucose_559)\n",
        "y = ones((49, 1))"
      ]
    },
    {
      "cell_type": "code",
      "source": [
        "glucose_559.shape"
      ],
      "metadata": {
        "colab": {
          "base_uri": "https://localhost:8080/"
        },
        "id": "PXsFgr1_7e7f",
        "outputId": "550eb9b9-39f3-4f45-9c14-dceb7be61fbe"
      },
      "id": "PXsFgr1_7e7f",
      "execution_count": null,
      "outputs": [
        {
          "output_type": "execute_result",
          "data": {
            "text/plain": [
              "(49, 288)"
            ]
          },
          "metadata": {},
          "execution_count": 10
        }
      ]
    },
    {
      "cell_type": "markdown",
      "id": "c0bf7b7b-097e-4379-bc3c-76bd04d57b25",
      "metadata": {
        "id": "c0bf7b7b-097e-4379-bc3c-76bd04d57b25"
      },
      "source": [
        "# Model Architecture"
      ]
    },
    {
      "cell_type": "code",
      "execution_count": null,
      "id": "a9e75e84-1cd4-43f1-aca8-b6e6f6022304",
      "metadata": {
        "id": "a9e75e84-1cd4-43f1-aca8-b6e6f6022304"
      },
      "outputs": [],
      "source": [
        "# define the standalone discriminator model\n",
        "def define_discriminator():\n",
        "    model = Sequential()\n",
        "    \n",
        "    # Dense layer\n",
        "    model.add(Dense(1, input_shape=(288,1)))\n",
        "    model.add(LeakyReLU())\n",
        "    \n",
        "    # Convolutional layer with LeakyReLU activation\n",
        "    model.add(Conv1D(32, kernel_size=4, strides=2, padding='same'))\n",
        "    model.add(LeakyReLU())\n",
        "\n",
        "    # Convolutional layer with LeakyReLU activation\n",
        "    model.add(Conv1D(32, kernel_size=2, strides=2, padding='same'))\n",
        "    model.add(LeakyReLU())\n",
        "    \n",
        "    # Reshape layer\n",
        "    model.add(Reshape((2304,)))\n",
        "    \n",
        "    # Dense layer\n",
        "    model.add(Dense(1, activation='sigmoid'))\n",
        "\n",
        "    opt = Adam(lr=0.0005)\n",
        "    # compile model\n",
        "    model.compile(loss='binary_crossentropy', optimizer=opt, metrics=['accuracy'])\n",
        "    return model"
      ]
    },
    {
      "cell_type": "code",
      "execution_count": null,
      "id": "099c6ec7-5225-4957-bdfc-e5032cd688fd",
      "metadata": {
        "id": "099c6ec7-5225-4957-bdfc-e5032cd688fd"
      },
      "outputs": [],
      "source": [
        "# define the standalone generator model\n",
        "def define_generator():\n",
        "    model = Sequential()\n",
        "    \n",
        "    # Dense layer\n",
        "    model.add(Dense(3600, input_shape=(latent_dim,)))\n",
        "    model.add(LeakyReLU())\n",
        "    \n",
        "    # Reshape layer\n",
        "    model.add(Reshape((72, 50)))\n",
        "    \n",
        "    # Upsampling layer\n",
        "    model.add(UpSampling1D(size=4))\n",
        "    \n",
        "    # Convolutional layer\n",
        "    model.add(Conv1D(filters=32, kernel_size=2, strides=2, padding='same'))\n",
        "    \n",
        "    # Upsampling layer\n",
        "    model.add(UpSampling1D(size=4))\n",
        "    \n",
        "    # Convolutional layer + leaky relu layer\n",
        "    model.add(Conv1D(filters=32, kernel_size=2, strides=2, padding='same'))\n",
        "    model.add(LeakyReLU())\n",
        "    \n",
        "    # Convolutional layer\n",
        "    model.add(Conv1D(filters=1, kernel_size=1, padding='same'))\n",
        "    \n",
        "    model.compile(optimizer='adam')\n",
        "\n",
        "    return model"
      ]
    },
    {
      "cell_type": "code",
      "execution_count": null,
      "id": "953d1808-87ed-407a-8b83-de4d5691df1c",
      "metadata": {
        "id": "953d1808-87ed-407a-8b83-de4d5691df1c"
      },
      "outputs": [],
      "source": [
        "# define the combined generator and discriminator model, for updating the generator\n",
        "def define_gan(generator, discriminator):\n",
        "    # make weights in the discriminator not trainable\n",
        "    discriminator.trainable = False\n",
        "    # connect them\n",
        "    model = Sequential()\n",
        "    model.add(generator)\n",
        "    model.add(discriminator)\n",
        "    opt = Adam(lr=0.0005)\n",
        "    model.compile(loss='binary_crossentropy', optimizer=opt)\n",
        "    return model"
      ]
    },
    {
      "cell_type": "code",
      "execution_count": null,
      "id": "1fcfbcc5-28a1-4324-8fcd-0624f54ef54e",
      "metadata": {
        "id": "1fcfbcc5-28a1-4324-8fcd-0624f54ef54e"
      },
      "outputs": [],
      "source": [
        "# generate points in latent space as input for the generator\n",
        "def generate_latent_points(n):\n",
        "    # generate points in the latent space from the normal distribution\n",
        "    x_input = np.random.normal(size = latent_dim * n)\n",
        "    # reshape into a batch of inputs for the network\n",
        "    x_input = x_input.reshape(n, latent_dim)\n",
        "\n",
        "    return x_input"
      ]
    },
    {
      "cell_type": "code",
      "execution_count": null,
      "id": "7108a5fc-2e71-4530-b6e6-8769f4f165bb",
      "metadata": {
        "id": "7108a5fc-2e71-4530-b6e6-8769f4f165bb"
      },
      "outputs": [],
      "source": [
        "# use the generator to generate n fake examples, with class labels\n",
        "def generate_fake_samples(generator, n):\n",
        "    # generate points in latent space\n",
        "    x_input = generate_latent_points(n)\n",
        "    # predict outputs\n",
        "    X = generator.predict(x_input, verbose=0)\n",
        "    # create class labels\n",
        "    y = zeros((n, 1))\n",
        "\n",
        "    return X, y"
      ]
    },
    {
      "cell_type": "code",
      "execution_count": null,
      "id": "a92cef4f-9d76-4681-b7ca-c19bd10a302c",
      "metadata": {
        "id": "a92cef4f-9d76-4681-b7ca-c19bd10a302c"
      },
      "outputs": [],
      "source": [
        "# train the generator and discriminator\n",
        "def train(g_model, d_model, gan_model, latent_dim, n_epochs=10000, n_batch=49, n_eval=100):\n",
        "    d_loss_list = []\n",
        "    g_loss_list = []\n",
        "    # determine half the size of one batch, for updating the discriminator\n",
        "    half_batch = int(n_batch / 2)+1\n",
        "    \n",
        "    # manually enumerate epochs\n",
        "    for i in tqdm(range(n_epochs)):\n",
        "        \n",
        "        # prepare real samples\n",
        "        rand_index = random.sample(range(0,49), 25)\n",
        "        x_real, y_real = glucose_559[rand_index], y[rand_index]\n",
        "        # prepare fake examples\n",
        "        x_fake, y_fake = generate_fake_samples(g_model, half_batch)\n",
        "        \n",
        "        # update discriminator\n",
        "        d_loss_real = d_model.train_on_batch(x_real, y_real)\n",
        "        d_loss_fake = d_model.train_on_batch(x_fake, y_fake)\n",
        "        # average of d_loss_real and d_loss_fake\n",
        "        d_loss = 0.5 * np.add(d_loss_real, d_loss_fake)\n",
        "        d_loss_list.append(d_loss)\n",
        "        #print(d_loss[0])\n",
        "\n",
        "        # prepare points in latent space as input for the generator\n",
        "        #for _ in range(4):\n",
        "        x_gan = generate_latent_points(n_batch)\n",
        "        # create inverted labels for the fake samples\n",
        "        y_gan = ones((n_batch, 1))\n",
        "        # update the generator via the discriminator's error\n",
        "        g_loss = gan_model.train_on_batch(x_gan, y_gan)\n",
        "        g_loss_list.append(g_loss)\n",
        "        \n",
        "       \n",
        "        # evaluate the model every n_eval epochs\n",
        "        if (i+1) % n_eval == 0:\n",
        "            generator.save_weights('/content/drive/MyDrive/Thesis/model/normal_gan/559_0.0005/generator_weights_%d.h5' %(i+1))\n",
        "            print (\"%d [D loss: %f, acc.: %.2f%%] [G loss: %f]\" % (i, d_loss[0], 100*d_loss[1], g_loss))"
      ]
    },
    {
      "cell_type": "code",
      "execution_count": null,
      "id": "ce93ac09-c4d5-41bd-bf88-f89573ab09b6",
      "metadata": {
        "colab": {
          "base_uri": "https://localhost:8080/"
        },
        "id": "ce93ac09-c4d5-41bd-bf88-f89573ab09b6",
        "outputId": "89856ccc-50f3-42ce-b9c4-4b65648ba32b"
      },
      "outputs": [
        {
          "output_type": "stream",
          "name": "stdout",
          "text": [
            "Model: \"sequential\"\n",
            "_________________________________________________________________\n",
            " Layer (type)                Output Shape              Param #   \n",
            "=================================================================\n",
            " dense (Dense)               (None, 288, 1)            2         \n",
            "                                                                 \n",
            " leaky_re_lu (LeakyReLU)     (None, 288, 1)            0         \n",
            "                                                                 \n",
            " conv1d (Conv1D)             (None, 144, 32)           160       \n",
            "                                                                 \n",
            " leaky_re_lu_1 (LeakyReLU)   (None, 144, 32)           0         \n",
            "                                                                 \n",
            " conv1d_1 (Conv1D)           (None, 72, 32)            2080      \n"
          ]
        },
        {
          "output_type": "stream",
          "name": "stderr",
          "text": [
            "/usr/local/lib/python3.10/dist-packages/keras/optimizers/legacy/adam.py:117: UserWarning: The `lr` argument is deprecated, use `learning_rate` instead.\n",
            "  super().__init__(name, **kwargs)\n"
          ]
        },
        {
          "output_type": "stream",
          "name": "stdout",
          "text": [
            "                                                                 \n",
            " leaky_re_lu_2 (LeakyReLU)   (None, 72, 32)            0         \n",
            "                                                                 \n",
            " reshape (Reshape)           (None, 2304)              0         \n",
            "                                                                 \n",
            " dense_1 (Dense)             (None, 1)                 2305      \n",
            "                                                                 \n",
            "=================================================================\n",
            "Total params: 4,547\n",
            "Trainable params: 4,547\n",
            "Non-trainable params: 0\n",
            "_________________________________________________________________\n"
          ]
        }
      ],
      "source": [
        "discriminator = define_discriminator()\n",
        "discriminator.summary()"
      ]
    },
    {
      "cell_type": "code",
      "execution_count": null,
      "id": "aa724642-eb06-4e82-8660-14c835a5f8dc",
      "metadata": {
        "id": "aa724642-eb06-4e82-8660-14c835a5f8dc",
        "outputId": "1e43861e-8e8c-430a-9b31-e34c9d17ef9f",
        "colab": {
          "base_uri": "https://localhost:8080/"
        }
      },
      "outputs": [
        {
          "output_type": "stream",
          "name": "stdout",
          "text": [
            "Model: \"sequential_1\"\n",
            "_________________________________________________________________\n",
            " Layer (type)                Output Shape              Param #   \n",
            "=================================================================\n",
            " dense_2 (Dense)             (None, 3600)              1803600   \n",
            "                                                                 \n",
            " leaky_re_lu_3 (LeakyReLU)   (None, 3600)              0         \n",
            "                                                                 \n",
            " reshape_1 (Reshape)         (None, 72, 50)            0         \n",
            "                                                                 \n",
            " up_sampling1d (UpSampling1D  (None, 288, 50)          0         \n",
            " )                                                               \n",
            "                                                                 \n",
            " conv1d_2 (Conv1D)           (None, 144, 32)           3232      \n",
            "                                                                 \n",
            " up_sampling1d_1 (UpSampling  (None, 576, 32)          0         \n",
            " 1D)                                                             \n",
            "                                                                 \n",
            " conv1d_3 (Conv1D)           (None, 288, 32)           2080      \n",
            "                                                                 \n",
            " leaky_re_lu_4 (LeakyReLU)   (None, 288, 32)           0         \n",
            "                                                                 \n",
            " conv1d_4 (Conv1D)           (None, 288, 1)            33        \n",
            "                                                                 \n",
            "=================================================================\n",
            "Total params: 1,808,945\n",
            "Trainable params: 1,808,945\n",
            "Non-trainable params: 0\n",
            "_________________________________________________________________\n"
          ]
        }
      ],
      "source": [
        "generator = define_generator()\n",
        "generator.summary()"
      ]
    },
    {
      "cell_type": "code",
      "execution_count": null,
      "id": "8c239002-60c4-4b63-8dae-793783b71777",
      "metadata": {
        "id": "8c239002-60c4-4b63-8dae-793783b71777",
        "outputId": "b4135b5b-cbb9-47d8-fd40-6be83c856b6d",
        "colab": {
          "base_uri": "https://localhost:8080/"
        }
      },
      "outputs": [
        {
          "output_type": "stream",
          "name": "stderr",
          "text": [
            "  1%|          | 101/10000 [00:11<21:15,  7.76it/s]"
          ]
        },
        {
          "output_type": "stream",
          "name": "stdout",
          "text": [
            "99 [D loss: 0.559959, acc.: 50.00%] [G loss: 1.497117]\n"
          ]
        },
        {
          "output_type": "stream",
          "name": "stderr",
          "text": [
            "  2%|▏         | 201/10000 [00:20<24:07,  6.77it/s]"
          ]
        },
        {
          "output_type": "stream",
          "name": "stdout",
          "text": [
            "199 [D loss: 0.678190, acc.: 56.00%] [G loss: 0.686509]\n"
          ]
        },
        {
          "output_type": "stream",
          "name": "stderr",
          "text": [
            "  3%|▎         | 301/10000 [00:28<21:54,  7.38it/s]"
          ]
        },
        {
          "output_type": "stream",
          "name": "stdout",
          "text": [
            "299 [D loss: 0.655594, acc.: 100.00%] [G loss: 0.737847]\n"
          ]
        },
        {
          "output_type": "stream",
          "name": "stderr",
          "text": [
            "  4%|▍         | 401/10000 [00:37<22:46,  7.03it/s]"
          ]
        },
        {
          "output_type": "stream",
          "name": "stdout",
          "text": [
            "399 [D loss: 0.670165, acc.: 50.00%] [G loss: 1.633765]\n"
          ]
        },
        {
          "output_type": "stream",
          "name": "stderr",
          "text": [
            "  5%|▌         | 501/10000 [00:45<19:10,  8.26it/s]"
          ]
        },
        {
          "output_type": "stream",
          "name": "stdout",
          "text": [
            "499 [D loss: 0.650050, acc.: 84.00%] [G loss: 0.756922]\n"
          ]
        },
        {
          "output_type": "stream",
          "name": "stderr",
          "text": [
            "  6%|▌         | 601/10000 [00:54<20:26,  7.66it/s]"
          ]
        },
        {
          "output_type": "stream",
          "name": "stdout",
          "text": [
            "599 [D loss: 0.554550, acc.: 100.00%] [G loss: 0.857597]\n"
          ]
        },
        {
          "output_type": "stream",
          "name": "stderr",
          "text": [
            "  7%|▋         | 701/10000 [01:02<20:32,  7.55it/s]"
          ]
        },
        {
          "output_type": "stream",
          "name": "stdout",
          "text": [
            "699 [D loss: 0.215696, acc.: 100.00%] [G loss: 1.794407]\n"
          ]
        },
        {
          "output_type": "stream",
          "name": "stderr",
          "text": [
            "  8%|▊         | 801/10000 [01:11<19:49,  7.73it/s]"
          ]
        },
        {
          "output_type": "stream",
          "name": "stdout",
          "text": [
            "799 [D loss: 0.567793, acc.: 86.00%] [G loss: 0.904774]\n"
          ]
        },
        {
          "output_type": "stream",
          "name": "stderr",
          "text": [
            "  9%|▉         | 901/10000 [01:20<20:29,  7.40it/s]"
          ]
        },
        {
          "output_type": "stream",
          "name": "stdout",
          "text": [
            "899 [D loss: 0.471985, acc.: 94.00%] [G loss: 1.093782]\n"
          ]
        },
        {
          "output_type": "stream",
          "name": "stderr",
          "text": [
            " 10%|█         | 1001/10000 [01:28<20:00,  7.49it/s]"
          ]
        },
        {
          "output_type": "stream",
          "name": "stdout",
          "text": [
            "999 [D loss: 0.425141, acc.: 98.00%] [G loss: 1.083325]\n"
          ]
        },
        {
          "output_type": "stream",
          "name": "stderr",
          "text": [
            " 11%|█         | 1101/10000 [01:37<18:05,  8.20it/s]"
          ]
        },
        {
          "output_type": "stream",
          "name": "stdout",
          "text": [
            "1099 [D loss: 0.408999, acc.: 94.00%] [G loss: 1.329131]\n"
          ]
        },
        {
          "output_type": "stream",
          "name": "stderr",
          "text": [
            " 12%|█▏        | 1201/10000 [01:45<19:25,  7.55it/s]"
          ]
        },
        {
          "output_type": "stream",
          "name": "stdout",
          "text": [
            "1199 [D loss: 0.334402, acc.: 100.00%] [G loss: 1.381971]\n"
          ]
        },
        {
          "output_type": "stream",
          "name": "stderr",
          "text": [
            " 13%|█▎        | 1301/10000 [01:54<19:26,  7.46it/s]"
          ]
        },
        {
          "output_type": "stream",
          "name": "stdout",
          "text": [
            "1299 [D loss: 0.364804, acc.: 90.00%] [G loss: 1.452470]\n"
          ]
        },
        {
          "output_type": "stream",
          "name": "stderr",
          "text": [
            " 14%|█▍        | 1401/10000 [02:02<17:41,  8.10it/s]"
          ]
        },
        {
          "output_type": "stream",
          "name": "stdout",
          "text": [
            "1399 [D loss: 0.324841, acc.: 98.00%] [G loss: 1.342460]\n"
          ]
        },
        {
          "output_type": "stream",
          "name": "stderr",
          "text": [
            " 15%|█▌        | 1501/10000 [02:11<19:17,  7.34it/s]"
          ]
        },
        {
          "output_type": "stream",
          "name": "stdout",
          "text": [
            "1499 [D loss: 0.109578, acc.: 98.00%] [G loss: 2.584112]\n"
          ]
        },
        {
          "output_type": "stream",
          "name": "stderr",
          "text": [
            " 16%|█▌        | 1601/10000 [02:19<18:12,  7.69it/s]"
          ]
        },
        {
          "output_type": "stream",
          "name": "stdout",
          "text": [
            "1599 [D loss: 0.280779, acc.: 96.00%] [G loss: 1.501020]\n"
          ]
        },
        {
          "output_type": "stream",
          "name": "stderr",
          "text": [
            " 17%|█▋        | 1701/10000 [02:27<18:57,  7.30it/s]"
          ]
        },
        {
          "output_type": "stream",
          "name": "stdout",
          "text": [
            "1699 [D loss: 0.164771, acc.: 98.00%] [G loss: 2.018555]\n"
          ]
        },
        {
          "output_type": "stream",
          "name": "stderr",
          "text": [
            " 18%|█▊        | 1801/10000 [02:36<17:22,  7.87it/s]"
          ]
        },
        {
          "output_type": "stream",
          "name": "stdout",
          "text": [
            "1799 [D loss: 0.096821, acc.: 100.00%] [G loss: 2.643509]\n"
          ]
        },
        {
          "output_type": "stream",
          "name": "stderr",
          "text": [
            " 19%|█▉        | 1901/10000 [02:44<16:56,  7.97it/s]"
          ]
        },
        {
          "output_type": "stream",
          "name": "stdout",
          "text": [
            "1899 [D loss: 0.123889, acc.: 98.00%] [G loss: 2.049457]\n"
          ]
        },
        {
          "output_type": "stream",
          "name": "stderr",
          "text": [
            " 20%|██        | 2002/10000 [02:54<16:12,  8.22it/s]"
          ]
        },
        {
          "output_type": "stream",
          "name": "stdout",
          "text": [
            "1999 [D loss: 0.100034, acc.: 100.00%] [G loss: 2.224787]\n"
          ]
        },
        {
          "output_type": "stream",
          "name": "stderr",
          "text": [
            " 21%|██        | 2102/10000 [03:02<14:47,  8.90it/s]"
          ]
        },
        {
          "output_type": "stream",
          "name": "stdout",
          "text": [
            "2099 [D loss: 0.094546, acc.: 100.00%] [G loss: 2.596994]\n"
          ]
        },
        {
          "output_type": "stream",
          "name": "stderr",
          "text": [
            " 22%|██▏       | 2202/10000 [03:11<14:30,  8.96it/s]"
          ]
        },
        {
          "output_type": "stream",
          "name": "stdout",
          "text": [
            "2199 [D loss: 0.139531, acc.: 98.00%] [G loss: 2.228963]\n"
          ]
        },
        {
          "output_type": "stream",
          "name": "stderr",
          "text": [
            " 23%|██▎       | 2302/10000 [03:19<15:19,  8.37it/s]"
          ]
        },
        {
          "output_type": "stream",
          "name": "stdout",
          "text": [
            "2299 [D loss: 0.051395, acc.: 100.00%] [G loss: 2.822094]\n"
          ]
        },
        {
          "output_type": "stream",
          "name": "stderr",
          "text": [
            " 24%|██▍       | 2402/10000 [03:28<14:39,  8.63it/s]"
          ]
        },
        {
          "output_type": "stream",
          "name": "stdout",
          "text": [
            "2399 [D loss: 0.044791, acc.: 100.00%] [G loss: 2.887489]\n"
          ]
        },
        {
          "output_type": "stream",
          "name": "stderr",
          "text": [
            " 25%|██▌       | 2502/10000 [03:36<14:18,  8.73it/s]"
          ]
        },
        {
          "output_type": "stream",
          "name": "stdout",
          "text": [
            "2499 [D loss: 0.016552, acc.: 100.00%] [G loss: 4.609061]\n"
          ]
        },
        {
          "output_type": "stream",
          "name": "stderr",
          "text": [
            " 26%|██▌       | 2602/10000 [03:45<14:12,  8.68it/s]"
          ]
        },
        {
          "output_type": "stream",
          "name": "stdout",
          "text": [
            "2599 [D loss: 0.056716, acc.: 100.00%] [G loss: 3.126343]\n"
          ]
        },
        {
          "output_type": "stream",
          "name": "stderr",
          "text": [
            " 27%|██▋       | 2702/10000 [03:53<14:29,  8.39it/s]"
          ]
        },
        {
          "output_type": "stream",
          "name": "stdout",
          "text": [
            "2699 [D loss: 0.025334, acc.: 100.00%] [G loss: 4.061614]\n"
          ]
        },
        {
          "output_type": "stream",
          "name": "stderr",
          "text": [
            " 28%|██▊       | 2802/10000 [04:01<13:28,  8.91it/s]"
          ]
        },
        {
          "output_type": "stream",
          "name": "stdout",
          "text": [
            "2799 [D loss: 0.032855, acc.: 100.00%] [G loss: 3.196600]\n"
          ]
        },
        {
          "output_type": "stream",
          "name": "stderr",
          "text": [
            " 29%|██▉       | 2902/10000 [04:10<13:39,  8.67it/s]"
          ]
        },
        {
          "output_type": "stream",
          "name": "stdout",
          "text": [
            "2899 [D loss: 0.024764, acc.: 100.00%] [G loss: 3.621022]\n"
          ]
        },
        {
          "output_type": "stream",
          "name": "stderr",
          "text": [
            " 30%|███       | 3000/10000 [04:18<14:01,  8.32it/s]"
          ]
        },
        {
          "output_type": "stream",
          "name": "stdout",
          "text": [
            "2999 [D loss: 0.014599, acc.: 100.00%] [G loss: 4.571370]\n"
          ]
        },
        {
          "output_type": "stream",
          "name": "stderr",
          "text": [
            " 31%|███       | 3102/10000 [04:28<13:50,  8.31it/s]"
          ]
        },
        {
          "output_type": "stream",
          "name": "stdout",
          "text": [
            "3099 [D loss: 0.013818, acc.: 100.00%] [G loss: 4.589213]\n"
          ]
        },
        {
          "output_type": "stream",
          "name": "stderr",
          "text": [
            " 32%|███▏      | 3202/10000 [04:36<12:54,  8.77it/s]"
          ]
        },
        {
          "output_type": "stream",
          "name": "stdout",
          "text": [
            "3199 [D loss: 0.019606, acc.: 100.00%] [G loss: 4.099793]\n"
          ]
        },
        {
          "output_type": "stream",
          "name": "stderr",
          "text": [
            " 33%|███▎      | 3302/10000 [04:45<12:58,  8.60it/s]"
          ]
        },
        {
          "output_type": "stream",
          "name": "stdout",
          "text": [
            "3299 [D loss: 0.010619, acc.: 100.00%] [G loss: 4.680108]\n"
          ]
        },
        {
          "output_type": "stream",
          "name": "stderr",
          "text": [
            " 34%|███▍      | 3402/10000 [04:53<09:25, 11.66it/s]"
          ]
        },
        {
          "output_type": "stream",
          "name": "stdout",
          "text": [
            "3399 [D loss: 0.008969, acc.: 100.00%] [G loss: 4.255557]\n"
          ]
        },
        {
          "output_type": "stream",
          "name": "stderr",
          "text": [
            " 35%|███▌      | 3502/10000 [05:01<09:12, 11.76it/s]"
          ]
        },
        {
          "output_type": "stream",
          "name": "stdout",
          "text": [
            "3499 [D loss: 0.008705, acc.: 100.00%] [G loss: 4.796287]\n"
          ]
        },
        {
          "output_type": "stream",
          "name": "stderr",
          "text": [
            " 36%|███▌      | 3602/10000 [05:09<09:09, 11.65it/s]"
          ]
        },
        {
          "output_type": "stream",
          "name": "stdout",
          "text": [
            "3599 [D loss: 0.008022, acc.: 100.00%] [G loss: 5.006344]\n"
          ]
        },
        {
          "output_type": "stream",
          "name": "stderr",
          "text": [
            " 37%|███▋      | 3702/10000 [05:17<08:56, 11.74it/s]"
          ]
        },
        {
          "output_type": "stream",
          "name": "stdout",
          "text": [
            "3699 [D loss: 0.005592, acc.: 100.00%] [G loss: 5.502038]\n"
          ]
        },
        {
          "output_type": "stream",
          "name": "stderr",
          "text": [
            " 38%|███▊      | 3802/10000 [05:26<08:47, 11.76it/s]"
          ]
        },
        {
          "output_type": "stream",
          "name": "stdout",
          "text": [
            "3799 [D loss: 0.004727, acc.: 100.00%] [G loss: 5.773960]\n"
          ]
        },
        {
          "output_type": "stream",
          "name": "stderr",
          "text": [
            " 39%|███▉      | 3902/10000 [05:34<08:38, 11.76it/s]"
          ]
        },
        {
          "output_type": "stream",
          "name": "stdout",
          "text": [
            "3899 [D loss: 0.004680, acc.: 100.00%] [G loss: 5.752810]\n"
          ]
        },
        {
          "output_type": "stream",
          "name": "stderr",
          "text": [
            " 40%|████      | 4002/10000 [05:42<08:28, 11.80it/s]"
          ]
        },
        {
          "output_type": "stream",
          "name": "stdout",
          "text": [
            "3999 [D loss: 0.005738, acc.: 100.00%] [G loss: 5.022345]\n"
          ]
        },
        {
          "output_type": "stream",
          "name": "stderr",
          "text": [
            " 41%|████      | 4102/10000 [05:51<09:21, 10.51it/s]"
          ]
        },
        {
          "output_type": "stream",
          "name": "stdout",
          "text": [
            "4099 [D loss: 0.002359, acc.: 100.00%] [G loss: 5.622727]\n"
          ]
        },
        {
          "output_type": "stream",
          "name": "stderr",
          "text": [
            " 42%|████▏     | 4202/10000 [06:00<08:35, 11.25it/s]"
          ]
        },
        {
          "output_type": "stream",
          "name": "stdout",
          "text": [
            "4199 [D loss: 0.001028, acc.: 100.00%] [G loss: 6.504463]\n"
          ]
        },
        {
          "output_type": "stream",
          "name": "stderr",
          "text": [
            " 43%|████▎     | 4302/10000 [06:08<08:18, 11.43it/s]"
          ]
        },
        {
          "output_type": "stream",
          "name": "stdout",
          "text": [
            "4299 [D loss: 0.003974, acc.: 100.00%] [G loss: 5.733421]\n"
          ]
        },
        {
          "output_type": "stream",
          "name": "stderr",
          "text": [
            " 44%|████▍     | 4402/10000 [06:16<07:59, 11.68it/s]"
          ]
        },
        {
          "output_type": "stream",
          "name": "stdout",
          "text": [
            "4399 [D loss: 0.002326, acc.: 100.00%] [G loss: 6.403073]\n"
          ]
        },
        {
          "output_type": "stream",
          "name": "stderr",
          "text": [
            " 45%|████▌     | 4502/10000 [06:24<07:42, 11.90it/s]"
          ]
        },
        {
          "output_type": "stream",
          "name": "stdout",
          "text": [
            "4499 [D loss: 0.001384, acc.: 100.00%] [G loss: 6.645514]\n"
          ]
        },
        {
          "output_type": "stream",
          "name": "stderr",
          "text": [
            " 46%|████▌     | 4602/10000 [06:32<07:40, 11.73it/s]"
          ]
        },
        {
          "output_type": "stream",
          "name": "stdout",
          "text": [
            "4599 [D loss: 0.002453, acc.: 100.00%] [G loss: 6.057744]\n"
          ]
        },
        {
          "output_type": "stream",
          "name": "stderr",
          "text": [
            " 47%|████▋     | 4702/10000 [06:40<07:33, 11.68it/s]"
          ]
        },
        {
          "output_type": "stream",
          "name": "stdout",
          "text": [
            "4699 [D loss: 0.002169, acc.: 100.00%] [G loss: 6.411420]\n"
          ]
        },
        {
          "output_type": "stream",
          "name": "stderr",
          "text": [
            " 48%|████▊     | 4802/10000 [06:48<07:27, 11.63it/s]"
          ]
        },
        {
          "output_type": "stream",
          "name": "stdout",
          "text": [
            "4799 [D loss: 0.002087, acc.: 100.00%] [G loss: 6.210895]\n"
          ]
        },
        {
          "output_type": "stream",
          "name": "stderr",
          "text": [
            " 49%|████▉     | 4902/10000 [06:57<07:14, 11.72it/s]"
          ]
        },
        {
          "output_type": "stream",
          "name": "stdout",
          "text": [
            "4899 [D loss: 0.000777, acc.: 100.00%] [G loss: 7.194630]\n"
          ]
        },
        {
          "output_type": "stream",
          "name": "stderr",
          "text": [
            " 50%|█████     | 5002/10000 [07:05<07:23, 11.28it/s]"
          ]
        },
        {
          "output_type": "stream",
          "name": "stdout",
          "text": [
            "4999 [D loss: 0.001286, acc.: 100.00%] [G loss: 6.707804]\n"
          ]
        },
        {
          "output_type": "stream",
          "name": "stderr",
          "text": [
            " 51%|█████     | 5102/10000 [07:13<06:53, 11.84it/s]"
          ]
        },
        {
          "output_type": "stream",
          "name": "stdout",
          "text": [
            "5099 [D loss: 0.000583, acc.: 100.00%] [G loss: 7.666009]\n"
          ]
        },
        {
          "output_type": "stream",
          "name": "stderr",
          "text": [
            " 52%|█████▏    | 5202/10000 [07:22<07:18, 10.95it/s]"
          ]
        },
        {
          "output_type": "stream",
          "name": "stdout",
          "text": [
            "5199 [D loss: 0.000725, acc.: 100.00%] [G loss: 7.113794]\n"
          ]
        },
        {
          "output_type": "stream",
          "name": "stderr",
          "text": [
            " 53%|█████▎    | 5302/10000 [07:31<06:49, 11.46it/s]"
          ]
        },
        {
          "output_type": "stream",
          "name": "stdout",
          "text": [
            "5299 [D loss: 0.000430, acc.: 100.00%] [G loss: 7.368209]\n"
          ]
        },
        {
          "output_type": "stream",
          "name": "stderr",
          "text": [
            " 54%|█████▍    | 5402/10000 [07:39<06:32, 11.71it/s]"
          ]
        },
        {
          "output_type": "stream",
          "name": "stdout",
          "text": [
            "5399 [D loss: 0.000355, acc.: 100.00%] [G loss: 7.903550]\n"
          ]
        },
        {
          "output_type": "stream",
          "name": "stderr",
          "text": [
            " 55%|█████▌    | 5502/10000 [07:47<06:21, 11.79it/s]"
          ]
        },
        {
          "output_type": "stream",
          "name": "stdout",
          "text": [
            "5499 [D loss: 0.000618, acc.: 100.00%] [G loss: 7.363883]\n"
          ]
        },
        {
          "output_type": "stream",
          "name": "stderr",
          "text": [
            " 56%|█████▌    | 5602/10000 [07:55<06:30, 11.26it/s]"
          ]
        },
        {
          "output_type": "stream",
          "name": "stdout",
          "text": [
            "5599 [D loss: 0.000427, acc.: 100.00%] [G loss: 7.708337]\n"
          ]
        },
        {
          "output_type": "stream",
          "name": "stderr",
          "text": [
            " 57%|█████▋    | 5702/10000 [08:03<06:02, 11.84it/s]"
          ]
        },
        {
          "output_type": "stream",
          "name": "stdout",
          "text": [
            "5699 [D loss: 0.000374, acc.: 100.00%] [G loss: 7.702240]\n"
          ]
        },
        {
          "output_type": "stream",
          "name": "stderr",
          "text": [
            " 58%|█████▊    | 5802/10000 [08:12<05:54, 11.83it/s]"
          ]
        },
        {
          "output_type": "stream",
          "name": "stdout",
          "text": [
            "5799 [D loss: 0.000603, acc.: 100.00%] [G loss: 7.715554]\n"
          ]
        },
        {
          "output_type": "stream",
          "name": "stderr",
          "text": [
            " 59%|█████▉    | 5902/10000 [08:20<05:59, 11.40it/s]"
          ]
        },
        {
          "output_type": "stream",
          "name": "stdout",
          "text": [
            "5899 [D loss: 0.000257, acc.: 100.00%] [G loss: 8.418185]\n"
          ]
        },
        {
          "output_type": "stream",
          "name": "stderr",
          "text": [
            " 60%|██████    | 6002/10000 [08:28<05:41, 11.72it/s]"
          ]
        },
        {
          "output_type": "stream",
          "name": "stdout",
          "text": [
            "5999 [D loss: 0.000259, acc.: 100.00%] [G loss: 8.227511]\n"
          ]
        },
        {
          "output_type": "stream",
          "name": "stderr",
          "text": [
            " 61%|██████    | 6102/10000 [08:36<05:31, 11.76it/s]"
          ]
        },
        {
          "output_type": "stream",
          "name": "stdout",
          "text": [
            "6099 [D loss: 0.000192, acc.: 100.00%] [G loss: 8.273708]\n"
          ]
        },
        {
          "output_type": "stream",
          "name": "stderr",
          "text": [
            " 62%|██████▏   | 6202/10000 [08:44<05:25, 11.66it/s]"
          ]
        },
        {
          "output_type": "stream",
          "name": "stdout",
          "text": [
            "6199 [D loss: 0.000181, acc.: 100.00%] [G loss: 8.503002]\n"
          ]
        },
        {
          "output_type": "stream",
          "name": "stderr",
          "text": [
            " 63%|██████▎   | 6302/10000 [08:54<05:57, 10.33it/s]"
          ]
        },
        {
          "output_type": "stream",
          "name": "stdout",
          "text": [
            "6299 [D loss: 0.000160, acc.: 100.00%] [G loss: 8.646753]\n"
          ]
        },
        {
          "output_type": "stream",
          "name": "stderr",
          "text": [
            " 64%|██████▍   | 6402/10000 [09:02<05:01, 11.93it/s]"
          ]
        },
        {
          "output_type": "stream",
          "name": "stdout",
          "text": [
            "6399 [D loss: 0.000156, acc.: 100.00%] [G loss: 8.525215]\n"
          ]
        },
        {
          "output_type": "stream",
          "name": "stderr",
          "text": [
            " 65%|██████▌   | 6502/10000 [09:10<05:04, 11.47it/s]"
          ]
        },
        {
          "output_type": "stream",
          "name": "stdout",
          "text": [
            "6499 [D loss: 0.000469, acc.: 100.00%] [G loss: 9.209899]\n"
          ]
        },
        {
          "output_type": "stream",
          "name": "stderr",
          "text": [
            " 66%|██████▌   | 6602/10000 [09:18<04:49, 11.76it/s]"
          ]
        },
        {
          "output_type": "stream",
          "name": "stdout",
          "text": [
            "6599 [D loss: 0.000124, acc.: 100.00%] [G loss: 9.465165]\n"
          ]
        },
        {
          "output_type": "stream",
          "name": "stderr",
          "text": [
            " 67%|██████▋   | 6702/10000 [09:26<04:36, 11.91it/s]"
          ]
        },
        {
          "output_type": "stream",
          "name": "stdout",
          "text": [
            "6699 [D loss: 0.000067, acc.: 100.00%] [G loss: 9.399325]\n"
          ]
        },
        {
          "output_type": "stream",
          "name": "stderr",
          "text": [
            " 68%|██████▊   | 6802/10000 [09:34<04:39, 11.43it/s]"
          ]
        },
        {
          "output_type": "stream",
          "name": "stdout",
          "text": [
            "6799 [D loss: 0.000552, acc.: 100.00%] [G loss: 7.353100]\n"
          ]
        },
        {
          "output_type": "stream",
          "name": "stderr",
          "text": [
            " 69%|██████▉   | 6902/10000 [09:42<04:20, 11.89it/s]"
          ]
        },
        {
          "output_type": "stream",
          "name": "stdout",
          "text": [
            "6899 [D loss: 0.000114, acc.: 100.00%] [G loss: 13.601392]\n"
          ]
        },
        {
          "output_type": "stream",
          "name": "stderr",
          "text": [
            " 70%|███████   | 7002/10000 [09:51<04:14, 11.76it/s]"
          ]
        },
        {
          "output_type": "stream",
          "name": "stdout",
          "text": [
            "6999 [D loss: 0.000083, acc.: 100.00%] [G loss: 9.537821]\n"
          ]
        },
        {
          "output_type": "stream",
          "name": "stderr",
          "text": [
            " 71%|███████   | 7102/10000 [09:59<04:10, 11.55it/s]"
          ]
        },
        {
          "output_type": "stream",
          "name": "stdout",
          "text": [
            "7099 [D loss: 0.000189, acc.: 100.00%] [G loss: 9.127584]\n"
          ]
        },
        {
          "output_type": "stream",
          "name": "stderr",
          "text": [
            " 72%|███████▏  | 7202/10000 [10:07<03:57, 11.80it/s]"
          ]
        },
        {
          "output_type": "stream",
          "name": "stdout",
          "text": [
            "7199 [D loss: 0.000034, acc.: 100.00%] [G loss: 10.385292]\n"
          ]
        },
        {
          "output_type": "stream",
          "name": "stderr",
          "text": [
            " 73%|███████▎  | 7302/10000 [10:16<04:34,  9.84it/s]"
          ]
        },
        {
          "output_type": "stream",
          "name": "stdout",
          "text": [
            "7299 [D loss: 0.000025, acc.: 100.00%] [G loss: 10.336294]\n"
          ]
        },
        {
          "output_type": "stream",
          "name": "stderr",
          "text": [
            " 74%|███████▍  | 7402/10000 [10:25<03:58, 10.90it/s]"
          ]
        },
        {
          "output_type": "stream",
          "name": "stdout",
          "text": [
            "7399 [D loss: 0.000112, acc.: 100.00%] [G loss: 8.728256]\n"
          ]
        },
        {
          "output_type": "stream",
          "name": "stderr",
          "text": [
            " 75%|███████▌  | 7502/10000 [10:33<03:33, 11.71it/s]"
          ]
        },
        {
          "output_type": "stream",
          "name": "stdout",
          "text": [
            "7499 [D loss: 0.000041, acc.: 100.00%] [G loss: 9.960886]\n"
          ]
        },
        {
          "output_type": "stream",
          "name": "stderr",
          "text": [
            " 76%|███████▌  | 7602/10000 [10:41<03:26, 11.61it/s]"
          ]
        },
        {
          "output_type": "stream",
          "name": "stdout",
          "text": [
            "7599 [D loss: 0.000081, acc.: 100.00%] [G loss: 9.803091]\n"
          ]
        },
        {
          "output_type": "stream",
          "name": "stderr",
          "text": [
            " 77%|███████▋  | 7702/10000 [10:49<03:15, 11.75it/s]"
          ]
        },
        {
          "output_type": "stream",
          "name": "stdout",
          "text": [
            "7699 [D loss: 0.000060, acc.: 100.00%] [G loss: 10.026424]\n"
          ]
        },
        {
          "output_type": "stream",
          "name": "stderr",
          "text": [
            " 78%|███████▊  | 7802/10000 [10:57<03:07, 11.75it/s]"
          ]
        },
        {
          "output_type": "stream",
          "name": "stdout",
          "text": [
            "7799 [D loss: 0.000045, acc.: 100.00%] [G loss: 10.096282]\n"
          ]
        },
        {
          "output_type": "stream",
          "name": "stderr",
          "text": [
            " 79%|███████▉  | 7902/10000 [11:05<02:59, 11.69it/s]"
          ]
        },
        {
          "output_type": "stream",
          "name": "stdout",
          "text": [
            "7899 [D loss: 0.000031, acc.: 100.00%] [G loss: 10.361579]\n"
          ]
        },
        {
          "output_type": "stream",
          "name": "stderr",
          "text": [
            " 80%|████████  | 8002/10000 [11:14<02:50, 11.74it/s]"
          ]
        },
        {
          "output_type": "stream",
          "name": "stdout",
          "text": [
            "7999 [D loss: 0.000031, acc.: 100.00%] [G loss: 10.414545]\n"
          ]
        },
        {
          "output_type": "stream",
          "name": "stderr",
          "text": [
            " 81%|████████  | 8102/10000 [11:22<02:42, 11.70it/s]"
          ]
        },
        {
          "output_type": "stream",
          "name": "stdout",
          "text": [
            "8099 [D loss: 0.000020, acc.: 100.00%] [G loss: 10.662003]\n"
          ]
        },
        {
          "output_type": "stream",
          "name": "stderr",
          "text": [
            " 82%|████████▏ | 8202/10000 [11:30<02:33, 11.72it/s]"
          ]
        },
        {
          "output_type": "stream",
          "name": "stdout",
          "text": [
            "8199 [D loss: 0.000016, acc.: 100.00%] [G loss: 11.101617]\n"
          ]
        },
        {
          "output_type": "stream",
          "name": "stderr",
          "text": [
            " 83%|████████▎ | 8302/10000 [11:38<02:28, 11.45it/s]"
          ]
        },
        {
          "output_type": "stream",
          "name": "stdout",
          "text": [
            "8299 [D loss: 0.000030, acc.: 100.00%] [G loss: 10.584591]\n"
          ]
        },
        {
          "output_type": "stream",
          "name": "stderr",
          "text": [
            " 84%|████████▍ | 8402/10000 [11:47<02:29, 10.68it/s]"
          ]
        },
        {
          "output_type": "stream",
          "name": "stdout",
          "text": [
            "8399 [D loss: 0.000019, acc.: 100.00%] [G loss: 10.928816]\n"
          ]
        },
        {
          "output_type": "stream",
          "name": "stderr",
          "text": [
            " 85%|████████▌ | 8502/10000 [11:56<02:07, 11.72it/s]"
          ]
        },
        {
          "output_type": "stream",
          "name": "stdout",
          "text": [
            "8499 [D loss: 0.000046, acc.: 100.00%] [G loss: 9.459441]\n"
          ]
        },
        {
          "output_type": "stream",
          "name": "stderr",
          "text": [
            " 86%|████████▌ | 8602/10000 [12:04<01:59, 11.75it/s]"
          ]
        },
        {
          "output_type": "stream",
          "name": "stdout",
          "text": [
            "8599 [D loss: 0.000010, acc.: 100.00%] [G loss: 11.422453]\n"
          ]
        },
        {
          "output_type": "stream",
          "name": "stderr",
          "text": [
            " 87%|████████▋ | 8702/10000 [12:12<01:54, 11.32it/s]"
          ]
        },
        {
          "output_type": "stream",
          "name": "stdout",
          "text": [
            "8699 [D loss: 0.000013, acc.: 100.00%] [G loss: 11.408862]\n"
          ]
        },
        {
          "output_type": "stream",
          "name": "stderr",
          "text": [
            " 88%|████████▊ | 8802/10000 [12:20<01:41, 11.81it/s]"
          ]
        },
        {
          "output_type": "stream",
          "name": "stdout",
          "text": [
            "8799 [D loss: 0.000010, acc.: 100.00%] [G loss: 11.713064]\n"
          ]
        },
        {
          "output_type": "stream",
          "name": "stderr",
          "text": [
            " 89%|████████▉ | 8902/10000 [12:29<01:35, 11.54it/s]"
          ]
        },
        {
          "output_type": "stream",
          "name": "stdout",
          "text": [
            "8899 [D loss: 0.000003, acc.: 100.00%] [G loss: 12.804040]\n"
          ]
        },
        {
          "output_type": "stream",
          "name": "stderr",
          "text": [
            " 90%|█████████ | 9002/10000 [12:37<01:25, 11.71it/s]"
          ]
        },
        {
          "output_type": "stream",
          "name": "stdout",
          "text": [
            "8999 [D loss: 0.000014, acc.: 100.00%] [G loss: 10.851970]\n"
          ]
        },
        {
          "output_type": "stream",
          "name": "stderr",
          "text": [
            " 91%|█████████ | 9102/10000 [12:45<01:15, 11.83it/s]"
          ]
        },
        {
          "output_type": "stream",
          "name": "stdout",
          "text": [
            "9099 [D loss: 0.000009, acc.: 100.00%] [G loss: 11.677624]\n"
          ]
        },
        {
          "output_type": "stream",
          "name": "stderr",
          "text": [
            " 92%|█████████▏| 9202/10000 [12:53<01:09, 11.56it/s]"
          ]
        },
        {
          "output_type": "stream",
          "name": "stdout",
          "text": [
            "9199 [D loss: 0.000008, acc.: 100.00%] [G loss: 12.180171]\n"
          ]
        },
        {
          "output_type": "stream",
          "name": "stderr",
          "text": [
            " 93%|█████████▎| 9302/10000 [13:01<01:00, 11.57it/s]"
          ]
        },
        {
          "output_type": "stream",
          "name": "stdout",
          "text": [
            "9299 [D loss: 0.000007, acc.: 100.00%] [G loss: 12.051511]\n"
          ]
        },
        {
          "output_type": "stream",
          "name": "stderr",
          "text": [
            " 94%|█████████▍| 9402/10000 [13:09<00:51, 11.53it/s]"
          ]
        },
        {
          "output_type": "stream",
          "name": "stdout",
          "text": [
            "9399 [D loss: 0.000006, acc.: 100.00%] [G loss: 12.238488]\n"
          ]
        },
        {
          "output_type": "stream",
          "name": "stderr",
          "text": [
            " 95%|█████████▌| 9502/10000 [13:18<00:46, 10.65it/s]"
          ]
        },
        {
          "output_type": "stream",
          "name": "stdout",
          "text": [
            "9499 [D loss: 0.000004, acc.: 100.00%] [G loss: 12.427709]\n"
          ]
        },
        {
          "output_type": "stream",
          "name": "stderr",
          "text": [
            " 96%|█████████▌| 9602/10000 [13:27<00:35, 11.26it/s]"
          ]
        },
        {
          "output_type": "stream",
          "name": "stdout",
          "text": [
            "9599 [D loss: 0.000008, acc.: 100.00%] [G loss: 12.097973]\n"
          ]
        },
        {
          "output_type": "stream",
          "name": "stderr",
          "text": [
            " 97%|█████████▋| 9702/10000 [13:35<00:25, 11.82it/s]"
          ]
        },
        {
          "output_type": "stream",
          "name": "stdout",
          "text": [
            "9699 [D loss: 0.000002, acc.: 100.00%] [G loss: 13.620470]\n"
          ]
        },
        {
          "output_type": "stream",
          "name": "stderr",
          "text": [
            " 98%|█████████▊| 9802/10000 [13:43<00:17, 11.54it/s]"
          ]
        },
        {
          "output_type": "stream",
          "name": "stdout",
          "text": [
            "9799 [D loss: 0.000005, acc.: 100.00%] [G loss: 11.756060]\n"
          ]
        },
        {
          "output_type": "stream",
          "name": "stderr",
          "text": [
            " 99%|█████████▉| 9902/10000 [13:51<00:08, 11.61it/s]"
          ]
        },
        {
          "output_type": "stream",
          "name": "stdout",
          "text": [
            "9899 [D loss: 0.000004, acc.: 100.00%] [G loss: 13.570678]\n"
          ]
        },
        {
          "output_type": "stream",
          "name": "stderr",
          "text": [
            "100%|██████████| 10000/10000 [13:59<00:00, 11.91it/s]"
          ]
        },
        {
          "output_type": "stream",
          "name": "stdout",
          "text": [
            "9999 [D loss: 0.000003, acc.: 100.00%] [G loss: 13.204508]\n"
          ]
        },
        {
          "output_type": "stream",
          "name": "stderr",
          "text": [
            "\n"
          ]
        }
      ],
      "source": [
        "# create the gan\n",
        "gan_model = define_gan(generator, discriminator)\n",
        "# train model\n",
        "train(generator, discriminator, gan_model, latent_dim)"
      ]
    },
    {
      "cell_type": "markdown",
      "source": [
        "# Evaluation"
      ],
      "metadata": {
        "id": "V1n0vGcDZZkD"
      },
      "id": "V1n0vGcDZZkD"
    },
    {
      "cell_type": "code",
      "source": [
        "mean_list = []\n",
        "std_list = []\n",
        "hyper_list = []\n",
        "tir_list = []\n",
        "l1_list = []\n",
        "l2_list = []\n",
        "for i in tqdm(range(1, 101)):\n",
        "  generator.load_weights('/content/drive/MyDrive/Thesis/model/normal_gan/559_0.0005/generator_weights_' + str(i*100) + '.h5')\n",
        "  for j in range(6):\n",
        "    sub_mean = []\n",
        "    sub_std = []\n",
        "    hyper = []\n",
        "    tir = []\n",
        "    l1 = []\n",
        "    l2 = []\n",
        "\n",
        "    synth, _ = generate_fake_samples(generator, 49)\n",
        "    synth = synth.reshape(49,288)\n",
        "\n",
        "    synth_data = scaler.inverse_transform(synth)\n",
        "\n",
        "    sub_mean.append(mean(synth_data.flatten()))\n",
        "    sub_std.append(pstdev(synth_data.flatten().tolist()))\n",
        "\n",
        "    extracted_hyper = np.extract((synth_data >= 180), synth_data)\n",
        "    hyper.append(extracted_hyper.shape[0] / (288*49))\n",
        "    extracted_tir = np.extract(((synth_data < 180) & (synth_data >= 70)), synth_data)\n",
        "    tir.append(extracted_tir.shape[0] / (288*49))\n",
        "    extracted_l1 = np.extract(((synth_data < 70) & (synth_data >= 54)), synth_data)\n",
        "    l1.append(extracted_l1.shape[0] / (288*49))\n",
        "    extracted_l2 = np.extract((synth_data < 54), synth_data)\n",
        "    l2.append(extracted_l2.shape[0] / (288*49))\n",
        "\n",
        "  mean_list.append(mean(sub_mean))\n",
        "  std_list.append(mean(sub_std))\n",
        "  hyper_list.append(mean(hyper))\n",
        "  tir_list.append(mean(tir))\n",
        "  l1_list.append(mean(l1))\n",
        "  l2_list.append(mean(l2))"
      ],
      "metadata": {
        "colab": {
          "base_uri": "https://localhost:8080/"
        },
        "id": "DZcTslcTZn4P",
        "outputId": "6f6396c7-4a6b-49f1-f0c1-2073dfe6c37b"
      },
      "id": "DZcTslcTZn4P",
      "execution_count": null,
      "outputs": [
        {
          "output_type": "stream",
          "name": "stderr",
          "text": [
            "100%|██████████| 100/100 [01:44<00:00,  1.04s/it]\n"
          ]
        }
      ]
    },
    {
      "cell_type": "code",
      "source": [
        "df_559_result = pd.DataFrame(list(zip(hyper_list, tir_list, l1_list, l2_list, mean_list, std_list)), columns = ['Hyper', 'TIR', 'L1 Hypo', 'L2 Hypo', 'Mean', 'SD'])"
      ],
      "metadata": {
        "id": "6H_jVunPctUG"
      },
      "id": "6H_jVunPctUG",
      "execution_count": null,
      "outputs": []
    },
    {
      "cell_type": "code",
      "source": [
        "df_559_result.to_csv('/content/drive/MyDrive/Thesis/model/normal_gan/559_0.0005/evaluation.csv')"
      ],
      "metadata": {
        "id": "8sNMUhaBXwuv"
      },
      "id": "8sNMUhaBXwuv",
      "execution_count": null,
      "outputs": []
    },
    {
      "cell_type": "code",
      "source": [
        "df_559_result = pd.read_csv('/content/drive/MyDrive/Thesis/model/normal_gan/559_0.0005/evaluation.csv')"
      ],
      "metadata": {
        "id": "TINLfvX2qSIi"
      },
      "id": "TINLfvX2qSIi",
      "execution_count": null,
      "outputs": []
    },
    {
      "cell_type": "code",
      "source": [
        "df_559_result[50:]"
      ],
      "metadata": {
        "colab": {
          "base_uri": "https://localhost:8080/",
          "height": 1000
        },
        "id": "NeorJQpCdRYs",
        "outputId": "bb0585e7-e569-4fa8-d808-7b2b60c936db"
      },
      "id": "NeorJQpCdRYs",
      "execution_count": null,
      "outputs": [
        {
          "output_type": "execute_result",
          "data": {
            "text/plain": [
              "    Unnamed: 0     Hyper       TIR   L1 Hypo   L2 Hypo        Mean         SD\n",
              "50          50  1.000000  0.000000  0.000000  0.000000  226.807770  18.075077\n",
              "51          51  0.055130  0.944870  0.000000  0.000000  160.604640  13.366693\n",
              "52          52  0.000000  0.786281  0.213648  0.000071   79.168370   9.813057\n",
              "53          53  0.000000  1.000000  0.000000  0.000000  118.588210  13.363597\n",
              "54          54  0.000000  1.000000  0.000000  0.000000  127.949974  11.061429\n",
              "55          55  0.000000  1.000000  0.000000  0.000000  124.346825  12.982280\n",
              "56          56  0.011267  0.982497  0.005811  0.000425  132.002200  25.048591\n",
              "57          57  0.890235  0.109765  0.000000  0.000000  207.234360  18.131014\n",
              "58          58  1.000000  0.000000  0.000000  0.000000  249.614240  21.759537\n",
              "59          59  0.277140  0.722860  0.000000  0.000000  170.320680  14.282815\n",
              "60          60  0.000000  0.906746  0.093254  0.000000   89.548580  12.221808\n",
              "61          61  0.000000  1.000000  0.000000  0.000000  127.736290  11.226569\n",
              "62          62  0.000000  1.000000  0.000000  0.000000  122.384420  11.517857\n",
              "63          63  0.000000  0.994260  0.005669  0.000071  111.899734  16.960537\n",
              "64          64  0.678146  0.300099  0.017928  0.003827  204.787840  64.936161\n",
              "65          65  1.000000  0.000000  0.000000  0.000000  300.646360  35.581442\n",
              "66          66  0.999858  0.000142  0.000000  0.000000  232.750890  21.951983\n",
              "67          67  0.000000  0.992134  0.007866  0.000000   91.579620  10.924605\n",
              "68          68  0.738946  0.253614  0.006519  0.000921  248.589830  95.957144\n",
              "69          69  0.000000  1.000000  0.000000  0.000000  118.426956  12.197703\n",
              "70          70  0.920493  0.079507  0.000000  0.000000  243.456800  41.814636\n",
              "71          71  1.000000  0.000000  0.000000  0.000000  271.210630  30.430871\n",
              "72          72  0.781463  0.218537  0.000000  0.000000  200.877370  21.990126\n",
              "73          73  0.000000  0.776361  0.209821  0.013818   76.515140   9.997996\n",
              "74          74  0.000000  0.994331  0.005669  0.000000  103.345080  13.230574\n",
              "75          75  0.386834  0.543580  0.043084  0.026502  158.879960  51.937010\n",
              "76          76  0.000071  0.984269  0.013322  0.002338  133.944320  22.622885\n",
              "77          77  0.405045  0.581066  0.012897  0.000992  162.984740  39.176016\n",
              "78          78  0.011976  0.986820  0.001205  0.000000  142.971700  25.503995\n",
              "79          79  0.000071  0.986891  0.012613  0.000425  128.688860  24.741751\n",
              "80          80  0.026502  0.957979  0.014314  0.001205  134.912250  30.167085\n",
              "81          81  0.562075  0.437713  0.000213  0.000000  175.635900  45.461825\n",
              "82          82  0.727962  0.272038  0.000000  0.000000  189.551860  19.502257\n",
              "83          83  0.998724  0.001276  0.000000  0.000000  237.263990  21.400038\n",
              "84          84  0.000000  0.655258  0.261763  0.082979   81.999880  23.033253\n",
              "85          85  0.000000  0.892432  0.106930  0.000638   90.645520  14.150822\n",
              "86          86  0.002268  0.997732  0.000000  0.000000  151.004330  14.160295\n",
              "87          87  0.999929  0.000071  0.000000  0.000000  232.195540  24.064091\n",
              "88          88  1.000000  0.000000  0.000000  0.000000  311.955700  44.491284\n",
              "89          89  0.000567  0.908730  0.024306  0.066397  132.201200  37.023783\n",
              "90          90  0.110119  0.808744  0.065972  0.015164  130.183430  41.208878\n",
              "91          91  0.289257  0.658022  0.038336  0.014385  152.299680  43.999695\n",
              "92          92  0.056335  0.886480  0.050454  0.006732  134.610030  35.575271\n",
              "93          93  0.029762  0.924532  0.038549  0.007157  130.476620  33.637636\n",
              "94          94  0.089782  0.901573  0.006378  0.002268  139.637270  34.246732\n",
              "95          95  0.881023  0.118977  0.000000  0.000000  210.139450  21.812682\n",
              "96          96  1.000000  0.000000  0.000000  0.000000  289.812930  24.933518\n",
              "97          97  0.000000  0.691681  0.248512  0.059807   75.382700  12.586425\n",
              "98          98  0.676446  0.323554  0.000000  0.000000  211.343060  68.051283\n",
              "99          99  0.194870  0.805130  0.000000  0.000000  167.337680  15.008147"
            ],
            "text/html": [
              "\n",
              "  <div id=\"df-729b9f38-4ebe-4966-b40b-9f46a39090ce\">\n",
              "    <div class=\"colab-df-container\">\n",
              "      <div>\n",
              "<style scoped>\n",
              "    .dataframe tbody tr th:only-of-type {\n",
              "        vertical-align: middle;\n",
              "    }\n",
              "\n",
              "    .dataframe tbody tr th {\n",
              "        vertical-align: top;\n",
              "    }\n",
              "\n",
              "    .dataframe thead th {\n",
              "        text-align: right;\n",
              "    }\n",
              "</style>\n",
              "<table border=\"1\" class=\"dataframe\">\n",
              "  <thead>\n",
              "    <tr style=\"text-align: right;\">\n",
              "      <th></th>\n",
              "      <th>Unnamed: 0</th>\n",
              "      <th>Hyper</th>\n",
              "      <th>TIR</th>\n",
              "      <th>L1 Hypo</th>\n",
              "      <th>L2 Hypo</th>\n",
              "      <th>Mean</th>\n",
              "      <th>SD</th>\n",
              "    </tr>\n",
              "  </thead>\n",
              "  <tbody>\n",
              "    <tr>\n",
              "      <th>50</th>\n",
              "      <td>50</td>\n",
              "      <td>1.000000</td>\n",
              "      <td>0.000000</td>\n",
              "      <td>0.000000</td>\n",
              "      <td>0.000000</td>\n",
              "      <td>226.807770</td>\n",
              "      <td>18.075077</td>\n",
              "    </tr>\n",
              "    <tr>\n",
              "      <th>51</th>\n",
              "      <td>51</td>\n",
              "      <td>0.055130</td>\n",
              "      <td>0.944870</td>\n",
              "      <td>0.000000</td>\n",
              "      <td>0.000000</td>\n",
              "      <td>160.604640</td>\n",
              "      <td>13.366693</td>\n",
              "    </tr>\n",
              "    <tr>\n",
              "      <th>52</th>\n",
              "      <td>52</td>\n",
              "      <td>0.000000</td>\n",
              "      <td>0.786281</td>\n",
              "      <td>0.213648</td>\n",
              "      <td>0.000071</td>\n",
              "      <td>79.168370</td>\n",
              "      <td>9.813057</td>\n",
              "    </tr>\n",
              "    <tr>\n",
              "      <th>53</th>\n",
              "      <td>53</td>\n",
              "      <td>0.000000</td>\n",
              "      <td>1.000000</td>\n",
              "      <td>0.000000</td>\n",
              "      <td>0.000000</td>\n",
              "      <td>118.588210</td>\n",
              "      <td>13.363597</td>\n",
              "    </tr>\n",
              "    <tr>\n",
              "      <th>54</th>\n",
              "      <td>54</td>\n",
              "      <td>0.000000</td>\n",
              "      <td>1.000000</td>\n",
              "      <td>0.000000</td>\n",
              "      <td>0.000000</td>\n",
              "      <td>127.949974</td>\n",
              "      <td>11.061429</td>\n",
              "    </tr>\n",
              "    <tr>\n",
              "      <th>55</th>\n",
              "      <td>55</td>\n",
              "      <td>0.000000</td>\n",
              "      <td>1.000000</td>\n",
              "      <td>0.000000</td>\n",
              "      <td>0.000000</td>\n",
              "      <td>124.346825</td>\n",
              "      <td>12.982280</td>\n",
              "    </tr>\n",
              "    <tr>\n",
              "      <th>56</th>\n",
              "      <td>56</td>\n",
              "      <td>0.011267</td>\n",
              "      <td>0.982497</td>\n",
              "      <td>0.005811</td>\n",
              "      <td>0.000425</td>\n",
              "      <td>132.002200</td>\n",
              "      <td>25.048591</td>\n",
              "    </tr>\n",
              "    <tr>\n",
              "      <th>57</th>\n",
              "      <td>57</td>\n",
              "      <td>0.890235</td>\n",
              "      <td>0.109765</td>\n",
              "      <td>0.000000</td>\n",
              "      <td>0.000000</td>\n",
              "      <td>207.234360</td>\n",
              "      <td>18.131014</td>\n",
              "    </tr>\n",
              "    <tr>\n",
              "      <th>58</th>\n",
              "      <td>58</td>\n",
              "      <td>1.000000</td>\n",
              "      <td>0.000000</td>\n",
              "      <td>0.000000</td>\n",
              "      <td>0.000000</td>\n",
              "      <td>249.614240</td>\n",
              "      <td>21.759537</td>\n",
              "    </tr>\n",
              "    <tr>\n",
              "      <th>59</th>\n",
              "      <td>59</td>\n",
              "      <td>0.277140</td>\n",
              "      <td>0.722860</td>\n",
              "      <td>0.000000</td>\n",
              "      <td>0.000000</td>\n",
              "      <td>170.320680</td>\n",
              "      <td>14.282815</td>\n",
              "    </tr>\n",
              "    <tr>\n",
              "      <th>60</th>\n",
              "      <td>60</td>\n",
              "      <td>0.000000</td>\n",
              "      <td>0.906746</td>\n",
              "      <td>0.093254</td>\n",
              "      <td>0.000000</td>\n",
              "      <td>89.548580</td>\n",
              "      <td>12.221808</td>\n",
              "    </tr>\n",
              "    <tr>\n",
              "      <th>61</th>\n",
              "      <td>61</td>\n",
              "      <td>0.000000</td>\n",
              "      <td>1.000000</td>\n",
              "      <td>0.000000</td>\n",
              "      <td>0.000000</td>\n",
              "      <td>127.736290</td>\n",
              "      <td>11.226569</td>\n",
              "    </tr>\n",
              "    <tr>\n",
              "      <th>62</th>\n",
              "      <td>62</td>\n",
              "      <td>0.000000</td>\n",
              "      <td>1.000000</td>\n",
              "      <td>0.000000</td>\n",
              "      <td>0.000000</td>\n",
              "      <td>122.384420</td>\n",
              "      <td>11.517857</td>\n",
              "    </tr>\n",
              "    <tr>\n",
              "      <th>63</th>\n",
              "      <td>63</td>\n",
              "      <td>0.000000</td>\n",
              "      <td>0.994260</td>\n",
              "      <td>0.005669</td>\n",
              "      <td>0.000071</td>\n",
              "      <td>111.899734</td>\n",
              "      <td>16.960537</td>\n",
              "    </tr>\n",
              "    <tr>\n",
              "      <th>64</th>\n",
              "      <td>64</td>\n",
              "      <td>0.678146</td>\n",
              "      <td>0.300099</td>\n",
              "      <td>0.017928</td>\n",
              "      <td>0.003827</td>\n",
              "      <td>204.787840</td>\n",
              "      <td>64.936161</td>\n",
              "    </tr>\n",
              "    <tr>\n",
              "      <th>65</th>\n",
              "      <td>65</td>\n",
              "      <td>1.000000</td>\n",
              "      <td>0.000000</td>\n",
              "      <td>0.000000</td>\n",
              "      <td>0.000000</td>\n",
              "      <td>300.646360</td>\n",
              "      <td>35.581442</td>\n",
              "    </tr>\n",
              "    <tr>\n",
              "      <th>66</th>\n",
              "      <td>66</td>\n",
              "      <td>0.999858</td>\n",
              "      <td>0.000142</td>\n",
              "      <td>0.000000</td>\n",
              "      <td>0.000000</td>\n",
              "      <td>232.750890</td>\n",
              "      <td>21.951983</td>\n",
              "    </tr>\n",
              "    <tr>\n",
              "      <th>67</th>\n",
              "      <td>67</td>\n",
              "      <td>0.000000</td>\n",
              "      <td>0.992134</td>\n",
              "      <td>0.007866</td>\n",
              "      <td>0.000000</td>\n",
              "      <td>91.579620</td>\n",
              "      <td>10.924605</td>\n",
              "    </tr>\n",
              "    <tr>\n",
              "      <th>68</th>\n",
              "      <td>68</td>\n",
              "      <td>0.738946</td>\n",
              "      <td>0.253614</td>\n",
              "      <td>0.006519</td>\n",
              "      <td>0.000921</td>\n",
              "      <td>248.589830</td>\n",
              "      <td>95.957144</td>\n",
              "    </tr>\n",
              "    <tr>\n",
              "      <th>69</th>\n",
              "      <td>69</td>\n",
              "      <td>0.000000</td>\n",
              "      <td>1.000000</td>\n",
              "      <td>0.000000</td>\n",
              "      <td>0.000000</td>\n",
              "      <td>118.426956</td>\n",
              "      <td>12.197703</td>\n",
              "    </tr>\n",
              "    <tr>\n",
              "      <th>70</th>\n",
              "      <td>70</td>\n",
              "      <td>0.920493</td>\n",
              "      <td>0.079507</td>\n",
              "      <td>0.000000</td>\n",
              "      <td>0.000000</td>\n",
              "      <td>243.456800</td>\n",
              "      <td>41.814636</td>\n",
              "    </tr>\n",
              "    <tr>\n",
              "      <th>71</th>\n",
              "      <td>71</td>\n",
              "      <td>1.000000</td>\n",
              "      <td>0.000000</td>\n",
              "      <td>0.000000</td>\n",
              "      <td>0.000000</td>\n",
              "      <td>271.210630</td>\n",
              "      <td>30.430871</td>\n",
              "    </tr>\n",
              "    <tr>\n",
              "      <th>72</th>\n",
              "      <td>72</td>\n",
              "      <td>0.781463</td>\n",
              "      <td>0.218537</td>\n",
              "      <td>0.000000</td>\n",
              "      <td>0.000000</td>\n",
              "      <td>200.877370</td>\n",
              "      <td>21.990126</td>\n",
              "    </tr>\n",
              "    <tr>\n",
              "      <th>73</th>\n",
              "      <td>73</td>\n",
              "      <td>0.000000</td>\n",
              "      <td>0.776361</td>\n",
              "      <td>0.209821</td>\n",
              "      <td>0.013818</td>\n",
              "      <td>76.515140</td>\n",
              "      <td>9.997996</td>\n",
              "    </tr>\n",
              "    <tr>\n",
              "      <th>74</th>\n",
              "      <td>74</td>\n",
              "      <td>0.000000</td>\n",
              "      <td>0.994331</td>\n",
              "      <td>0.005669</td>\n",
              "      <td>0.000000</td>\n",
              "      <td>103.345080</td>\n",
              "      <td>13.230574</td>\n",
              "    </tr>\n",
              "    <tr>\n",
              "      <th>75</th>\n",
              "      <td>75</td>\n",
              "      <td>0.386834</td>\n",
              "      <td>0.543580</td>\n",
              "      <td>0.043084</td>\n",
              "      <td>0.026502</td>\n",
              "      <td>158.879960</td>\n",
              "      <td>51.937010</td>\n",
              "    </tr>\n",
              "    <tr>\n",
              "      <th>76</th>\n",
              "      <td>76</td>\n",
              "      <td>0.000071</td>\n",
              "      <td>0.984269</td>\n",
              "      <td>0.013322</td>\n",
              "      <td>0.002338</td>\n",
              "      <td>133.944320</td>\n",
              "      <td>22.622885</td>\n",
              "    </tr>\n",
              "    <tr>\n",
              "      <th>77</th>\n",
              "      <td>77</td>\n",
              "      <td>0.405045</td>\n",
              "      <td>0.581066</td>\n",
              "      <td>0.012897</td>\n",
              "      <td>0.000992</td>\n",
              "      <td>162.984740</td>\n",
              "      <td>39.176016</td>\n",
              "    </tr>\n",
              "    <tr>\n",
              "      <th>78</th>\n",
              "      <td>78</td>\n",
              "      <td>0.011976</td>\n",
              "      <td>0.986820</td>\n",
              "      <td>0.001205</td>\n",
              "      <td>0.000000</td>\n",
              "      <td>142.971700</td>\n",
              "      <td>25.503995</td>\n",
              "    </tr>\n",
              "    <tr>\n",
              "      <th>79</th>\n",
              "      <td>79</td>\n",
              "      <td>0.000071</td>\n",
              "      <td>0.986891</td>\n",
              "      <td>0.012613</td>\n",
              "      <td>0.000425</td>\n",
              "      <td>128.688860</td>\n",
              "      <td>24.741751</td>\n",
              "    </tr>\n",
              "    <tr>\n",
              "      <th>80</th>\n",
              "      <td>80</td>\n",
              "      <td>0.026502</td>\n",
              "      <td>0.957979</td>\n",
              "      <td>0.014314</td>\n",
              "      <td>0.001205</td>\n",
              "      <td>134.912250</td>\n",
              "      <td>30.167085</td>\n",
              "    </tr>\n",
              "    <tr>\n",
              "      <th>81</th>\n",
              "      <td>81</td>\n",
              "      <td>0.562075</td>\n",
              "      <td>0.437713</td>\n",
              "      <td>0.000213</td>\n",
              "      <td>0.000000</td>\n",
              "      <td>175.635900</td>\n",
              "      <td>45.461825</td>\n",
              "    </tr>\n",
              "    <tr>\n",
              "      <th>82</th>\n",
              "      <td>82</td>\n",
              "      <td>0.727962</td>\n",
              "      <td>0.272038</td>\n",
              "      <td>0.000000</td>\n",
              "      <td>0.000000</td>\n",
              "      <td>189.551860</td>\n",
              "      <td>19.502257</td>\n",
              "    </tr>\n",
              "    <tr>\n",
              "      <th>83</th>\n",
              "      <td>83</td>\n",
              "      <td>0.998724</td>\n",
              "      <td>0.001276</td>\n",
              "      <td>0.000000</td>\n",
              "      <td>0.000000</td>\n",
              "      <td>237.263990</td>\n",
              "      <td>21.400038</td>\n",
              "    </tr>\n",
              "    <tr>\n",
              "      <th>84</th>\n",
              "      <td>84</td>\n",
              "      <td>0.000000</td>\n",
              "      <td>0.655258</td>\n",
              "      <td>0.261763</td>\n",
              "      <td>0.082979</td>\n",
              "      <td>81.999880</td>\n",
              "      <td>23.033253</td>\n",
              "    </tr>\n",
              "    <tr>\n",
              "      <th>85</th>\n",
              "      <td>85</td>\n",
              "      <td>0.000000</td>\n",
              "      <td>0.892432</td>\n",
              "      <td>0.106930</td>\n",
              "      <td>0.000638</td>\n",
              "      <td>90.645520</td>\n",
              "      <td>14.150822</td>\n",
              "    </tr>\n",
              "    <tr>\n",
              "      <th>86</th>\n",
              "      <td>86</td>\n",
              "      <td>0.002268</td>\n",
              "      <td>0.997732</td>\n",
              "      <td>0.000000</td>\n",
              "      <td>0.000000</td>\n",
              "      <td>151.004330</td>\n",
              "      <td>14.160295</td>\n",
              "    </tr>\n",
              "    <tr>\n",
              "      <th>87</th>\n",
              "      <td>87</td>\n",
              "      <td>0.999929</td>\n",
              "      <td>0.000071</td>\n",
              "      <td>0.000000</td>\n",
              "      <td>0.000000</td>\n",
              "      <td>232.195540</td>\n",
              "      <td>24.064091</td>\n",
              "    </tr>\n",
              "    <tr>\n",
              "      <th>88</th>\n",
              "      <td>88</td>\n",
              "      <td>1.000000</td>\n",
              "      <td>0.000000</td>\n",
              "      <td>0.000000</td>\n",
              "      <td>0.000000</td>\n",
              "      <td>311.955700</td>\n",
              "      <td>44.491284</td>\n",
              "    </tr>\n",
              "    <tr>\n",
              "      <th>89</th>\n",
              "      <td>89</td>\n",
              "      <td>0.000567</td>\n",
              "      <td>0.908730</td>\n",
              "      <td>0.024306</td>\n",
              "      <td>0.066397</td>\n",
              "      <td>132.201200</td>\n",
              "      <td>37.023783</td>\n",
              "    </tr>\n",
              "    <tr>\n",
              "      <th>90</th>\n",
              "      <td>90</td>\n",
              "      <td>0.110119</td>\n",
              "      <td>0.808744</td>\n",
              "      <td>0.065972</td>\n",
              "      <td>0.015164</td>\n",
              "      <td>130.183430</td>\n",
              "      <td>41.208878</td>\n",
              "    </tr>\n",
              "    <tr>\n",
              "      <th>91</th>\n",
              "      <td>91</td>\n",
              "      <td>0.289257</td>\n",
              "      <td>0.658022</td>\n",
              "      <td>0.038336</td>\n",
              "      <td>0.014385</td>\n",
              "      <td>152.299680</td>\n",
              "      <td>43.999695</td>\n",
              "    </tr>\n",
              "    <tr>\n",
              "      <th>92</th>\n",
              "      <td>92</td>\n",
              "      <td>0.056335</td>\n",
              "      <td>0.886480</td>\n",
              "      <td>0.050454</td>\n",
              "      <td>0.006732</td>\n",
              "      <td>134.610030</td>\n",
              "      <td>35.575271</td>\n",
              "    </tr>\n",
              "    <tr>\n",
              "      <th>93</th>\n",
              "      <td>93</td>\n",
              "      <td>0.029762</td>\n",
              "      <td>0.924532</td>\n",
              "      <td>0.038549</td>\n",
              "      <td>0.007157</td>\n",
              "      <td>130.476620</td>\n",
              "      <td>33.637636</td>\n",
              "    </tr>\n",
              "    <tr>\n",
              "      <th>94</th>\n",
              "      <td>94</td>\n",
              "      <td>0.089782</td>\n",
              "      <td>0.901573</td>\n",
              "      <td>0.006378</td>\n",
              "      <td>0.002268</td>\n",
              "      <td>139.637270</td>\n",
              "      <td>34.246732</td>\n",
              "    </tr>\n",
              "    <tr>\n",
              "      <th>95</th>\n",
              "      <td>95</td>\n",
              "      <td>0.881023</td>\n",
              "      <td>0.118977</td>\n",
              "      <td>0.000000</td>\n",
              "      <td>0.000000</td>\n",
              "      <td>210.139450</td>\n",
              "      <td>21.812682</td>\n",
              "    </tr>\n",
              "    <tr>\n",
              "      <th>96</th>\n",
              "      <td>96</td>\n",
              "      <td>1.000000</td>\n",
              "      <td>0.000000</td>\n",
              "      <td>0.000000</td>\n",
              "      <td>0.000000</td>\n",
              "      <td>289.812930</td>\n",
              "      <td>24.933518</td>\n",
              "    </tr>\n",
              "    <tr>\n",
              "      <th>97</th>\n",
              "      <td>97</td>\n",
              "      <td>0.000000</td>\n",
              "      <td>0.691681</td>\n",
              "      <td>0.248512</td>\n",
              "      <td>0.059807</td>\n",
              "      <td>75.382700</td>\n",
              "      <td>12.586425</td>\n",
              "    </tr>\n",
              "    <tr>\n",
              "      <th>98</th>\n",
              "      <td>98</td>\n",
              "      <td>0.676446</td>\n",
              "      <td>0.323554</td>\n",
              "      <td>0.000000</td>\n",
              "      <td>0.000000</td>\n",
              "      <td>211.343060</td>\n",
              "      <td>68.051283</td>\n",
              "    </tr>\n",
              "    <tr>\n",
              "      <th>99</th>\n",
              "      <td>99</td>\n",
              "      <td>0.194870</td>\n",
              "      <td>0.805130</td>\n",
              "      <td>0.000000</td>\n",
              "      <td>0.000000</td>\n",
              "      <td>167.337680</td>\n",
              "      <td>15.008147</td>\n",
              "    </tr>\n",
              "  </tbody>\n",
              "</table>\n",
              "</div>\n",
              "      <button class=\"colab-df-convert\" onclick=\"convertToInteractive('df-729b9f38-4ebe-4966-b40b-9f46a39090ce')\"\n",
              "              title=\"Convert this dataframe to an interactive table.\"\n",
              "              style=\"display:none;\">\n",
              "        \n",
              "  <svg xmlns=\"http://www.w3.org/2000/svg\" height=\"24px\"viewBox=\"0 0 24 24\"\n",
              "       width=\"24px\">\n",
              "    <path d=\"M0 0h24v24H0V0z\" fill=\"none\"/>\n",
              "    <path d=\"M18.56 5.44l.94 2.06.94-2.06 2.06-.94-2.06-.94-.94-2.06-.94 2.06-2.06.94zm-11 1L8.5 8.5l.94-2.06 2.06-.94-2.06-.94L8.5 2.5l-.94 2.06-2.06.94zm10 10l.94 2.06.94-2.06 2.06-.94-2.06-.94-.94-2.06-.94 2.06-2.06.94z\"/><path d=\"M17.41 7.96l-1.37-1.37c-.4-.4-.92-.59-1.43-.59-.52 0-1.04.2-1.43.59L10.3 9.45l-7.72 7.72c-.78.78-.78 2.05 0 2.83L4 21.41c.39.39.9.59 1.41.59.51 0 1.02-.2 1.41-.59l7.78-7.78 2.81-2.81c.8-.78.8-2.07 0-2.86zM5.41 20L4 18.59l7.72-7.72 1.47 1.35L5.41 20z\"/>\n",
              "  </svg>\n",
              "      </button>\n",
              "      \n",
              "  <style>\n",
              "    .colab-df-container {\n",
              "      display:flex;\n",
              "      flex-wrap:wrap;\n",
              "      gap: 12px;\n",
              "    }\n",
              "\n",
              "    .colab-df-convert {\n",
              "      background-color: #E8F0FE;\n",
              "      border: none;\n",
              "      border-radius: 50%;\n",
              "      cursor: pointer;\n",
              "      display: none;\n",
              "      fill: #1967D2;\n",
              "      height: 32px;\n",
              "      padding: 0 0 0 0;\n",
              "      width: 32px;\n",
              "    }\n",
              "\n",
              "    .colab-df-convert:hover {\n",
              "      background-color: #E2EBFA;\n",
              "      box-shadow: 0px 1px 2px rgba(60, 64, 67, 0.3), 0px 1px 3px 1px rgba(60, 64, 67, 0.15);\n",
              "      fill: #174EA6;\n",
              "    }\n",
              "\n",
              "    [theme=dark] .colab-df-convert {\n",
              "      background-color: #3B4455;\n",
              "      fill: #D2E3FC;\n",
              "    }\n",
              "\n",
              "    [theme=dark] .colab-df-convert:hover {\n",
              "      background-color: #434B5C;\n",
              "      box-shadow: 0px 1px 3px 1px rgba(0, 0, 0, 0.15);\n",
              "      filter: drop-shadow(0px 1px 2px rgba(0, 0, 0, 0.3));\n",
              "      fill: #FFFFFF;\n",
              "    }\n",
              "  </style>\n",
              "\n",
              "      <script>\n",
              "        const buttonEl =\n",
              "          document.querySelector('#df-729b9f38-4ebe-4966-b40b-9f46a39090ce button.colab-df-convert');\n",
              "        buttonEl.style.display =\n",
              "          google.colab.kernel.accessAllowed ? 'block' : 'none';\n",
              "\n",
              "        async function convertToInteractive(key) {\n",
              "          const element = document.querySelector('#df-729b9f38-4ebe-4966-b40b-9f46a39090ce');\n",
              "          const dataTable =\n",
              "            await google.colab.kernel.invokeFunction('convertToInteractive',\n",
              "                                                     [key], {});\n",
              "          if (!dataTable) return;\n",
              "\n",
              "          const docLinkHtml = 'Like what you see? Visit the ' +\n",
              "            '<a target=\"_blank\" href=https://colab.research.google.com/notebooks/data_table.ipynb>data table notebook</a>'\n",
              "            + ' to learn more about interactive tables.';\n",
              "          element.innerHTML = '';\n",
              "          dataTable['output_type'] = 'display_data';\n",
              "          await google.colab.output.renderOutput(dataTable, element);\n",
              "          const docLink = document.createElement('div');\n",
              "          docLink.innerHTML = docLinkHtml;\n",
              "          element.appendChild(docLink);\n",
              "        }\n",
              "      </script>\n",
              "    </div>\n",
              "  </div>\n",
              "  "
            ]
          },
          "metadata": {},
          "execution_count": 199
        }
      ]
    },
    {
      "cell_type": "markdown",
      "source": [
        "# The comparison between the results of normal GAN and TimeGAN"
      ],
      "metadata": {
        "id": "YFgzM2iMirmh"
      },
      "id": "YFgzM2iMirmh"
    },
    {
      "cell_type": "code",
      "source": [
        "generator.load_weights('/content/drive/MyDrive/Thesis/model/normal_gan/559_0.0005/generator_weights_7600.h5')\n",
        "synth_norm, _ = generate_fake_samples(generator, 49)\n",
        "synth_norm=synth_norm.reshape(49,288)\n",
        "synth_timegan = np.load(\"/content/drive/MyDrive/Thesis/best model/timegan_559_128/synthetic_data_nonorm.npy\")"
      ],
      "metadata": {
        "id": "CD0udmxAhl3q"
      },
      "id": "CD0udmxAhl3q",
      "execution_count": null,
      "outputs": []
    },
    {
      "cell_type": "code",
      "source": [
        "synth_normgan_norm = synth_norm\n",
        "synth_timegan_norm = np.load(\"/content/drive/MyDrive/Thesis/best model/timegan_559_128/synthetic_data.npy\")\n",
        "synth_normgan_nonnorm = scaler.inverse_transform(synth_norm)\n",
        "synth_timegan_nonnorm = synth_timegan\n",
        "real_ori = scaler.inverse_transform(glucose_559)\n",
        "real_norm = glucose_559"
      ],
      "metadata": {
        "id": "L4VGM7nBhre4"
      },
      "id": "L4VGM7nBhre4",
      "execution_count": null,
      "outputs": []
    },
    {
      "cell_type": "markdown",
      "source": [
        "SVM"
      ],
      "metadata": {
        "id": "O7uXxJr_GEUb"
      },
      "id": "O7uXxJr_GEUb"
    },
    {
      "cell_type": "code",
      "source": [
        "x = real_ori.tolist()\n",
        "y = my_list = [1]*49\n",
        "x_timegan = [synth_timegan_nonnorm[27][1][i][:,0].tolist() for i in range(49)]\n",
        "x_normgan = synth_normgan_nonnorm\n",
        "y_timegan = [0]*49\n",
        "\n",
        "x.extend(x_normgan)\n",
        "y.extend(y_timegan)"
      ],
      "metadata": {
        "id": "eNMelHwAh057"
      },
      "id": "eNMelHwAh057",
      "execution_count": null,
      "outputs": []
    },
    {
      "cell_type": "code",
      "source": [
        "import random\n",
        "\n",
        "numbers = list(range(98))\n",
        "\n",
        "num_selected_70 = random.sample(numbers, int(0.7*len(numbers)))\n",
        "\n",
        "num_selected_30 = list(set(numbers) - set(num_selected_70))\n",
        "\n",
        "print(\"training index：\", num_selected_70)\n",
        "print(\"test index：\", num_selected_30)"
      ],
      "metadata": {
        "colab": {
          "base_uri": "https://localhost:8080/"
        },
        "id": "q8lO3xJziD-W",
        "outputId": "1903a6dd-08bb-484d-ac1a-af61e69f6d57"
      },
      "id": "q8lO3xJziD-W",
      "execution_count": null,
      "outputs": [
        {
          "output_type": "stream",
          "name": "stdout",
          "text": [
            "training index： [12, 96, 88, 85, 49, 43, 55, 83, 27, 46, 23, 93, 81, 16, 84, 25, 79, 80, 18, 11, 24, 86, 1, 13, 2, 56, 71, 48, 7, 77, 58, 30, 68, 22, 78, 90, 87, 29, 35, 45, 20, 62, 54, 47, 26, 64, 0, 57, 52, 34, 92, 82, 37, 4, 42, 41, 72, 17, 38, 3, 32, 14, 69, 50, 33, 61, 53, 8]\n",
            "test index： [5, 6, 9, 10, 15, 19, 21, 28, 31, 36, 39, 40, 44, 51, 59, 60, 63, 65, 66, 67, 70, 73, 74, 75, 76, 89, 91, 94, 95, 97]\n"
          ]
        }
      ]
    },
    {
      "cell_type": "code",
      "source": [
        "training_x = [x[num_selected_70[i]] for i in range(len(num_selected_70))]\n",
        "test_x = [x[num_selected_30[i]] for i in range(len(num_selected_30))]\n",
        "training_y = [y[num_selected_70[i]] for i in range(len(num_selected_70))]\n",
        "test_y = [y[num_selected_30[i]] for i in range(len(num_selected_30))]"
      ],
      "metadata": {
        "id": "-ghNJuEAiQwc"
      },
      "id": "-ghNJuEAiQwc",
      "execution_count": null,
      "outputs": []
    },
    {
      "cell_type": "code",
      "source": [
        "from sklearn import svm, metrics\n",
        "classifier = svm.SVC()\n",
        "\n",
        "# Train the classifier on the training data\n",
        "classifier.fit(training_x, training_y)\n",
        "\n",
        "# Predict the labels of the test data\n",
        "y_pred = classifier.predict(test_x)\n",
        "\n",
        "# Calculate the accuracy and F1 score of the classifier\n",
        "accuracy = metrics.accuracy_score(test_y, y_pred)\n",
        "f1_score = metrics.f1_score(test_y, y_pred, average='weighted')\n",
        "\n",
        "# Print the results\n",
        "print(\"Accuracy:\", accuracy)\n",
        "print(\"F1 score:\", f1_score)"
      ],
      "metadata": {
        "colab": {
          "base_uri": "https://localhost:8080/"
        },
        "id": "TftrxHHRiTuc",
        "outputId": "a999a0a0-4422-4711-8a73-1cf1f7e6bece"
      },
      "id": "TftrxHHRiTuc",
      "execution_count": null,
      "outputs": [
        {
          "output_type": "stream",
          "name": "stdout",
          "text": [
            "Accuracy: 1.0\n",
            "F1 score: 1.0\n"
          ]
        }
      ]
    },
    {
      "cell_type": "markdown",
      "source": [
        "RNN prediction"
      ],
      "metadata": {
        "id": "7KtelINUG-Ai"
      },
      "id": "7KtelINUG-Ai"
    },
    {
      "cell_type": "code",
      "source": [
        "#Split training and test set\n",
        "n_events = len(real_ori)\n",
        "\n",
        "idx = np.arange(n_events)\n",
        "n_train = int(.8*n_events)\n",
        "train_idx = idx[:n_train]\n",
        "test_idx = idx[n_train:]"
      ],
      "metadata": {
        "id": "n5ItVJgIHCgo"
      },
      "id": "n5ItVJgIHCgo",
      "execution_count": null,
      "outputs": []
    },
    {
      "cell_type": "code",
      "source": [
        "# get training and test data (use past 6h data to predict next 30min)\n",
        "pre_len = 6 # 5*6=30 -> 30min\n",
        "train_len = 72 #12*6 -> 6h\n",
        "\n",
        "train_real_x = []\n",
        "train_real_y = []\n",
        "train_syn_norm_x = []\n",
        "train_syn_norm_y = []\n",
        "train_syn_time_x = []\n",
        "train_syn_time_y = []\n",
        "\n",
        "for i in range(len(train_idx)):\n",
        "  for j in range(288-(pre_len+train_len)+1):\n",
        "    train_real_x.append(glucose_559[train_idx[i], j:(j+train_len)])\n",
        "    train_real_y.append(glucose_559[train_idx[i], (j+train_len):(j+train_len+pre_len)])\n",
        "\n",
        "    train_syn_norm_x.append(synth_normgan_norm[train_idx[i], j:(j+train_len)])\n",
        "    train_syn_norm_y.append(synth_normgan_norm[train_idx[i], (j+train_len):(j+train_len+pre_len)])\n",
        "\n",
        "    train_syn_time_x.append(np.array([synth_timegan_norm[27][1][n][:,0] for n in range(49)])[train_idx[i], j:(j+train_len)])\n",
        "    train_syn_time_y.append(np.array([synth_timegan_norm[27][1][n][:,0] for n in range(49)])[train_idx[i], (j+train_len):(j+train_len+pre_len)])\n",
        "\n",
        "test_real_x = []\n",
        "test_real_y = []\n",
        "test_syn_norm_x = []\n",
        "test_syn_norm_y = []\n",
        "test_syn_time_x = []\n",
        "test_syn_time_y = []\n",
        "\n",
        "for i in range(len(test_idx)):\n",
        "  for j in range(288-(pre_len+train_len)+1):\n",
        "    test_real_x.append(glucose_559[test_idx[i], j:(j+train_len)])\n",
        "    test_real_y.append(glucose_559[test_idx[i], (j+train_len):(j+train_len+pre_len)])\n",
        "\n",
        "    test_syn_norm_x.append(synth_normgan_norm[test_idx[i], j:(j+train_len)])\n",
        "    test_syn_norm_y.append(synth_normgan_norm[test_idx[i], (j+train_len):(j+train_len+pre_len)])\n",
        "\n",
        "    test_syn_time_x.append(np.array([synth_timegan_norm[27][1][n][:,0] for n in range(49)])[test_idx[i], j:(j+train_len)])\n",
        "    test_syn_time_y.append(np.array([synth_timegan_norm[27][1][n][:,0] for n in range(49)])[test_idx[i], (j+train_len):(j+train_len+pre_len)])\n",
        "\n",
        "train_real_x = np.array(train_real_x)\n",
        "train_real_y = np.array(train_real_y)\n",
        "train_syn_norm_x = np.array(train_syn_norm_x)\n",
        "train_syn_norm_y = np.array(train_syn_norm_y)\n",
        "train_syn_time_x = np.array(train_syn_time_x)\n",
        "train_syn_time_y = np.array(train_syn_time_y)\n",
        "\n",
        "\n",
        "test_real_x = np.array(test_real_x)\n",
        "test_real_y = np.array(test_real_y)\n",
        "test_syn_norm_x = np.array(test_syn_norm_x)\n",
        "test_syn_norm_y = np.array(test_syn_norm_y)\n",
        "test_syn_time_x = np.array(test_syn_time_x)\n",
        "test_syn_time_y = np.array(test_syn_time_y)"
      ],
      "metadata": {
        "id": "R77X8wm2HIOi"
      },
      "id": "R77X8wm2HIOi",
      "execution_count": null,
      "outputs": []
    },
    {
      "cell_type": "code",
      "source": [
        "from tensorflow.keras import Input, Sequential\n",
        "from tensorflow.keras.callbacks import EarlyStopping\n",
        "from tensorflow.keras.layers import GRU, Dense\n",
        "from tensorflow.keras.optimizers import Adam\n",
        "from tensorflow.keras.losses import MeanAbsoluteError\n",
        "import tensorflow as tf\n",
        "from sklearn.metrics import r2_score, mean_absolute_error, mean_squared_log_error\n",
        "\n",
        "tf.random.set_seed(7)\n",
        "#First implement a simple RNN model for prediction\n",
        "def RNN_regression(units):\n",
        "    opt = Adam(name='AdamOpt')\n",
        "    loss = MeanAbsoluteError(name='MAE')\n",
        "    model = Sequential()\n",
        "    model.add(GRU(units=units, input_shape=(72,1),\n",
        "                  name=f'RNN_1'))\n",
        "    model.add(Dense(units=6,\n",
        "                    activation='sigmoid',\n",
        "                    name='OUT'))\n",
        "    model.compile(optimizer=opt, loss=loss)\n",
        "    return model"
      ],
      "metadata": {
        "id": "lQ0VFSU9H3fj"
      },
      "id": "lQ0VFSU9H3fj",
      "execution_count": null,
      "outputs": []
    },
    {
      "cell_type": "code",
      "source": [
        "#Training the model with the real train data\n",
        "ts_real = RNN_regression(72)\n",
        "early_stopping = EarlyStopping(monitor='val_loss', patience=5)\n",
        "\n",
        "real_train = ts_real.fit(x=train_real_x,\n",
        "                          y=train_real_y,\n",
        "                          validation_data=(test_real_x, test_real_y),\n",
        "                          epochs=200,\n",
        "                          batch_size=128,\n",
        "                          callbacks=[early_stopping])"
      ],
      "metadata": {
        "colab": {
          "base_uri": "https://localhost:8080/"
        },
        "id": "D9BKo0-mH45a",
        "outputId": "f9841b63-1362-4c36-ffba-62e285dbcbc7"
      },
      "id": "D9BKo0-mH45a",
      "execution_count": null,
      "outputs": [
        {
          "output_type": "stream",
          "name": "stdout",
          "text": [
            "Epoch 1/200\n",
            "65/65 [==============================] - 5s 12ms/step - loss: 0.1717 - val_loss: 0.0715\n",
            "Epoch 2/200\n",
            "65/65 [==============================] - 0s 6ms/step - loss: 0.0851 - val_loss: 0.0571\n",
            "Epoch 3/200\n",
            "65/65 [==============================] - 0s 6ms/step - loss: 0.0687 - val_loss: 0.0506\n",
            "Epoch 4/200\n",
            "65/65 [==============================] - 0s 5ms/step - loss: 0.0629 - val_loss: 0.0495\n",
            "Epoch 5/200\n",
            "65/65 [==============================] - 0s 5ms/step - loss: 0.0595 - val_loss: 0.0449\n",
            "Epoch 6/200\n",
            "65/65 [==============================] - 0s 6ms/step - loss: 0.0566 - val_loss: 0.0459\n",
            "Epoch 7/200\n",
            "65/65 [==============================] - 0s 5ms/step - loss: 0.0554 - val_loss: 0.0464\n",
            "Epoch 8/200\n",
            "65/65 [==============================] - 0s 5ms/step - loss: 0.0542 - val_loss: 0.0424\n",
            "Epoch 9/200\n",
            "65/65 [==============================] - 0s 5ms/step - loss: 0.0529 - val_loss: 0.0418\n",
            "Epoch 10/200\n",
            "65/65 [==============================] - 0s 5ms/step - loss: 0.0517 - val_loss: 0.0412\n",
            "Epoch 11/200\n",
            "65/65 [==============================] - 0s 6ms/step - loss: 0.0515 - val_loss: 0.0402\n",
            "Epoch 12/200\n",
            "65/65 [==============================] - 0s 6ms/step - loss: 0.0508 - val_loss: 0.0403\n",
            "Epoch 13/200\n",
            "65/65 [==============================] - 0s 6ms/step - loss: 0.0497 - val_loss: 0.0415\n",
            "Epoch 14/200\n",
            "65/65 [==============================] - 0s 6ms/step - loss: 0.0498 - val_loss: 0.0421\n",
            "Epoch 15/200\n",
            "65/65 [==============================] - 0s 6ms/step - loss: 0.0492 - val_loss: 0.0385\n",
            "Epoch 16/200\n",
            "65/65 [==============================] - 0s 6ms/step - loss: 0.0484 - val_loss: 0.0396\n",
            "Epoch 17/200\n",
            "65/65 [==============================] - 0s 6ms/step - loss: 0.0479 - val_loss: 0.0389\n",
            "Epoch 18/200\n",
            "65/65 [==============================] - 0s 6ms/step - loss: 0.0476 - val_loss: 0.0381\n",
            "Epoch 19/200\n",
            "65/65 [==============================] - 0s 6ms/step - loss: 0.0475 - val_loss: 0.0391\n",
            "Epoch 20/200\n",
            "65/65 [==============================] - 0s 6ms/step - loss: 0.0470 - val_loss: 0.0399\n",
            "Epoch 21/200\n",
            "65/65 [==============================] - 0s 6ms/step - loss: 0.0467 - val_loss: 0.0388\n",
            "Epoch 22/200\n",
            "65/65 [==============================] - 0s 6ms/step - loss: 0.0464 - val_loss: 0.0374\n",
            "Epoch 23/200\n",
            "65/65 [==============================] - 0s 6ms/step - loss: 0.0462 - val_loss: 0.0374\n",
            "Epoch 24/200\n",
            "65/65 [==============================] - 0s 6ms/step - loss: 0.0459 - val_loss: 0.0368\n",
            "Epoch 25/200\n",
            "65/65 [==============================] - 0s 6ms/step - loss: 0.0457 - val_loss: 0.0372\n",
            "Epoch 26/200\n",
            "65/65 [==============================] - 0s 6ms/step - loss: 0.0455 - val_loss: 0.0378\n",
            "Epoch 27/200\n",
            "65/65 [==============================] - 0s 6ms/step - loss: 0.0454 - val_loss: 0.0362\n",
            "Epoch 28/200\n",
            "65/65 [==============================] - 0s 6ms/step - loss: 0.0450 - val_loss: 0.0362\n",
            "Epoch 29/200\n",
            "65/65 [==============================] - 0s 6ms/step - loss: 0.0449 - val_loss: 0.0359\n",
            "Epoch 30/200\n",
            "65/65 [==============================] - 0s 6ms/step - loss: 0.0446 - val_loss: 0.0371\n",
            "Epoch 31/200\n",
            "65/65 [==============================] - 0s 6ms/step - loss: 0.0445 - val_loss: 0.0359\n",
            "Epoch 32/200\n",
            "65/65 [==============================] - 0s 6ms/step - loss: 0.0446 - val_loss: 0.0353\n",
            "Epoch 33/200\n",
            "65/65 [==============================] - 0s 6ms/step - loss: 0.0443 - val_loss: 0.0371\n",
            "Epoch 34/200\n",
            "65/65 [==============================] - 0s 6ms/step - loss: 0.0442 - val_loss: 0.0355\n",
            "Epoch 35/200\n",
            "65/65 [==============================] - 0s 6ms/step - loss: 0.0440 - val_loss: 0.0356\n",
            "Epoch 36/200\n",
            "65/65 [==============================] - 0s 6ms/step - loss: 0.0434 - val_loss: 0.0351\n",
            "Epoch 37/200\n",
            "65/65 [==============================] - 0s 6ms/step - loss: 0.0433 - val_loss: 0.0357\n",
            "Epoch 38/200\n",
            "65/65 [==============================] - 0s 6ms/step - loss: 0.0432 - val_loss: 0.0352\n",
            "Epoch 39/200\n",
            "65/65 [==============================] - 0s 6ms/step - loss: 0.0432 - val_loss: 0.0343\n",
            "Epoch 40/200\n",
            "65/65 [==============================] - 0s 6ms/step - loss: 0.0431 - val_loss: 0.0385\n",
            "Epoch 41/200\n",
            "65/65 [==============================] - 0s 6ms/step - loss: 0.0428 - val_loss: 0.0345\n",
            "Epoch 42/200\n",
            "65/65 [==============================] - 0s 6ms/step - loss: 0.0426 - val_loss: 0.0344\n",
            "Epoch 43/200\n",
            "65/65 [==============================] - 0s 6ms/step - loss: 0.0425 - val_loss: 0.0338\n",
            "Epoch 44/200\n",
            "65/65 [==============================] - 0s 6ms/step - loss: 0.0424 - val_loss: 0.0335\n",
            "Epoch 45/200\n",
            "65/65 [==============================] - 0s 6ms/step - loss: 0.0424 - val_loss: 0.0340\n",
            "Epoch 46/200\n",
            "65/65 [==============================] - 0s 6ms/step - loss: 0.0422 - val_loss: 0.0341\n",
            "Epoch 47/200\n",
            "65/65 [==============================] - 0s 6ms/step - loss: 0.0422 - val_loss: 0.0346\n",
            "Epoch 48/200\n",
            "65/65 [==============================] - 0s 6ms/step - loss: 0.0420 - val_loss: 0.0342\n",
            "Epoch 49/200\n",
            "65/65 [==============================] - 0s 6ms/step - loss: 0.0418 - val_loss: 0.0337\n"
          ]
        }
      ]
    },
    {
      "cell_type": "code",
      "source": [
        "# TRTR results\n",
        "real_predictions = ts_real.predict(test_real_x)\n",
        "r2_real = r2_score(test_real_y, real_predictions)\n",
        "mae_real = mean_absolute_error(test_real_y, real_predictions)\n",
        "mrle_real = mean_squared_log_error(test_real_y, real_predictions)\n",
        "print(r2_real)\n",
        "print(mae_real)\n",
        "print(mrle_real)"
      ],
      "metadata": {
        "colab": {
          "base_uri": "https://localhost:8080/"
        },
        "id": "7LJ7ZUnjH7c7",
        "outputId": "2a227ae9-57f6-4ec8-9995-cbb0f6fd563f"
      },
      "id": "7LJ7ZUnjH7c7",
      "execution_count": null,
      "outputs": [
        {
          "output_type": "stream",
          "name": "stdout",
          "text": [
            "66/66 [==============================] - 0s 2ms/step\n",
            "0.930294240970016\n",
            "0.03374067882037952\n",
            "0.001284915736493948\n"
          ]
        }
      ]
    },
    {
      "cell_type": "code",
      "source": [
        "#Training the model with the synthetic data from normal GAN\n",
        "ts_norm_syn = RNN_regression(72)\n",
        "early_stopping = EarlyStopping(monitor='val_loss', patience=5)\n",
        "\n",
        "norm_syn_train = ts_norm_syn.fit(x=train_syn_norm_x,\n",
        "                          y=train_syn_norm_y,\n",
        "                          validation_data=(test_real_x, test_real_y),\n",
        "                          epochs=200,\n",
        "                          batch_size=128,\n",
        "                          callbacks=[early_stopping])"
      ],
      "metadata": {
        "colab": {
          "base_uri": "https://localhost:8080/"
        },
        "id": "mIP7WYJNH_GJ",
        "outputId": "4837d62a-5e65-4ab7-a64f-f92891f583dd"
      },
      "id": "mIP7WYJNH_GJ",
      "execution_count": null,
      "outputs": [
        {
          "output_type": "stream",
          "name": "stdout",
          "text": [
            "Epoch 1/200\n",
            "65/65 [==============================] - 3s 12ms/step - loss: 0.1360 - val_loss: 0.1090\n",
            "Epoch 2/200\n",
            "65/65 [==============================] - 0s 6ms/step - loss: 0.0831 - val_loss: 0.0650\n",
            "Epoch 3/200\n",
            "65/65 [==============================] - 0s 6ms/step - loss: 0.0659 - val_loss: 0.0555\n",
            "Epoch 4/200\n",
            "65/65 [==============================] - 0s 6ms/step - loss: 0.0599 - val_loss: 0.0507\n",
            "Epoch 5/200\n",
            "65/65 [==============================] - 0s 6ms/step - loss: 0.0566 - val_loss: 0.0470\n",
            "Epoch 6/200\n",
            "65/65 [==============================] - 0s 6ms/step - loss: 0.0549 - val_loss: 0.0480\n",
            "Epoch 7/200\n",
            "65/65 [==============================] - 0s 6ms/step - loss: 0.0542 - val_loss: 0.0464\n",
            "Epoch 8/200\n",
            "65/65 [==============================] - 0s 6ms/step - loss: 0.0531 - val_loss: 0.0450\n",
            "Epoch 9/200\n",
            "65/65 [==============================] - 0s 6ms/step - loss: 0.0526 - val_loss: 0.0454\n",
            "Epoch 10/200\n",
            "65/65 [==============================] - 0s 6ms/step - loss: 0.0521 - val_loss: 0.0443\n",
            "Epoch 11/200\n",
            "65/65 [==============================] - 0s 6ms/step - loss: 0.0517 - val_loss: 0.0440\n",
            "Epoch 12/200\n",
            "65/65 [==============================] - 0s 6ms/step - loss: 0.0511 - val_loss: 0.0439\n",
            "Epoch 13/200\n",
            "65/65 [==============================] - 0s 6ms/step - loss: 0.0509 - val_loss: 0.0440\n",
            "Epoch 14/200\n",
            "65/65 [==============================] - 0s 6ms/step - loss: 0.0501 - val_loss: 0.0437\n",
            "Epoch 15/200\n",
            "65/65 [==============================] - 0s 6ms/step - loss: 0.0495 - val_loss: 0.0426\n",
            "Epoch 16/200\n",
            "65/65 [==============================] - 0s 6ms/step - loss: 0.0491 - val_loss: 0.0419\n",
            "Epoch 17/200\n",
            "65/65 [==============================] - 0s 6ms/step - loss: 0.0479 - val_loss: 0.0462\n",
            "Epoch 18/200\n",
            "65/65 [==============================] - 0s 6ms/step - loss: 0.0466 - val_loss: 0.0480\n",
            "Epoch 19/200\n",
            "65/65 [==============================] - 0s 6ms/step - loss: 0.0454 - val_loss: 0.0658\n",
            "Epoch 20/200\n",
            "65/65 [==============================] - 0s 6ms/step - loss: 0.0449 - val_loss: 0.0553\n",
            "Epoch 21/200\n",
            "65/65 [==============================] - 0s 6ms/step - loss: 0.0440 - val_loss: 0.0592\n"
          ]
        }
      ]
    },
    {
      "cell_type": "code",
      "source": [
        "# TSTR results from normal GAN\n",
        "syn_norm_predictions = ts_norm_syn.predict(test_real_x)\n",
        "r2_syn_norm = r2_score(test_real_y, syn_norm_predictions)\n",
        "mae_syn_norm = mean_absolute_error(test_real_y, syn_norm_predictions)\n",
        "mrle_syn_norm = mean_squared_log_error(test_real_y, syn_norm_predictions)\n",
        "print(r2_syn_norm)\n",
        "print(mae_syn_norm)\n",
        "print(mrle_syn_norm)"
      ],
      "metadata": {
        "colab": {
          "base_uri": "https://localhost:8080/"
        },
        "id": "THE1Wxb-H_uc",
        "outputId": "8cd4dcc2-ca53-472c-8632-ea786dfd4b3a"
      },
      "id": "THE1Wxb-H_uc",
      "execution_count": null,
      "outputs": [
        {
          "output_type": "stream",
          "name": "stdout",
          "text": [
            "66/66 [==============================] - 0s 2ms/step\n",
            "0.7952683502182919\n",
            "0.05919088706684555\n",
            "0.00446583894939248\n"
          ]
        }
      ]
    },
    {
      "cell_type": "code",
      "source": [
        "#Training the model with the synthetic data from TimeGAN\n",
        "ts_time_syn = RNN_regression(72)\n",
        "early_stopping = EarlyStopping(monitor='val_loss', patience=5)\n",
        "\n",
        "time_syn_train = ts_time_syn.fit(x=train_syn_time_x,\n",
        "                          y=train_syn_time_y,\n",
        "                          validation_data=(test_real_x, test_real_y),\n",
        "                          epochs=200,\n",
        "                          batch_size=128,\n",
        "                          callbacks=[early_stopping])"
      ],
      "metadata": {
        "colab": {
          "base_uri": "https://localhost:8080/"
        },
        "id": "2pHK4rlwIB1f",
        "outputId": "05e941be-e354-4ff9-da1d-8773e3a86b13"
      },
      "id": "2pHK4rlwIB1f",
      "execution_count": null,
      "outputs": [
        {
          "output_type": "stream",
          "name": "stdout",
          "text": [
            "Epoch 1/200\n",
            "65/65 [==============================] - 3s 11ms/step - loss: 0.1572 - val_loss: 0.0821\n",
            "Epoch 2/200\n",
            "65/65 [==============================] - 0s 6ms/step - loss: 0.1061 - val_loss: 0.0914\n",
            "Epoch 3/200\n",
            "65/65 [==============================] - 0s 6ms/step - loss: 0.0816 - val_loss: 0.0643\n",
            "Epoch 4/200\n",
            "65/65 [==============================] - 0s 5ms/step - loss: 0.0742 - val_loss: 0.0594\n",
            "Epoch 5/200\n",
            "65/65 [==============================] - 0s 6ms/step - loss: 0.0709 - val_loss: 0.0598\n",
            "Epoch 6/200\n",
            "65/65 [==============================] - 0s 6ms/step - loss: 0.0679 - val_loss: 0.0656\n",
            "Epoch 7/200\n",
            "65/65 [==============================] - 0s 6ms/step - loss: 0.0667 - val_loss: 0.0558\n",
            "Epoch 8/200\n",
            "65/65 [==============================] - 0s 6ms/step - loss: 0.0647 - val_loss: 0.0592\n",
            "Epoch 9/200\n",
            "65/65 [==============================] - 0s 6ms/step - loss: 0.0629 - val_loss: 0.0551\n",
            "Epoch 10/200\n",
            "65/65 [==============================] - 0s 6ms/step - loss: 0.0616 - val_loss: 0.0538\n",
            "Epoch 11/200\n",
            "65/65 [==============================] - 0s 6ms/step - loss: 0.0606 - val_loss: 0.0558\n",
            "Epoch 12/200\n",
            "65/65 [==============================] - 0s 6ms/step - loss: 0.0593 - val_loss: 0.0505\n",
            "Epoch 13/200\n",
            "65/65 [==============================] - 0s 6ms/step - loss: 0.0582 - val_loss: 0.0515\n",
            "Epoch 14/200\n",
            "65/65 [==============================] - 0s 6ms/step - loss: 0.0577 - val_loss: 0.0521\n",
            "Epoch 15/200\n",
            "65/65 [==============================] - 0s 6ms/step - loss: 0.0558 - val_loss: 0.0529\n",
            "Epoch 16/200\n",
            "65/65 [==============================] - 0s 6ms/step - loss: 0.0544 - val_loss: 0.0552\n",
            "Epoch 17/200\n",
            "65/65 [==============================] - 0s 6ms/step - loss: 0.0536 - val_loss: 0.0570\n"
          ]
        }
      ]
    },
    {
      "cell_type": "code",
      "source": [
        "# TSTR results from TimeGAN\n",
        "syn_time_predictions = ts_time_syn.predict(test_real_x)\n",
        "r2_syn_time = r2_score(test_real_y, syn_time_predictions)\n",
        "mae_syn_time = mean_absolute_error(test_real_y, syn_time_predictions)\n",
        "mrle_syn_time = mean_squared_log_error(test_real_y, syn_time_predictions)\n",
        "print(r2_syn_time)\n",
        "print(mae_syn_time)\n",
        "print(mrle_syn_time)"
      ],
      "metadata": {
        "colab": {
          "base_uri": "https://localhost:8080/"
        },
        "id": "MQyOCGSlIDjR",
        "outputId": "2f7ab06a-3db0-4e50-a9b1-23dbca8d4500"
      },
      "id": "MQyOCGSlIDjR",
      "execution_count": null,
      "outputs": [
        {
          "output_type": "stream",
          "name": "stdout",
          "text": [
            "66/66 [==============================] - 0s 2ms/step\n",
            "0.8308058248302695\n",
            "0.05698379657803417\n",
            "0.0030616271753711607\n"
          ]
        }
      ]
    },
    {
      "cell_type": "markdown",
      "source": [
        "visualization of real and synthetic data"
      ],
      "metadata": {
        "id": "nFO870CVJWx1"
      },
      "id": "nFO870CVJWx1"
    },
    {
      "cell_type": "code",
      "source": [
        "cols = 'blood glucose (Patient 559)'\n",
        "\n",
        "df = pd.DataFrame({'Real': real_ori[30], 'Synthetic_normGAN': synth_normgan_nonnorm[30], 'Synthetic_TimeGAN': synth_timegan_nonnorm[27][1][30][:, 0]})\n",
        "df.plot(title = cols, secondary_y='Synthetic data', style=['-'])"
      ],
      "metadata": {
        "id": "kI2oEigmLoBW",
        "colab": {
          "base_uri": "https://localhost:8080/",
          "height": 470
        },
        "outputId": "88f505fd-a779-4d2f-b3fd-5a8b7260768b"
      },
      "id": "kI2oEigmLoBW",
      "execution_count": null,
      "outputs": [
        {
          "output_type": "execute_result",
          "data": {
            "text/plain": [
              "<Axes: title={'center': 'blood glucose (Patient 559)'}>"
            ]
          },
          "metadata": {},
          "execution_count": 31
        },
        {
          "output_type": "display_data",
          "data": {
            "text/plain": [
              "<Figure size 640x480 with 1 Axes>"
            ],
            "image/png": "[encoded data removed]"
          },
          "metadata": {}
        }
      ]
    },
    {
      "cell_type": "code",
      "source": [
        "cols = 'blood glucose (Patient 559)'\n",
        "\n",
        "df = pd.DataFrame({'Real': real_ori[45], 'Synthetic_normGAN': synth_normgan_nonnorm[45], 'Synthetic_TimeGAN': synth_timegan_nonnorm[27][1][45][:, 0]})\n",
        "df.plot(title = cols, secondary_y='Synthetic data', style=['-'])"
      ],
      "metadata": {
        "colab": {
          "base_uri": "https://localhost:8080/",
          "height": 470
        },
        "id": "8WBitjYylUI9",
        "outputId": "e48801d6-574b-4095-93df-9aa26139b6ab"
      },
      "id": "8WBitjYylUI9",
      "execution_count": null,
      "outputs": [
        {
          "output_type": "execute_result",
          "data": {
            "text/plain": [
              "<Axes: title={'center': 'blood glucose (Patient 559)'}>"
            ]
          },
          "metadata": {},
          "execution_count": 32
        },
        {
          "output_type": "display_data",
          "data": {
            "text/plain": [
              "<Figure size 640x480 with 1 Axes>"
            ],
            "image/png": "[encoded data removed]"
          },
          "metadata": {}
        }
      ]
    },
    {
      "cell_type": "code",
      "source": [
        "cols = 'blood glucose (Patient 559)'\n",
        "\n",
        "df = pd.DataFrame({'Real': real_ori[15], 'Synthetic_normGAN': synth_normgan_nonnorm[15], 'Synthetic_TimeGAN': synth_timegan_nonnorm[27][1][15][:, 0]})\n",
        "df.plot(title = cols, secondary_y='Synthetic data', style=['-'])"
      ],
      "metadata": {
        "colab": {
          "base_uri": "https://localhost:8080/",
          "height": 470
        },
        "id": "xmbuCovQJ4bv",
        "outputId": "f44bbf9a-b94d-4636-c5a9-5344647ece6d"
      },
      "id": "xmbuCovQJ4bv",
      "execution_count": null,
      "outputs": [
        {
          "output_type": "execute_result",
          "data": {
            "text/plain": [
              "<Axes: title={'center': 'blood glucose (Patient 559)'}>"
            ]
          },
          "metadata": {},
          "execution_count": 46
        },
        {
          "output_type": "display_data",
          "data": {
            "text/plain": [
              "<Figure size 640x480 with 1 Axes>"
            ],
            "image/png": "[encoded data removed]"
          },
          "metadata": {}
        }
      ]
    },
    {
      "cell_type": "markdown",
      "source": [
        "JS distance, DTW"
      ],
      "metadata": {
        "id": "_diWz2hlLKvA"
      },
      "id": "_diWz2hlLKvA"
    },
    {
      "cell_type": "code",
      "source": [
        "import math\n",
        "# Wilcoxon test\n",
        "res_normgan = wilcoxon(synth_normgan_nonnorm, real_ori, alternative = 'two-sided', zero_method='wilcox')\n",
        "res_timegan = wilcoxon([synth_timegan_nonnorm[27][1][i][:,0] for i in range(49)], real_ori, alternative = 'two-sided', zero_method='wilcox')\n",
        "print('Normal GAN Wiloxon test: {}'.format(mean(res_normgan.pvalue.flatten())))\n",
        "print('TimeGAN Wiloxon test: {}'.format(mean(res_timegan.pvalue.flatten())))\n",
        "\n",
        "# JS distance\n",
        "dis_normgan = distance.jensenshannon(synth_normgan_nonnorm, real_ori, axis=1)\n",
        "dis_timegan = distance.jensenshannon([synth_timegan_nonnorm[27][1][i][:,0] for i in range(49)], real_ori, axis=1)\n",
        "print('Normal JS distance: {}'.format(mean(dis_normgan.flatten())))\n",
        "print('TimeGAN JS distance: {}'.format(mean(dis_timegan.flatten())))\n",
        "\n",
        "# Eculidean distance\n",
        "e_dis_norm = [math.dist(synth_normgan_norm[i], glucose_559[i]) for i in range(len(real_ori))]\n",
        "e_dis_time = [math.dist([synth_timegan_norm[27][1][j][:,0] for j in range(49)][i], glucose_559[i]) for i in range(len(real_ori))]\n",
        "print('Normal JS distance: {}'.format(mean(e_dis_norm)))\n",
        "print('TimeGAN JS distance: {}'.format(mean(e_dis_time)))"
      ],
      "metadata": {
        "id": "sVWaHFNHmK9i",
        "colab": {
          "base_uri": "https://localhost:8080/"
        },
        "outputId": "baac16e7-878e-4ef4-b62f-363f24663b20"
      },
      "id": "sVWaHFNHmK9i",
      "execution_count": null,
      "outputs": [
        {
          "output_type": "stream",
          "name": "stdout",
          "text": [
            "Normal GAN Wiloxon test: 0.2330902090947616\n",
            "TimeGAN Wiloxon test: 0.3512874804459958\n",
            "Normal JS distance: 0.17401502027983784\n",
            "TimeGAN JS distance: 0.18028073716679005\n",
            "Normal JS distance: 4.781133522589303\n",
            "TimeGAN JS distance: 5.071933507274783\n"
          ]
        }
      ]
    },
    {
      "cell_type": "code",
      "source": [
        "# DTW\n",
        "dtw_normgan = []\n",
        "dtw_timegan = []\n",
        "for i in range(len(real_ori)):\n",
        "  dtw_normgan.append(dtw.distance(synth_normgan_norm[i], glucose_559[i]))\n",
        "  dtw_timegan.append(dtw.distance([synth_timegan_norm[27][1][i][:,0] for i in range(49)][i], glucose_559[i]))"
      ],
      "metadata": {
        "id": "otB6i0cXZR8S"
      },
      "id": "otB6i0cXZR8S",
      "execution_count": null,
      "outputs": []
    },
    {
      "cell_type": "code",
      "source": [
        "print('Normal DTW distance: {}'.format(mean(dtw_normgan)))\n",
        "print('TimeGAN DTW distance: {}'.format(mean(dtw_timegan)))"
      ],
      "metadata": {
        "colab": {
          "base_uri": "https://localhost:8080/"
        },
        "id": "lAW1yjemm1J0",
        "outputId": "257150e3-df5e-4770-bd4c-2cc884f50a5c"
      },
      "id": "lAW1yjemm1J0",
      "execution_count": null,
      "outputs": [
        {
          "output_type": "stream",
          "name": "stdout",
          "text": [
            "Normal DTW distance: 2.6064722128224393\n",
            "TimeGAN DTW distance: 2.771065419918404\n"
          ]
        }
      ]
    },
    {
      "cell_type": "code",
      "source": [
        "df = pd.DataFrame({'Synthetic_normGAN': dtw_normgan, 'Synthetic_TimeGAN': dtw_timegan})\n",
        "df.plot(title = 'The DTW distance', secondary_y='Data index', style=['-'])"
      ],
      "metadata": {
        "colab": {
          "base_uri": "https://localhost:8080/",
          "height": 470
        },
        "id": "iLvdE5Ozmmu6",
        "outputId": "8bfd2365-fc17-4780-e4a2-25c62e1ea685"
      },
      "id": "iLvdE5Ozmmu6",
      "execution_count": null,
      "outputs": [
        {
          "output_type": "execute_result",
          "data": {
            "text/plain": [
              "<Axes: title={'center': 'The DTW distance'}>"
            ]
          },
          "metadata": {},
          "execution_count": 40
        },
        {
          "output_type": "display_data",
          "data": {
            "text/plain": [
              "<Figure size 640x480 with 1 Axes>"
            ],
            "image/png": "[encoded data removed]"
          },
          "metadata": {}
        }
      ]
    },
    {
      "cell_type": "markdown",
      "source": [
        "visualization of PCA and t-SNE\n",
        "\n",
        "-> Validating synthetic vs real data diversity and distributions"
      ],
      "metadata": {
        "id": "yZJ22TXgLOnk"
      },
      "id": "yZJ22TXgLOnk"
    },
    {
      "cell_type": "code",
      "source": [
        "sample_size = 49\n",
        "idx = np.random.permutation(len(real_ori))[:sample_size]\n",
        "\n",
        "real_sample = np.asarray(real_ori)[idx]\n",
        "\n",
        "synthetic_sample_norm = np.asarray(synth_normgan_nonnorm)[idx]\n",
        "\n",
        "# real\n",
        "synth_data_reduced = real_sample.reshape(-1, 288)\n",
        "# synthetic \n",
        "patient_data_reduced_norm = np.asarray(synthetic_sample_norm).reshape(-1,288)\n",
        "\n",
        "n_components = 2\n",
        "pca = PCA(n_components=n_components)\n",
        "tsne = TSNE(n_components=n_components, n_iter=300)\n",
        "\n",
        "#The fit of the methods must be done only using the real sequential data\n",
        "pca.fit(synth_data_reduced)\n",
        "\n",
        "pca_real = pd.DataFrame(pca.transform(synth_data_reduced))\n",
        "pca_synth_norm = pd.DataFrame(pca.transform(patient_data_reduced_norm))\n",
        "\n",
        "data_reduced = np.concatenate((synth_data_reduced, patient_data_reduced_norm), axis=0)\n",
        "tsne_results = pd.DataFrame(tsne.fit_transform(data_reduced))"
      ],
      "metadata": {
        "id": "u6uwAUSbnBDx"
      },
      "id": "u6uwAUSbnBDx",
      "execution_count": null,
      "outputs": []
    },
    {
      "cell_type": "code",
      "source": [
        "fig = plt.figure(constrained_layout=True, figsize=(15,8))\n",
        "spec = gridspec.GridSpec(ncols=2, nrows=1, figure=fig)\n",
        "\n",
        "#TSNE scatter plot\n",
        "ax = fig.add_subplot(spec[0,0])\n",
        "ax.set_title('PCA results',\n",
        "             fontsize=20,\n",
        "             pad=10)\n",
        "\n",
        "#PCA scatter plot\n",
        "plt.scatter(pca_real.iloc[:, 0].values, pca_real.iloc[:,1].values,\n",
        "            c='black', alpha=0.2, label='Original')\n",
        "plt.scatter(pca_synth_norm.iloc[:,0], pca_synth_norm.iloc[:,1],\n",
        "            c='red', alpha=0.2, label='Synthetic_normGAN')\n",
        "\n",
        "ax.legend()\n",
        "\n",
        "ax2 = fig.add_subplot(spec[0,1])\n",
        "ax2.set_title('TSNE results',\n",
        "              fontsize=20)\n",
        "\n",
        "plt.scatter(tsne_results.iloc[:sample_size, 0].values, tsne_results.iloc[:sample_size,1].values,\n",
        "            c='black', alpha=0.2, label='Original')\n",
        "plt.scatter(tsne_results.iloc[sample_size:,0], tsne_results.iloc[sample_size:,1],\n",
        "            c='red', alpha=0.2, label='Synthetic_norm')\n",
        "\n",
        "ax2.legend()\n"
      ],
      "metadata": {
        "colab": {
          "base_uri": "https://localhost:8080/",
          "height": 733
        },
        "id": "S2HpyFZhnLPl",
        "outputId": "6964560c-d2aa-45ed-ea80-08bbf1a7bbeb"
      },
      "id": "S2HpyFZhnLPl",
      "execution_count": null,
      "outputs": [
        {
          "output_type": "execute_result",
          "data": {
            "text/plain": [
              "<matplotlib.legend.Legend at 0x7f010f463700>"
            ]
          },
          "metadata": {},
          "execution_count": 28
        },
        {
          "output_type": "display_data",
          "data": {
            "text/plain": [
              "<Figure size 1500x800 with 2 Axes>"
            ],
            "image/png": "[encoded data removed]"
          },
          "metadata": {}
        }
      ]
    },
    {
      "cell_type": "code",
      "source": [
        "sample_size = 49\n",
        "idx = np.random.permutation(len(real_ori))[:sample_size]\n",
        "\n",
        "real_sample = np.asarray(real_ori)[idx]\n",
        "\n",
        "synthetic_sample_timegan = np.asarray([synth_timegan_nonnorm[27][1][i][:,0] for i in range(49)])[idx]\n",
        "\n",
        "synth_data_reduced = real_sample.reshape(-1, 288)\n",
        "patient_data_reduced_timegan = np.asarray(synthetic_sample_timegan).reshape(-1,288)\n",
        "\n",
        "n_components = 2\n",
        "pca = PCA(n_components=n_components)\n",
        "tsne = TSNE(n_components=n_components, n_iter=300)\n",
        "\n",
        "#The fit of the methods must be done only using the real sequential data\n",
        "pca.fit(synth_data_reduced)\n",
        "\n",
        "pca_real = pd.DataFrame(pca.transform(synth_data_reduced))\n",
        "pca_synth_timegan = pd.DataFrame(pca.transform(patient_data_reduced_timegan))\n",
        "\n",
        "data_reduced = np.concatenate((synth_data_reduced, patient_data_reduced_timegan), axis=0)\n",
        "tsne_results = pd.DataFrame(tsne.fit_transform(data_reduced))"
      ],
      "metadata": {
        "id": "T33zJD7_nEkg"
      },
      "id": "T33zJD7_nEkg",
      "execution_count": null,
      "outputs": []
    },
    {
      "cell_type": "code",
      "source": [
        "fig = plt.figure(constrained_layout=True, figsize=(15,8))\n",
        "spec = gridspec.GridSpec(ncols=2, nrows=1, figure=fig)\n",
        "\n",
        "#TSNE scatter plot\n",
        "ax = fig.add_subplot(spec[0,0])\n",
        "ax.set_title('PCA results',\n",
        "             fontsize=20)\n",
        "\n",
        "#PCA scatter plot\n",
        "plt.scatter(pca_real.iloc[:, 0].values, pca_real.iloc[:,1].values,\n",
        "            c='black', alpha=0.2, label='Original')\n",
        "plt.scatter(pca_synth_timegan.iloc[:,0], pca_synth_timegan.iloc[:,1],\n",
        "            c='red', alpha=0.2, label='Synthetic_timeGAN')\n",
        "\n",
        "ax.legend()\n",
        "\n",
        "ax2 = fig.add_subplot(spec[0,1])\n",
        "ax2.set_title('TSNE results',\n",
        "              fontsize=20)\n",
        "\n",
        "plt.scatter(tsne_results.iloc[:sample_size, 0].values, tsne_results.iloc[:sample_size,1].values,\n",
        "            c='black', alpha=0.2, label='Original')\n",
        "plt.scatter(tsne_results.iloc[sample_size:,0], tsne_results.iloc[sample_size:,1],\n",
        "            c='red', alpha=0.2, label='Synthetic')\n",
        "\n",
        "ax2.legend()\n"
      ],
      "metadata": {
        "colab": {
          "base_uri": "https://localhost:8080/",
          "height": 733
        },
        "id": "3LP-WUjHnTF_",
        "outputId": "2b47798c-4202-455e-bed9-f6f602a1a846"
      },
      "id": "3LP-WUjHnTF_",
      "execution_count": null,
      "outputs": [
        {
          "output_type": "execute_result",
          "data": {
            "text/plain": [
              "<matplotlib.legend.Legend at 0x7f010f403100>"
            ]
          },
          "metadata": {},
          "execution_count": 26
        },
        {
          "output_type": "display_data",
          "data": {
            "text/plain": [
              "<Figure size 1500x800 with 2 Axes>"
            ],
            "image/png": "[encoded data removed]"
          },
          "metadata": {}
        }
      ]
    },
    {
      "cell_type": "code",
      "source": [],
      "metadata": {
        "id": "tXf9pn2SndPC"
      },
      "id": "tXf9pn2SndPC",
      "execution_count": null,
      "outputs": []
    }
  ],
  "metadata": {
    "kernelspec": {
      "display_name": "Python 3 (ipykernel)",
      "language": "python",
      "name": "python3"
    },
    "language_info": {
      "codemirror_mode": {
        "name": "ipython",
        "version": 3
      },
      "file_extension": ".py",
      "mimetype": "text/x-python",
      "name": "python",
      "nbconvert_exporter": "python",
      "pygments_lexer": "ipython3",
      "version": "3.9.13"
    },
    "colab": {
      "provenance": [],
      "machine_shape": "hm",
      "gpuType": "A100",
      "gpuClass": "premium"
    },
    "gpuClass": "premium"
  },
  "nbformat": 4,
  "nbformat_minor": 5
}