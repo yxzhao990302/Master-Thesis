{
  "cells": [
    {
      "cell_type": "code",
      "execution_count": null,
      "id": "6a1cd663-ce3a-4fa6-b032-274843aa106c",
      "metadata": {
        "id": "6a1cd663-ce3a-4fa6-b032-274843aa106c"
      },
      "outputs": [],
      "source": [
        "# train a generative adversarial network on a one-dimensional function\n",
        "import pandas as pd\n",
        "from numpy import hstack\n",
        "import numpy as np\n",
        "from datetime import datetime\n",
        "from numpy import zeros\n",
        "from numpy import ones\n",
        "import random\n",
        "from numpy.random import rand\n",
        "from numpy.random import randn\n",
        "from keras.models import Sequential\n",
        "from keras import Input\n",
        "from keras.layers import Dense, Conv1D, LeakyReLU, Reshape, UpSampling1D\n",
        "from keras.optimizers import Adam\n",
        "from matplotlib import pyplot\n",
        "import matplotlib.pyplot as plt \n",
        "from tqdm import tqdm\n",
        "from tensorflow import keras\n",
        "from keras.models import save_model, load_model\n",
        "from statistics import mean, variance, pstdev\n",
        "from sklearn.preprocessing import MinMaxScaler\n",
        "from statistics import mean, variance, pstdev\n",
        "from scipy.spatial import distance\n",
        "from scipy.stats import wilcoxon\n",
        "from dtaidistance import dtw\n",
        "from sklearn.decomposition import PCA\n",
        "from sklearn.manifold import TSNE\n",
        "import matplotlib.gridspec as gridspec\n",
        "import seaborn as sns"
      ]
    },
    {
      "cell_type": "code",
      "source": [
        "!pip install dtaidistance"
      ],
      "metadata": {
        "colab": {
          "base_uri": "https://localhost:8080/"
        },
        "id": "RwojXzfKUdF7",
        "outputId": "3a835e17-840b-44c3-a671-049660b32c96"
      },
      "id": "RwojXzfKUdF7",
      "execution_count": null,
      "outputs": [
        {
          "output_type": "stream",
          "name": "stdout",
          "text": [
            "Looking in indexes: https://pypi.org/simple, https://us-python.pkg.dev/colab-wheels/public/simple/\n",
            "Collecting dtaidistance\n",
            "  Downloading dtaidistance-2.3.10-cp310-cp310-manylinux_2_17_x86_64.manylinux2014_x86_64.whl (2.4 MB)\n",
            "\u001b[2K     \u001b[90m━━━━━━━━━━━━━━━━━━━━━━━━━━━━━━━━━━━━━━━━\u001b[0m \u001b[32m2.4/2.4 MB\u001b[0m \u001b[31m4.8 MB/s\u001b[0m eta \u001b[36m0:00:00\u001b[0m\n",
            "\u001b[?25hRequirement already satisfied: numpy in /usr/local/lib/python3.10/dist-packages (from dtaidistance) (1.22.4)\n",
            "Installing collected packages: dtaidistance\n",
            "Successfully installed dtaidistance-2.3.10\n"
          ]
        }
      ]
    },
    {
      "cell_type": "code",
      "source": [
        "from google.colab import drive\n",
        "\n",
        "drive.mount('/content/drive')"
      ],
      "metadata": {
        "colab": {
          "base_uri": "https://localhost:8080/"
        },
        "id": "J-wRkyVB-ZTu",
        "outputId": "928bb4a2-94e2-4ca1-a84f-6ce243f4419e"
      },
      "id": "J-wRkyVB-ZTu",
      "execution_count": null,
      "outputs": [
        {
          "output_type": "stream",
          "name": "stdout",
          "text": [
            "Mounted at /content/drive\n"
          ]
        }
      ]
    },
    {
      "cell_type": "code",
      "execution_count": null,
      "id": "b857585e-6da2-4ba6-ae42-7619672cf9e7",
      "metadata": {
        "id": "b857585e-6da2-4ba6-ae42-7619672cf9e7"
      },
      "outputs": [],
      "source": [
        "LENGTH_INPUT = 288\n",
        "latent_dim = 500"
      ]
    },
    {
      "cell_type": "markdown",
      "id": "88ea179b-736e-409f-a40d-84b3910af564",
      "metadata": {
        "id": "88ea179b-736e-409f-a40d-84b3910af564"
      },
      "source": [
        "# Prepare training data"
      ]
    },
    {
      "cell_type": "code",
      "execution_count": null,
      "id": "aa56387d-d5d5-4dba-8e90-c8e8086e73a2",
      "metadata": {
        "id": "aa56387d-d5d5-4dba-8e90-c8e8086e73a2"
      },
      "outputs": [],
      "source": [
        "df_588 =  pd.read_csv('/content/drive/MyDrive/Thesis/processed data/588.csv')"
      ]
    },
    {
      "cell_type": "code",
      "execution_count": null,
      "id": "98e176ab-1bed-4e88-8775-288291f4f545",
      "metadata": {
        "id": "98e176ab-1bed-4e88-8775-288291f4f545"
      },
      "outputs": [],
      "source": [
        "df_588['time'] = pd.to_datetime(df_588['time'], dayfirst=True)"
      ]
    },
    {
      "cell_type": "code",
      "execution_count": null,
      "id": "e3d1c33b-21a3-4e2e-8b22-8dee1b477e14",
      "metadata": {
        "id": "e3d1c33b-21a3-4e2e-8b22-8dee1b477e14"
      },
      "outputs": [],
      "source": [
        "df_588['date'] = df_588['time'].apply(lambda x: x.date())\n",
        "dates = df_588['date'].unique()\n",
        "glucose_588 = []\n",
        "for date in dates:\n",
        "    glucose_588.append(df_588[df_588['date'] == date]['glucose_value'].values)"
      ]
    },
    {
      "cell_type": "code",
      "source": [
        "scaler = MinMaxScaler().fit(glucose_588)\n",
        "glucose_588 = scaler.transform(glucose_588)"
      ],
      "metadata": {
        "id": "JqHy8TStAN9u"
      },
      "id": "JqHy8TStAN9u",
      "execution_count": null,
      "outputs": []
    },
    {
      "cell_type": "code",
      "execution_count": null,
      "id": "4b49b5ca-8628-41f6-8a57-6c0cd025831b",
      "metadata": {
        "id": "4b49b5ca-8628-41f6-8a57-6c0cd025831b"
      },
      "outputs": [],
      "source": [
        "glucose_588 = np.array(glucose_588)\n",
        "y = ones((55, 1))"
      ]
    },
    {
      "cell_type": "markdown",
      "id": "c0bf7b7b-097e-4379-bc3c-76bd04d57b25",
      "metadata": {
        "id": "c0bf7b7b-097e-4379-bc3c-76bd04d57b25"
      },
      "source": [
        "# Model Architecture"
      ]
    },
    {
      "cell_type": "code",
      "execution_count": null,
      "id": "a9e75e84-1cd4-43f1-aca8-b6e6f6022304",
      "metadata": {
        "id": "a9e75e84-1cd4-43f1-aca8-b6e6f6022304"
      },
      "outputs": [],
      "source": [
        "# define the standalone discriminator model\n",
        "def define_discriminator():\n",
        "    model = Sequential()\n",
        "    \n",
        "    # Dense layer\n",
        "    model.add(Dense(1, input_shape=(288,1)))\n",
        "    model.add(LeakyReLU())\n",
        "    \n",
        "    # Convolutional layer with LeakyReLU activation\n",
        "    model.add(Conv1D(32, kernel_size=4, strides=2, padding='same'))\n",
        "    model.add(LeakyReLU())\n",
        "\n",
        "    # Convolutional layer with LeakyReLU activation\n",
        "    model.add(Conv1D(32, kernel_size=2, strides=2, padding='same'))\n",
        "    model.add(LeakyReLU())\n",
        "    \n",
        "    # Reshape layer\n",
        "    model.add(Reshape((2304,)))\n",
        "    \n",
        "    # Dense layer\n",
        "    model.add(Dense(1, activation='sigmoid'))\n",
        "\n",
        "    opt = Adam(lr=0.0005)\n",
        "    # compile model\n",
        "    model.compile(loss='binary_crossentropy', optimizer=opt, metrics=['accuracy'])\n",
        "    return model"
      ]
    },
    {
      "cell_type": "code",
      "execution_count": null,
      "id": "099c6ec7-5225-4957-bdfc-e5032cd688fd",
      "metadata": {
        "id": "099c6ec7-5225-4957-bdfc-e5032cd688fd"
      },
      "outputs": [],
      "source": [
        "# define the standalone generator model\n",
        "def define_generator():\n",
        "    model = Sequential()\n",
        "    \n",
        "    # Dense layer\n",
        "    model.add(Dense(3600, input_shape=(latent_dim,)))\n",
        "    model.add(LeakyReLU())\n",
        "    \n",
        "    # Reshape layer\n",
        "    model.add(Reshape((72, 50)))\n",
        "    \n",
        "    # Upsampling layer\n",
        "    model.add(UpSampling1D(size=4))\n",
        "    \n",
        "    # Convolutional layer\n",
        "    model.add(Conv1D(filters=32, kernel_size=2, strides=2, padding='same'))\n",
        "    \n",
        "    # Upsampling layer\n",
        "    model.add(UpSampling1D(size=4))\n",
        "    \n",
        "    # Convolutional layer + leaky relu layer\n",
        "    model.add(Conv1D(filters=32, kernel_size=2, strides=2, padding='same'))\n",
        "    model.add(LeakyReLU())\n",
        "    \n",
        "    # Convolutional layer\n",
        "    model.add(Conv1D(filters=1, kernel_size=1, padding='same'))\n",
        "    \n",
        "    model.compile(optimizer='adam')\n",
        "\n",
        "    return model"
      ]
    },
    {
      "cell_type": "code",
      "execution_count": null,
      "id": "953d1808-87ed-407a-8b83-de4d5691df1c",
      "metadata": {
        "id": "953d1808-87ed-407a-8b83-de4d5691df1c"
      },
      "outputs": [],
      "source": [
        "# define the combined generator and discriminator model, for updating the generator\n",
        "def define_gan(generator, discriminator):\n",
        "    # make weights in the discriminator not trainable\n",
        "    discriminator.trainable = False\n",
        "    # connect them\n",
        "    model = Sequential()\n",
        "    model.add(generator)\n",
        "    model.add(discriminator)\n",
        "    opt = Adam(lr=0.0005)\n",
        "    model.compile(loss='binary_crossentropy', optimizer=opt)\n",
        "    return model"
      ]
    },
    {
      "cell_type": "code",
      "execution_count": null,
      "id": "1fcfbcc5-28a1-4324-8fcd-0624f54ef54e",
      "metadata": {
        "id": "1fcfbcc5-28a1-4324-8fcd-0624f54ef54e"
      },
      "outputs": [],
      "source": [
        "# generate points in latent space as input for the generator\n",
        "def generate_latent_points(n):\n",
        "    # generate points in the latent space from the normal distribution\n",
        "    x_input = np.random.normal(size = latent_dim * n)\n",
        "    # reshape into a batch of inputs for the network\n",
        "    x_input = x_input.reshape(n, latent_dim)\n",
        "\n",
        "    return x_input"
      ]
    },
    {
      "cell_type": "code",
      "execution_count": null,
      "id": "7108a5fc-2e71-4530-b6e6-8769f4f165bb",
      "metadata": {
        "id": "7108a5fc-2e71-4530-b6e6-8769f4f165bb"
      },
      "outputs": [],
      "source": [
        "# use the generator to generate n fake examples, with class labels\n",
        "def generate_fake_samples(generator, n):\n",
        "    # generate points in latent space\n",
        "    x_input = generate_latent_points(n)\n",
        "    # predict outputs\n",
        "    X = generator.predict(x_input, verbose=0)\n",
        "    # create class labels\n",
        "    y = zeros((n, 1))\n",
        "\n",
        "    return X, y"
      ]
    },
    {
      "cell_type": "code",
      "execution_count": null,
      "id": "a92cef4f-9d76-4681-b7ca-c19bd10a302c",
      "metadata": {
        "id": "a92cef4f-9d76-4681-b7ca-c19bd10a302c"
      },
      "outputs": [],
      "source": [
        "# train the generator and discriminator\n",
        "def train(g_model, d_model, gan_model, latent_dim, n_epochs=10000, n_batch=55, n_eval=100):\n",
        "    d_loss_list = []\n",
        "    g_loss_list = []\n",
        "    # determine half the size of one batch, for updating the discriminator\n",
        "    half_batch = int(n_batch / 2)+1\n",
        "    \n",
        "    # manually enumerate epochs\n",
        "    for i in tqdm(range(n_epochs)):\n",
        "        \n",
        "        # prepare real samples\n",
        "        rand_index = random.sample(range(0,55), 28)\n",
        "        x_real, y_real = glucose_588[rand_index], y[rand_index]\n",
        "        # prepare fake examples\n",
        "        x_fake, y_fake = generate_fake_samples(g_model, half_batch)\n",
        "        \n",
        "        # update discriminator\n",
        "        d_loss_real = d_model.train_on_batch(x_real, y_real)\n",
        "        d_loss_fake = d_model.train_on_batch(x_fake, y_fake)\n",
        "        # average of d_loss_real and d_loss_fake\n",
        "        d_loss = 0.5 * np.add(d_loss_real, d_loss_fake)\n",
        "        d_loss_list.append(d_loss)\n",
        "        #print(d_loss[0])\n",
        "\n",
        "        # prepare points in latent space as input for the generator\n",
        "        #for _ in range(4):\n",
        "        x_gan = generate_latent_points(n_batch)\n",
        "        # create inverted labels for the fake samples\n",
        "        y_gan = ones((n_batch, 1))\n",
        "        # update the generator via the discriminator's error\n",
        "        g_loss = gan_model.train_on_batch(x_gan, y_gan)\n",
        "        g_loss_list.append(g_loss)\n",
        "        \n",
        "       \n",
        "        # evaluate the model every n_eval epochs\n",
        "        if (i+1) % n_eval == 0:\n",
        "            generator.save_weights('/content/drive/MyDrive/Thesis/model/normal_gan/588_0.0005/generator_weights_%d.h5' %(i+1))\n",
        "            print (\"%d [D loss: %f, acc.: %.2f%%] [G loss: %f]\" % (i, d_loss[0], 100*d_loss[1], g_loss))"
      ]
    },
    {
      "cell_type": "code",
      "execution_count": null,
      "id": "ce93ac09-c4d5-41bd-bf88-f89573ab09b6",
      "metadata": {
        "colab": {
          "base_uri": "https://localhost:8080/"
        },
        "id": "ce93ac09-c4d5-41bd-bf88-f89573ab09b6",
        "outputId": "37e3cfd9-2d2f-4b48-92a8-d6e291fa96d2"
      },
      "outputs": [
        {
          "output_type": "stream",
          "name": "stdout",
          "text": [
            "Model: \"sequential\"\n",
            "_________________________________________________________________\n",
            " Layer (type)                Output Shape              Param #   \n",
            "=================================================================\n",
            " dense (Dense)               (None, 288, 1)            2         \n",
            "                                                                 \n",
            " leaky_re_lu (LeakyReLU)     (None, 288, 1)            0         \n",
            "                                                                 \n",
            " conv1d (Conv1D)             (None, 144, 32)           160       \n",
            "                                                                 \n",
            " leaky_re_lu_1 (LeakyReLU)   (None, 144, 32)           0         \n",
            "                                                                 \n",
            " conv1d_1 (Conv1D)           (None, 72, 32)            2080      \n",
            "                                                                 \n",
            " leaky_re_lu_2 (LeakyReLU)   (None, 72, 32)            0         \n",
            "                                                                 \n",
            " reshape (Reshape)           (None, 2304)              0         \n",
            "                                                                 \n",
            " dense_1 (Dense)             (None, 1)                 2305      \n",
            "                                                                 \n",
            "=================================================================\n",
            "Total params: 4,547\n",
            "Trainable params: 4,547\n",
            "Non-trainable params: 0\n",
            "_________________________________________________________________\n"
          ]
        },
        {
          "output_type": "stream",
          "name": "stderr",
          "text": [
            "/usr/local/lib/python3.10/dist-packages/keras/optimizers/legacy/adam.py:117: UserWarning: The `lr` argument is deprecated, use `learning_rate` instead.\n",
            "  super().__init__(name, **kwargs)\n"
          ]
        }
      ],
      "source": [
        "discriminator = define_discriminator()\n",
        "discriminator.summary()"
      ]
    },
    {
      "cell_type": "code",
      "execution_count": null,
      "id": "aa724642-eb06-4e82-8660-14c835a5f8dc",
      "metadata": {
        "id": "aa724642-eb06-4e82-8660-14c835a5f8dc",
        "outputId": "9330f9c2-da73-4c4f-fec4-e89fe20271e8",
        "colab": {
          "base_uri": "https://localhost:8080/"
        }
      },
      "outputs": [
        {
          "output_type": "stream",
          "name": "stdout",
          "text": [
            "Model: \"sequential_1\"\n",
            "_________________________________________________________________\n",
            " Layer (type)                Output Shape              Param #   \n",
            "=================================================================\n",
            " dense_2 (Dense)             (None, 3600)              1803600   \n",
            "                                                                 \n",
            " leaky_re_lu_3 (LeakyReLU)   (None, 3600)              0         \n",
            "                                                                 \n",
            " reshape_1 (Reshape)         (None, 72, 50)            0         \n",
            "                                                                 \n",
            " up_sampling1d (UpSampling1D  (None, 288, 50)          0         \n",
            " )                                                               \n",
            "                                                                 \n",
            " conv1d_2 (Conv1D)           (None, 144, 32)           3232      \n",
            "                                                                 \n",
            " up_sampling1d_1 (UpSampling  (None, 576, 32)          0         \n",
            " 1D)                                                             \n",
            "                                                                 \n",
            " conv1d_3 (Conv1D)           (None, 288, 32)           2080      \n",
            "                                                                 \n",
            " leaky_re_lu_4 (LeakyReLU)   (None, 288, 32)           0         \n",
            "                                                                 \n",
            " conv1d_4 (Conv1D)           (None, 288, 1)            33        \n",
            "                                                                 \n",
            "=================================================================\n",
            "Total params: 1,808,945\n",
            "Trainable params: 1,808,945\n",
            "Non-trainable params: 0\n",
            "_________________________________________________________________\n"
          ]
        }
      ],
      "source": [
        "generator = define_generator()\n",
        "generator.summary()"
      ]
    },
    {
      "cell_type": "code",
      "execution_count": null,
      "id": "8c239002-60c4-4b63-8dae-793783b71777",
      "metadata": {
        "id": "8c239002-60c4-4b63-8dae-793783b71777",
        "outputId": "65afb5a9-657a-4a07-d6ea-7d03d0c6d633",
        "colab": {
          "base_uri": "https://localhost:8080/"
        }
      },
      "outputs": [
        {
          "output_type": "stream",
          "name": "stderr",
          "text": [
            "  1%|          | 101/10000 [00:22<48:44,  3.39it/s]"
          ]
        },
        {
          "output_type": "stream",
          "name": "stdout",
          "text": [
            "99 [D loss: 0.755743, acc.: 35.71%] [G loss: 0.563055]\n"
          ]
        },
        {
          "output_type": "stream",
          "name": "stderr",
          "text": [
            "  2%|▏         | 201/10000 [00:31<14:33, 11.22it/s]"
          ]
        },
        {
          "output_type": "stream",
          "name": "stdout",
          "text": [
            "199 [D loss: 0.678306, acc.: 50.00%] [G loss: 0.808720]\n"
          ]
        },
        {
          "output_type": "stream",
          "name": "stderr",
          "text": [
            "  3%|▎         | 301/10000 [00:39<14:42, 10.99it/s]"
          ]
        },
        {
          "output_type": "stream",
          "name": "stdout",
          "text": [
            "299 [D loss: 0.720803, acc.: 50.00%] [G loss: 0.745882]\n"
          ]
        },
        {
          "output_type": "stream",
          "name": "stderr",
          "text": [
            "  4%|▍         | 401/10000 [00:48<14:23, 11.11it/s]"
          ]
        },
        {
          "output_type": "stream",
          "name": "stdout",
          "text": [
            "399 [D loss: 0.680637, acc.: 50.00%] [G loss: 0.772238]\n"
          ]
        },
        {
          "output_type": "stream",
          "name": "stderr",
          "text": [
            "  5%|▌         | 501/10000 [00:56<14:15, 11.11it/s]"
          ]
        },
        {
          "output_type": "stream",
          "name": "stdout",
          "text": [
            "499 [D loss: 0.689608, acc.: 60.71%] [G loss: 0.715767]\n"
          ]
        },
        {
          "output_type": "stream",
          "name": "stderr",
          "text": [
            "  6%|▌         | 601/10000 [01:05<13:45, 11.38it/s]"
          ]
        },
        {
          "output_type": "stream",
          "name": "stdout",
          "text": [
            "599 [D loss: 0.684146, acc.: 41.07%] [G loss: 0.685108]\n"
          ]
        },
        {
          "output_type": "stream",
          "name": "stderr",
          "text": [
            "  7%|▋         | 701/10000 [01:13<14:12, 10.91it/s]"
          ]
        },
        {
          "output_type": "stream",
          "name": "stdout",
          "text": [
            "699 [D loss: 0.643544, acc.: 91.07%] [G loss: 0.755526]\n"
          ]
        },
        {
          "output_type": "stream",
          "name": "stderr",
          "text": [
            "  8%|▊         | 801/10000 [01:22<13:39, 11.23it/s]"
          ]
        },
        {
          "output_type": "stream",
          "name": "stdout",
          "text": [
            "799 [D loss: 0.673065, acc.: 67.86%] [G loss: 0.706183]\n"
          ]
        },
        {
          "output_type": "stream",
          "name": "stderr",
          "text": [
            "  9%|▉         | 901/10000 [01:30<13:45, 11.02it/s]"
          ]
        },
        {
          "output_type": "stream",
          "name": "stdout",
          "text": [
            "899 [D loss: 0.647558, acc.: 91.07%] [G loss: 0.745646]\n"
          ]
        },
        {
          "output_type": "stream",
          "name": "stderr",
          "text": [
            " 10%|█         | 1001/10000 [01:39<14:40, 10.22it/s]"
          ]
        },
        {
          "output_type": "stream",
          "name": "stdout",
          "text": [
            "999 [D loss: 0.617721, acc.: 98.21%] [G loss: 0.741280]\n"
          ]
        },
        {
          "output_type": "stream",
          "name": "stderr",
          "text": [
            " 11%|█         | 1101/10000 [01:48<13:19, 11.13it/s]"
          ]
        },
        {
          "output_type": "stream",
          "name": "stdout",
          "text": [
            "1099 [D loss: 0.569106, acc.: 96.43%] [G loss: 0.797807]\n"
          ]
        },
        {
          "output_type": "stream",
          "name": "stderr",
          "text": [
            " 12%|█▏        | 1201/10000 [01:56<13:00, 11.27it/s]"
          ]
        },
        {
          "output_type": "stream",
          "name": "stdout",
          "text": [
            "1199 [D loss: 0.464676, acc.: 98.21%] [G loss: 0.987971]\n"
          ]
        },
        {
          "output_type": "stream",
          "name": "stderr",
          "text": [
            " 13%|█▎        | 1301/10000 [02:05<12:54, 11.23it/s]"
          ]
        },
        {
          "output_type": "stream",
          "name": "stdout",
          "text": [
            "1299 [D loss: 0.367086, acc.: 98.21%] [G loss: 1.211810]\n"
          ]
        },
        {
          "output_type": "stream",
          "name": "stderr",
          "text": [
            " 14%|█▍        | 1401/10000 [02:13<12:46, 11.22it/s]"
          ]
        },
        {
          "output_type": "stream",
          "name": "stdout",
          "text": [
            "1399 [D loss: 0.221749, acc.: 98.21%] [G loss: 1.837030]\n"
          ]
        },
        {
          "output_type": "stream",
          "name": "stderr",
          "text": [
            " 15%|█▌        | 1501/10000 [02:22<12:26, 11.38it/s]"
          ]
        },
        {
          "output_type": "stream",
          "name": "stdout",
          "text": [
            "1499 [D loss: 0.153814, acc.: 98.21%] [G loss: 1.883114]\n"
          ]
        },
        {
          "output_type": "stream",
          "name": "stderr",
          "text": [
            " 16%|█▌        | 1601/10000 [02:30<12:19, 11.36it/s]"
          ]
        },
        {
          "output_type": "stream",
          "name": "stdout",
          "text": [
            "1599 [D loss: 0.083701, acc.: 100.00%] [G loss: 2.424069]\n"
          ]
        },
        {
          "output_type": "stream",
          "name": "stderr",
          "text": [
            " 17%|█▋        | 1701/10000 [02:38<12:25, 11.13it/s]"
          ]
        },
        {
          "output_type": "stream",
          "name": "stdout",
          "text": [
            "1699 [D loss: 0.039728, acc.: 100.00%] [G loss: 3.162587]\n"
          ]
        },
        {
          "output_type": "stream",
          "name": "stderr",
          "text": [
            " 18%|█▊        | 1801/10000 [02:47<12:16, 11.13it/s]"
          ]
        },
        {
          "output_type": "stream",
          "name": "stdout",
          "text": [
            "1799 [D loss: 0.033355, acc.: 100.00%] [G loss: 3.303489]\n"
          ]
        },
        {
          "output_type": "stream",
          "name": "stderr",
          "text": [
            " 19%|█▉        | 1901/10000 [02:55<11:59, 11.26it/s]"
          ]
        },
        {
          "output_type": "stream",
          "name": "stdout",
          "text": [
            "1899 [D loss: 0.028147, acc.: 100.00%] [G loss: 3.760390]\n"
          ]
        },
        {
          "output_type": "stream",
          "name": "stderr",
          "text": [
            " 20%|██        | 2001/10000 [03:05<13:10, 10.12it/s]"
          ]
        },
        {
          "output_type": "stream",
          "name": "stdout",
          "text": [
            "1999 [D loss: 0.020895, acc.: 100.00%] [G loss: 4.103456]\n"
          ]
        },
        {
          "output_type": "stream",
          "name": "stderr",
          "text": [
            " 21%|██        | 2101/10000 [03:13<12:08, 10.84it/s]"
          ]
        },
        {
          "output_type": "stream",
          "name": "stdout",
          "text": [
            "2099 [D loss: 0.029407, acc.: 100.00%] [G loss: 3.482168]\n"
          ]
        },
        {
          "output_type": "stream",
          "name": "stderr",
          "text": [
            " 22%|██▏       | 2201/10000 [03:22<11:40, 11.13it/s]"
          ]
        },
        {
          "output_type": "stream",
          "name": "stdout",
          "text": [
            "2199 [D loss: 0.007543, acc.: 100.00%] [G loss: 4.735765]\n"
          ]
        },
        {
          "output_type": "stream",
          "name": "stderr",
          "text": [
            " 23%|██▎       | 2301/10000 [03:31<12:50,  9.99it/s]"
          ]
        },
        {
          "output_type": "stream",
          "name": "stdout",
          "text": [
            "2299 [D loss: 0.007274, acc.: 100.00%] [G loss: 5.110062]\n"
          ]
        },
        {
          "output_type": "stream",
          "name": "stderr",
          "text": [
            " 24%|██▍       | 2401/10000 [03:41<12:52,  9.84it/s]"
          ]
        },
        {
          "output_type": "stream",
          "name": "stdout",
          "text": [
            "2399 [D loss: 0.003926, acc.: 100.00%] [G loss: 5.296018]\n"
          ]
        },
        {
          "output_type": "stream",
          "name": "stderr",
          "text": [
            " 25%|██▌       | 2501/10000 [03:50<12:10, 10.27it/s]"
          ]
        },
        {
          "output_type": "stream",
          "name": "stdout",
          "text": [
            "2499 [D loss: 0.002654, acc.: 100.00%] [G loss: 5.512861]\n"
          ]
        },
        {
          "output_type": "stream",
          "name": "stderr",
          "text": [
            " 26%|██▌       | 2601/10000 [03:59<11:59, 10.29it/s]"
          ]
        },
        {
          "output_type": "stream",
          "name": "stdout",
          "text": [
            "2599 [D loss: 0.004080, acc.: 100.00%] [G loss: 5.575344]\n"
          ]
        },
        {
          "output_type": "stream",
          "name": "stderr",
          "text": [
            " 27%|██▋       | 2701/10000 [04:08<10:55, 11.14it/s]"
          ]
        },
        {
          "output_type": "stream",
          "name": "stdout",
          "text": [
            "2699 [D loss: 0.002928, acc.: 100.00%] [G loss: 5.855614]\n"
          ]
        },
        {
          "output_type": "stream",
          "name": "stderr",
          "text": [
            " 28%|██▊       | 2801/10000 [04:16<10:31, 11.40it/s]"
          ]
        },
        {
          "output_type": "stream",
          "name": "stdout",
          "text": [
            "2799 [D loss: 0.002773, acc.: 100.00%] [G loss: 5.778584]\n"
          ]
        },
        {
          "output_type": "stream",
          "name": "stderr",
          "text": [
            " 29%|██▉       | 2901/10000 [04:25<11:54,  9.94it/s]"
          ]
        },
        {
          "output_type": "stream",
          "name": "stdout",
          "text": [
            "2899 [D loss: 0.003224, acc.: 100.00%] [G loss: 6.341724]\n"
          ]
        },
        {
          "output_type": "stream",
          "name": "stderr",
          "text": [
            " 30%|███       | 3001/10000 [04:35<10:42, 10.90it/s]"
          ]
        },
        {
          "output_type": "stream",
          "name": "stdout",
          "text": [
            "2999 [D loss: 0.001110, acc.: 100.00%] [G loss: 6.595974]\n"
          ]
        },
        {
          "output_type": "stream",
          "name": "stderr",
          "text": [
            " 31%|███       | 3101/10000 [04:43<10:40, 10.76it/s]"
          ]
        },
        {
          "output_type": "stream",
          "name": "stdout",
          "text": [
            "3099 [D loss: 0.001121, acc.: 100.00%] [G loss: 6.511906]\n"
          ]
        },
        {
          "output_type": "stream",
          "name": "stderr",
          "text": [
            " 32%|███▏      | 3201/10000 [04:51<10:04, 11.25it/s]"
          ]
        },
        {
          "output_type": "stream",
          "name": "stdout",
          "text": [
            "3199 [D loss: 0.001743, acc.: 100.00%] [G loss: 6.285338]\n"
          ]
        },
        {
          "output_type": "stream",
          "name": "stderr",
          "text": [
            " 33%|███▎      | 3301/10000 [05:00<10:01, 11.14it/s]"
          ]
        },
        {
          "output_type": "stream",
          "name": "stdout",
          "text": [
            "3299 [D loss: 0.001258, acc.: 100.00%] [G loss: 6.962710]\n"
          ]
        },
        {
          "output_type": "stream",
          "name": "stderr",
          "text": [
            " 34%|███▍      | 3401/10000 [05:08<10:07, 10.87it/s]"
          ]
        },
        {
          "output_type": "stream",
          "name": "stdout",
          "text": [
            "3399 [D loss: 0.000860, acc.: 100.00%] [G loss: 7.205725]\n"
          ]
        },
        {
          "output_type": "stream",
          "name": "stderr",
          "text": [
            " 35%|███▌      | 3501/10000 [05:17<09:37, 11.26it/s]"
          ]
        },
        {
          "output_type": "stream",
          "name": "stdout",
          "text": [
            "3499 [D loss: 0.000956, acc.: 100.00%] [G loss: 6.702203]\n"
          ]
        },
        {
          "output_type": "stream",
          "name": "stderr",
          "text": [
            " 36%|███▌      | 3601/10000 [05:25<09:34, 11.14it/s]"
          ]
        },
        {
          "output_type": "stream",
          "name": "stdout",
          "text": [
            "3599 [D loss: 0.000680, acc.: 100.00%] [G loss: 7.462852]\n"
          ]
        },
        {
          "output_type": "stream",
          "name": "stderr",
          "text": [
            " 37%|███▋      | 3701/10000 [05:34<09:28, 11.08it/s]"
          ]
        },
        {
          "output_type": "stream",
          "name": "stdout",
          "text": [
            "3699 [D loss: 0.000604, acc.: 100.00%] [G loss: 7.560142]\n"
          ]
        },
        {
          "output_type": "stream",
          "name": "stderr",
          "text": [
            " 38%|███▊      | 3801/10000 [05:42<09:10, 11.26it/s]"
          ]
        },
        {
          "output_type": "stream",
          "name": "stdout",
          "text": [
            "3799 [D loss: 0.000361, acc.: 100.00%] [G loss: 7.861485]\n"
          ]
        },
        {
          "output_type": "stream",
          "name": "stderr",
          "text": [
            " 39%|███▉      | 3901/10000 [05:52<10:08, 10.02it/s]"
          ]
        },
        {
          "output_type": "stream",
          "name": "stdout",
          "text": [
            "3899 [D loss: 0.000364, acc.: 100.00%] [G loss: 7.994869]\n"
          ]
        },
        {
          "output_type": "stream",
          "name": "stderr",
          "text": [
            " 40%|████      | 4001/10000 [06:01<08:49, 11.32it/s]"
          ]
        },
        {
          "output_type": "stream",
          "name": "stdout",
          "text": [
            "3999 [D loss: 0.000452, acc.: 100.00%] [G loss: 7.857485]\n"
          ]
        },
        {
          "output_type": "stream",
          "name": "stderr",
          "text": [
            " 41%|████      | 4101/10000 [06:09<08:49, 11.14it/s]"
          ]
        },
        {
          "output_type": "stream",
          "name": "stdout",
          "text": [
            "4099 [D loss: 0.000163, acc.: 100.00%] [G loss: 8.356349]\n"
          ]
        },
        {
          "output_type": "stream",
          "name": "stderr",
          "text": [
            " 42%|████▏     | 4201/10000 [06:17<08:27, 11.44it/s]"
          ]
        },
        {
          "output_type": "stream",
          "name": "stdout",
          "text": [
            "4199 [D loss: 0.000282, acc.: 100.00%] [G loss: 8.334403]\n"
          ]
        },
        {
          "output_type": "stream",
          "name": "stderr",
          "text": [
            " 43%|████▎     | 4301/10000 [06:26<08:21, 11.36it/s]"
          ]
        },
        {
          "output_type": "stream",
          "name": "stdout",
          "text": [
            "4299 [D loss: 0.000222, acc.: 100.00%] [G loss: 8.533706]\n"
          ]
        },
        {
          "output_type": "stream",
          "name": "stderr",
          "text": [
            " 44%|████▍     | 4401/10000 [06:34<08:14, 11.33it/s]"
          ]
        },
        {
          "output_type": "stream",
          "name": "stdout",
          "text": [
            "4399 [D loss: 0.000146, acc.: 100.00%] [G loss: 8.777905]\n"
          ]
        },
        {
          "output_type": "stream",
          "name": "stderr",
          "text": [
            " 45%|████▌     | 4501/10000 [06:42<07:58, 11.50it/s]"
          ]
        },
        {
          "output_type": "stream",
          "name": "stdout",
          "text": [
            "4499 [D loss: 0.000170, acc.: 100.00%] [G loss: 8.870802]\n"
          ]
        },
        {
          "output_type": "stream",
          "name": "stderr",
          "text": [
            " 46%|████▌     | 4601/10000 [06:51<08:00, 11.23it/s]"
          ]
        },
        {
          "output_type": "stream",
          "name": "stdout",
          "text": [
            "4599 [D loss: 0.000114, acc.: 100.00%] [G loss: 8.708792]\n"
          ]
        },
        {
          "output_type": "stream",
          "name": "stderr",
          "text": [
            " 47%|████▋     | 4701/10000 [06:59<08:05, 10.92it/s]"
          ]
        },
        {
          "output_type": "stream",
          "name": "stdout",
          "text": [
            "4699 [D loss: 0.000119, acc.: 100.00%] [G loss: 9.124065]\n"
          ]
        },
        {
          "output_type": "stream",
          "name": "stderr",
          "text": [
            " 48%|████▊     | 4801/10000 [07:08<08:06, 10.69it/s]"
          ]
        },
        {
          "output_type": "stream",
          "name": "stdout",
          "text": [
            "4799 [D loss: 0.000100, acc.: 100.00%] [G loss: 8.718561]\n"
          ]
        },
        {
          "output_type": "stream",
          "name": "stderr",
          "text": [
            " 49%|████▉     | 4902/10000 [07:18<08:32,  9.95it/s]"
          ]
        },
        {
          "output_type": "stream",
          "name": "stdout",
          "text": [
            "4899 [D loss: 0.000097, acc.: 100.00%] [G loss: 9.345406]\n"
          ]
        },
        {
          "output_type": "stream",
          "name": "stderr",
          "text": [
            " 50%|█████     | 5002/10000 [07:28<08:08, 10.24it/s]"
          ]
        },
        {
          "output_type": "stream",
          "name": "stdout",
          "text": [
            "4999 [D loss: 0.000038, acc.: 100.00%] [G loss: 9.584797]\n"
          ]
        },
        {
          "output_type": "stream",
          "name": "stderr",
          "text": [
            " 51%|█████     | 5102/10000 [07:37<07:57, 10.26it/s]"
          ]
        },
        {
          "output_type": "stream",
          "name": "stdout",
          "text": [
            "5099 [D loss: 0.000058, acc.: 100.00%] [G loss: 9.674085]\n"
          ]
        },
        {
          "output_type": "stream",
          "name": "stderr",
          "text": [
            " 52%|█████▏    | 5202/10000 [07:46<07:55, 10.10it/s]"
          ]
        },
        {
          "output_type": "stream",
          "name": "stdout",
          "text": [
            "5199 [D loss: 0.000154, acc.: 100.00%] [G loss: 9.188387]\n"
          ]
        },
        {
          "output_type": "stream",
          "name": "stderr",
          "text": [
            " 53%|█████▎    | 5302/10000 [07:56<07:29, 10.45it/s]"
          ]
        },
        {
          "output_type": "stream",
          "name": "stdout",
          "text": [
            "5299 [D loss: 0.000040, acc.: 100.00%] [G loss: 9.903216]\n"
          ]
        },
        {
          "output_type": "stream",
          "name": "stderr",
          "text": [
            " 54%|█████▍    | 5402/10000 [08:04<06:43, 11.40it/s]"
          ]
        },
        {
          "output_type": "stream",
          "name": "stdout",
          "text": [
            "5399 [D loss: 0.000047, acc.: 100.00%] [G loss: 10.067860]\n"
          ]
        },
        {
          "output_type": "stream",
          "name": "stderr",
          "text": [
            " 55%|█████▌    | 5502/10000 [08:13<06:47, 11.03it/s]"
          ]
        },
        {
          "output_type": "stream",
          "name": "stdout",
          "text": [
            "5499 [D loss: 0.000071, acc.: 100.00%] [G loss: 9.315986]\n"
          ]
        },
        {
          "output_type": "stream",
          "name": "stderr",
          "text": [
            " 56%|█████▌    | 5602/10000 [08:21<06:35, 11.13it/s]"
          ]
        },
        {
          "output_type": "stream",
          "name": "stdout",
          "text": [
            "5599 [D loss: 0.000059, acc.: 100.00%] [G loss: 10.342172]\n"
          ]
        },
        {
          "output_type": "stream",
          "name": "stderr",
          "text": [
            " 57%|█████▋    | 5702/10000 [08:30<06:17, 11.37it/s]"
          ]
        },
        {
          "output_type": "stream",
          "name": "stdout",
          "text": [
            "5699 [D loss: 0.000030, acc.: 100.00%] [G loss: 10.524155]\n"
          ]
        },
        {
          "output_type": "stream",
          "name": "stderr",
          "text": [
            " 58%|█████▊    | 5802/10000 [08:38<06:18, 11.08it/s]"
          ]
        },
        {
          "output_type": "stream",
          "name": "stdout",
          "text": [
            "5799 [D loss: 0.000030, acc.: 100.00%] [G loss: 10.600424]\n"
          ]
        },
        {
          "output_type": "stream",
          "name": "stderr",
          "text": [
            " 59%|█████▉    | 5902/10000 [08:48<06:53,  9.91it/s]"
          ]
        },
        {
          "output_type": "stream",
          "name": "stdout",
          "text": [
            "5899 [D loss: 0.000040, acc.: 100.00%] [G loss: 9.939536]\n"
          ]
        },
        {
          "output_type": "stream",
          "name": "stderr",
          "text": [
            " 60%|██████    | 6002/10000 [08:57<05:48, 11.47it/s]"
          ]
        },
        {
          "output_type": "stream",
          "name": "stdout",
          "text": [
            "5999 [D loss: 0.000030, acc.: 100.00%] [G loss: 10.766312]\n"
          ]
        },
        {
          "output_type": "stream",
          "name": "stderr",
          "text": [
            " 61%|██████    | 6102/10000 [09:05<05:49, 11.15it/s]"
          ]
        },
        {
          "output_type": "stream",
          "name": "stdout",
          "text": [
            "6099 [D loss: 0.000023, acc.: 100.00%] [G loss: 11.003850]\n"
          ]
        },
        {
          "output_type": "stream",
          "name": "stderr",
          "text": [
            " 62%|██████▏   | 6202/10000 [09:14<05:42, 11.08it/s]"
          ]
        },
        {
          "output_type": "stream",
          "name": "stdout",
          "text": [
            "6199 [D loss: 0.000013, acc.: 100.00%] [G loss: 11.119154]\n"
          ]
        },
        {
          "output_type": "stream",
          "name": "stderr",
          "text": [
            " 63%|██████▎   | 6302/10000 [09:22<05:29, 11.24it/s]"
          ]
        },
        {
          "output_type": "stream",
          "name": "stdout",
          "text": [
            "6299 [D loss: 0.000017, acc.: 100.00%] [G loss: 11.087072]\n"
          ]
        },
        {
          "output_type": "stream",
          "name": "stderr",
          "text": [
            " 64%|██████▍   | 6402/10000 [09:31<05:21, 11.20it/s]"
          ]
        },
        {
          "output_type": "stream",
          "name": "stdout",
          "text": [
            "6399 [D loss: 0.000015, acc.: 100.00%] [G loss: 11.233981]\n"
          ]
        },
        {
          "output_type": "stream",
          "name": "stderr",
          "text": [
            " 65%|██████▌   | 6502/10000 [09:39<05:09, 11.30it/s]"
          ]
        },
        {
          "output_type": "stream",
          "name": "stdout",
          "text": [
            "6499 [D loss: 0.000015, acc.: 100.00%] [G loss: 11.363831]\n"
          ]
        },
        {
          "output_type": "stream",
          "name": "stderr",
          "text": [
            " 66%|██████▌   | 6602/10000 [09:48<05:01, 11.26it/s]"
          ]
        },
        {
          "output_type": "stream",
          "name": "stdout",
          "text": [
            "6599 [D loss: 0.000006, acc.: 100.00%] [G loss: 11.509286]\n"
          ]
        },
        {
          "output_type": "stream",
          "name": "stderr",
          "text": [
            " 67%|██████▋   | 6702/10000 [09:56<04:49, 11.40it/s]"
          ]
        },
        {
          "output_type": "stream",
          "name": "stdout",
          "text": [
            "6699 [D loss: 0.000017, acc.: 100.00%] [G loss: 10.984455]\n"
          ]
        },
        {
          "output_type": "stream",
          "name": "stderr",
          "text": [
            " 68%|██████▊   | 6802/10000 [10:05<05:44,  9.30it/s]"
          ]
        },
        {
          "output_type": "stream",
          "name": "stdout",
          "text": [
            "6799 [D loss: 0.000012, acc.: 100.00%] [G loss: 11.594898]\n"
          ]
        },
        {
          "output_type": "stream",
          "name": "stderr",
          "text": [
            " 69%|██████▉   | 6902/10000 [10:14<04:45, 10.87it/s]"
          ]
        },
        {
          "output_type": "stream",
          "name": "stdout",
          "text": [
            "6899 [D loss: 0.000009, acc.: 100.00%] [G loss: 11.914678]\n"
          ]
        },
        {
          "output_type": "stream",
          "name": "stderr",
          "text": [
            " 70%|███████   | 7002/10000 [10:23<04:22, 11.43it/s]"
          ]
        },
        {
          "output_type": "stream",
          "name": "stdout",
          "text": [
            "6999 [D loss: 0.000005, acc.: 100.00%] [G loss: 11.997916]\n"
          ]
        },
        {
          "output_type": "stream",
          "name": "stderr",
          "text": [
            " 71%|███████   | 7102/10000 [10:31<04:10, 11.57it/s]"
          ]
        },
        {
          "output_type": "stream",
          "name": "stdout",
          "text": [
            "7099 [D loss: 0.000007, acc.: 100.00%] [G loss: 12.116793]\n"
          ]
        },
        {
          "output_type": "stream",
          "name": "stderr",
          "text": [
            " 72%|███████▏  | 7202/10000 [10:39<04:05, 11.38it/s]"
          ]
        },
        {
          "output_type": "stream",
          "name": "stdout",
          "text": [
            "7199 [D loss: 0.000006, acc.: 100.00%] [G loss: 12.232225]\n"
          ]
        },
        {
          "output_type": "stream",
          "name": "stderr",
          "text": [
            " 73%|███████▎  | 7302/10000 [10:48<03:55, 11.48it/s]"
          ]
        },
        {
          "output_type": "stream",
          "name": "stdout",
          "text": [
            "7299 [D loss: 0.000005, acc.: 100.00%] [G loss: 12.310882]\n"
          ]
        },
        {
          "output_type": "stream",
          "name": "stderr",
          "text": [
            " 74%|███████▍  | 7402/10000 [10:56<03:47, 11.40it/s]"
          ]
        },
        {
          "output_type": "stream",
          "name": "stdout",
          "text": [
            "7399 [D loss: 0.000004, acc.: 100.00%] [G loss: 12.513034]\n"
          ]
        },
        {
          "output_type": "stream",
          "name": "stderr",
          "text": [
            " 75%|███████▌  | 7502/10000 [11:05<03:50, 10.85it/s]"
          ]
        },
        {
          "output_type": "stream",
          "name": "stdout",
          "text": [
            "7499 [D loss: 0.000004, acc.: 100.00%] [G loss: 12.619163]\n"
          ]
        },
        {
          "output_type": "stream",
          "name": "stderr",
          "text": [
            " 76%|███████▌  | 7602/10000 [11:13<03:36, 11.09it/s]"
          ]
        },
        {
          "output_type": "stream",
          "name": "stdout",
          "text": [
            "7599 [D loss: 0.000003, acc.: 100.00%] [G loss: 12.772011]\n"
          ]
        },
        {
          "output_type": "stream",
          "name": "stderr",
          "text": [
            " 77%|███████▋  | 7702/10000 [11:22<03:46, 10.13it/s]"
          ]
        },
        {
          "output_type": "stream",
          "name": "stdout",
          "text": [
            "7699 [D loss: 0.000002, acc.: 100.00%] [G loss: 12.854228]\n"
          ]
        },
        {
          "output_type": "stream",
          "name": "stderr",
          "text": [
            " 78%|███████▊  | 7801/10000 [11:32<04:09,  8.80it/s]"
          ]
        },
        {
          "output_type": "stream",
          "name": "stdout",
          "text": [
            "7799 [D loss: 0.000003, acc.: 100.00%] [G loss: 13.055271]\n"
          ]
        },
        {
          "output_type": "stream",
          "name": "stderr",
          "text": [
            " 79%|███████▉  | 7902/10000 [11:42<03:23, 10.32it/s]"
          ]
        },
        {
          "output_type": "stream",
          "name": "stdout",
          "text": [
            "7899 [D loss: 0.000002, acc.: 100.00%] [G loss: 13.122435]\n"
          ]
        },
        {
          "output_type": "stream",
          "name": "stderr",
          "text": [
            " 80%|████████  | 8002/10000 [11:52<03:12, 10.36it/s]"
          ]
        },
        {
          "output_type": "stream",
          "name": "stdout",
          "text": [
            "7999 [D loss: 0.000002, acc.: 100.00%] [G loss: 13.222204]\n"
          ]
        },
        {
          "output_type": "stream",
          "name": "stderr",
          "text": [
            " 81%|████████  | 8102/10000 [12:01<02:47, 11.31it/s]"
          ]
        },
        {
          "output_type": "stream",
          "name": "stdout",
          "text": [
            "8099 [D loss: 0.000004, acc.: 100.00%] [G loss: 12.782595]\n"
          ]
        },
        {
          "output_type": "stream",
          "name": "stderr",
          "text": [
            " 82%|████████▏ | 8202/10000 [12:09<02:39, 11.27it/s]"
          ]
        },
        {
          "output_type": "stream",
          "name": "stdout",
          "text": [
            "8199 [D loss: 0.000002, acc.: 100.00%] [G loss: 13.134463]\n"
          ]
        },
        {
          "output_type": "stream",
          "name": "stderr",
          "text": [
            " 83%|████████▎ | 8302/10000 [12:18<02:33, 11.05it/s]"
          ]
        },
        {
          "output_type": "stream",
          "name": "stdout",
          "text": [
            "8299 [D loss: 0.000002, acc.: 100.00%] [G loss: 13.202040]\n"
          ]
        },
        {
          "output_type": "stream",
          "name": "stderr",
          "text": [
            " 84%|████████▍ | 8402/10000 [12:26<02:20, 11.37it/s]"
          ]
        },
        {
          "output_type": "stream",
          "name": "stdout",
          "text": [
            "8399 [D loss: 0.000002, acc.: 100.00%] [G loss: 13.338297]\n"
          ]
        },
        {
          "output_type": "stream",
          "name": "stderr",
          "text": [
            " 85%|████████▌ | 8502/10000 [12:35<02:09, 11.54it/s]"
          ]
        },
        {
          "output_type": "stream",
          "name": "stdout",
          "text": [
            "8499 [D loss: 0.000002, acc.: 100.00%] [G loss: 13.528811]\n"
          ]
        },
        {
          "output_type": "stream",
          "name": "stderr",
          "text": [
            " 86%|████████▌ | 8602/10000 [12:43<02:08, 10.84it/s]"
          ]
        },
        {
          "output_type": "stream",
          "name": "stdout",
          "text": [
            "8599 [D loss: 0.000001, acc.: 100.00%] [G loss: 13.757376]\n"
          ]
        },
        {
          "output_type": "stream",
          "name": "stderr",
          "text": [
            " 87%|████████▋ | 8702/10000 [12:52<01:54, 11.30it/s]"
          ]
        },
        {
          "output_type": "stream",
          "name": "stdout",
          "text": [
            "8699 [D loss: 0.000001, acc.: 100.00%] [G loss: 13.918039]\n"
          ]
        },
        {
          "output_type": "stream",
          "name": "stderr",
          "text": [
            " 88%|████████▊ | 8802/10000 [13:01<02:00,  9.98it/s]"
          ]
        },
        {
          "output_type": "stream",
          "name": "stdout",
          "text": [
            "8799 [D loss: 0.000001, acc.: 100.00%] [G loss: 14.002009]\n"
          ]
        },
        {
          "output_type": "stream",
          "name": "stderr",
          "text": [
            " 89%|████████▉ | 8902/10000 [13:10<01:38, 11.20it/s]"
          ]
        },
        {
          "output_type": "stream",
          "name": "stdout",
          "text": [
            "8899 [D loss: 0.000000, acc.: 100.00%] [G loss: 14.199196]\n"
          ]
        },
        {
          "output_type": "stream",
          "name": "stderr",
          "text": [
            " 90%|█████████ | 9002/10000 [13:18<01:27, 11.37it/s]"
          ]
        },
        {
          "output_type": "stream",
          "name": "stdout",
          "text": [
            "8999 [D loss: 0.000001, acc.: 100.00%] [G loss: 14.342818]\n"
          ]
        },
        {
          "output_type": "stream",
          "name": "stderr",
          "text": [
            " 91%|█████████ | 9102/10000 [13:27<01:18, 11.43it/s]"
          ]
        },
        {
          "output_type": "stream",
          "name": "stdout",
          "text": [
            "9099 [D loss: 0.000001, acc.: 100.00%] [G loss: 14.439848]\n"
          ]
        },
        {
          "output_type": "stream",
          "name": "stderr",
          "text": [
            " 92%|█████████▏| 9202/10000 [13:35<01:11, 11.12it/s]"
          ]
        },
        {
          "output_type": "stream",
          "name": "stdout",
          "text": [
            "9199 [D loss: 0.000000, acc.: 100.00%] [G loss: 14.538658]\n"
          ]
        },
        {
          "output_type": "stream",
          "name": "stderr",
          "text": [
            " 93%|█████████▎| 9302/10000 [13:44<01:02, 11.23it/s]"
          ]
        },
        {
          "output_type": "stream",
          "name": "stdout",
          "text": [
            "9299 [D loss: 0.000000, acc.: 100.00%] [G loss: 14.689570]\n"
          ]
        },
        {
          "output_type": "stream",
          "name": "stderr",
          "text": [
            " 94%|█████████▍| 9402/10000 [13:52<00:52, 11.41it/s]"
          ]
        },
        {
          "output_type": "stream",
          "name": "stdout",
          "text": [
            "9399 [D loss: 0.000000, acc.: 100.00%] [G loss: 14.752523]\n"
          ]
        },
        {
          "output_type": "stream",
          "name": "stderr",
          "text": [
            " 95%|█████████▌| 9502/10000 [14:01<00:42, 11.61it/s]"
          ]
        },
        {
          "output_type": "stream",
          "name": "stdout",
          "text": [
            "9499 [D loss: 0.000000, acc.: 100.00%] [G loss: 14.815319]\n"
          ]
        },
        {
          "output_type": "stream",
          "name": "stderr",
          "text": [
            " 96%|█████████▌| 9602/10000 [14:09<00:35, 11.23it/s]"
          ]
        },
        {
          "output_type": "stream",
          "name": "stdout",
          "text": [
            "9599 [D loss: 0.000000, acc.: 100.00%] [G loss: 14.989018]\n"
          ]
        },
        {
          "output_type": "stream",
          "name": "stderr",
          "text": [
            " 97%|█████████▋| 9702/10000 [14:18<00:26, 11.43it/s]"
          ]
        },
        {
          "output_type": "stream",
          "name": "stdout",
          "text": [
            "9699 [D loss: 0.000000, acc.: 100.00%] [G loss: 15.136140]\n"
          ]
        },
        {
          "output_type": "stream",
          "name": "stderr",
          "text": [
            " 98%|█████████▊| 9801/10000 [14:27<00:19, 10.29it/s]"
          ]
        },
        {
          "output_type": "stream",
          "name": "stdout",
          "text": [
            "9799 [D loss: 0.000000, acc.: 100.00%] [G loss: 15.236697]\n"
          ]
        },
        {
          "output_type": "stream",
          "name": "stderr",
          "text": [
            " 99%|█████████▉| 9901/10000 [14:36<00:09, 10.98it/s]"
          ]
        },
        {
          "output_type": "stream",
          "name": "stdout",
          "text": [
            "9899 [D loss: 0.000000, acc.: 100.00%] [G loss: 15.312791]\n"
          ]
        },
        {
          "output_type": "stream",
          "name": "stderr",
          "text": [
            "100%|██████████| 10000/10000 [14:44<00:00, 11.30it/s]"
          ]
        },
        {
          "output_type": "stream",
          "name": "stdout",
          "text": [
            "9999 [D loss: 0.000000, acc.: 100.00%] [G loss: 15.484628]\n"
          ]
        },
        {
          "output_type": "stream",
          "name": "stderr",
          "text": [
            "\n"
          ]
        }
      ],
      "source": [
        "# create the gan\n",
        "gan_model = define_gan(generator, discriminator)\n",
        "# train model\n",
        "train(generator, discriminator, gan_model, latent_dim)"
      ]
    },
    {
      "cell_type": "markdown",
      "source": [
        "# Evaluation"
      ],
      "metadata": {
        "id": "V1n0vGcDZZkD"
      },
      "id": "V1n0vGcDZZkD"
    },
    {
      "cell_type": "code",
      "source": [
        "mean_list = []\n",
        "std_list = []\n",
        "hyper_list = []\n",
        "tir_list = []\n",
        "l1_list = []\n",
        "l2_list = []\n",
        "for i in tqdm(range(1, 101)):\n",
        "  generator.load_weights('/content/drive/MyDrive/Thesis/model/normal_gan/588_0.0005/generator_weights_' + str(i*100) + '.h5')\n",
        "  for j in range(6):\n",
        "    sub_mean = []\n",
        "    sub_std = []\n",
        "    hyper = []\n",
        "    tir = []\n",
        "    l1 = []\n",
        "    l2 = []\n",
        "\n",
        "    synth, _ = generate_fake_samples(generator, 55)\n",
        "    synth = synth.reshape(55,288)\n",
        "\n",
        "    synth_data = scaler.inverse_transform(synth)\n",
        "\n",
        "    sub_mean.append(mean(synth_data.flatten()))\n",
        "    sub_std.append(pstdev(synth_data.flatten().tolist()))\n",
        "\n",
        "    extracted_hyper = np.extract((synth_data >= 180), synth_data)\n",
        "    hyper.append(extracted_hyper.shape[0] / (288*55))\n",
        "    extracted_tir = np.extract(((synth_data < 180) & (synth_data >= 70)), synth_data)\n",
        "    tir.append(extracted_tir.shape[0] / (288*55))\n",
        "    extracted_l1 = np.extract(((synth_data < 70) & (synth_data >= 54)), synth_data)\n",
        "    l1.append(extracted_l1.shape[0] / (288*55))\n",
        "    extracted_l2 = np.extract((synth_data < 54), synth_data)\n",
        "    l2.append(extracted_l2.shape[0] / (288*55))\n",
        "\n",
        "  mean_list.append(mean(sub_mean))\n",
        "  std_list.append(mean(sub_std))\n",
        "  hyper_list.append(mean(hyper))\n",
        "  tir_list.append(mean(tir))\n",
        "  l1_list.append(mean(l1))\n",
        "  l2_list.append(mean(l2))"
      ],
      "metadata": {
        "colab": {
          "base_uri": "https://localhost:8080/"
        },
        "id": "DZcTslcTZn4P",
        "outputId": "b20b761d-6a27-4167-feac-d06b2c50a92c"
      },
      "id": "DZcTslcTZn4P",
      "execution_count": null,
      "outputs": [
        {
          "output_type": "stream",
          "name": "stderr",
          "text": [
            "100%|██████████| 100/100 [02:44<00:00,  1.65s/it]\n"
          ]
        }
      ]
    },
    {
      "cell_type": "code",
      "source": [
        "df_588_result = pd.DataFrame(list(zip(hyper_list, tir_list, l1_list, l2_list, mean_list, std_list)), columns = ['Hyper', 'TIR', 'L1 Hypo', 'L2 Hypo', 'Mean', 'SD'])"
      ],
      "metadata": {
        "id": "6H_jVunPctUG"
      },
      "id": "6H_jVunPctUG",
      "execution_count": null,
      "outputs": []
    },
    {
      "cell_type": "code",
      "source": [
        "df_588_result.to_csv('/content/drive/MyDrive/Thesis/model/normal_gan/588_0.0005/evaluation.csv')"
      ],
      "metadata": {
        "id": "8sNMUhaBXwuv"
      },
      "id": "8sNMUhaBXwuv",
      "execution_count": null,
      "outputs": []
    },
    {
      "cell_type": "code",
      "source": [
        "df_588_result = pd.read_csv('/content/drive/MyDrive/Thesis/model/normal_gan/588_0.0005/evaluation.csv')"
      ],
      "metadata": {
        "id": "TINLfvX2qSIi"
      },
      "id": "TINLfvX2qSIi",
      "execution_count": null,
      "outputs": []
    },
    {
      "cell_type": "code",
      "source": [
        "df_588_result[50:]"
      ],
      "metadata": {
        "colab": {
          "base_uri": "https://localhost:8080/",
          "height": 1000
        },
        "id": "NeorJQpCdRYs",
        "outputId": "eba08390-b8d0-4130-d517-788dd85141b4"
      },
      "id": "NeorJQpCdRYs",
      "execution_count": null,
      "outputs": [
        {
          "output_type": "execute_result",
          "data": {
            "text/plain": [
              "    Unnamed: 0     Hyper       TIR   L1 Hypo   L2 Hypo       Mean         SD\n",
              "50          50  0.906061  0.093939  0.000000  0.000000  213.63342  30.413598\n",
              "51          51  0.000000  0.965215  0.019129  0.015657  114.03773  22.760041\n",
              "52          52  0.112058  0.873232  0.010480  0.004230  136.76225  30.744050\n",
              "53          53  0.347033  0.647538  0.003220  0.002210  172.08185  57.842751\n",
              "54          54  0.978662  0.021338  0.000000  0.000000  247.91045  45.247912\n",
              "55          55  1.000000  0.000000  0.000000  0.000000  256.06073  40.368481\n",
              "56          56  1.000000  0.000000  0.000000  0.000000  242.63106  34.459185\n",
              "57          57  0.857765  0.142235  0.000000  0.000000  212.68655  33.243614\n",
              "58          58  0.000505  0.947664  0.026452  0.025379  117.31955  28.710906\n",
              "59          59  0.120455  0.870644  0.003788  0.005114  138.60007  32.767229\n",
              "60          60  0.292614  0.703977  0.002841  0.000568  166.78795  56.517631\n",
              "61          61  0.384848  0.613763  0.000631  0.000758  176.85263  50.543494\n",
              "62          62  0.974179  0.025821  0.000000  0.000000  270.61267  60.148334\n",
              "63          63  0.951515  0.048485  0.000000  0.000000  244.62173  41.648855\n",
              "64          64  0.910732  0.089268  0.000000  0.000000  226.30579  36.310408\n",
              "65          65  0.859848  0.140152  0.000000  0.000000  212.74446  33.470427\n",
              "66          66  0.183838  0.784659  0.012311  0.019192  145.77960  38.838986\n",
              "67          67  0.188131  0.800947  0.008207  0.002715  144.95349  43.304991\n",
              "68          68  0.277778  0.717361  0.004293  0.000568  164.92023  58.172810\n",
              "69          69  0.326326  0.669444  0.002462  0.001768  167.96297  52.662175\n",
              "70          70  0.344886  0.648611  0.003977  0.002525  170.14580  54.442174\n",
              "71          71  0.371591  0.627525  0.000694  0.000189  175.89644  53.285248\n",
              "72          72  0.395707  0.603788  0.000189  0.000316  179.05190  48.738257\n",
              "73          73  0.411806  0.587311  0.000694  0.000189  182.43698  54.587203\n",
              "74          74  0.399747  0.600253  0.000000  0.000000  179.34927  49.026098\n",
              "75          75  0.402652  0.596843  0.000505  0.000000  179.71390  49.359652\n",
              "76          76  0.428283  0.570518  0.001136  0.000063  183.49843  51.545162\n",
              "77          77  0.437563  0.561490  0.000758  0.000189  184.64633  53.236289\n",
              "78          78  0.475126  0.523990  0.000821  0.000063  187.42148  51.621895\n",
              "79          79  0.518119  0.481250  0.000631  0.000000  189.95023  49.338090\n",
              "80          80  1.000000  0.000000  0.000000  0.000000  292.82663  57.190056\n",
              "81          81  0.889331  0.110669  0.000000  0.000000  262.40230  66.301142\n",
              "82          82  0.789205  0.210795  0.000000  0.000000  236.79211  67.244974\n",
              "83          83  0.667677  0.332323  0.000000  0.000000  216.37796  65.370876\n",
              "84          84  0.622159  0.377841  0.000000  0.000000  208.50693  66.531574\n",
              "85          85  0.608333  0.391667  0.000000  0.000000  207.36170  62.359382\n",
              "86          86  0.606187  0.393813  0.000000  0.000000  205.38410  61.132036\n",
              "87          87  0.613005  0.386995  0.000000  0.000000  205.32652  56.012511\n",
              "88          88  0.596591  0.402588  0.000316  0.000505  202.69931  55.000065\n",
              "89          89  0.583144  0.415467  0.000884  0.000505  200.14009  58.183518\n",
              "90          90  0.588321  0.408712  0.001957  0.001010  200.70976  58.997541\n",
              "91          91  0.599874  0.392109  0.006376  0.001641  202.44504  58.904666\n",
              "92          92  0.671086  0.323611  0.003409  0.001894  209.45834  57.192142\n",
              "93          93  0.677778  0.315720  0.003851  0.002652  210.85333  58.193060\n",
              "94          94  0.674432  0.319255  0.003725  0.002588  210.26150  57.678390\n",
              "95          95  0.624874  0.365088  0.005366  0.004672  205.36324  58.403876\n",
              "96          96  0.584343  0.406124  0.004545  0.004987  200.75496  58.498163\n",
              "97          97  0.548359  0.440341  0.005808  0.005492  194.95520  58.109105\n",
              "98          98  0.551578  0.439457  0.006566  0.002399  194.43625  59.062379\n",
              "99          99  0.504167  0.489710  0.004040  0.002083  186.46976  56.483991"
            ],
            "text/html": [
              "\n",
              "  <div id=\"df-a29bbb5f-4520-48ae-8c16-6243eae12675\">\n",
              "    <div class=\"colab-df-container\">\n",
              "      <div>\n",
              "<style scoped>\n",
              "    .dataframe tbody tr th:only-of-type {\n",
              "        vertical-align: middle;\n",
              "    }\n",
              "\n",
              "    .dataframe tbody tr th {\n",
              "        vertical-align: top;\n",
              "    }\n",
              "\n",
              "    .dataframe thead th {\n",
              "        text-align: right;\n",
              "    }\n",
              "</style>\n",
              "<table border=\"1\" class=\"dataframe\">\n",
              "  <thead>\n",
              "    <tr style=\"text-align: right;\">\n",
              "      <th></th>\n",
              "      <th>Unnamed: 0</th>\n",
              "      <th>Hyper</th>\n",
              "      <th>TIR</th>\n",
              "      <th>L1 Hypo</th>\n",
              "      <th>L2 Hypo</th>\n",
              "      <th>Mean</th>\n",
              "      <th>SD</th>\n",
              "    </tr>\n",
              "  </thead>\n",
              "  <tbody>\n",
              "    <tr>\n",
              "      <th>50</th>\n",
              "      <td>50</td>\n",
              "      <td>0.906061</td>\n",
              "      <td>0.093939</td>\n",
              "      <td>0.000000</td>\n",
              "      <td>0.000000</td>\n",
              "      <td>213.63342</td>\n",
              "      <td>30.413598</td>\n",
              "    </tr>\n",
              "    <tr>\n",
              "      <th>51</th>\n",
              "      <td>51</td>\n",
              "      <td>0.000000</td>\n",
              "      <td>0.965215</td>\n",
              "      <td>0.019129</td>\n",
              "      <td>0.015657</td>\n",
              "      <td>114.03773</td>\n",
              "      <td>22.760041</td>\n",
              "    </tr>\n",
              "    <tr>\n",
              "      <th>52</th>\n",
              "      <td>52</td>\n",
              "      <td>0.112058</td>\n",
              "      <td>0.873232</td>\n",
              "      <td>0.010480</td>\n",
              "      <td>0.004230</td>\n",
              "      <td>136.76225</td>\n",
              "      <td>30.744050</td>\n",
              "    </tr>\n",
              "    <tr>\n",
              "      <th>53</th>\n",
              "      <td>53</td>\n",
              "      <td>0.347033</td>\n",
              "      <td>0.647538</td>\n",
              "      <td>0.003220</td>\n",
              "      <td>0.002210</td>\n",
              "      <td>172.08185</td>\n",
              "      <td>57.842751</td>\n",
              "    </tr>\n",
              "    <tr>\n",
              "      <th>54</th>\n",
              "      <td>54</td>\n",
              "      <td>0.978662</td>\n",
              "      <td>0.021338</td>\n",
              "      <td>0.000000</td>\n",
              "      <td>0.000000</td>\n",
              "      <td>247.91045</td>\n",
              "      <td>45.247912</td>\n",
              "    </tr>\n",
              "    <tr>\n",
              "      <th>55</th>\n",
              "      <td>55</td>\n",
              "      <td>1.000000</td>\n",
              "      <td>0.000000</td>\n",
              "      <td>0.000000</td>\n",
              "      <td>0.000000</td>\n",
              "      <td>256.06073</td>\n",
              "      <td>40.368481</td>\n",
              "    </tr>\n",
              "    <tr>\n",
              "      <th>56</th>\n",
              "      <td>56</td>\n",
              "      <td>1.000000</td>\n",
              "      <td>0.000000</td>\n",
              "      <td>0.000000</td>\n",
              "      <td>0.000000</td>\n",
              "      <td>242.63106</td>\n",
              "      <td>34.459185</td>\n",
              "    </tr>\n",
              "    <tr>\n",
              "      <th>57</th>\n",
              "      <td>57</td>\n",
              "      <td>0.857765</td>\n",
              "      <td>0.142235</td>\n",
              "      <td>0.000000</td>\n",
              "      <td>0.000000</td>\n",
              "      <td>212.68655</td>\n",
              "      <td>33.243614</td>\n",
              "    </tr>\n",
              "    <tr>\n",
              "      <th>58</th>\n",
              "      <td>58</td>\n",
              "      <td>0.000505</td>\n",
              "      <td>0.947664</td>\n",
              "      <td>0.026452</td>\n",
              "      <td>0.025379</td>\n",
              "      <td>117.31955</td>\n",
              "      <td>28.710906</td>\n",
              "    </tr>\n",
              "    <tr>\n",
              "      <th>59</th>\n",
              "      <td>59</td>\n",
              "      <td>0.120455</td>\n",
              "      <td>0.870644</td>\n",
              "      <td>0.003788</td>\n",
              "      <td>0.005114</td>\n",
              "      <td>138.60007</td>\n",
              "      <td>32.767229</td>\n",
              "    </tr>\n",
              "    <tr>\n",
              "      <th>60</th>\n",
              "      <td>60</td>\n",
              "      <td>0.292614</td>\n",
              "      <td>0.703977</td>\n",
              "      <td>0.002841</td>\n",
              "      <td>0.000568</td>\n",
              "      <td>166.78795</td>\n",
              "      <td>56.517631</td>\n",
              "    </tr>\n",
              "    <tr>\n",
              "      <th>61</th>\n",
              "      <td>61</td>\n",
              "      <td>0.384848</td>\n",
              "      <td>0.613763</td>\n",
              "      <td>0.000631</td>\n",
              "      <td>0.000758</td>\n",
              "      <td>176.85263</td>\n",
              "      <td>50.543494</td>\n",
              "    </tr>\n",
              "    <tr>\n",
              "      <th>62</th>\n",
              "      <td>62</td>\n",
              "      <td>0.974179</td>\n",
              "      <td>0.025821</td>\n",
              "      <td>0.000000</td>\n",
              "      <td>0.000000</td>\n",
              "      <td>270.61267</td>\n",
              "      <td>60.148334</td>\n",
              "    </tr>\n",
              "    <tr>\n",
              "      <th>63</th>\n",
              "      <td>63</td>\n",
              "      <td>0.951515</td>\n",
              "      <td>0.048485</td>\n",
              "      <td>0.000000</td>\n",
              "      <td>0.000000</td>\n",
              "      <td>244.62173</td>\n",
              "      <td>41.648855</td>\n",
              "    </tr>\n",
              "    <tr>\n",
              "      <th>64</th>\n",
              "      <td>64</td>\n",
              "      <td>0.910732</td>\n",
              "      <td>0.089268</td>\n",
              "      <td>0.000000</td>\n",
              "      <td>0.000000</td>\n",
              "      <td>226.30579</td>\n",
              "      <td>36.310408</td>\n",
              "    </tr>\n",
              "    <tr>\n",
              "      <th>65</th>\n",
              "      <td>65</td>\n",
              "      <td>0.859848</td>\n",
              "      <td>0.140152</td>\n",
              "      <td>0.000000</td>\n",
              "      <td>0.000000</td>\n",
              "      <td>212.74446</td>\n",
              "      <td>33.470427</td>\n",
              "    </tr>\n",
              "    <tr>\n",
              "      <th>66</th>\n",
              "      <td>66</td>\n",
              "      <td>0.183838</td>\n",
              "      <td>0.784659</td>\n",
              "      <td>0.012311</td>\n",
              "      <td>0.019192</td>\n",
              "      <td>145.77960</td>\n",
              "      <td>38.838986</td>\n",
              "    </tr>\n",
              "    <tr>\n",
              "      <th>67</th>\n",
              "      <td>67</td>\n",
              "      <td>0.188131</td>\n",
              "      <td>0.800947</td>\n",
              "      <td>0.008207</td>\n",
              "      <td>0.002715</td>\n",
              "      <td>144.95349</td>\n",
              "      <td>43.304991</td>\n",
              "    </tr>\n",
              "    <tr>\n",
              "      <th>68</th>\n",
              "      <td>68</td>\n",
              "      <td>0.277778</td>\n",
              "      <td>0.717361</td>\n",
              "      <td>0.004293</td>\n",
              "      <td>0.000568</td>\n",
              "      <td>164.92023</td>\n",
              "      <td>58.172810</td>\n",
              "    </tr>\n",
              "    <tr>\n",
              "      <th>69</th>\n",
              "      <td>69</td>\n",
              "      <td>0.326326</td>\n",
              "      <td>0.669444</td>\n",
              "      <td>0.002462</td>\n",
              "      <td>0.001768</td>\n",
              "      <td>167.96297</td>\n",
              "      <td>52.662175</td>\n",
              "    </tr>\n",
              "    <tr>\n",
              "      <th>70</th>\n",
              "      <td>70</td>\n",
              "      <td>0.344886</td>\n",
              "      <td>0.648611</td>\n",
              "      <td>0.003977</td>\n",
              "      <td>0.002525</td>\n",
              "      <td>170.14580</td>\n",
              "      <td>54.442174</td>\n",
              "    </tr>\n",
              "    <tr>\n",
              "      <th>71</th>\n",
              "      <td>71</td>\n",
              "      <td>0.371591</td>\n",
              "      <td>0.627525</td>\n",
              "      <td>0.000694</td>\n",
              "      <td>0.000189</td>\n",
              "      <td>175.89644</td>\n",
              "      <td>53.285248</td>\n",
              "    </tr>\n",
              "    <tr>\n",
              "      <th>72</th>\n",
              "      <td>72</td>\n",
              "      <td>0.395707</td>\n",
              "      <td>0.603788</td>\n",
              "      <td>0.000189</td>\n",
              "      <td>0.000316</td>\n",
              "      <td>179.05190</td>\n",
              "      <td>48.738257</td>\n",
              "    </tr>\n",
              "    <tr>\n",
              "      <th>73</th>\n",
              "      <td>73</td>\n",
              "      <td>0.411806</td>\n",
              "      <td>0.587311</td>\n",
              "      <td>0.000694</td>\n",
              "      <td>0.000189</td>\n",
              "      <td>182.43698</td>\n",
              "      <td>54.587203</td>\n",
              "    </tr>\n",
              "    <tr>\n",
              "      <th>74</th>\n",
              "      <td>74</td>\n",
              "      <td>0.399747</td>\n",
              "      <td>0.600253</td>\n",
              "      <td>0.000000</td>\n",
              "      <td>0.000000</td>\n",
              "      <td>179.34927</td>\n",
              "      <td>49.026098</td>\n",
              "    </tr>\n",
              "    <tr>\n",
              "      <th>75</th>\n",
              "      <td>75</td>\n",
              "      <td>0.402652</td>\n",
              "      <td>0.596843</td>\n",
              "      <td>0.000505</td>\n",
              "      <td>0.000000</td>\n",
              "      <td>179.71390</td>\n",
              "      <td>49.359652</td>\n",
              "    </tr>\n",
              "    <tr>\n",
              "      <th>76</th>\n",
              "      <td>76</td>\n",
              "      <td>0.428283</td>\n",
              "      <td>0.570518</td>\n",
              "      <td>0.001136</td>\n",
              "      <td>0.000063</td>\n",
              "      <td>183.49843</td>\n",
              "      <td>51.545162</td>\n",
              "    </tr>\n",
              "    <tr>\n",
              "      <th>77</th>\n",
              "      <td>77</td>\n",
              "      <td>0.437563</td>\n",
              "      <td>0.561490</td>\n",
              "      <td>0.000758</td>\n",
              "      <td>0.000189</td>\n",
              "      <td>184.64633</td>\n",
              "      <td>53.236289</td>\n",
              "    </tr>\n",
              "    <tr>\n",
              "      <th>78</th>\n",
              "      <td>78</td>\n",
              "      <td>0.475126</td>\n",
              "      <td>0.523990</td>\n",
              "      <td>0.000821</td>\n",
              "      <td>0.000063</td>\n",
              "      <td>187.42148</td>\n",
              "      <td>51.621895</td>\n",
              "    </tr>\n",
              "    <tr>\n",
              "      <th>79</th>\n",
              "      <td>79</td>\n",
              "      <td>0.518119</td>\n",
              "      <td>0.481250</td>\n",
              "      <td>0.000631</td>\n",
              "      <td>0.000000</td>\n",
              "      <td>189.95023</td>\n",
              "      <td>49.338090</td>\n",
              "    </tr>\n",
              "    <tr>\n",
              "      <th>80</th>\n",
              "      <td>80</td>\n",
              "      <td>1.000000</td>\n",
              "      <td>0.000000</td>\n",
              "      <td>0.000000</td>\n",
              "      <td>0.000000</td>\n",
              "      <td>292.82663</td>\n",
              "      <td>57.190056</td>\n",
              "    </tr>\n",
              "    <tr>\n",
              "      <th>81</th>\n",
              "      <td>81</td>\n",
              "      <td>0.889331</td>\n",
              "      <td>0.110669</td>\n",
              "      <td>0.000000</td>\n",
              "      <td>0.000000</td>\n",
              "      <td>262.40230</td>\n",
              "      <td>66.301142</td>\n",
              "    </tr>\n",
              "    <tr>\n",
              "      <th>82</th>\n",
              "      <td>82</td>\n",
              "      <td>0.789205</td>\n",
              "      <td>0.210795</td>\n",
              "      <td>0.000000</td>\n",
              "      <td>0.000000</td>\n",
              "      <td>236.79211</td>\n",
              "      <td>67.244974</td>\n",
              "    </tr>\n",
              "    <tr>\n",
              "      <th>83</th>\n",
              "      <td>83</td>\n",
              "      <td>0.667677</td>\n",
              "      <td>0.332323</td>\n",
              "      <td>0.000000</td>\n",
              "      <td>0.000000</td>\n",
              "      <td>216.37796</td>\n",
              "      <td>65.370876</td>\n",
              "    </tr>\n",
              "    <tr>\n",
              "      <th>84</th>\n",
              "      <td>84</td>\n",
              "      <td>0.622159</td>\n",
              "      <td>0.377841</td>\n",
              "      <td>0.000000</td>\n",
              "      <td>0.000000</td>\n",
              "      <td>208.50693</td>\n",
              "      <td>66.531574</td>\n",
              "    </tr>\n",
              "    <tr>\n",
              "      <th>85</th>\n",
              "      <td>85</td>\n",
              "      <td>0.608333</td>\n",
              "      <td>0.391667</td>\n",
              "      <td>0.000000</td>\n",
              "      <td>0.000000</td>\n",
              "      <td>207.36170</td>\n",
              "      <td>62.359382</td>\n",
              "    </tr>\n",
              "    <tr>\n",
              "      <th>86</th>\n",
              "      <td>86</td>\n",
              "      <td>0.606187</td>\n",
              "      <td>0.393813</td>\n",
              "      <td>0.000000</td>\n",
              "      <td>0.000000</td>\n",
              "      <td>205.38410</td>\n",
              "      <td>61.132036</td>\n",
              "    </tr>\n",
              "    <tr>\n",
              "      <th>87</th>\n",
              "      <td>87</td>\n",
              "      <td>0.613005</td>\n",
              "      <td>0.386995</td>\n",
              "      <td>0.000000</td>\n",
              "      <td>0.000000</td>\n",
              "      <td>205.32652</td>\n",
              "      <td>56.012511</td>\n",
              "    </tr>\n",
              "    <tr>\n",
              "      <th>88</th>\n",
              "      <td>88</td>\n",
              "      <td>0.596591</td>\n",
              "      <td>0.402588</td>\n",
              "      <td>0.000316</td>\n",
              "      <td>0.000505</td>\n",
              "      <td>202.69931</td>\n",
              "      <td>55.000065</td>\n",
              "    </tr>\n",
              "    <tr>\n",
              "      <th>89</th>\n",
              "      <td>89</td>\n",
              "      <td>0.583144</td>\n",
              "      <td>0.415467</td>\n",
              "      <td>0.000884</td>\n",
              "      <td>0.000505</td>\n",
              "      <td>200.14009</td>\n",
              "      <td>58.183518</td>\n",
              "    </tr>\n",
              "    <tr>\n",
              "      <th>90</th>\n",
              "      <td>90</td>\n",
              "      <td>0.588321</td>\n",
              "      <td>0.408712</td>\n",
              "      <td>0.001957</td>\n",
              "      <td>0.001010</td>\n",
              "      <td>200.70976</td>\n",
              "      <td>58.997541</td>\n",
              "    </tr>\n",
              "    <tr>\n",
              "      <th>91</th>\n",
              "      <td>91</td>\n",
              "      <td>0.599874</td>\n",
              "      <td>0.392109</td>\n",
              "      <td>0.006376</td>\n",
              "      <td>0.001641</td>\n",
              "      <td>202.44504</td>\n",
              "      <td>58.904666</td>\n",
              "    </tr>\n",
              "    <tr>\n",
              "      <th>92</th>\n",
              "      <td>92</td>\n",
              "      <td>0.671086</td>\n",
              "      <td>0.323611</td>\n",
              "      <td>0.003409</td>\n",
              "      <td>0.001894</td>\n",
              "      <td>209.45834</td>\n",
              "      <td>57.192142</td>\n",
              "    </tr>\n",
              "    <tr>\n",
              "      <th>93</th>\n",
              "      <td>93</td>\n",
              "      <td>0.677778</td>\n",
              "      <td>0.315720</td>\n",
              "      <td>0.003851</td>\n",
              "      <td>0.002652</td>\n",
              "      <td>210.85333</td>\n",
              "      <td>58.193060</td>\n",
              "    </tr>\n",
              "    <tr>\n",
              "      <th>94</th>\n",
              "      <td>94</td>\n",
              "      <td>0.674432</td>\n",
              "      <td>0.319255</td>\n",
              "      <td>0.003725</td>\n",
              "      <td>0.002588</td>\n",
              "      <td>210.26150</td>\n",
              "      <td>57.678390</td>\n",
              "    </tr>\n",
              "    <tr>\n",
              "      <th>95</th>\n",
              "      <td>95</td>\n",
              "      <td>0.624874</td>\n",
              "      <td>0.365088</td>\n",
              "      <td>0.005366</td>\n",
              "      <td>0.004672</td>\n",
              "      <td>205.36324</td>\n",
              "      <td>58.403876</td>\n",
              "    </tr>\n",
              "    <tr>\n",
              "      <th>96</th>\n",
              "      <td>96</td>\n",
              "      <td>0.584343</td>\n",
              "      <td>0.406124</td>\n",
              "      <td>0.004545</td>\n",
              "      <td>0.004987</td>\n",
              "      <td>200.75496</td>\n",
              "      <td>58.498163</td>\n",
              "    </tr>\n",
              "    <tr>\n",
              "      <th>97</th>\n",
              "      <td>97</td>\n",
              "      <td>0.548359</td>\n",
              "      <td>0.440341</td>\n",
              "      <td>0.005808</td>\n",
              "      <td>0.005492</td>\n",
              "      <td>194.95520</td>\n",
              "      <td>58.109105</td>\n",
              "    </tr>\n",
              "    <tr>\n",
              "      <th>98</th>\n",
              "      <td>98</td>\n",
              "      <td>0.551578</td>\n",
              "      <td>0.439457</td>\n",
              "      <td>0.006566</td>\n",
              "      <td>0.002399</td>\n",
              "      <td>194.43625</td>\n",
              "      <td>59.062379</td>\n",
              "    </tr>\n",
              "    <tr>\n",
              "      <th>99</th>\n",
              "      <td>99</td>\n",
              "      <td>0.504167</td>\n",
              "      <td>0.489710</td>\n",
              "      <td>0.004040</td>\n",
              "      <td>0.002083</td>\n",
              "      <td>186.46976</td>\n",
              "      <td>56.483991</td>\n",
              "    </tr>\n",
              "  </tbody>\n",
              "</table>\n",
              "</div>\n",
              "      <button class=\"colab-df-convert\" onclick=\"convertToInteractive('df-a29bbb5f-4520-48ae-8c16-6243eae12675')\"\n",
              "              title=\"Convert this dataframe to an interactive table.\"\n",
              "              style=\"display:none;\">\n",
              "        \n",
              "  <svg xmlns=\"http://www.w3.org/2000/svg\" height=\"24px\"viewBox=\"0 0 24 24\"\n",
              "       width=\"24px\">\n",
              "    <path d=\"M0 0h24v24H0V0z\" fill=\"none\"/>\n",
              "    <path d=\"M18.56 5.44l.94 2.06.94-2.06 2.06-.94-2.06-.94-.94-2.06-.94 2.06-2.06.94zm-11 1L8.5 8.5l.94-2.06 2.06-.94-2.06-.94L8.5 2.5l-.94 2.06-2.06.94zm10 10l.94 2.06.94-2.06 2.06-.94-2.06-.94-.94-2.06-.94 2.06-2.06.94z\"/><path d=\"M17.41 7.96l-1.37-1.37c-.4-.4-.92-.59-1.43-.59-.52 0-1.04.2-1.43.59L10.3 9.45l-7.72 7.72c-.78.78-.78 2.05 0 2.83L4 21.41c.39.39.9.59 1.41.59.51 0 1.02-.2 1.41-.59l7.78-7.78 2.81-2.81c.8-.78.8-2.07 0-2.86zM5.41 20L4 18.59l7.72-7.72 1.47 1.35L5.41 20z\"/>\n",
              "  </svg>\n",
              "      </button>\n",
              "      \n",
              "  <style>\n",
              "    .colab-df-container {\n",
              "      display:flex;\n",
              "      flex-wrap:wrap;\n",
              "      gap: 12px;\n",
              "    }\n",
              "\n",
              "    .colab-df-convert {\n",
              "      background-color: #E8F0FE;\n",
              "      border: none;\n",
              "      border-radius: 50%;\n",
              "      cursor: pointer;\n",
              "      display: none;\n",
              "      fill: #1967D2;\n",
              "      height: 32px;\n",
              "      padding: 0 0 0 0;\n",
              "      width: 32px;\n",
              "    }\n",
              "\n",
              "    .colab-df-convert:hover {\n",
              "      background-color: #E2EBFA;\n",
              "      box-shadow: 0px 1px 2px rgba(60, 64, 67, 0.3), 0px 1px 3px 1px rgba(60, 64, 67, 0.15);\n",
              "      fill: #174EA6;\n",
              "    }\n",
              "\n",
              "    [theme=dark] .colab-df-convert {\n",
              "      background-color: #3B4455;\n",
              "      fill: #D2E3FC;\n",
              "    }\n",
              "\n",
              "    [theme=dark] .colab-df-convert:hover {\n",
              "      background-color: #434B5C;\n",
              "      box-shadow: 0px 1px 3px 1px rgba(0, 0, 0, 0.15);\n",
              "      filter: drop-shadow(0px 1px 2px rgba(0, 0, 0, 0.3));\n",
              "      fill: #FFFFFF;\n",
              "    }\n",
              "  </style>\n",
              "\n",
              "      <script>\n",
              "        const buttonEl =\n",
              "          document.querySelector('#df-a29bbb5f-4520-48ae-8c16-6243eae12675 button.colab-df-convert');\n",
              "        buttonEl.style.display =\n",
              "          google.colab.kernel.accessAllowed ? 'block' : 'none';\n",
              "\n",
              "        async function convertToInteractive(key) {\n",
              "          const element = document.querySelector('#df-a29bbb5f-4520-48ae-8c16-6243eae12675');\n",
              "          const dataTable =\n",
              "            await google.colab.kernel.invokeFunction('convertToInteractive',\n",
              "                                                     [key], {});\n",
              "          if (!dataTable) return;\n",
              "\n",
              "          const docLinkHtml = 'Like what you see? Visit the ' +\n",
              "            '<a target=\"_blank\" href=https://colab.research.google.com/notebooks/data_table.ipynb>data table notebook</a>'\n",
              "            + ' to learn more about interactive tables.';\n",
              "          element.innerHTML = '';\n",
              "          dataTable['output_type'] = 'display_data';\n",
              "          await google.colab.output.renderOutput(dataTable, element);\n",
              "          const docLink = document.createElement('div');\n",
              "          docLink.innerHTML = docLinkHtml;\n",
              "          element.appendChild(docLink);\n",
              "        }\n",
              "      </script>\n",
              "    </div>\n",
              "  </div>\n",
              "  "
            ]
          },
          "metadata": {},
          "execution_count": 19
        }
      ]
    },
    {
      "cell_type": "markdown",
      "source": [
        "# The comparison between the results of normal GAN and TimeGAN"
      ],
      "metadata": {
        "id": "rRZAQYnF4eUs"
      },
      "id": "rRZAQYnF4eUs"
    },
    {
      "cell_type": "code",
      "source": [
        "generator.load_weights('/content/drive/MyDrive/Thesis/model/normal_gan/588_0.0005/generator_weights_7200.h5')\n",
        "synth_norm, _ = generate_fake_samples(generator, 55)\n",
        "synth_norm=synth_norm.reshape(55,288)\n",
        "synth_timegan = np.load(\"/content/drive/MyDrive/Thesis/best model/timegan_588_128/synthetic_data_nonorm.npy\")"
      ],
      "metadata": {
        "id": "CD0udmxAhl3q"
      },
      "id": "CD0udmxAhl3q",
      "execution_count": null,
      "outputs": []
    },
    {
      "cell_type": "code",
      "source": [
        "# unnormalized synthetic and real data\n",
        "synth_normgan_norm = synth_norm\n",
        "synth_timegan_norm = np.load(\"/content/drive/MyDrive/Thesis/best model/timegan_588_128/synthetic_data.npy\")\n",
        "synth_normgan_nonnorm = scaler.inverse_transform(synth_norm)\n",
        "synth_timegan_nonnorm = synth_timegan\n",
        "real_ori = scaler.inverse_transform(glucose_588)\n",
        "real_norm = glucose_588"
      ],
      "metadata": {
        "id": "e6Qsnr0Mcp3V"
      },
      "id": "e6Qsnr0Mcp3V",
      "execution_count": null,
      "outputs": []
    },
    {
      "cell_type": "markdown",
      "source": [
        "Support Vector Machine (classification)"
      ],
      "metadata": {
        "id": "8VSv9S4U_0B3"
      },
      "id": "8VSv9S4U_0B3"
    },
    {
      "cell_type": "code",
      "source": [
        "x = real_ori.tolist()\n",
        "y = my_list = [1]*55\n",
        "x_timegan = [synth_timegan_nonnorm[20][0][i][:,0].tolist() for i in range(55)]\n",
        "x_normgan = synth_normgan_nonnorm\n",
        "y_timegan = [0]*55\n",
        "\n",
        "x.extend(x_normgan)\n",
        "y.extend(y_timegan)"
      ],
      "metadata": {
        "id": "xt82b2bMc4BP"
      },
      "id": "xt82b2bMc4BP",
      "execution_count": null,
      "outputs": []
    },
    {
      "cell_type": "code",
      "source": [
        "import random\n",
        "\n",
        "numbers = list(range(110))\n",
        "\n",
        "num_selected_70 = random.sample(numbers, int(0.7*len(numbers)))\n",
        "\n",
        "num_selected_30 = list(set(numbers) - set(num_selected_70))\n",
        "\n",
        "print(\"training index：\", num_selected_70)\n",
        "print(\"test index：\", num_selected_30)"
      ],
      "metadata": {
        "colab": {
          "base_uri": "https://localhost:8080/"
        },
        "id": "JdCkzNS4dYgq",
        "outputId": "de0f8cd8-8efe-44fa-a345-aad5e0791a69"
      },
      "id": "JdCkzNS4dYgq",
      "execution_count": null,
      "outputs": [
        {
          "output_type": "stream",
          "name": "stdout",
          "text": [
            "training index： [28, 32, 17, 11, 47, 23, 43, 49, 61, 9, 29, 46, 53, 93, 24, 105, 83, 39, 78, 22, 42, 54, 1, 31, 35, 80, 63, 25, 34, 40, 85, 107, 15, 58, 45, 91, 71, 2, 3, 77, 4, 10, 41, 76, 73, 90, 87, 59, 7, 101, 81, 65, 66, 100, 84, 94, 79, 57, 20, 60, 48, 33, 27, 106, 44, 75, 18, 14, 68, 19, 92, 21, 37, 13, 95, 82, 26]\n",
            "test index： [0, 5, 6, 8, 12, 16, 30, 36, 38, 50, 51, 52, 55, 56, 62, 64, 67, 69, 70, 72, 74, 86, 88, 89, 96, 97, 98, 99, 102, 103, 104, 108, 109]\n"
          ]
        }
      ]
    },
    {
      "cell_type": "code",
      "source": [
        "training_x = [x[num_selected_70[i]] for i in range(len(num_selected_70))]\n",
        "test_x = [x[num_selected_30[i]] for i in range(len(num_selected_30))]\n",
        "training_y = [y[num_selected_70[i]] for i in range(len(num_selected_70))]\n",
        "test_y = [y[num_selected_30[i]] for i in range(len(num_selected_30))]"
      ],
      "metadata": {
        "id": "3YNKAXUkdo-2"
      },
      "id": "3YNKAXUkdo-2",
      "execution_count": null,
      "outputs": []
    },
    {
      "cell_type": "code",
      "source": [
        "from sklearn import svm, metrics\n",
        "classifier = svm.SVC()\n",
        "\n",
        "# Train the classifier on the training data\n",
        "classifier.fit(training_x, training_y)\n",
        "\n",
        "# Predict the labels of the test data\n",
        "y_pred = classifier.predict(test_x)\n",
        "\n",
        "# Calculate the accuracy and F1 score of the classifier\n",
        "accuracy = metrics.accuracy_score(test_y, y_pred)\n",
        "f1_score = metrics.f1_score(test_y, y_pred, average='weighted')\n",
        "\n",
        "# Print the results\n",
        "print(\"Accuracy:\", accuracy)\n",
        "print(\"F1 score:\", f1_score)"
      ],
      "metadata": {
        "colab": {
          "base_uri": "https://localhost:8080/"
        },
        "id": "_fRFWjdodfnT",
        "outputId": "f156f7d1-fe7d-4d63-92f0-64a4b21bd21d"
      },
      "id": "_fRFWjdodfnT",
      "execution_count": null,
      "outputs": [
        {
          "output_type": "stream",
          "name": "stdout",
          "text": [
            "Accuracy: 1.0\n",
            "F1 score: 1.0\n"
          ]
        }
      ]
    },
    {
      "cell_type": "markdown",
      "source": [
        "RNN prediction"
      ],
      "metadata": {
        "id": "i6DNszQzFin_"
      },
      "id": "i6DNszQzFin_"
    },
    {
      "cell_type": "code",
      "source": [
        "#Split training and test set\n",
        "n_events = len(real_ori)\n",
        "\n",
        "idx = np.arange(n_events)\n",
        "n_train = int(.8*n_events)\n",
        "train_idx = idx[:n_train]\n",
        "test_idx = idx[n_train:]"
      ],
      "metadata": {
        "id": "3QiA5dVwF6PJ"
      },
      "id": "3QiA5dVwF6PJ",
      "execution_count": null,
      "outputs": []
    },
    {
      "cell_type": "code",
      "source": [
        "# get training and test data (use past 6h data to predict next 30min)\n",
        "pre_len = 6 # 5*6=30 -> 30min\n",
        "train_len = 72 #12*6 -> 6h\n",
        "\n",
        "train_real_x = []\n",
        "train_real_y = []\n",
        "train_syn_norm_x = []\n",
        "train_syn_norm_y = []\n",
        "train_syn_time_x = []\n",
        "train_syn_time_y = []\n",
        "\n",
        "for i in range(len(train_idx)):\n",
        "  for j in range(288-(pre_len+train_len)+1):\n",
        "    train_real_x.append(glucose_588[train_idx[i], j:(j+train_len)])\n",
        "    train_real_y.append(glucose_588[train_idx[i], (j+train_len):(j+train_len+pre_len)])\n",
        "\n",
        "    train_syn_norm_x.append(synth_normgan_norm[train_idx[i], j:(j+train_len)])\n",
        "    train_syn_norm_y.append(synth_normgan_norm[train_idx[i], (j+train_len):(j+train_len+pre_len)])\n",
        "\n",
        "    train_syn_time_x.append(np.array([synth_timegan_norm[20][0][n][:,0] for n in range(55)])[train_idx[i], j:(j+train_len)])\n",
        "    train_syn_time_y.append(np.array([synth_timegan_norm[20][0][n][:,0] for n in range(55)])[train_idx[i], (j+train_len):(j+train_len+pre_len)])\n",
        "\n",
        "test_real_x = []\n",
        "test_real_y = []\n",
        "test_syn_norm_x = []\n",
        "test_syn_norm_y = []\n",
        "test_syn_time_x = []\n",
        "test_syn_time_y = []\n",
        "\n",
        "for i in range(len(test_idx)):\n",
        "  for j in range(288-(pre_len+train_len)+1):\n",
        "    test_real_x.append(glucose_588[test_idx[i], j:(j+train_len)])\n",
        "    test_real_y.append(glucose_588[test_idx[i], (j+train_len):(j+train_len+pre_len)])\n",
        "\n",
        "    test_syn_norm_x.append(synth_normgan_norm[test_idx[i], j:(j+train_len)])\n",
        "    test_syn_norm_y.append(synth_normgan_norm[test_idx[i], (j+train_len):(j+train_len+pre_len)])\n",
        "\n",
        "    test_syn_time_x.append(np.array([synth_timegan_norm[20][0][n][:,0] for n in range(55)])[test_idx[i], j:(j+train_len)])\n",
        "    test_syn_time_y.append(np.array([synth_timegan_norm[20][0][n][:,0] for n in range(55)])[test_idx[i], (j+train_len):(j+train_len+pre_len)])\n",
        "\n",
        "train_real_x = np.array(train_real_x)\n",
        "train_real_y = np.array(train_real_y)\n",
        "train_syn_norm_x = np.array(train_syn_norm_x)\n",
        "train_syn_norm_y = np.array(train_syn_norm_y)\n",
        "train_syn_time_x = np.array(train_syn_time_x)\n",
        "train_syn_time_y = np.array(train_syn_time_y)\n",
        "\n",
        "\n",
        "test_real_x = np.array(test_real_x)\n",
        "test_real_y = np.array(test_real_y)\n",
        "test_syn_norm_x = np.array(test_syn_norm_x)\n",
        "test_syn_norm_y = np.array(test_syn_norm_y)\n",
        "test_syn_time_x = np.array(test_syn_time_x)\n",
        "test_syn_time_y = np.array(test_syn_time_y)"
      ],
      "metadata": {
        "id": "eRS6RVFTacDy"
      },
      "id": "eRS6RVFTacDy",
      "execution_count": null,
      "outputs": []
    },
    {
      "cell_type": "code",
      "source": [
        "from tensorflow.keras import Input, Sequential\n",
        "from tensorflow.keras.callbacks import EarlyStopping\n",
        "from tensorflow.keras.layers import GRU, Dense\n",
        "from tensorflow.keras.optimizers import Adam\n",
        "from tensorflow.keras.losses import MeanAbsoluteError\n",
        "import tensorflow as tf\n",
        "from sklearn.metrics import r2_score, mean_absolute_error, mean_squared_log_error\n",
        "\n",
        "tf.random.set_seed(7)\n",
        "#First implement a simple RNN model for prediction\n",
        "def RNN_regression(units):\n",
        "    opt = Adam(name='AdamOpt')\n",
        "    loss = MeanAbsoluteError(name='MAE')\n",
        "    model = Sequential()\n",
        "    model.add(GRU(units=units, input_shape=(72,1),\n",
        "                  name=f'RNN_1'))\n",
        "    model.add(Dense(units=6,\n",
        "                    activation='sigmoid',\n",
        "                    name='OUT'))\n",
        "    model.compile(optimizer=opt, loss=loss)\n",
        "    return model"
      ],
      "metadata": {
        "id": "D2CCj6ABFlbV"
      },
      "execution_count": null,
      "outputs": [],
      "id": "D2CCj6ABFlbV"
    },
    {
      "cell_type": "code",
      "source": [
        "#Training the model with the real train data\n",
        "ts_real = RNN_regression(72)\n",
        "early_stopping = EarlyStopping(monitor='val_loss', patience=5)\n",
        "\n",
        "real_train = ts_real.fit(x=train_real_x,\n",
        "                          y=train_real_y,\n",
        "                          validation_data=(test_real_x, test_real_y),\n",
        "                          epochs=200,\n",
        "                          batch_size=128,\n",
        "                          callbacks=[early_stopping])"
      ],
      "metadata": {
        "colab": {
          "base_uri": "https://localhost:8080/"
        },
        "id": "jDhd9Pzxj1F7",
        "outputId": "70816bfb-a219-41de-861b-cd89fe0b4cf4"
      },
      "id": "jDhd9Pzxj1F7",
      "execution_count": null,
      "outputs": [
        {
          "output_type": "stream",
          "name": "stdout",
          "text": [
            "Epoch 1/200\n",
            "73/73 [==============================] - 5s 11ms/step - loss: 0.1545 - val_loss: 0.0986\n",
            "Epoch 2/200\n",
            "73/73 [==============================] - 0s 6ms/step - loss: 0.0942 - val_loss: 0.0800\n",
            "Epoch 3/200\n",
            "73/73 [==============================] - 0s 6ms/step - loss: 0.0835 - val_loss: 0.0734\n",
            "Epoch 4/200\n",
            "73/73 [==============================] - 0s 6ms/step - loss: 0.0780 - val_loss: 0.0690\n",
            "Epoch 5/200\n",
            "73/73 [==============================] - 0s 6ms/step - loss: 0.0752 - val_loss: 0.0699\n",
            "Epoch 6/200\n",
            "73/73 [==============================] - 0s 6ms/step - loss: 0.0734 - val_loss: 0.0654\n",
            "Epoch 7/200\n",
            "73/73 [==============================] - 0s 6ms/step - loss: 0.0725 - val_loss: 0.0663\n",
            "Epoch 8/200\n",
            "73/73 [==============================] - 0s 5ms/step - loss: 0.0714 - val_loss: 0.0667\n",
            "Epoch 9/200\n",
            "73/73 [==============================] - 0s 5ms/step - loss: 0.0707 - val_loss: 0.0636\n",
            "Epoch 10/200\n",
            "73/73 [==============================] - 0s 6ms/step - loss: 0.0696 - val_loss: 0.0643\n",
            "Epoch 11/200\n",
            "73/73 [==============================] - 0s 5ms/step - loss: 0.0689 - val_loss: 0.0619\n",
            "Epoch 12/200\n",
            "73/73 [==============================] - 0s 6ms/step - loss: 0.0683 - val_loss: 0.0617\n",
            "Epoch 13/200\n",
            "73/73 [==============================] - 0s 5ms/step - loss: 0.0679 - val_loss: 0.0615\n",
            "Epoch 14/200\n",
            "73/73 [==============================] - 0s 5ms/step - loss: 0.0674 - val_loss: 0.0606\n",
            "Epoch 15/200\n",
            "73/73 [==============================] - 0s 6ms/step - loss: 0.0668 - val_loss: 0.0603\n",
            "Epoch 16/200\n",
            "73/73 [==============================] - 0s 5ms/step - loss: 0.0667 - val_loss: 0.0605\n",
            "Epoch 17/200\n",
            "73/73 [==============================] - 0s 5ms/step - loss: 0.0665 - val_loss: 0.0606\n",
            "Epoch 18/200\n",
            "73/73 [==============================] - 0s 5ms/step - loss: 0.0659 - val_loss: 0.0597\n",
            "Epoch 19/200\n",
            "73/73 [==============================] - 0s 5ms/step - loss: 0.0654 - val_loss: 0.0592\n",
            "Epoch 20/200\n",
            "73/73 [==============================] - 0s 5ms/step - loss: 0.0651 - val_loss: 0.0591\n",
            "Epoch 21/200\n",
            "73/73 [==============================] - 0s 5ms/step - loss: 0.0648 - val_loss: 0.0586\n",
            "Epoch 22/200\n",
            "73/73 [==============================] - 0s 5ms/step - loss: 0.0647 - val_loss: 0.0588\n",
            "Epoch 23/200\n",
            "73/73 [==============================] - 0s 5ms/step - loss: 0.0644 - val_loss: 0.0584\n",
            "Epoch 24/200\n",
            "73/73 [==============================] - 0s 5ms/step - loss: 0.0642 - val_loss: 0.0585\n",
            "Epoch 25/200\n",
            "73/73 [==============================] - 0s 5ms/step - loss: 0.0641 - val_loss: 0.0582\n",
            "Epoch 26/200\n",
            "73/73 [==============================] - 0s 5ms/step - loss: 0.0639 - val_loss: 0.0582\n",
            "Epoch 27/200\n",
            "73/73 [==============================] - 0s 5ms/step - loss: 0.0638 - val_loss: 0.0582\n",
            "Epoch 28/200\n",
            "73/73 [==============================] - 0s 5ms/step - loss: 0.0638 - val_loss: 0.0582\n",
            "Epoch 29/200\n",
            "73/73 [==============================] - 0s 6ms/step - loss: 0.0638 - val_loss: 0.0580\n",
            "Epoch 30/200\n",
            "73/73 [==============================] - 0s 6ms/step - loss: 0.0636 - val_loss: 0.0583\n",
            "Epoch 31/200\n",
            "73/73 [==============================] - 0s 5ms/step - loss: 0.0636 - val_loss: 0.0585\n",
            "Epoch 32/200\n",
            "73/73 [==============================] - 0s 6ms/step - loss: 0.0634 - val_loss: 0.0578\n",
            "Epoch 33/200\n",
            "73/73 [==============================] - 0s 6ms/step - loss: 0.0634 - val_loss: 0.0581\n",
            "Epoch 34/200\n",
            "73/73 [==============================] - 0s 6ms/step - loss: 0.0638 - val_loss: 0.0579\n",
            "Epoch 35/200\n",
            "73/73 [==============================] - 0s 6ms/step - loss: 0.0635 - val_loss: 0.0580\n",
            "Epoch 36/200\n",
            "73/73 [==============================] - 0s 6ms/step - loss: 0.0633 - val_loss: 0.0577\n",
            "Epoch 37/200\n",
            "73/73 [==============================] - 0s 6ms/step - loss: 0.0636 - val_loss: 0.0577\n",
            "Epoch 38/200\n",
            "73/73 [==============================] - 0s 6ms/step - loss: 0.0634 - val_loss: 0.0589\n",
            "Epoch 39/200\n",
            "73/73 [==============================] - 0s 6ms/step - loss: 0.0634 - val_loss: 0.0576\n",
            "Epoch 40/200\n",
            "73/73 [==============================] - 0s 6ms/step - loss: 0.0633 - val_loss: 0.0582\n",
            "Epoch 41/200\n",
            "73/73 [==============================] - 0s 6ms/step - loss: 0.0633 - val_loss: 0.0583\n",
            "Epoch 42/200\n",
            "73/73 [==============================] - 0s 6ms/step - loss: 0.0632 - val_loss: 0.0578\n",
            "Epoch 43/200\n",
            "73/73 [==============================] - 0s 6ms/step - loss: 0.0635 - val_loss: 0.0577\n",
            "Epoch 44/200\n",
            "73/73 [==============================] - 0s 6ms/step - loss: 0.0631 - val_loss: 0.0580\n"
          ]
        }
      ]
    },
    {
      "cell_type": "code",
      "source": [
        "# TRTR results\n",
        "real_predictions = ts_real.predict(test_real_x)\n",
        "r2_real = r2_score(test_real_y, real_predictions)\n",
        "mae_real = mean_absolute_error(test_real_y, real_predictions)\n",
        "mrle_real = mean_squared_log_error(test_real_y, real_predictions)\n",
        "print(r2_real)\n",
        "print(mae_real)\n",
        "print(mrle_real)"
      ],
      "metadata": {
        "colab": {
          "base_uri": "https://localhost:8080/"
        },
        "id": "ksHdKYm-qeYX",
        "outputId": "25acd6cb-5f14-42eb-9d72-3bf151da2a8a"
      },
      "id": "ksHdKYm-qeYX",
      "execution_count": null,
      "outputs": [
        {
          "output_type": "stream",
          "name": "stdout",
          "text": [
            "73/73 [==============================] - 0s 2ms/step\n",
            "0.8286531504199338\n",
            "0.058031970558341806\n",
            "0.0032759570418147347\n"
          ]
        }
      ]
    },
    {
      "cell_type": "code",
      "source": [
        "#Training the model with the synthetic data from normal GAN\n",
        "ts_norm_syn = RNN_regression(72)\n",
        "early_stopping = EarlyStopping(monitor='val_loss', patience=5)\n",
        "\n",
        "norm_syn_train = ts_norm_syn.fit(x=train_syn_norm_x,\n",
        "                          y=train_syn_norm_y,\n",
        "                          validation_data=(test_real_x, test_real_y),\n",
        "                          epochs=200,\n",
        "                          batch_size=128,\n",
        "                          callbacks=[early_stopping])"
      ],
      "metadata": {
        "id": "GSepd4DGkBe7",
        "colab": {
          "base_uri": "https://localhost:8080/"
        },
        "outputId": "6834e815-39b2-4d8d-8203-4f60e13a5728"
      },
      "id": "GSepd4DGkBe7",
      "execution_count": null,
      "outputs": [
        {
          "output_type": "stream",
          "name": "stdout",
          "text": [
            "Epoch 1/200\n",
            "73/73 [==============================] - 3s 11ms/step - loss: 0.1663 - val_loss: 0.1622\n",
            "Epoch 2/200\n",
            "73/73 [==============================] - 0s 5ms/step - loss: 0.1157 - val_loss: 0.0934\n",
            "Epoch 3/200\n",
            "73/73 [==============================] - 0s 6ms/step - loss: 0.0904 - val_loss: 0.0751\n",
            "Epoch 4/200\n",
            "73/73 [==============================] - 0s 5ms/step - loss: 0.0843 - val_loss: 0.0739\n",
            "Epoch 5/200\n",
            "73/73 [==============================] - 0s 6ms/step - loss: 0.0815 - val_loss: 0.0713\n",
            "Epoch 6/200\n",
            "73/73 [==============================] - 0s 6ms/step - loss: 0.0799 - val_loss: 0.0694\n",
            "Epoch 7/200\n",
            "73/73 [==============================] - 0s 5ms/step - loss: 0.0784 - val_loss: 0.0730\n",
            "Epoch 8/200\n",
            "73/73 [==============================] - 0s 6ms/step - loss: 0.0772 - val_loss: 0.0701\n",
            "Epoch 9/200\n",
            "73/73 [==============================] - 0s 5ms/step - loss: 0.0763 - val_loss: 0.0714\n",
            "Epoch 10/200\n",
            "73/73 [==============================] - 0s 5ms/step - loss: 0.0752 - val_loss: 0.0692\n",
            "Epoch 11/200\n",
            "73/73 [==============================] - 0s 5ms/step - loss: 0.0744 - val_loss: 0.0703\n",
            "Epoch 12/200\n",
            "73/73 [==============================] - 0s 5ms/step - loss: 0.0737 - val_loss: 0.0706\n",
            "Epoch 13/200\n",
            "73/73 [==============================] - 0s 6ms/step - loss: 0.0730 - val_loss: 0.0712\n",
            "Epoch 14/200\n",
            "73/73 [==============================] - 0s 5ms/step - loss: 0.0724 - val_loss: 0.0731\n",
            "Epoch 15/200\n",
            "73/73 [==============================] - 0s 5ms/step - loss: 0.0719 - val_loss: 0.0757\n"
          ]
        }
      ]
    },
    {
      "cell_type": "code",
      "source": [
        "# TSTR results from normal GAN\n",
        "syn_norm_predictions = ts_norm_syn.predict(test_real_x)\n",
        "r2_syn_norm = r2_score(test_real_y, syn_norm_predictions)\n",
        "mae_syn_norm = mean_absolute_error(test_real_y, syn_norm_predictions)\n",
        "mrle_syn_norm = mean_squared_log_error(test_real_y, syn_norm_predictions)\n",
        "print(r2_syn_norm)\n",
        "print(mae_syn_norm)\n",
        "print(mrle_syn_norm)"
      ],
      "metadata": {
        "id": "kn3KwAwYkFAL",
        "colab": {
          "base_uri": "https://localhost:8080/"
        },
        "outputId": "02c1d3f5-33da-4bbf-de1d-e78919418b60"
      },
      "id": "kn3KwAwYkFAL",
      "execution_count": null,
      "outputs": [
        {
          "output_type": "stream",
          "name": "stdout",
          "text": [
            "73/73 [==============================] - 0s 2ms/step\n",
            "0.7380535924552124\n",
            "0.07574946875775929\n",
            "0.004882806282036905\n"
          ]
        }
      ]
    },
    {
      "cell_type": "code",
      "source": [
        "#Training the model with the synthetic data from TimeGAN\n",
        "ts_time_syn = RNN_regression(72)\n",
        "early_stopping = EarlyStopping(monitor='val_loss', patience=5)\n",
        "\n",
        "time_syn_train = ts_time_syn.fit(x=train_syn_time_x,\n",
        "                          y=train_syn_time_y,\n",
        "                          validation_data=(test_real_x, test_real_y),\n",
        "                          epochs=200,\n",
        "                          batch_size=128,\n",
        "                          callbacks=[early_stopping])"
      ],
      "metadata": {
        "colab": {
          "base_uri": "https://localhost:8080/"
        },
        "id": "u9nom1IDCRgM",
        "outputId": "59506290-0e87-4745-ae80-72663327157d"
      },
      "id": "u9nom1IDCRgM",
      "execution_count": null,
      "outputs": [
        {
          "output_type": "stream",
          "name": "stdout",
          "text": [
            "Epoch 1/200\n",
            "73/73 [==============================] - 3s 11ms/step - loss: 0.1311 - val_loss: 0.1614\n",
            "Epoch 2/200\n",
            "73/73 [==============================] - 0s 6ms/step - loss: 0.0637 - val_loss: 0.0943\n",
            "Epoch 3/200\n",
            "73/73 [==============================] - 0s 5ms/step - loss: 0.0474 - val_loss: 0.0861\n",
            "Epoch 4/200\n",
            "73/73 [==============================] - 0s 5ms/step - loss: 0.0446 - val_loss: 0.0816\n",
            "Epoch 5/200\n",
            "73/73 [==============================] - 0s 5ms/step - loss: 0.0428 - val_loss: 0.0769\n",
            "Epoch 6/200\n",
            "73/73 [==============================] - 0s 6ms/step - loss: 0.0414 - val_loss: 0.0751\n",
            "Epoch 7/200\n",
            "73/73 [==============================] - 0s 5ms/step - loss: 0.0400 - val_loss: 0.0729\n",
            "Epoch 8/200\n",
            "73/73 [==============================] - 0s 6ms/step - loss: 0.0394 - val_loss: 0.0699\n",
            "Epoch 9/200\n",
            "73/73 [==============================] - 0s 6ms/step - loss: 0.0381 - val_loss: 0.0686\n",
            "Epoch 10/200\n",
            "73/73 [==============================] - 0s 5ms/step - loss: 0.0378 - val_loss: 0.0672\n",
            "Epoch 11/200\n",
            "73/73 [==============================] - 0s 6ms/step - loss: 0.0372 - val_loss: 0.0669\n",
            "Epoch 12/200\n",
            "73/73 [==============================] - 0s 5ms/step - loss: 0.0370 - val_loss: 0.0661\n",
            "Epoch 13/200\n",
            "73/73 [==============================] - 0s 5ms/step - loss: 0.0363 - val_loss: 0.0653\n",
            "Epoch 14/200\n",
            "73/73 [==============================] - 0s 6ms/step - loss: 0.0361 - val_loss: 0.0659\n",
            "Epoch 15/200\n",
            "73/73 [==============================] - 0s 5ms/step - loss: 0.0358 - val_loss: 0.0652\n",
            "Epoch 16/200\n",
            "73/73 [==============================] - 0s 6ms/step - loss: 0.0360 - val_loss: 0.0643\n",
            "Epoch 17/200\n",
            "73/73 [==============================] - 0s 5ms/step - loss: 0.0354 - val_loss: 0.0637\n",
            "Epoch 18/200\n",
            "73/73 [==============================] - 0s 5ms/step - loss: 0.0351 - val_loss: 0.0637\n",
            "Epoch 19/200\n",
            "73/73 [==============================] - 0s 6ms/step - loss: 0.0350 - val_loss: 0.0637\n",
            "Epoch 20/200\n",
            "73/73 [==============================] - 0s 5ms/step - loss: 0.0350 - val_loss: 0.0631\n",
            "Epoch 21/200\n",
            "73/73 [==============================] - 0s 6ms/step - loss: 0.0347 - val_loss: 0.0628\n",
            "Epoch 22/200\n",
            "73/73 [==============================] - 0s 6ms/step - loss: 0.0345 - val_loss: 0.0626\n",
            "Epoch 23/200\n",
            "73/73 [==============================] - 0s 6ms/step - loss: 0.0344 - val_loss: 0.0625\n",
            "Epoch 24/200\n",
            "73/73 [==============================] - 0s 6ms/step - loss: 0.0342 - val_loss: 0.0621\n",
            "Epoch 25/200\n",
            "73/73 [==============================] - 0s 5ms/step - loss: 0.0343 - val_loss: 0.0622\n",
            "Epoch 26/200\n",
            "73/73 [==============================] - 0s 6ms/step - loss: 0.0341 - val_loss: 0.0618\n",
            "Epoch 27/200\n",
            "73/73 [==============================] - 0s 5ms/step - loss: 0.0340 - val_loss: 0.0619\n",
            "Epoch 28/200\n",
            "73/73 [==============================] - 0s 5ms/step - loss: 0.0338 - val_loss: 0.0616\n",
            "Epoch 29/200\n",
            "73/73 [==============================] - 0s 6ms/step - loss: 0.0341 - val_loss: 0.0618\n",
            "Epoch 30/200\n",
            "73/73 [==============================] - 0s 5ms/step - loss: 0.0339 - val_loss: 0.0612\n",
            "Epoch 31/200\n",
            "73/73 [==============================] - 0s 5ms/step - loss: 0.0337 - val_loss: 0.0613\n",
            "Epoch 32/200\n",
            "73/73 [==============================] - 0s 5ms/step - loss: 0.0336 - val_loss: 0.0610\n",
            "Epoch 33/200\n",
            "73/73 [==============================] - 0s 5ms/step - loss: 0.0336 - val_loss: 0.0611\n",
            "Epoch 34/200\n",
            "73/73 [==============================] - 0s 5ms/step - loss: 0.0334 - val_loss: 0.0615\n",
            "Epoch 35/200\n",
            "73/73 [==============================] - 0s 5ms/step - loss: 0.0333 - val_loss: 0.0614\n",
            "Epoch 36/200\n",
            "73/73 [==============================] - 0s 5ms/step - loss: 0.0333 - val_loss: 0.0609\n",
            "Epoch 37/200\n",
            "73/73 [==============================] - 0s 5ms/step - loss: 0.0332 - val_loss: 0.0610\n",
            "Epoch 38/200\n",
            "73/73 [==============================] - 0s 5ms/step - loss: 0.0330 - val_loss: 0.0618\n",
            "Epoch 39/200\n",
            "73/73 [==============================] - 0s 5ms/step - loss: 0.0331 - val_loss: 0.0614\n",
            "Epoch 40/200\n",
            "73/73 [==============================] - 0s 5ms/step - loss: 0.0330 - val_loss: 0.0618\n",
            "Epoch 41/200\n",
            "73/73 [==============================] - 0s 5ms/step - loss: 0.0331 - val_loss: 0.0622\n"
          ]
        }
      ]
    },
    {
      "cell_type": "code",
      "source": [
        "# TSTR results from TimeGAN\n",
        "syn_time_predictions = ts_time_syn.predict(test_real_x)\n",
        "r2_syn_time = r2_score(test_real_y, syn_time_predictions)\n",
        "mae_syn_time = mean_absolute_error(test_real_y, syn_time_predictions)\n",
        "mrle_syn_time = mean_squared_log_error(test_real_y, syn_time_predictions)\n",
        "print(r2_syn_time)\n",
        "print(mae_syn_time)\n",
        "print(mrle_syn_time)"
      ],
      "metadata": {
        "colab": {
          "base_uri": "https://localhost:8080/"
        },
        "id": "-g4dlSQ-CZsu",
        "outputId": "cfd7a6a0-c396-4751-ee0b-86e59f8e2183"
      },
      "id": "-g4dlSQ-CZsu",
      "execution_count": null,
      "outputs": [
        {
          "output_type": "stream",
          "name": "stdout",
          "text": [
            "73/73 [==============================] - 0s 2ms/step\n",
            "0.8145975911056551\n",
            "0.06220956379444704\n",
            "0.0035026850108592516\n"
          ]
        }
      ]
    },
    {
      "cell_type": "markdown",
      "source": [
        "visualization of synthetic and real data"
      ],
      "metadata": {
        "id": "MdfAQ_V3FUay"
      },
      "id": "MdfAQ_V3FUay"
    },
    {
      "cell_type": "code",
      "source": [
        "cols = 'blood glucose (Patient 588)'\n",
        "\n",
        "df = pd.DataFrame({'Real': real_ori[20], 'Synthetic_normGAN': synth_normgan_nonnorm[20], 'Synthetic_TimeGAN': synth_timegan_nonnorm[20][0][20][:, 0]})\n",
        "df.plot(title = cols,\n",
        "        secondary_y='Synthetic data', style=['-'])"
      ],
      "metadata": {
        "colab": {
          "base_uri": "https://localhost:8080/",
          "height": 470
        },
        "id": "bVcCtfmj4-iE",
        "outputId": "2186fe23-68ab-4f42-871b-6e865aa880ac"
      },
      "id": "bVcCtfmj4-iE",
      "execution_count": null,
      "outputs": [
        {
          "output_type": "execute_result",
          "data": {
            "text/plain": [
              "<Axes: title={'center': 'blood glucose (Patient 588)'}>"
            ]
          },
          "metadata": {},
          "execution_count": 23
        },
        {
          "output_type": "display_data",
          "data": {
            "text/plain": [
              "<Figure size 640x480 with 1 Axes>"
            ],
            "image/png": "[encoded data removed]"
          },
          "metadata": {}
        }
      ]
    },
    {
      "cell_type": "markdown",
      "source": [
        "JS distance and DTW"
      ],
      "metadata": {
        "id": "cooGfldwFZpD"
      },
      "id": "cooGfldwFZpD"
    },
    {
      "cell_type": "code",
      "execution_count": null,
      "id": "532c3949-37f8-42e1-970c-f7815805800c",
      "metadata": {
        "id": "532c3949-37f8-42e1-970c-f7815805800c",
        "colab": {
          "base_uri": "https://localhost:8080/"
        },
        "outputId": "f6a1d326-660f-4fe9-c917-88fd5ec313f4"
      },
      "outputs": [
        {
          "output_type": "stream",
          "name": "stdout",
          "text": [
            "Normal GAN Wiloxon test: 0.09692726087174633\n",
            "TimeGAN Wiloxon test: 0.40066491583927344\n",
            "Normal JS distance: 0.12242334743109161\n",
            "TimeGAN JS distance: 0.11685217884992907\n",
            "Normal Eculidean distance: 5.60876976609269\n",
            "TimeGAN Eculidean distance: 4.355819158984185\n"
          ]
        }
      ],
      "source": [
        "import math\n",
        "# Wilcoxon test\n",
        "res_normgan = wilcoxon(synth_normgan_nonnorm, real_ori, alternative = 'two-sided', zero_method='wilcox')\n",
        "res_timegan = wilcoxon([synth_timegan_nonnorm[20][0][i][:,0] for i in range(55)], real_ori, alternative = 'two-sided', zero_method='wilcox')\n",
        "print('Normal GAN Wiloxon test: {}'.format(mean(res_normgan.pvalue.flatten())))\n",
        "print('TimeGAN Wiloxon test: {}'.format(mean(res_timegan.pvalue.flatten())))\n",
        "\n",
        "# JS distance\n",
        "dis_normgan = distance.jensenshannon(synth_normgan_nonnorm, real_ori, axis=1)\n",
        "dis_timegan = distance.jensenshannon([synth_timegan_nonnorm[20][0][i][:,0] for i in range(55)], real_ori, axis=1)\n",
        "print('Normal JS distance: {}'.format(mean(dis_normgan.flatten())))\n",
        "print('TimeGAN JS distance: {}'.format(mean(dis_timegan.flatten())))\n",
        "\n",
        "# Eculidean distance\n",
        "e_dis_norm = [math.dist(synth_normgan_norm[i], glucose_588[i]) for i in range(len(real_ori))]\n",
        "e_dis_time = [math.dist([synth_timegan_norm[20][0][j][:,0] for j in range(55)][i], glucose_588[i]) for i in range(len(real_ori))]\n",
        "print('Normal Eculidean distance: {}'.format(mean(e_dis_norm)))\n",
        "print('TimeGAN Eculidean distance: {}'.format(mean(e_dis_time)))"
      ]
    },
    {
      "cell_type": "code",
      "source": [
        "# DTW\n",
        "dtw_normgan = []\n",
        "dtw_timegan = []\n",
        "for i in range(len(real_ori)):\n",
        "  dtw_normgan.append(dtw.distance(synth_normgan_norm[i], glucose_588[i]))\n",
        "  dtw_timegan.append(dtw.distance([synth_timegan_norm[20][0][i][:,0] for i in range(55)][i], glucose_588[i]))\n",
        "\n",
        "print('Normal DTW distance: {}'.format(mean(dtw_normgan)))\n",
        "print('TimeGAN DTW distance: {}'.format(mean(dtw_timegan)))"
      ],
      "metadata": {
        "id": "otB6i0cXZR8S",
        "colab": {
          "base_uri": "https://localhost:8080/"
        },
        "outputId": "b18ff71d-413e-4610-8d08-769a5cda196d"
      },
      "id": "otB6i0cXZR8S",
      "execution_count": null,
      "outputs": [
        {
          "output_type": "stream",
          "name": "stdout",
          "text": [
            "Normal DTW distance: 3.5070445987851726\n",
            "TimeGAN DTW distance: 2.5848382786012394\n"
          ]
        }
      ]
    },
    {
      "cell_type": "code",
      "source": [
        "5.61df = pd.DataFrame({'Synthetic_normGAN': dtw_normgan, 'Synthetic_TimeGAN': dtw_timegan})\n",
        "df.plot(title = 'The DTW distance', secondary_y='Data index', style=['-'])"
      ],
      "metadata": {
        "colab": {
          "base_uri": "https://localhost:8080/",
          "height": 470
        },
        "id": "C5NEyRYBU1vX",
        "outputId": "8751fc75-b12b-41a0-eefa-dc945a9414a7"
      },
      "id": "C5NEyRYBU1vX",
      "execution_count": null,
      "outputs": [
        {
          "output_type": "execute_result",
          "data": {
            "text/plain": [
              "<Axes: title={'center': 'The DTW distance'}>"
            ]
          },
          "metadata": {},
          "execution_count": 26
        },
        {
          "output_type": "display_data",
          "data": {
            "text/plain": [
              "<Figure size 640x480 with 1 Axes>"
            ],
            "image/png": "[encoded data removed]"
          },
          "metadata": {}
        }
      ]
    },
    {
      "cell_type": "markdown",
      "source": [
        "PCA + t-SNE visualization"
      ],
      "metadata": {
        "id": "-dwpUPFqFQR7"
      },
      "id": "-dwpUPFqFQR7"
    },
    {
      "cell_type": "code",
      "source": [
        "sample_size = 55\n",
        "idx = np.random.permutation(len(real_ori))[:sample_size]\n",
        "\n",
        "real_sample = np.asarray(real_ori)[idx]\n",
        "\n",
        "synthetic_sample_norm = np.asarray(synth_normgan_nonnorm)[idx]\n",
        "\n",
        "synth_data_reduced = real_sample.reshape(-1, 288)\n",
        "patient_data_reduced_norm = np.asarray(synthetic_sample_norm).reshape(-1,288)\n",
        "\n",
        "n_components = 2\n",
        "pca = PCA(n_components=n_components)\n",
        "tsne = TSNE(n_components=n_components, n_iter=300)\n",
        "\n",
        "#The fit of the methods must be done only using the real sequential data\n",
        "pca.fit(synth_data_reduced)\n",
        "\n",
        "pca_real = pd.DataFrame(pca.transform(synth_data_reduced))\n",
        "pca_synth_norm = pd.DataFrame(pca.transform(patient_data_reduced_norm))\n",
        "\n",
        "data_reduced = np.concatenate((synth_data_reduced, patient_data_reduced_norm), axis=0)\n",
        "tsne_results = pd.DataFrame(tsne.fit_transform(data_reduced))"
      ],
      "metadata": {
        "id": "kFdYnCTzWx20"
      },
      "id": "kFdYnCTzWx20",
      "execution_count": null,
      "outputs": []
    },
    {
      "cell_type": "code",
      "source": [
        "sample_size = 55\n",
        "idx = np.random.permutation(len(real_ori))[:sample_size]\n",
        "\n",
        "real_sample = np.asarray(real_ori)[idx]\n",
        "\n",
        "synthetic_sample_timegan = np.asarray([synth_timegan_nonnorm[20][0][i][:,0] for i in range(55)])[idx]\n",
        "\n",
        "synth_data_reduced = real_sample.reshape(-1, 288)\n",
        "patient_data_reduced_timegan = np.asarray(synthetic_sample_timegan).reshape(-1,288)\n",
        "\n",
        "n_components = 2\n",
        "pca = PCA(n_components=n_components)\n",
        "tsne = TSNE(n_components=n_components, n_iter=300)\n",
        "\n",
        "#The fit of the methods must be done only using the real sequential data\n",
        "pca.fit(synth_data_reduced)\n",
        "\n",
        "pca_real = pd.DataFrame(pca.transform(synth_data_reduced))\n",
        "pca_synth_timegan = pd.DataFrame(pca.transform(patient_data_reduced_timegan))\n",
        "\n",
        "data_reduced = np.concatenate((synth_data_reduced, patient_data_reduced_timegan), axis=0)\n",
        "tsne_results = pd.DataFrame(tsne.fit_transform(data_reduced))"
      ],
      "metadata": {
        "id": "_KFyYEsCgYOy"
      },
      "id": "_KFyYEsCgYOy",
      "execution_count": null,
      "outputs": []
    },
    {
      "cell_type": "code",
      "source": [
        "fig = plt.figure(constrained_layout=True, figsize=(15,8))\n",
        "spec = gridspec.GridSpec(ncols=2, nrows=1, figure=fig)\n",
        "\n",
        "#TSNE scatter plot\n",
        "ax = fig.add_subplot(spec[0,0])\n",
        "ax.set_title('PCA results',\n",
        "             fontsize=20,\n",
        "             pad=10)\n",
        "\n",
        "#PCA scatter plot\n",
        "plt.scatter(pca_real.iloc[:, 0].values, pca_real.iloc[:,1].values,\n",
        "            c='black', alpha=0.2, label='Original')\n",
        "plt.scatter(pca_synth_norm.iloc[:,0], pca_synth_norm.iloc[:,1],\n",
        "            c='red', alpha=0.2, label='Synthetic_normGAN')\n",
        "\n",
        "ax.legend()\n",
        "\n",
        "ax2 = fig.add_subplot(spec[0,1])\n",
        "ax2.set_title('TSNE results',\n",
        "              fontsize=20)\n",
        "\n",
        "plt.scatter(tsne_results.iloc[:sample_size, 0].values, tsne_results.iloc[:sample_size,1].values,\n",
        "            c='black', alpha=0.2, label='Original')\n",
        "plt.scatter(tsne_results.iloc[sample_size:,0], tsne_results.iloc[sample_size:,1],\n",
        "            c='red', alpha=0.2, label='Synthetic_norm')\n",
        "\n",
        "ax2.legend()\n",
        "\n",
        "#fig.suptitle('Validating synthetic vs real data diversity and distributions',\n",
        "#             fontsize=16)"
      ],
      "metadata": {
        "colab": {
          "base_uri": "https://localhost:8080/",
          "height": 733
        },
        "id": "uhqtRZd6bpdZ",
        "outputId": "2ea25f00-5be5-4b30-c01b-0b159529efa4"
      },
      "id": "uhqtRZd6bpdZ",
      "execution_count": null,
      "outputs": [
        {
          "output_type": "execute_result",
          "data": {
            "text/plain": [
              "<matplotlib.legend.Legend at 0x7fae9f74b730>"
            ]
          },
          "metadata": {},
          "execution_count": 77
        },
        {
          "output_type": "display_data",
          "data": {
            "text/plain": [
              "<Figure size 1500x800 with 2 Axes>"
            ],
            "image/png": "[encoded data removed]"
          },
          "metadata": {}
        }
      ]
    },
    {
      "cell_type": "code",
      "source": [
        "fig = plt.figure(constrained_layout=True, figsize=(15,8))\n",
        "spec = gridspec.GridSpec(ncols=2, nrows=1, figure=fig)\n",
        "\n",
        "#TSNE scatter plot\n",
        "ax = fig.add_subplot(spec[0,0])\n",
        "ax.set_title('PCA results',\n",
        "             fontsize=20)\n",
        "\n",
        "#PCA scatter plot\n",
        "plt.scatter(pca_real.iloc[:, 0].values, pca_real.iloc[:,1].values,\n",
        "            c='black', alpha=0.2, label='Original')\n",
        "plt.scatter(pca_synth_timegan.iloc[:,0], pca_synth_timegan.iloc[:,1],\n",
        "            c='red', alpha=0.2, label='Synthetic_timeGAN')\n",
        "\n",
        "ax.legend()\n",
        "\n",
        "ax2 = fig.add_subplot(spec[0,1])\n",
        "ax2.set_title('TSNE results',\n",
        "              fontsize=20)\n",
        "\n",
        "plt.scatter(tsne_results.iloc[:sample_size, 0].values, tsne_results.iloc[:sample_size,1].values,\n",
        "            c='black', alpha=0.2, label='Original')\n",
        "plt.scatter(tsne_results.iloc[sample_size:,0], tsne_results.iloc[sample_size:,1],\n",
        "            c='red', alpha=0.2, label='Synthetic')\n",
        "\n",
        "ax2.legend()\n",
        "\n",
        "#fig.suptitle('Validating synthetic vs real data diversity and distributions',\n",
        "#             fontsize=16)"
      ],
      "metadata": {
        "colab": {
          "base_uri": "https://localhost:8080/",
          "height": 733
        },
        "id": "5AGBbuU_gR90",
        "outputId": "03c9b525-0ce6-4246-a6a7-5b525254f5b4"
      },
      "id": "5AGBbuU_gR90",
      "execution_count": null,
      "outputs": [
        {
          "output_type": "execute_result",
          "data": {
            "text/plain": [
              "<matplotlib.legend.Legend at 0x7fae9e2a24d0>"
            ]
          },
          "metadata": {},
          "execution_count": 79
        },
        {
          "output_type": "display_data",
          "data": {
            "text/plain": [
              "<Figure size 1500x800 with 2 Axes>"
            ],
            "image/png": "[encoded data removed]"
          },
          "metadata": {}
        }
      ]
    },
    {
      "cell_type": "code",
      "source": [],
      "metadata": {
        "id": "l84a_VRogpnF"
      },
      "id": "l84a_VRogpnF",
      "execution_count": null,
      "outputs": []
    }
  ],
  "metadata": {
    "kernelspec": {
      "display_name": "Python 3 (ipykernel)",
      "language": "python",
      "name": "python3"
    },
    "language_info": {
      "codemirror_mode": {
        "name": "ipython",
        "version": 3
      },
      "file_extension": ".py",
      "mimetype": "text/x-python",
      "name": "python",
      "nbconvert_exporter": "python",
      "pygments_lexer": "ipython3",
      "version": "3.9.13"
    },
    "colab": {
      "provenance": [],
      "machine_shape": "hm",
      "gpuType": "A100",
      "gpuClass": "premium"
    },
    "gpuClass": "premium",
    "accelerator": "GPU"
  },
  "nbformat": 4,
  "nbformat_minor": 5
}