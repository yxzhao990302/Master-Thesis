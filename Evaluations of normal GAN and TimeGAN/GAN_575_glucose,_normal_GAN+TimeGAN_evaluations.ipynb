{
  "cells": [
    {
      "cell_type": "code",
      "execution_count": null,
      "id": "6a1cd663-ce3a-4fa6-b032-274843aa106c",
      "metadata": {
        "id": "6a1cd663-ce3a-4fa6-b032-274843aa106c"
      },
      "outputs": [],
      "source": [
        "# train a generative adversarial network on a one-dimensional function\n",
        "import pandas as pd\n",
        "from numpy import hstack\n",
        "import numpy as np\n",
        "from datetime import datetime\n",
        "from numpy import zeros\n",
        "from numpy import ones\n",
        "import random\n",
        "from numpy.random import rand\n",
        "from numpy.random import randn\n",
        "from keras.models import Sequential\n",
        "from keras import Input\n",
        "from keras.layers import Dense, Conv1D, LeakyReLU, Reshape, UpSampling1D\n",
        "from keras.optimizers import Adam\n",
        "from matplotlib import pyplot\n",
        "import matplotlib.pyplot as plt \n",
        "from tqdm import tqdm\n",
        "from tensorflow import keras\n",
        "from keras.models import save_model, load_model\n",
        "from statistics import mean, variance, pstdev\n",
        "from sklearn.preprocessing import MinMaxScaler\n",
        "from statistics import mean, variance, pstdev\n",
        "from scipy.spatial import distance\n",
        "from scipy.stats import wilcoxon\n",
        "from dtaidistance import dtw\n",
        "from sklearn.decomposition import PCA\n",
        "from sklearn.manifold import TSNE\n",
        "import matplotlib.gridspec as gridspec\n",
        "import seaborn as sns\n",
        "import math"
      ]
    },
    {
      "cell_type": "code",
      "source": [
        "!pip install dtaidistance"
      ],
      "metadata": {
        "colab": {
          "base_uri": "https://localhost:8080/"
        },
        "id": "axDtKfq8UInR",
        "outputId": "8f14693c-57a8-4e48-c2af-031ae17b35dc"
      },
      "id": "axDtKfq8UInR",
      "execution_count": null,
      "outputs": [
        {
          "output_type": "stream",
          "name": "stdout",
          "text": [
            "Looking in indexes: https://pypi.org/simple, https://us-python.pkg.dev/colab-wheels/public/simple/\n",
            "Collecting dtaidistance\n",
            "  Downloading dtaidistance-2.3.10-cp310-cp310-manylinux_2_17_x86_64.manylinux2014_x86_64.whl (2.4 MB)\n",
            "\u001b[2K     \u001b[90m━━━━━━━━━━━━━━━━━━━━━━━━━━━━━━━━━━━━━━━━\u001b[0m \u001b[32m2.4/2.4 MB\u001b[0m \u001b[31m25.6 MB/s\u001b[0m eta \u001b[36m0:00:00\u001b[0m\n",
            "\u001b[?25hRequirement already satisfied: numpy in /usr/local/lib/python3.10/dist-packages (from dtaidistance) (1.22.4)\n",
            "Installing collected packages: dtaidistance\n",
            "Successfully installed dtaidistance-2.3.10\n"
          ]
        }
      ]
    },
    {
      "cell_type": "code",
      "source": [
        "from google.colab import drive\n",
        "\n",
        "drive.mount('/content/drive')"
      ],
      "metadata": {
        "colab": {
          "base_uri": "https://localhost:8080/"
        },
        "id": "J-wRkyVB-ZTu",
        "outputId": "21ef445a-3d7c-4518-b2da-40d507f576ae"
      },
      "id": "J-wRkyVB-ZTu",
      "execution_count": null,
      "outputs": [
        {
          "output_type": "stream",
          "name": "stdout",
          "text": [
            "Mounted at /content/drive\n"
          ]
        }
      ]
    },
    {
      "cell_type": "code",
      "execution_count": null,
      "id": "b857585e-6da2-4ba6-ae42-7619672cf9e7",
      "metadata": {
        "id": "b857585e-6da2-4ba6-ae42-7619672cf9e7"
      },
      "outputs": [],
      "source": [
        "LENGTH_INPUT = 288\n",
        "latent_dim = 500"
      ]
    },
    {
      "cell_type": "markdown",
      "id": "88ea179b-736e-409f-a40d-84b3910af564",
      "metadata": {
        "id": "88ea179b-736e-409f-a40d-84b3910af564"
      },
      "source": [
        "# Prepare training data"
      ]
    },
    {
      "cell_type": "code",
      "execution_count": null,
      "id": "aa56387d-d5d5-4dba-8e90-c8e8086e73a2",
      "metadata": {
        "id": "aa56387d-d5d5-4dba-8e90-c8e8086e73a2"
      },
      "outputs": [],
      "source": [
        "df_575 =  pd.read_csv('/content/drive/MyDrive/Thesis/processed data/575.csv')"
      ]
    },
    {
      "cell_type": "code",
      "execution_count": null,
      "id": "98e176ab-1bed-4e88-8775-288291f4f545",
      "metadata": {
        "id": "98e176ab-1bed-4e88-8775-288291f4f545"
      },
      "outputs": [],
      "source": [
        "df_575['time'] = pd.to_datetime(df_575['time'], dayfirst=True)"
      ]
    },
    {
      "cell_type": "code",
      "execution_count": null,
      "id": "e3d1c33b-21a3-4e2e-8b22-8dee1b477e14",
      "metadata": {
        "id": "e3d1c33b-21a3-4e2e-8b22-8dee1b477e14"
      },
      "outputs": [],
      "source": [
        "df_575['date'] = df_575['time'].apply(lambda x: x.date())\n",
        "dates = df_575['date'].unique()\n",
        "glucose_575 = []\n",
        "for date in dates:\n",
        "  glucose_575.append(df_575[df_575['date'] == date]['glucose_value'].values)"
      ]
    },
    {
      "cell_type": "code",
      "source": [
        "scaler = MinMaxScaler().fit(glucose_575)\n",
        "glucose_575 = scaler.transform(glucose_575)"
      ],
      "metadata": {
        "id": "JqHy8TStAN9u"
      },
      "id": "JqHy8TStAN9u",
      "execution_count": null,
      "outputs": []
    },
    {
      "cell_type": "code",
      "execution_count": null,
      "id": "4b49b5ca-8628-41f6-8a57-6c0cd025831b",
      "metadata": {
        "id": "4b49b5ca-8628-41f6-8a57-6c0cd025831b"
      },
      "outputs": [],
      "source": [
        "glucose_575 = np.array(glucose_575)\n",
        "y = ones((54, 1))"
      ]
    },
    {
      "cell_type": "code",
      "source": [
        "glucose_575.shape"
      ],
      "metadata": {
        "colab": {
          "base_uri": "https://localhost:8080/"
        },
        "id": "P5eVWa9R7yyc",
        "outputId": "885482ec-d962-4289-b0b6-11699a21fd70"
      },
      "id": "P5eVWa9R7yyc",
      "execution_count": null,
      "outputs": [
        {
          "output_type": "execute_result",
          "data": {
            "text/plain": [
              "(54, 288)"
            ]
          },
          "metadata": {},
          "execution_count": 11
        }
      ]
    },
    {
      "cell_type": "markdown",
      "id": "c0bf7b7b-097e-4379-bc3c-76bd04d57b25",
      "metadata": {
        "id": "c0bf7b7b-097e-4379-bc3c-76bd04d57b25"
      },
      "source": [
        "# Model Architecture"
      ]
    },
    {
      "cell_type": "code",
      "execution_count": null,
      "id": "a9e75e84-1cd4-43f1-aca8-b6e6f6022304",
      "metadata": {
        "id": "a9e75e84-1cd4-43f1-aca8-b6e6f6022304"
      },
      "outputs": [],
      "source": [
        "# define the standalone discriminator model\n",
        "def define_discriminator():\n",
        "    model = Sequential()\n",
        "    \n",
        "    # Dense layer\n",
        "    model.add(Dense(1, input_shape=(288,1)))\n",
        "    model.add(LeakyReLU())\n",
        "    \n",
        "    # Convolutional layer with LeakyReLU activation\n",
        "    model.add(Conv1D(32, kernel_size=4, strides=2, padding='same'))\n",
        "    model.add(LeakyReLU())\n",
        "\n",
        "    # Convolutional layer with LeakyReLU activation\n",
        "    model.add(Conv1D(32, kernel_size=2, strides=2, padding='same'))\n",
        "    model.add(LeakyReLU())\n",
        "    \n",
        "    # Reshape layer\n",
        "    model.add(Reshape((2304,)))\n",
        "    \n",
        "    # Dense layer\n",
        "    model.add(Dense(1, activation='sigmoid'))\n",
        "\n",
        "    opt = Adam(lr=0.0005)\n",
        "    # compile model\n",
        "    model.compile(loss='binary_crossentropy', optimizer=opt, metrics=['accuracy'])\n",
        "    return model"
      ]
    },
    {
      "cell_type": "code",
      "execution_count": null,
      "id": "099c6ec7-5225-4957-bdfc-e5032cd688fd",
      "metadata": {
        "id": "099c6ec7-5225-4957-bdfc-e5032cd688fd"
      },
      "outputs": [],
      "source": [
        "# define the standalone generator model\n",
        "def define_generator():\n",
        "    model = Sequential()\n",
        "    \n",
        "    # Dense layer\n",
        "    model.add(Dense(3600, input_shape=(latent_dim,)))\n",
        "    model.add(LeakyReLU())\n",
        "    \n",
        "    # Reshape layer\n",
        "    model.add(Reshape((72, 50)))\n",
        "    \n",
        "    # Upsampling layer\n",
        "    model.add(UpSampling1D(size=4))\n",
        "    \n",
        "    # Convolutional layer\n",
        "    model.add(Conv1D(filters=32, kernel_size=2, strides=2, padding='same'))\n",
        "    \n",
        "    # Upsampling layer\n",
        "    model.add(UpSampling1D(size=4))\n",
        "    \n",
        "    # Convolutional layer + leaky relu layer\n",
        "    model.add(Conv1D(filters=32, kernel_size=2, strides=2, padding='same'))\n",
        "    model.add(LeakyReLU())\n",
        "    \n",
        "    # Convolutional layer\n",
        "    model.add(Conv1D(filters=1, kernel_size=1, padding='same'))\n",
        "    \n",
        "    model.compile(optimizer='adam')\n",
        "\n",
        "    return model"
      ]
    },
    {
      "cell_type": "code",
      "execution_count": null,
      "id": "953d1808-87ed-407a-8b83-de4d5691df1c",
      "metadata": {
        "id": "953d1808-87ed-407a-8b83-de4d5691df1c"
      },
      "outputs": [],
      "source": [
        "# define the combined generator and discriminator model, for updating the generator\n",
        "def define_gan(generator, discriminator):\n",
        "    # make weights in the discriminator not trainable\n",
        "    discriminator.trainable = False\n",
        "    # connect them\n",
        "    model = Sequential()\n",
        "    model.add(generator)\n",
        "    model.add(discriminator)\n",
        "    opt = Adam(lr=0.0005)\n",
        "    model.compile(loss='binary_crossentropy', optimizer=opt)\n",
        "    return model"
      ]
    },
    {
      "cell_type": "code",
      "execution_count": null,
      "id": "1fcfbcc5-28a1-4324-8fcd-0624f54ef54e",
      "metadata": {
        "id": "1fcfbcc5-28a1-4324-8fcd-0624f54ef54e"
      },
      "outputs": [],
      "source": [
        "# generate points in latent space as input for the generator\n",
        "def generate_latent_points(n):\n",
        "    # generate points in the latent space from the normal distribution\n",
        "    x_input = np.random.normal(size = latent_dim * n)\n",
        "    # reshape into a batch of inputs for the network\n",
        "    x_input = x_input.reshape(n, latent_dim)\n",
        "\n",
        "    return x_input"
      ]
    },
    {
      "cell_type": "code",
      "execution_count": null,
      "id": "7108a5fc-2e71-4530-b6e6-8769f4f165bb",
      "metadata": {
        "id": "7108a5fc-2e71-4530-b6e6-8769f4f165bb"
      },
      "outputs": [],
      "source": [
        "# use the generator to generate n fake examples, with class labels\n",
        "def generate_fake_samples(generator, n):\n",
        "    # generate points in latent space\n",
        "    x_input = generate_latent_points(n)\n",
        "    # predict outputs\n",
        "    X = generator.predict(x_input, verbose=0)\n",
        "    # create class labels\n",
        "    y = zeros((n, 1))\n",
        "\n",
        "    return X, y"
      ]
    },
    {
      "cell_type": "code",
      "execution_count": null,
      "id": "a92cef4f-9d76-4681-b7ca-c19bd10a302c",
      "metadata": {
        "id": "a92cef4f-9d76-4681-b7ca-c19bd10a302c"
      },
      "outputs": [],
      "source": [
        "# train the generator and discriminator\n",
        "def train(g_model, d_model, gan_model, latent_dim, n_epochs=10000, n_batch=54, n_eval=100):\n",
        "    d_loss_list = []\n",
        "    g_loss_list = []\n",
        "    # determine half the size of one batch, for updating the discriminator\n",
        "    half_batch = int(n_batch / 2)\n",
        "    \n",
        "    # manually enumerate epochs\n",
        "    for i in tqdm(range(n_epochs)):\n",
        "        \n",
        "        # prepare real samples\n",
        "        rand_index = random.sample(range(0,54), 27)\n",
        "        x_real, y_real = glucose_575[rand_index], y[rand_index]\n",
        "        # prepare fake examples\n",
        "        x_fake, y_fake = generate_fake_samples(g_model, half_batch)\n",
        "        \n",
        "        # update discriminator\n",
        "        d_loss_real = d_model.train_on_batch(x_real, y_real)\n",
        "        d_loss_fake = d_model.train_on_batch(x_fake, y_fake)\n",
        "        # average of d_loss_real and d_loss_fake\n",
        "        d_loss = 0.5 * np.add(d_loss_real, d_loss_fake)\n",
        "        d_loss_list.append(d_loss)\n",
        "        #print(d_loss[0])\n",
        "\n",
        "        # prepare points in latent space as input for the generator\n",
        "        #for _ in range(4):\n",
        "        x_gan = generate_latent_points(n_batch)\n",
        "        # create inverted labels for the fake samples\n",
        "        y_gan = ones((n_batch, 1))\n",
        "        # update the generator via the discriminator's error\n",
        "        g_loss = gan_model.train_on_batch(x_gan, y_gan)\n",
        "        g_loss_list.append(g_loss)\n",
        "        \n",
        "       \n",
        "        # evaluate the model every n_eval epochs\n",
        "        if (i+1) % n_eval == 0:\n",
        "            generator.save_weights('/content/drive/MyDrive/Thesis/model/normal_gan/575_0.0005/generator_weights_%d.h5' %(i+1))\n",
        "            print (\"%d [D loss: %f, acc.: %.2f%%] [G loss: %f]\" % (i, d_loss[0], 100*d_loss[1], g_loss))"
      ]
    },
    {
      "cell_type": "code",
      "execution_count": null,
      "id": "ce93ac09-c4d5-41bd-bf88-f89573ab09b6",
      "metadata": {
        "colab": {
          "base_uri": "https://localhost:8080/"
        },
        "id": "ce93ac09-c4d5-41bd-bf88-f89573ab09b6",
        "outputId": "e4a16195-c5e7-455f-f9c2-a2bb8d5f64db"
      },
      "outputs": [
        {
          "output_type": "stream",
          "name": "stdout",
          "text": [
            "Model: \"sequential\"\n",
            "_________________________________________________________________\n",
            " Layer (type)                Output Shape              Param #   \n",
            "=================================================================\n",
            " dense (Dense)               (None, 288, 1)            2         \n",
            "                                                                 \n",
            " leaky_re_lu (LeakyReLU)     (None, 288, 1)            0         \n",
            "                                                                 \n",
            " conv1d (Conv1D)             (None, 144, 32)           160       \n",
            "                                                                 \n",
            " leaky_re_lu_1 (LeakyReLU)   (None, 144, 32)           0         \n",
            "                                                                 \n",
            " conv1d_1 (Conv1D)           (None, 72, 32)            2080      \n",
            "                                                                 \n",
            " leaky_re_lu_2 (LeakyReLU)   (None, 72, 32)            0         \n",
            "                                                                 \n",
            " reshape (Reshape)           (None, 2304)              0         \n",
            "                                                                 \n",
            " dense_1 (Dense)             (None, 1)                 2305      \n",
            "                                                                 \n",
            "=================================================================\n",
            "Total params: 4,547\n",
            "Trainable params: 4,547\n",
            "Non-trainable params: 0\n",
            "_________________________________________________________________\n"
          ]
        },
        {
          "output_type": "stream",
          "name": "stderr",
          "text": [
            "/usr/local/lib/python3.10/dist-packages/keras/optimizers/legacy/adam.py:117: UserWarning: The `lr` argument is deprecated, use `learning_rate` instead.\n",
            "  super().__init__(name, **kwargs)\n"
          ]
        }
      ],
      "source": [
        "discriminator = define_discriminator()\n",
        "discriminator.summary()"
      ]
    },
    {
      "cell_type": "code",
      "execution_count": null,
      "id": "aa724642-eb06-4e82-8660-14c835a5f8dc",
      "metadata": {
        "id": "aa724642-eb06-4e82-8660-14c835a5f8dc",
        "outputId": "bfb4a710-1733-45b9-8d32-9894cc1eca42",
        "colab": {
          "base_uri": "https://localhost:8080/"
        }
      },
      "outputs": [
        {
          "output_type": "stream",
          "name": "stdout",
          "text": [
            "Model: \"sequential_1\"\n",
            "_________________________________________________________________\n",
            " Layer (type)                Output Shape              Param #   \n",
            "=================================================================\n",
            " dense_2 (Dense)             (None, 3600)              1803600   \n",
            "                                                                 \n",
            " leaky_re_lu_3 (LeakyReLU)   (None, 3600)              0         \n",
            "                                                                 \n",
            " reshape_1 (Reshape)         (None, 72, 50)            0         \n",
            "                                                                 \n",
            " up_sampling1d (UpSampling1D  (None, 288, 50)          0         \n",
            " )                                                               \n",
            "                                                                 \n",
            " conv1d_2 (Conv1D)           (None, 144, 32)           3232      \n",
            "                                                                 \n",
            " up_sampling1d_1 (UpSampling  (None, 576, 32)          0         \n",
            " 1D)                                                             \n",
            "                                                                 \n",
            " conv1d_3 (Conv1D)           (None, 288, 32)           2080      \n",
            "                                                                 \n",
            " leaky_re_lu_4 (LeakyReLU)   (None, 288, 32)           0         \n",
            "                                                                 \n",
            " conv1d_4 (Conv1D)           (None, 288, 1)            33        \n",
            "                                                                 \n",
            "=================================================================\n",
            "Total params: 1,808,945\n",
            "Trainable params: 1,808,945\n",
            "Non-trainable params: 0\n",
            "_________________________________________________________________\n"
          ]
        }
      ],
      "source": [
        "generator = define_generator()\n",
        "generator.summary()"
      ]
    },
    {
      "cell_type": "code",
      "execution_count": null,
      "id": "8c239002-60c4-4b63-8dae-793783b71777",
      "metadata": {
        "id": "8c239002-60c4-4b63-8dae-793783b71777",
        "outputId": "fdf1c0d3-c987-47a6-e669-037cb676021c",
        "colab": {
          "base_uri": "https://localhost:8080/"
        }
      },
      "outputs": [
        {
          "output_type": "stream",
          "name": "stderr",
          "text": [
            "  1%|          | 101/10000 [00:24<1:20:36,  2.05it/s]"
          ]
        },
        {
          "output_type": "stream",
          "name": "stdout",
          "text": [
            "99 [D loss: 0.526381, acc.: 50.00%] [G loss: 1.895699]\n"
          ]
        },
        {
          "output_type": "stream",
          "name": "stderr",
          "text": [
            "  2%|▏         | 201/10000 [00:33<36:07,  4.52it/s]"
          ]
        },
        {
          "output_type": "stream",
          "name": "stdout",
          "text": [
            "199 [D loss: 0.709484, acc.: 40.74%] [G loss: 0.636214]\n"
          ]
        },
        {
          "output_type": "stream",
          "name": "stderr",
          "text": [
            "  3%|▎         | 301/10000 [00:43<37:45,  4.28it/s]"
          ]
        },
        {
          "output_type": "stream",
          "name": "stdout",
          "text": [
            "299 [D loss: 0.670715, acc.: 100.00%] [G loss: 0.718218]\n"
          ]
        },
        {
          "output_type": "stream",
          "name": "stderr",
          "text": [
            "  4%|▍         | 401/10000 [00:52<27:03,  5.91it/s]"
          ]
        },
        {
          "output_type": "stream",
          "name": "stdout",
          "text": [
            "399 [D loss: 0.582217, acc.: 100.00%] [G loss: 0.720862]\n"
          ]
        },
        {
          "output_type": "stream",
          "name": "stderr",
          "text": [
            "  5%|▌         | 501/10000 [01:02<30:58,  5.11it/s]"
          ]
        },
        {
          "output_type": "stream",
          "name": "stdout",
          "text": [
            "499 [D loss: 0.624127, acc.: 66.67%] [G loss: 0.702010]\n"
          ]
        },
        {
          "output_type": "stream",
          "name": "stderr",
          "text": [
            "  6%|▌         | 601/10000 [01:12<49:11,  3.18it/s]"
          ]
        },
        {
          "output_type": "stream",
          "name": "stdout",
          "text": [
            "599 [D loss: 0.690509, acc.: 57.41%] [G loss: 0.916852]\n"
          ]
        },
        {
          "output_type": "stream",
          "name": "stderr",
          "text": [
            "  7%|▋         | 701/10000 [01:22<48:43,  3.18it/s]"
          ]
        },
        {
          "output_type": "stream",
          "name": "stdout",
          "text": [
            "699 [D loss: 0.548211, acc.: 87.04%] [G loss: 1.098867]\n"
          ]
        },
        {
          "output_type": "stream",
          "name": "stderr",
          "text": [
            "  8%|▊         | 802/10000 [01:32<27:55,  5.49it/s]"
          ]
        },
        {
          "output_type": "stream",
          "name": "stdout",
          "text": [
            "799 [D loss: 0.560078, acc.: 100.00%] [G loss: 0.747792]\n"
          ]
        },
        {
          "output_type": "stream",
          "name": "stderr",
          "text": [
            "  9%|▉         | 902/10000 [01:42<28:57,  5.24it/s]"
          ]
        },
        {
          "output_type": "stream",
          "name": "stdout",
          "text": [
            "899 [D loss: 0.479025, acc.: 98.15%] [G loss: 0.848596]\n"
          ]
        },
        {
          "output_type": "stream",
          "name": "stderr",
          "text": [
            " 10%|█         | 1002/10000 [01:52<28:33,  5.25it/s]"
          ]
        },
        {
          "output_type": "stream",
          "name": "stdout",
          "text": [
            "999 [D loss: 0.440033, acc.: 98.15%] [G loss: 1.254796]\n"
          ]
        },
        {
          "output_type": "stream",
          "name": "stderr",
          "text": [
            " 11%|█         | 1102/10000 [02:02<28:00,  5.29it/s]"
          ]
        },
        {
          "output_type": "stream",
          "name": "stdout",
          "text": [
            "1099 [D loss: 0.565071, acc.: 87.04%] [G loss: 0.825963]\n"
          ]
        },
        {
          "output_type": "stream",
          "name": "stderr",
          "text": [
            " 12%|█▏        | 1202/10000 [02:12<32:52,  4.46it/s]"
          ]
        },
        {
          "output_type": "stream",
          "name": "stdout",
          "text": [
            "1199 [D loss: 0.456616, acc.: 98.15%] [G loss: 0.882197]\n"
          ]
        },
        {
          "output_type": "stream",
          "name": "stderr",
          "text": [
            " 13%|█▎        | 1301/10000 [02:21<28:17,  5.12it/s]"
          ]
        },
        {
          "output_type": "stream",
          "name": "stdout",
          "text": [
            "1299 [D loss: 0.366184, acc.: 96.30%] [G loss: 1.196781]\n"
          ]
        },
        {
          "output_type": "stream",
          "name": "stderr",
          "text": [
            " 14%|█▍        | 1401/10000 [02:32<41:17,  3.47it/s]"
          ]
        },
        {
          "output_type": "stream",
          "name": "stdout",
          "text": [
            "1399 [D loss: 1.062015, acc.: 42.59%] [G loss: 0.337692]\n"
          ]
        },
        {
          "output_type": "stream",
          "name": "stderr",
          "text": [
            " 15%|█▌        | 1501/10000 [02:41<31:15,  4.53it/s]"
          ]
        },
        {
          "output_type": "stream",
          "name": "stdout",
          "text": [
            "1499 [D loss: 0.346650, acc.: 87.04%] [G loss: 1.313162]\n"
          ]
        },
        {
          "output_type": "stream",
          "name": "stderr",
          "text": [
            " 16%|█▌        | 1601/10000 [02:51<30:20,  4.61it/s]"
          ]
        },
        {
          "output_type": "stream",
          "name": "stdout",
          "text": [
            "1599 [D loss: 0.117744, acc.: 100.00%] [G loss: 3.170133]\n"
          ]
        },
        {
          "output_type": "stream",
          "name": "stderr",
          "text": [
            " 17%|█▋        | 1701/10000 [03:00<30:09,  4.59it/s]"
          ]
        },
        {
          "output_type": "stream",
          "name": "stdout",
          "text": [
            "1699 [D loss: 0.242365, acc.: 94.44%] [G loss: 1.593415]\n"
          ]
        },
        {
          "output_type": "stream",
          "name": "stderr",
          "text": [
            " 18%|█▊        | 1801/10000 [03:10<34:04,  4.01it/s]"
          ]
        },
        {
          "output_type": "stream",
          "name": "stdout",
          "text": [
            "1799 [D loss: 0.126374, acc.: 98.15%] [G loss: 3.095673]\n"
          ]
        },
        {
          "output_type": "stream",
          "name": "stderr",
          "text": [
            " 19%|█▉        | 1901/10000 [03:21<24:55,  5.41it/s]"
          ]
        },
        {
          "output_type": "stream",
          "name": "stdout",
          "text": [
            "1899 [D loss: 0.191360, acc.: 98.15%] [G loss: 1.728434]\n"
          ]
        },
        {
          "output_type": "stream",
          "name": "stderr",
          "text": [
            " 20%|██        | 2002/10000 [03:31<30:55,  4.31it/s]"
          ]
        },
        {
          "output_type": "stream",
          "name": "stdout",
          "text": [
            "1999 [D loss: 0.305720, acc.: 96.30%] [G loss: 1.330861]\n"
          ]
        },
        {
          "output_type": "stream",
          "name": "stderr",
          "text": [
            " 21%|██        | 2102/10000 [03:40<20:22,  6.46it/s]"
          ]
        },
        {
          "output_type": "stream",
          "name": "stdout",
          "text": [
            "2099 [D loss: 0.114035, acc.: 98.15%] [G loss: 2.304891]\n"
          ]
        },
        {
          "output_type": "stream",
          "name": "stderr",
          "text": [
            " 22%|██▏       | 2202/10000 [03:51<34:25,  3.78it/s]"
          ]
        },
        {
          "output_type": "stream",
          "name": "stdout",
          "text": [
            "2199 [D loss: 0.249075, acc.: 98.15%] [G loss: 1.467235]\n"
          ]
        },
        {
          "output_type": "stream",
          "name": "stderr",
          "text": [
            " 23%|██▎       | 2302/10000 [04:00<23:02,  5.57it/s]"
          ]
        },
        {
          "output_type": "stream",
          "name": "stdout",
          "text": [
            "2299 [D loss: 0.451894, acc.: 72.22%] [G loss: 3.330706]\n"
          ]
        },
        {
          "output_type": "stream",
          "name": "stderr",
          "text": [
            " 24%|██▍       | 2402/10000 [04:10<18:53,  6.70it/s]"
          ]
        },
        {
          "output_type": "stream",
          "name": "stdout",
          "text": [
            "2399 [D loss: 0.130064, acc.: 100.00%] [G loss: 2.208902]\n"
          ]
        },
        {
          "output_type": "stream",
          "name": "stderr",
          "text": [
            " 25%|██▌       | 2502/10000 [04:19<23:38,  5.29it/s]"
          ]
        },
        {
          "output_type": "stream",
          "name": "stdout",
          "text": [
            "2499 [D loss: 0.613986, acc.: 74.07%] [G loss: 1.022680]\n"
          ]
        },
        {
          "output_type": "stream",
          "name": "stderr",
          "text": [
            " 26%|██▌       | 2602/10000 [04:29<21:51,  5.64it/s]"
          ]
        },
        {
          "output_type": "stream",
          "name": "stdout",
          "text": [
            "2599 [D loss: 0.102235, acc.: 100.00%] [G loss: 2.589661]\n"
          ]
        },
        {
          "output_type": "stream",
          "name": "stderr",
          "text": [
            " 27%|██▋       | 2702/10000 [04:39<21:47,  5.58it/s]"
          ]
        },
        {
          "output_type": "stream",
          "name": "stdout",
          "text": [
            "2699 [D loss: 0.163039, acc.: 100.00%] [G loss: 1.958935]\n"
          ]
        },
        {
          "output_type": "stream",
          "name": "stderr",
          "text": [
            " 28%|██▊       | 2801/10000 [04:49<19:36,  6.12it/s]"
          ]
        },
        {
          "output_type": "stream",
          "name": "stdout",
          "text": [
            "2799 [D loss: 0.164773, acc.: 98.15%] [G loss: 2.092112]\n"
          ]
        },
        {
          "output_type": "stream",
          "name": "stderr",
          "text": [
            " 29%|██▉       | 2901/10000 [04:59<19:38,  6.03it/s]"
          ]
        },
        {
          "output_type": "stream",
          "name": "stdout",
          "text": [
            "2899 [D loss: 0.029997, acc.: 100.00%] [G loss: 3.299657]\n"
          ]
        },
        {
          "output_type": "stream",
          "name": "stderr",
          "text": [
            " 30%|███       | 3001/10000 [05:08<19:47,  5.89it/s]"
          ]
        },
        {
          "output_type": "stream",
          "name": "stdout",
          "text": [
            "2999 [D loss: 0.106843, acc.: 100.00%] [G loss: 2.203900]\n"
          ]
        },
        {
          "output_type": "stream",
          "name": "stderr",
          "text": [
            " 31%|███       | 3101/10000 [05:18<32:43,  3.51it/s]"
          ]
        },
        {
          "output_type": "stream",
          "name": "stdout",
          "text": [
            "3099 [D loss: 0.084534, acc.: 100.00%] [G loss: 2.454278]\n"
          ]
        },
        {
          "output_type": "stream",
          "name": "stderr",
          "text": [
            " 32%|███▏      | 3201/10000 [05:28<24:58,  4.54it/s]"
          ]
        },
        {
          "output_type": "stream",
          "name": "stdout",
          "text": [
            "3199 [D loss: 0.030203, acc.: 100.00%] [G loss: 3.471810]\n"
          ]
        },
        {
          "output_type": "stream",
          "name": "stderr",
          "text": [
            " 33%|███▎      | 3301/10000 [05:38<30:55,  3.61it/s]"
          ]
        },
        {
          "output_type": "stream",
          "name": "stdout",
          "text": [
            "3299 [D loss: 0.019189, acc.: 100.00%] [G loss: 4.037493]\n"
          ]
        },
        {
          "output_type": "stream",
          "name": "stderr",
          "text": [
            " 34%|███▍      | 3401/10000 [05:47<24:52,  4.42it/s]"
          ]
        },
        {
          "output_type": "stream",
          "name": "stdout",
          "text": [
            "3399 [D loss: 0.020754, acc.: 100.00%] [G loss: 6.890436]\n"
          ]
        },
        {
          "output_type": "stream",
          "name": "stderr",
          "text": [
            " 35%|███▌      | 3501/10000 [05:57<23:58,  4.52it/s]"
          ]
        },
        {
          "output_type": "stream",
          "name": "stdout",
          "text": [
            "3499 [D loss: 0.024944, acc.: 100.00%] [G loss: 3.623296]\n"
          ]
        },
        {
          "output_type": "stream",
          "name": "stderr",
          "text": [
            " 36%|███▌      | 3601/10000 [06:07<24:38,  4.33it/s]"
          ]
        },
        {
          "output_type": "stream",
          "name": "stdout",
          "text": [
            "3599 [D loss: 0.036550, acc.: 100.00%] [G loss: 3.447935]\n"
          ]
        },
        {
          "output_type": "stream",
          "name": "stderr",
          "text": [
            " 37%|███▋      | 3701/10000 [06:17<32:48,  3.20it/s]"
          ]
        },
        {
          "output_type": "stream",
          "name": "stdout",
          "text": [
            "3699 [D loss: 0.067404, acc.: 98.15%] [G loss: 3.280203]\n"
          ]
        },
        {
          "output_type": "stream",
          "name": "stderr",
          "text": [
            " 38%|███▊      | 3802/10000 [06:28<19:17,  5.35it/s]"
          ]
        },
        {
          "output_type": "stream",
          "name": "stdout",
          "text": [
            "3799 [D loss: 0.019027, acc.: 100.00%] [G loss: 3.677572]\n"
          ]
        },
        {
          "output_type": "stream",
          "name": "stderr",
          "text": [
            " 39%|███▉      | 3901/10000 [06:37<17:16,  5.88it/s]"
          ]
        },
        {
          "output_type": "stream",
          "name": "stdout",
          "text": [
            "3899 [D loss: 0.015405, acc.: 100.00%] [G loss: 4.086059]\n"
          ]
        },
        {
          "output_type": "stream",
          "name": "stderr",
          "text": [
            " 40%|████      | 4001/10000 [06:48<34:33,  2.89it/s]"
          ]
        },
        {
          "output_type": "stream",
          "name": "stdout",
          "text": [
            "3999 [D loss: 0.022898, acc.: 100.00%] [G loss: 3.949397]\n"
          ]
        },
        {
          "output_type": "stream",
          "name": "stderr",
          "text": [
            " 41%|████      | 4101/10000 [06:57<20:52,  4.71it/s]"
          ]
        },
        {
          "output_type": "stream",
          "name": "stdout",
          "text": [
            "4099 [D loss: 0.013716, acc.: 100.00%] [G loss: 4.268991]\n"
          ]
        },
        {
          "output_type": "stream",
          "name": "stderr",
          "text": [
            " 42%|████▏     | 4201/10000 [07:07<26:11,  3.69it/s]"
          ]
        },
        {
          "output_type": "stream",
          "name": "stdout",
          "text": [
            "4199 [D loss: 0.003947, acc.: 100.00%] [G loss: 5.291962]\n"
          ]
        },
        {
          "output_type": "stream",
          "name": "stderr",
          "text": [
            " 43%|████▎     | 4301/10000 [07:17<21:45,  4.36it/s]"
          ]
        },
        {
          "output_type": "stream",
          "name": "stdout",
          "text": [
            "4299 [D loss: 0.011101, acc.: 100.00%] [G loss: 4.454052]\n"
          ]
        },
        {
          "output_type": "stream",
          "name": "stderr",
          "text": [
            " 44%|████▍     | 4401/10000 [07:27<20:22,  4.58it/s]"
          ]
        },
        {
          "output_type": "stream",
          "name": "stdout",
          "text": [
            "4399 [D loss: 0.009238, acc.: 100.00%] [G loss: 5.020565]\n"
          ]
        },
        {
          "output_type": "stream",
          "name": "stderr",
          "text": [
            " 45%|████▌     | 4501/10000 [07:36<15:27,  5.93it/s]"
          ]
        },
        {
          "output_type": "stream",
          "name": "stdout",
          "text": [
            "4499 [D loss: 0.006658, acc.: 100.00%] [G loss: 5.174041]\n"
          ]
        },
        {
          "output_type": "stream",
          "name": "stderr",
          "text": [
            " 46%|████▌     | 4601/10000 [07:45<14:50,  6.06it/s]"
          ]
        },
        {
          "output_type": "stream",
          "name": "stdout",
          "text": [
            "4599 [D loss: 0.005999, acc.: 100.00%] [G loss: 5.252943]\n"
          ]
        },
        {
          "output_type": "stream",
          "name": "stderr",
          "text": [
            " 47%|████▋     | 4701/10000 [07:55<21:42,  4.07it/s]"
          ]
        },
        {
          "output_type": "stream",
          "name": "stdout",
          "text": [
            "4699 [D loss: 0.002855, acc.: 100.00%] [G loss: 5.960723]\n"
          ]
        },
        {
          "output_type": "stream",
          "name": "stderr",
          "text": [
            " 48%|████▊     | 4801/10000 [08:05<15:07,  5.73it/s]"
          ]
        },
        {
          "output_type": "stream",
          "name": "stdout",
          "text": [
            "4799 [D loss: 0.008835, acc.: 100.00%] [G loss: 4.696681]\n"
          ]
        },
        {
          "output_type": "stream",
          "name": "stderr",
          "text": [
            " 49%|████▉     | 4902/10000 [08:15<16:05,  5.28it/s]"
          ]
        },
        {
          "output_type": "stream",
          "name": "stdout",
          "text": [
            "4899 [D loss: 0.001186, acc.: 100.00%] [G loss: 6.403293]\n"
          ]
        },
        {
          "output_type": "stream",
          "name": "stderr",
          "text": [
            " 50%|█████     | 5002/10000 [08:25<18:26,  4.52it/s]"
          ]
        },
        {
          "output_type": "stream",
          "name": "stdout",
          "text": [
            "4999 [D loss: 0.016192, acc.: 100.00%] [G loss: 6.261438]\n"
          ]
        },
        {
          "output_type": "stream",
          "name": "stderr",
          "text": [
            " 51%|█████     | 5102/10000 [08:34<12:10,  6.70it/s]"
          ]
        },
        {
          "output_type": "stream",
          "name": "stdout",
          "text": [
            "5099 [D loss: 0.003431, acc.: 100.00%] [G loss: 5.582471]\n"
          ]
        },
        {
          "output_type": "stream",
          "name": "stderr",
          "text": [
            " 52%|█████▏    | 5202/10000 [08:44<13:58,  5.72it/s]"
          ]
        },
        {
          "output_type": "stream",
          "name": "stdout",
          "text": [
            "5199 [D loss: 0.003787, acc.: 100.00%] [G loss: 5.884918]\n"
          ]
        },
        {
          "output_type": "stream",
          "name": "stderr",
          "text": [
            " 53%|█████▎    | 5302/10000 [08:53<13:59,  5.60it/s]"
          ]
        },
        {
          "output_type": "stream",
          "name": "stdout",
          "text": [
            "5299 [D loss: 0.002549, acc.: 100.00%] [G loss: 6.316091]\n"
          ]
        },
        {
          "output_type": "stream",
          "name": "stderr",
          "text": [
            " 54%|█████▍    | 5402/10000 [09:03<11:34,  6.62it/s]"
          ]
        },
        {
          "output_type": "stream",
          "name": "stdout",
          "text": [
            "5399 [D loss: 0.001454, acc.: 100.00%] [G loss: 6.332429]\n"
          ]
        },
        {
          "output_type": "stream",
          "name": "stderr",
          "text": [
            " 55%|█████▌    | 5502/10000 [09:13<17:22,  4.32it/s]"
          ]
        },
        {
          "output_type": "stream",
          "name": "stdout",
          "text": [
            "5499 [D loss: 0.000417, acc.: 100.00%] [G loss: 7.252171]\n"
          ]
        },
        {
          "output_type": "stream",
          "name": "stderr",
          "text": [
            " 56%|█████▌    | 5601/10000 [09:22<11:29,  6.38it/s]"
          ]
        },
        {
          "output_type": "stream",
          "name": "stdout",
          "text": [
            "5599 [D loss: 0.002335, acc.: 100.00%] [G loss: 6.071568]\n"
          ]
        },
        {
          "output_type": "stream",
          "name": "stderr",
          "text": [
            " 57%|█████▋    | 5701/10000 [09:32<15:15,  4.70it/s]"
          ]
        },
        {
          "output_type": "stream",
          "name": "stdout",
          "text": [
            "5699 [D loss: 0.001517, acc.: 100.00%] [G loss: 6.625331]\n"
          ]
        },
        {
          "output_type": "stream",
          "name": "stderr",
          "text": [
            " 58%|█████▊    | 5802/10000 [09:42<12:38,  5.53it/s]"
          ]
        },
        {
          "output_type": "stream",
          "name": "stdout",
          "text": [
            "5799 [D loss: 0.001544, acc.: 100.00%] [G loss: 6.447702]\n"
          ]
        },
        {
          "output_type": "stream",
          "name": "stderr",
          "text": [
            " 59%|█████▉    | 5902/10000 [09:52<12:08,  5.63it/s]"
          ]
        },
        {
          "output_type": "stream",
          "name": "stdout",
          "text": [
            "5899 [D loss: 0.001356, acc.: 100.00%] [G loss: 6.947575]\n"
          ]
        },
        {
          "output_type": "stream",
          "name": "stderr",
          "text": [
            " 60%|██████    | 6002/10000 [10:01<11:40,  5.71it/s]"
          ]
        },
        {
          "output_type": "stream",
          "name": "stdout",
          "text": [
            "5999 [D loss: 0.000675, acc.: 100.00%] [G loss: 7.406286]\n"
          ]
        },
        {
          "output_type": "stream",
          "name": "stderr",
          "text": [
            " 61%|██████    | 6102/10000 [10:11<12:17,  5.29it/s]"
          ]
        },
        {
          "output_type": "stream",
          "name": "stdout",
          "text": [
            "6099 [D loss: 0.001083, acc.: 100.00%] [G loss: 6.838169]\n"
          ]
        },
        {
          "output_type": "stream",
          "name": "stderr",
          "text": [
            " 62%|██████▏   | 6201/10000 [10:20<10:37,  5.96it/s]"
          ]
        },
        {
          "output_type": "stream",
          "name": "stdout",
          "text": [
            "6199 [D loss: 0.000420, acc.: 100.00%] [G loss: 7.684332]\n"
          ]
        },
        {
          "output_type": "stream",
          "name": "stderr",
          "text": [
            " 63%|██████▎   | 6301/10000 [10:30<16:20,  3.77it/s]"
          ]
        },
        {
          "output_type": "stream",
          "name": "stdout",
          "text": [
            "6299 [D loss: 0.000751, acc.: 100.00%] [G loss: 7.083081]\n"
          ]
        },
        {
          "output_type": "stream",
          "name": "stderr",
          "text": [
            " 64%|██████▍   | 6401/10000 [10:40<17:06,  3.51it/s]"
          ]
        },
        {
          "output_type": "stream",
          "name": "stdout",
          "text": [
            "6399 [D loss: 0.000514, acc.: 100.00%] [G loss: 7.461439]\n"
          ]
        },
        {
          "output_type": "stream",
          "name": "stderr",
          "text": [
            " 65%|██████▌   | 6501/10000 [10:50<12:53,  4.52it/s]"
          ]
        },
        {
          "output_type": "stream",
          "name": "stdout",
          "text": [
            "6499 [D loss: 0.000396, acc.: 100.00%] [G loss: 7.738492]\n"
          ]
        },
        {
          "output_type": "stream",
          "name": "stderr",
          "text": [
            " 66%|██████▌   | 6601/10000 [10:59<10:18,  5.50it/s]"
          ]
        },
        {
          "output_type": "stream",
          "name": "stdout",
          "text": [
            "6599 [D loss: 0.000535, acc.: 100.00%] [G loss: 7.882812]\n"
          ]
        },
        {
          "output_type": "stream",
          "name": "stderr",
          "text": [
            " 67%|██████▋   | 6701/10000 [11:09<10:27,  5.25it/s]"
          ]
        },
        {
          "output_type": "stream",
          "name": "stdout",
          "text": [
            "6699 [D loss: 0.000338, acc.: 100.00%] [G loss: 8.260523]\n"
          ]
        },
        {
          "output_type": "stream",
          "name": "stderr",
          "text": [
            " 68%|██████▊   | 6802/10000 [11:19<07:18,  7.29it/s]"
          ]
        },
        {
          "output_type": "stream",
          "name": "stdout",
          "text": [
            "6799 [D loss: 0.000390, acc.: 100.00%] [G loss: 7.783050]\n"
          ]
        },
        {
          "output_type": "stream",
          "name": "stderr",
          "text": [
            " 69%|██████▉   | 6902/10000 [11:29<08:58,  5.76it/s]"
          ]
        },
        {
          "output_type": "stream",
          "name": "stdout",
          "text": [
            "6899 [D loss: 0.000677, acc.: 100.00%] [G loss: 6.987753]\n"
          ]
        },
        {
          "output_type": "stream",
          "name": "stderr",
          "text": [
            " 70%|███████   | 7002/10000 [11:38<07:55,  6.30it/s]"
          ]
        },
        {
          "output_type": "stream",
          "name": "stdout",
          "text": [
            "6999 [D loss: 0.000289, acc.: 100.00%] [G loss: 8.337898]\n"
          ]
        },
        {
          "output_type": "stream",
          "name": "stderr",
          "text": [
            " 71%|███████   | 7102/10000 [11:47<08:21,  5.77it/s]"
          ]
        },
        {
          "output_type": "stream",
          "name": "stdout",
          "text": [
            "7099 [D loss: 0.000200, acc.: 100.00%] [G loss: 8.461307]\n"
          ]
        },
        {
          "output_type": "stream",
          "name": "stderr",
          "text": [
            " 72%|███████▏  | 7202/10000 [11:57<08:15,  5.65it/s]"
          ]
        },
        {
          "output_type": "stream",
          "name": "stdout",
          "text": [
            "7199 [D loss: 0.000185, acc.: 100.00%] [G loss: 8.849175]\n"
          ]
        },
        {
          "output_type": "stream",
          "name": "stderr",
          "text": [
            " 73%|███████▎  | 7302/10000 [12:06<06:31,  6.89it/s]"
          ]
        },
        {
          "output_type": "stream",
          "name": "stdout",
          "text": [
            "7299 [D loss: 0.000123, acc.: 100.00%] [G loss: 9.090115]\n"
          ]
        },
        {
          "output_type": "stream",
          "name": "stderr",
          "text": [
            " 74%|███████▍  | 7402/10000 [12:16<07:34,  5.72it/s]"
          ]
        },
        {
          "output_type": "stream",
          "name": "stdout",
          "text": [
            "7399 [D loss: 0.000111, acc.: 100.00%] [G loss: 9.020953]\n"
          ]
        },
        {
          "output_type": "stream",
          "name": "stderr",
          "text": [
            " 75%|███████▌  | 7502/10000 [12:25<06:00,  6.92it/s]"
          ]
        },
        {
          "output_type": "stream",
          "name": "stdout",
          "text": [
            "7499 [D loss: 0.000149, acc.: 100.00%] [G loss: 9.018315]\n"
          ]
        },
        {
          "output_type": "stream",
          "name": "stderr",
          "text": [
            " 76%|███████▌  | 7602/10000 [12:35<06:55,  5.77it/s]"
          ]
        },
        {
          "output_type": "stream",
          "name": "stdout",
          "text": [
            "7599 [D loss: 0.000099, acc.: 100.00%] [G loss: 8.857571]\n"
          ]
        },
        {
          "output_type": "stream",
          "name": "stderr",
          "text": [
            " 77%|███████▋  | 7701/10000 [12:45<09:02,  4.24it/s]"
          ]
        },
        {
          "output_type": "stream",
          "name": "stdout",
          "text": [
            "7699 [D loss: 0.000281, acc.: 100.00%] [G loss: 8.393104]\n"
          ]
        },
        {
          "output_type": "stream",
          "name": "stderr",
          "text": [
            " 78%|███████▊  | 7801/10000 [12:55<07:57,  4.61it/s]"
          ]
        },
        {
          "output_type": "stream",
          "name": "stdout",
          "text": [
            "7799 [D loss: 0.000109, acc.: 100.00%] [G loss: 9.437266]\n"
          ]
        },
        {
          "output_type": "stream",
          "name": "stderr",
          "text": [
            " 79%|███████▉  | 7901/10000 [13:05<08:09,  4.29it/s]"
          ]
        },
        {
          "output_type": "stream",
          "name": "stdout",
          "text": [
            "7899 [D loss: 0.000065, acc.: 100.00%] [G loss: 9.529903]\n"
          ]
        },
        {
          "output_type": "stream",
          "name": "stderr",
          "text": [
            " 80%|████████  | 8001/10000 [13:15<07:53,  4.22it/s]"
          ]
        },
        {
          "output_type": "stream",
          "name": "stdout",
          "text": [
            "7999 [D loss: 0.000091, acc.: 100.00%] [G loss: 9.452240]\n"
          ]
        },
        {
          "output_type": "stream",
          "name": "stderr",
          "text": [
            " 81%|████████  | 8102/10000 [13:26<07:39,  4.13it/s]"
          ]
        },
        {
          "output_type": "stream",
          "name": "stdout",
          "text": [
            "8099 [D loss: 0.000070, acc.: 100.00%] [G loss: 9.687061]\n"
          ]
        },
        {
          "output_type": "stream",
          "name": "stderr",
          "text": [
            " 82%|████████▏ | 8201/10000 [13:36<05:17,  5.67it/s]"
          ]
        },
        {
          "output_type": "stream",
          "name": "stdout",
          "text": [
            "8199 [D loss: 0.000050, acc.: 100.00%] [G loss: 10.185339]\n"
          ]
        },
        {
          "output_type": "stream",
          "name": "stderr",
          "text": [
            " 83%|████████▎ | 8301/10000 [13:46<06:29,  4.36it/s]"
          ]
        },
        {
          "output_type": "stream",
          "name": "stdout",
          "text": [
            "8299 [D loss: 0.000086, acc.: 100.00%] [G loss: 9.047202]\n"
          ]
        },
        {
          "output_type": "stream",
          "name": "stderr",
          "text": [
            " 84%|████████▍ | 8401/10000 [13:56<06:10,  4.31it/s]"
          ]
        },
        {
          "output_type": "stream",
          "name": "stdout",
          "text": [
            "8399 [D loss: 0.000034, acc.: 100.00%] [G loss: 10.187139]\n"
          ]
        },
        {
          "output_type": "stream",
          "name": "stderr",
          "text": [
            " 85%|████████▌ | 8501/10000 [14:06<05:51,  4.27it/s]"
          ]
        },
        {
          "output_type": "stream",
          "name": "stdout",
          "text": [
            "8499 [D loss: 0.000043, acc.: 100.00%] [G loss: 10.182407]\n"
          ]
        },
        {
          "output_type": "stream",
          "name": "stderr",
          "text": [
            " 86%|████████▌ | 8601/10000 [14:16<06:12,  3.76it/s]"
          ]
        },
        {
          "output_type": "stream",
          "name": "stdout",
          "text": [
            "8599 [D loss: 0.000038, acc.: 100.00%] [G loss: 10.539205]\n"
          ]
        },
        {
          "output_type": "stream",
          "name": "stderr",
          "text": [
            " 87%|████████▋ | 8702/10000 [14:27<03:30,  6.18it/s]"
          ]
        },
        {
          "output_type": "stream",
          "name": "stdout",
          "text": [
            "8699 [D loss: 0.000047, acc.: 100.00%] [G loss: 9.687622]\n"
          ]
        },
        {
          "output_type": "stream",
          "name": "stderr",
          "text": [
            " 88%|████████▊ | 8801/10000 [14:37<04:46,  4.19it/s]"
          ]
        },
        {
          "output_type": "stream",
          "name": "stdout",
          "text": [
            "8799 [D loss: 0.000017, acc.: 100.00%] [G loss: 10.610353]\n"
          ]
        },
        {
          "output_type": "stream",
          "name": "stderr",
          "text": [
            " 89%|████████▉ | 8901/10000 [14:47<04:57,  3.69it/s]"
          ]
        },
        {
          "output_type": "stream",
          "name": "stdout",
          "text": [
            "8899 [D loss: 0.000017, acc.: 100.00%] [G loss: 10.990932]\n"
          ]
        },
        {
          "output_type": "stream",
          "name": "stderr",
          "text": [
            " 90%|█████████ | 9001/10000 [14:57<03:39,  4.55it/s]"
          ]
        },
        {
          "output_type": "stream",
          "name": "stdout",
          "text": [
            "8999 [D loss: 0.000025, acc.: 100.00%] [G loss: 10.737713]\n"
          ]
        },
        {
          "output_type": "stream",
          "name": "stderr",
          "text": [
            " 91%|█████████ | 9101/10000 [15:07<03:23,  4.43it/s]"
          ]
        },
        {
          "output_type": "stream",
          "name": "stdout",
          "text": [
            "9099 [D loss: 0.000028, acc.: 100.00%] [G loss: 10.286293]\n"
          ]
        },
        {
          "output_type": "stream",
          "name": "stderr",
          "text": [
            " 92%|█████████▏| 9201/10000 [15:17<02:54,  4.58it/s]"
          ]
        },
        {
          "output_type": "stream",
          "name": "stdout",
          "text": [
            "9199 [D loss: 0.000022, acc.: 100.00%] [G loss: 10.657239]\n"
          ]
        },
        {
          "output_type": "stream",
          "name": "stderr",
          "text": [
            " 93%|█████████▎| 9301/10000 [15:27<02:46,  4.20it/s]"
          ]
        },
        {
          "output_type": "stream",
          "name": "stdout",
          "text": [
            "9299 [D loss: 0.000015, acc.: 100.00%] [G loss: 11.101701]\n"
          ]
        },
        {
          "output_type": "stream",
          "name": "stderr",
          "text": [
            " 94%|█████████▍| 9401/10000 [15:36<01:38,  6.08it/s]"
          ]
        },
        {
          "output_type": "stream",
          "name": "stdout",
          "text": [
            "9399 [D loss: 0.000013, acc.: 100.00%] [G loss: 11.186608]\n"
          ]
        },
        {
          "output_type": "stream",
          "name": "stderr",
          "text": [
            " 95%|█████████▌| 9501/10000 [15:46<01:47,  4.66it/s]"
          ]
        },
        {
          "output_type": "stream",
          "name": "stdout",
          "text": [
            "9499 [D loss: 0.000011, acc.: 100.00%] [G loss: 11.607781]\n"
          ]
        },
        {
          "output_type": "stream",
          "name": "stderr",
          "text": [
            " 96%|█████████▌| 9601/10000 [15:56<01:32,  4.30it/s]"
          ]
        },
        {
          "output_type": "stream",
          "name": "stdout",
          "text": [
            "9599 [D loss: 0.000013, acc.: 100.00%] [G loss: 11.349160]\n"
          ]
        },
        {
          "output_type": "stream",
          "name": "stderr",
          "text": [
            " 97%|█████████▋| 9702/10000 [16:06<00:52,  5.70it/s]"
          ]
        },
        {
          "output_type": "stream",
          "name": "stdout",
          "text": [
            "9699 [D loss: 0.000007, acc.: 100.00%] [G loss: 11.388833]\n"
          ]
        },
        {
          "output_type": "stream",
          "name": "stderr",
          "text": [
            " 98%|█████████▊| 9802/10000 [16:16<00:35,  5.55it/s]"
          ]
        },
        {
          "output_type": "stream",
          "name": "stdout",
          "text": [
            "9799 [D loss: 0.000012, acc.: 100.00%] [G loss: 11.491578]\n"
          ]
        },
        {
          "output_type": "stream",
          "name": "stderr",
          "text": [
            " 99%|█████████▉| 9902/10000 [16:25<00:13,  7.02it/s]"
          ]
        },
        {
          "output_type": "stream",
          "name": "stdout",
          "text": [
            "9899 [D loss: 0.000004, acc.: 100.00%] [G loss: 13.338464]\n"
          ]
        },
        {
          "output_type": "stream",
          "name": "stderr",
          "text": [
            "100%|██████████| 10000/10000 [16:34<00:00, 10.05it/s]"
          ]
        },
        {
          "output_type": "stream",
          "name": "stdout",
          "text": [
            "9999 [D loss: 0.000004, acc.: 100.00%] [G loss: 12.449486]\n"
          ]
        },
        {
          "output_type": "stream",
          "name": "stderr",
          "text": [
            "\n"
          ]
        }
      ],
      "source": [
        "# create the gan\n",
        "gan_model = define_gan(generator, discriminator)\n",
        "# train model\n",
        "train(generator, discriminator, gan_model, latent_dim)"
      ]
    },
    {
      "cell_type": "markdown",
      "source": [
        "# Evaluation"
      ],
      "metadata": {
        "id": "V1n0vGcDZZkD"
      },
      "id": "V1n0vGcDZZkD"
    },
    {
      "cell_type": "code",
      "source": [
        "mean_list = []\n",
        "std_list = []\n",
        "hyper_list = []\n",
        "tir_list = []\n",
        "l1_list = []\n",
        "l2_list = []\n",
        "for i in tqdm(range(1, 101)):\n",
        "  generator.load_weights('/content/drive/MyDrive/Thesis/model/normal_gan/575_0.0005/generator_weights_' + str(i*100) + '.h5')\n",
        "  for j in range(6):\n",
        "    sub_mean = []\n",
        "    sub_std = []\n",
        "    hyper = []\n",
        "    tir = []\n",
        "    l1 = []\n",
        "    l2 = []\n",
        "\n",
        "    synth, _ = generate_fake_samples(generator, 54)\n",
        "    synth = synth.reshape(54,288)\n",
        "\n",
        "    synth_data = scaler.inverse_transform(synth)\n",
        "\n",
        "    sub_mean.append(mean(synth_data.flatten()))\n",
        "    sub_std.append(pstdev(synth_data.flatten().tolist()))\n",
        "\n",
        "    extracted_hyper = np.extract((synth_data >= 180), synth_data)\n",
        "    hyper.append(extracted_hyper.shape[0] / (288*54))\n",
        "    extracted_tir = np.extract(((synth_data < 180) & (synth_data >= 70)), synth_data)\n",
        "    tir.append(extracted_tir.shape[0] / (288*54))\n",
        "    extracted_l1 = np.extract(((synth_data < 70) & (synth_data >= 54)), synth_data)\n",
        "    l1.append(extracted_l1.shape[0] / (288*54))\n",
        "    extracted_l2 = np.extract((synth_data < 54), synth_data)\n",
        "    l2.append(extracted_l2.shape[0] / (288*54))\n",
        "\n",
        "  mean_list.append(mean(sub_mean))\n",
        "  std_list.append(mean(sub_std))\n",
        "  hyper_list.append(mean(hyper))\n",
        "  tir_list.append(mean(tir))\n",
        "  l1_list.append(mean(l1))\n",
        "  l2_list.append(mean(l2))"
      ],
      "metadata": {
        "colab": {
          "base_uri": "https://localhost:8080/"
        },
        "id": "DZcTslcTZn4P",
        "outputId": "a3c02aec-3a7e-4ca7-ad23-c1a16b22adb9"
      },
      "id": "DZcTslcTZn4P",
      "execution_count": null,
      "outputs": [
        {
          "output_type": "stream",
          "name": "stderr",
          "text": [
            "100%|██████████| 100/100 [02:53<00:00,  1.73s/it]\n"
          ]
        }
      ]
    },
    {
      "cell_type": "code",
      "source": [
        "df_575_result = pd.DataFrame(list(zip(hyper_list, tir_list, l1_list, l2_list, mean_list, std_list)), columns = ['Hyper', 'TIR', 'L1 Hypo', 'L2 Hypo', 'Mean', 'SD'])"
      ],
      "metadata": {
        "id": "6H_jVunPctUG"
      },
      "id": "6H_jVunPctUG",
      "execution_count": null,
      "outputs": []
    },
    {
      "cell_type": "code",
      "source": [
        "df_575_result.to_csv('/content/drive/MyDrive/Thesis/model/normal_gan/575_0.0005/evaluation.csv')"
      ],
      "metadata": {
        "id": "8sNMUhaBXwuv"
      },
      "id": "8sNMUhaBXwuv",
      "execution_count": null,
      "outputs": []
    },
    {
      "cell_type": "code",
      "source": [
        "df_575_result = pd.read_csv('/content/drive/MyDrive/Thesis/model/normal_gan/575_0.0005/evaluation.csv')"
      ],
      "metadata": {
        "id": "KHNig1EsLUnS"
      },
      "id": "KHNig1EsLUnS",
      "execution_count": null,
      "outputs": []
    },
    {
      "cell_type": "code",
      "source": [
        "df_575_result[50:]"
      ],
      "metadata": {
        "colab": {
          "base_uri": "https://localhost:8080/",
          "height": 1000
        },
        "id": "NeorJQpCdRYs",
        "outputId": "c14a9f37-2247-47fc-ed16-99c16fe733bd"
      },
      "id": "NeorJQpCdRYs",
      "execution_count": null,
      "outputs": [
        {
          "output_type": "execute_result",
          "data": {
            "text/plain": [
              "    Unnamed: 0     Hyper       TIR   L1 Hypo   L2 Hypo        Mean         SD\n",
              "50          50  0.000000  1.000000  0.000000  0.000000  129.189640   8.860782\n",
              "51          51  0.155028  0.844972  0.000000  0.000000  164.728450  14.934770\n",
              "52          52  0.022312  0.977688  0.000000  0.000000  151.535050  11.624832\n",
              "53          53  0.000000  0.731546  0.239583  0.028871   74.920060   9.602675\n",
              "54          54  0.000000  0.495435  0.500900  0.003665   70.156830   7.686920\n",
              "55          55  0.000000  1.000000  0.000000  0.000000  110.605286   7.575786\n",
              "56          56  0.000000  0.922389  0.067837  0.009774   95.444760  15.165458\n",
              "57          57  0.012217  0.984246  0.002765  0.000772  135.437060  21.092079\n",
              "58          58  0.754115  0.245885  0.000000  0.000000  192.789350  17.528762\n",
              "59          59  0.084619  0.915381  0.000000  0.000000  162.127790  13.061336\n",
              "60          60  0.000000  1.000000  0.000000  0.000000  125.875440   9.543286\n",
              "61          61  0.000000  0.235983  0.723058  0.040959   64.802280   7.915390\n",
              "62          62  0.000000  1.000000  0.000000  0.000000  113.221920   7.866037\n",
              "63          63  0.000000  0.871592  0.090342  0.038066   98.299530  22.592756\n",
              "64          64  0.016975  0.963284  0.014082  0.005658  129.252300  28.009604\n",
              "65          65  0.778356  0.221644  0.000000  0.000000  195.212510  17.831729\n",
              "66          66  0.022377  0.977623  0.000000  0.000000  155.275000  13.062579\n",
              "67          67  0.000000  1.000000  0.000000  0.000000  115.436610   8.063381\n",
              "68          68  0.000965  0.998071  0.000965  0.000000  123.765020  15.121008\n",
              "69          69  0.000000  0.998714  0.001286  0.000000  111.201190   9.863283\n",
              "70          70  0.001865  0.899884  0.065586  0.032665  116.691190  29.883579\n",
              "71          71  0.161973  0.766975  0.041795  0.029257  145.707840  40.602568\n",
              "72          72  0.059928  0.870885  0.046168  0.023020  141.007250  34.883071\n",
              "73          73  0.000129  0.932292  0.054591  0.012989  124.744910  25.951882\n",
              "74          74  0.000000  0.932806  0.057999  0.009195  111.874000  20.161578\n",
              "75          75  0.000000  0.858410  0.128987  0.012603   78.424880   8.458039\n",
              "76          76  0.059671  0.940329  0.000000  0.000000  146.671540  18.372168\n",
              "77          77  0.215728  0.784272  0.000000  0.000000  165.605470  15.140217\n",
              "78          78  0.000000  0.150270  0.684221  0.165509   62.170536   8.169736\n",
              "79          79  0.000000  1.000000  0.000000  0.000000  136.112230  11.079563\n",
              "80          80  0.243956  0.756044  0.000000  0.000000  168.594760  15.925347\n",
              "81          81  0.462577  0.537423  0.000000  0.000000  177.825940  16.872087\n",
              "82          82  0.000000  0.889660  0.104488  0.005851   87.620200  12.839700\n",
              "83          83  0.000000  0.860854  0.123200  0.015947   89.592980  16.614729\n",
              "84          84  0.000000  1.000000  0.000000  0.000000  134.443020  12.405372\n",
              "85          85  0.464185  0.535815  0.000000  0.000000  178.543700  18.476681\n",
              "86          86  0.000000  0.779835  0.177148  0.043017   80.532370  13.926419\n",
              "87          87  0.000000  0.877186  0.114648  0.008166   91.416040  16.150907\n",
              "88          88  0.001350  0.953832  0.040574  0.004244  121.272150  24.813895\n",
              "89          89  0.029900  0.970100  0.000000  0.000000  154.643680  13.028884\n",
              "90          90  0.000000  0.717593  0.250836  0.031572   74.219210   9.209225\n",
              "91          91  0.000000  1.000000  0.000000  0.000000  118.892710   8.873890\n",
              "92          92  0.000000  1.000000  0.000000  0.000000  124.943610  10.126226\n",
              "93          93  0.067708  0.932292  0.000000  0.000000  157.108030  15.486326\n",
              "94          94  0.566294  0.433706  0.000000  0.000000  182.401890  18.767493\n",
              "95          95  0.000193  0.999807  0.000000  0.000000  137.791120  12.565509\n",
              "96          96  0.000000  0.309285  0.653035  0.037680   65.861410   8.005372\n",
              "97          97  0.219329  0.780671  0.000000  0.000000  157.474000  37.660502\n",
              "98          98  1.000000  0.000000  0.000000  0.000000  400.015050  51.157269\n",
              "99          99  0.282086  0.717914  0.000000  0.000000  169.662000  17.207637"
            ],
            "text/html": [
              "\n",
              "  <div id=\"df-cfacbdca-e05d-4f79-86ab-e9bed07da172\">\n",
              "    <div class=\"colab-df-container\">\n",
              "      <div>\n",
              "<style scoped>\n",
              "    .dataframe tbody tr th:only-of-type {\n",
              "        vertical-align: middle;\n",
              "    }\n",
              "\n",
              "    .dataframe tbody tr th {\n",
              "        vertical-align: top;\n",
              "    }\n",
              "\n",
              "    .dataframe thead th {\n",
              "        text-align: right;\n",
              "    }\n",
              "</style>\n",
              "<table border=\"1\" class=\"dataframe\">\n",
              "  <thead>\n",
              "    <tr style=\"text-align: right;\">\n",
              "      <th></th>\n",
              "      <th>Unnamed: 0</th>\n",
              "      <th>Hyper</th>\n",
              "      <th>TIR</th>\n",
              "      <th>L1 Hypo</th>\n",
              "      <th>L2 Hypo</th>\n",
              "      <th>Mean</th>\n",
              "      <th>SD</th>\n",
              "    </tr>\n",
              "  </thead>\n",
              "  <tbody>\n",
              "    <tr>\n",
              "      <th>50</th>\n",
              "      <td>50</td>\n",
              "      <td>0.000000</td>\n",
              "      <td>1.000000</td>\n",
              "      <td>0.000000</td>\n",
              "      <td>0.000000</td>\n",
              "      <td>129.189640</td>\n",
              "      <td>8.860782</td>\n",
              "    </tr>\n",
              "    <tr>\n",
              "      <th>51</th>\n",
              "      <td>51</td>\n",
              "      <td>0.155028</td>\n",
              "      <td>0.844972</td>\n",
              "      <td>0.000000</td>\n",
              "      <td>0.000000</td>\n",
              "      <td>164.728450</td>\n",
              "      <td>14.934770</td>\n",
              "    </tr>\n",
              "    <tr>\n",
              "      <th>52</th>\n",
              "      <td>52</td>\n",
              "      <td>0.022312</td>\n",
              "      <td>0.977688</td>\n",
              "      <td>0.000000</td>\n",
              "      <td>0.000000</td>\n",
              "      <td>151.535050</td>\n",
              "      <td>11.624832</td>\n",
              "    </tr>\n",
              "    <tr>\n",
              "      <th>53</th>\n",
              "      <td>53</td>\n",
              "      <td>0.000000</td>\n",
              "      <td>0.731546</td>\n",
              "      <td>0.239583</td>\n",
              "      <td>0.028871</td>\n",
              "      <td>74.920060</td>\n",
              "      <td>9.602675</td>\n",
              "    </tr>\n",
              "    <tr>\n",
              "      <th>54</th>\n",
              "      <td>54</td>\n",
              "      <td>0.000000</td>\n",
              "      <td>0.495435</td>\n",
              "      <td>0.500900</td>\n",
              "      <td>0.003665</td>\n",
              "      <td>70.156830</td>\n",
              "      <td>7.686920</td>\n",
              "    </tr>\n",
              "    <tr>\n",
              "      <th>55</th>\n",
              "      <td>55</td>\n",
              "      <td>0.000000</td>\n",
              "      <td>1.000000</td>\n",
              "      <td>0.000000</td>\n",
              "      <td>0.000000</td>\n",
              "      <td>110.605286</td>\n",
              "      <td>7.575786</td>\n",
              "    </tr>\n",
              "    <tr>\n",
              "      <th>56</th>\n",
              "      <td>56</td>\n",
              "      <td>0.000000</td>\n",
              "      <td>0.922389</td>\n",
              "      <td>0.067837</td>\n",
              "      <td>0.009774</td>\n",
              "      <td>95.444760</td>\n",
              "      <td>15.165458</td>\n",
              "    </tr>\n",
              "    <tr>\n",
              "      <th>57</th>\n",
              "      <td>57</td>\n",
              "      <td>0.012217</td>\n",
              "      <td>0.984246</td>\n",
              "      <td>0.002765</td>\n",
              "      <td>0.000772</td>\n",
              "      <td>135.437060</td>\n",
              "      <td>21.092079</td>\n",
              "    </tr>\n",
              "    <tr>\n",
              "      <th>58</th>\n",
              "      <td>58</td>\n",
              "      <td>0.754115</td>\n",
              "      <td>0.245885</td>\n",
              "      <td>0.000000</td>\n",
              "      <td>0.000000</td>\n",
              "      <td>192.789350</td>\n",
              "      <td>17.528762</td>\n",
              "    </tr>\n",
              "    <tr>\n",
              "      <th>59</th>\n",
              "      <td>59</td>\n",
              "      <td>0.084619</td>\n",
              "      <td>0.915381</td>\n",
              "      <td>0.000000</td>\n",
              "      <td>0.000000</td>\n",
              "      <td>162.127790</td>\n",
              "      <td>13.061336</td>\n",
              "    </tr>\n",
              "    <tr>\n",
              "      <th>60</th>\n",
              "      <td>60</td>\n",
              "      <td>0.000000</td>\n",
              "      <td>1.000000</td>\n",
              "      <td>0.000000</td>\n",
              "      <td>0.000000</td>\n",
              "      <td>125.875440</td>\n",
              "      <td>9.543286</td>\n",
              "    </tr>\n",
              "    <tr>\n",
              "      <th>61</th>\n",
              "      <td>61</td>\n",
              "      <td>0.000000</td>\n",
              "      <td>0.235983</td>\n",
              "      <td>0.723058</td>\n",
              "      <td>0.040959</td>\n",
              "      <td>64.802280</td>\n",
              "      <td>7.915390</td>\n",
              "    </tr>\n",
              "    <tr>\n",
              "      <th>62</th>\n",
              "      <td>62</td>\n",
              "      <td>0.000000</td>\n",
              "      <td>1.000000</td>\n",
              "      <td>0.000000</td>\n",
              "      <td>0.000000</td>\n",
              "      <td>113.221920</td>\n",
              "      <td>7.866037</td>\n",
              "    </tr>\n",
              "    <tr>\n",
              "      <th>63</th>\n",
              "      <td>63</td>\n",
              "      <td>0.000000</td>\n",
              "      <td>0.871592</td>\n",
              "      <td>0.090342</td>\n",
              "      <td>0.038066</td>\n",
              "      <td>98.299530</td>\n",
              "      <td>22.592756</td>\n",
              "    </tr>\n",
              "    <tr>\n",
              "      <th>64</th>\n",
              "      <td>64</td>\n",
              "      <td>0.016975</td>\n",
              "      <td>0.963284</td>\n",
              "      <td>0.014082</td>\n",
              "      <td>0.005658</td>\n",
              "      <td>129.252300</td>\n",
              "      <td>28.009604</td>\n",
              "    </tr>\n",
              "    <tr>\n",
              "      <th>65</th>\n",
              "      <td>65</td>\n",
              "      <td>0.778356</td>\n",
              "      <td>0.221644</td>\n",
              "      <td>0.000000</td>\n",
              "      <td>0.000000</td>\n",
              "      <td>195.212510</td>\n",
              "      <td>17.831729</td>\n",
              "    </tr>\n",
              "    <tr>\n",
              "      <th>66</th>\n",
              "      <td>66</td>\n",
              "      <td>0.022377</td>\n",
              "      <td>0.977623</td>\n",
              "      <td>0.000000</td>\n",
              "      <td>0.000000</td>\n",
              "      <td>155.275000</td>\n",
              "      <td>13.062579</td>\n",
              "    </tr>\n",
              "    <tr>\n",
              "      <th>67</th>\n",
              "      <td>67</td>\n",
              "      <td>0.000000</td>\n",
              "      <td>1.000000</td>\n",
              "      <td>0.000000</td>\n",
              "      <td>0.000000</td>\n",
              "      <td>115.436610</td>\n",
              "      <td>8.063381</td>\n",
              "    </tr>\n",
              "    <tr>\n",
              "      <th>68</th>\n",
              "      <td>68</td>\n",
              "      <td>0.000965</td>\n",
              "      <td>0.998071</td>\n",
              "      <td>0.000965</td>\n",
              "      <td>0.000000</td>\n",
              "      <td>123.765020</td>\n",
              "      <td>15.121008</td>\n",
              "    </tr>\n",
              "    <tr>\n",
              "      <th>69</th>\n",
              "      <td>69</td>\n",
              "      <td>0.000000</td>\n",
              "      <td>0.998714</td>\n",
              "      <td>0.001286</td>\n",
              "      <td>0.000000</td>\n",
              "      <td>111.201190</td>\n",
              "      <td>9.863283</td>\n",
              "    </tr>\n",
              "    <tr>\n",
              "      <th>70</th>\n",
              "      <td>70</td>\n",
              "      <td>0.001865</td>\n",
              "      <td>0.899884</td>\n",
              "      <td>0.065586</td>\n",
              "      <td>0.032665</td>\n",
              "      <td>116.691190</td>\n",
              "      <td>29.883579</td>\n",
              "    </tr>\n",
              "    <tr>\n",
              "      <th>71</th>\n",
              "      <td>71</td>\n",
              "      <td>0.161973</td>\n",
              "      <td>0.766975</td>\n",
              "      <td>0.041795</td>\n",
              "      <td>0.029257</td>\n",
              "      <td>145.707840</td>\n",
              "      <td>40.602568</td>\n",
              "    </tr>\n",
              "    <tr>\n",
              "      <th>72</th>\n",
              "      <td>72</td>\n",
              "      <td>0.059928</td>\n",
              "      <td>0.870885</td>\n",
              "      <td>0.046168</td>\n",
              "      <td>0.023020</td>\n",
              "      <td>141.007250</td>\n",
              "      <td>34.883071</td>\n",
              "    </tr>\n",
              "    <tr>\n",
              "      <th>73</th>\n",
              "      <td>73</td>\n",
              "      <td>0.000129</td>\n",
              "      <td>0.932292</td>\n",
              "      <td>0.054591</td>\n",
              "      <td>0.012989</td>\n",
              "      <td>124.744910</td>\n",
              "      <td>25.951882</td>\n",
              "    </tr>\n",
              "    <tr>\n",
              "      <th>74</th>\n",
              "      <td>74</td>\n",
              "      <td>0.000000</td>\n",
              "      <td>0.932806</td>\n",
              "      <td>0.057999</td>\n",
              "      <td>0.009195</td>\n",
              "      <td>111.874000</td>\n",
              "      <td>20.161578</td>\n",
              "    </tr>\n",
              "    <tr>\n",
              "      <th>75</th>\n",
              "      <td>75</td>\n",
              "      <td>0.000000</td>\n",
              "      <td>0.858410</td>\n",
              "      <td>0.128987</td>\n",
              "      <td>0.012603</td>\n",
              "      <td>78.424880</td>\n",
              "      <td>8.458039</td>\n",
              "    </tr>\n",
              "    <tr>\n",
              "      <th>76</th>\n",
              "      <td>76</td>\n",
              "      <td>0.059671</td>\n",
              "      <td>0.940329</td>\n",
              "      <td>0.000000</td>\n",
              "      <td>0.000000</td>\n",
              "      <td>146.671540</td>\n",
              "      <td>18.372168</td>\n",
              "    </tr>\n",
              "    <tr>\n",
              "      <th>77</th>\n",
              "      <td>77</td>\n",
              "      <td>0.215728</td>\n",
              "      <td>0.784272</td>\n",
              "      <td>0.000000</td>\n",
              "      <td>0.000000</td>\n",
              "      <td>165.605470</td>\n",
              "      <td>15.140217</td>\n",
              "    </tr>\n",
              "    <tr>\n",
              "      <th>78</th>\n",
              "      <td>78</td>\n",
              "      <td>0.000000</td>\n",
              "      <td>0.150270</td>\n",
              "      <td>0.684221</td>\n",
              "      <td>0.165509</td>\n",
              "      <td>62.170536</td>\n",
              "      <td>8.169736</td>\n",
              "    </tr>\n",
              "    <tr>\n",
              "      <th>79</th>\n",
              "      <td>79</td>\n",
              "      <td>0.000000</td>\n",
              "      <td>1.000000</td>\n",
              "      <td>0.000000</td>\n",
              "      <td>0.000000</td>\n",
              "      <td>136.112230</td>\n",
              "      <td>11.079563</td>\n",
              "    </tr>\n",
              "    <tr>\n",
              "      <th>80</th>\n",
              "      <td>80</td>\n",
              "      <td>0.243956</td>\n",
              "      <td>0.756044</td>\n",
              "      <td>0.000000</td>\n",
              "      <td>0.000000</td>\n",
              "      <td>168.594760</td>\n",
              "      <td>15.925347</td>\n",
              "    </tr>\n",
              "    <tr>\n",
              "      <th>81</th>\n",
              "      <td>81</td>\n",
              "      <td>0.462577</td>\n",
              "      <td>0.537423</td>\n",
              "      <td>0.000000</td>\n",
              "      <td>0.000000</td>\n",
              "      <td>177.825940</td>\n",
              "      <td>16.872087</td>\n",
              "    </tr>\n",
              "    <tr>\n",
              "      <th>82</th>\n",
              "      <td>82</td>\n",
              "      <td>0.000000</td>\n",
              "      <td>0.889660</td>\n",
              "      <td>0.104488</td>\n",
              "      <td>0.005851</td>\n",
              "      <td>87.620200</td>\n",
              "      <td>12.839700</td>\n",
              "    </tr>\n",
              "    <tr>\n",
              "      <th>83</th>\n",
              "      <td>83</td>\n",
              "      <td>0.000000</td>\n",
              "      <td>0.860854</td>\n",
              "      <td>0.123200</td>\n",
              "      <td>0.015947</td>\n",
              "      <td>89.592980</td>\n",
              "      <td>16.614729</td>\n",
              "    </tr>\n",
              "    <tr>\n",
              "      <th>84</th>\n",
              "      <td>84</td>\n",
              "      <td>0.000000</td>\n",
              "      <td>1.000000</td>\n",
              "      <td>0.000000</td>\n",
              "      <td>0.000000</td>\n",
              "      <td>134.443020</td>\n",
              "      <td>12.405372</td>\n",
              "    </tr>\n",
              "    <tr>\n",
              "      <th>85</th>\n",
              "      <td>85</td>\n",
              "      <td>0.464185</td>\n",
              "      <td>0.535815</td>\n",
              "      <td>0.000000</td>\n",
              "      <td>0.000000</td>\n",
              "      <td>178.543700</td>\n",
              "      <td>18.476681</td>\n",
              "    </tr>\n",
              "    <tr>\n",
              "      <th>86</th>\n",
              "      <td>86</td>\n",
              "      <td>0.000000</td>\n",
              "      <td>0.779835</td>\n",
              "      <td>0.177148</td>\n",
              "      <td>0.043017</td>\n",
              "      <td>80.532370</td>\n",
              "      <td>13.926419</td>\n",
              "    </tr>\n",
              "    <tr>\n",
              "      <th>87</th>\n",
              "      <td>87</td>\n",
              "      <td>0.000000</td>\n",
              "      <td>0.877186</td>\n",
              "      <td>0.114648</td>\n",
              "      <td>0.008166</td>\n",
              "      <td>91.416040</td>\n",
              "      <td>16.150907</td>\n",
              "    </tr>\n",
              "    <tr>\n",
              "      <th>88</th>\n",
              "      <td>88</td>\n",
              "      <td>0.001350</td>\n",
              "      <td>0.953832</td>\n",
              "      <td>0.040574</td>\n",
              "      <td>0.004244</td>\n",
              "      <td>121.272150</td>\n",
              "      <td>24.813895</td>\n",
              "    </tr>\n",
              "    <tr>\n",
              "      <th>89</th>\n",
              "      <td>89</td>\n",
              "      <td>0.029900</td>\n",
              "      <td>0.970100</td>\n",
              "      <td>0.000000</td>\n",
              "      <td>0.000000</td>\n",
              "      <td>154.643680</td>\n",
              "      <td>13.028884</td>\n",
              "    </tr>\n",
              "    <tr>\n",
              "      <th>90</th>\n",
              "      <td>90</td>\n",
              "      <td>0.000000</td>\n",
              "      <td>0.717593</td>\n",
              "      <td>0.250836</td>\n",
              "      <td>0.031572</td>\n",
              "      <td>74.219210</td>\n",
              "      <td>9.209225</td>\n",
              "    </tr>\n",
              "    <tr>\n",
              "      <th>91</th>\n",
              "      <td>91</td>\n",
              "      <td>0.000000</td>\n",
              "      <td>1.000000</td>\n",
              "      <td>0.000000</td>\n",
              "      <td>0.000000</td>\n",
              "      <td>118.892710</td>\n",
              "      <td>8.873890</td>\n",
              "    </tr>\n",
              "    <tr>\n",
              "      <th>92</th>\n",
              "      <td>92</td>\n",
              "      <td>0.000000</td>\n",
              "      <td>1.000000</td>\n",
              "      <td>0.000000</td>\n",
              "      <td>0.000000</td>\n",
              "      <td>124.943610</td>\n",
              "      <td>10.126226</td>\n",
              "    </tr>\n",
              "    <tr>\n",
              "      <th>93</th>\n",
              "      <td>93</td>\n",
              "      <td>0.067708</td>\n",
              "      <td>0.932292</td>\n",
              "      <td>0.000000</td>\n",
              "      <td>0.000000</td>\n",
              "      <td>157.108030</td>\n",
              "      <td>15.486326</td>\n",
              "    </tr>\n",
              "    <tr>\n",
              "      <th>94</th>\n",
              "      <td>94</td>\n",
              "      <td>0.566294</td>\n",
              "      <td>0.433706</td>\n",
              "      <td>0.000000</td>\n",
              "      <td>0.000000</td>\n",
              "      <td>182.401890</td>\n",
              "      <td>18.767493</td>\n",
              "    </tr>\n",
              "    <tr>\n",
              "      <th>95</th>\n",
              "      <td>95</td>\n",
              "      <td>0.000193</td>\n",
              "      <td>0.999807</td>\n",
              "      <td>0.000000</td>\n",
              "      <td>0.000000</td>\n",
              "      <td>137.791120</td>\n",
              "      <td>12.565509</td>\n",
              "    </tr>\n",
              "    <tr>\n",
              "      <th>96</th>\n",
              "      <td>96</td>\n",
              "      <td>0.000000</td>\n",
              "      <td>0.309285</td>\n",
              "      <td>0.653035</td>\n",
              "      <td>0.037680</td>\n",
              "      <td>65.861410</td>\n",
              "      <td>8.005372</td>\n",
              "    </tr>\n",
              "    <tr>\n",
              "      <th>97</th>\n",
              "      <td>97</td>\n",
              "      <td>0.219329</td>\n",
              "      <td>0.780671</td>\n",
              "      <td>0.000000</td>\n",
              "      <td>0.000000</td>\n",
              "      <td>157.474000</td>\n",
              "      <td>37.660502</td>\n",
              "    </tr>\n",
              "    <tr>\n",
              "      <th>98</th>\n",
              "      <td>98</td>\n",
              "      <td>1.000000</td>\n",
              "      <td>0.000000</td>\n",
              "      <td>0.000000</td>\n",
              "      <td>0.000000</td>\n",
              "      <td>400.015050</td>\n",
              "      <td>51.157269</td>\n",
              "    </tr>\n",
              "    <tr>\n",
              "      <th>99</th>\n",
              "      <td>99</td>\n",
              "      <td>0.282086</td>\n",
              "      <td>0.717914</td>\n",
              "      <td>0.000000</td>\n",
              "      <td>0.000000</td>\n",
              "      <td>169.662000</td>\n",
              "      <td>17.207637</td>\n",
              "    </tr>\n",
              "  </tbody>\n",
              "</table>\n",
              "</div>\n",
              "      <button class=\"colab-df-convert\" onclick=\"convertToInteractive('df-cfacbdca-e05d-4f79-86ab-e9bed07da172')\"\n",
              "              title=\"Convert this dataframe to an interactive table.\"\n",
              "              style=\"display:none;\">\n",
              "        \n",
              "  <svg xmlns=\"http://www.w3.org/2000/svg\" height=\"24px\"viewBox=\"0 0 24 24\"\n",
              "       width=\"24px\">\n",
              "    <path d=\"M0 0h24v24H0V0z\" fill=\"none\"/>\n",
              "    <path d=\"M18.56 5.44l.94 2.06.94-2.06 2.06-.94-2.06-.94-.94-2.06-.94 2.06-2.06.94zm-11 1L8.5 8.5l.94-2.06 2.06-.94-2.06-.94L8.5 2.5l-.94 2.06-2.06.94zm10 10l.94 2.06.94-2.06 2.06-.94-2.06-.94-.94-2.06-.94 2.06-2.06.94z\"/><path d=\"M17.41 7.96l-1.37-1.37c-.4-.4-.92-.59-1.43-.59-.52 0-1.04.2-1.43.59L10.3 9.45l-7.72 7.72c-.78.78-.78 2.05 0 2.83L4 21.41c.39.39.9.59 1.41.59.51 0 1.02-.2 1.41-.59l7.78-7.78 2.81-2.81c.8-.78.8-2.07 0-2.86zM5.41 20L4 18.59l7.72-7.72 1.47 1.35L5.41 20z\"/>\n",
              "  </svg>\n",
              "      </button>\n",
              "      \n",
              "  <style>\n",
              "    .colab-df-container {\n",
              "      display:flex;\n",
              "      flex-wrap:wrap;\n",
              "      gap: 12px;\n",
              "    }\n",
              "\n",
              "    .colab-df-convert {\n",
              "      background-color: #E8F0FE;\n",
              "      border: none;\n",
              "      border-radius: 50%;\n",
              "      cursor: pointer;\n",
              "      display: none;\n",
              "      fill: #1967D2;\n",
              "      height: 32px;\n",
              "      padding: 0 0 0 0;\n",
              "      width: 32px;\n",
              "    }\n",
              "\n",
              "    .colab-df-convert:hover {\n",
              "      background-color: #E2EBFA;\n",
              "      box-shadow: 0px 1px 2px rgba(60, 64, 67, 0.3), 0px 1px 3px 1px rgba(60, 64, 67, 0.15);\n",
              "      fill: #174EA6;\n",
              "    }\n",
              "\n",
              "    [theme=dark] .colab-df-convert {\n",
              "      background-color: #3B4455;\n",
              "      fill: #D2E3FC;\n",
              "    }\n",
              "\n",
              "    [theme=dark] .colab-df-convert:hover {\n",
              "      background-color: #434B5C;\n",
              "      box-shadow: 0px 1px 3px 1px rgba(0, 0, 0, 0.15);\n",
              "      filter: drop-shadow(0px 1px 2px rgba(0, 0, 0, 0.3));\n",
              "      fill: #FFFFFF;\n",
              "    }\n",
              "  </style>\n",
              "\n",
              "      <script>\n",
              "        const buttonEl =\n",
              "          document.querySelector('#df-cfacbdca-e05d-4f79-86ab-e9bed07da172 button.colab-df-convert');\n",
              "        buttonEl.style.display =\n",
              "          google.colab.kernel.accessAllowed ? 'block' : 'none';\n",
              "\n",
              "        async function convertToInteractive(key) {\n",
              "          const element = document.querySelector('#df-cfacbdca-e05d-4f79-86ab-e9bed07da172');\n",
              "          const dataTable =\n",
              "            await google.colab.kernel.invokeFunction('convertToInteractive',\n",
              "                                                     [key], {});\n",
              "          if (!dataTable) return;\n",
              "\n",
              "          const docLinkHtml = 'Like what you see? Visit the ' +\n",
              "            '<a target=\"_blank\" href=https://colab.research.google.com/notebooks/data_table.ipynb>data table notebook</a>'\n",
              "            + ' to learn more about interactive tables.';\n",
              "          element.innerHTML = '';\n",
              "          dataTable['output_type'] = 'display_data';\n",
              "          await google.colab.output.renderOutput(dataTable, element);\n",
              "          const docLink = document.createElement('div');\n",
              "          docLink.innerHTML = docLinkHtml;\n",
              "          element.appendChild(docLink);\n",
              "        }\n",
              "      </script>\n",
              "    </div>\n",
              "  </div>\n",
              "  "
            ]
          },
          "metadata": {},
          "execution_count": 41
        }
      ]
    },
    {
      "cell_type": "markdown",
      "source": [
        "# The comparison between the results of normal GAN and TimeGAN"
      ],
      "metadata": {
        "id": "KIgWNEBYRWLs"
      },
      "id": "KIgWNEBYRWLs"
    },
    {
      "cell_type": "code",
      "source": [
        "generator.load_weights('/content/drive/MyDrive/Thesis/model/normal_gan/575_0.0005/generator_weights_9800.h5')\n",
        "synth_norm, _ = generate_fake_samples(generator, 54)\n",
        "synth_norm=synth_norm.reshape(54,288)\n",
        "synth_timegan = np.load(\"/content/drive/MyDrive/Thesis/best model/timegan_575_128/synthetic_data_nonorm.npy\")"
      ],
      "metadata": {
        "id": "Be2HMgJzRMWg"
      },
      "id": "Be2HMgJzRMWg",
      "execution_count": null,
      "outputs": []
    },
    {
      "cell_type": "code",
      "source": [
        "# unnormalized synthetic and real data\n",
        "synth_normgan_norm = synth_norm\n",
        "synth_timegan_norm = np.load(\"/content/drive/MyDrive/Thesis/best model/timegan_575_128/synthetic_data.npy\")\n",
        "synth_normgan_nonnorm = scaler.inverse_transform(synth_norm)\n",
        "synth_timegan_nonnorm = synth_timegan\n",
        "real_ori = scaler.inverse_transform(glucose_575)\n",
        "real_norm = glucose_575"
      ],
      "metadata": {
        "id": "CD0udmxAhl3q"
      },
      "id": "CD0udmxAhl3q",
      "execution_count": null,
      "outputs": []
    },
    {
      "cell_type": "markdown",
      "source": [
        "SVM"
      ],
      "metadata": {
        "id": "jVBXum1ZRt-_"
      },
      "id": "jVBXum1ZRt-_"
    },
    {
      "cell_type": "code",
      "source": [
        "x = real_ori.tolist()\n",
        "y = my_list = [1]*54\n",
        "x_timegan = [synth_timegan_nonnorm[7][0][i][:,0].tolist() for i in range(54)]\n",
        "x_normgan = synth_normgan_nonnorm\n",
        "y_timegan = [0]*54\n",
        "\n",
        "x.extend(x_timegan)\n",
        "y.extend(y_timegan)"
      ],
      "metadata": {
        "id": "OUSe9NiHRztQ"
      },
      "id": "OUSe9NiHRztQ",
      "execution_count": null,
      "outputs": []
    },
    {
      "cell_type": "code",
      "source": [
        "import random\n",
        "\n",
        "numbers = list(range(108))\n",
        "\n",
        "num_selected_70 = random.sample(numbers, int(0.7*len(numbers)))\n",
        "\n",
        "num_selected_30 = list(set(numbers) - set(num_selected_70))\n",
        "\n",
        "print(\"training index：\", num_selected_70)\n",
        "print(\"test index：\", num_selected_30)"
      ],
      "metadata": {
        "colab": {
          "base_uri": "https://localhost:8080/"
        },
        "id": "2Oi_5jV9R6Yw",
        "outputId": "690b2804-e5a3-4f94-bc15-dec645252c71"
      },
      "id": "2Oi_5jV9R6Yw",
      "execution_count": null,
      "outputs": [
        {
          "output_type": "stream",
          "name": "stdout",
          "text": [
            "training index： [33, 97, 88, 96, 36, 69, 72, 43, 4, 102, 101, 99, 81, 67, 56, 51, 74, 19, 34, 14, 106, 86, 28, 76, 48, 89, 50, 23, 9, 44, 39, 21, 98, 15, 38, 100, 73, 58, 83, 37, 53, 93, 61, 47, 90, 5, 84, 63, 1, 31, 12, 70, 35, 78, 107, 57, 45, 105, 104, 2, 65, 25, 54, 3, 62, 13, 92, 64, 10, 103, 40, 32, 66, 60, 24]\n",
            "test index： [0, 6, 7, 8, 11, 16, 17, 18, 20, 22, 26, 27, 29, 30, 41, 42, 46, 49, 52, 55, 59, 68, 71, 75, 77, 79, 80, 82, 85, 87, 91, 94, 95]\n"
          ]
        }
      ]
    },
    {
      "cell_type": "code",
      "source": [
        "training_x = [x[num_selected_70[i]] for i in range(len(num_selected_70))]\n",
        "test_x = [x[num_selected_30[i]] for i in range(len(num_selected_30))]\n",
        "training_y = [y[num_selected_70[i]] for i in range(len(num_selected_70))]\n",
        "test_y = [y[num_selected_30[i]] for i in range(len(num_selected_30))]"
      ],
      "metadata": {
        "id": "irm6rxo0R7n4"
      },
      "id": "irm6rxo0R7n4",
      "execution_count": null,
      "outputs": []
    },
    {
      "cell_type": "code",
      "source": [
        "from sklearn import svm, metrics\n",
        "classifier = svm.SVC()\n",
        "\n",
        "# Train the classifier on the training data\n",
        "classifier.fit(training_x, training_y)\n",
        "\n",
        "# Predict the labels of the test data\n",
        "y_pred = classifier.predict(test_x)\n",
        "\n",
        "# Calculate the accuracy and F1 score of the classifier\n",
        "accuracy = metrics.accuracy_score(test_y, y_pred)\n",
        "f1_score = metrics.f1_score(test_y, y_pred, average='weighted')\n",
        "\n",
        "# Print the results\n",
        "print(\"Accuracy:\", accuracy)\n",
        "print(\"F1 score:\", f1_score)"
      ],
      "metadata": {
        "colab": {
          "base_uri": "https://localhost:8080/"
        },
        "id": "S9-XxbA1R91e",
        "outputId": "40442747-5985-46d8-e999-a9c01da2d2c8"
      },
      "id": "S9-XxbA1R91e",
      "execution_count": null,
      "outputs": [
        {
          "output_type": "stream",
          "name": "stdout",
          "text": [
            "Accuracy: 0.8787878787878788\n",
            "F1 score: 0.8792335115864528\n"
          ]
        }
      ]
    },
    {
      "cell_type": "markdown",
      "source": [
        "RNN for prediction"
      ],
      "metadata": {
        "id": "gHAL8DwCSCj0"
      },
      "id": "gHAL8DwCSCj0"
    },
    {
      "cell_type": "code",
      "source": [
        "#Split training and test set\n",
        "n_events = len(real_ori)\n",
        "\n",
        "idx = np.arange(n_events)\n",
        "n_train = int(.8*n_events)\n",
        "train_idx = idx[:n_train]\n",
        "test_idx = idx[n_train:]"
      ],
      "metadata": {
        "id": "X3N-i-zHSE7F"
      },
      "id": "X3N-i-zHSE7F",
      "execution_count": null,
      "outputs": []
    },
    {
      "cell_type": "code",
      "source": [
        "# get training and test data (use past 6h data to predict next 30min)\n",
        "pre_len = 6 # 5*6=30 -> 30min\n",
        "train_len = 72 #12*6 -> 6h\n",
        "\n",
        "train_real_x = []\n",
        "train_real_y = []\n",
        "train_syn_norm_x = []\n",
        "train_syn_norm_y = []\n",
        "train_syn_time_x = []\n",
        "train_syn_time_y = []\n",
        "\n",
        "for i in range(len(train_idx)):\n",
        "  for j in range(288-(pre_len+train_len)+1):\n",
        "    train_real_x.append(glucose_575[train_idx[i], j:(j+train_len)])\n",
        "    train_real_y.append(glucose_575[train_idx[i], (j+train_len):(j+train_len+pre_len)])\n",
        "\n",
        "    train_syn_norm_x.append(synth_normgan_norm[train_idx[i], j:(j+train_len)])\n",
        "    train_syn_norm_y.append(synth_normgan_norm[train_idx[i], (j+train_len):(j+train_len+pre_len)])\n",
        "\n",
        "    train_syn_time_x.append(np.array([synth_timegan_norm[7][0][n][:,0] for n in range(54)])[train_idx[i], j:(j+train_len)])\n",
        "    train_syn_time_y.append(np.array([synth_timegan_norm[7][0][n][:,0] for n in range(54)])[train_idx[i], (j+train_len):(j+train_len+pre_len)])\n",
        "\n",
        "test_real_x = []\n",
        "test_real_y = []\n",
        "test_syn_norm_x = []\n",
        "test_syn_norm_y = []\n",
        "test_syn_time_x = []\n",
        "test_syn_time_y = []\n",
        "\n",
        "for i in range(len(test_idx)):\n",
        "  for j in range(288-(pre_len+train_len)+1):\n",
        "    test_real_x.append(glucose_575[test_idx[i], j:(j+train_len)])\n",
        "    test_real_y.append(glucose_575[test_idx[i], (j+train_len):(j+train_len+pre_len)])\n",
        "\n",
        "    test_syn_norm_x.append(synth_normgan_norm[test_idx[i], j:(j+train_len)])\n",
        "    test_syn_norm_y.append(synth_normgan_norm[test_idx[i], (j+train_len):(j+train_len+pre_len)])\n",
        "\n",
        "    test_syn_time_x.append(np.array([synth_timegan_norm[7][0][n][:,0] for n in range(54)])[test_idx[i], j:(j+train_len)])\n",
        "    test_syn_time_y.append(np.array([synth_timegan_norm[7][0][n][:,0] for n in range(54)])[test_idx[i], (j+train_len):(j+train_len+pre_len)])\n",
        "\n",
        "train_real_x = np.array(train_real_x)\n",
        "train_real_y = np.array(train_real_y)\n",
        "train_syn_norm_x = np.array(train_syn_norm_x)\n",
        "train_syn_norm_y = np.array(train_syn_norm_y)\n",
        "train_syn_time_x = np.array(train_syn_time_x)\n",
        "train_syn_time_y = np.array(train_syn_time_y)\n",
        "\n",
        "\n",
        "test_real_x = np.array(test_real_x)\n",
        "test_real_y = np.array(test_real_y)\n",
        "test_syn_norm_x = np.array(test_syn_norm_x)\n",
        "test_syn_norm_y = np.array(test_syn_norm_y)\n",
        "test_syn_time_x = np.array(test_syn_time_x)\n",
        "test_syn_time_y = np.array(test_syn_time_y)"
      ],
      "metadata": {
        "id": "v_5T28DYSGx9"
      },
      "id": "v_5T28DYSGx9",
      "execution_count": null,
      "outputs": []
    },
    {
      "cell_type": "code",
      "source": [
        "from tensorflow.keras import Input, Sequential\n",
        "from tensorflow.keras.callbacks import EarlyStopping\n",
        "from tensorflow.keras.layers import GRU, Dense\n",
        "from tensorflow.keras.optimizers import Adam\n",
        "from tensorflow.keras.losses import MeanAbsoluteError\n",
        "import tensorflow as tf\n",
        "from sklearn.metrics import r2_score, mean_absolute_error, mean_squared_log_error\n",
        "\n",
        "tf.random.set_seed(7)\n",
        "#First implement a simple RNN model for prediction\n",
        "def RNN_regression(units):\n",
        "    opt = Adam(name='AdamOpt')\n",
        "    loss = MeanAbsoluteError(name='MAE')\n",
        "    model = Sequential()\n",
        "    model.add(GRU(units=units, input_shape=(72,1),\n",
        "                  name=f'RNN_1'))\n",
        "    model.add(Dense(units=6,\n",
        "                    activation='sigmoid',\n",
        "                    name='OUT'))\n",
        "    model.compile(optimizer=opt, loss=loss)\n",
        "    return model"
      ],
      "metadata": {
        "id": "vbYKmv-eSdd8"
      },
      "id": "vbYKmv-eSdd8",
      "execution_count": null,
      "outputs": []
    },
    {
      "cell_type": "code",
      "source": [
        "#Training the model with the real train data\n",
        "ts_real = RNN_regression(72)\n",
        "early_stopping = EarlyStopping(monitor='val_loss', patience=5)\n",
        "\n",
        "real_train = ts_real.fit(x=train_real_x,\n",
        "                          y=train_real_y,\n",
        "                          validation_data=(test_real_x, test_real_y),\n",
        "                          epochs=200,\n",
        "                          batch_size=128,\n",
        "                          callbacks=[early_stopping])"
      ],
      "metadata": {
        "colab": {
          "base_uri": "https://localhost:8080/"
        },
        "id": "6bPdG1t0SeWN",
        "outputId": "8a981db3-670b-476b-92ba-86a02db85d11"
      },
      "id": "6bPdG1t0SeWN",
      "execution_count": null,
      "outputs": [
        {
          "output_type": "stream",
          "name": "stdout",
          "text": [
            "Epoch 1/200\n",
            "71/71 [==============================] - 5s 12ms/step - loss: 0.1782 - val_loss: 0.1119\n",
            "Epoch 2/200\n",
            "71/71 [==============================] - 0s 6ms/step - loss: 0.0860 - val_loss: 0.0735\n",
            "Epoch 3/200\n",
            "71/71 [==============================] - 0s 6ms/step - loss: 0.0650 - val_loss: 0.0644\n",
            "Epoch 4/200\n",
            "71/71 [==============================] - 0s 6ms/step - loss: 0.0580 - val_loss: 0.0607\n",
            "Epoch 5/200\n",
            "71/71 [==============================] - 0s 6ms/step - loss: 0.0544 - val_loss: 0.0597\n",
            "Epoch 6/200\n",
            "71/71 [==============================] - 0s 6ms/step - loss: 0.0522 - val_loss: 0.0569\n",
            "Epoch 7/200\n",
            "71/71 [==============================] - 0s 6ms/step - loss: 0.0508 - val_loss: 0.0556\n",
            "Epoch 8/200\n",
            "71/71 [==============================] - 0s 6ms/step - loss: 0.0500 - val_loss: 0.0547\n",
            "Epoch 9/200\n",
            "71/71 [==============================] - 0s 6ms/step - loss: 0.0483 - val_loss: 0.0531\n",
            "Epoch 10/200\n",
            "71/71 [==============================] - 0s 6ms/step - loss: 0.0474 - val_loss: 0.0528\n",
            "Epoch 11/200\n",
            "71/71 [==============================] - 0s 5ms/step - loss: 0.0468 - val_loss: 0.0523\n",
            "Epoch 12/200\n",
            "71/71 [==============================] - 0s 5ms/step - loss: 0.0461 - val_loss: 0.0522\n",
            "Epoch 13/200\n",
            "71/71 [==============================] - 0s 5ms/step - loss: 0.0453 - val_loss: 0.0528\n",
            "Epoch 14/200\n",
            "71/71 [==============================] - 0s 5ms/step - loss: 0.0447 - val_loss: 0.0505\n",
            "Epoch 15/200\n",
            "71/71 [==============================] - 0s 5ms/step - loss: 0.0443 - val_loss: 0.0503\n",
            "Epoch 16/200\n",
            "71/71 [==============================] - 0s 5ms/step - loss: 0.0441 - val_loss: 0.0498\n",
            "Epoch 17/200\n",
            "71/71 [==============================] - 0s 5ms/step - loss: 0.0437 - val_loss: 0.0494\n",
            "Epoch 18/200\n",
            "71/71 [==============================] - 0s 5ms/step - loss: 0.0432 - val_loss: 0.0491\n",
            "Epoch 19/200\n",
            "71/71 [==============================] - 0s 5ms/step - loss: 0.0427 - val_loss: 0.0494\n",
            "Epoch 20/200\n",
            "71/71 [==============================] - 0s 5ms/step - loss: 0.0425 - val_loss: 0.0490\n",
            "Epoch 21/200\n",
            "71/71 [==============================] - 0s 5ms/step - loss: 0.0425 - val_loss: 0.0482\n",
            "Epoch 22/200\n",
            "71/71 [==============================] - 0s 5ms/step - loss: 0.0418 - val_loss: 0.0487\n",
            "Epoch 23/200\n",
            "71/71 [==============================] - 0s 5ms/step - loss: 0.0418 - val_loss: 0.0526\n",
            "Epoch 24/200\n",
            "71/71 [==============================] - 0s 5ms/step - loss: 0.0420 - val_loss: 0.0476\n",
            "Epoch 25/200\n",
            "71/71 [==============================] - 0s 5ms/step - loss: 0.0414 - val_loss: 0.0498\n",
            "Epoch 26/200\n",
            "71/71 [==============================] - 0s 5ms/step - loss: 0.0412 - val_loss: 0.0483\n",
            "Epoch 27/200\n",
            "71/71 [==============================] - 0s 5ms/step - loss: 0.0409 - val_loss: 0.0472\n",
            "Epoch 28/200\n",
            "71/71 [==============================] - 0s 6ms/step - loss: 0.0407 - val_loss: 0.0471\n",
            "Epoch 29/200\n",
            "71/71 [==============================] - 0s 5ms/step - loss: 0.0405 - val_loss: 0.0471\n",
            "Epoch 30/200\n",
            "71/71 [==============================] - 0s 5ms/step - loss: 0.0403 - val_loss: 0.0468\n",
            "Epoch 31/200\n",
            "71/71 [==============================] - 0s 6ms/step - loss: 0.0401 - val_loss: 0.0469\n",
            "Epoch 32/200\n",
            "71/71 [==============================] - 0s 6ms/step - loss: 0.0398 - val_loss: 0.0468\n",
            "Epoch 33/200\n",
            "71/71 [==============================] - 0s 5ms/step - loss: 0.0400 - val_loss: 0.0467\n",
            "Epoch 34/200\n",
            "71/71 [==============================] - 0s 5ms/step - loss: 0.0395 - val_loss: 0.0466\n",
            "Epoch 35/200\n",
            "71/71 [==============================] - 0s 6ms/step - loss: 0.0395 - val_loss: 0.0453\n",
            "Epoch 36/200\n",
            "71/71 [==============================] - 0s 6ms/step - loss: 0.0394 - val_loss: 0.0450\n",
            "Epoch 37/200\n",
            "71/71 [==============================] - 0s 6ms/step - loss: 0.0390 - val_loss: 0.0452\n",
            "Epoch 38/200\n",
            "71/71 [==============================] - 0s 6ms/step - loss: 0.0390 - val_loss: 0.0452\n",
            "Epoch 39/200\n",
            "71/71 [==============================] - 0s 6ms/step - loss: 0.0388 - val_loss: 0.0450\n",
            "Epoch 40/200\n",
            "71/71 [==============================] - 0s 6ms/step - loss: 0.0388 - val_loss: 0.0447\n",
            "Epoch 41/200\n",
            "71/71 [==============================] - 0s 6ms/step - loss: 0.0390 - val_loss: 0.0442\n",
            "Epoch 42/200\n",
            "71/71 [==============================] - 0s 5ms/step - loss: 0.0386 - val_loss: 0.0444\n",
            "Epoch 43/200\n",
            "71/71 [==============================] - 0s 5ms/step - loss: 0.0387 - val_loss: 0.0451\n",
            "Epoch 44/200\n",
            "71/71 [==============================] - 0s 5ms/step - loss: 0.0383 - val_loss: 0.0441\n",
            "Epoch 45/200\n",
            "71/71 [==============================] - 0s 5ms/step - loss: 0.0380 - val_loss: 0.0442\n",
            "Epoch 46/200\n",
            "71/71 [==============================] - 0s 5ms/step - loss: 0.0380 - val_loss: 0.0445\n",
            "Epoch 47/200\n",
            "71/71 [==============================] - 0s 5ms/step - loss: 0.0380 - val_loss: 0.0440\n",
            "Epoch 48/200\n",
            "71/71 [==============================] - 0s 5ms/step - loss: 0.0379 - val_loss: 0.0448\n",
            "Epoch 49/200\n",
            "71/71 [==============================] - 0s 5ms/step - loss: 0.0378 - val_loss: 0.0436\n",
            "Epoch 50/200\n",
            "71/71 [==============================] - 0s 5ms/step - loss: 0.0381 - val_loss: 0.0439\n",
            "Epoch 51/200\n",
            "71/71 [==============================] - 0s 5ms/step - loss: 0.0377 - val_loss: 0.0463\n",
            "Epoch 52/200\n",
            "71/71 [==============================] - 0s 5ms/step - loss: 0.0385 - val_loss: 0.0451\n",
            "Epoch 53/200\n",
            "71/71 [==============================] - 0s 5ms/step - loss: 0.0378 - val_loss: 0.0455\n",
            "Epoch 54/200\n",
            "71/71 [==============================] - 0s 6ms/step - loss: 0.0377 - val_loss: 0.0461\n"
          ]
        }
      ]
    },
    {
      "cell_type": "code",
      "source": [
        "# TRTR results\n",
        "real_predictions = ts_real.predict(test_real_x)\n",
        "r2_real = r2_score(test_real_y, real_predictions)\n",
        "mae_real = mean_absolute_error(test_real_y, real_predictions)\n",
        "mrle_real = mean_squared_log_error(test_real_y, real_predictions)\n",
        "print(r2_real)\n",
        "print(mae_real)\n",
        "print(mrle_real)"
      ],
      "metadata": {
        "colab": {
          "base_uri": "https://localhost:8080/"
        },
        "id": "S5ER9a8HSgh3",
        "outputId": "22015de7-067f-4f01-bcc7-13223defb55a"
      },
      "id": "S5ER9a8HSgh3",
      "execution_count": null,
      "outputs": [
        {
          "output_type": "stream",
          "name": "stdout",
          "text": [
            "73/73 [==============================] - 0s 2ms/step\n",
            "0.9004191447785864\n",
            "0.046148530626886786\n",
            "0.002526605516441628\n"
          ]
        }
      ]
    },
    {
      "cell_type": "code",
      "source": [
        "#Training the model with the synthetic data from normal GAN\n",
        "ts_norm_syn = RNN_regression(72)\n",
        "early_stopping = EarlyStopping(monitor='val_loss', patience=5)\n",
        "\n",
        "norm_syn_train = ts_norm_syn.fit(x=train_syn_norm_x,\n",
        "                          y=train_syn_norm_y,\n",
        "                          validation_data=(test_real_x, test_real_y),\n",
        "                          epochs=200,\n",
        "                          batch_size=128,\n",
        "                          callbacks=[early_stopping])"
      ],
      "metadata": {
        "colab": {
          "base_uri": "https://localhost:8080/"
        },
        "id": "vz8yRV9CSi73",
        "outputId": "a5861f48-ff21-466a-e90f-881f77b7bbb8"
      },
      "id": "vz8yRV9CSi73",
      "execution_count": null,
      "outputs": [
        {
          "output_type": "stream",
          "name": "stdout",
          "text": [
            "Epoch 1/200\n",
            "71/71 [==============================] - 3s 11ms/step - loss: 0.1362 - val_loss: 0.1286\n",
            "Epoch 2/200\n",
            "71/71 [==============================] - 0s 6ms/step - loss: 0.0715 - val_loss: 0.0822\n",
            "Epoch 3/200\n",
            "71/71 [==============================] - 0s 5ms/step - loss: 0.0511 - val_loss: 0.0706\n",
            "Epoch 4/200\n",
            "71/71 [==============================] - 0s 5ms/step - loss: 0.0445 - val_loss: 0.0645\n",
            "Epoch 5/200\n",
            "71/71 [==============================] - 0s 5ms/step - loss: 0.0401 - val_loss: 0.0621\n",
            "Epoch 6/200\n",
            "71/71 [==============================] - 0s 5ms/step - loss: 0.0386 - val_loss: 0.0609\n",
            "Epoch 7/200\n",
            "71/71 [==============================] - 0s 5ms/step - loss: 0.0374 - val_loss: 0.0602\n",
            "Epoch 8/200\n",
            "71/71 [==============================] - 0s 6ms/step - loss: 0.0367 - val_loss: 0.0591\n",
            "Epoch 9/200\n",
            "71/71 [==============================] - 0s 6ms/step - loss: 0.0363 - val_loss: 0.0588\n",
            "Epoch 10/200\n",
            "71/71 [==============================] - 0s 6ms/step - loss: 0.0357 - val_loss: 0.0584\n",
            "Epoch 11/200\n",
            "71/71 [==============================] - 0s 6ms/step - loss: 0.0360 - val_loss: 0.0589\n",
            "Epoch 12/200\n",
            "71/71 [==============================] - 0s 6ms/step - loss: 0.0354 - val_loss: 0.0579\n",
            "Epoch 13/200\n",
            "71/71 [==============================] - 0s 6ms/step - loss: 0.0349 - val_loss: 0.0578\n",
            "Epoch 14/200\n",
            "71/71 [==============================] - 0s 6ms/step - loss: 0.0345 - val_loss: 0.0578\n",
            "Epoch 15/200\n",
            "71/71 [==============================] - 0s 5ms/step - loss: 0.0348 - val_loss: 0.0577\n",
            "Epoch 16/200\n",
            "71/71 [==============================] - 0s 5ms/step - loss: 0.0342 - val_loss: 0.0578\n",
            "Epoch 17/200\n",
            "71/71 [==============================] - 0s 6ms/step - loss: 0.0339 - val_loss: 0.0574\n",
            "Epoch 18/200\n",
            "71/71 [==============================] - 0s 6ms/step - loss: 0.0337 - val_loss: 0.0576\n",
            "Epoch 19/200\n",
            "71/71 [==============================] - 0s 5ms/step - loss: 0.0335 - val_loss: 0.0584\n",
            "Epoch 20/200\n",
            "71/71 [==============================] - 0s 6ms/step - loss: 0.0332 - val_loss: 0.0581\n",
            "Epoch 21/200\n",
            "71/71 [==============================] - 0s 6ms/step - loss: 0.0329 - val_loss: 0.0581\n",
            "Epoch 22/200\n",
            "71/71 [==============================] - 0s 6ms/step - loss: 0.0328 - val_loss: 0.0589\n"
          ]
        }
      ]
    },
    {
      "cell_type": "code",
      "source": [
        "# TSTR results from normal GAN\n",
        "syn_norm_predictions = ts_norm_syn.predict(test_real_x)\n",
        "r2_syn_norm = r2_score(test_real_y, syn_norm_predictions)\n",
        "mae_syn_norm = mean_absolute_error(test_real_y, syn_norm_predictions)\n",
        "mrle_syn_norm = mean_squared_log_error(test_real_y, syn_norm_predictions)\n",
        "print(r2_syn_norm)\n",
        "print(mae_syn_norm)\n",
        "print(mrle_syn_norm)"
      ],
      "metadata": {
        "colab": {
          "base_uri": "https://localhost:8080/"
        },
        "id": "37LWJdmhSkkV",
        "outputId": "bd2f1275-82d0-4f65-ccb4-7a32297e1e5a"
      },
      "id": "37LWJdmhSkkV",
      "execution_count": null,
      "outputs": [
        {
          "output_type": "stream",
          "name": "stdout",
          "text": [
            "73/73 [==============================] - 0s 2ms/step\n",
            "0.8535218566641575\n",
            "0.05886994372323955\n",
            "0.0034695302848049363\n"
          ]
        }
      ]
    },
    {
      "cell_type": "code",
      "source": [
        "#Training the model with the synthetic data from TimeGAN\n",
        "ts_time_syn = RNN_regression(72)\n",
        "early_stopping = EarlyStopping(monitor='val_loss', patience=5)\n",
        "\n",
        "time_syn_train = ts_time_syn.fit(x=train_syn_time_x,\n",
        "                          y=train_syn_time_y,\n",
        "                          validation_data=(test_real_x, test_real_y),\n",
        "                          epochs=200,\n",
        "                          batch_size=128,\n",
        "                          callbacks=[early_stopping])"
      ],
      "metadata": {
        "colab": {
          "base_uri": "https://localhost:8080/"
        },
        "id": "roUdYu4TSnkz",
        "outputId": "b1c74bf9-386c-4c40-9fd2-59408a3e22c9"
      },
      "id": "roUdYu4TSnkz",
      "execution_count": null,
      "outputs": [
        {
          "output_type": "stream",
          "name": "stdout",
          "text": [
            "Epoch 1/200\n",
            "71/71 [==============================] - 3s 11ms/step - loss: 0.1496 - val_loss: 0.2700\n",
            "Epoch 2/200\n",
            "71/71 [==============================] - 0s 6ms/step - loss: 0.0790 - val_loss: 0.2173\n",
            "Epoch 3/200\n",
            "71/71 [==============================] - 0s 6ms/step - loss: 0.0362 - val_loss: 0.1119\n",
            "Epoch 4/200\n",
            "71/71 [==============================] - 0s 6ms/step - loss: 0.0264 - val_loss: 0.1021\n",
            "Epoch 5/200\n",
            "71/71 [==============================] - 0s 6ms/step - loss: 0.0249 - val_loss: 0.0939\n",
            "Epoch 6/200\n",
            "71/71 [==============================] - 0s 6ms/step - loss: 0.0235 - val_loss: 0.0875\n",
            "Epoch 7/200\n",
            "71/71 [==============================] - 0s 6ms/step - loss: 0.0226 - val_loss: 0.0828\n",
            "Epoch 8/200\n",
            "71/71 [==============================] - 0s 6ms/step - loss: 0.0220 - val_loss: 0.0776\n",
            "Epoch 9/200\n",
            "71/71 [==============================] - 0s 6ms/step - loss: 0.0212 - val_loss: 0.0742\n",
            "Epoch 10/200\n",
            "71/71 [==============================] - 0s 6ms/step - loss: 0.0206 - val_loss: 0.0720\n",
            "Epoch 11/200\n",
            "71/71 [==============================] - 0s 6ms/step - loss: 0.0203 - val_loss: 0.0703\n",
            "Epoch 12/200\n",
            "71/71 [==============================] - 0s 6ms/step - loss: 0.0202 - val_loss: 0.0698\n",
            "Epoch 13/200\n",
            "71/71 [==============================] - 0s 6ms/step - loss: 0.0201 - val_loss: 0.0672\n",
            "Epoch 14/200\n",
            "71/71 [==============================] - 0s 6ms/step - loss: 0.0195 - val_loss: 0.0659\n",
            "Epoch 15/200\n",
            "71/71 [==============================] - 0s 6ms/step - loss: 0.0195 - val_loss: 0.0660\n",
            "Epoch 16/200\n",
            "71/71 [==============================] - 0s 6ms/step - loss: 0.0198 - val_loss: 0.0641\n",
            "Epoch 17/200\n",
            "71/71 [==============================] - 0s 6ms/step - loss: 0.0190 - val_loss: 0.0634\n",
            "Epoch 18/200\n",
            "71/71 [==============================] - 0s 6ms/step - loss: 0.0187 - val_loss: 0.0627\n",
            "Epoch 19/200\n",
            "71/71 [==============================] - 0s 6ms/step - loss: 0.0186 - val_loss: 0.0620\n",
            "Epoch 20/200\n",
            "71/71 [==============================] - 0s 6ms/step - loss: 0.0185 - val_loss: 0.0616\n",
            "Epoch 21/200\n",
            "71/71 [==============================] - 0s 6ms/step - loss: 0.0183 - val_loss: 0.0610\n",
            "Epoch 22/200\n",
            "71/71 [==============================] - 0s 6ms/step - loss: 0.0182 - val_loss: 0.0607\n",
            "Epoch 23/200\n",
            "71/71 [==============================] - 0s 6ms/step - loss: 0.0180 - val_loss: 0.0603\n",
            "Epoch 24/200\n",
            "71/71 [==============================] - 0s 6ms/step - loss: 0.0181 - val_loss: 0.0599\n",
            "Epoch 25/200\n",
            "71/71 [==============================] - 0s 6ms/step - loss: 0.0178 - val_loss: 0.0594\n",
            "Epoch 26/200\n",
            "71/71 [==============================] - 0s 6ms/step - loss: 0.0179 - val_loss: 0.0594\n",
            "Epoch 27/200\n",
            "71/71 [==============================] - 0s 6ms/step - loss: 0.0178 - val_loss: 0.0588\n",
            "Epoch 28/200\n",
            "71/71 [==============================] - 0s 5ms/step - loss: 0.0178 - val_loss: 0.0586\n",
            "Epoch 29/200\n",
            "71/71 [==============================] - 0s 6ms/step - loss: 0.0176 - val_loss: 0.0585\n",
            "Epoch 30/200\n",
            "71/71 [==============================] - 0s 6ms/step - loss: 0.0175 - val_loss: 0.0583\n",
            "Epoch 31/200\n",
            "71/71 [==============================] - 0s 6ms/step - loss: 0.0173 - val_loss: 0.0580\n",
            "Epoch 32/200\n",
            "71/71 [==============================] - 0s 6ms/step - loss: 0.0173 - val_loss: 0.0577\n",
            "Epoch 33/200\n",
            "71/71 [==============================] - 0s 5ms/step - loss: 0.0174 - val_loss: 0.0575\n",
            "Epoch 34/200\n",
            "71/71 [==============================] - 0s 6ms/step - loss: 0.0176 - val_loss: 0.0574\n",
            "Epoch 35/200\n",
            "71/71 [==============================] - 0s 6ms/step - loss: 0.0174 - val_loss: 0.0571\n",
            "Epoch 36/200\n",
            "71/71 [==============================] - 0s 6ms/step - loss: 0.0175 - val_loss: 0.0574\n",
            "Epoch 37/200\n",
            "71/71 [==============================] - 0s 6ms/step - loss: 0.0172 - val_loss: 0.0571\n",
            "Epoch 38/200\n",
            "71/71 [==============================] - 0s 6ms/step - loss: 0.0170 - val_loss: 0.0565\n",
            "Epoch 39/200\n",
            "71/71 [==============================] - 0s 6ms/step - loss: 0.0171 - val_loss: 0.0568\n",
            "Epoch 40/200\n",
            "71/71 [==============================] - 0s 6ms/step - loss: 0.0170 - val_loss: 0.0565\n",
            "Epoch 41/200\n",
            "71/71 [==============================] - 0s 6ms/step - loss: 0.0169 - val_loss: 0.0563\n",
            "Epoch 42/200\n",
            "71/71 [==============================] - 0s 6ms/step - loss: 0.0169 - val_loss: 0.0562\n",
            "Epoch 43/200\n",
            "71/71 [==============================] - 0s 6ms/step - loss: 0.0168 - val_loss: 0.0556\n",
            "Epoch 44/200\n",
            "71/71 [==============================] - 0s 6ms/step - loss: 0.0168 - val_loss: 0.0553\n",
            "Epoch 45/200\n",
            "71/71 [==============================] - 0s 6ms/step - loss: 0.0169 - val_loss: 0.0558\n",
            "Epoch 46/200\n",
            "71/71 [==============================] - 0s 6ms/step - loss: 0.0169 - val_loss: 0.0555\n",
            "Epoch 47/200\n",
            "71/71 [==============================] - 0s 6ms/step - loss: 0.0168 - val_loss: 0.0551\n",
            "Epoch 48/200\n",
            "71/71 [==============================] - 0s 6ms/step - loss: 0.0168 - val_loss: 0.0551\n",
            "Epoch 49/200\n",
            "71/71 [==============================] - 0s 6ms/step - loss: 0.0167 - val_loss: 0.0563\n",
            "Epoch 50/200\n",
            "71/71 [==============================] - 0s 5ms/step - loss: 0.0167 - val_loss: 0.0548\n",
            "Epoch 51/200\n",
            "71/71 [==============================] - 0s 5ms/step - loss: 0.0166 - val_loss: 0.0548\n",
            "Epoch 52/200\n",
            "71/71 [==============================] - 0s 5ms/step - loss: 0.0166 - val_loss: 0.0548\n",
            "Epoch 53/200\n",
            "71/71 [==============================] - 0s 5ms/step - loss: 0.0166 - val_loss: 0.0549\n",
            "Epoch 54/200\n",
            "71/71 [==============================] - 0s 6ms/step - loss: 0.0165 - val_loss: 0.0543\n",
            "Epoch 55/200\n",
            "71/71 [==============================] - 0s 5ms/step - loss: 0.0165 - val_loss: 0.0543\n",
            "Epoch 56/200\n",
            "71/71 [==============================] - 0s 6ms/step - loss: 0.0165 - val_loss: 0.0549\n",
            "Epoch 57/200\n",
            "71/71 [==============================] - 0s 6ms/step - loss: 0.0164 - val_loss: 0.0543\n",
            "Epoch 58/200\n",
            "71/71 [==============================] - 0s 6ms/step - loss: 0.0164 - val_loss: 0.0538\n",
            "Epoch 59/200\n",
            "71/71 [==============================] - 0s 6ms/step - loss: 0.0164 - val_loss: 0.0545\n",
            "Epoch 60/200\n",
            "71/71 [==============================] - 0s 6ms/step - loss: 0.0164 - val_loss: 0.0537\n",
            "Epoch 61/200\n",
            "71/71 [==============================] - 0s 5ms/step - loss: 0.0164 - val_loss: 0.0539\n",
            "Epoch 62/200\n",
            "71/71 [==============================] - 0s 5ms/step - loss: 0.0165 - val_loss: 0.0533\n",
            "Epoch 63/200\n",
            "71/71 [==============================] - 0s 6ms/step - loss: 0.0165 - val_loss: 0.0540\n",
            "Epoch 64/200\n",
            "71/71 [==============================] - 0s 6ms/step - loss: 0.0164 - val_loss: 0.0539\n",
            "Epoch 65/200\n",
            "71/71 [==============================] - 0s 5ms/step - loss: 0.0163 - val_loss: 0.0540\n",
            "Epoch 66/200\n",
            "71/71 [==============================] - 0s 6ms/step - loss: 0.0163 - val_loss: 0.0533\n",
            "Epoch 67/200\n",
            "71/71 [==============================] - 0s 6ms/step - loss: 0.0167 - val_loss: 0.0537\n"
          ]
        }
      ]
    },
    {
      "cell_type": "code",
      "source": [
        "# TSTR results from TimeGAN\n",
        "syn_time_predictions = ts_time_syn.predict(test_real_x)\n",
        "r2_syn_time = r2_score(test_real_y, syn_time_predictions)\n",
        "mae_syn_time = mean_absolute_error(test_real_y, syn_time_predictions)\n",
        "mrle_syn_time = mean_squared_log_error(test_real_y, syn_time_predictions)\n",
        "print(r2_syn_time)\n",
        "print(mae_syn_time)\n",
        "print(mrle_syn_time)"
      ],
      "metadata": {
        "colab": {
          "base_uri": "https://localhost:8080/"
        },
        "id": "eCIS_KEjSp1L",
        "outputId": "a04bc984-d7ee-42fb-c5ad-3bf28389b083"
      },
      "id": "eCIS_KEjSp1L",
      "execution_count": null,
      "outputs": [
        {
          "output_type": "stream",
          "name": "stdout",
          "text": [
            "73/73 [==============================] - 0s 2ms/step\n",
            "0.8904660838014413\n",
            "0.05371593016024268\n",
            "0.0028845138767932543\n"
          ]
        }
      ]
    },
    {
      "cell_type": "markdown",
      "source": [
        "visualization of synthetic and real data"
      ],
      "metadata": {
        "id": "3QtlenYkSs8X"
      },
      "id": "3QtlenYkSs8X"
    },
    {
      "cell_type": "code",
      "source": [
        "cols = 'blood glucose (Patient 575)'\n",
        "\n",
        "df = pd.DataFrame({'Real': real_ori[45], 'Synthetic_normGAN': synth_normgan_nonnorm[45], 'Synthetic_TimeGAN': synth_timegan_nonnorm[7][0][45][:, 0]})\n",
        "df.plot(title = cols,\n",
        "        secondary_y='Synthetic data', style=['-'])"
      ],
      "metadata": {
        "colab": {
          "base_uri": "https://localhost:8080/",
          "height": 470
        },
        "id": "WcIRV40MSyNY",
        "outputId": "cb19657e-4fc7-4cdd-c6bd-2e1ebb9f35eb"
      },
      "id": "WcIRV40MSyNY",
      "execution_count": null,
      "outputs": [
        {
          "output_type": "execute_result",
          "data": {
            "text/plain": [
              "<Axes: title={'center': 'blood glucose (Patient 575)'}>"
            ]
          },
          "metadata": {},
          "execution_count": 69
        },
        {
          "output_type": "display_data",
          "data": {
            "text/plain": [
              "<Figure size 640x480 with 1 Axes>"
            ],
            "image/png": "[encoded data removed]"
          },
          "metadata": {}
        }
      ]
    },
    {
      "cell_type": "code",
      "source": [
        "cols = 'blood glucose (Patient 575)'\n",
        "\n",
        "df = pd.DataFrame({'Real': real_ori[49], 'Synthetic_normGAN': synth_normgan_nonnorm[49], 'Synthetic_TimeGAN': synth_timegan_nonnorm[7][0][49][:, 0]})\n",
        "df.plot(title = cols,\n",
        "        secondary_y='Synthetic data', style=['-'])"
      ],
      "metadata": {
        "colab": {
          "base_uri": "https://localhost:8080/",
          "height": 470
        },
        "id": "NKCGyJlmS61O",
        "outputId": "2b9fe01d-38bb-49c6-d364-35aec4d1c01d"
      },
      "id": "NKCGyJlmS61O",
      "execution_count": null,
      "outputs": [
        {
          "output_type": "execute_result",
          "data": {
            "text/plain": [
              "<Axes: title={'center': 'blood glucose (Patient 575)'}>"
            ]
          },
          "metadata": {},
          "execution_count": 70
        },
        {
          "output_type": "display_data",
          "data": {
            "text/plain": [
              "<Figure size 640x480 with 1 Axes>"
            ],
            "image/png": "[encoded data removed]"
          },
          "metadata": {}
        }
      ]
    },
    {
      "cell_type": "code",
      "source": [
        "cols = 'blood glucose (Patient 575)'\n",
        "\n",
        "df = pd.DataFrame({'Real': real_ori[52], 'Synthetic_normGAN': synth_normgan_nonnorm[52], 'Synthetic_TimeGAN': synth_timegan_nonnorm[7][0][52][:, 0]})\n",
        "df.plot(title = cols,\n",
        "        secondary_y='Synthetic data', style=['-'])"
      ],
      "metadata": {
        "colab": {
          "base_uri": "https://localhost:8080/",
          "height": 470
        },
        "id": "O5guC6DcS_up",
        "outputId": "c611929e-1e43-4cd4-8965-8f47813f6ce4"
      },
      "id": "O5guC6DcS_up",
      "execution_count": null,
      "outputs": [
        {
          "output_type": "execute_result",
          "data": {
            "text/plain": [
              "<Axes: title={'center': 'blood glucose (Patient 575)'}>"
            ]
          },
          "metadata": {},
          "execution_count": 71
        },
        {
          "output_type": "display_data",
          "data": {
            "text/plain": [
              "<Figure size 640x480 with 1 Axes>"
            ],
            "image/png": "[encoded data removed]"
          },
          "metadata": {}
        }
      ]
    },
    {
      "cell_type": "markdown",
      "source": [
        "JS distance and DTW"
      ],
      "metadata": {
        "id": "Qt9tmwKHTGIA"
      },
      "id": "Qt9tmwKHTGIA"
    },
    {
      "cell_type": "code",
      "source": [
        "# Wilcoxon test\n",
        "res_normgan = wilcoxon(synth_normgan_nonnorm, real_ori, alternative = 'two-sided', zero_method='wilcox')\n",
        "res_timegan = wilcoxon([synth_timegan_nonnorm[7][0][i][:,0] for i in range(54)], real_ori, alternative = 'two-sided', zero_method='wilcox')\n",
        "print('Normal GAN Wiloxon test: {}'.format(mean(res_normgan.pvalue.flatten())))\n",
        "print('TimeGAN Wiloxon test: {}'.format(mean(res_timegan.pvalue.flatten())))\n",
        "\n",
        "# JS distance\n",
        "dis_normgan = distance.jensenshannon(synth_normgan_nonnorm, real_ori, axis=1)\n",
        "dis_timegan = distance.jensenshannon([synth_timegan_nonnorm[7][0][i][:,0] for i in range(54)], real_ori, axis=1)\n",
        "print('Normal JS distance: {}'.format(mean(dis_normgan.flatten())))\n",
        "print('TimeGAN JS distance: {}'.format(mean(dis_timegan.flatten())))\n",
        "\n",
        "# Eculidean distance\n",
        "e_dis_norm = [math.dist(synth_normgan_norm[i], glucose_575[i]) for i in range(len(real_ori))]\n",
        "e_dis_time = [math.dist([synth_timegan_norm[7][0][j][:,0] for j in range(54)][i], glucose_575[i]) for i in range(len(real_ori))]\n",
        "print('Normal Eculidean distance: {}'.format(mean(e_dis_norm)))\n",
        "print('TimeGAN Eculidean distance: {}'.format(mean(e_dis_time)))"
      ],
      "metadata": {
        "colab": {
          "base_uri": "https://localhost:8080/"
        },
        "id": "hOPXSwXLTFYo",
        "outputId": "dc9d74c0-060c-4900-9fec-9f495cc258dd"
      },
      "id": "hOPXSwXLTFYo",
      "execution_count": null,
      "outputs": [
        {
          "output_type": "stream",
          "name": "stdout",
          "text": [
            "Normal GAN Wiloxon test: 0.10736801804055726\n",
            "TimeGAN Wiloxon test: 0.2624882969154612\n",
            "Normal JS distance: 0.1465386699833888\n",
            "TimeGAN JS distance: 0.13188081492545886\n",
            "Normal Eculidean distance: 4.365941809299902\n",
            "TimeGAN Eculidean distance: 4.380136386256785\n"
          ]
        }
      ]
    },
    {
      "cell_type": "code",
      "source": [
        "# DTW\n",
        "dtw_normgan = []\n",
        "dtw_timegan = []\n",
        "for i in range(len(real_ori)):\n",
        "  dtw_normgan.append(dtw.distance(synth_normgan_norm[i], glucose_575[i]))\n",
        "  dtw_timegan.append(dtw.distance([synth_timegan_norm[7][0][i][:,0] for i in range(54)][i], glucose_575[i]))\n",
        "\n",
        "print('Normal DTW distance: {}'.format(mean(dtw_normgan)))\n",
        "print('TimeGAN DTW distance: {}'.format(mean(dtw_timegan)))"
      ],
      "metadata": {
        "colab": {
          "base_uri": "https://localhost:8080/"
        },
        "id": "VNvsVI7z1bk5",
        "outputId": "8a30707e-a5b8-4e33-c897-8caadbfd53ec"
      },
      "id": "VNvsVI7z1bk5",
      "execution_count": null,
      "outputs": [
        {
          "output_type": "stream",
          "name": "stdout",
          "text": [
            "Normal DTW distance: 2.271171913043719\n",
            "TimeGAN DTW distance: 3.410862351236155\n"
          ]
        }
      ]
    },
    {
      "cell_type": "markdown",
      "source": [
        "visualization of PCA and t-SNE"
      ],
      "metadata": {
        "id": "OI2_zUJqTiG_"
      },
      "id": "OI2_zUJqTiG_"
    },
    {
      "cell_type": "code",
      "source": [
        "sample_size = 54\n",
        "idx = np.random.permutation(len(real_ori))[:sample_size]\n",
        "\n",
        "real_sample = np.asarray(real_ori)[idx]\n",
        "\n",
        "synthetic_sample_norm = np.asarray(synth_normgan_nonnorm)[idx]\n",
        "\n",
        "synth_data_reduced = real_sample.reshape(-1, 288)\n",
        "patient_data_reduced_norm = np.asarray(synthetic_sample_norm).reshape(-1,288)\n",
        "\n",
        "n_components = 2\n",
        "pca = PCA(n_components=n_components)\n",
        "tsne = TSNE(n_components=n_components, n_iter=300)\n",
        "\n",
        "#The fit of the methods must be done only using the real sequential data\n",
        "pca.fit(synth_data_reduced)\n",
        "\n",
        "pca_real = pd.DataFrame(pca.transform(synth_data_reduced))\n",
        "pca_synth_norm = pd.DataFrame(pca.transform(patient_data_reduced_norm))\n",
        "\n",
        "data_reduced = np.concatenate((synth_data_reduced, patient_data_reduced_norm), axis=0)\n",
        "tsne_results = pd.DataFrame(tsne.fit_transform(data_reduced))"
      ],
      "metadata": {
        "id": "0yACF8jHTRbB"
      },
      "id": "0yACF8jHTRbB",
      "execution_count": null,
      "outputs": []
    },
    {
      "cell_type": "code",
      "source": [
        "fig = plt.figure(constrained_layout=True, figsize=(15,8))\n",
        "spec = gridspec.GridSpec(ncols=2, nrows=1, figure=fig)\n",
        "\n",
        "#TSNE scatter plot\n",
        "ax = fig.add_subplot(spec[0,0])\n",
        "ax.set_title('PCA results',\n",
        "             fontsize=20,\n",
        "             pad=10)\n",
        "\n",
        "#PCA scatter plot\n",
        "plt.scatter(pca_real.iloc[:, 0].values, pca_real.iloc[:,1].values,\n",
        "            c='black', alpha=0.2, label='Original')\n",
        "plt.scatter(pca_synth_norm.iloc[:,0], pca_synth_norm.iloc[:,1],\n",
        "            c='red', alpha=0.2, label='Synthetic_normGAN')\n",
        "\n",
        "ax.legend()\n",
        "\n",
        "ax2 = fig.add_subplot(spec[0,1])\n",
        "ax2.set_title('TSNE results',\n",
        "              fontsize=20)\n",
        "\n",
        "plt.scatter(tsne_results.iloc[:sample_size, 0].values, tsne_results.iloc[:sample_size,1].values,\n",
        "            c='black', alpha=0.2, label='Original')\n",
        "plt.scatter(tsne_results.iloc[sample_size:,0], tsne_results.iloc[sample_size:,1],\n",
        "            c='red', alpha=0.2, label='Synthetic_norm')\n",
        "\n",
        "ax2.legend()"
      ],
      "metadata": {
        "colab": {
          "base_uri": "https://localhost:8080/",
          "height": 733
        },
        "id": "XKlM9HUGTpUU",
        "outputId": "002c3cdb-2e24-4731-bbcc-732ae093c9d7"
      },
      "id": "XKlM9HUGTpUU",
      "execution_count": null,
      "outputs": [
        {
          "output_type": "execute_result",
          "data": {
            "text/plain": [
              "<matplotlib.legend.Legend at 0x7fc9d0e63070>"
            ]
          },
          "metadata": {},
          "execution_count": 83
        },
        {
          "output_type": "display_data",
          "data": {
            "text/plain": [
              "<Figure size 1500x800 with 2 Axes>"
            ],
            "image/png": "[encoded data removed]"
          },
          "metadata": {}
        }
      ]
    },
    {
      "cell_type": "code",
      "source": [
        "sample_size = 54\n",
        "idx = np.random.permutation(len(real_ori))[:sample_size]\n",
        "\n",
        "real_sample = np.asarray(real_ori)[idx]\n",
        "\n",
        "synthetic_sample_timegan = np.asarray([synth_timegan_nonnorm[7][0][i][:,0] for i in range(54)])[idx]\n",
        "\n",
        "synth_data_reduced = real_sample.reshape(-1, 288)\n",
        "patient_data_reduced_timegan = np.asarray(synthetic_sample_timegan).reshape(-1,288)\n",
        "\n",
        "n_components = 2\n",
        "pca = PCA(n_components=n_components)\n",
        "tsne = TSNE(n_components=n_components, n_iter=300)\n",
        "\n",
        "#The fit of the methods must be done only using the real sequential data\n",
        "pca.fit(synth_data_reduced)\n",
        "\n",
        "pca_real = pd.DataFrame(pca.transform(synth_data_reduced))\n",
        "pca_synth_timegan = pd.DataFrame(pca.transform(patient_data_reduced_timegan))\n",
        "\n",
        "data_reduced = np.concatenate((synth_data_reduced, patient_data_reduced_timegan), axis=0)\n",
        "tsne_results = pd.DataFrame(tsne.fit_transform(data_reduced))"
      ],
      "metadata": {
        "id": "Aqb_8jAWTs7k"
      },
      "id": "Aqb_8jAWTs7k",
      "execution_count": null,
      "outputs": []
    },
    {
      "cell_type": "code",
      "source": [
        "fig = plt.figure(constrained_layout=True, figsize=(15,8))\n",
        "spec = gridspec.GridSpec(ncols=2, nrows=1, figure=fig)\n",
        "\n",
        "#TSNE scatter plot\n",
        "ax = fig.add_subplot(spec[0,0])\n",
        "ax.set_title('PCA results',\n",
        "             fontsize=20)\n",
        "\n",
        "#PCA scatter plot\n",
        "plt.scatter(pca_real.iloc[:, 0].values, pca_real.iloc[:,1].values,\n",
        "            c='black', alpha=0.2, label='Original')\n",
        "plt.scatter(pca_synth_timegan.iloc[:,0], pca_synth_timegan.iloc[:,1],\n",
        "            c='red', alpha=0.2, label='Synthetic_timeGAN')\n",
        "\n",
        "ax.legend()\n",
        "\n",
        "ax2 = fig.add_subplot(spec[0,1])\n",
        "ax2.set_title('TSNE results',\n",
        "              fontsize=20)\n",
        "\n",
        "plt.scatter(tsne_results.iloc[:sample_size, 0].values, tsne_results.iloc[:sample_size,1].values,\n",
        "            c='black', alpha=0.2, label='Original')\n",
        "plt.scatter(tsne_results.iloc[sample_size:,0], tsne_results.iloc[sample_size:,1],\n",
        "            c='red', alpha=0.2, label='Synthetic')\n",
        "\n",
        "ax2.legend()\n",
        "\n",
        "#fig.suptitle('Validating synthetic vs real data diversity and distributions',\n",
        "#             fontsize=16)"
      ],
      "metadata": {
        "colab": {
          "base_uri": "https://localhost:8080/",
          "height": 733
        },
        "id": "ZsfvNvCyT0b4",
        "outputId": "7aaea064-48bd-47ce-ff44-d7547c7d3b2f"
      },
      "id": "ZsfvNvCyT0b4",
      "execution_count": null,
      "outputs": [
        {
          "output_type": "execute_result",
          "data": {
            "text/plain": [
              "<matplotlib.legend.Legend at 0x7fc9d0b4f070>"
            ]
          },
          "metadata": {},
          "execution_count": 85
        },
        {
          "output_type": "display_data",
          "data": {
            "text/plain": [
              "<Figure size 1500x800 with 2 Axes>"
            ],
            "image/png": "[encoded data removed]"
          },
          "metadata": {}
        }
      ]
    },
    {
      "cell_type": "code",
      "source": [],
      "metadata": {
        "id": "F7W_1qZXA5Nr"
      },
      "id": "F7W_1qZXA5Nr",
      "execution_count": null,
      "outputs": []
    }
  ],
  "metadata": {
    "kernelspec": {
      "display_name": "Python 3 (ipykernel)",
      "language": "python",
      "name": "python3"
    },
    "language_info": {
      "codemirror_mode": {
        "name": "ipython",
        "version": 3
      },
      "file_extension": ".py",
      "mimetype": "text/x-python",
      "name": "python",
      "nbconvert_exporter": "python",
      "pygments_lexer": "ipython3",
      "version": "3.9.13"
    },
    "colab": {
      "provenance": [],
      "machine_shape": "hm",
      "gpuType": "A100",
      "gpuClass": "premium"
    },
    "gpuClass": "premium",
    "accelerator": "GPU"
  },
  "nbformat": 4,
  "nbformat_minor": 5
}