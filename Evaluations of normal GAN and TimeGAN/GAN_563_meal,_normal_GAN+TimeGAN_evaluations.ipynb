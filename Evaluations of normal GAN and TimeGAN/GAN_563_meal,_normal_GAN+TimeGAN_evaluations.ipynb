{
  "cells": [
    {
      "cell_type": "code",
      "execution_count": null,
      "id": "6a1cd663-ce3a-4fa6-b032-274843aa106c",
      "metadata": {
        "id": "6a1cd663-ce3a-4fa6-b032-274843aa106c"
      },
      "outputs": [],
      "source": [
        "# train a generative adversarial network on a one-dimensional function\n",
        "import pandas as pd\n",
        "from numpy import hstack\n",
        "import numpy as np\n",
        "from datetime import datetime\n",
        "from numpy import zeros\n",
        "from numpy import ones\n",
        "import random\n",
        "from numpy.random import rand\n",
        "from numpy.random import randn\n",
        "from keras.models import Sequential\n",
        "from keras import Input\n",
        "from keras.layers import Dense, Conv1D, LeakyReLU, Reshape, UpSampling1D\n",
        "from keras.optimizers import Adam\n",
        "from matplotlib import pyplot\n",
        "import matplotlib.pyplot as plt \n",
        "from tqdm import tqdm\n",
        "from tensorflow import keras\n",
        "from keras.models import save_model, load_model\n",
        "from statistics import mean, variance, pstdev\n",
        "from sklearn.preprocessing import MinMaxScaler\n",
        "from statistics import mean, variance, pstdev\n",
        "from scipy.spatial import distance\n",
        "from scipy.stats import wilcoxon\n",
        "import seaborn as sns\n",
        "from sklearn import svm, metrics\n",
        "from collections import defaultdict"
      ]
    },
    {
      "cell_type": "code",
      "source": [
        "from google.colab import drive\n",
        "\n",
        "drive.mount('/content/drive')"
      ],
      "metadata": {
        "colab": {
          "base_uri": "https://localhost:8080/"
        },
        "id": "J-wRkyVB-ZTu",
        "outputId": "59dfc1be-2da1-46ec-c986-fbe989bf3025"
      },
      "id": "J-wRkyVB-ZTu",
      "execution_count": null,
      "outputs": [
        {
          "output_type": "stream",
          "name": "stdout",
          "text": [
            "Mounted at /content/drive\n"
          ]
        }
      ]
    },
    {
      "cell_type": "code",
      "execution_count": null,
      "id": "b857585e-6da2-4ba6-ae42-7619672cf9e7",
      "metadata": {
        "id": "b857585e-6da2-4ba6-ae42-7619672cf9e7"
      },
      "outputs": [],
      "source": [
        "LENGTH_INPUT = 288\n",
        "latent_dim = 500"
      ]
    },
    {
      "cell_type": "markdown",
      "id": "88ea179b-736e-409f-a40d-84b3910af564",
      "metadata": {
        "id": "88ea179b-736e-409f-a40d-84b3910af564"
      },
      "source": [
        "# Prepare training data"
      ]
    },
    {
      "cell_type": "code",
      "execution_count": null,
      "id": "aa56387d-d5d5-4dba-8e90-c8e8086e73a2",
      "metadata": {
        "id": "aa56387d-d5d5-4dba-8e90-c8e8086e73a2"
      },
      "outputs": [],
      "source": [
        "df_563 =  pd.read_csv('/content/drive/MyDrive/Thesis/processed data/563.csv')"
      ]
    },
    {
      "cell_type": "code",
      "execution_count": null,
      "id": "98e176ab-1bed-4e88-8775-288291f4f545",
      "metadata": {
        "id": "98e176ab-1bed-4e88-8775-288291f4f545"
      },
      "outputs": [],
      "source": [
        "df_563['time'] = pd.to_datetime(df_563['time'], dayfirst=True)"
      ]
    },
    {
      "cell_type": "code",
      "execution_count": null,
      "id": "e3d1c33b-21a3-4e2e-8b22-8dee1b477e14",
      "metadata": {
        "id": "e3d1c33b-21a3-4e2e-8b22-8dee1b477e14"
      },
      "outputs": [],
      "source": [
        "df_563['date'] = df_563['time'].apply(lambda x: x.date())\n",
        "dates = df_563['date'].unique()\n",
        "meal_563 = []\n",
        "for date in dates:\n",
        "    meal_563.append(df_563[df_563['date'] == date]['meal_value'].values)"
      ]
    },
    {
      "cell_type": "code",
      "source": [
        "scaler = MinMaxScaler().fit(meal_563)\n",
        "meal_563 = scaler.transform(meal_563)"
      ],
      "metadata": {
        "id": "JqHy8TStAN9u"
      },
      "id": "JqHy8TStAN9u",
      "execution_count": null,
      "outputs": []
    },
    {
      "cell_type": "code",
      "execution_count": null,
      "id": "4b49b5ca-8628-41f6-8a57-6c0cd025831b",
      "metadata": {
        "id": "4b49b5ca-8628-41f6-8a57-6c0cd025831b"
      },
      "outputs": [],
      "source": [
        "meal_563 = np.array(meal_563)\n",
        "y = ones((54, 1))"
      ]
    },
    {
      "cell_type": "code",
      "source": [
        "meal_563.shape"
      ],
      "metadata": {
        "colab": {
          "base_uri": "https://localhost:8080/"
        },
        "id": "0gV-rRzJ4A6A",
        "outputId": "be1579e2-3552-4e89-e1a1-d1b821bdcca0"
      },
      "id": "0gV-rRzJ4A6A",
      "execution_count": null,
      "outputs": [
        {
          "output_type": "execute_result",
          "data": {
            "text/plain": [
              "(54, 288)"
            ]
          },
          "metadata": {},
          "execution_count": 9
        }
      ]
    },
    {
      "cell_type": "markdown",
      "id": "c0bf7b7b-097e-4379-bc3c-76bd04d57b25",
      "metadata": {
        "id": "c0bf7b7b-097e-4379-bc3c-76bd04d57b25"
      },
      "source": [
        "# Model Architecture"
      ]
    },
    {
      "cell_type": "code",
      "execution_count": null,
      "id": "a9e75e84-1cd4-43f1-aca8-b6e6f6022304",
      "metadata": {
        "id": "a9e75e84-1cd4-43f1-aca8-b6e6f6022304"
      },
      "outputs": [],
      "source": [
        "# define the standalone discriminator model\n",
        "def define_discriminator():\n",
        "    model = Sequential()\n",
        "    \n",
        "    # Dense layer\n",
        "    model.add(Dense(1, input_shape=(288,1)))\n",
        "    model.add(LeakyReLU())\n",
        "    \n",
        "    # Convolutional layer with LeakyReLU activation\n",
        "    model.add(Conv1D(32, kernel_size=4, strides=2, padding='same'))\n",
        "    model.add(LeakyReLU())\n",
        "\n",
        "    # Convolutional layer with LeakyReLU activation\n",
        "    model.add(Conv1D(32, kernel_size=2, strides=2, padding='same'))\n",
        "    model.add(LeakyReLU())\n",
        "    \n",
        "    # Reshape layer\n",
        "    model.add(Reshape((2304,)))\n",
        "    \n",
        "    # Dense layer\n",
        "    model.add(Dense(1, activation='sigmoid'))\n",
        "\n",
        "    opt = Adam(learning_rate=0.0001)\n",
        "    # compile model\n",
        "    model.compile(loss='binary_crossentropy', optimizer=opt, metrics=['accuracy'])\n",
        "    return model"
      ]
    },
    {
      "cell_type": "code",
      "execution_count": null,
      "id": "099c6ec7-5225-4957-bdfc-e5032cd688fd",
      "metadata": {
        "id": "099c6ec7-5225-4957-bdfc-e5032cd688fd"
      },
      "outputs": [],
      "source": [
        "# define the standalone generator model\n",
        "def define_generator():\n",
        "    model = Sequential()\n",
        "    \n",
        "    # Dense layer\n",
        "    model.add(Dense(3600, input_shape=(latent_dim,)))\n",
        "    model.add(LeakyReLU())\n",
        "    \n",
        "    # Reshape layer\n",
        "    model.add(Reshape((72, 50)))\n",
        "    \n",
        "    # Upsampling layer\n",
        "    model.add(UpSampling1D(size=4))\n",
        "    \n",
        "    # Convolutional layer\n",
        "    model.add(Conv1D(filters=32, kernel_size=2, strides=2, padding='same'))\n",
        "    \n",
        "    # Upsampling layer\n",
        "    model.add(UpSampling1D(size=4))\n",
        "    \n",
        "    # Convolutional layer + leaky relu layer\n",
        "    model.add(Conv1D(filters=32, kernel_size=2, strides=2, padding='same'))\n",
        "    model.add(LeakyReLU())\n",
        "    \n",
        "    # Convolutional layer\n",
        "    model.add(Conv1D(filters=1, kernel_size=1, padding='same'))\n",
        "    \n",
        "    model.compile(optimizer='adam')\n",
        "\n",
        "    return model"
      ]
    },
    {
      "cell_type": "code",
      "execution_count": null,
      "id": "953d1808-87ed-407a-8b83-de4d5691df1c",
      "metadata": {
        "id": "953d1808-87ed-407a-8b83-de4d5691df1c"
      },
      "outputs": [],
      "source": [
        "# define the combined generator and discriminator model, for updating the generator\n",
        "def define_gan(generator, discriminator):\n",
        "    # make weights in the discriminator not trainable\n",
        "    discriminator.trainable = False\n",
        "    # connect them\n",
        "    model = Sequential()\n",
        "    model.add(generator)\n",
        "    model.add(discriminator)\n",
        "    opt = Adam(learning_rate=0.0001)\n",
        "    model.compile(loss='binary_crossentropy', optimizer=opt)\n",
        "    return model"
      ]
    },
    {
      "cell_type": "code",
      "execution_count": null,
      "id": "1fcfbcc5-28a1-4324-8fcd-0624f54ef54e",
      "metadata": {
        "id": "1fcfbcc5-28a1-4324-8fcd-0624f54ef54e"
      },
      "outputs": [],
      "source": [
        "# generate points in latent space as input for the generator\n",
        "def generate_latent_points(n):\n",
        "    # generate points in the latent space from the normal distribution\n",
        "    x_input = np.random.normal(size = latent_dim * n)\n",
        "    # reshape into a batch of inputs for the network\n",
        "    x_input = x_input.reshape(n, latent_dim)\n",
        "\n",
        "    return x_input"
      ]
    },
    {
      "cell_type": "code",
      "execution_count": null,
      "id": "7108a5fc-2e71-4530-b6e6-8769f4f165bb",
      "metadata": {
        "id": "7108a5fc-2e71-4530-b6e6-8769f4f165bb"
      },
      "outputs": [],
      "source": [
        "# use the generator to generate n fake examples, with class labels\n",
        "def generate_fake_samples(generator, n):\n",
        "    # generate points in latent space\n",
        "    x_input = generate_latent_points(n)\n",
        "    # predict outputs\n",
        "    X = generator.predict(x_input, verbose=0)\n",
        "    # create class labels\n",
        "    y = zeros((n, 1))\n",
        "\n",
        "    return X, y"
      ]
    },
    {
      "cell_type": "code",
      "execution_count": null,
      "id": "a92cef4f-9d76-4681-b7ca-c19bd10a302c",
      "metadata": {
        "id": "a92cef4f-9d76-4681-b7ca-c19bd10a302c"
      },
      "outputs": [],
      "source": [
        "# train the generator and discriminator\n",
        "def train(g_model, d_model, gan_model, latent_dim, n_epochs=10000, n_batch=54, n_eval=100):\n",
        "    d_loss_list = []\n",
        "    g_loss_list = []\n",
        "    # determine half the size of one batch, for updating the discriminator\n",
        "    half_batch = int(n_batch / 2)+1\n",
        "    \n",
        "    # manually enumerate epochs\n",
        "    for i in tqdm(range(n_epochs)):\n",
        "        \n",
        "        # prepare real samples\n",
        "        rand_index = random.sample(range(0,54), 28)\n",
        "        x_real, y_real = meal_563[rand_index], y[rand_index]\n",
        "        # prepare fake examples\n",
        "        x_fake, y_fake = generate_fake_samples(g_model, half_batch)\n",
        "        \n",
        "        # update discriminator\n",
        "        d_loss_real = d_model.train_on_batch(x_real, y_real)\n",
        "        d_loss_fake = d_model.train_on_batch(x_fake, y_fake)\n",
        "        # average of d_loss_real and d_loss_fake\n",
        "        d_loss = 0.5 * np.add(d_loss_real, d_loss_fake)\n",
        "        d_loss_list.append(d_loss)\n",
        "        #print(d_loss[0])\n",
        "\n",
        "        # prepare points in latent space as input for the generator\n",
        "        #for _ in range(4):\n",
        "        x_gan = generate_latent_points(n_batch)\n",
        "        # create inverted labels for the fake samples\n",
        "        y_gan = ones((n_batch, 1))\n",
        "        # update the generator via the discriminator's error\n",
        "        g_loss = gan_model.train_on_batch(x_gan, y_gan)\n",
        "        g_loss_list.append(g_loss)\n",
        "        \n",
        "       \n",
        "        # evaluate the model every n_eval epochs\n",
        "        if (i+1) % n_eval == 0:\n",
        "            generator.save_weights('/content/drive/MyDrive/Thesis/model/normal_gan/563_meal_0.0005/generator_weights_%d.h5' %(i+1))\n",
        "            print (\"%d [D loss: %f, acc.: %.2f%%] [G loss: %f]\" % (i, d_loss[0], 100*d_loss[1], g_loss))"
      ]
    },
    {
      "cell_type": "code",
      "execution_count": null,
      "id": "ce93ac09-c4d5-41bd-bf88-f89573ab09b6",
      "metadata": {
        "colab": {
          "base_uri": "https://localhost:8080/"
        },
        "id": "ce93ac09-c4d5-41bd-bf88-f89573ab09b6",
        "outputId": "2ba3e0c7-8821-4ef7-d9f6-500659b40f7a"
      },
      "outputs": [
        {
          "output_type": "stream",
          "name": "stdout",
          "text": [
            "Model: \"sequential\"\n",
            "_________________________________________________________________\n",
            " Layer (type)                Output Shape              Param #   \n",
            "=================================================================\n",
            " dense (Dense)               (None, 288, 1)            2         \n",
            "                                                                 \n",
            " leaky_re_lu (LeakyReLU)     (None, 288, 1)            0         \n",
            "                                                                 \n",
            " conv1d (Conv1D)             (None, 144, 32)           160       \n",
            "                                                                 \n",
            " leaky_re_lu_1 (LeakyReLU)   (None, 144, 32)           0         \n",
            "                                                                 \n",
            " conv1d_1 (Conv1D)           (None, 72, 32)            2080      \n",
            "                                                                 \n",
            " leaky_re_lu_2 (LeakyReLU)   (None, 72, 32)            0         \n",
            "                                                                 \n",
            " reshape (Reshape)           (None, 2304)              0         \n",
            "                                                                 \n",
            " dense_1 (Dense)             (None, 1)                 2305      \n",
            "                                                                 \n",
            "=================================================================\n",
            "Total params: 4,547\n",
            "Trainable params: 4,547\n",
            "Non-trainable params: 0\n",
            "_________________________________________________________________\n"
          ]
        }
      ],
      "source": [
        "discriminator = define_discriminator()\n",
        "discriminator.summary()"
      ]
    },
    {
      "cell_type": "code",
      "execution_count": null,
      "id": "aa724642-eb06-4e82-8660-14c835a5f8dc",
      "metadata": {
        "id": "aa724642-eb06-4e82-8660-14c835a5f8dc",
        "outputId": "066ae95c-39b9-4df7-956b-8c4327155d98",
        "colab": {
          "base_uri": "https://localhost:8080/"
        }
      },
      "outputs": [
        {
          "output_type": "stream",
          "name": "stdout",
          "text": [
            "Model: \"sequential_1\"\n",
            "_________________________________________________________________\n",
            " Layer (type)                Output Shape              Param #   \n",
            "=================================================================\n",
            " dense_2 (Dense)             (None, 3600)              1803600   \n",
            "                                                                 \n",
            " leaky_re_lu_3 (LeakyReLU)   (None, 3600)              0         \n",
            "                                                                 \n",
            " reshape_1 (Reshape)         (None, 72, 50)            0         \n",
            "                                                                 \n",
            " up_sampling1d (UpSampling1D  (None, 288, 50)          0         \n",
            " )                                                               \n",
            "                                                                 \n",
            " conv1d_2 (Conv1D)           (None, 144, 32)           3232      \n",
            "                                                                 \n",
            " up_sampling1d_1 (UpSampling  (None, 576, 32)          0         \n",
            " 1D)                                                             \n",
            "                                                                 \n",
            " conv1d_3 (Conv1D)           (None, 288, 32)           2080      \n",
            "                                                                 \n",
            " leaky_re_lu_4 (LeakyReLU)   (None, 288, 32)           0         \n",
            "                                                                 \n",
            " conv1d_4 (Conv1D)           (None, 288, 1)            33        \n",
            "                                                                 \n",
            "=================================================================\n",
            "Total params: 1,808,945\n",
            "Trainable params: 1,808,945\n",
            "Non-trainable params: 0\n",
            "_________________________________________________________________\n"
          ]
        }
      ],
      "source": [
        "generator = define_generator()\n",
        "generator.summary()"
      ]
    },
    {
      "cell_type": "code",
      "execution_count": null,
      "id": "8c239002-60c4-4b63-8dae-793783b71777",
      "metadata": {
        "id": "8c239002-60c4-4b63-8dae-793783b71777",
        "outputId": "3ac0158c-5e4c-44b2-fd7b-e41fee9ce6bc",
        "colab": {
          "base_uri": "https://localhost:8080/"
        }
      },
      "outputs": [
        {
          "output_type": "stream",
          "name": "stderr",
          "text": [
            "  1%|          | 101/10000 [00:18<39:25,  4.18it/s]"
          ]
        },
        {
          "output_type": "stream",
          "name": "stdout",
          "text": [
            "99 [D loss: 0.627464, acc.: 100.00%] [G loss: 0.789683]\n"
          ]
        },
        {
          "output_type": "stream",
          "name": "stderr",
          "text": [
            "  2%|▏         | 201/10000 [00:32<23:01,  7.09it/s]"
          ]
        },
        {
          "output_type": "stream",
          "name": "stdout",
          "text": [
            "199 [D loss: 0.610449, acc.: 100.00%] [G loss: 0.767490]\n"
          ]
        },
        {
          "output_type": "stream",
          "name": "stderr",
          "text": [
            "  3%|▎         | 301/10000 [00:46<24:23,  6.63it/s]"
          ]
        },
        {
          "output_type": "stream",
          "name": "stdout",
          "text": [
            "299 [D loss: 0.597145, acc.: 100.00%] [G loss: 0.767182]\n"
          ]
        },
        {
          "output_type": "stream",
          "name": "stderr",
          "text": [
            "  4%|▍         | 401/10000 [00:59<24:44,  6.47it/s]"
          ]
        },
        {
          "output_type": "stream",
          "name": "stdout",
          "text": [
            "399 [D loss: 0.649125, acc.: 51.79%] [G loss: 0.671385]\n"
          ]
        },
        {
          "output_type": "stream",
          "name": "stderr",
          "text": [
            "  5%|▌         | 501/10000 [01:13<23:17,  6.80it/s]"
          ]
        },
        {
          "output_type": "stream",
          "name": "stdout",
          "text": [
            "499 [D loss: 0.675846, acc.: 50.00%] [G loss: 0.655816]\n"
          ]
        },
        {
          "output_type": "stream",
          "name": "stderr",
          "text": [
            "  6%|▌         | 601/10000 [01:27<22:28,  6.97it/s]"
          ]
        },
        {
          "output_type": "stream",
          "name": "stdout",
          "text": [
            "599 [D loss: 0.679772, acc.: 50.00%] [G loss: 0.666057]\n"
          ]
        },
        {
          "output_type": "stream",
          "name": "stderr",
          "text": [
            "  7%|▋         | 701/10000 [01:40<23:24,  6.62it/s]"
          ]
        },
        {
          "output_type": "stream",
          "name": "stdout",
          "text": [
            "699 [D loss: 0.663838, acc.: 94.64%] [G loss: 0.700809]\n"
          ]
        },
        {
          "output_type": "stream",
          "name": "stderr",
          "text": [
            "  8%|▊         | 801/10000 [01:54<22:54,  6.69it/s]"
          ]
        },
        {
          "output_type": "stream",
          "name": "stdout",
          "text": [
            "799 [D loss: 0.664584, acc.: 75.00%] [G loss: 0.696300]\n"
          ]
        },
        {
          "output_type": "stream",
          "name": "stderr",
          "text": [
            "  9%|▉         | 901/10000 [02:09<24:17,  6.24it/s]"
          ]
        },
        {
          "output_type": "stream",
          "name": "stdout",
          "text": [
            "899 [D loss: 0.650860, acc.: 85.71%] [G loss: 0.709757]\n"
          ]
        },
        {
          "output_type": "stream",
          "name": "stderr",
          "text": [
            " 10%|█         | 1001/10000 [02:23<21:23,  7.01it/s]"
          ]
        },
        {
          "output_type": "stream",
          "name": "stdout",
          "text": [
            "999 [D loss: 0.650782, acc.: 73.21%] [G loss: 0.703281]\n"
          ]
        },
        {
          "output_type": "stream",
          "name": "stderr",
          "text": [
            " 11%|█         | 1101/10000 [02:37<21:10,  7.01it/s]"
          ]
        },
        {
          "output_type": "stream",
          "name": "stdout",
          "text": [
            "1099 [D loss: 0.661114, acc.: 69.64%] [G loss: 0.690447]\n"
          ]
        },
        {
          "output_type": "stream",
          "name": "stderr",
          "text": [
            " 12%|█▏        | 1201/10000 [02:51<21:42,  6.75it/s]"
          ]
        },
        {
          "output_type": "stream",
          "name": "stdout",
          "text": [
            "1199 [D loss: 0.695411, acc.: 41.07%] [G loss: 0.668289]\n"
          ]
        },
        {
          "output_type": "stream",
          "name": "stderr",
          "text": [
            " 13%|█▎        | 1301/10000 [03:05<22:13,  6.52it/s]"
          ]
        },
        {
          "output_type": "stream",
          "name": "stdout",
          "text": [
            "1299 [D loss: 0.636139, acc.: 80.36%] [G loss: 0.794306]\n"
          ]
        },
        {
          "output_type": "stream",
          "name": "stderr",
          "text": [
            " 14%|█▍        | 1401/10000 [03:18<21:02,  6.81it/s]"
          ]
        },
        {
          "output_type": "stream",
          "name": "stdout",
          "text": [
            "1399 [D loss: 0.591252, acc.: 89.29%] [G loss: 0.843108]\n"
          ]
        },
        {
          "output_type": "stream",
          "name": "stderr",
          "text": [
            " 15%|█▌        | 1501/10000 [03:32<20:17,  6.98it/s]"
          ]
        },
        {
          "output_type": "stream",
          "name": "stdout",
          "text": [
            "1499 [D loss: 0.598250, acc.: 96.43%] [G loss: 0.776089]\n"
          ]
        },
        {
          "output_type": "stream",
          "name": "stderr",
          "text": [
            " 16%|█▌        | 1601/10000 [03:45<20:22,  6.87it/s]"
          ]
        },
        {
          "output_type": "stream",
          "name": "stdout",
          "text": [
            "1599 [D loss: 0.556888, acc.: 98.21%] [G loss: 0.849268]\n"
          ]
        },
        {
          "output_type": "stream",
          "name": "stderr",
          "text": [
            " 17%|█▋        | 1701/10000 [03:58<19:58,  6.92it/s]"
          ]
        },
        {
          "output_type": "stream",
          "name": "stdout",
          "text": [
            "1699 [D loss: 0.559131, acc.: 96.43%] [G loss: 0.787471]\n"
          ]
        },
        {
          "output_type": "stream",
          "name": "stderr",
          "text": [
            " 18%|█▊        | 1801/10000 [04:11<20:30,  6.66it/s]"
          ]
        },
        {
          "output_type": "stream",
          "name": "stdout",
          "text": [
            "1799 [D loss: 0.548562, acc.: 96.43%] [G loss: 0.832823]\n"
          ]
        },
        {
          "output_type": "stream",
          "name": "stderr",
          "text": [
            " 19%|█▉        | 1901/10000 [04:25<20:19,  6.64it/s]"
          ]
        },
        {
          "output_type": "stream",
          "name": "stdout",
          "text": [
            "1899 [D loss: 0.515675, acc.: 92.86%] [G loss: 0.862303]\n"
          ]
        },
        {
          "output_type": "stream",
          "name": "stderr",
          "text": [
            " 20%|██        | 2001/10000 [04:38<18:10,  7.34it/s]"
          ]
        },
        {
          "output_type": "stream",
          "name": "stdout",
          "text": [
            "1999 [D loss: 0.497096, acc.: 92.86%] [G loss: 0.909360]\n"
          ]
        },
        {
          "output_type": "stream",
          "name": "stderr",
          "text": [
            " 21%|██        | 2101/10000 [04:51<18:23,  7.16it/s]"
          ]
        },
        {
          "output_type": "stream",
          "name": "stdout",
          "text": [
            "2099 [D loss: 0.489069, acc.: 91.07%] [G loss: 0.929897]\n"
          ]
        },
        {
          "output_type": "stream",
          "name": "stderr",
          "text": [
            " 22%|██▏       | 2201/10000 [05:04<19:00,  6.84it/s]"
          ]
        },
        {
          "output_type": "stream",
          "name": "stdout",
          "text": [
            "2199 [D loss: 0.452252, acc.: 92.86%] [G loss: 0.974602]\n"
          ]
        },
        {
          "output_type": "stream",
          "name": "stderr",
          "text": [
            " 23%|██▎       | 2301/10000 [05:17<17:56,  7.15it/s]"
          ]
        },
        {
          "output_type": "stream",
          "name": "stdout",
          "text": [
            "2299 [D loss: 0.428044, acc.: 91.07%] [G loss: 1.022751]\n"
          ]
        },
        {
          "output_type": "stream",
          "name": "stderr",
          "text": [
            " 24%|██▍       | 2401/10000 [05:30<16:48,  7.54it/s]"
          ]
        },
        {
          "output_type": "stream",
          "name": "stdout",
          "text": [
            "2399 [D loss: 0.390815, acc.: 91.07%] [G loss: 1.188123]\n"
          ]
        },
        {
          "output_type": "stream",
          "name": "stderr",
          "text": [
            " 25%|██▌       | 2501/10000 [05:43<16:48,  7.44it/s]"
          ]
        },
        {
          "output_type": "stream",
          "name": "stdout",
          "text": [
            "2499 [D loss: 0.378490, acc.: 92.86%] [G loss: 1.199152]\n"
          ]
        },
        {
          "output_type": "stream",
          "name": "stderr",
          "text": [
            " 26%|██▌       | 2601/10000 [05:55<16:38,  7.41it/s]"
          ]
        },
        {
          "output_type": "stream",
          "name": "stdout",
          "text": [
            "2599 [D loss: 0.372666, acc.: 91.07%] [G loss: 1.191536]\n"
          ]
        },
        {
          "output_type": "stream",
          "name": "stderr",
          "text": [
            " 27%|██▋       | 2701/10000 [06:09<16:12,  7.50it/s]"
          ]
        },
        {
          "output_type": "stream",
          "name": "stdout",
          "text": [
            "2699 [D loss: 0.305422, acc.: 94.64%] [G loss: 1.291380]\n"
          ]
        },
        {
          "output_type": "stream",
          "name": "stderr",
          "text": [
            " 28%|██▊       | 2801/10000 [06:22<21:13,  5.65it/s]"
          ]
        },
        {
          "output_type": "stream",
          "name": "stdout",
          "text": [
            "2799 [D loss: 0.318169, acc.: 92.86%] [G loss: 1.329364]\n"
          ]
        },
        {
          "output_type": "stream",
          "name": "stderr",
          "text": [
            " 29%|██▉       | 2901/10000 [06:37<18:50,  6.28it/s]"
          ]
        },
        {
          "output_type": "stream",
          "name": "stdout",
          "text": [
            "2899 [D loss: 0.253907, acc.: 98.21%] [G loss: 1.374527]\n"
          ]
        },
        {
          "output_type": "stream",
          "name": "stderr",
          "text": [
            " 30%|███       | 3001/10000 [06:51<17:06,  6.82it/s]"
          ]
        },
        {
          "output_type": "stream",
          "name": "stdout",
          "text": [
            "2999 [D loss: 0.249638, acc.: 94.64%] [G loss: 1.465292]\n"
          ]
        },
        {
          "output_type": "stream",
          "name": "stderr",
          "text": [
            " 31%|███       | 3101/10000 [07:05<17:27,  6.59it/s]"
          ]
        },
        {
          "output_type": "stream",
          "name": "stdout",
          "text": [
            "3099 [D loss: 0.239418, acc.: 96.43%] [G loss: 1.552548]\n"
          ]
        },
        {
          "output_type": "stream",
          "name": "stderr",
          "text": [
            " 32%|███▏      | 3201/10000 [07:19<16:38,  6.81it/s]"
          ]
        },
        {
          "output_type": "stream",
          "name": "stdout",
          "text": [
            "3199 [D loss: 0.218975, acc.: 96.43%] [G loss: 1.598725]\n"
          ]
        },
        {
          "output_type": "stream",
          "name": "stderr",
          "text": [
            " 33%|███▎      | 3301/10000 [07:33<16:39,  6.70it/s]"
          ]
        },
        {
          "output_type": "stream",
          "name": "stdout",
          "text": [
            "3299 [D loss: 0.195159, acc.: 96.43%] [G loss: 1.741790]\n"
          ]
        },
        {
          "output_type": "stream",
          "name": "stderr",
          "text": [
            " 34%|███▍      | 3401/10000 [07:47<16:26,  6.69it/s]"
          ]
        },
        {
          "output_type": "stream",
          "name": "stdout",
          "text": [
            "3399 [D loss: 0.190992, acc.: 96.43%] [G loss: 1.795489]\n"
          ]
        },
        {
          "output_type": "stream",
          "name": "stderr",
          "text": [
            " 35%|███▌      | 3501/10000 [08:00<16:03,  6.75it/s]"
          ]
        },
        {
          "output_type": "stream",
          "name": "stdout",
          "text": [
            "3499 [D loss: 0.170655, acc.: 94.64%] [G loss: 1.811206]\n"
          ]
        },
        {
          "output_type": "stream",
          "name": "stderr",
          "text": [
            " 36%|███▌      | 3601/10000 [08:14<14:46,  7.22it/s]"
          ]
        },
        {
          "output_type": "stream",
          "name": "stdout",
          "text": [
            "3599 [D loss: 0.162430, acc.: 98.21%] [G loss: 1.946063]\n"
          ]
        },
        {
          "output_type": "stream",
          "name": "stderr",
          "text": [
            " 37%|███▋      | 3701/10000 [08:28<15:32,  6.76it/s]"
          ]
        },
        {
          "output_type": "stream",
          "name": "stdout",
          "text": [
            "3699 [D loss: 0.162024, acc.: 96.43%] [G loss: 1.967497]\n"
          ]
        },
        {
          "output_type": "stream",
          "name": "stderr",
          "text": [
            " 38%|███▊      | 3801/10000 [08:44<16:54,  6.11it/s]"
          ]
        },
        {
          "output_type": "stream",
          "name": "stdout",
          "text": [
            "3799 [D loss: 0.164508, acc.: 94.64%] [G loss: 2.006945]\n"
          ]
        },
        {
          "output_type": "stream",
          "name": "stderr",
          "text": [
            " 39%|███▉      | 3901/10000 [08:58<13:31,  7.51it/s]"
          ]
        },
        {
          "output_type": "stream",
          "name": "stdout",
          "text": [
            "3899 [D loss: 0.142525, acc.: 98.21%] [G loss: 2.170824]\n"
          ]
        },
        {
          "output_type": "stream",
          "name": "stderr",
          "text": [
            " 40%|████      | 4001/10000 [09:11<14:26,  6.93it/s]"
          ]
        },
        {
          "output_type": "stream",
          "name": "stdout",
          "text": [
            "3999 [D loss: 0.134298, acc.: 96.43%] [G loss: 2.163646]\n"
          ]
        },
        {
          "output_type": "stream",
          "name": "stderr",
          "text": [
            " 41%|████      | 4101/10000 [09:25<14:07,  6.96it/s]"
          ]
        },
        {
          "output_type": "stream",
          "name": "stdout",
          "text": [
            "4099 [D loss: 0.108674, acc.: 98.21%] [G loss: 2.323384]\n"
          ]
        },
        {
          "output_type": "stream",
          "name": "stderr",
          "text": [
            " 42%|████▏     | 4201/10000 [09:39<14:01,  6.89it/s]"
          ]
        },
        {
          "output_type": "stream",
          "name": "stdout",
          "text": [
            "4199 [D loss: 0.091289, acc.: 98.21%] [G loss: 2.437306]\n"
          ]
        },
        {
          "output_type": "stream",
          "name": "stderr",
          "text": [
            " 43%|████▎     | 4301/10000 [09:53<13:39,  6.96it/s]"
          ]
        },
        {
          "output_type": "stream",
          "name": "stdout",
          "text": [
            "4299 [D loss: 0.091453, acc.: 98.21%] [G loss: 2.535148]\n"
          ]
        },
        {
          "output_type": "stream",
          "name": "stderr",
          "text": [
            " 44%|████▍     | 4401/10000 [10:06<13:42,  6.80it/s]"
          ]
        },
        {
          "output_type": "stream",
          "name": "stdout",
          "text": [
            "4399 [D loss: 0.068406, acc.: 98.21%] [G loss: 2.646842]\n"
          ]
        },
        {
          "output_type": "stream",
          "name": "stderr",
          "text": [
            " 45%|████▌     | 4501/10000 [10:20<14:23,  6.36it/s]"
          ]
        },
        {
          "output_type": "stream",
          "name": "stdout",
          "text": [
            "4499 [D loss: 0.089060, acc.: 98.21%] [G loss: 2.579939]\n"
          ]
        },
        {
          "output_type": "stream",
          "name": "stderr",
          "text": [
            " 46%|████▌     | 4601/10000 [10:34<13:04,  6.88it/s]"
          ]
        },
        {
          "output_type": "stream",
          "name": "stdout",
          "text": [
            "4599 [D loss: 0.075872, acc.: 98.21%] [G loss: 2.868972]\n"
          ]
        },
        {
          "output_type": "stream",
          "name": "stderr",
          "text": [
            " 47%|████▋     | 4701/10000 [10:48<15:00,  5.88it/s]"
          ]
        },
        {
          "output_type": "stream",
          "name": "stdout",
          "text": [
            "4699 [D loss: 0.045425, acc.: 100.00%] [G loss: 2.804560]\n"
          ]
        },
        {
          "output_type": "stream",
          "name": "stderr",
          "text": [
            " 48%|████▊     | 4801/10000 [11:03<12:59,  6.67it/s]"
          ]
        },
        {
          "output_type": "stream",
          "name": "stdout",
          "text": [
            "4799 [D loss: 0.072529, acc.: 98.21%] [G loss: 2.840789]\n"
          ]
        },
        {
          "output_type": "stream",
          "name": "stderr",
          "text": [
            " 49%|████▉     | 4901/10000 [11:17<11:57,  7.11it/s]"
          ]
        },
        {
          "output_type": "stream",
          "name": "stdout",
          "text": [
            "4899 [D loss: 0.077435, acc.: 98.21%] [G loss: 3.004574]\n"
          ]
        },
        {
          "output_type": "stream",
          "name": "stderr",
          "text": [
            " 50%|█████     | 5001/10000 [11:31<12:20,  6.76it/s]"
          ]
        },
        {
          "output_type": "stream",
          "name": "stdout",
          "text": [
            "4999 [D loss: 0.071383, acc.: 98.21%] [G loss: 3.175972]\n"
          ]
        },
        {
          "output_type": "stream",
          "name": "stderr",
          "text": [
            " 51%|█████     | 5101/10000 [11:44<12:12,  6.69it/s]"
          ]
        },
        {
          "output_type": "stream",
          "name": "stdout",
          "text": [
            "5099 [D loss: 0.060124, acc.: 98.21%] [G loss: 3.227964]\n"
          ]
        },
        {
          "output_type": "stream",
          "name": "stderr",
          "text": [
            " 52%|█████▏    | 5201/10000 [11:58<11:03,  7.23it/s]"
          ]
        },
        {
          "output_type": "stream",
          "name": "stdout",
          "text": [
            "5199 [D loss: 0.059034, acc.: 98.21%] [G loss: 3.037355]\n"
          ]
        },
        {
          "output_type": "stream",
          "name": "stderr",
          "text": [
            " 53%|█████▎    | 5301/10000 [12:11<10:21,  7.56it/s]"
          ]
        },
        {
          "output_type": "stream",
          "name": "stdout",
          "text": [
            "5299 [D loss: 0.030480, acc.: 100.00%] [G loss: 3.444626]\n"
          ]
        },
        {
          "output_type": "stream",
          "name": "stderr",
          "text": [
            " 54%|█████▍    | 5401/10000 [12:24<10:34,  7.25it/s]"
          ]
        },
        {
          "output_type": "stream",
          "name": "stdout",
          "text": [
            "5399 [D loss: 0.046124, acc.: 98.21%] [G loss: 3.256224]\n"
          ]
        },
        {
          "output_type": "stream",
          "name": "stderr",
          "text": [
            " 55%|█████▌    | 5501/10000 [12:37<09:45,  7.68it/s]"
          ]
        },
        {
          "output_type": "stream",
          "name": "stdout",
          "text": [
            "5499 [D loss: 0.027569, acc.: 100.00%] [G loss: 3.326621]\n"
          ]
        },
        {
          "output_type": "stream",
          "name": "stderr",
          "text": [
            " 56%|█████▌    | 5601/10000 [12:50<09:50,  7.45it/s]"
          ]
        },
        {
          "output_type": "stream",
          "name": "stdout",
          "text": [
            "5599 [D loss: 0.035436, acc.: 98.21%] [G loss: 3.663266]\n"
          ]
        },
        {
          "output_type": "stream",
          "name": "stderr",
          "text": [
            " 57%|█████▋    | 5701/10000 [13:04<11:29,  6.24it/s]"
          ]
        },
        {
          "output_type": "stream",
          "name": "stdout",
          "text": [
            "5699 [D loss: 0.021726, acc.: 100.00%] [G loss: 3.483536]\n"
          ]
        },
        {
          "output_type": "stream",
          "name": "stderr",
          "text": [
            " 58%|█████▊    | 5801/10000 [13:18<10:09,  6.89it/s]"
          ]
        },
        {
          "output_type": "stream",
          "name": "stdout",
          "text": [
            "5799 [D loss: 0.028338, acc.: 100.00%] [G loss: 3.646339]\n"
          ]
        },
        {
          "output_type": "stream",
          "name": "stderr",
          "text": [
            " 59%|█████▉    | 5901/10000 [13:30<09:47,  6.98it/s]"
          ]
        },
        {
          "output_type": "stream",
          "name": "stdout",
          "text": [
            "5899 [D loss: 0.019482, acc.: 100.00%] [G loss: 3.796981]\n"
          ]
        },
        {
          "output_type": "stream",
          "name": "stderr",
          "text": [
            " 60%|██████    | 6001/10000 [13:44<09:23,  7.10it/s]"
          ]
        },
        {
          "output_type": "stream",
          "name": "stdout",
          "text": [
            "5999 [D loss: 0.023767, acc.: 100.00%] [G loss: 3.880907]\n"
          ]
        },
        {
          "output_type": "stream",
          "name": "stderr",
          "text": [
            " 61%|██████    | 6101/10000 [13:56<09:13,  7.05it/s]"
          ]
        },
        {
          "output_type": "stream",
          "name": "stdout",
          "text": [
            "6099 [D loss: 0.022611, acc.: 100.00%] [G loss: 3.898222]\n"
          ]
        },
        {
          "output_type": "stream",
          "name": "stderr",
          "text": [
            " 62%|██████▏   | 6201/10000 [14:10<08:43,  7.25it/s]"
          ]
        },
        {
          "output_type": "stream",
          "name": "stdout",
          "text": [
            "6199 [D loss: 0.025230, acc.: 100.00%] [G loss: 3.917617]\n"
          ]
        },
        {
          "output_type": "stream",
          "name": "stderr",
          "text": [
            " 63%|██████▎   | 6301/10000 [14:23<08:20,  7.39it/s]"
          ]
        },
        {
          "output_type": "stream",
          "name": "stdout",
          "text": [
            "6299 [D loss: 0.010964, acc.: 100.00%] [G loss: 4.496655]\n"
          ]
        },
        {
          "output_type": "stream",
          "name": "stderr",
          "text": [
            " 64%|██████▍   | 6401/10000 [14:36<09:10,  6.54it/s]"
          ]
        },
        {
          "output_type": "stream",
          "name": "stdout",
          "text": [
            "6399 [D loss: 0.016671, acc.: 100.00%] [G loss: 4.189613]\n"
          ]
        },
        {
          "output_type": "stream",
          "name": "stderr",
          "text": [
            " 65%|██████▌   | 6501/10000 [14:50<08:29,  6.86it/s]"
          ]
        },
        {
          "output_type": "stream",
          "name": "stdout",
          "text": [
            "6499 [D loss: 0.009461, acc.: 100.00%] [G loss: 4.314167]\n"
          ]
        },
        {
          "output_type": "stream",
          "name": "stderr",
          "text": [
            " 66%|██████▌   | 6601/10000 [15:05<10:12,  5.55it/s]"
          ]
        },
        {
          "output_type": "stream",
          "name": "stdout",
          "text": [
            "6599 [D loss: 0.009891, acc.: 100.00%] [G loss: 4.735273]\n"
          ]
        },
        {
          "output_type": "stream",
          "name": "stderr",
          "text": [
            " 67%|██████▋   | 6701/10000 [15:20<08:24,  6.54it/s]"
          ]
        },
        {
          "output_type": "stream",
          "name": "stdout",
          "text": [
            "6699 [D loss: 0.006706, acc.: 100.00%] [G loss: 4.639436]\n"
          ]
        },
        {
          "output_type": "stream",
          "name": "stderr",
          "text": [
            " 68%|██████▊   | 6801/10000 [15:34<07:36,  7.01it/s]"
          ]
        },
        {
          "output_type": "stream",
          "name": "stdout",
          "text": [
            "6799 [D loss: 0.006364, acc.: 100.00%] [G loss: 4.770263]\n"
          ]
        },
        {
          "output_type": "stream",
          "name": "stderr",
          "text": [
            " 69%|██████▉   | 6901/10000 [15:48<07:39,  6.74it/s]"
          ]
        },
        {
          "output_type": "stream",
          "name": "stdout",
          "text": [
            "6899 [D loss: 0.004400, acc.: 100.00%] [G loss: 5.086392]\n"
          ]
        },
        {
          "output_type": "stream",
          "name": "stderr",
          "text": [
            " 70%|███████   | 7001/10000 [16:02<07:30,  6.66it/s]"
          ]
        },
        {
          "output_type": "stream",
          "name": "stdout",
          "text": [
            "6999 [D loss: 0.009095, acc.: 100.00%] [G loss: 5.087515]\n"
          ]
        },
        {
          "output_type": "stream",
          "name": "stderr",
          "text": [
            " 71%|███████   | 7101/10000 [16:16<07:21,  6.56it/s]"
          ]
        },
        {
          "output_type": "stream",
          "name": "stdout",
          "text": [
            "7099 [D loss: 0.004544, acc.: 100.00%] [G loss: 5.390875]\n"
          ]
        },
        {
          "output_type": "stream",
          "name": "stderr",
          "text": [
            " 72%|███████▏  | 7201/10000 [16:29<06:58,  6.69it/s]"
          ]
        },
        {
          "output_type": "stream",
          "name": "stdout",
          "text": [
            "7199 [D loss: 0.005335, acc.: 100.00%] [G loss: 5.043765]\n"
          ]
        },
        {
          "output_type": "stream",
          "name": "stderr",
          "text": [
            " 73%|███████▎  | 7301/10000 [16:43<06:48,  6.61it/s]"
          ]
        },
        {
          "output_type": "stream",
          "name": "stdout",
          "text": [
            "7299 [D loss: 0.005391, acc.: 100.00%] [G loss: 5.458242]\n"
          ]
        },
        {
          "output_type": "stream",
          "name": "stderr",
          "text": [
            " 74%|███████▍  | 7401/10000 [16:57<06:34,  6.60it/s]"
          ]
        },
        {
          "output_type": "stream",
          "name": "stdout",
          "text": [
            "7399 [D loss: 0.004654, acc.: 100.00%] [G loss: 5.257377]\n"
          ]
        },
        {
          "output_type": "stream",
          "name": "stderr",
          "text": [
            " 75%|███████▌  | 7501/10000 [17:11<06:19,  6.59it/s]"
          ]
        },
        {
          "output_type": "stream",
          "name": "stdout",
          "text": [
            "7499 [D loss: 0.004605, acc.: 100.00%] [G loss: 5.600941]\n"
          ]
        },
        {
          "output_type": "stream",
          "name": "stderr",
          "text": [
            " 76%|███████▌  | 7601/10000 [17:27<06:30,  6.14it/s]"
          ]
        },
        {
          "output_type": "stream",
          "name": "stdout",
          "text": [
            "7599 [D loss: 0.004106, acc.: 100.00%] [G loss: 5.597289]\n"
          ]
        },
        {
          "output_type": "stream",
          "name": "stderr",
          "text": [
            " 77%|███████▋  | 7701/10000 [17:41<05:49,  6.58it/s]"
          ]
        },
        {
          "output_type": "stream",
          "name": "stdout",
          "text": [
            "7699 [D loss: 0.003633, acc.: 100.00%] [G loss: 5.847412]\n"
          ]
        },
        {
          "output_type": "stream",
          "name": "stderr",
          "text": [
            " 78%|███████▊  | 7801/10000 [17:55<04:55,  7.45it/s]"
          ]
        },
        {
          "output_type": "stream",
          "name": "stdout",
          "text": [
            "7799 [D loss: 0.001792, acc.: 100.00%] [G loss: 6.204491]\n"
          ]
        },
        {
          "output_type": "stream",
          "name": "stderr",
          "text": [
            " 79%|███████▉  | 7901/10000 [18:09<05:16,  6.63it/s]"
          ]
        },
        {
          "output_type": "stream",
          "name": "stdout",
          "text": [
            "7899 [D loss: 0.001827, acc.: 100.00%] [G loss: 6.266202]\n"
          ]
        },
        {
          "output_type": "stream",
          "name": "stderr",
          "text": [
            " 80%|████████  | 8001/10000 [18:22<05:11,  6.43it/s]"
          ]
        },
        {
          "output_type": "stream",
          "name": "stdout",
          "text": [
            "7999 [D loss: 0.001790, acc.: 100.00%] [G loss: 6.116663]\n"
          ]
        },
        {
          "output_type": "stream",
          "name": "stderr",
          "text": [
            " 81%|████████  | 8101/10000 [18:36<04:51,  6.51it/s]"
          ]
        },
        {
          "output_type": "stream",
          "name": "stdout",
          "text": [
            "8099 [D loss: 0.002060, acc.: 100.00%] [G loss: 6.436331]\n"
          ]
        },
        {
          "output_type": "stream",
          "name": "stderr",
          "text": [
            " 82%|████████▏ | 8201/10000 [18:50<04:19,  6.94it/s]"
          ]
        },
        {
          "output_type": "stream",
          "name": "stdout",
          "text": [
            "8199 [D loss: 0.001825, acc.: 100.00%] [G loss: 6.659437]\n"
          ]
        },
        {
          "output_type": "stream",
          "name": "stderr",
          "text": [
            " 83%|████████▎ | 8301/10000 [19:04<04:10,  6.77it/s]"
          ]
        },
        {
          "output_type": "stream",
          "name": "stdout",
          "text": [
            "8299 [D loss: 0.001663, acc.: 100.00%] [G loss: 6.588509]\n"
          ]
        },
        {
          "output_type": "stream",
          "name": "stderr",
          "text": [
            " 84%|████████▍ | 8401/10000 [19:18<03:50,  6.94it/s]"
          ]
        },
        {
          "output_type": "stream",
          "name": "stdout",
          "text": [
            "8399 [D loss: 0.000930, acc.: 100.00%] [G loss: 6.658383]\n"
          ]
        },
        {
          "output_type": "stream",
          "name": "stderr",
          "text": [
            " 85%|████████▌ | 8501/10000 [19:32<04:04,  6.12it/s]"
          ]
        },
        {
          "output_type": "stream",
          "name": "stdout",
          "text": [
            "8499 [D loss: 0.000900, acc.: 100.00%] [G loss: 6.671763]\n"
          ]
        },
        {
          "output_type": "stream",
          "name": "stderr",
          "text": [
            " 86%|████████▌ | 8601/10000 [19:47<03:25,  6.81it/s]"
          ]
        },
        {
          "output_type": "stream",
          "name": "stdout",
          "text": [
            "8599 [D loss: 0.000792, acc.: 100.00%] [G loss: 6.789002]\n"
          ]
        },
        {
          "output_type": "stream",
          "name": "stderr",
          "text": [
            " 87%|████████▋ | 8701/10000 [20:01<03:11,  6.77it/s]"
          ]
        },
        {
          "output_type": "stream",
          "name": "stdout",
          "text": [
            "8699 [D loss: 0.001087, acc.: 100.00%] [G loss: 6.931553]\n"
          ]
        },
        {
          "output_type": "stream",
          "name": "stderr",
          "text": [
            " 88%|████████▊ | 8801/10000 [20:14<02:37,  7.60it/s]"
          ]
        },
        {
          "output_type": "stream",
          "name": "stdout",
          "text": [
            "8799 [D loss: 0.001151, acc.: 100.00%] [G loss: 6.982143]\n"
          ]
        },
        {
          "output_type": "stream",
          "name": "stderr",
          "text": [
            " 89%|████████▉ | 8901/10000 [20:27<02:26,  7.51it/s]"
          ]
        },
        {
          "output_type": "stream",
          "name": "stdout",
          "text": [
            "8899 [D loss: 0.000540, acc.: 100.00%] [G loss: 7.019444]\n"
          ]
        },
        {
          "output_type": "stream",
          "name": "stderr",
          "text": [
            " 90%|█████████ | 9001/10000 [20:40<02:19,  7.17it/s]"
          ]
        },
        {
          "output_type": "stream",
          "name": "stdout",
          "text": [
            "8999 [D loss: 0.000561, acc.: 100.00%] [G loss: 7.061718]\n"
          ]
        },
        {
          "output_type": "stream",
          "name": "stderr",
          "text": [
            " 91%|█████████ | 9101/10000 [20:53<01:59,  7.50it/s]"
          ]
        },
        {
          "output_type": "stream",
          "name": "stdout",
          "text": [
            "9099 [D loss: 0.000515, acc.: 100.00%] [G loss: 7.290630]\n"
          ]
        },
        {
          "output_type": "stream",
          "name": "stderr",
          "text": [
            " 92%|█████████▏| 9201/10000 [21:06<01:47,  7.42it/s]"
          ]
        },
        {
          "output_type": "stream",
          "name": "stdout",
          "text": [
            "9199 [D loss: 0.000385, acc.: 100.00%] [G loss: 7.626902]\n"
          ]
        },
        {
          "output_type": "stream",
          "name": "stderr",
          "text": [
            " 93%|█████████▎| 9301/10000 [21:19<01:33,  7.50it/s]"
          ]
        },
        {
          "output_type": "stream",
          "name": "stdout",
          "text": [
            "9299 [D loss: 0.000472, acc.: 100.00%] [G loss: 7.813830]\n"
          ]
        },
        {
          "output_type": "stream",
          "name": "stderr",
          "text": [
            " 94%|█████████▍| 9401/10000 [21:32<01:23,  7.16it/s]"
          ]
        },
        {
          "output_type": "stream",
          "name": "stdout",
          "text": [
            "9399 [D loss: 0.000435, acc.: 100.00%] [G loss: 7.507371]\n"
          ]
        },
        {
          "output_type": "stream",
          "name": "stderr",
          "text": [
            " 95%|█████████▌| 9501/10000 [21:46<01:19,  6.29it/s]"
          ]
        },
        {
          "output_type": "stream",
          "name": "stdout",
          "text": [
            "9499 [D loss: 0.000360, acc.: 100.00%] [G loss: 7.996264]\n"
          ]
        },
        {
          "output_type": "stream",
          "name": "stderr",
          "text": [
            " 96%|█████████▌| 9601/10000 [22:00<00:56,  7.03it/s]"
          ]
        },
        {
          "output_type": "stream",
          "name": "stdout",
          "text": [
            "9599 [D loss: 0.000273, acc.: 100.00%] [G loss: 8.077944]\n"
          ]
        },
        {
          "output_type": "stream",
          "name": "stderr",
          "text": [
            " 97%|█████████▋| 9701/10000 [22:13<00:42,  7.05it/s]"
          ]
        },
        {
          "output_type": "stream",
          "name": "stdout",
          "text": [
            "9699 [D loss: 0.000338, acc.: 100.00%] [G loss: 8.129998]\n"
          ]
        },
        {
          "output_type": "stream",
          "name": "stderr",
          "text": [
            " 98%|█████████▊| 9801/10000 [22:26<00:27,  7.13it/s]"
          ]
        },
        {
          "output_type": "stream",
          "name": "stdout",
          "text": [
            "9799 [D loss: 0.000382, acc.: 100.00%] [G loss: 8.060019]\n"
          ]
        },
        {
          "output_type": "stream",
          "name": "stderr",
          "text": [
            " 99%|█████████▉| 9901/10000 [22:40<00:14,  7.07it/s]"
          ]
        },
        {
          "output_type": "stream",
          "name": "stdout",
          "text": [
            "9899 [D loss: 0.000311, acc.: 100.00%] [G loss: 8.414644]\n"
          ]
        },
        {
          "output_type": "stream",
          "name": "stderr",
          "text": [
            "100%|██████████| 10000/10000 [22:54<00:00,  7.28it/s]"
          ]
        },
        {
          "output_type": "stream",
          "name": "stdout",
          "text": [
            "9999 [D loss: 0.000218, acc.: 100.00%] [G loss: 8.242404]\n"
          ]
        },
        {
          "output_type": "stream",
          "name": "stderr",
          "text": [
            "\n"
          ]
        }
      ],
      "source": [
        "# create the gan\n",
        "gan_model = define_gan(generator, discriminator)\n",
        "# train model\n",
        "train(generator, discriminator, gan_model, latent_dim)"
      ]
    },
    {
      "cell_type": "markdown",
      "source": [
        "# Evaluation"
      ],
      "metadata": {
        "id": "V1n0vGcDZZkD"
      },
      "id": "V1n0vGcDZZkD"
    },
    {
      "cell_type": "code",
      "source": [
        "synth_norm_list = []\n",
        "for i in tqdm(range(1, 101)):\n",
        "  generator.load_weights('/content/drive/MyDrive/Thesis/model/normal_gan/563_meal_0.0005/generator_weights_' + str(i*100) + '.h5')\n",
        "\n",
        "  synth, _ = generate_fake_samples(generator, 54)\n",
        "  synth = synth.reshape(54,288)\n",
        "\n",
        "  synth_norm_list.append(synth)"
      ],
      "metadata": {
        "colab": {
          "base_uri": "https://localhost:8080/"
        },
        "id": "DZcTslcTZn4P",
        "outputId": "db5a6d65-05ad-4957-c3cd-160211a61a62"
      },
      "id": "DZcTslcTZn4P",
      "execution_count": null,
      "outputs": [
        {
          "output_type": "stream",
          "name": "stderr",
          "text": [
            "100%|██████████| 100/100 [01:01<00:00,  1.61it/s]\n"
          ]
        }
      ]
    },
    {
      "cell_type": "code",
      "source": [
        "# save normalized synthetic data\n",
        "np.save(\"/content/drive/MyDrive/Thesis/best model/normgan_meal/563_normalized.npy\",synth_norm_list)"
      ],
      "metadata": {
        "id": "6H_jVunPctUG"
      },
      "id": "6H_jVunPctUG",
      "execution_count": null,
      "outputs": []
    },
    {
      "cell_type": "code",
      "source": [
        "for i in range(len(synth_norm_list)):\n",
        "  synth_norm_list[i] = scaler.inverse_transform(synth_norm_list[i])"
      ],
      "metadata": {
        "id": "8sNMUhaBXwuv"
      },
      "id": "8sNMUhaBXwuv",
      "execution_count": null,
      "outputs": []
    },
    {
      "cell_type": "code",
      "source": [
        "# save unnormalized synthetic data\n",
        "np.save(\"/content/drive/MyDrive/Thesis/best model/normgan_meal/563_unnormalized.npy\",synth_norm_list)"
      ],
      "metadata": {
        "id": "TINLfvX2qSIi"
      },
      "id": "TINLfvX2qSIi",
      "execution_count": null,
      "outputs": []
    },
    {
      "cell_type": "markdown",
      "source": [
        "bitmap"
      ],
      "metadata": {
        "id": "ZBF8NjYhZSEq"
      },
      "id": "ZBF8NjYhZSEq"
    },
    {
      "cell_type": "code",
      "source": [
        "synth_normgan_nonnorm = np.load(\"/content/drive/MyDrive/Thesis/best model/normgan_meal/563_unnormalized.npy\")\n",
        "synth_normgan_norm = np.load(\"/content/drive/MyDrive/Thesis/best model/normgan_meal/563_normalized.npy\")\n",
        "synth_timegan_nonnorm = np.load(\"/content/drive/MyDrive/Thesis/best model/timegan_563_128/synthetic_data_nonorm.npy\")\n",
        "synth_timegan_norm = np.load(\"/content/drive/MyDrive/Thesis/best model/timegan_563_128/synthetic_data.npy\")\n",
        "real_ori = scaler.inverse_transform(meal_563)"
      ],
      "metadata": {
        "id": "NeorJQpCdRYs"
      },
      "id": "NeorJQpCdRYs",
      "execution_count": null,
      "outputs": []
    },
    {
      "cell_type": "code",
      "source": [
        "def seqAverage(ts, n, feature_window_size):\n",
        "\n",
        "    sub_ts_list = []\n",
        "\n",
        "    for i in range(0, n - n % feature_window_size, feature_window_size):\n",
        "        sub_ts = ts[i: i + feature_window_size]\n",
        "        sub_ts_list.append(sub_ts.mean())\n",
        "    \n",
        "    return pd.DataFrame(sub_ts_list)"
      ],
      "metadata": {
        "id": "CD0udmxAhl3q"
      },
      "id": "CD0udmxAhl3q",
      "execution_count": null,
      "outputs": []
    },
    {
      "cell_type": "code",
      "source": [
        "# discretize y values\n",
        "def discretize(ts, bins=None, global_min=None, global_max=None):\n",
        "    ts = seqAverage(ts, 288, 6)\n",
        "\n",
        "    if np.isscalar(bins):\n",
        "        num_bins = bins\n",
        "\n",
        "        min_value = ts.min()[0]\n",
        "        #print(min_value)\n",
        "        max_value = ts.max()[0]\n",
        "        #print(max_value)\n",
        "        if min_value == max_value:\n",
        "            min_value = global_min\n",
        "            max_value = global_max\n",
        "        step = (max_value - min_value) / num_bins\n",
        "        ts_bins = np.arange(min_value, max_value, step)\n",
        "    else:\n",
        "        ts_bins = bins\n",
        "\n",
        "    inds = np.digitize(ts, ts_bins)\n",
        "    binned_ts = tuple(str(i - 1) for i in inds)\n",
        "    return binned_ts"
      ],
      "metadata": {
        "id": "iSmlzrw6K2eY"
      },
      "id": "iSmlzrw6K2eY",
      "execution_count": null,
      "outputs": []
    },
    {
      "cell_type": "code",
      "source": [
        "def get_bitmap(chunk, level_size=2):\n",
        "    \"\"\"\n",
        "\n",
        "    :param str chunk: symbol sequence representation of a univariate time series\n",
        "    :param int level_size: desired level of recursion of the bitmap\n",
        "    :return : bitmap representation of `chunk`\n",
        "    \"\"\"\n",
        "    bitmap = defaultdict(int)\n",
        "    n = len(chunk)\n",
        "\n",
        "    for i in range(n):\n",
        "        if i <= n - level_size:\n",
        "            feat = chunk[i: i + level_size]\n",
        "            bitmap[feat] += 1  # frequency count\n",
        "    max_freq = max(bitmap.values())\n",
        "    for feat in bitmap.keys():\n",
        "        #print(bitmap[feat])\n",
        "        #print(max_freq)\n",
        "        bitmap[feat] = bitmap[feat] / max_freq\n",
        "    return bitmap"
      ],
      "metadata": {
        "id": "K4uieg9jLFDh"
      },
      "id": "K4uieg9jLFDh",
      "execution_count": null,
      "outputs": []
    },
    {
      "cell_type": "code",
      "execution_count": null,
      "id": "532c3949-37f8-42e1-970c-f7815805800c",
      "metadata": {
        "id": "532c3949-37f8-42e1-970c-f7815805800c"
      },
      "outputs": [],
      "source": [
        "def imageList(bitmap):\n",
        "  final_list = [[0 for i in range(4)] for j in range(4)]\n",
        "  for key, value in bitmap.items():\n",
        "      num1 = int(key[0][1])\n",
        "      num2 = int(key[1][1])\n",
        "      \n",
        "      if num1 == 0:\n",
        "          if num2 == 0:\n",
        "              final_list[0][0] = value\n",
        "          elif num2 == 1:\n",
        "              final_list[0][1] = value\n",
        "          elif num2 == 2:\n",
        "              final_list[1][0] = value\n",
        "          elif num2 == 3:\n",
        "              final_list[1][1] = value\n",
        "      elif num1 == 1:\n",
        "          if num2 == 0:\n",
        "              final_list[0][2] = value\n",
        "          elif num2 == 1:\n",
        "              final_list[0][3] = value\n",
        "          elif num2 == 2:\n",
        "              final_list[1][2] = value\n",
        "          elif num2 == 3:\n",
        "              final_list[1][3] = value\n",
        "      elif num1 == 2:\n",
        "          if num2 == 0:\n",
        "              final_list[2][0] = value\n",
        "          elif num2 == 1:\n",
        "              final_list[2][1] = value\n",
        "          elif num2 == 2:\n",
        "              final_list[3][0] = value\n",
        "          elif num2 == 3:\n",
        "              final_list[3][1] = value\n",
        "      elif num1 == 3:\n",
        "          if num2 == 0:\n",
        "              final_list[2][2] = value\n",
        "          elif num2 == 1:\n",
        "              final_list[2][3] = value\n",
        "          elif num2 == 2:\n",
        "              final_list[3][2] = value\n",
        "          elif num2 == 3:\n",
        "              final_list[3][3] = value\n",
        "  \n",
        "  return final_list"
      ]
    },
    {
      "cell_type": "code",
      "source": [
        "def showImage(final_list):\n",
        "  plt.imshow(final_list, cmap='jet', interpolation='nearest')\n",
        "  plt.colorbar()\n",
        "  plt.axis('off')\n",
        "  plt.show()"
      ],
      "metadata": {
        "id": "_Y6hBDmt9H7Y"
      },
      "id": "_Y6hBDmt9H7Y",
      "execution_count": null,
      "outputs": []
    },
    {
      "cell_type": "code",
      "source": [
        "# average value of original data from all days\n",
        "total_ori = []\n",
        "list_mean_ori = 0\n",
        "for i in range(54):\n",
        "  bitmap_ori = get_bitmap(discretize(pd.DataFrame(meal_563[i]), 4))\n",
        "  total_ori.append(imageList(bitmap_ori))\n",
        "\n",
        "for i in range(len(total_ori)):\n",
        "  list_mean_ori = list_mean_ori + np.array(total_ori[i])\n",
        "  list_mean_ori = list_mean_ori/len(total_ori)"
      ],
      "metadata": {
        "id": "vYgSt7pF9c8o"
      },
      "id": "vYgSt7pF9c8o",
      "execution_count": null,
      "outputs": []
    },
    {
      "cell_type": "code",
      "source": [
        "# average value of TimeGAN synthetic data from all days\n",
        "total_timegan = []\n",
        "list_mean_timegan = 0\n",
        "for i in range(54):\n",
        "  bitmap_timegan = get_bitmap(discretize(pd.DataFrame(synth_timegan_norm[9][2][i][:,1]), 4))\n",
        "  total_timegan.append(imageList(bitmap_timegan))\n",
        "\n",
        "for i in range(len(total_timegan)):\n",
        "  list_mean_timegan = list_mean_timegan + np.array(total_timegan[i])\n",
        "  list_mean_timegan = list_mean_timegan/len(total_timegan)"
      ],
      "metadata": {
        "id": "kI2oEigmLoBW"
      },
      "id": "kI2oEigmLoBW",
      "execution_count": null,
      "outputs": []
    },
    {
      "cell_type": "code",
      "source": [
        "# average value of normal GAN synthetic data from all days\n",
        "total_normgan = []\n",
        "list_mean_normgan = 0\n",
        "for i in range(54):\n",
        "  bitmap_normgan = get_bitmap(discretize(pd.DataFrame(synth_normgan_norm[90][i]), 4))\n",
        "  total_normgan.append(imageList(bitmap_normgan))\n",
        "\n",
        "for i in range(len(total_normgan)):\n",
        "  list_mean_normgan = list_mean_normgan + np.array(total_normgan[i])\n",
        "  list_mean_normgan = list_mean_normgan/len(total_normgan)"
      ],
      "metadata": {
        "id": "sVWaHFNHmK9i"
      },
      "id": "sVWaHFNHmK9i",
      "execution_count": null,
      "outputs": []
    },
    {
      "cell_type": "code",
      "source": [
        "showImage(list_mean_ori)"
      ],
      "metadata": {
        "id": "otB6i0cXZR8S",
        "colab": {
          "base_uri": "https://localhost:8080/",
          "height": 415
        },
        "outputId": "08f980e8-89a5-4e77-fb6d-c94a9c0b126d"
      },
      "id": "otB6i0cXZR8S",
      "execution_count": null,
      "outputs": [
        {
          "output_type": "display_data",
          "data": {
            "text/plain": [
              "<Figure size 640x480 with 2 Axes>"
            ],
            "image/png": "[encoded data removed]"
          },
          "metadata": {}
        }
      ]
    },
    {
      "cell_type": "code",
      "source": [
        "showImage(list_mean_timegan)"
      ],
      "metadata": {
        "colab": {
          "base_uri": "https://localhost:8080/",
          "height": 406
        },
        "id": "TiU5Y4fGaaQp",
        "outputId": "15d3208c-ad19-4460-b7bf-58a1bb2700c2"
      },
      "id": "TiU5Y4fGaaQp",
      "execution_count": null,
      "outputs": [
        {
          "output_type": "display_data",
          "data": {
            "text/plain": [
              "<Figure size 640x480 with 2 Axes>"
            ],
            "image/png": "[encoded data removed]"
          },
          "metadata": {}
        }
      ]
    },
    {
      "cell_type": "code",
      "source": [
        "showImage(list_mean_normgan)"
      ],
      "metadata": {
        "colab": {
          "base_uri": "https://localhost:8080/",
          "height": 415
        },
        "id": "XUl6-bCQadnW",
        "outputId": "14b7d3f6-117e-4afe-d774-3c855c48cc1a"
      },
      "id": "XUl6-bCQadnW",
      "execution_count": null,
      "outputs": [
        {
          "output_type": "display_data",
          "data": {
            "text/plain": [
              "<Figure size 640x480 with 2 Axes>"
            ],
            "image/png": "[encoded data removed]"
          },
          "metadata": {}
        }
      ]
    },
    {
      "cell_type": "code",
      "source": [
        "cols = 'meal event (Patient 563)'\n",
        "\n",
        "df = pd.DataFrame({'Real': real_ori[52], 'Synthetic_normGAN': synth_normgan_nonnorm[90][52], 'Synthetic_TimeGAN': synth_timegan_nonnorm[9][2][52][:, 1]})\n",
        "df.plot(title = cols,\n",
        "        secondary_y='Synthetic data', style=['-'])"
      ],
      "metadata": {
        "colab": {
          "base_uri": "https://localhost:8080/",
          "height": 470
        },
        "id": "8ezvsmuxaf-4",
        "outputId": "061a27f7-d9ba-496f-e0e8-d4931a02668d"
      },
      "id": "8ezvsmuxaf-4",
      "execution_count": null,
      "outputs": [
        {
          "output_type": "execute_result",
          "data": {
            "text/plain": [
              "<Axes: title={'center': 'meal event (Patient 563)'}>"
            ]
          },
          "metadata": {},
          "execution_count": 54
        },
        {
          "output_type": "display_data",
          "data": {
            "text/plain": [
              "<Figure size 640x480 with 1 Axes>"
            ],
            "image/png": "[encoded data removed]"
          },
          "metadata": {}
        }
      ]
    },
    {
      "cell_type": "code",
      "source": [
        "synth_normgan_nonnorm = np.load(\"/content/drive/MyDrive/Thesis/best model/normgan_meal/563_unnormalized.npy\")\n",
        "synth_normgan_norm = np.load(\"/content/drive/MyDrive/Thesis/best model/normgan_meal/563_normalized.npy\")\n",
        "synth_timegan_nonnorm = np.load(\"/content/drive/MyDrive/Thesis/best model/timegan_563_128/synthetic_data_nonorm.npy\")\n",
        "synth_timegan_norm = np.load(\"/content/drive/MyDrive/Thesis/best model/timegan_563_128/synthetic_data.npy\")"
      ],
      "metadata": {
        "id": "GqkSRomWa25B"
      },
      "id": "GqkSRomWa25B",
      "execution_count": null,
      "outputs": []
    },
    {
      "cell_type": "code",
      "source": [
        "def getSVM(lamda, times):\n",
        "  # value < 0.01 -> 0\n",
        "  for i in range(len(meal_563)):\n",
        "    for j in range(len(meal_563[0])):\n",
        "      if abs(synth_timegan_norm[9][2][i][j,1]) < lamda:\n",
        "        synth_timegan_norm[9][2][i][j,1] = 0\n",
        "      if abs(synth_normgan_norm[90][i][j]) < lamda:\n",
        "        synth_normgan_norm[90][i][j] = 0\n",
        "\n",
        "  x_real_norm = meal_563.tolist()\n",
        "  y_real_norm = my_list = [1]*54\n",
        "  x_real_time = meal_563.tolist()\n",
        "  y_real_time = my_list = [1]*54\n",
        "\n",
        "  x_timegan = [synth_timegan_norm[9][2][i][:,1].tolist() for i in range(54)]\n",
        "  y_timegan = [0]*54\n",
        "  x_normgan = synth_normgan_norm[90]\n",
        "  y_normgan = [0]*54\n",
        "\n",
        "\n",
        "  x_real_norm.extend(x_normgan)\n",
        "  y_real_norm.extend(y_normgan)\n",
        "  x_real_time.extend(x_timegan)\n",
        "  y_real_time.extend(y_timegan)\n",
        "\n",
        "  accuracy_norm = []\n",
        "  accuracy_time = []\n",
        "  for i in range(times):\n",
        "    numbers = list(range(108))\n",
        "    num_selected_70 = random.sample(numbers, int(0.7*len(numbers)))\n",
        "    num_selected_30 = list(set(numbers) - set(num_selected_70))\n",
        "\n",
        "    training_x_norm = [x_real_norm[num_selected_70[i]] for i in range(len(num_selected_70))]\n",
        "    test_x_norm = [x_real_norm[num_selected_30[i]] for i in range(len(num_selected_30))]\n",
        "    training_y_norm = [y_real_norm[num_selected_70[i]] for i in range(len(num_selected_70))]\n",
        "    test_y_norm = [y_real_norm[num_selected_30[i]] for i in range(len(num_selected_30))]\n",
        "\n",
        "\n",
        "    training_x_time = [x_real_time[num_selected_70[i]] for i in range(len(num_selected_70))]\n",
        "    test_x_time = [x_real_time[num_selected_30[i]] for i in range(len(num_selected_30))]\n",
        "    training_y_time = [y_real_time[num_selected_70[i]] for i in range(len(num_selected_70))]\n",
        "    test_y_time = [y_real_time[num_selected_30[i]] for i in range(len(num_selected_30))]\n",
        "\n",
        "    \n",
        "    classifier_norm = svm.SVC()\n",
        "    classifier_time = svm.SVC()\n",
        "\n",
        "    # Train the classifier on the training data\n",
        "    classifier_norm.fit(training_x_norm, training_y_norm)\n",
        "    classifier_time.fit(training_x_time, training_y_time)\n",
        "\n",
        "    # Predict the labels of the test data\n",
        "    y_pred_norm = classifier_norm.predict(test_x_norm)\n",
        "    y_pred_time = classifier_time.predict(test_x_time)\n",
        "\n",
        "    # Calculate the accuracy and F1 score of the classifier\n",
        "    accuracy_norm.append(metrics.accuracy_score(test_y_norm, y_pred_norm))\n",
        "    accuracy_time.append(metrics.accuracy_score(test_y_time, y_pred_time))\n",
        "\n",
        "  return accuracy_norm, accuracy_time"
      ],
      "metadata": {
        "id": "JXGkIeVFcBCq"
      },
      "id": "JXGkIeVFcBCq",
      "execution_count": null,
      "outputs": []
    },
    {
      "cell_type": "code",
      "source": [
        "acc_norm_0, acc_time_0 = getSVM(0, 10)\n",
        "acc_norm_1e2, acc_time_1e2 = getSVM(0.01, 10)\n",
        "acc_norm_2, acc_time_2 = getSVM(0.02, 10)\n",
        "acc_norm_5, acc_time_5 = getSVM(0.05, 10)\n",
        "acc_norm_1, acc_time_1 = getSVM(0.1, 10)"
      ],
      "metadata": {
        "id": "nLtQk3GMcTBd"
      },
      "id": "nLtQk3GMcTBd",
      "execution_count": null,
      "outputs": []
    },
    {
      "cell_type": "code",
      "source": [
        "\n",
        "λ = [0,0.01,0.02,0.05,0.1,0,0.01,0.02,0.05,0.1]\n",
        "model_type = ['normGAN','normGAN','normGAN','normGAN','normGAN','TimeGAN','TimeGAN','TimeGAN','TimeGAN','TimeGAN']\n",
        "acc = [mean(acc_norm_0), mean(acc_norm_1e2), mean(acc_norm_2), mean(acc_norm_5), mean(acc_norm_1), mean(acc_time_0), mean(acc_time_1e2), mean(acc_time_2), mean(acc_time_5), mean(acc_time_1)]\n",
        "df_svm = pd.DataFrame(list(zip(λ, model_type, acc)), columns = ['λ', 'model', 'acc'])\n",
        "\n",
        "ax = sns.barplot(x=\"model\", y=\"acc\", hue=\"λ\", data=df_svm, width=0.5)\n",
        "\n",
        "ax.set_ylim([0.9, 1])\n",
        "ax.set_yticks([0.9, 0.92, 0.94, 0.96, 0.98, 1.0])\n",
        "ax.set_xlabel(\"Model type\")\n",
        "ax.set_ylabel(\"Accuracy\")\n",
        "plt.show()"
      ],
      "metadata": {
        "colab": {
          "base_uri": "https://localhost:8080/",
          "height": 455
        },
        "id": "Gy1ajS_ScTYY",
        "outputId": "9b344617-d476-4d8a-8974-c172c5dae394"
      },
      "id": "Gy1ajS_ScTYY",
      "execution_count": null,
      "outputs": [
        {
          "output_type": "display_data",
          "data": {
            "text/plain": [
              "<Figure size 640x480 with 1 Axes>"
            ],
            "image/png": "[encoded data removed]"
          },
          "metadata": {}
        }
      ]
    },
    {
      "cell_type": "code",
      "source": [],
      "metadata": {
        "id": "oVPu1it_cU7P"
      },
      "id": "oVPu1it_cU7P",
      "execution_count": null,
      "outputs": []
    }
  ],
  "metadata": {
    "kernelspec": {
      "display_name": "Python 3 (ipykernel)",
      "language": "python",
      "name": "python3"
    },
    "language_info": {
      "codemirror_mode": {
        "name": "ipython",
        "version": 3
      },
      "file_extension": ".py",
      "mimetype": "text/x-python",
      "name": "python",
      "nbconvert_exporter": "python",
      "pygments_lexer": "ipython3",
      "version": "3.9.13"
    },
    "colab": {
      "provenance": [],
      "machine_shape": "hm",
      "gpuClass": "premium"
    },
    "gpuClass": "premium"
  },
  "nbformat": 4,
  "nbformat_minor": 5
}