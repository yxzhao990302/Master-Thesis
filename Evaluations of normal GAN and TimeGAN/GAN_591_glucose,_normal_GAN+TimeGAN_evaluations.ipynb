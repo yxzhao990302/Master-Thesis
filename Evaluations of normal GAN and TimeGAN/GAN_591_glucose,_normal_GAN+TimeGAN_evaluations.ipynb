{
  "cells": [
    {
      "cell_type": "code",
      "execution_count": null,
      "id": "6a1cd663-ce3a-4fa6-b032-274843aa106c",
      "metadata": {
        "id": "6a1cd663-ce3a-4fa6-b032-274843aa106c"
      },
      "outputs": [],
      "source": [
        "# train a generative adversarial network on a one-dimensional function\n",
        "import pandas as pd\n",
        "from numpy import hstack\n",
        "import numpy as np\n",
        "from datetime import datetime\n",
        "from numpy import zeros\n",
        "from numpy import ones\n",
        "import random\n",
        "from numpy.random import rand\n",
        "from numpy.random import randn\n",
        "from keras.models import Sequential\n",
        "from keras import Input\n",
        "from keras.layers import Dense, Conv1D, LeakyReLU, Reshape, UpSampling1D\n",
        "from keras.optimizers import Adam\n",
        "from matplotlib import pyplot\n",
        "import matplotlib.pyplot as plt \n",
        "from tqdm import tqdm\n",
        "from tensorflow import keras\n",
        "from keras.models import save_model, load_model\n",
        "from statistics import mean, variance, pstdev\n",
        "from sklearn.preprocessing import MinMaxScaler\n",
        "from statistics import mean, variance, pstdev\n",
        "from scipy.spatial import distance\n",
        "from scipy.stats import wilcoxon\n",
        "from dtaidistance import dtw\n",
        "from sklearn.decomposition import PCA\n",
        "from sklearn.manifold import TSNE\n",
        "import matplotlib.gridspec as gridspec\n",
        "import seaborn as sns\n",
        "import math"
      ]
    },
    {
      "cell_type": "code",
      "source": [
        "!pip install dtaidistance"
      ],
      "metadata": {
        "colab": {
          "base_uri": "https://localhost:8080/"
        },
        "id": "H3Xq6U40jMe_",
        "outputId": "c7c28879-ab5b-4308-f3a9-44d19ac871a5"
      },
      "id": "H3Xq6U40jMe_",
      "execution_count": null,
      "outputs": [
        {
          "output_type": "stream",
          "name": "stdout",
          "text": [
            "Looking in indexes: https://pypi.org/simple, https://us-python.pkg.dev/colab-wheels/public/simple/\n",
            "Collecting dtaidistance\n",
            "  Downloading dtaidistance-2.3.10-cp310-cp310-manylinux_2_17_x86_64.manylinux2014_x86_64.whl (2.4 MB)\n",
            "\u001b[2K     \u001b[90m━━━━━━━━━━━━━━━━━━━━━━━━━━━━━━━━━━━━━━━━\u001b[0m \u001b[32m2.4/2.4 MB\u001b[0m \u001b[31m5.5 MB/s\u001b[0m eta \u001b[36m0:00:00\u001b[0m\n",
            "\u001b[?25hRequirement already satisfied: numpy in /usr/local/lib/python3.10/dist-packages (from dtaidistance) (1.22.4)\n",
            "Installing collected packages: dtaidistance\n",
            "Successfully installed dtaidistance-2.3.10\n"
          ]
        }
      ]
    },
    {
      "cell_type": "code",
      "source": [
        "from google.colab import drive\n",
        "\n",
        "drive.mount('/content/drive')"
      ],
      "metadata": {
        "colab": {
          "base_uri": "https://localhost:8080/"
        },
        "id": "J-wRkyVB-ZTu",
        "outputId": "34798c35-0792-4e61-c029-f555a66a8f00"
      },
      "id": "J-wRkyVB-ZTu",
      "execution_count": null,
      "outputs": [
        {
          "output_type": "stream",
          "name": "stdout",
          "text": [
            "Mounted at /content/drive\n"
          ]
        }
      ]
    },
    {
      "cell_type": "code",
      "execution_count": null,
      "id": "b857585e-6da2-4ba6-ae42-7619672cf9e7",
      "metadata": {
        "id": "b857585e-6da2-4ba6-ae42-7619672cf9e7"
      },
      "outputs": [],
      "source": [
        "LENGTH_INPUT = 288\n",
        "latent_dim = 500"
      ]
    },
    {
      "cell_type": "markdown",
      "id": "88ea179b-736e-409f-a40d-84b3910af564",
      "metadata": {
        "id": "88ea179b-736e-409f-a40d-84b3910af564"
      },
      "source": [
        "# Prepare training data"
      ]
    },
    {
      "cell_type": "code",
      "execution_count": null,
      "id": "aa56387d-d5d5-4dba-8e90-c8e8086e73a2",
      "metadata": {
        "id": "aa56387d-d5d5-4dba-8e90-c8e8086e73a2"
      },
      "outputs": [],
      "source": [
        "df_591 =  pd.read_csv('/content/drive/MyDrive/Thesis/processed data/591.csv')"
      ]
    },
    {
      "cell_type": "code",
      "execution_count": null,
      "id": "98e176ab-1bed-4e88-8775-288291f4f545",
      "metadata": {
        "id": "98e176ab-1bed-4e88-8775-288291f4f545"
      },
      "outputs": [],
      "source": [
        "df_591['time'] = pd.to_datetime(df_591['time'], dayfirst=True)"
      ]
    },
    {
      "cell_type": "code",
      "execution_count": null,
      "id": "e3d1c33b-21a3-4e2e-8b22-8dee1b477e14",
      "metadata": {
        "id": "e3d1c33b-21a3-4e2e-8b22-8dee1b477e14"
      },
      "outputs": [],
      "source": [
        "df_591['date'] = df_591['time'].apply(lambda x: x.date())\n",
        "dates = df_591['date'].unique()\n",
        "glucose_591 = []\n",
        "for date in dates:\n",
        "  glucose_591.append(df_591[df_591['date'] == date]['glucose_value'].values)"
      ]
    },
    {
      "cell_type": "code",
      "source": [
        "scaler = MinMaxScaler().fit(glucose_591)\n",
        "glucose_591 = scaler.transform(glucose_591)"
      ],
      "metadata": {
        "id": "JqHy8TStAN9u"
      },
      "id": "JqHy8TStAN9u",
      "execution_count": null,
      "outputs": []
    },
    {
      "cell_type": "code",
      "execution_count": null,
      "id": "4b49b5ca-8628-41f6-8a57-6c0cd025831b",
      "metadata": {
        "id": "4b49b5ca-8628-41f6-8a57-6c0cd025831b"
      },
      "outputs": [],
      "source": [
        "glucose_591 = np.array(glucose_591)\n",
        "y = ones((55, 1))"
      ]
    },
    {
      "cell_type": "markdown",
      "id": "c0bf7b7b-097e-4379-bc3c-76bd04d57b25",
      "metadata": {
        "id": "c0bf7b7b-097e-4379-bc3c-76bd04d57b25"
      },
      "source": [
        "# Model Architecture"
      ]
    },
    {
      "cell_type": "code",
      "execution_count": null,
      "id": "a9e75e84-1cd4-43f1-aca8-b6e6f6022304",
      "metadata": {
        "id": "a9e75e84-1cd4-43f1-aca8-b6e6f6022304"
      },
      "outputs": [],
      "source": [
        "# define the standalone discriminator model\n",
        "def define_discriminator():\n",
        "    model = Sequential()\n",
        "    \n",
        "    # Dense layer\n",
        "    model.add(Dense(1, input_shape=(288,1)))\n",
        "    model.add(LeakyReLU())\n",
        "    \n",
        "    # Convolutional layer with LeakyReLU activation\n",
        "    model.add(Conv1D(32, kernel_size=4, strides=2, padding='same'))\n",
        "    model.add(LeakyReLU())\n",
        "\n",
        "    # Convolutional layer with LeakyReLU activation\n",
        "    model.add(Conv1D(32, kernel_size=2, strides=2, padding='same'))\n",
        "    model.add(LeakyReLU())\n",
        "    \n",
        "    # Reshape layer\n",
        "    model.add(Reshape((2304,)))\n",
        "    \n",
        "    # Dense layer\n",
        "    model.add(Dense(1, activation='sigmoid'))\n",
        "\n",
        "    opt = Adam(lr=0.0005)\n",
        "    # compile model\n",
        "    model.compile(loss='binary_crossentropy', optimizer=opt, metrics=['accuracy'])\n",
        "    return model"
      ]
    },
    {
      "cell_type": "code",
      "execution_count": null,
      "id": "099c6ec7-5225-4957-bdfc-e5032cd688fd",
      "metadata": {
        "id": "099c6ec7-5225-4957-bdfc-e5032cd688fd"
      },
      "outputs": [],
      "source": [
        "# define the standalone generator model\n",
        "def define_generator():\n",
        "    model = Sequential()\n",
        "    \n",
        "    # Dense layer\n",
        "    model.add(Dense(3600, input_shape=(latent_dim,)))\n",
        "    model.add(LeakyReLU())\n",
        "    \n",
        "    # Reshape layer\n",
        "    model.add(Reshape((72, 50)))\n",
        "    \n",
        "    # Upsampling layer\n",
        "    model.add(UpSampling1D(size=4))\n",
        "    \n",
        "    # Convolutional layer\n",
        "    model.add(Conv1D(filters=32, kernel_size=2, strides=2, padding='same'))\n",
        "    \n",
        "    # Upsampling layer\n",
        "    model.add(UpSampling1D(size=4))\n",
        "    \n",
        "    # Convolutional layer + leaky relu layer\n",
        "    model.add(Conv1D(filters=32, kernel_size=2, strides=2, padding='same'))\n",
        "    model.add(LeakyReLU())\n",
        "    \n",
        "    # Convolutional layer\n",
        "    model.add(Conv1D(filters=1, kernel_size=1, padding='same'))\n",
        "    \n",
        "    model.compile(optimizer='adam')\n",
        "\n",
        "    return model"
      ]
    },
    {
      "cell_type": "code",
      "execution_count": null,
      "id": "953d1808-87ed-407a-8b83-de4d5691df1c",
      "metadata": {
        "id": "953d1808-87ed-407a-8b83-de4d5691df1c"
      },
      "outputs": [],
      "source": [
        "# define the combined generator and discriminator model, for updating the generator\n",
        "def define_gan(generator, discriminator):\n",
        "    # make weights in the discriminator not trainable\n",
        "    discriminator.trainable = False\n",
        "    # connect them\n",
        "    model = Sequential()\n",
        "    model.add(generator)\n",
        "    model.add(discriminator)\n",
        "    opt = Adam(lr=0.0005)\n",
        "    model.compile(loss='binary_crossentropy', optimizer=opt)\n",
        "    return model"
      ]
    },
    {
      "cell_type": "code",
      "execution_count": null,
      "id": "1fcfbcc5-28a1-4324-8fcd-0624f54ef54e",
      "metadata": {
        "id": "1fcfbcc5-28a1-4324-8fcd-0624f54ef54e"
      },
      "outputs": [],
      "source": [
        "# generate points in latent space as input for the generator\n",
        "def generate_latent_points(n):\n",
        "    # generate points in the latent space from the normal distribution\n",
        "    x_input = np.random.normal(size = latent_dim * n)\n",
        "    # reshape into a batch of inputs for the network\n",
        "    x_input = x_input.reshape(n, latent_dim)\n",
        "\n",
        "    return x_input"
      ]
    },
    {
      "cell_type": "code",
      "execution_count": null,
      "id": "7108a5fc-2e71-4530-b6e6-8769f4f165bb",
      "metadata": {
        "id": "7108a5fc-2e71-4530-b6e6-8769f4f165bb"
      },
      "outputs": [],
      "source": [
        "# use the generator to generate n fake examples, with class labels\n",
        "def generate_fake_samples(generator, n):\n",
        "    # generate points in latent space\n",
        "    x_input = generate_latent_points(n)\n",
        "    # predict outputs\n",
        "    X = generator.predict(x_input, verbose=0)\n",
        "    # create class labels\n",
        "    y = zeros((n, 1))\n",
        "\n",
        "    return X, y"
      ]
    },
    {
      "cell_type": "code",
      "execution_count": null,
      "id": "a92cef4f-9d76-4681-b7ca-c19bd10a302c",
      "metadata": {
        "id": "a92cef4f-9d76-4681-b7ca-c19bd10a302c"
      },
      "outputs": [],
      "source": [
        "# train the generator and discriminator\n",
        "def train(g_model, d_model, gan_model, latent_dim, n_epochs=10000, n_batch=49, n_eval=100):\n",
        "    d_loss_list = []\n",
        "    g_loss_list = []\n",
        "    # determine half the size of one batch, for updating the discriminator\n",
        "    half_batch = int(n_batch / 2)+1\n",
        "    \n",
        "    # manually enumerate epochs\n",
        "    for i in tqdm(range(n_epochs)):\n",
        "        \n",
        "        # prepare real samples\n",
        "        rand_index = random.sample(range(0,49), 25)\n",
        "        x_real, y_real = glucose_591[rand_index], y[rand_index]\n",
        "        # prepare fake examples\n",
        "        x_fake, y_fake = generate_fake_samples(g_model, half_batch)\n",
        "        \n",
        "        # update discriminator\n",
        "        d_loss_real = d_model.train_on_batch(x_real, y_real)\n",
        "        d_loss_fake = d_model.train_on_batch(x_fake, y_fake)\n",
        "        # average of d_loss_real and d_loss_fake\n",
        "        d_loss = 0.5 * np.add(d_loss_real, d_loss_fake)\n",
        "        d_loss_list.append(d_loss)\n",
        "        #print(d_loss[0])\n",
        "\n",
        "        # prepare points in latent space as input for the generator\n",
        "        #for _ in range(4):\n",
        "        x_gan = generate_latent_points(n_batch)\n",
        "        # create inverted labels for the fake samples\n",
        "        y_gan = ones((n_batch, 1))\n",
        "        # update the generator via the discriminator's error\n",
        "        g_loss = gan_model.train_on_batch(x_gan, y_gan)\n",
        "        g_loss_list.append(g_loss)\n",
        "        \n",
        "       \n",
        "        # evaluate the model every n_eval epochs\n",
        "        if (i+1) % n_eval == 0:\n",
        "            generator.save_weights('/content/drive/MyDrive/Thesis/model/normal_gan/591_0.0005/generator_weights_%d.h5' %(i+1))\n",
        "            print (\"%d [D loss: %f, acc.: %.2f%%] [G loss: %f]\" % (i, d_loss[0], 100*d_loss[1], g_loss))"
      ]
    },
    {
      "cell_type": "code",
      "execution_count": null,
      "id": "ce93ac09-c4d5-41bd-bf88-f89573ab09b6",
      "metadata": {
        "colab": {
          "base_uri": "https://localhost:8080/"
        },
        "id": "ce93ac09-c4d5-41bd-bf88-f89573ab09b6",
        "outputId": "b7539559-0e32-4d69-a4f2-3f3f2932cf0b"
      },
      "outputs": [
        {
          "output_type": "stream",
          "name": "stdout",
          "text": [
            "Model: \"sequential\"\n",
            "_________________________________________________________________\n",
            " Layer (type)                Output Shape              Param #   \n",
            "=================================================================\n",
            " dense (Dense)               (None, 288, 1)            2         \n",
            "                                                                 \n",
            " leaky_re_lu (LeakyReLU)     (None, 288, 1)            0         \n",
            "                                                                 \n",
            " conv1d (Conv1D)             (None, 144, 32)           160       \n",
            "                                                                 \n",
            " leaky_re_lu_1 (LeakyReLU)   (None, 144, 32)           0         \n",
            "                                                                 \n",
            " conv1d_1 (Conv1D)           (None, 72, 32)            2080      \n",
            "                                                                 \n",
            " leaky_re_lu_2 (LeakyReLU)   (None, 72, 32)            0         \n",
            "                                                                 \n",
            " reshape (Reshape)           (None, 2304)              0         \n",
            "                                                                 \n",
            " dense_1 (Dense)             (None, 1)                 2305      \n",
            "                                                                 \n",
            "=================================================================\n",
            "Total params: 4,547\n",
            "Trainable params: 4,547\n",
            "Non-trainable params: 0\n",
            "_________________________________________________________________\n"
          ]
        },
        {
          "output_type": "stream",
          "name": "stderr",
          "text": [
            "/usr/local/lib/python3.10/dist-packages/keras/optimizers/legacy/adam.py:117: UserWarning: The `lr` argument is deprecated, use `learning_rate` instead.\n",
            "  super().__init__(name, **kwargs)\n"
          ]
        }
      ],
      "source": [
        "discriminator = define_discriminator()\n",
        "discriminator.summary()"
      ]
    },
    {
      "cell_type": "code",
      "execution_count": null,
      "id": "aa724642-eb06-4e82-8660-14c835a5f8dc",
      "metadata": {
        "id": "aa724642-eb06-4e82-8660-14c835a5f8dc",
        "outputId": "2b694e37-7512-4c2c-c6ef-5be975baaaf7",
        "colab": {
          "base_uri": "https://localhost:8080/"
        }
      },
      "outputs": [
        {
          "output_type": "stream",
          "name": "stdout",
          "text": [
            "Model: \"sequential_1\"\n",
            "_________________________________________________________________\n",
            " Layer (type)                Output Shape              Param #   \n",
            "=================================================================\n",
            " dense_2 (Dense)             (None, 3600)              1803600   \n",
            "                                                                 \n",
            " leaky_re_lu_3 (LeakyReLU)   (None, 3600)              0         \n",
            "                                                                 \n",
            " reshape_1 (Reshape)         (None, 72, 50)            0         \n",
            "                                                                 \n",
            " up_sampling1d (UpSampling1D  (None, 288, 50)          0         \n",
            " )                                                               \n",
            "                                                                 \n",
            " conv1d_2 (Conv1D)           (None, 144, 32)           3232      \n",
            "                                                                 \n",
            " up_sampling1d_1 (UpSampling  (None, 576, 32)          0         \n",
            " 1D)                                                             \n",
            "                                                                 \n",
            " conv1d_3 (Conv1D)           (None, 288, 32)           2080      \n",
            "                                                                 \n",
            " leaky_re_lu_4 (LeakyReLU)   (None, 288, 32)           0         \n",
            "                                                                 \n",
            " conv1d_4 (Conv1D)           (None, 288, 1)            33        \n",
            "                                                                 \n",
            "=================================================================\n",
            "Total params: 1,808,945\n",
            "Trainable params: 1,808,945\n",
            "Non-trainable params: 0\n",
            "_________________________________________________________________\n"
          ]
        }
      ],
      "source": [
        "generator = define_generator()\n",
        "generator.summary()"
      ]
    },
    {
      "cell_type": "code",
      "execution_count": null,
      "id": "8c239002-60c4-4b63-8dae-793783b71777",
      "metadata": {
        "id": "8c239002-60c4-4b63-8dae-793783b71777",
        "outputId": "c3145af6-784f-4851-da1b-e86b1c5537b8",
        "colab": {
          "base_uri": "https://localhost:8080/"
        }
      },
      "outputs": [
        {
          "output_type": "stream",
          "name": "stderr",
          "text": [
            "  1%|          | 101/10000 [00:12<30:05,  5.48it/s]"
          ]
        },
        {
          "output_type": "stream",
          "name": "stdout",
          "text": [
            "99 [D loss: 0.691946, acc.: 50.00%] [G loss: 0.794131]\n"
          ]
        },
        {
          "output_type": "stream",
          "name": "stderr",
          "text": [
            "  2%|▏         | 201/10000 [00:21<30:52,  5.29it/s]"
          ]
        },
        {
          "output_type": "stream",
          "name": "stdout",
          "text": [
            "199 [D loss: 0.660357, acc.: 48.21%] [G loss: 0.630910]\n"
          ]
        },
        {
          "output_type": "stream",
          "name": "stderr",
          "text": [
            "  3%|▎         | 301/10000 [00:29<14:41, 11.00it/s]"
          ]
        },
        {
          "output_type": "stream",
          "name": "stdout",
          "text": [
            "299 [D loss: 0.644567, acc.: 78.57%] [G loss: 0.805245]\n"
          ]
        },
        {
          "output_type": "stream",
          "name": "stderr",
          "text": [
            "  4%|▍         | 401/10000 [00:38<14:15, 11.22it/s]"
          ]
        },
        {
          "output_type": "stream",
          "name": "stdout",
          "text": [
            "399 [D loss: 0.708141, acc.: 50.00%] [G loss: 2.069034]\n"
          ]
        },
        {
          "output_type": "stream",
          "name": "stderr",
          "text": [
            "  5%|▌         | 501/10000 [00:46<14:04, 11.25it/s]"
          ]
        },
        {
          "output_type": "stream",
          "name": "stdout",
          "text": [
            "499 [D loss: 0.577606, acc.: 100.00%] [G loss: 0.765582]\n"
          ]
        },
        {
          "output_type": "stream",
          "name": "stderr",
          "text": [
            "  6%|▌         | 600/10000 [00:55<19:13,  8.15it/s]"
          ]
        },
        {
          "output_type": "stream",
          "name": "stdout",
          "text": [
            "599 [D loss: 0.580268, acc.: 51.79%] [G loss: 1.870433]\n"
          ]
        },
        {
          "output_type": "stream",
          "name": "stderr",
          "text": [
            "  7%|▋         | 701/10000 [01:05<15:50,  9.79it/s]"
          ]
        },
        {
          "output_type": "stream",
          "name": "stdout",
          "text": [
            "699 [D loss: 0.356166, acc.: 100.00%] [G loss: 1.242934]\n"
          ]
        },
        {
          "output_type": "stream",
          "name": "stderr",
          "text": [
            "  8%|▊         | 801/10000 [01:14<14:07, 10.85it/s]"
          ]
        },
        {
          "output_type": "stream",
          "name": "stdout",
          "text": [
            "799 [D loss: 0.300479, acc.: 100.00%] [G loss: 1.362458]\n"
          ]
        },
        {
          "output_type": "stream",
          "name": "stderr",
          "text": [
            "  9%|▉         | 901/10000 [01:22<13:45, 11.03it/s]"
          ]
        },
        {
          "output_type": "stream",
          "name": "stdout",
          "text": [
            "899 [D loss: 0.273528, acc.: 100.00%] [G loss: 1.390226]\n"
          ]
        },
        {
          "output_type": "stream",
          "name": "stderr",
          "text": [
            " 10%|█         | 1001/10000 [01:31<13:33, 11.07it/s]"
          ]
        },
        {
          "output_type": "stream",
          "name": "stdout",
          "text": [
            "999 [D loss: 0.166065, acc.: 100.00%] [G loss: 1.887499]\n"
          ]
        },
        {
          "output_type": "stream",
          "name": "stderr",
          "text": [
            " 11%|█         | 1101/10000 [01:39<13:25, 11.05it/s]"
          ]
        },
        {
          "output_type": "stream",
          "name": "stdout",
          "text": [
            "1099 [D loss: 0.124565, acc.: 100.00%] [G loss: 2.258658]\n"
          ]
        },
        {
          "output_type": "stream",
          "name": "stderr",
          "text": [
            " 12%|█▏        | 1201/10000 [01:48<13:06, 11.19it/s]"
          ]
        },
        {
          "output_type": "stream",
          "name": "stdout",
          "text": [
            "1199 [D loss: 0.080012, acc.: 100.00%] [G loss: 2.503288]\n"
          ]
        },
        {
          "output_type": "stream",
          "name": "stderr",
          "text": [
            " 13%|█▎        | 1301/10000 [01:56<13:07, 11.04it/s]"
          ]
        },
        {
          "output_type": "stream",
          "name": "stdout",
          "text": [
            "1299 [D loss: 0.062797, acc.: 100.00%] [G loss: 3.756356]\n"
          ]
        },
        {
          "output_type": "stream",
          "name": "stderr",
          "text": [
            " 14%|█▍        | 1401/10000 [02:05<12:50, 11.17it/s]"
          ]
        },
        {
          "output_type": "stream",
          "name": "stdout",
          "text": [
            "1399 [D loss: 0.037130, acc.: 100.00%] [G loss: 3.471775]\n"
          ]
        },
        {
          "output_type": "stream",
          "name": "stderr",
          "text": [
            " 15%|█▌        | 1501/10000 [02:13<12:47, 11.07it/s]"
          ]
        },
        {
          "output_type": "stream",
          "name": "stdout",
          "text": [
            "1499 [D loss: 0.018244, acc.: 100.00%] [G loss: 3.816140]\n"
          ]
        },
        {
          "output_type": "stream",
          "name": "stderr",
          "text": [
            " 16%|█▌        | 1601/10000 [02:22<12:46, 10.96it/s]"
          ]
        },
        {
          "output_type": "stream",
          "name": "stdout",
          "text": [
            "1599 [D loss: 0.025116, acc.: 100.00%] [G loss: 3.847864]\n"
          ]
        },
        {
          "output_type": "stream",
          "name": "stderr",
          "text": [
            " 17%|█▋        | 1701/10000 [02:30<12:18, 11.24it/s]"
          ]
        },
        {
          "output_type": "stream",
          "name": "stdout",
          "text": [
            "1699 [D loss: 0.017060, acc.: 100.00%] [G loss: 4.051627]\n"
          ]
        },
        {
          "output_type": "stream",
          "name": "stderr",
          "text": [
            " 18%|█▊        | 1801/10000 [02:39<13:35, 10.05it/s]"
          ]
        },
        {
          "output_type": "stream",
          "name": "stdout",
          "text": [
            "1799 [D loss: 0.011837, acc.: 100.00%] [G loss: 4.341587]\n"
          ]
        },
        {
          "output_type": "stream",
          "name": "stderr",
          "text": [
            " 19%|█▉        | 1901/10000 [02:49<12:46, 10.57it/s]"
          ]
        },
        {
          "output_type": "stream",
          "name": "stdout",
          "text": [
            "1899 [D loss: 0.008770, acc.: 100.00%] [G loss: 4.675386]\n"
          ]
        },
        {
          "output_type": "stream",
          "name": "stderr",
          "text": [
            " 20%|██        | 2001/10000 [02:57<12:01, 11.08it/s]"
          ]
        },
        {
          "output_type": "stream",
          "name": "stdout",
          "text": [
            "1999 [D loss: 0.007665, acc.: 100.00%] [G loss: 4.988860]\n"
          ]
        },
        {
          "output_type": "stream",
          "name": "stderr",
          "text": [
            " 21%|██        | 2101/10000 [03:06<11:52, 11.09it/s]"
          ]
        },
        {
          "output_type": "stream",
          "name": "stdout",
          "text": [
            "2099 [D loss: 0.005339, acc.: 100.00%] [G loss: 4.936134]\n"
          ]
        },
        {
          "output_type": "stream",
          "name": "stderr",
          "text": [
            " 22%|██▏       | 2201/10000 [03:14<11:58, 10.85it/s]"
          ]
        },
        {
          "output_type": "stream",
          "name": "stdout",
          "text": [
            "2199 [D loss: 0.004982, acc.: 100.00%] [G loss: 5.309115]\n"
          ]
        },
        {
          "output_type": "stream",
          "name": "stderr",
          "text": [
            " 23%|██▎       | 2301/10000 [03:23<11:39, 11.01it/s]"
          ]
        },
        {
          "output_type": "stream",
          "name": "stdout",
          "text": [
            "2299 [D loss: 0.003120, acc.: 100.00%] [G loss: 5.702175]\n"
          ]
        },
        {
          "output_type": "stream",
          "name": "stderr",
          "text": [
            " 24%|██▍       | 2401/10000 [03:31<11:29, 11.03it/s]"
          ]
        },
        {
          "output_type": "stream",
          "name": "stdout",
          "text": [
            "2399 [D loss: 0.003268, acc.: 100.00%] [G loss: 5.553709]\n"
          ]
        },
        {
          "output_type": "stream",
          "name": "stderr",
          "text": [
            " 25%|██▌       | 2501/10000 [03:40<11:05, 11.27it/s]"
          ]
        },
        {
          "output_type": "stream",
          "name": "stdout",
          "text": [
            "2499 [D loss: 0.002186, acc.: 100.00%] [G loss: 5.928223]\n"
          ]
        },
        {
          "output_type": "stream",
          "name": "stderr",
          "text": [
            " 26%|██▌       | 2601/10000 [03:48<11:17, 10.93it/s]"
          ]
        },
        {
          "output_type": "stream",
          "name": "stdout",
          "text": [
            "2599 [D loss: 0.002917, acc.: 100.00%] [G loss: 6.211769]\n"
          ]
        },
        {
          "output_type": "stream",
          "name": "stderr",
          "text": [
            " 27%|██▋       | 2701/10000 [03:57<10:54, 11.15it/s]"
          ]
        },
        {
          "output_type": "stream",
          "name": "stdout",
          "text": [
            "2699 [D loss: 0.001933, acc.: 100.00%] [G loss: 6.685531]\n"
          ]
        },
        {
          "output_type": "stream",
          "name": "stderr",
          "text": [
            " 28%|██▊       | 2801/10000 [04:05<10:44, 11.17it/s]"
          ]
        },
        {
          "output_type": "stream",
          "name": "stdout",
          "text": [
            "2799 [D loss: 0.002557, acc.: 100.00%] [G loss: 5.648940]\n"
          ]
        },
        {
          "output_type": "stream",
          "name": "stderr",
          "text": [
            " 29%|██▉       | 2901/10000 [04:15<11:35, 10.20it/s]"
          ]
        },
        {
          "output_type": "stream",
          "name": "stdout",
          "text": [
            "2899 [D loss: 0.001544, acc.: 100.00%] [G loss: 6.441658]\n"
          ]
        },
        {
          "output_type": "stream",
          "name": "stderr",
          "text": [
            " 30%|███       | 3001/10000 [04:24<10:27, 11.15it/s]"
          ]
        },
        {
          "output_type": "stream",
          "name": "stdout",
          "text": [
            "2999 [D loss: 0.001273, acc.: 100.00%] [G loss: 6.974608]\n"
          ]
        },
        {
          "output_type": "stream",
          "name": "stderr",
          "text": [
            " 31%|███       | 3101/10000 [04:32<10:19, 11.14it/s]"
          ]
        },
        {
          "output_type": "stream",
          "name": "stdout",
          "text": [
            "3099 [D loss: 0.001062, acc.: 100.00%] [G loss: 7.208453]\n"
          ]
        },
        {
          "output_type": "stream",
          "name": "stderr",
          "text": [
            " 32%|███▏      | 3201/10000 [04:41<10:21, 10.95it/s]"
          ]
        },
        {
          "output_type": "stream",
          "name": "stdout",
          "text": [
            "3199 [D loss: 0.001138, acc.: 100.00%] [G loss: 6.446632]\n"
          ]
        },
        {
          "output_type": "stream",
          "name": "stderr",
          "text": [
            " 33%|███▎      | 3301/10000 [04:49<10:02, 11.11it/s]"
          ]
        },
        {
          "output_type": "stream",
          "name": "stdout",
          "text": [
            "3299 [D loss: 0.000816, acc.: 100.00%] [G loss: 7.053198]\n"
          ]
        },
        {
          "output_type": "stream",
          "name": "stderr",
          "text": [
            " 34%|███▍      | 3401/10000 [04:58<09:49, 11.19it/s]"
          ]
        },
        {
          "output_type": "stream",
          "name": "stdout",
          "text": [
            "3399 [D loss: 0.000757, acc.: 100.00%] [G loss: 7.618885]\n"
          ]
        },
        {
          "output_type": "stream",
          "name": "stderr",
          "text": [
            " 35%|███▌      | 3501/10000 [05:06<09:40, 11.20it/s]"
          ]
        },
        {
          "output_type": "stream",
          "name": "stdout",
          "text": [
            "3499 [D loss: 0.000476, acc.: 100.00%] [G loss: 7.799526]\n"
          ]
        },
        {
          "output_type": "stream",
          "name": "stderr",
          "text": [
            " 36%|███▌      | 3601/10000 [05:15<09:42, 10.98it/s]"
          ]
        },
        {
          "output_type": "stream",
          "name": "stdout",
          "text": [
            "3599 [D loss: 0.000559, acc.: 100.00%] [G loss: 7.079535]\n"
          ]
        },
        {
          "output_type": "stream",
          "name": "stderr",
          "text": [
            " 37%|███▋      | 3701/10000 [05:23<09:26, 11.11it/s]"
          ]
        },
        {
          "output_type": "stream",
          "name": "stdout",
          "text": [
            "3699 [D loss: 0.000314, acc.: 100.00%] [G loss: 7.707911]\n"
          ]
        },
        {
          "output_type": "stream",
          "name": "stderr",
          "text": [
            " 38%|███▊      | 3801/10000 [05:31<09:16, 11.14it/s]"
          ]
        },
        {
          "output_type": "stream",
          "name": "stdout",
          "text": [
            "3799 [D loss: 0.000380, acc.: 100.00%] [G loss: 8.096632]\n"
          ]
        },
        {
          "output_type": "stream",
          "name": "stderr",
          "text": [
            " 39%|███▉      | 3901/10000 [05:40<09:14, 11.00it/s]"
          ]
        },
        {
          "output_type": "stream",
          "name": "stdout",
          "text": [
            "3899 [D loss: 0.000292, acc.: 100.00%] [G loss: 8.296673]\n"
          ]
        },
        {
          "output_type": "stream",
          "name": "stderr",
          "text": [
            " 40%|████      | 4001/10000 [05:49<10:04,  9.93it/s]"
          ]
        },
        {
          "output_type": "stream",
          "name": "stdout",
          "text": [
            "3999 [D loss: 0.000273, acc.: 100.00%] [G loss: 8.158642]\n"
          ]
        },
        {
          "output_type": "stream",
          "name": "stderr",
          "text": [
            " 41%|████      | 4101/10000 [05:58<08:41, 11.30it/s]"
          ]
        },
        {
          "output_type": "stream",
          "name": "stdout",
          "text": [
            "4099 [D loss: 0.000176, acc.: 100.00%] [G loss: 8.208090]\n"
          ]
        },
        {
          "output_type": "stream",
          "name": "stderr",
          "text": [
            " 42%|████▏     | 4201/10000 [06:07<08:44, 11.05it/s]"
          ]
        },
        {
          "output_type": "stream",
          "name": "stdout",
          "text": [
            "4199 [D loss: 0.000213, acc.: 100.00%] [G loss: 8.684859]\n"
          ]
        },
        {
          "output_type": "stream",
          "name": "stderr",
          "text": [
            " 43%|████▎     | 4301/10000 [06:15<08:34, 11.09it/s]"
          ]
        },
        {
          "output_type": "stream",
          "name": "stdout",
          "text": [
            "4299 [D loss: 0.000136, acc.: 100.00%] [G loss: 8.868317]\n"
          ]
        },
        {
          "output_type": "stream",
          "name": "stderr",
          "text": [
            " 44%|████▍     | 4401/10000 [06:24<08:14, 11.32it/s]"
          ]
        },
        {
          "output_type": "stream",
          "name": "stdout",
          "text": [
            "4399 [D loss: 0.000173, acc.: 100.00%] [G loss: 8.604692]\n"
          ]
        },
        {
          "output_type": "stream",
          "name": "stderr",
          "text": [
            " 45%|████▌     | 4501/10000 [06:32<08:10, 11.21it/s]"
          ]
        },
        {
          "output_type": "stream",
          "name": "stdout",
          "text": [
            "4499 [D loss: 0.000130, acc.: 100.00%] [G loss: 8.640985]\n"
          ]
        },
        {
          "output_type": "stream",
          "name": "stderr",
          "text": [
            " 46%|████▌     | 4601/10000 [06:41<07:58, 11.27it/s]"
          ]
        },
        {
          "output_type": "stream",
          "name": "stdout",
          "text": [
            "4599 [D loss: 0.000112, acc.: 100.00%] [G loss: 9.276571]\n"
          ]
        },
        {
          "output_type": "stream",
          "name": "stderr",
          "text": [
            " 47%|████▋     | 4701/10000 [06:49<07:58, 11.07it/s]"
          ]
        },
        {
          "output_type": "stream",
          "name": "stdout",
          "text": [
            "4699 [D loss: 0.000092, acc.: 100.00%] [G loss: 9.324582]\n"
          ]
        },
        {
          "output_type": "stream",
          "name": "stderr",
          "text": [
            " 48%|████▊     | 4801/10000 [06:58<07:53, 10.97it/s]"
          ]
        },
        {
          "output_type": "stream",
          "name": "stdout",
          "text": [
            "4799 [D loss: 0.000099, acc.: 100.00%] [G loss: 8.822464]\n"
          ]
        },
        {
          "output_type": "stream",
          "name": "stderr",
          "text": [
            " 49%|████▉     | 4901/10000 [07:06<07:40, 11.06it/s]"
          ]
        },
        {
          "output_type": "stream",
          "name": "stdout",
          "text": [
            "4899 [D loss: 0.000094, acc.: 100.00%] [G loss: 9.735538]\n"
          ]
        },
        {
          "output_type": "stream",
          "name": "stderr",
          "text": [
            " 50%|█████     | 5001/10000 [07:15<07:35, 10.98it/s]"
          ]
        },
        {
          "output_type": "stream",
          "name": "stdout",
          "text": [
            "4999 [D loss: 0.000053, acc.: 100.00%] [G loss: 9.897331]\n"
          ]
        },
        {
          "output_type": "stream",
          "name": "stderr",
          "text": [
            " 51%|█████     | 5101/10000 [07:24<08:04, 10.11it/s]"
          ]
        },
        {
          "output_type": "stream",
          "name": "stdout",
          "text": [
            "5099 [D loss: 0.000067, acc.: 100.00%] [G loss: 9.820297]\n"
          ]
        },
        {
          "output_type": "stream",
          "name": "stderr",
          "text": [
            " 52%|█████▏    | 5201/10000 [07:33<07:06, 11.25it/s]"
          ]
        },
        {
          "output_type": "stream",
          "name": "stdout",
          "text": [
            "5199 [D loss: 0.000055, acc.: 100.00%] [G loss: 9.404983]\n"
          ]
        },
        {
          "output_type": "stream",
          "name": "stderr",
          "text": [
            " 53%|█████▎    | 5301/10000 [07:42<06:56, 11.29it/s]"
          ]
        },
        {
          "output_type": "stream",
          "name": "stdout",
          "text": [
            "5299 [D loss: 0.000042, acc.: 100.00%] [G loss: 10.172142]\n"
          ]
        },
        {
          "output_type": "stream",
          "name": "stderr",
          "text": [
            " 54%|█████▍    | 5401/10000 [07:50<06:54, 11.10it/s]"
          ]
        },
        {
          "output_type": "stream",
          "name": "stdout",
          "text": [
            "5399 [D loss: 0.000048, acc.: 100.00%] [G loss: 10.267229]\n"
          ]
        },
        {
          "output_type": "stream",
          "name": "stderr",
          "text": [
            " 55%|█████▌    | 5501/10000 [07:58<06:42, 11.18it/s]"
          ]
        },
        {
          "output_type": "stream",
          "name": "stdout",
          "text": [
            "5499 [D loss: 0.000042, acc.: 100.00%] [G loss: 10.347826]\n"
          ]
        },
        {
          "output_type": "stream",
          "name": "stderr",
          "text": [
            " 56%|█████▌    | 5601/10000 [08:07<06:36, 11.08it/s]"
          ]
        },
        {
          "output_type": "stream",
          "name": "stdout",
          "text": [
            "5599 [D loss: 0.000032, acc.: 100.00%] [G loss: 9.964771]\n"
          ]
        },
        {
          "output_type": "stream",
          "name": "stderr",
          "text": [
            " 57%|█████▋    | 5701/10000 [08:15<06:28, 11.07it/s]"
          ]
        },
        {
          "output_type": "stream",
          "name": "stdout",
          "text": [
            "5699 [D loss: 0.000033, acc.: 100.00%] [G loss: 10.704456]\n"
          ]
        },
        {
          "output_type": "stream",
          "name": "stderr",
          "text": [
            " 58%|█████▊    | 5801/10000 [08:24<06:11, 11.29it/s]"
          ]
        },
        {
          "output_type": "stream",
          "name": "stdout",
          "text": [
            "5799 [D loss: 0.000028, acc.: 100.00%] [G loss: 10.905631]\n"
          ]
        },
        {
          "output_type": "stream",
          "name": "stderr",
          "text": [
            " 59%|█████▉    | 5901/10000 [08:32<06:11, 11.03it/s]"
          ]
        },
        {
          "output_type": "stream",
          "name": "stdout",
          "text": [
            "5899 [D loss: 0.000023, acc.: 100.00%] [G loss: 10.744181]\n"
          ]
        },
        {
          "output_type": "stream",
          "name": "stderr",
          "text": [
            " 60%|██████    | 6001/10000 [08:41<06:10, 10.81it/s]"
          ]
        },
        {
          "output_type": "stream",
          "name": "stdout",
          "text": [
            "5999 [D loss: 0.000018, acc.: 100.00%] [G loss: 10.605761]\n"
          ]
        },
        {
          "output_type": "stream",
          "name": "stderr",
          "text": [
            " 61%|██████    | 6102/10000 [08:50<07:05,  9.15it/s]"
          ]
        },
        {
          "output_type": "stream",
          "name": "stdout",
          "text": [
            "6099 [D loss: 0.000014, acc.: 100.00%] [G loss: 11.109905]\n"
          ]
        },
        {
          "output_type": "stream",
          "name": "stderr",
          "text": [
            " 62%|██████▏   | 6201/10000 [08:59<06:01, 10.51it/s]"
          ]
        },
        {
          "output_type": "stream",
          "name": "stdout",
          "text": [
            "6199 [D loss: 0.000015, acc.: 100.00%] [G loss: 11.276000]\n"
          ]
        },
        {
          "output_type": "stream",
          "name": "stderr",
          "text": [
            " 63%|██████▎   | 6301/10000 [09:08<05:33, 11.09it/s]"
          ]
        },
        {
          "output_type": "stream",
          "name": "stdout",
          "text": [
            "6299 [D loss: 0.000014, acc.: 100.00%] [G loss: 11.127888]\n"
          ]
        },
        {
          "output_type": "stream",
          "name": "stderr",
          "text": [
            " 64%|██████▍   | 6401/10000 [09:16<05:27, 10.99it/s]"
          ]
        },
        {
          "output_type": "stream",
          "name": "stdout",
          "text": [
            "6399 [D loss: 0.000011, acc.: 100.00%] [G loss: 11.114843]\n"
          ]
        },
        {
          "output_type": "stream",
          "name": "stderr",
          "text": [
            " 65%|██████▌   | 6501/10000 [09:25<05:12, 11.21it/s]"
          ]
        },
        {
          "output_type": "stream",
          "name": "stdout",
          "text": [
            "6499 [D loss: 0.000012, acc.: 100.00%] [G loss: 11.558324]\n"
          ]
        },
        {
          "output_type": "stream",
          "name": "stderr",
          "text": [
            " 66%|██████▌   | 6601/10000 [09:33<05:07, 11.04it/s]"
          ]
        },
        {
          "output_type": "stream",
          "name": "stdout",
          "text": [
            "6599 [D loss: 0.000008, acc.: 100.00%] [G loss: 11.915704]\n"
          ]
        },
        {
          "output_type": "stream",
          "name": "stderr",
          "text": [
            " 67%|██████▋   | 6701/10000 [09:42<04:55, 11.18it/s]"
          ]
        },
        {
          "output_type": "stream",
          "name": "stdout",
          "text": [
            "6699 [D loss: 0.000007, acc.: 100.00%] [G loss: 11.461511]\n"
          ]
        },
        {
          "output_type": "stream",
          "name": "stderr",
          "text": [
            " 68%|██████▊   | 6801/10000 [09:50<04:50, 11.00it/s]"
          ]
        },
        {
          "output_type": "stream",
          "name": "stdout",
          "text": [
            "6799 [D loss: 0.000007, acc.: 100.00%] [G loss: 11.663183]\n"
          ]
        },
        {
          "output_type": "stream",
          "name": "stderr",
          "text": [
            " 69%|██████▉   | 6901/10000 [09:59<04:35, 11.27it/s]"
          ]
        },
        {
          "output_type": "stream",
          "name": "stdout",
          "text": [
            "6899 [D loss: 0.000008, acc.: 100.00%] [G loss: 12.115795]\n"
          ]
        },
        {
          "output_type": "stream",
          "name": "stderr",
          "text": [
            " 70%|███████   | 7001/10000 [10:07<04:30, 11.11it/s]"
          ]
        },
        {
          "output_type": "stream",
          "name": "stdout",
          "text": [
            "6999 [D loss: 0.000005, acc.: 100.00%] [G loss: 12.267390]\n"
          ]
        },
        {
          "output_type": "stream",
          "name": "stderr",
          "text": [
            " 71%|███████   | 7101/10000 [10:16<04:20, 11.15it/s]"
          ]
        },
        {
          "output_type": "stream",
          "name": "stdout",
          "text": [
            "7099 [D loss: 0.000006, acc.: 100.00%] [G loss: 11.872558]\n"
          ]
        },
        {
          "output_type": "stream",
          "name": "stderr",
          "text": [
            " 72%|███████▏  | 7201/10000 [10:24<04:09, 11.23it/s]"
          ]
        },
        {
          "output_type": "stream",
          "name": "stdout",
          "text": [
            "7199 [D loss: 0.000004, acc.: 100.00%] [G loss: 12.086695]\n"
          ]
        },
        {
          "output_type": "stream",
          "name": "stderr",
          "text": [
            " 73%|███████▎  | 7302/10000 [10:34<04:24, 10.19it/s]"
          ]
        },
        {
          "output_type": "stream",
          "name": "stdout",
          "text": [
            "7299 [D loss: 0.000004, acc.: 100.00%] [G loss: 12.376455]\n"
          ]
        },
        {
          "output_type": "stream",
          "name": "stderr",
          "text": [
            " 74%|███████▍  | 7402/10000 [10:43<03:52, 11.20it/s]"
          ]
        },
        {
          "output_type": "stream",
          "name": "stdout",
          "text": [
            "7399 [D loss: 0.000004, acc.: 100.00%] [G loss: 12.617185]\n"
          ]
        },
        {
          "output_type": "stream",
          "name": "stderr",
          "text": [
            " 75%|███████▌  | 7502/10000 [10:51<03:37, 11.49it/s]"
          ]
        },
        {
          "output_type": "stream",
          "name": "stdout",
          "text": [
            "7499 [D loss: 0.000003, acc.: 100.00%] [G loss: 12.736846]\n"
          ]
        },
        {
          "output_type": "stream",
          "name": "stderr",
          "text": [
            " 76%|███████▌  | 7602/10000 [11:00<03:31, 11.34it/s]"
          ]
        },
        {
          "output_type": "stream",
          "name": "stdout",
          "text": [
            "7599 [D loss: 0.000003, acc.: 100.00%] [G loss: 12.488972]\n"
          ]
        },
        {
          "output_type": "stream",
          "name": "stderr",
          "text": [
            " 77%|███████▋  | 7702/10000 [11:08<03:25, 11.16it/s]"
          ]
        },
        {
          "output_type": "stream",
          "name": "stdout",
          "text": [
            "7699 [D loss: 0.000003, acc.: 100.00%] [G loss: 12.729485]\n"
          ]
        },
        {
          "output_type": "stream",
          "name": "stderr",
          "text": [
            " 78%|███████▊  | 7802/10000 [11:16<03:13, 11.34it/s]"
          ]
        },
        {
          "output_type": "stream",
          "name": "stdout",
          "text": [
            "7799 [D loss: 0.000002, acc.: 100.00%] [G loss: 13.029915]\n"
          ]
        },
        {
          "output_type": "stream",
          "name": "stderr",
          "text": [
            " 79%|███████▉  | 7902/10000 [11:25<03:05, 11.28it/s]"
          ]
        },
        {
          "output_type": "stream",
          "name": "stdout",
          "text": [
            "7899 [D loss: 0.000002, acc.: 100.00%] [G loss: 13.124475]\n"
          ]
        },
        {
          "output_type": "stream",
          "name": "stderr",
          "text": [
            " 80%|████████  | 8002/10000 [11:33<03:01, 11.01it/s]"
          ]
        },
        {
          "output_type": "stream",
          "name": "stdout",
          "text": [
            "7999 [D loss: 0.000002, acc.: 100.00%] [G loss: 13.310800]\n"
          ]
        },
        {
          "output_type": "stream",
          "name": "stderr",
          "text": [
            " 81%|████████  | 8102/10000 [11:42<02:45, 11.44it/s]"
          ]
        },
        {
          "output_type": "stream",
          "name": "stdout",
          "text": [
            "8099 [D loss: 0.000002, acc.: 100.00%] [G loss: 13.508264]\n"
          ]
        },
        {
          "output_type": "stream",
          "name": "stderr",
          "text": [
            " 82%|████████▏ | 8202/10000 [11:50<02:39, 11.28it/s]"
          ]
        },
        {
          "output_type": "stream",
          "name": "stdout",
          "text": [
            "8199 [D loss: 0.000001, acc.: 100.00%] [G loss: 13.532874]\n"
          ]
        },
        {
          "output_type": "stream",
          "name": "stderr",
          "text": [
            " 83%|████████▎ | 8302/10000 [11:59<02:49, 10.04it/s]"
          ]
        },
        {
          "output_type": "stream",
          "name": "stdout",
          "text": [
            "8299 [D loss: 0.000001, acc.: 100.00%] [G loss: 13.678838]\n"
          ]
        },
        {
          "output_type": "stream",
          "name": "stderr",
          "text": [
            " 84%|████████▍ | 8401/10000 [12:09<02:33, 10.40it/s]"
          ]
        },
        {
          "output_type": "stream",
          "name": "stdout",
          "text": [
            "8399 [D loss: 0.000001, acc.: 100.00%] [G loss: 13.712255]\n"
          ]
        },
        {
          "output_type": "stream",
          "name": "stderr",
          "text": [
            " 85%|████████▌ | 8501/10000 [12:17<02:16, 11.01it/s]"
          ]
        },
        {
          "output_type": "stream",
          "name": "stdout",
          "text": [
            "8499 [D loss: 0.000001, acc.: 100.00%] [G loss: 13.768019]\n"
          ]
        },
        {
          "output_type": "stream",
          "name": "stderr",
          "text": [
            " 86%|████████▌ | 8601/10000 [12:26<02:05, 11.18it/s]"
          ]
        },
        {
          "output_type": "stream",
          "name": "stdout",
          "text": [
            "8599 [D loss: 0.000001, acc.: 100.00%] [G loss: 13.824007]\n"
          ]
        },
        {
          "output_type": "stream",
          "name": "stderr",
          "text": [
            " 87%|████████▋ | 8701/10000 [12:34<01:56, 11.19it/s]"
          ]
        },
        {
          "output_type": "stream",
          "name": "stdout",
          "text": [
            "8699 [D loss: 0.000001, acc.: 100.00%] [G loss: 13.905130]\n"
          ]
        },
        {
          "output_type": "stream",
          "name": "stderr",
          "text": [
            " 88%|████████▊ | 8801/10000 [12:42<01:48, 11.10it/s]"
          ]
        },
        {
          "output_type": "stream",
          "name": "stdout",
          "text": [
            "8799 [D loss: 0.000001, acc.: 100.00%] [G loss: 13.812802]\n"
          ]
        },
        {
          "output_type": "stream",
          "name": "stderr",
          "text": [
            " 89%|████████▉ | 8901/10000 [12:51<01:41, 10.85it/s]"
          ]
        },
        {
          "output_type": "stream",
          "name": "stdout",
          "text": [
            "8899 [D loss: 0.000001, acc.: 100.00%] [G loss: 14.214559]\n"
          ]
        },
        {
          "output_type": "stream",
          "name": "stderr",
          "text": [
            " 90%|█████████ | 9001/10000 [12:59<01:30, 10.99it/s]"
          ]
        },
        {
          "output_type": "stream",
          "name": "stdout",
          "text": [
            "8999 [D loss: 0.000000, acc.: 100.00%] [G loss: 14.342158]\n"
          ]
        },
        {
          "output_type": "stream",
          "name": "stderr",
          "text": [
            " 91%|█████████ | 9101/10000 [13:08<01:19, 11.29it/s]"
          ]
        },
        {
          "output_type": "stream",
          "name": "stdout",
          "text": [
            "9099 [D loss: 0.000001, acc.: 100.00%] [G loss: 14.474749]\n"
          ]
        },
        {
          "output_type": "stream",
          "name": "stderr",
          "text": [
            " 92%|█████████▏| 9201/10000 [13:16<01:11, 11.21it/s]"
          ]
        },
        {
          "output_type": "stream",
          "name": "stdout",
          "text": [
            "9199 [D loss: 0.000000, acc.: 100.00%] [G loss: 14.610629]\n"
          ]
        },
        {
          "output_type": "stream",
          "name": "stderr",
          "text": [
            " 93%|█████████▎| 9301/10000 [13:25<01:02, 11.26it/s]"
          ]
        },
        {
          "output_type": "stream",
          "name": "stdout",
          "text": [
            "9299 [D loss: 0.000000, acc.: 100.00%] [G loss: 14.778719]\n"
          ]
        },
        {
          "output_type": "stream",
          "name": "stderr",
          "text": [
            " 94%|█████████▍| 9401/10000 [13:34<00:59, 10.02it/s]"
          ]
        },
        {
          "output_type": "stream",
          "name": "stdout",
          "text": [
            "9399 [D loss: 0.000000, acc.: 100.00%] [G loss: 14.947834]\n"
          ]
        },
        {
          "output_type": "stream",
          "name": "stderr",
          "text": [
            " 95%|█████████▌| 9501/10000 [13:43<00:44, 11.16it/s]"
          ]
        },
        {
          "output_type": "stream",
          "name": "stdout",
          "text": [
            "9499 [D loss: 0.000000, acc.: 100.00%] [G loss: 14.977457]\n"
          ]
        },
        {
          "output_type": "stream",
          "name": "stderr",
          "text": [
            " 96%|█████████▌| 9601/10000 [13:51<00:34, 11.42it/s]"
          ]
        },
        {
          "output_type": "stream",
          "name": "stdout",
          "text": [
            "9599 [D loss: 0.000000, acc.: 100.00%] [G loss: 15.067617]\n"
          ]
        },
        {
          "output_type": "stream",
          "name": "stderr",
          "text": [
            " 97%|█████████▋| 9701/10000 [14:00<00:27, 11.01it/s]"
          ]
        },
        {
          "output_type": "stream",
          "name": "stdout",
          "text": [
            "9699 [D loss: 0.000000, acc.: 100.00%] [G loss: 14.966703]\n"
          ]
        },
        {
          "output_type": "stream",
          "name": "stderr",
          "text": [
            " 98%|█████████▊| 9801/10000 [14:08<00:18, 11.00it/s]"
          ]
        },
        {
          "output_type": "stream",
          "name": "stdout",
          "text": [
            "9799 [D loss: 0.000000, acc.: 100.00%] [G loss: 14.895344]\n"
          ]
        },
        {
          "output_type": "stream",
          "name": "stderr",
          "text": [
            " 99%|█████████▉| 9901/10000 [14:17<00:08, 11.44it/s]"
          ]
        },
        {
          "output_type": "stream",
          "name": "stdout",
          "text": [
            "9899 [D loss: 0.000000, acc.: 100.00%] [G loss: 15.359177]\n"
          ]
        },
        {
          "output_type": "stream",
          "name": "stderr",
          "text": [
            "100%|██████████| 10000/10000 [14:25<00:00, 11.55it/s]"
          ]
        },
        {
          "output_type": "stream",
          "name": "stdout",
          "text": [
            "9999 [D loss: 0.000000, acc.: 100.00%] [G loss: 16.226418]\n"
          ]
        },
        {
          "output_type": "stream",
          "name": "stderr",
          "text": [
            "\n"
          ]
        }
      ],
      "source": [
        "# create the gan\n",
        "gan_model = define_gan(generator, discriminator)\n",
        "# train model\n",
        "train(generator, discriminator, gan_model, latent_dim)"
      ]
    },
    {
      "cell_type": "markdown",
      "source": [
        "# Evaluation"
      ],
      "metadata": {
        "id": "V1n0vGcDZZkD"
      },
      "id": "V1n0vGcDZZkD"
    },
    {
      "cell_type": "code",
      "source": [
        "mean_list = []\n",
        "std_list = []\n",
        "hyper_list = []\n",
        "tir_list = []\n",
        "l1_list = []\n",
        "l2_list = []\n",
        "for i in tqdm(range(1, 101)):\n",
        "  generator.load_weights('/content/drive/MyDrive/Thesis/model/normal_gan/591_0.0005/generator_weights_' + str(i*100) + '.h5')\n",
        "  for j in range(6):\n",
        "    sub_mean = []\n",
        "    sub_std = []\n",
        "    hyper = []\n",
        "    tir = []\n",
        "    l1 = []\n",
        "    l2 = []\n",
        "\n",
        "    synth, _ = generate_fake_samples(generator, 49)\n",
        "    synth = synth.reshape(49,288)\n",
        "\n",
        "    synth_data = scaler.inverse_transform(synth)\n",
        "\n",
        "    sub_mean.append(mean(synth_data.flatten()))\n",
        "    sub_std.append(pstdev(synth_data.flatten().tolist()))\n",
        "\n",
        "    extracted_hyper = np.extract((synth_data >= 180), synth_data)\n",
        "    hyper.append(extracted_hyper.shape[0] / (288*49))\n",
        "    extracted_tir = np.extract(((synth_data < 180) & (synth_data >= 70)), synth_data)\n",
        "    tir.append(extracted_tir.shape[0] / (288*49))\n",
        "    extracted_l1 = np.extract(((synth_data < 70) & (synth_data >= 54)), synth_data)\n",
        "    l1.append(extracted_l1.shape[0] / (288*49))\n",
        "    extracted_l2 = np.extract((synth_data < 54), synth_data)\n",
        "    l2.append(extracted_l2.shape[0] / (288*49))\n",
        "\n",
        "  mean_list.append(mean(sub_mean))\n",
        "  std_list.append(mean(sub_std))\n",
        "  hyper_list.append(mean(hyper))\n",
        "  tir_list.append(mean(tir))\n",
        "  l1_list.append(mean(l1))\n",
        "  l2_list.append(mean(l2))"
      ],
      "metadata": {
        "colab": {
          "base_uri": "https://localhost:8080/"
        },
        "id": "DZcTslcTZn4P",
        "outputId": "aa1389f6-c0eb-43a4-98f1-ac9e98b195b0"
      },
      "id": "DZcTslcTZn4P",
      "execution_count": null,
      "outputs": [
        {
          "output_type": "stream",
          "name": "stderr",
          "text": [
            "100%|██████████| 100/100 [02:48<00:00,  1.68s/it]\n"
          ]
        }
      ]
    },
    {
      "cell_type": "code",
      "source": [
        "df_591_result = pd.DataFrame(list(zip(hyper_list, tir_list, l1_list, l2_list, mean_list, std_list)), columns = ['Hyper', 'TIR', 'L1 Hypo', 'L2 Hypo', 'Mean', 'SD'])"
      ],
      "metadata": {
        "id": "6H_jVunPctUG"
      },
      "id": "6H_jVunPctUG",
      "execution_count": null,
      "outputs": []
    },
    {
      "cell_type": "code",
      "source": [
        "df_591_result.to_csv('/content/drive/MyDrive/Thesis/model/normal_gan/591_0.0005/evaluation.csv')"
      ],
      "metadata": {
        "id": "8sNMUhaBXwuv"
      },
      "id": "8sNMUhaBXwuv",
      "execution_count": null,
      "outputs": []
    },
    {
      "cell_type": "code",
      "source": [
        "df_591_result[:50]"
      ],
      "metadata": {
        "colab": {
          "base_uri": "https://localhost:8080/",
          "height": 1000
        },
        "id": "NeorJQpCdRYs",
        "outputId": "d022dcf6-e116-4f52-a5a8-281757f40c03"
      },
      "id": "NeorJQpCdRYs",
      "execution_count": null,
      "outputs": [
        {
          "output_type": "execute_result",
          "data": {
            "text/plain": [
              "       Hyper       TIR   L1 Hypo   L2 Hypo        Mean         SD\n",
              "0   0.124008  0.811224  0.037628  0.027140  131.220963  43.585736\n",
              "1   0.145479  0.851332  0.003047  0.000142  147.834106  31.227234\n",
              "2   0.192744  0.807256  0.000000  0.000000  161.835281  22.189109\n",
              "3   0.985048  0.014952  0.000000  0.000000  317.202209  70.112471\n",
              "4   0.000000  0.999858  0.000142  0.000000  118.567894  15.177212\n",
              "5   0.961522  0.038478  0.000000  0.000000  288.114594  67.104569\n",
              "6   0.010984  0.989016  0.000000  0.000000  149.703308  13.238741\n",
              "7   0.078940  0.920989  0.000071  0.000000  161.184265  13.903979\n",
              "8   0.016582  0.983418  0.000000  0.000000  148.696899  13.779622\n",
              "9   0.004748  0.994118  0.000283  0.000850  150.493881  13.551816\n",
              "10  0.003260  0.996740  0.000000  0.000000  144.015991  13.137563\n",
              "11  0.000000  0.996032  0.002693  0.001276  125.412323  13.008076\n",
              "12  0.978245  0.021755  0.000000  0.000000  315.526428  72.721818\n",
              "13  0.046840  0.953160  0.000000  0.000000  158.609879  13.251708\n",
              "14  0.000000  0.961310  0.032100  0.006590   94.449593  14.801800\n",
              "15  0.116780  0.883220  0.000000  0.000000  162.704117  14.814103\n",
              "16  0.000000  0.996457  0.001984  0.001559  133.849792  14.618303\n",
              "17  0.017715  0.965632  0.010771  0.005882  126.469063  25.032915\n",
              "18  0.269558  0.730442  0.000000  0.000000  167.332794  17.853514\n",
              "19  0.009212  0.990717  0.000071  0.000000  152.373718  15.286673\n",
              "20  0.000000  0.878543  0.104238  0.017219   91.133667  18.159869\n",
              "21  0.011267  0.987670  0.000709  0.000354  138.393295  20.649885\n",
              "22  0.318665  0.681335  0.000000  0.000000  166.792252  22.040585\n",
              "23  0.000000  0.987670  0.008503  0.003827  116.769035  19.646848\n",
              "24  0.000000  0.926020  0.068452  0.005527  101.751152  22.553310\n",
              "25  0.600694  0.399306  0.000000  0.000000  184.877563  23.527302\n",
              "26  0.654833  0.345167  0.000000  0.000000  186.218826  18.924594\n",
              "27  0.000000  0.642574  0.289541  0.067885   74.840317  14.408738\n",
              "28  0.296131  0.688705  0.013605  0.001559  152.317032  42.540806\n",
              "29  0.733914  0.266086  0.000000  0.000000  207.999420  37.874972\n",
              "30  0.348569  0.650935  0.000496  0.000000  166.782867  23.815529\n",
              "31  0.000000  0.305839  0.449901  0.244260   63.016064  13.390941\n",
              "32  0.386692  0.608348  0.004039  0.000921  163.442551  40.913711\n",
              "33  0.691185  0.308815  0.000000  0.000000  198.997025  33.065948\n",
              "34  0.308815  0.691185  0.000000  0.000000  167.083420  20.125388\n",
              "35  0.000000  0.767645  0.207554  0.024802   80.484070  13.895095\n",
              "36  0.000000  0.938563  0.054280  0.007157  107.808357  26.019901\n",
              "37  0.602891  0.397109  0.000000  0.000000  188.480682  32.110657\n",
              "38  0.457625  0.542375  0.000000  0.000000  173.563400  23.855444\n",
              "39  0.000000  0.979167  0.014598  0.006236  119.724640  22.360136\n",
              "40  0.000000  0.665462  0.274872  0.059666   78.734787  17.134153\n",
              "41  0.578586  0.421414  0.000000  0.000000  186.360718  33.572810\n",
              "42  0.360332  0.639385  0.000283  0.000000  167.671616  23.072706\n",
              "43  0.000000  0.922619  0.064768  0.012613   91.183960  14.936755\n",
              "44  0.000000  0.931335  0.057327  0.011338  107.610298  27.321428\n",
              "45  0.656959  0.343041  0.000000  0.000000  194.563065  30.248474\n",
              "46  0.102679  0.897321  0.000000  0.000000  153.074234  21.034335\n",
              "47  0.000000  0.435587  0.433107  0.131307   68.119476  12.711248\n",
              "48  0.668793  0.328231  0.002976  0.000000  206.998077  51.564204\n",
              "49  0.613379  0.386621  0.000000  0.000000  191.277985  32.000152"
            ],
            "text/html": [
              "\n",
              "  <div id=\"df-9a7e772f-ed3a-4689-9261-6027c65d2078\">\n",
              "    <div class=\"colab-df-container\">\n",
              "      <div>\n",
              "<style scoped>\n",
              "    .dataframe tbody tr th:only-of-type {\n",
              "        vertical-align: middle;\n",
              "    }\n",
              "\n",
              "    .dataframe tbody tr th {\n",
              "        vertical-align: top;\n",
              "    }\n",
              "\n",
              "    .dataframe thead th {\n",
              "        text-align: right;\n",
              "    }\n",
              "</style>\n",
              "<table border=\"1\" class=\"dataframe\">\n",
              "  <thead>\n",
              "    <tr style=\"text-align: right;\">\n",
              "      <th></th>\n",
              "      <th>Hyper</th>\n",
              "      <th>TIR</th>\n",
              "      <th>L1 Hypo</th>\n",
              "      <th>L2 Hypo</th>\n",
              "      <th>Mean</th>\n",
              "      <th>SD</th>\n",
              "    </tr>\n",
              "  </thead>\n",
              "  <tbody>\n",
              "    <tr>\n",
              "      <th>0</th>\n",
              "      <td>0.124008</td>\n",
              "      <td>0.811224</td>\n",
              "      <td>0.037628</td>\n",
              "      <td>0.027140</td>\n",
              "      <td>131.220963</td>\n",
              "      <td>43.585736</td>\n",
              "    </tr>\n",
              "    <tr>\n",
              "      <th>1</th>\n",
              "      <td>0.145479</td>\n",
              "      <td>0.851332</td>\n",
              "      <td>0.003047</td>\n",
              "      <td>0.000142</td>\n",
              "      <td>147.834106</td>\n",
              "      <td>31.227234</td>\n",
              "    </tr>\n",
              "    <tr>\n",
              "      <th>2</th>\n",
              "      <td>0.192744</td>\n",
              "      <td>0.807256</td>\n",
              "      <td>0.000000</td>\n",
              "      <td>0.000000</td>\n",
              "      <td>161.835281</td>\n",
              "      <td>22.189109</td>\n",
              "    </tr>\n",
              "    <tr>\n",
              "      <th>3</th>\n",
              "      <td>0.985048</td>\n",
              "      <td>0.014952</td>\n",
              "      <td>0.000000</td>\n",
              "      <td>0.000000</td>\n",
              "      <td>317.202209</td>\n",
              "      <td>70.112471</td>\n",
              "    </tr>\n",
              "    <tr>\n",
              "      <th>4</th>\n",
              "      <td>0.000000</td>\n",
              "      <td>0.999858</td>\n",
              "      <td>0.000142</td>\n",
              "      <td>0.000000</td>\n",
              "      <td>118.567894</td>\n",
              "      <td>15.177212</td>\n",
              "    </tr>\n",
              "    <tr>\n",
              "      <th>5</th>\n",
              "      <td>0.961522</td>\n",
              "      <td>0.038478</td>\n",
              "      <td>0.000000</td>\n",
              "      <td>0.000000</td>\n",
              "      <td>288.114594</td>\n",
              "      <td>67.104569</td>\n",
              "    </tr>\n",
              "    <tr>\n",
              "      <th>6</th>\n",
              "      <td>0.010984</td>\n",
              "      <td>0.989016</td>\n",
              "      <td>0.000000</td>\n",
              "      <td>0.000000</td>\n",
              "      <td>149.703308</td>\n",
              "      <td>13.238741</td>\n",
              "    </tr>\n",
              "    <tr>\n",
              "      <th>7</th>\n",
              "      <td>0.078940</td>\n",
              "      <td>0.920989</td>\n",
              "      <td>0.000071</td>\n",
              "      <td>0.000000</td>\n",
              "      <td>161.184265</td>\n",
              "      <td>13.903979</td>\n",
              "    </tr>\n",
              "    <tr>\n",
              "      <th>8</th>\n",
              "      <td>0.016582</td>\n",
              "      <td>0.983418</td>\n",
              "      <td>0.000000</td>\n",
              "      <td>0.000000</td>\n",
              "      <td>148.696899</td>\n",
              "      <td>13.779622</td>\n",
              "    </tr>\n",
              "    <tr>\n",
              "      <th>9</th>\n",
              "      <td>0.004748</td>\n",
              "      <td>0.994118</td>\n",
              "      <td>0.000283</td>\n",
              "      <td>0.000850</td>\n",
              "      <td>150.493881</td>\n",
              "      <td>13.551816</td>\n",
              "    </tr>\n",
              "    <tr>\n",
              "      <th>10</th>\n",
              "      <td>0.003260</td>\n",
              "      <td>0.996740</td>\n",
              "      <td>0.000000</td>\n",
              "      <td>0.000000</td>\n",
              "      <td>144.015991</td>\n",
              "      <td>13.137563</td>\n",
              "    </tr>\n",
              "    <tr>\n",
              "      <th>11</th>\n",
              "      <td>0.000000</td>\n",
              "      <td>0.996032</td>\n",
              "      <td>0.002693</td>\n",
              "      <td>0.001276</td>\n",
              "      <td>125.412323</td>\n",
              "      <td>13.008076</td>\n",
              "    </tr>\n",
              "    <tr>\n",
              "      <th>12</th>\n",
              "      <td>0.978245</td>\n",
              "      <td>0.021755</td>\n",
              "      <td>0.000000</td>\n",
              "      <td>0.000000</td>\n",
              "      <td>315.526428</td>\n",
              "      <td>72.721818</td>\n",
              "    </tr>\n",
              "    <tr>\n",
              "      <th>13</th>\n",
              "      <td>0.046840</td>\n",
              "      <td>0.953160</td>\n",
              "      <td>0.000000</td>\n",
              "      <td>0.000000</td>\n",
              "      <td>158.609879</td>\n",
              "      <td>13.251708</td>\n",
              "    </tr>\n",
              "    <tr>\n",
              "      <th>14</th>\n",
              "      <td>0.000000</td>\n",
              "      <td>0.961310</td>\n",
              "      <td>0.032100</td>\n",
              "      <td>0.006590</td>\n",
              "      <td>94.449593</td>\n",
              "      <td>14.801800</td>\n",
              "    </tr>\n",
              "    <tr>\n",
              "      <th>15</th>\n",
              "      <td>0.116780</td>\n",
              "      <td>0.883220</td>\n",
              "      <td>0.000000</td>\n",
              "      <td>0.000000</td>\n",
              "      <td>162.704117</td>\n",
              "      <td>14.814103</td>\n",
              "    </tr>\n",
              "    <tr>\n",
              "      <th>16</th>\n",
              "      <td>0.000000</td>\n",
              "      <td>0.996457</td>\n",
              "      <td>0.001984</td>\n",
              "      <td>0.001559</td>\n",
              "      <td>133.849792</td>\n",
              "      <td>14.618303</td>\n",
              "    </tr>\n",
              "    <tr>\n",
              "      <th>17</th>\n",
              "      <td>0.017715</td>\n",
              "      <td>0.965632</td>\n",
              "      <td>0.010771</td>\n",
              "      <td>0.005882</td>\n",
              "      <td>126.469063</td>\n",
              "      <td>25.032915</td>\n",
              "    </tr>\n",
              "    <tr>\n",
              "      <th>18</th>\n",
              "      <td>0.269558</td>\n",
              "      <td>0.730442</td>\n",
              "      <td>0.000000</td>\n",
              "      <td>0.000000</td>\n",
              "      <td>167.332794</td>\n",
              "      <td>17.853514</td>\n",
              "    </tr>\n",
              "    <tr>\n",
              "      <th>19</th>\n",
              "      <td>0.009212</td>\n",
              "      <td>0.990717</td>\n",
              "      <td>0.000071</td>\n",
              "      <td>0.000000</td>\n",
              "      <td>152.373718</td>\n",
              "      <td>15.286673</td>\n",
              "    </tr>\n",
              "    <tr>\n",
              "      <th>20</th>\n",
              "      <td>0.000000</td>\n",
              "      <td>0.878543</td>\n",
              "      <td>0.104238</td>\n",
              "      <td>0.017219</td>\n",
              "      <td>91.133667</td>\n",
              "      <td>18.159869</td>\n",
              "    </tr>\n",
              "    <tr>\n",
              "      <th>21</th>\n",
              "      <td>0.011267</td>\n",
              "      <td>0.987670</td>\n",
              "      <td>0.000709</td>\n",
              "      <td>0.000354</td>\n",
              "      <td>138.393295</td>\n",
              "      <td>20.649885</td>\n",
              "    </tr>\n",
              "    <tr>\n",
              "      <th>22</th>\n",
              "      <td>0.318665</td>\n",
              "      <td>0.681335</td>\n",
              "      <td>0.000000</td>\n",
              "      <td>0.000000</td>\n",
              "      <td>166.792252</td>\n",
              "      <td>22.040585</td>\n",
              "    </tr>\n",
              "    <tr>\n",
              "      <th>23</th>\n",
              "      <td>0.000000</td>\n",
              "      <td>0.987670</td>\n",
              "      <td>0.008503</td>\n",
              "      <td>0.003827</td>\n",
              "      <td>116.769035</td>\n",
              "      <td>19.646848</td>\n",
              "    </tr>\n",
              "    <tr>\n",
              "      <th>24</th>\n",
              "      <td>0.000000</td>\n",
              "      <td>0.926020</td>\n",
              "      <td>0.068452</td>\n",
              "      <td>0.005527</td>\n",
              "      <td>101.751152</td>\n",
              "      <td>22.553310</td>\n",
              "    </tr>\n",
              "    <tr>\n",
              "      <th>25</th>\n",
              "      <td>0.600694</td>\n",
              "      <td>0.399306</td>\n",
              "      <td>0.000000</td>\n",
              "      <td>0.000000</td>\n",
              "      <td>184.877563</td>\n",
              "      <td>23.527302</td>\n",
              "    </tr>\n",
              "    <tr>\n",
              "      <th>26</th>\n",
              "      <td>0.654833</td>\n",
              "      <td>0.345167</td>\n",
              "      <td>0.000000</td>\n",
              "      <td>0.000000</td>\n",
              "      <td>186.218826</td>\n",
              "      <td>18.924594</td>\n",
              "    </tr>\n",
              "    <tr>\n",
              "      <th>27</th>\n",
              "      <td>0.000000</td>\n",
              "      <td>0.642574</td>\n",
              "      <td>0.289541</td>\n",
              "      <td>0.067885</td>\n",
              "      <td>74.840317</td>\n",
              "      <td>14.408738</td>\n",
              "    </tr>\n",
              "    <tr>\n",
              "      <th>28</th>\n",
              "      <td>0.296131</td>\n",
              "      <td>0.688705</td>\n",
              "      <td>0.013605</td>\n",
              "      <td>0.001559</td>\n",
              "      <td>152.317032</td>\n",
              "      <td>42.540806</td>\n",
              "    </tr>\n",
              "    <tr>\n",
              "      <th>29</th>\n",
              "      <td>0.733914</td>\n",
              "      <td>0.266086</td>\n",
              "      <td>0.000000</td>\n",
              "      <td>0.000000</td>\n",
              "      <td>207.999420</td>\n",
              "      <td>37.874972</td>\n",
              "    </tr>\n",
              "    <tr>\n",
              "      <th>30</th>\n",
              "      <td>0.348569</td>\n",
              "      <td>0.650935</td>\n",
              "      <td>0.000496</td>\n",
              "      <td>0.000000</td>\n",
              "      <td>166.782867</td>\n",
              "      <td>23.815529</td>\n",
              "    </tr>\n",
              "    <tr>\n",
              "      <th>31</th>\n",
              "      <td>0.000000</td>\n",
              "      <td>0.305839</td>\n",
              "      <td>0.449901</td>\n",
              "      <td>0.244260</td>\n",
              "      <td>63.016064</td>\n",
              "      <td>13.390941</td>\n",
              "    </tr>\n",
              "    <tr>\n",
              "      <th>32</th>\n",
              "      <td>0.386692</td>\n",
              "      <td>0.608348</td>\n",
              "      <td>0.004039</td>\n",
              "      <td>0.000921</td>\n",
              "      <td>163.442551</td>\n",
              "      <td>40.913711</td>\n",
              "    </tr>\n",
              "    <tr>\n",
              "      <th>33</th>\n",
              "      <td>0.691185</td>\n",
              "      <td>0.308815</td>\n",
              "      <td>0.000000</td>\n",
              "      <td>0.000000</td>\n",
              "      <td>198.997025</td>\n",
              "      <td>33.065948</td>\n",
              "    </tr>\n",
              "    <tr>\n",
              "      <th>34</th>\n",
              "      <td>0.308815</td>\n",
              "      <td>0.691185</td>\n",
              "      <td>0.000000</td>\n",
              "      <td>0.000000</td>\n",
              "      <td>167.083420</td>\n",
              "      <td>20.125388</td>\n",
              "    </tr>\n",
              "    <tr>\n",
              "      <th>35</th>\n",
              "      <td>0.000000</td>\n",
              "      <td>0.767645</td>\n",
              "      <td>0.207554</td>\n",
              "      <td>0.024802</td>\n",
              "      <td>80.484070</td>\n",
              "      <td>13.895095</td>\n",
              "    </tr>\n",
              "    <tr>\n",
              "      <th>36</th>\n",
              "      <td>0.000000</td>\n",
              "      <td>0.938563</td>\n",
              "      <td>0.054280</td>\n",
              "      <td>0.007157</td>\n",
              "      <td>107.808357</td>\n",
              "      <td>26.019901</td>\n",
              "    </tr>\n",
              "    <tr>\n",
              "      <th>37</th>\n",
              "      <td>0.602891</td>\n",
              "      <td>0.397109</td>\n",
              "      <td>0.000000</td>\n",
              "      <td>0.000000</td>\n",
              "      <td>188.480682</td>\n",
              "      <td>32.110657</td>\n",
              "    </tr>\n",
              "    <tr>\n",
              "      <th>38</th>\n",
              "      <td>0.457625</td>\n",
              "      <td>0.542375</td>\n",
              "      <td>0.000000</td>\n",
              "      <td>0.000000</td>\n",
              "      <td>173.563400</td>\n",
              "      <td>23.855444</td>\n",
              "    </tr>\n",
              "    <tr>\n",
              "      <th>39</th>\n",
              "      <td>0.000000</td>\n",
              "      <td>0.979167</td>\n",
              "      <td>0.014598</td>\n",
              "      <td>0.006236</td>\n",
              "      <td>119.724640</td>\n",
              "      <td>22.360136</td>\n",
              "    </tr>\n",
              "    <tr>\n",
              "      <th>40</th>\n",
              "      <td>0.000000</td>\n",
              "      <td>0.665462</td>\n",
              "      <td>0.274872</td>\n",
              "      <td>0.059666</td>\n",
              "      <td>78.734787</td>\n",
              "      <td>17.134153</td>\n",
              "    </tr>\n",
              "    <tr>\n",
              "      <th>41</th>\n",
              "      <td>0.578586</td>\n",
              "      <td>0.421414</td>\n",
              "      <td>0.000000</td>\n",
              "      <td>0.000000</td>\n",
              "      <td>186.360718</td>\n",
              "      <td>33.572810</td>\n",
              "    </tr>\n",
              "    <tr>\n",
              "      <th>42</th>\n",
              "      <td>0.360332</td>\n",
              "      <td>0.639385</td>\n",
              "      <td>0.000283</td>\n",
              "      <td>0.000000</td>\n",
              "      <td>167.671616</td>\n",
              "      <td>23.072706</td>\n",
              "    </tr>\n",
              "    <tr>\n",
              "      <th>43</th>\n",
              "      <td>0.000000</td>\n",
              "      <td>0.922619</td>\n",
              "      <td>0.064768</td>\n",
              "      <td>0.012613</td>\n",
              "      <td>91.183960</td>\n",
              "      <td>14.936755</td>\n",
              "    </tr>\n",
              "    <tr>\n",
              "      <th>44</th>\n",
              "      <td>0.000000</td>\n",
              "      <td>0.931335</td>\n",
              "      <td>0.057327</td>\n",
              "      <td>0.011338</td>\n",
              "      <td>107.610298</td>\n",
              "      <td>27.321428</td>\n",
              "    </tr>\n",
              "    <tr>\n",
              "      <th>45</th>\n",
              "      <td>0.656959</td>\n",
              "      <td>0.343041</td>\n",
              "      <td>0.000000</td>\n",
              "      <td>0.000000</td>\n",
              "      <td>194.563065</td>\n",
              "      <td>30.248474</td>\n",
              "    </tr>\n",
              "    <tr>\n",
              "      <th>46</th>\n",
              "      <td>0.102679</td>\n",
              "      <td>0.897321</td>\n",
              "      <td>0.000000</td>\n",
              "      <td>0.000000</td>\n",
              "      <td>153.074234</td>\n",
              "      <td>21.034335</td>\n",
              "    </tr>\n",
              "    <tr>\n",
              "      <th>47</th>\n",
              "      <td>0.000000</td>\n",
              "      <td>0.435587</td>\n",
              "      <td>0.433107</td>\n",
              "      <td>0.131307</td>\n",
              "      <td>68.119476</td>\n",
              "      <td>12.711248</td>\n",
              "    </tr>\n",
              "    <tr>\n",
              "      <th>48</th>\n",
              "      <td>0.668793</td>\n",
              "      <td>0.328231</td>\n",
              "      <td>0.002976</td>\n",
              "      <td>0.000000</td>\n",
              "      <td>206.998077</td>\n",
              "      <td>51.564204</td>\n",
              "    </tr>\n",
              "    <tr>\n",
              "      <th>49</th>\n",
              "      <td>0.613379</td>\n",
              "      <td>0.386621</td>\n",
              "      <td>0.000000</td>\n",
              "      <td>0.000000</td>\n",
              "      <td>191.277985</td>\n",
              "      <td>32.000152</td>\n",
              "    </tr>\n",
              "  </tbody>\n",
              "</table>\n",
              "</div>\n",
              "      <button class=\"colab-df-convert\" onclick=\"convertToInteractive('df-9a7e772f-ed3a-4689-9261-6027c65d2078')\"\n",
              "              title=\"Convert this dataframe to an interactive table.\"\n",
              "              style=\"display:none;\">\n",
              "        \n",
              "  <svg xmlns=\"http://www.w3.org/2000/svg\" height=\"24px\"viewBox=\"0 0 24 24\"\n",
              "       width=\"24px\">\n",
              "    <path d=\"M0 0h24v24H0V0z\" fill=\"none\"/>\n",
              "    <path d=\"M18.56 5.44l.94 2.06.94-2.06 2.06-.94-2.06-.94-.94-2.06-.94 2.06-2.06.94zm-11 1L8.5 8.5l.94-2.06 2.06-.94-2.06-.94L8.5 2.5l-.94 2.06-2.06.94zm10 10l.94 2.06.94-2.06 2.06-.94-2.06-.94-.94-2.06-.94 2.06-2.06.94z\"/><path d=\"M17.41 7.96l-1.37-1.37c-.4-.4-.92-.59-1.43-.59-.52 0-1.04.2-1.43.59L10.3 9.45l-7.72 7.72c-.78.78-.78 2.05 0 2.83L4 21.41c.39.39.9.59 1.41.59.51 0 1.02-.2 1.41-.59l7.78-7.78 2.81-2.81c.8-.78.8-2.07 0-2.86zM5.41 20L4 18.59l7.72-7.72 1.47 1.35L5.41 20z\"/>\n",
              "  </svg>\n",
              "      </button>\n",
              "      \n",
              "  <style>\n",
              "    .colab-df-container {\n",
              "      display:flex;\n",
              "      flex-wrap:wrap;\n",
              "      gap: 12px;\n",
              "    }\n",
              "\n",
              "    .colab-df-convert {\n",
              "      background-color: #E8F0FE;\n",
              "      border: none;\n",
              "      border-radius: 50%;\n",
              "      cursor: pointer;\n",
              "      display: none;\n",
              "      fill: #1967D2;\n",
              "      height: 32px;\n",
              "      padding: 0 0 0 0;\n",
              "      width: 32px;\n",
              "    }\n",
              "\n",
              "    .colab-df-convert:hover {\n",
              "      background-color: #E2EBFA;\n",
              "      box-shadow: 0px 1px 2px rgba(60, 64, 67, 0.3), 0px 1px 3px 1px rgba(60, 64, 67, 0.15);\n",
              "      fill: #174EA6;\n",
              "    }\n",
              "\n",
              "    [theme=dark] .colab-df-convert {\n",
              "      background-color: #3B4455;\n",
              "      fill: #D2E3FC;\n",
              "    }\n",
              "\n",
              "    [theme=dark] .colab-df-convert:hover {\n",
              "      background-color: #434B5C;\n",
              "      box-shadow: 0px 1px 3px 1px rgba(0, 0, 0, 0.15);\n",
              "      filter: drop-shadow(0px 1px 2px rgba(0, 0, 0, 0.3));\n",
              "      fill: #FFFFFF;\n",
              "    }\n",
              "  </style>\n",
              "\n",
              "      <script>\n",
              "        const buttonEl =\n",
              "          document.querySelector('#df-9a7e772f-ed3a-4689-9261-6027c65d2078 button.colab-df-convert');\n",
              "        buttonEl.style.display =\n",
              "          google.colab.kernel.accessAllowed ? 'block' : 'none';\n",
              "\n",
              "        async function convertToInteractive(key) {\n",
              "          const element = document.querySelector('#df-9a7e772f-ed3a-4689-9261-6027c65d2078');\n",
              "          const dataTable =\n",
              "            await google.colab.kernel.invokeFunction('convertToInteractive',\n",
              "                                                     [key], {});\n",
              "          if (!dataTable) return;\n",
              "\n",
              "          const docLinkHtml = 'Like what you see? Visit the ' +\n",
              "            '<a target=\"_blank\" href=https://colab.research.google.com/notebooks/data_table.ipynb>data table notebook</a>'\n",
              "            + ' to learn more about interactive tables.';\n",
              "          element.innerHTML = '';\n",
              "          dataTable['output_type'] = 'display_data';\n",
              "          await google.colab.output.renderOutput(dataTable, element);\n",
              "          const docLink = document.createElement('div');\n",
              "          docLink.innerHTML = docLinkHtml;\n",
              "          element.appendChild(docLink);\n",
              "        }\n",
              "      </script>\n",
              "    </div>\n",
              "  </div>\n",
              "  "
            ]
          },
          "metadata": {},
          "execution_count": 72
        }
      ]
    },
    {
      "cell_type": "markdown",
      "source": [
        "# The comparsion between the results of normal GAN and TimeGAN"
      ],
      "metadata": {
        "id": "dV05Q-5pgrRM"
      },
      "id": "dV05Q-5pgrRM"
    },
    {
      "cell_type": "code",
      "source": [
        "generator.load_weights('/content/drive/MyDrive/Thesis/model/normal_gan/591_0.0005/generator_weights_2900.h5')\n",
        "synth_norm, _ = generate_fake_samples(generator, 49)\n",
        "synth_norm=synth_norm.reshape(49,288)\n",
        "synth_timegan = np.load(\"/content/drive/MyDrive/Thesis/best model/timegan_591_128/synthetic_data_nonorm.npy\")"
      ],
      "metadata": {
        "id": "vPT3MN2IgzOg"
      },
      "id": "vPT3MN2IgzOg",
      "execution_count": null,
      "outputs": []
    },
    {
      "cell_type": "code",
      "source": [
        "# unnormalized synthetic and real data\n",
        "synth_normgan_norm = synth_norm\n",
        "synth_timegan_norm = np.load(\"/content/drive/MyDrive/Thesis/best model/timegan_591_128/synthetic_data.npy\")\n",
        "synth_normgan_nonnorm = scaler.inverse_transform(synth_norm)\n",
        "synth_timegan_nonnorm = synth_timegan\n",
        "real_ori = scaler.inverse_transform(glucose_591)\n",
        "real_norm = glucose_591"
      ],
      "metadata": {
        "id": "CD0udmxAhl3q"
      },
      "id": "CD0udmxAhl3q",
      "execution_count": null,
      "outputs": []
    },
    {
      "cell_type": "markdown",
      "source": [
        "SVM"
      ],
      "metadata": {
        "id": "dvXtZcVLhDii"
      },
      "id": "dvXtZcVLhDii"
    },
    {
      "cell_type": "code",
      "source": [
        "x = real_ori.tolist()\n",
        "y = my_list = [1]*49\n",
        "x_timegan = [synth_timegan_nonnorm[7][0][i][:,0].tolist() for i in range(49)]\n",
        "x_normgan = synth_normgan_nonnorm\n",
        "y_timegan = [0]*49\n",
        "\n",
        "x.extend(x_timegan)\n",
        "y.extend(y_timegan)"
      ],
      "metadata": {
        "id": "y13TvtxlhFmR"
      },
      "id": "y13TvtxlhFmR",
      "execution_count": null,
      "outputs": []
    },
    {
      "cell_type": "code",
      "source": [
        "import random\n",
        "\n",
        "numbers = list(range(98))\n",
        "\n",
        "num_selected_70 = random.sample(numbers, int(0.7*len(numbers)))\n",
        "\n",
        "num_selected_30 = list(set(numbers) - set(num_selected_70))\n",
        "\n",
        "print(\"training index：\", num_selected_70)\n",
        "print(\"test index：\", num_selected_30)"
      ],
      "metadata": {
        "colab": {
          "base_uri": "https://localhost:8080/"
        },
        "id": "NhCdXDR_hLDg",
        "outputId": "860a4d7b-f47e-49a3-ebf4-b0449350aa78"
      },
      "id": "NhCdXDR_hLDg",
      "execution_count": null,
      "outputs": [
        {
          "output_type": "stream",
          "name": "stdout",
          "text": [
            "training index： [29, 59, 82, 60, 83, 28, 32, 43, 26, 12, 18, 4, 56, 90, 61, 5, 74, 57, 31, 1, 91, 40, 30, 21, 47, 76, 77, 15, 45, 62, 85, 72, 0, 2, 84, 27, 49, 70, 75, 55, 22, 48, 92, 64, 10, 16, 36, 35, 46, 9, 25, 58, 94, 34, 53, 11, 8, 63, 38, 88, 39, 81, 14, 33, 87, 65, 17, 69]\n",
            "test index： [3, 6, 7, 13, 19, 20, 23, 24, 37, 41, 42, 44, 50, 51, 52, 54, 66, 67, 68, 71, 73, 78, 79, 80, 86, 89, 93, 95, 96, 97]\n"
          ]
        }
      ]
    },
    {
      "cell_type": "code",
      "source": [
        "training_x = [x[num_selected_70[i]] for i in range(len(num_selected_70))]\n",
        "test_x = [x[num_selected_30[i]] for i in range(len(num_selected_30))]\n",
        "training_y = [y[num_selected_70[i]] for i in range(len(num_selected_70))]\n",
        "test_y = [y[num_selected_30[i]] for i in range(len(num_selected_30))]"
      ],
      "metadata": {
        "id": "-V-SvC0IhOSu"
      },
      "id": "-V-SvC0IhOSu",
      "execution_count": null,
      "outputs": []
    },
    {
      "cell_type": "code",
      "source": [
        "from sklearn import svm, metrics\n",
        "classifier = svm.SVC()\n",
        "\n",
        "# Train the classifier on the training data\n",
        "classifier.fit(training_x, training_y)\n",
        "\n",
        "# Predict the labels of the test data\n",
        "y_pred = classifier.predict(test_x)\n",
        "\n",
        "# Calculate the accuracy and F1 score of the classifier\n",
        "accuracy = metrics.accuracy_score(test_y, y_pred)\n",
        "f1_score = metrics.f1_score(test_y, y_pred, average='weighted')\n",
        "\n",
        "# Print the results\n",
        "print(\"Accuracy:\", accuracy)\n",
        "print(\"F1 score:\", f1_score)"
      ],
      "metadata": {
        "colab": {
          "base_uri": "https://localhost:8080/"
        },
        "id": "a8Sw2twahQL8",
        "outputId": "bd167dca-877b-44d0-b322-4292d3806485"
      },
      "id": "a8Sw2twahQL8",
      "execution_count": null,
      "outputs": [
        {
          "output_type": "stream",
          "name": "stdout",
          "text": [
            "Accuracy: 0.8333333333333334\n",
            "F1 score: 0.827838827838828\n"
          ]
        }
      ]
    },
    {
      "cell_type": "markdown",
      "source": [
        "RNN for prediction"
      ],
      "metadata": {
        "id": "vY9uzNY5hSQQ"
      },
      "id": "vY9uzNY5hSQQ"
    },
    {
      "cell_type": "code",
      "source": [
        "#Split training and test set\n",
        "n_events = len(real_ori)\n",
        "\n",
        "idx = np.arange(n_events)\n",
        "n_train = int(.8*n_events)\n",
        "train_idx = idx[:n_train]\n",
        "test_idx = idx[n_train:]"
      ],
      "metadata": {
        "id": "nPCY5rNohVAC"
      },
      "id": "nPCY5rNohVAC",
      "execution_count": null,
      "outputs": []
    },
    {
      "cell_type": "code",
      "source": [
        "# get training and test data (use past 6h data to predict next 30min)\n",
        "pre_len = 6 # 5*6=30 -> 30min\n",
        "train_len = 72 #12*6 -> 6h\n",
        "\n",
        "train_real_x = []\n",
        "train_real_y = []\n",
        "train_syn_norm_x = []\n",
        "train_syn_norm_y = []\n",
        "train_syn_time_x = []\n",
        "train_syn_time_y = []\n",
        "\n",
        "for i in range(len(train_idx)):\n",
        "  for j in range(288-(pre_len+train_len)+1):\n",
        "    train_real_x.append(glucose_591[train_idx[i], j:(j+train_len)])\n",
        "    train_real_y.append(glucose_591[train_idx[i], (j+train_len):(j+train_len+pre_len)])\n",
        "\n",
        "    train_syn_norm_x.append(synth_normgan_norm[train_idx[i], j:(j+train_len)])\n",
        "    train_syn_norm_y.append(synth_normgan_norm[train_idx[i], (j+train_len):(j+train_len+pre_len)])\n",
        "\n",
        "    train_syn_time_x.append(np.array([synth_timegan_norm[7][0][n][:,0] for n in range(49)])[train_idx[i], j:(j+train_len)])\n",
        "    train_syn_time_y.append(np.array([synth_timegan_norm[7][0][n][:,0] for n in range(49)])[train_idx[i], (j+train_len):(j+train_len+pre_len)])\n",
        "\n",
        "test_real_x = []\n",
        "test_real_y = []\n",
        "test_syn_norm_x = []\n",
        "test_syn_norm_y = []\n",
        "test_syn_time_x = []\n",
        "test_syn_time_y = []\n",
        "\n",
        "for i in range(len(test_idx)):\n",
        "  for j in range(288-(pre_len+train_len)+1):\n",
        "    test_real_x.append(glucose_591[test_idx[i], j:(j+train_len)])\n",
        "    test_real_y.append(glucose_591[test_idx[i], (j+train_len):(j+train_len+pre_len)])\n",
        "\n",
        "    test_syn_norm_x.append(synth_normgan_norm[test_idx[i], j:(j+train_len)])\n",
        "    test_syn_norm_y.append(synth_normgan_norm[test_idx[i], (j+train_len):(j+train_len+pre_len)])\n",
        "\n",
        "    test_syn_time_x.append(np.array([synth_timegan_norm[7][0][n][:,0] for n in range(49)])[test_idx[i], j:(j+train_len)])\n",
        "    test_syn_time_y.append(np.array([synth_timegan_norm[7][0][n][:,0] for n in range(49)])[test_idx[i], (j+train_len):(j+train_len+pre_len)])\n",
        "\n",
        "train_real_x = np.array(train_real_x)\n",
        "train_real_y = np.array(train_real_y)\n",
        "train_syn_norm_x = np.array(train_syn_norm_x)\n",
        "train_syn_norm_y = np.array(train_syn_norm_y)\n",
        "train_syn_time_x = np.array(train_syn_time_x)\n",
        "train_syn_time_y = np.array(train_syn_time_y)\n",
        "\n",
        "\n",
        "test_real_x = np.array(test_real_x)\n",
        "test_real_y = np.array(test_real_y)\n",
        "test_syn_norm_x = np.array(test_syn_norm_x)\n",
        "test_syn_norm_y = np.array(test_syn_norm_y)\n",
        "test_syn_time_x = np.array(test_syn_time_x)\n",
        "test_syn_time_y = np.array(test_syn_time_y)"
      ],
      "metadata": {
        "id": "UAN2oz56hXP2"
      },
      "id": "UAN2oz56hXP2",
      "execution_count": null,
      "outputs": []
    },
    {
      "cell_type": "code",
      "source": [
        "from tensorflow.keras import Input, Sequential\n",
        "from tensorflow.keras.callbacks import EarlyStopping\n",
        "from tensorflow.keras.layers import GRU, Dense\n",
        "from tensorflow.keras.optimizers import Adam\n",
        "from tensorflow.keras.losses import MeanAbsoluteError\n",
        "import tensorflow as tf\n",
        "from sklearn.metrics import r2_score, mean_absolute_error, mean_squared_log_error\n",
        "\n",
        "tf.random.set_seed(7)\n",
        "#First implement a simple RNN model for prediction\n",
        "def RNN_regression(units):\n",
        "    opt = Adam(name='AdamOpt')\n",
        "    loss = MeanAbsoluteError(name='MAE')\n",
        "    model = Sequential()\n",
        "    model.add(GRU(units=units, input_shape=(72,1),\n",
        "                  name=f'RNN_1'))\n",
        "    model.add(Dense(units=6,\n",
        "                    activation='sigmoid',\n",
        "                    name='OUT'))\n",
        "    model.compile(optimizer=opt, loss=loss)\n",
        "    return model"
      ],
      "metadata": {
        "id": "9iBEgYFKhkVG"
      },
      "id": "9iBEgYFKhkVG",
      "execution_count": null,
      "outputs": []
    },
    {
      "cell_type": "code",
      "source": [
        "#Training the model with the real train data\n",
        "ts_real = RNN_regression(72)\n",
        "early_stopping = EarlyStopping(monitor='val_loss', patience=5)\n",
        "\n",
        "real_train = ts_real.fit(x=train_real_x,\n",
        "                          y=train_real_y,\n",
        "                          validation_data=(test_real_x, test_real_y),\n",
        "                          epochs=200,\n",
        "                          batch_size=128,\n",
        "                          callbacks=[early_stopping])"
      ],
      "metadata": {
        "colab": {
          "base_uri": "https://localhost:8080/"
        },
        "id": "KcDEOgVmhm05",
        "outputId": "f45b5e43-a883-4e76-cabf-6c93bb854ae1"
      },
      "id": "KcDEOgVmhm05",
      "execution_count": null,
      "outputs": [
        {
          "output_type": "stream",
          "name": "stdout",
          "text": [
            "Epoch 1/200\n",
            "65/65 [==============================] - 4s 12ms/step - loss: 0.1624 - val_loss: 0.1140\n",
            "Epoch 2/200\n",
            "65/65 [==============================] - 0s 6ms/step - loss: 0.0991 - val_loss: 0.0855\n",
            "Epoch 3/200\n",
            "65/65 [==============================] - 0s 5ms/step - loss: 0.0836 - val_loss: 0.0789\n",
            "Epoch 4/200\n",
            "65/65 [==============================] - 0s 6ms/step - loss: 0.0787 - val_loss: 0.0768\n",
            "Epoch 5/200\n",
            "65/65 [==============================] - 0s 6ms/step - loss: 0.0755 - val_loss: 0.0769\n",
            "Epoch 6/200\n",
            "65/65 [==============================] - 0s 5ms/step - loss: 0.0736 - val_loss: 0.0716\n",
            "Epoch 7/200\n",
            "65/65 [==============================] - 0s 6ms/step - loss: 0.0726 - val_loss: 0.0731\n",
            "Epoch 8/200\n",
            "65/65 [==============================] - 0s 6ms/step - loss: 0.0709 - val_loss: 0.0691\n",
            "Epoch 9/200\n",
            "65/65 [==============================] - 0s 6ms/step - loss: 0.0697 - val_loss: 0.0709\n",
            "Epoch 10/200\n",
            "65/65 [==============================] - 0s 6ms/step - loss: 0.0690 - val_loss: 0.0682\n",
            "Epoch 11/200\n",
            "65/65 [==============================] - 0s 6ms/step - loss: 0.0684 - val_loss: 0.0675\n",
            "Epoch 12/200\n",
            "65/65 [==============================] - 0s 6ms/step - loss: 0.0679 - val_loss: 0.0666\n",
            "Epoch 13/200\n",
            "65/65 [==============================] - 0s 6ms/step - loss: 0.0676 - val_loss: 0.0660\n",
            "Epoch 14/200\n",
            "65/65 [==============================] - 0s 6ms/step - loss: 0.0670 - val_loss: 0.0669\n",
            "Epoch 15/200\n",
            "65/65 [==============================] - 0s 6ms/step - loss: 0.0667 - val_loss: 0.0670\n",
            "Epoch 16/200\n",
            "65/65 [==============================] - 0s 6ms/step - loss: 0.0660 - val_loss: 0.0650\n",
            "Epoch 17/200\n",
            "65/65 [==============================] - 0s 6ms/step - loss: 0.0656 - val_loss: 0.0647\n",
            "Epoch 18/200\n",
            "65/65 [==============================] - 0s 6ms/step - loss: 0.0657 - val_loss: 0.0647\n",
            "Epoch 19/200\n",
            "65/65 [==============================] - 0s 6ms/step - loss: 0.0649 - val_loss: 0.0639\n",
            "Epoch 20/200\n",
            "65/65 [==============================] - 0s 6ms/step - loss: 0.0644 - val_loss: 0.0653\n",
            "Epoch 21/200\n",
            "65/65 [==============================] - 0s 6ms/step - loss: 0.0642 - val_loss: 0.0640\n",
            "Epoch 22/200\n",
            "65/65 [==============================] - 0s 5ms/step - loss: 0.0641 - val_loss: 0.0660\n",
            "Epoch 23/200\n",
            "65/65 [==============================] - 0s 5ms/step - loss: 0.0640 - val_loss: 0.0632\n",
            "Epoch 24/200\n",
            "65/65 [==============================] - 0s 6ms/step - loss: 0.0633 - val_loss: 0.0625\n",
            "Epoch 25/200\n",
            "65/65 [==============================] - 0s 6ms/step - loss: 0.0633 - val_loss: 0.0624\n",
            "Epoch 26/200\n",
            "65/65 [==============================] - 0s 6ms/step - loss: 0.0628 - val_loss: 0.0618\n",
            "Epoch 27/200\n",
            "65/65 [==============================] - 0s 5ms/step - loss: 0.0628 - val_loss: 0.0625\n",
            "Epoch 28/200\n",
            "65/65 [==============================] - 0s 6ms/step - loss: 0.0624 - val_loss: 0.0624\n",
            "Epoch 29/200\n",
            "65/65 [==============================] - 0s 6ms/step - loss: 0.0624 - val_loss: 0.0616\n",
            "Epoch 30/200\n",
            "65/65 [==============================] - 0s 6ms/step - loss: 0.0620 - val_loss: 0.0615\n",
            "Epoch 31/200\n",
            "65/65 [==============================] - 0s 6ms/step - loss: 0.0617 - val_loss: 0.0606\n",
            "Epoch 32/200\n",
            "65/65 [==============================] - 0s 5ms/step - loss: 0.0616 - val_loss: 0.0612\n",
            "Epoch 33/200\n",
            "65/65 [==============================] - 0s 5ms/step - loss: 0.0615 - val_loss: 0.0614\n",
            "Epoch 34/200\n",
            "65/65 [==============================] - 0s 6ms/step - loss: 0.0613 - val_loss: 0.0617\n",
            "Epoch 35/200\n",
            "65/65 [==============================] - 0s 5ms/step - loss: 0.0616 - val_loss: 0.0604\n",
            "Epoch 36/200\n",
            "65/65 [==============================] - 0s 5ms/step - loss: 0.0611 - val_loss: 0.0610\n",
            "Epoch 37/200\n",
            "65/65 [==============================] - 0s 6ms/step - loss: 0.0610 - val_loss: 0.0609\n",
            "Epoch 38/200\n",
            "65/65 [==============================] - 0s 6ms/step - loss: 0.0609 - val_loss: 0.0603\n",
            "Epoch 39/200\n",
            "65/65 [==============================] - 0s 5ms/step - loss: 0.0611 - val_loss: 0.0608\n",
            "Epoch 40/200\n",
            "65/65 [==============================] - 0s 5ms/step - loss: 0.0608 - val_loss: 0.0600\n",
            "Epoch 41/200\n",
            "65/65 [==============================] - 0s 5ms/step - loss: 0.0610 - val_loss: 0.0606\n",
            "Epoch 42/200\n",
            "65/65 [==============================] - 0s 6ms/step - loss: 0.0608 - val_loss: 0.0604\n",
            "Epoch 43/200\n",
            "65/65 [==============================] - 0s 5ms/step - loss: 0.0606 - val_loss: 0.0620\n",
            "Epoch 44/200\n",
            "65/65 [==============================] - 0s 5ms/step - loss: 0.0607 - val_loss: 0.0611\n",
            "Epoch 45/200\n",
            "65/65 [==============================] - 0s 5ms/step - loss: 0.0608 - val_loss: 0.0601\n"
          ]
        }
      ]
    },
    {
      "cell_type": "code",
      "source": [
        "# TRTR results\n",
        "real_predictions = ts_real.predict(test_real_x)\n",
        "r2_real = r2_score(test_real_y, real_predictions)\n",
        "mae_real = mean_absolute_error(test_real_y, real_predictions)\n",
        "mrle_real = mean_squared_log_error(test_real_y, real_predictions)\n",
        "print(r2_real)\n",
        "print(mae_real)\n",
        "print(mrle_real)"
      ],
      "metadata": {
        "colab": {
          "base_uri": "https://localhost:8080/"
        },
        "id": "yUVnAZoUhooy",
        "outputId": "5d21ca44-eb82-4c96-ad17-1882a748c2e1"
      },
      "id": "yUVnAZoUhooy",
      "execution_count": null,
      "outputs": [
        {
          "output_type": "stream",
          "name": "stdout",
          "text": [
            "66/66 [==============================] - 0s 2ms/step\n",
            "0.8549357798904738\n",
            "0.06012895560070416\n",
            "0.004032207505230669\n"
          ]
        }
      ]
    },
    {
      "cell_type": "code",
      "source": [
        "#Training the model with the synthetic data from normal GAN\n",
        "ts_norm_syn = RNN_regression(72)\n",
        "early_stopping = EarlyStopping(monitor='val_loss', patience=5)\n",
        "\n",
        "norm_syn_train = ts_norm_syn.fit(x=train_syn_norm_x,\n",
        "                          y=train_syn_norm_y,\n",
        "                          validation_data=(test_real_x, test_real_y),\n",
        "                          epochs=200,\n",
        "                          batch_size=128,\n",
        "                          callbacks=[early_stopping])"
      ],
      "metadata": {
        "colab": {
          "base_uri": "https://localhost:8080/"
        },
        "id": "RX4ZpBTahq6q",
        "outputId": "014e952e-d915-4e88-d926-4da2d10dbf9e"
      },
      "id": "RX4ZpBTahq6q",
      "execution_count": null,
      "outputs": [
        {
          "output_type": "stream",
          "name": "stdout",
          "text": [
            "Epoch 1/200\n",
            "65/65 [==============================] - 3s 12ms/step - loss: 0.1479 - val_loss: 0.1629\n",
            "Epoch 2/200\n",
            "65/65 [==============================] - 0s 6ms/step - loss: 0.0835 - val_loss: 0.1015\n",
            "Epoch 3/200\n",
            "65/65 [==============================] - 0s 6ms/step - loss: 0.0688 - val_loss: 0.0912\n",
            "Epoch 4/200\n",
            "65/65 [==============================] - 0s 6ms/step - loss: 0.0639 - val_loss: 0.0841\n",
            "Epoch 5/200\n",
            "65/65 [==============================] - 0s 6ms/step - loss: 0.0615 - val_loss: 0.0806\n",
            "Epoch 6/200\n",
            "65/65 [==============================] - 0s 5ms/step - loss: 0.0597 - val_loss: 0.0783\n",
            "Epoch 7/200\n",
            "65/65 [==============================] - 0s 6ms/step - loss: 0.0587 - val_loss: 0.0770\n",
            "Epoch 8/200\n",
            "65/65 [==============================] - 0s 6ms/step - loss: 0.0570 - val_loss: 0.0759\n",
            "Epoch 9/200\n",
            "65/65 [==============================] - 0s 6ms/step - loss: 0.0561 - val_loss: 0.0764\n",
            "Epoch 10/200\n",
            "65/65 [==============================] - 0s 5ms/step - loss: 0.0554 - val_loss: 0.0764\n",
            "Epoch 11/200\n",
            "65/65 [==============================] - 0s 6ms/step - loss: 0.0548 - val_loss: 0.0754\n",
            "Epoch 12/200\n",
            "65/65 [==============================] - 0s 6ms/step - loss: 0.0543 - val_loss: 0.0754\n",
            "Epoch 13/200\n",
            "65/65 [==============================] - 0s 6ms/step - loss: 0.0537 - val_loss: 0.0747\n",
            "Epoch 14/200\n",
            "65/65 [==============================] - 0s 5ms/step - loss: 0.0532 - val_loss: 0.0738\n",
            "Epoch 15/200\n",
            "65/65 [==============================] - 0s 6ms/step - loss: 0.0527 - val_loss: 0.0732\n",
            "Epoch 16/200\n",
            "65/65 [==============================] - 0s 6ms/step - loss: 0.0522 - val_loss: 0.0732\n",
            "Epoch 17/200\n",
            "65/65 [==============================] - 0s 6ms/step - loss: 0.0516 - val_loss: 0.0755\n",
            "Epoch 18/200\n",
            "65/65 [==============================] - 0s 5ms/step - loss: 0.0512 - val_loss: 0.0731\n",
            "Epoch 19/200\n",
            "65/65 [==============================] - 0s 6ms/step - loss: 0.0508 - val_loss: 0.0744\n",
            "Epoch 20/200\n",
            "65/65 [==============================] - 0s 6ms/step - loss: 0.0498 - val_loss: 0.0747\n",
            "Epoch 21/200\n",
            "65/65 [==============================] - 0s 5ms/step - loss: 0.0496 - val_loss: 0.0756\n",
            "Epoch 22/200\n",
            "65/65 [==============================] - 0s 6ms/step - loss: 0.0489 - val_loss: 0.0762\n",
            "Epoch 23/200\n",
            "65/65 [==============================] - 0s 6ms/step - loss: 0.0485 - val_loss: 0.0777\n"
          ]
        }
      ]
    },
    {
      "cell_type": "code",
      "source": [
        "# TSTR results from normal GAN\n",
        "syn_norm_predictions = ts_norm_syn.predict(test_real_x)\n",
        "r2_syn_norm = r2_score(test_real_y, syn_norm_predictions)\n",
        "mae_syn_norm = mean_absolute_error(test_real_y, syn_norm_predictions)\n",
        "mrle_syn_norm = mean_squared_log_error(test_real_y, syn_norm_predictions)\n",
        "print(r2_syn_norm)\n",
        "print(mae_syn_norm)\n",
        "print(mrle_syn_norm)"
      ],
      "metadata": {
        "colab": {
          "base_uri": "https://localhost:8080/"
        },
        "id": "jAG7VN6Wh7rS",
        "outputId": "3f869767-c896-4e9f-9cba-4a38dbea49f0"
      },
      "id": "jAG7VN6Wh7rS",
      "execution_count": null,
      "outputs": [
        {
          "output_type": "stream",
          "name": "stdout",
          "text": [
            "66/66 [==============================] - 0s 2ms/step\n",
            "0.7910057136947538\n",
            "0.07766508096440676\n",
            "0.0060364736203753514\n"
          ]
        }
      ]
    },
    {
      "cell_type": "code",
      "source": [
        "#Training the model with the synthetic data from TimeGAN\n",
        "ts_time_syn = RNN_regression(72)\n",
        "early_stopping = EarlyStopping(monitor='val_loss', patience=5)\n",
        "\n",
        "time_syn_train = ts_time_syn.fit(x=train_syn_time_x,\n",
        "                          y=train_syn_time_y,\n",
        "                          validation_data=(test_real_x, test_real_y),\n",
        "                          epochs=200,\n",
        "                          batch_size=128,\n",
        "                          callbacks=[early_stopping])"
      ],
      "metadata": {
        "colab": {
          "base_uri": "https://localhost:8080/"
        },
        "id": "4cquEbiphtHT",
        "outputId": "b8ead2b1-2b5d-417b-b9b8-12df33ffa5fc"
      },
      "id": "4cquEbiphtHT",
      "execution_count": null,
      "outputs": [
        {
          "output_type": "stream",
          "name": "stdout",
          "text": [
            "Epoch 1/200\n",
            "65/65 [==============================] - 3s 12ms/step - loss: 0.1549 - val_loss: 0.1915\n",
            "Epoch 2/200\n",
            "65/65 [==============================] - 0s 6ms/step - loss: 0.0936 - val_loss: 0.1139\n",
            "Epoch 3/200\n",
            "65/65 [==============================] - 0s 5ms/step - loss: 0.0464 - val_loss: 0.0946\n",
            "Epoch 4/200\n",
            "65/65 [==============================] - 0s 6ms/step - loss: 0.0356 - val_loss: 0.0932\n",
            "Epoch 5/200\n",
            "65/65 [==============================] - 0s 6ms/step - loss: 0.0319 - val_loss: 0.0870\n",
            "Epoch 6/200\n",
            "65/65 [==============================] - 0s 6ms/step - loss: 0.0296 - val_loss: 0.0855\n",
            "Epoch 7/200\n",
            "65/65 [==============================] - 0s 6ms/step - loss: 0.0283 - val_loss: 0.0851\n",
            "Epoch 8/200\n",
            "65/65 [==============================] - 0s 6ms/step - loss: 0.0263 - val_loss: 0.0853\n",
            "Epoch 9/200\n",
            "65/65 [==============================] - 0s 6ms/step - loss: 0.0255 - val_loss: 0.0843\n",
            "Epoch 10/200\n",
            "65/65 [==============================] - 0s 6ms/step - loss: 0.0249 - val_loss: 0.0842\n",
            "Epoch 11/200\n",
            "65/65 [==============================] - 0s 6ms/step - loss: 0.0239 - val_loss: 0.0849\n",
            "Epoch 12/200\n",
            "65/65 [==============================] - 0s 6ms/step - loss: 0.0234 - val_loss: 0.0844\n",
            "Epoch 13/200\n",
            "65/65 [==============================] - 0s 5ms/step - loss: 0.0228 - val_loss: 0.0833\n",
            "Epoch 14/200\n",
            "65/65 [==============================] - 0s 5ms/step - loss: 0.0221 - val_loss: 0.0830\n",
            "Epoch 15/200\n",
            "65/65 [==============================] - 0s 5ms/step - loss: 0.0219 - val_loss: 0.0813\n",
            "Epoch 16/200\n",
            "65/65 [==============================] - 0s 5ms/step - loss: 0.0215 - val_loss: 0.0822\n",
            "Epoch 17/200\n",
            "65/65 [==============================] - 0s 5ms/step - loss: 0.0215 - val_loss: 0.0804\n",
            "Epoch 18/200\n",
            "65/65 [==============================] - 0s 5ms/step - loss: 0.0211 - val_loss: 0.0806\n",
            "Epoch 19/200\n",
            "65/65 [==============================] - 0s 5ms/step - loss: 0.0206 - val_loss: 0.0811\n",
            "Epoch 20/200\n",
            "65/65 [==============================] - 0s 5ms/step - loss: 0.0204 - val_loss: 0.0807\n",
            "Epoch 21/200\n",
            "65/65 [==============================] - 0s 5ms/step - loss: 0.0202 - val_loss: 0.0786\n",
            "Epoch 22/200\n",
            "65/65 [==============================] - 0s 5ms/step - loss: 0.0198 - val_loss: 0.0788\n",
            "Epoch 23/200\n",
            "65/65 [==============================] - 0s 5ms/step - loss: 0.0195 - val_loss: 0.0795\n",
            "Epoch 24/200\n",
            "65/65 [==============================] - 0s 5ms/step - loss: 0.0194 - val_loss: 0.0778\n",
            "Epoch 25/200\n",
            "65/65 [==============================] - 0s 5ms/step - loss: 0.0192 - val_loss: 0.0778\n",
            "Epoch 26/200\n",
            "65/65 [==============================] - 0s 5ms/step - loss: 0.0189 - val_loss: 0.0772\n",
            "Epoch 27/200\n",
            "65/65 [==============================] - 0s 5ms/step - loss: 0.0193 - val_loss: 0.0768\n",
            "Epoch 28/200\n",
            "65/65 [==============================] - 0s 5ms/step - loss: 0.0185 - val_loss: 0.0765\n",
            "Epoch 29/200\n",
            "65/65 [==============================] - 0s 5ms/step - loss: 0.0181 - val_loss: 0.0775\n",
            "Epoch 30/200\n",
            "65/65 [==============================] - 0s 6ms/step - loss: 0.0182 - val_loss: 0.0779\n",
            "Epoch 31/200\n",
            "65/65 [==============================] - 0s 5ms/step - loss: 0.0180 - val_loss: 0.0771\n",
            "Epoch 32/200\n",
            "65/65 [==============================] - 0s 5ms/step - loss: 0.0176 - val_loss: 0.0766\n",
            "Epoch 33/200\n",
            "65/65 [==============================] - 0s 5ms/step - loss: 0.0176 - val_loss: 0.0764\n",
            "Epoch 34/200\n",
            "65/65 [==============================] - 0s 6ms/step - loss: 0.0174 - val_loss: 0.0764\n",
            "Epoch 35/200\n",
            "65/65 [==============================] - 0s 5ms/step - loss: 0.0174 - val_loss: 0.0768\n",
            "Epoch 36/200\n",
            "65/65 [==============================] - 0s 5ms/step - loss: 0.0172 - val_loss: 0.0768\n",
            "Epoch 37/200\n",
            "65/65 [==============================] - 0s 5ms/step - loss: 0.0172 - val_loss: 0.0763\n",
            "Epoch 38/200\n",
            "65/65 [==============================] - 0s 5ms/step - loss: 0.0169 - val_loss: 0.0763\n",
            "Epoch 39/200\n",
            "65/65 [==============================] - 0s 6ms/step - loss: 0.0169 - val_loss: 0.0764\n",
            "Epoch 40/200\n",
            "65/65 [==============================] - 0s 6ms/step - loss: 0.0165 - val_loss: 0.0760\n",
            "Epoch 41/200\n",
            "65/65 [==============================] - 0s 6ms/step - loss: 0.0165 - val_loss: 0.0768\n",
            "Epoch 42/200\n",
            "65/65 [==============================] - 0s 6ms/step - loss: 0.0164 - val_loss: 0.0763\n",
            "Epoch 43/200\n",
            "65/65 [==============================] - 0s 5ms/step - loss: 0.0162 - val_loss: 0.0760\n",
            "Epoch 44/200\n",
            "65/65 [==============================] - 0s 6ms/step - loss: 0.0163 - val_loss: 0.0762\n",
            "Epoch 45/200\n",
            "65/65 [==============================] - 0s 6ms/step - loss: 0.0161 - val_loss: 0.0763\n",
            "Epoch 46/200\n",
            "65/65 [==============================] - 0s 6ms/step - loss: 0.0159 - val_loss: 0.0764\n",
            "Epoch 47/200\n",
            "65/65 [==============================] - 0s 6ms/step - loss: 0.0161 - val_loss: 0.0760\n",
            "Epoch 48/200\n",
            "65/65 [==============================] - 0s 5ms/step - loss: 0.0160 - val_loss: 0.0759\n",
            "Epoch 49/200\n",
            "65/65 [==============================] - 0s 5ms/step - loss: 0.0158 - val_loss: 0.0765\n",
            "Epoch 50/200\n",
            "65/65 [==============================] - 0s 5ms/step - loss: 0.0155 - val_loss: 0.0769\n",
            "Epoch 51/200\n",
            "65/65 [==============================] - 0s 5ms/step - loss: 0.0157 - val_loss: 0.0756\n",
            "Epoch 52/200\n",
            "65/65 [==============================] - 0s 6ms/step - loss: 0.0155 - val_loss: 0.0761\n",
            "Epoch 53/200\n",
            "65/65 [==============================] - 0s 5ms/step - loss: 0.0156 - val_loss: 0.0762\n",
            "Epoch 54/200\n",
            "65/65 [==============================] - 0s 5ms/step - loss: 0.0157 - val_loss: 0.0764\n",
            "Epoch 55/200\n",
            "65/65 [==============================] - 0s 5ms/step - loss: 0.0153 - val_loss: 0.0762\n",
            "Epoch 56/200\n",
            "65/65 [==============================] - 0s 5ms/step - loss: 0.0153 - val_loss: 0.0764\n"
          ]
        }
      ]
    },
    {
      "cell_type": "code",
      "source": [
        "# TSTR results from TimeGAN\n",
        "syn_time_predictions = ts_time_syn.predict(test_real_x)\n",
        "r2_syn_time = r2_score(test_real_y, syn_time_predictions)\n",
        "mae_syn_time = mean_absolute_error(test_real_y, syn_time_predictions)\n",
        "mrle_syn_time = mean_squared_log_error(test_real_y, syn_time_predictions)\n",
        "print(r2_syn_time)\n",
        "print(mae_syn_time)\n",
        "print(mrle_syn_time)"
      ],
      "metadata": {
        "colab": {
          "base_uri": "https://localhost:8080/"
        },
        "id": "1YUIs9UPhvVS",
        "outputId": "3c0891f4-688a-4e1b-9548-0819e4b1ef73"
      },
      "id": "1YUIs9UPhvVS",
      "execution_count": null,
      "outputs": [
        {
          "output_type": "stream",
          "name": "stdout",
          "text": [
            "66/66 [==============================] - 0s 2ms/step\n",
            "0.7867301222886076\n",
            "0.07638182573847328\n",
            "0.005834738560644492\n"
          ]
        }
      ]
    },
    {
      "cell_type": "markdown",
      "source": [
        "visualization of real and synthetic data"
      ],
      "metadata": {
        "id": "JlS1kKmviBf4"
      },
      "id": "JlS1kKmviBf4"
    },
    {
      "cell_type": "code",
      "source": [
        "cols = 'blood glucose (Patient 591)'\n",
        "\n",
        "df = pd.DataFrame({'Real': real_ori[10], 'Synthetic_normGAN': synth_normgan_nonnorm[10], 'Synthetic_TimeGAN': synth_timegan_nonnorm[7][0][10][:, 0]})\n",
        "df.plot(title = cols,\n",
        "        secondary_y='Synthetic data', style=['-'])"
      ],
      "metadata": {
        "colab": {
          "base_uri": "https://localhost:8080/",
          "height": 470
        },
        "id": "13Qmf-zsiE14",
        "outputId": "cc744461-6336-4a22-fb47-dc2f7b4b9f09"
      },
      "id": "13Qmf-zsiE14",
      "execution_count": null,
      "outputs": [
        {
          "output_type": "execute_result",
          "data": {
            "text/plain": [
              "<Axes: title={'center': 'blood glucose (Patient 591)'}>"
            ]
          },
          "metadata": {},
          "execution_count": 64
        },
        {
          "output_type": "display_data",
          "data": {
            "text/plain": [
              "<Figure size 640x480 with 1 Axes>"
            ],
            "image/png": "[encoded data removed]"
          },
          "metadata": {}
        }
      ]
    },
    {
      "cell_type": "code",
      "source": [
        "cols = 'blood glucose (Patient 591)'\n",
        "\n",
        "df = pd.DataFrame({'Real': real_ori[25], 'Synthetic_normGAN': synth_normgan_nonnorm[25], 'Synthetic_TimeGAN': synth_timegan_nonnorm[7][0][25][:, 0]})\n",
        "df.plot(title = cols,\n",
        "        secondary_y='Synthetic data', style=['-'])"
      ],
      "metadata": {
        "colab": {
          "base_uri": "https://localhost:8080/",
          "height": 470
        },
        "id": "dpgcT6EfiOxh",
        "outputId": "5ab8612d-d169-49a1-eeea-40720f3bf707"
      },
      "id": "dpgcT6EfiOxh",
      "execution_count": null,
      "outputs": [
        {
          "output_type": "execute_result",
          "data": {
            "text/plain": [
              "<Axes: title={'center': 'blood glucose (Patient 591)'}>"
            ]
          },
          "metadata": {},
          "execution_count": 65
        },
        {
          "output_type": "display_data",
          "data": {
            "text/plain": [
              "<Figure size 640x480 with 1 Axes>"
            ],
            "image/png": "[encoded data removed]"
          },
          "metadata": {}
        }
      ]
    },
    {
      "cell_type": "code",
      "source": [
        "cols = 'blood glucose (Patient 591)'\n",
        "\n",
        "df = pd.DataFrame({'Real': real_ori[33], 'Synthetic_normGAN': synth_normgan_nonnorm[33], 'Synthetic_TimeGAN': synth_timegan_nonnorm[7][0][33][:, 0]})\n",
        "df.plot(title = cols,\n",
        "        secondary_y='Synthetic data', style=['-'])"
      ],
      "metadata": {
        "colab": {
          "base_uri": "https://localhost:8080/",
          "height": 470
        },
        "id": "HFMqtlZBiR4Q",
        "outputId": "203a7ea6-4c76-4fec-8eee-987d01143f6d"
      },
      "id": "HFMqtlZBiR4Q",
      "execution_count": null,
      "outputs": [
        {
          "output_type": "execute_result",
          "data": {
            "text/plain": [
              "<Axes: title={'center': 'blood glucose (Patient 591)'}>"
            ]
          },
          "metadata": {},
          "execution_count": 66
        },
        {
          "output_type": "display_data",
          "data": {
            "text/plain": [
              "<Figure size 640x480 with 1 Axes>"
            ],
            "image/png": "[encoded data removed]"
          },
          "metadata": {}
        }
      ]
    },
    {
      "cell_type": "markdown",
      "source": [
        "JS distance and DTW"
      ],
      "metadata": {
        "id": "ysuCul4NiUp7"
      },
      "id": "ysuCul4NiUp7"
    },
    {
      "cell_type": "code",
      "source": [
        "# Wilcoxon test\n",
        "res_normgan = wilcoxon(synth_normgan_nonnorm, real_ori, alternative = 'two-sided', zero_method='wilcox')\n",
        "res_timegan = wilcoxon([synth_timegan_nonnorm[7][0][i][:,0] for i in range(49)], real_ori, alternative = 'two-sided', zero_method='wilcox')\n",
        "print('Normal GAN Wiloxon test: {}'.format(mean(res_normgan.pvalue.flatten())))\n",
        "print('TimeGAN Wiloxon test: {}'.format(mean(res_timegan.pvalue.flatten())))\n",
        "\n",
        "# JS distance\n",
        "dis_normgan = distance.jensenshannon(synth_normgan_nonnorm, real_ori, axis=1)\n",
        "dis_timegan = distance.jensenshannon([synth_timegan_nonnorm[7][0][i][:,0] for i in range(49)], real_ori, axis=1)\n",
        "print('Normal JS distance: {}'.format(mean(dis_normgan.flatten())))\n",
        "print('TimeGAN JS distance: {}'.format(mean(dis_timegan.flatten())))\n",
        "\n",
        "# Eculidean distance\n",
        "e_dis_norm = [math.dist(synth_normgan_norm[i], glucose_591[i]) for i in range(len(real_ori))]\n",
        "e_dis_time = [math.dist([synth_timegan_norm[7][0][j][:,0] for j in range(49)][i], glucose_591[i]) for i in range(len(real_ori))]\n",
        "print('Normal Eculidean distance: {}'.format(mean(e_dis_norm)))\n",
        "print('TimeGAN Eculidean distance: {}'.format(mean(e_dis_time)))"
      ],
      "metadata": {
        "colab": {
          "base_uri": "https://localhost:8080/"
        },
        "id": "QS9CY-AyiXRu",
        "outputId": "9115bfd8-0b70-4b14-e110-d710f6776ce5"
      },
      "id": "QS9CY-AyiXRu",
      "execution_count": null,
      "outputs": [
        {
          "output_type": "stream",
          "name": "stdout",
          "text": [
            "Normal GAN Wiloxon test: 0.13854888782449534\n",
            "TimeGAN Wiloxon test: 0.34831827370385166\n",
            "Normal JS distance: 0.13728270787287275\n",
            "TimeGAN JS distance: 0.15772638982638804\n",
            "Normal Eculidean distance: 4.748279194161136\n",
            "TimeGAN Eculidean distance: 4.993954659251352\n"
          ]
        }
      ]
    },
    {
      "cell_type": "code",
      "source": [
        "# DTW\n",
        "dtw_normgan = []\n",
        "dtw_timegan = []\n",
        "for i in range(len(real_ori)):\n",
        "  dtw_normgan.append(dtw.distance(synth_normgan_norm[i], glucose_591[i]))\n",
        "  dtw_timegan.append(dtw.distance([synth_timegan_norm[7][0][i][:,0] for i in range(49)][i], glucose_591[i]))\n",
        "\n",
        "print('Normal DTW distance: {}'.format(mean(dtw_normgan)))\n",
        "print('TimeGAN DTW distance: {}'.format(mean(dtw_timegan)))"
      ],
      "metadata": {
        "colab": {
          "base_uri": "https://localhost:8080/"
        },
        "id": "IedQIBQyidEv",
        "outputId": "4f4f17bc-a39e-4904-f542-db8e2e60c68b"
      },
      "id": "IedQIBQyidEv",
      "execution_count": null,
      "outputs": [
        {
          "output_type": "stream",
          "name": "stdout",
          "text": [
            "Normal DTW distance: 2.488818974336171\n",
            "TimeGAN DTW distance: 2.86507186286997\n"
          ]
        }
      ]
    },
    {
      "cell_type": "markdown",
      "source": [
        "visualization of PCA and t-SNE"
      ],
      "metadata": {
        "id": "cEyCOR0SiiGn"
      },
      "id": "cEyCOR0SiiGn"
    },
    {
      "cell_type": "code",
      "source": [
        "sample_size = 49\n",
        "idx = np.random.permutation(len(real_ori))[:sample_size]\n",
        "\n",
        "real_sample = np.asarray(real_ori)[idx]\n",
        "\n",
        "synthetic_sample_norm = np.asarray(synth_normgan_nonnorm)[idx]\n",
        "\n",
        "synth_data_reduced = real_sample.reshape(-1, 288)\n",
        "patient_data_reduced_norm = np.asarray(synthetic_sample_norm).reshape(-1,288)\n",
        "\n",
        "n_components = 2\n",
        "pca = PCA(n_components=n_components)\n",
        "tsne = TSNE(n_components=n_components, n_iter=300)\n",
        "\n",
        "#The fit of the methods must be done only using the real sequential data\n",
        "pca.fit(synth_data_reduced)\n",
        "\n",
        "pca_real = pd.DataFrame(pca.transform(synth_data_reduced))\n",
        "pca_synth_norm = pd.DataFrame(pca.transform(patient_data_reduced_norm))\n",
        "\n",
        "data_reduced = np.concatenate((synth_data_reduced, patient_data_reduced_norm), axis=0)\n",
        "tsne_results = pd.DataFrame(tsne.fit_transform(data_reduced))"
      ],
      "metadata": {
        "id": "iD-NqTDCilWl"
      },
      "id": "iD-NqTDCilWl",
      "execution_count": null,
      "outputs": []
    },
    {
      "cell_type": "code",
      "source": [
        "fig = plt.figure(constrained_layout=True, figsize=(15,8))\n",
        "spec = gridspec.GridSpec(ncols=2, nrows=1, figure=fig)\n",
        "\n",
        "#TSNE scatter plot\n",
        "ax = fig.add_subplot(spec[0,0])\n",
        "ax.set_title('PCA results',\n",
        "             fontsize=20,\n",
        "             pad=10)\n",
        "\n",
        "#PCA scatter plot\n",
        "plt.scatter(pca_real.iloc[:, 0].values, pca_real.iloc[:,1].values,\n",
        "            c='black', alpha=0.2, label='Original')\n",
        "plt.scatter(pca_synth_norm.iloc[:,0], pca_synth_norm.iloc[:,1],\n",
        "            c='red', alpha=0.2, label='Synthetic_normGAN')\n",
        "\n",
        "ax.legend()\n",
        "\n",
        "ax2 = fig.add_subplot(spec[0,1])\n",
        "ax2.set_title('TSNE results',\n",
        "              fontsize=20)\n",
        "\n",
        "plt.scatter(tsne_results.iloc[:sample_size, 0].values, tsne_results.iloc[:sample_size,1].values,\n",
        "            c='black', alpha=0.2, label='Original')\n",
        "plt.scatter(tsne_results.iloc[sample_size:,0], tsne_results.iloc[sample_size:,1],\n",
        "            c='red', alpha=0.2, label='Synthetic_norm')\n",
        "\n",
        "ax2.legend()\n",
        "\n",
        "#fig.suptitle('Validating synthetic vs real data diversity and distributions',\n",
        "#             fontsize=16)"
      ],
      "metadata": {
        "colab": {
          "base_uri": "https://localhost:8080/",
          "height": 458
        },
        "id": "VNvsVI7z1bk5",
        "outputId": "1eed8691-6ab0-47ff-c47d-bb3bd682332a"
      },
      "id": "VNvsVI7z1bk5",
      "execution_count": null,
      "outputs": [
        {
          "output_type": "execute_result",
          "data": {
            "text/plain": [
              "<matplotlib.legend.Legend at 0x7fb819ec9690>"
            ]
          },
          "metadata": {},
          "execution_count": 70
        },
        {
          "output_type": "display_data",
          "data": {
            "text/plain": [
              "<Figure size 1500x800 with 2 Axes>"
            ],
            "image/png": "[encoded data removed]"
          },
          "metadata": {}
        }
      ]
    },
    {
      "cell_type": "code",
      "source": [
        "sample_size = 49\n",
        "idx = np.random.permutation(len(real_ori))[:sample_size]\n",
        "\n",
        "real_sample = np.asarray(real_ori)[idx]\n",
        "\n",
        "synthetic_sample_timegan = np.asarray([synth_timegan_nonnorm[7][0][i][:,0] for i in range(55)])[idx]\n",
        "\n",
        "synth_data_reduced = real_sample.reshape(-1, 288)\n",
        "patient_data_reduced_timegan = np.asarray(synthetic_sample_timegan).reshape(-1,288)\n",
        "\n",
        "n_components = 2\n",
        "pca = PCA(n_components=n_components)\n",
        "tsne = TSNE(n_components=n_components, n_iter=300)\n",
        "\n",
        "#The fit of the methods must be done only using the real sequential data\n",
        "pca.fit(synth_data_reduced)\n",
        "\n",
        "pca_real = pd.DataFrame(pca.transform(synth_data_reduced))\n",
        "pca_synth_timegan = pd.DataFrame(pca.transform(patient_data_reduced_timegan))\n",
        "\n",
        "data_reduced = np.concatenate((synth_data_reduced, patient_data_reduced_timegan), axis=0)\n",
        "tsne_results = pd.DataFrame(tsne.fit_transform(data_reduced))"
      ],
      "metadata": {
        "id": "Jd77K2QJc74V"
      },
      "id": "Jd77K2QJc74V",
      "execution_count": null,
      "outputs": []
    },
    {
      "cell_type": "code",
      "source": [
        "fig = plt.figure(constrained_layout=True, figsize=(15,8))\n",
        "spec = gridspec.GridSpec(ncols=2, nrows=1, figure=fig)\n",
        "\n",
        "#TSNE scatter plot\n",
        "ax = fig.add_subplot(spec[0,0])\n",
        "ax.set_title('PCA results',\n",
        "             fontsize=20)\n",
        "\n",
        "#PCA scatter plot\n",
        "plt.scatter(pca_real.iloc[:, 0].values, pca_real.iloc[:,1].values,\n",
        "            c='black', alpha=0.2, label='Original')\n",
        "plt.scatter(pca_synth_timegan.iloc[:,0], pca_synth_timegan.iloc[:,1],\n",
        "            c='red', alpha=0.2, label='Synthetic_timeGAN')\n",
        "\n",
        "ax.legend()\n",
        "\n",
        "ax2 = fig.add_subplot(spec[0,1])\n",
        "ax2.set_title('TSNE results',\n",
        "              fontsize=20)\n",
        "\n",
        "plt.scatter(tsne_results.iloc[:sample_size, 0].values, tsne_results.iloc[:sample_size,1].values,\n",
        "            c='black', alpha=0.2, label='Original')\n",
        "plt.scatter(tsne_results.iloc[sample_size:,0], tsne_results.iloc[sample_size:,1],\n",
        "            c='red', alpha=0.2, label='Synthetic')\n",
        "\n",
        "ax2.legend()\n",
        "\n",
        "#fig.suptitle('Validating synthetic vs real data diversity and distributions',\n",
        "#             fontsize=16)"
      ],
      "metadata": {
        "colab": {
          "base_uri": "https://localhost:8080/",
          "height": 458
        },
        "id": "PByIVw4TjESp",
        "outputId": "dbd42757-c3c5-4de7-e094-c6da7c52d779"
      },
      "id": "PByIVw4TjESp",
      "execution_count": null,
      "outputs": [
        {
          "output_type": "execute_result",
          "data": {
            "text/plain": [
              "<matplotlib.legend.Legend at 0x7fb819ce3c10>"
            ]
          },
          "metadata": {},
          "execution_count": 72
        },
        {
          "output_type": "display_data",
          "data": {
            "text/plain": [
              "<Figure size 1500x800 with 2 Axes>"
            ],
            "image/png": "[encoded data removed]"
          },
          "metadata": {}
        }
      ]
    },
    {
      "cell_type": "code",
      "source": [],
      "metadata": {
        "id": "QcuowhvClGtf"
      },
      "id": "QcuowhvClGtf",
      "execution_count": null,
      "outputs": []
    }
  ],
  "metadata": {
    "kernelspec": {
      "display_name": "Python 3 (ipykernel)",
      "language": "python",
      "name": "python3"
    },
    "language_info": {
      "codemirror_mode": {
        "name": "ipython",
        "version": 3
      },
      "file_extension": ".py",
      "mimetype": "text/x-python",
      "name": "python",
      "nbconvert_exporter": "python",
      "pygments_lexer": "ipython3",
      "version": "3.9.13"
    },
    "colab": {
      "provenance": [],
      "machine_shape": "hm",
      "gpuType": "A100",
      "gpuClass": "premium"
    },
    "gpuClass": "premium",
    "accelerator": "GPU"
  },
  "nbformat": 4,
  "nbformat_minor": 5
}